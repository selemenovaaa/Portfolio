{
 "cells": [
  {
   "cell_type": "markdown",
   "metadata": {
    "id": "4mJbK1knrJgz"
   },
   "source": [
    "# Проект: Исследование стартапов"
   ]
  },
  {
   "cell_type": "markdown",
   "metadata": {
    "id": "8lQtbsIUyFG6"
   },
   "source": [
    "### Цели и задачи проекта\n",
    "\n",
    "__Цель__ - Подготовить датасет и проверить данные на адекватность, ответить на вопросы о предобработке и о значении данных для бизнеса.\n",
    "\n",
    "__Задачи - ответить на следующие вопросы заказчика:__\n",
    "- по каким столбцам можно объединять данные из разных таблиц;\n",
    "- можно ли доверять данным о сотрудниках стартапов и их образовании;\n",
    "- что означают покупки за 0 или за 1 доллар;\n",
    "- какая цена в зависимости от категории стартапов и количества раундов финансирования перед его покупкой;\n",
    "- как рассчитать и отобразить численные показатели и динамику."
   ]
  },
  {
   "cell_type": "markdown",
   "metadata": {},
   "source": [
    "###  Описание данных\n",
    "В анализе использованы следующие датасеты:\n",
    "- company_and_rounds.csv\n",
    "- acquisition.csv\n",
    "- people.csv\n",
    "- education.csv\n",
    "- degrees.csv\n",
    "\n",
    "<div style=\"max-height:300px; overflow:auto; border:1px solid #ddd; padding:10px;\">\n",
    "    Таблица <b>acquisition</b><br>\n",
    "Содержит информацию о покупках одними компаниями других компаний:<br>\n",
    "- id — идентификатор покупки.<br>\n",
    "- acquiring_company_id — идентификатор покупающей компании.<br>\n",
    "- acquired_company_id — идентификатор покупаемой компании.<br>\n",
    "- term_code — варианты расчёта.<br>\n",
    "- price_amount — сумма сделки.<br>\n",
    "- acquired_at — дата сделки.<br><br>\n",
    "    Таблица <b>company_and_rounds</b><br>\n",
    "Содержит информацию о компаниях и раундах финансирования:<br>\n",
    "- company ID — идентификатор компании.<br>\n",
    "- name — название компании.<br>\n",
    "- category code — категория области деятельности компании.<br>\n",
    "- status — статус компании.<br>\n",
    "- founded at — дата инвестирования.<br>\n",
    "- closed at — дата закрытия компании.<br>\n",
    "- domain — официальный сайт компании.<br>\n",
    "- network username — ник компании в сети.<br>\n",
    "- country code — код страны компании.<br>\n",
    "- investment rounds — число инвестиционных раундов.<br>\n",
    "- funding rounds — число раундов финансирования.<br>\n",
    "- funding total — сумма финансирования.<br>\n",
    "- milestones — вехи финансирования.<br>\n",
    "- funding round id — идентификатор этапа финансирования.<br>\n",
    "- company id — идентификатор компании.<br>\n",
    "- funded at — дата финансирования.<br>\n",
    "- funding round type — тип финансирования.<br>\n",
    "- raised amount — сумма финансирования.<br>\n",
    "- pre money valuation — предварительная денежная оценка.<br>\n",
    "- participants — число участников.<br>\n",
    "- is first round — является ли раунд первым.<br>\n",
    "- is last round — является раунд последним.<br><br>\n",
    "    Таблица <b>education</b><br>\n",
    "Содержит информацию об образовании сотрудника:<br>\n",
    "- id — идентификатор записи об образовании.<br>\n",
    "- person_id — идентификатор работника.<br>\n",
    "- instituition — название учебного заведения.<br>\n",
    "- graduated_at — дата получения образования.<br><br>\n",
    "    Таблица <b>people</b><br>\n",
    "Содержит информацию о сотрудниках:<br>\n",
    "- id — идентификатор сотрудника.<br>\n",
    "- first_name — имя сотрудника.<br>\n",
    "- last_name — фамилия сотрудника.<br>\n",
    "- company_id — идентификатор компании.<br>\n",
    "- network_username — ник в социальных сетях.<br><br>\n",
    "    Таблица <b>degrees</b><br>\n",
    "Содержит информацию о типе образования сотрудника:<br>\n",
    "- id — идентификатор записи.<br>\n",
    "- object_id — идентификатор сотрудника.<br>\n",
    "- degree_type — тип образования.<br>\n",
    "- subject — специальность.<br>\n",
    "</div>"
   ]
  },
  {
   "cell_type": "markdown",
   "metadata": {},
   "source": [
    "### Содержимое проекта\n",
    "- 1   Шаг 1. Знакомство с данными: загрузка и первичная предобработка\n",
    "- 1.1 Вывод общей информации, исправление названия столбцов\n",
    "- 1.2 Смена типов и анализ пропусков\n",
    "- 2   Шаг 2. Предобработка данных, предварительное исследование\n",
    "- 2.1 Раунды финансирования по годам\n",
    "- 2.2 Люди и их образование\n",
    "- 2.3 Объединять или не объединять — вот в чём вопрос\n",
    "- 2.4 Проблемный датасет и причина возникновения пропусков\n",
    "- 3   Шаг 3. Исследовательский анализ объединённых таблиц\n",
    "- 3.1 Объединение данных\n",
    "- 3.2 Анализ выбросов\n",
    "- 3.3 Куплены забесплатно?\n",
    "- 3.4 Цены стартапов по категориям\n",
    "- 3.5 Сколько раундов продержится стартап перед покупкой\n",
    "- 4   Шаг 4. Итоговый вывод и рекомендации"
   ]
  },
  {
   "cell_type": "markdown",
   "metadata": {
    "id": "xqr6uttCrJg0"
   },
   "source": [
    "\n",
    "## Шаг 1. Знакомство с данными: загрузка и первичная предобработка\n",
    "### 1.1. Вывод общей информации, исправление названия столбцов"
   ]
  },
  {
   "cell_type": "code",
   "execution_count": null,
   "metadata": {
    "scrolled": true
   },
   "outputs": [],
   "source": [
    "!pip install phik"
   ]
  },
  {
   "cell_type": "code",
   "execution_count": 2,
   "metadata": {},
   "outputs": [],
   "source": [
    "# импортируем необходимые библиотеки\n",
    "import pandas as pd\n",
    "import seaborn as sns\n",
    "import matplotlib.pyplot as plt\n",
    "from phik import phik_matrix\n",
    "import warnings\n",
    "warnings.filterwarnings(\"ignore\")  "
   ]
  },
  {
   "cell_type": "code",
   "execution_count": 3,
   "metadata": {},
   "outputs": [],
   "source": [
    "# Отображение всех столбцов без \"...\"\n",
    "pd.set_option('display.max_columns', None)"
   ]
  },
  {
   "cell_type": "code",
   "execution_count": 4,
   "metadata": {},
   "outputs": [],
   "source": [
    "# Загружаем необходимые файлы для работы\n",
    "df_acquisition = pd.read_csv('https://code.s3.yandex.net/datasets/acquisition.csv')\n",
    "df_company_and_rounds = pd.read_csv('https://code.s3.yandex.net/datasets/company_and_rounds.csv')\n",
    "df_people = pd.read_csv('https://code.s3.yandex.net/datasets/people.csv')\n",
    "df_education = pd.read_csv('https://code.s3.yandex.net/datasets/education.csv')\n",
    "df_degrees = pd.read_csv('https://code.s3.yandex.net/datasets/degrees.csv')\n",
    "\n",
    "# Загружаем дополнительные файлы для работы\n",
    "df_fund = pd.read_csv('https://code.s3.yandex.net/datasets/fund.csv')\n",
    "df_investment = pd.read_csv('https://code.s3.yandex.net/datasets/investment.csv')"
   ]
  },
  {
   "cell_type": "code",
   "execution_count": 5,
   "metadata": {},
   "outputs": [],
   "source": [
    "# Создадим словарь с основными файлами\n",
    "dictionary_df={\n",
    "         'df_acquisition':df_acquisition,\n",
    "         'df_company_and_rounds':df_company_and_rounds,\n",
    "         'df_people':df_people,\n",
    "         'df_education':df_education,\n",
    "         'df_degrees':df_degrees\n",
    "}"
   ]
  },
  {
   "cell_type": "code",
   "execution_count": 6,
   "metadata": {
    "id": "2Tm4Pk__Felf"
   },
   "outputs": [
    {
     "name": "stdout",
     "output_type": "stream",
     "text": [
      "Столбцы файла \u001b[1mdf_acquisition\u001b[0m: ['id', 'acquiring_company_id', 'acquired_company_id', 'term_code', 'price_amount', 'acquired_at']\n",
      "Столбцы файла \u001b[1mdf_company_and_rounds\u001b[0m: ['company  ID', 'name', 'category  code', 'status', 'founded  at', 'closed  at', 'domain', 'network  username', 'country  code', 'investment  rounds', 'funding  rounds', 'funding  total', 'milestones', 'funding  round  id', 'company  id', 'funded  at', 'funding  round  type', 'raised  amount', 'pre  money  valuation', 'participants', 'is  first  round', 'is  last  round']\n",
      "Столбцы файла \u001b[1mdf_people\u001b[0m: ['id', 'first_name', 'last_name', 'company_id', 'network_username']\n",
      "Столбцы файла \u001b[1mdf_education\u001b[0m: ['id', 'person_id', 'instituition', 'graduated_at']\n",
      "Столбцы файла \u001b[1mdf_degrees\u001b[0m: ['id', 'object_id', 'degree_type', 'subject']\n"
     ]
    }
   ],
   "source": [
    "# Проверим названия столбцов в основных файлах\n",
    "for name, df in dictionary_df.items():\n",
    "    print(f'Столбцы файла \\033[1m{name}\\033[0m: {list(df.columns)}')"
   ]
  },
  {
   "cell_type": "code",
   "execution_count": 7,
   "metadata": {},
   "outputs": [
    {
     "name": "stdout",
     "output_type": "stream",
     "text": [
      "\u001b[1mСтолбцы файла company_and_rounds:\u001b[0m ['company__id', 'name', 'category__code', 'status', 'founded__at', 'closed__at', 'domain', 'network__username', 'country__code', 'investment__rounds', 'funding__rounds', 'funding__total', 'milestones', 'funding__round__id', 'company__id', 'funded__at', 'funding__round__type', 'raised__amount', 'pre__money__valuation', 'participants', 'is__first__round', 'is__last__round']\n",
      "\u001b[1mСтолбцы файла company_and_rounds после второго изменения:\u001b[0m ['company_id', 'name', 'category_code', 'status', 'founded_at', 'closed_at', 'domain', 'network_username', 'country_code', 'investment_rounds', 'funding_rounds', 'funding_total', 'milestones', 'funding_round_id', 'company_id', 'funded_at', 'funding_round_type', 'raised_amount', 'pre_money_valuation', 'participants', 'is_first_round', 'is_last_round']\n"
     ]
    }
   ],
   "source": [
    "# Приведем названия столбцов в файле company_and_round к snake_case\n",
    "df_company_and_rounds.columns=df_company_and_rounds.columns.str.lower().str.replace(' ', '_')\n",
    "# Проверим изменения\n",
    "print(f'\\033[1mСтолбцы файла company_and_rounds:\\033[0m {list(df_company_and_rounds.columns)}')\n",
    "#В некоторых случаях из-за двойных пробелов получилось двойное подчеркивание, исправим:\n",
    "df_company_and_rounds.columns=df_company_and_rounds.columns.str.lower().str.replace('__', '_')\n",
    "# Проверим изменения\n",
    "print(f'\\033[1mСтолбцы файла company_and_rounds после второго изменения:\\033[0m {list(df_company_and_rounds.columns)}')"
   ]
  },
  {
   "cell_type": "code",
   "execution_count": 8,
   "metadata": {
    "scrolled": true
   },
   "outputs": [
    {
     "name": "stdout",
     "output_type": "stream",
     "text": [
      "\n",
      "\n",
      " df_acquisition\n"
     ]
    },
    {
     "data": {
      "text/html": [
       "<div>\n",
       "<style scoped>\n",
       "    .dataframe tbody tr th:only-of-type {\n",
       "        vertical-align: middle;\n",
       "    }\n",
       "\n",
       "    .dataframe tbody tr th {\n",
       "        vertical-align: top;\n",
       "    }\n",
       "\n",
       "    .dataframe thead th {\n",
       "        text-align: right;\n",
       "    }\n",
       "</style>\n",
       "<table border=\"1\" class=\"dataframe\">\n",
       "  <thead>\n",
       "    <tr style=\"text-align: right;\">\n",
       "      <th></th>\n",
       "      <th>id</th>\n",
       "      <th>acquiring_company_id</th>\n",
       "      <th>acquired_company_id</th>\n",
       "      <th>term_code</th>\n",
       "      <th>price_amount</th>\n",
       "      <th>acquired_at</th>\n",
       "    </tr>\n",
       "  </thead>\n",
       "  <tbody>\n",
       "    <tr>\n",
       "      <th>0</th>\n",
       "      <td>1</td>\n",
       "      <td>11</td>\n",
       "      <td>10</td>\n",
       "      <td>NaN</td>\n",
       "      <td>20000000</td>\n",
       "      <td>2007-05-30</td>\n",
       "    </tr>\n",
       "    <tr>\n",
       "      <th>1</th>\n",
       "      <td>7</td>\n",
       "      <td>59</td>\n",
       "      <td>72</td>\n",
       "      <td>cash</td>\n",
       "      <td>60000000</td>\n",
       "      <td>2007-07-01</td>\n",
       "    </tr>\n",
       "    <tr>\n",
       "      <th>2</th>\n",
       "      <td>8</td>\n",
       "      <td>24</td>\n",
       "      <td>132</td>\n",
       "      <td>cash</td>\n",
       "      <td>280000000</td>\n",
       "      <td>2007-05-01</td>\n",
       "    </tr>\n",
       "    <tr>\n",
       "      <th>3</th>\n",
       "      <td>9</td>\n",
       "      <td>59</td>\n",
       "      <td>155</td>\n",
       "      <td>cash</td>\n",
       "      <td>100000000</td>\n",
       "      <td>2007-06-01</td>\n",
       "    </tr>\n",
       "    <tr>\n",
       "      <th>4</th>\n",
       "      <td>10</td>\n",
       "      <td>212</td>\n",
       "      <td>215</td>\n",
       "      <td>cash</td>\n",
       "      <td>25000000</td>\n",
       "      <td>2007-07-01</td>\n",
       "    </tr>\n",
       "  </tbody>\n",
       "</table>\n",
       "</div>"
      ],
      "text/plain": [
       "   id  acquiring_company_id  acquired_company_id term_code  price_amount  \\\n",
       "0   1                    11                   10       NaN      20000000   \n",
       "1   7                    59                   72      cash      60000000   \n",
       "2   8                    24                  132      cash     280000000   \n",
       "3   9                    59                  155      cash     100000000   \n",
       "4  10                   212                  215      cash      25000000   \n",
       "\n",
       "  acquired_at  \n",
       "0  2007-05-30  \n",
       "1  2007-07-01  \n",
       "2  2007-05-01  \n",
       "3  2007-06-01  \n",
       "4  2007-07-01  "
      ]
     },
     "metadata": {},
     "output_type": "display_data"
    },
    {
     "name": "stdout",
     "output_type": "stream",
     "text": [
      "------------------------------------------------------------------------------------------------------------------------\n",
      "\n",
      "\n",
      " df_company_and_rounds\n"
     ]
    },
    {
     "data": {
      "text/html": [
       "<div>\n",
       "<style scoped>\n",
       "    .dataframe tbody tr th:only-of-type {\n",
       "        vertical-align: middle;\n",
       "    }\n",
       "\n",
       "    .dataframe tbody tr th {\n",
       "        vertical-align: top;\n",
       "    }\n",
       "\n",
       "    .dataframe thead th {\n",
       "        text-align: right;\n",
       "    }\n",
       "</style>\n",
       "<table border=\"1\" class=\"dataframe\">\n",
       "  <thead>\n",
       "    <tr style=\"text-align: right;\">\n",
       "      <th></th>\n",
       "      <th>company_id</th>\n",
       "      <th>name</th>\n",
       "      <th>category_code</th>\n",
       "      <th>status</th>\n",
       "      <th>founded_at</th>\n",
       "      <th>closed_at</th>\n",
       "      <th>domain</th>\n",
       "      <th>network_username</th>\n",
       "      <th>country_code</th>\n",
       "      <th>investment_rounds</th>\n",
       "      <th>funding_rounds</th>\n",
       "      <th>funding_total</th>\n",
       "      <th>milestones</th>\n",
       "      <th>funding_round_id</th>\n",
       "      <th>company_id</th>\n",
       "      <th>funded_at</th>\n",
       "      <th>funding_round_type</th>\n",
       "      <th>raised_amount</th>\n",
       "      <th>pre_money_valuation</th>\n",
       "      <th>participants</th>\n",
       "      <th>is_first_round</th>\n",
       "      <th>is_last_round</th>\n",
       "    </tr>\n",
       "  </thead>\n",
       "  <tbody>\n",
       "    <tr>\n",
       "      <th>0</th>\n",
       "      <td>1.0</td>\n",
       "      <td>Wetpaint</td>\n",
       "      <td>web</td>\n",
       "      <td>operating</td>\n",
       "      <td>2005-10-17</td>\n",
       "      <td>NaN</td>\n",
       "      <td>wetpaint-inc.com</td>\n",
       "      <td>BachelrWetpaint</td>\n",
       "      <td>USA</td>\n",
       "      <td>0.0</td>\n",
       "      <td>3.0</td>\n",
       "      <td>39750000.0</td>\n",
       "      <td>5.0</td>\n",
       "      <td>888.0</td>\n",
       "      <td>1.0</td>\n",
       "      <td>2005-10-01</td>\n",
       "      <td>series-a</td>\n",
       "      <td>5250000.0</td>\n",
       "      <td>0.0</td>\n",
       "      <td>2.0</td>\n",
       "      <td>0.0</td>\n",
       "      <td>1.0</td>\n",
       "    </tr>\n",
       "    <tr>\n",
       "      <th>1</th>\n",
       "      <td>1.0</td>\n",
       "      <td>Wetpaint</td>\n",
       "      <td>web</td>\n",
       "      <td>operating</td>\n",
       "      <td>2005-10-17</td>\n",
       "      <td>NaN</td>\n",
       "      <td>wetpaint-inc.com</td>\n",
       "      <td>BachelrWetpaint</td>\n",
       "      <td>USA</td>\n",
       "      <td>0.0</td>\n",
       "      <td>3.0</td>\n",
       "      <td>39750000.0</td>\n",
       "      <td>5.0</td>\n",
       "      <td>889.0</td>\n",
       "      <td>1.0</td>\n",
       "      <td>2007-01-01</td>\n",
       "      <td>series-b</td>\n",
       "      <td>9500000.0</td>\n",
       "      <td>0.0</td>\n",
       "      <td>3.0</td>\n",
       "      <td>0.0</td>\n",
       "      <td>0.0</td>\n",
       "    </tr>\n",
       "    <tr>\n",
       "      <th>2</th>\n",
       "      <td>1.0</td>\n",
       "      <td>Wetpaint</td>\n",
       "      <td>web</td>\n",
       "      <td>operating</td>\n",
       "      <td>2005-10-17</td>\n",
       "      <td>NaN</td>\n",
       "      <td>wetpaint-inc.com</td>\n",
       "      <td>BachelrWetpaint</td>\n",
       "      <td>USA</td>\n",
       "      <td>0.0</td>\n",
       "      <td>3.0</td>\n",
       "      <td>39750000.0</td>\n",
       "      <td>5.0</td>\n",
       "      <td>2312.0</td>\n",
       "      <td>1.0</td>\n",
       "      <td>2008-05-19</td>\n",
       "      <td>series-c+</td>\n",
       "      <td>25000000.0</td>\n",
       "      <td>0.0</td>\n",
       "      <td>4.0</td>\n",
       "      <td>1.0</td>\n",
       "      <td>0.0</td>\n",
       "    </tr>\n",
       "    <tr>\n",
       "      <th>3</th>\n",
       "      <td>10.0</td>\n",
       "      <td>Flektor</td>\n",
       "      <td>games_video</td>\n",
       "      <td>acquired</td>\n",
       "      <td>NaN</td>\n",
       "      <td>NaN</td>\n",
       "      <td>flektor.com</td>\n",
       "      <td>NaN</td>\n",
       "      <td>USA</td>\n",
       "      <td>0.0</td>\n",
       "      <td>0.0</td>\n",
       "      <td>0.0</td>\n",
       "      <td>0.0</td>\n",
       "      <td>NaN</td>\n",
       "      <td>NaN</td>\n",
       "      <td>NaN</td>\n",
       "      <td>NaN</td>\n",
       "      <td>NaN</td>\n",
       "      <td>NaN</td>\n",
       "      <td>NaN</td>\n",
       "      <td>NaN</td>\n",
       "      <td>NaN</td>\n",
       "    </tr>\n",
       "    <tr>\n",
       "      <th>4</th>\n",
       "      <td>100.0</td>\n",
       "      <td>There</td>\n",
       "      <td>games_video</td>\n",
       "      <td>acquired</td>\n",
       "      <td>NaN</td>\n",
       "      <td>NaN</td>\n",
       "      <td>there.com</td>\n",
       "      <td>NaN</td>\n",
       "      <td>USA</td>\n",
       "      <td>0.0</td>\n",
       "      <td>0.0</td>\n",
       "      <td>0.0</td>\n",
       "      <td>4.0</td>\n",
       "      <td>NaN</td>\n",
       "      <td>NaN</td>\n",
       "      <td>NaN</td>\n",
       "      <td>NaN</td>\n",
       "      <td>NaN</td>\n",
       "      <td>NaN</td>\n",
       "      <td>NaN</td>\n",
       "      <td>NaN</td>\n",
       "      <td>NaN</td>\n",
       "    </tr>\n",
       "  </tbody>\n",
       "</table>\n",
       "</div>"
      ],
      "text/plain": [
       "   company_id      name category_code     status  founded_at closed_at  \\\n",
       "0         1.0  Wetpaint           web  operating  2005-10-17       NaN   \n",
       "1         1.0  Wetpaint           web  operating  2005-10-17       NaN   \n",
       "2         1.0  Wetpaint           web  operating  2005-10-17       NaN   \n",
       "3        10.0   Flektor   games_video   acquired         NaN       NaN   \n",
       "4       100.0     There   games_video   acquired         NaN       NaN   \n",
       "\n",
       "             domain network_username country_code  investment_rounds  \\\n",
       "0  wetpaint-inc.com  BachelrWetpaint          USA                0.0   \n",
       "1  wetpaint-inc.com  BachelrWetpaint          USA                0.0   \n",
       "2  wetpaint-inc.com  BachelrWetpaint          USA                0.0   \n",
       "3       flektor.com              NaN          USA                0.0   \n",
       "4         there.com              NaN          USA                0.0   \n",
       "\n",
       "   funding_rounds  funding_total  milestones  funding_round_id  company_id  \\\n",
       "0             3.0     39750000.0         5.0             888.0         1.0   \n",
       "1             3.0     39750000.0         5.0             889.0         1.0   \n",
       "2             3.0     39750000.0         5.0            2312.0         1.0   \n",
       "3             0.0            0.0         0.0               NaN         NaN   \n",
       "4             0.0            0.0         4.0               NaN         NaN   \n",
       "\n",
       "    funded_at funding_round_type  raised_amount  pre_money_valuation  \\\n",
       "0  2005-10-01           series-a      5250000.0                  0.0   \n",
       "1  2007-01-01           series-b      9500000.0                  0.0   \n",
       "2  2008-05-19          series-c+     25000000.0                  0.0   \n",
       "3         NaN                NaN            NaN                  NaN   \n",
       "4         NaN                NaN            NaN                  NaN   \n",
       "\n",
       "   participants  is_first_round  is_last_round  \n",
       "0           2.0             0.0            1.0  \n",
       "1           3.0             0.0            0.0  \n",
       "2           4.0             1.0            0.0  \n",
       "3           NaN             NaN            NaN  \n",
       "4           NaN             NaN            NaN  "
      ]
     },
     "metadata": {},
     "output_type": "display_data"
    },
    {
     "name": "stdout",
     "output_type": "stream",
     "text": [
      "------------------------------------------------------------------------------------------------------------------------\n",
      "\n",
      "\n",
      " df_people\n"
     ]
    },
    {
     "data": {
      "text/html": [
       "<div>\n",
       "<style scoped>\n",
       "    .dataframe tbody tr th:only-of-type {\n",
       "        vertical-align: middle;\n",
       "    }\n",
       "\n",
       "    .dataframe tbody tr th {\n",
       "        vertical-align: top;\n",
       "    }\n",
       "\n",
       "    .dataframe thead th {\n",
       "        text-align: right;\n",
       "    }\n",
       "</style>\n",
       "<table border=\"1\" class=\"dataframe\">\n",
       "  <thead>\n",
       "    <tr style=\"text-align: right;\">\n",
       "      <th></th>\n",
       "      <th>id</th>\n",
       "      <th>first_name</th>\n",
       "      <th>last_name</th>\n",
       "      <th>company_id</th>\n",
       "      <th>network_username</th>\n",
       "    </tr>\n",
       "  </thead>\n",
       "  <tbody>\n",
       "    <tr>\n",
       "      <th>0</th>\n",
       "      <td>10</td>\n",
       "      <td>Mark</td>\n",
       "      <td>Zuckerberg</td>\n",
       "      <td>5.0</td>\n",
       "      <td>NaN</td>\n",
       "    </tr>\n",
       "    <tr>\n",
       "      <th>1</th>\n",
       "      <td>100</td>\n",
       "      <td>Peter</td>\n",
       "      <td>Lester</td>\n",
       "      <td>27.0</td>\n",
       "      <td>NaN</td>\n",
       "    </tr>\n",
       "    <tr>\n",
       "      <th>2</th>\n",
       "      <td>1000</td>\n",
       "      <td>Dr. Steven</td>\n",
       "      <td>E. Saunders</td>\n",
       "      <td>292.0</td>\n",
       "      <td>NaN</td>\n",
       "    </tr>\n",
       "    <tr>\n",
       "      <th>3</th>\n",
       "      <td>10000</td>\n",
       "      <td>Neil</td>\n",
       "      <td>Capel</td>\n",
       "      <td>2526.0</td>\n",
       "      <td>NaN</td>\n",
       "    </tr>\n",
       "    <tr>\n",
       "      <th>4</th>\n",
       "      <td>100000</td>\n",
       "      <td>Sue</td>\n",
       "      <td>Pilsch</td>\n",
       "      <td>NaN</td>\n",
       "      <td>NaN</td>\n",
       "    </tr>\n",
       "  </tbody>\n",
       "</table>\n",
       "</div>"
      ],
      "text/plain": [
       "       id  first_name    last_name  company_id network_username\n",
       "0      10        Mark   Zuckerberg         5.0              NaN\n",
       "1     100       Peter       Lester        27.0              NaN\n",
       "2    1000  Dr. Steven  E. Saunders       292.0              NaN\n",
       "3   10000        Neil        Capel      2526.0              NaN\n",
       "4  100000         Sue       Pilsch         NaN              NaN"
      ]
     },
     "metadata": {},
     "output_type": "display_data"
    },
    {
     "name": "stdout",
     "output_type": "stream",
     "text": [
      "------------------------------------------------------------------------------------------------------------------------\n",
      "\n",
      "\n",
      " df_education\n"
     ]
    },
    {
     "data": {
      "text/html": [
       "<div>\n",
       "<style scoped>\n",
       "    .dataframe tbody tr th:only-of-type {\n",
       "        vertical-align: middle;\n",
       "    }\n",
       "\n",
       "    .dataframe tbody tr th {\n",
       "        vertical-align: top;\n",
       "    }\n",
       "\n",
       "    .dataframe thead th {\n",
       "        text-align: right;\n",
       "    }\n",
       "</style>\n",
       "<table border=\"1\" class=\"dataframe\">\n",
       "  <thead>\n",
       "    <tr style=\"text-align: right;\">\n",
       "      <th></th>\n",
       "      <th>id</th>\n",
       "      <th>person_id</th>\n",
       "      <th>instituition</th>\n",
       "      <th>graduated_at</th>\n",
       "    </tr>\n",
       "  </thead>\n",
       "  <tbody>\n",
       "    <tr>\n",
       "      <th>0</th>\n",
       "      <td>1</td>\n",
       "      <td>6117</td>\n",
       "      <td>NaN</td>\n",
       "      <td>NaN</td>\n",
       "    </tr>\n",
       "    <tr>\n",
       "      <th>1</th>\n",
       "      <td>2</td>\n",
       "      <td>6136</td>\n",
       "      <td>Washington University, St. Louis</td>\n",
       "      <td>1990-01-01</td>\n",
       "    </tr>\n",
       "    <tr>\n",
       "      <th>2</th>\n",
       "      <td>3</td>\n",
       "      <td>6136</td>\n",
       "      <td>Boston University</td>\n",
       "      <td>1992-01-01</td>\n",
       "    </tr>\n",
       "    <tr>\n",
       "      <th>3</th>\n",
       "      <td>4</td>\n",
       "      <td>6005</td>\n",
       "      <td>University of Greenwich</td>\n",
       "      <td>2006-01-01</td>\n",
       "    </tr>\n",
       "    <tr>\n",
       "      <th>4</th>\n",
       "      <td>5</td>\n",
       "      <td>5832</td>\n",
       "      <td>Rice University</td>\n",
       "      <td>NaN</td>\n",
       "    </tr>\n",
       "  </tbody>\n",
       "</table>\n",
       "</div>"
      ],
      "text/plain": [
       "   id  person_id                      instituition graduated_at\n",
       "0   1       6117                               NaN          NaN\n",
       "1   2       6136  Washington University, St. Louis   1990-01-01\n",
       "2   3       6136                 Boston University   1992-01-01\n",
       "3   4       6005           University of Greenwich   2006-01-01\n",
       "4   5       5832                   Rice University          NaN"
      ]
     },
     "metadata": {},
     "output_type": "display_data"
    },
    {
     "name": "stdout",
     "output_type": "stream",
     "text": [
      "------------------------------------------------------------------------------------------------------------------------\n",
      "\n",
      "\n",
      " df_degrees\n"
     ]
    },
    {
     "data": {
      "text/html": [
       "<div>\n",
       "<style scoped>\n",
       "    .dataframe tbody tr th:only-of-type {\n",
       "        vertical-align: middle;\n",
       "    }\n",
       "\n",
       "    .dataframe tbody tr th {\n",
       "        vertical-align: top;\n",
       "    }\n",
       "\n",
       "    .dataframe thead th {\n",
       "        text-align: right;\n",
       "    }\n",
       "</style>\n",
       "<table border=\"1\" class=\"dataframe\">\n",
       "  <thead>\n",
       "    <tr style=\"text-align: right;\">\n",
       "      <th></th>\n",
       "      <th>id</th>\n",
       "      <th>object_id</th>\n",
       "      <th>degree_type</th>\n",
       "      <th>subject</th>\n",
       "    </tr>\n",
       "  </thead>\n",
       "  <tbody>\n",
       "    <tr>\n",
       "      <th>0</th>\n",
       "      <td>1</td>\n",
       "      <td>p:6117</td>\n",
       "      <td>MBA</td>\n",
       "      <td>NaN</td>\n",
       "    </tr>\n",
       "    <tr>\n",
       "      <th>1</th>\n",
       "      <td>2</td>\n",
       "      <td>p:6136</td>\n",
       "      <td>BA</td>\n",
       "      <td>English, French</td>\n",
       "    </tr>\n",
       "    <tr>\n",
       "      <th>2</th>\n",
       "      <td>3</td>\n",
       "      <td>p:6136</td>\n",
       "      <td>MS</td>\n",
       "      <td>Mass Communication</td>\n",
       "    </tr>\n",
       "    <tr>\n",
       "      <th>3</th>\n",
       "      <td>4</td>\n",
       "      <td>p:6005</td>\n",
       "      <td>MS</td>\n",
       "      <td>Internet Technology</td>\n",
       "    </tr>\n",
       "    <tr>\n",
       "      <th>4</th>\n",
       "      <td>5</td>\n",
       "      <td>p:5832</td>\n",
       "      <td>BCS</td>\n",
       "      <td>Computer Science, Psychology</td>\n",
       "    </tr>\n",
       "  </tbody>\n",
       "</table>\n",
       "</div>"
      ],
      "text/plain": [
       "   id object_id degree_type                       subject\n",
       "0   1    p:6117         MBA                           NaN\n",
       "1   2    p:6136          BA               English, French\n",
       "2   3    p:6136          MS            Mass Communication\n",
       "3   4    p:6005          MS           Internet Technology\n",
       "4   5    p:5832         BCS  Computer Science, Psychology"
      ]
     },
     "metadata": {},
     "output_type": "display_data"
    },
    {
     "name": "stdout",
     "output_type": "stream",
     "text": [
      "------------------------------------------------------------------------------------------------------------------------\n"
     ]
    }
   ],
   "source": [
    "# Выведем прервые строчки всех датафреймов\n",
    "for name,df in dictionary_df.items():\n",
    "    print('\\n\\n', name)\n",
    "    display(df.head())\n",
    "    print('-'*120)"
   ]
  },
  {
   "cell_type": "code",
   "execution_count": 9,
   "metadata": {
    "scrolled": true
   },
   "outputs": [
    {
     "name": "stdout",
     "output_type": "stream",
     "text": [
      "\n",
      "\n",
      "Датафрейм:\u001b[1mdf_acquisition\u001b[0m\n",
      "<class 'pandas.core.frame.DataFrame'>\n",
      "RangeIndex: 9407 entries, 0 to 9406\n",
      "Data columns (total 6 columns):\n",
      " #   Column                Non-Null Count  Dtype \n",
      "---  ------                --------------  ----- \n",
      " 0   id                    9407 non-null   int64 \n",
      " 1   acquiring_company_id  9407 non-null   int64 \n",
      " 2   acquired_company_id   9407 non-null   int64 \n",
      " 3   term_code             1831 non-null   object\n",
      " 4   price_amount          9407 non-null   int64 \n",
      " 5   acquired_at           9378 non-null   object\n",
      "dtypes: int64(4), object(2)\n",
      "memory usage: 441.1+ KB\n",
      "None\n",
      "------------------------------------------------------------------------------------------------------------------------\n",
      "\n",
      "\n",
      "Датафрейм:\u001b[1mdf_company_and_rounds\u001b[0m\n",
      "<class 'pandas.core.frame.DataFrame'>\n",
      "RangeIndex: 217774 entries, 0 to 217773\n",
      "Data columns (total 22 columns):\n",
      " #   Column               Non-Null Count   Dtype  \n",
      "---  ------               --------------   -----  \n",
      " 0   company_id           217472 non-null  float64\n",
      " 1   name                 217471 non-null  object \n",
      " 2   category_code        143886 non-null  object \n",
      " 3   status               217472 non-null  object \n",
      " 4   founded_at           109956 non-null  object \n",
      " 5   closed_at            3449 non-null    object \n",
      " 6   domain               147159 non-null  object \n",
      " 7   network_username     95534 non-null   object \n",
      " 8   country_code         108607 non-null  object \n",
      " 9   investment_rounds    217472 non-null  float64\n",
      " 10  funding_rounds       217472 non-null  float64\n",
      " 11  funding_total        217472 non-null  float64\n",
      " 12  milestones           217472 non-null  float64\n",
      " 13  funding_round_id     52928 non-null   float64\n",
      " 14  company_id           52928 non-null   float64\n",
      " 15  funded_at            52680 non-null   object \n",
      " 16  funding_round_type   52928 non-null   object \n",
      " 17  raised_amount        52928 non-null   float64\n",
      " 18  pre_money_valuation  52928 non-null   float64\n",
      " 19  participants         52928 non-null   float64\n",
      " 20  is_first_round       52928 non-null   float64\n",
      " 21  is_last_round        52928 non-null   float64\n",
      "dtypes: float64(12), object(10)\n",
      "memory usage: 36.6+ MB\n",
      "None\n",
      "------------------------------------------------------------------------------------------------------------------------\n",
      "\n",
      "\n",
      "Датафрейм:\u001b[1mdf_people\u001b[0m\n",
      "<class 'pandas.core.frame.DataFrame'>\n",
      "RangeIndex: 226709 entries, 0 to 226708\n",
      "Data columns (total 5 columns):\n",
      " #   Column            Non-Null Count   Dtype  \n",
      "---  ------            --------------   -----  \n",
      " 0   id                226709 non-null  int64  \n",
      " 1   first_name        226700 non-null  object \n",
      " 2   last_name         226705 non-null  object \n",
      " 3   company_id        34615 non-null   float64\n",
      " 4   network_username  38867 non-null   object \n",
      "dtypes: float64(1), int64(1), object(3)\n",
      "memory usage: 8.6+ MB\n",
      "None\n",
      "------------------------------------------------------------------------------------------------------------------------\n",
      "\n",
      "\n",
      "Датафрейм:\u001b[1mdf_education\u001b[0m\n",
      "<class 'pandas.core.frame.DataFrame'>\n",
      "RangeIndex: 109610 entries, 0 to 109609\n",
      "Data columns (total 4 columns):\n",
      " #   Column        Non-Null Count   Dtype \n",
      "---  ------        --------------   ----- \n",
      " 0   id            109610 non-null  int64 \n",
      " 1   person_id     109610 non-null  int64 \n",
      " 2   instituition  109555 non-null  object\n",
      " 3   graduated_at  58054 non-null   object\n",
      "dtypes: int64(2), object(2)\n",
      "memory usage: 3.3+ MB\n",
      "None\n",
      "------------------------------------------------------------------------------------------------------------------------\n",
      "\n",
      "\n",
      "Датафрейм:\u001b[1mdf_degrees\u001b[0m\n",
      "<class 'pandas.core.frame.DataFrame'>\n",
      "RangeIndex: 109610 entries, 0 to 109609\n",
      "Data columns (total 4 columns):\n",
      " #   Column       Non-Null Count   Dtype \n",
      "---  ------       --------------   ----- \n",
      " 0   id           109610 non-null  int64 \n",
      " 1   object_id    109610 non-null  object\n",
      " 2   degree_type  98389 non-null   object\n",
      " 3   subject      81298 non-null   object\n",
      "dtypes: int64(1), object(3)\n",
      "memory usage: 3.3+ MB\n",
      "None\n",
      "------------------------------------------------------------------------------------------------------------------------\n"
     ]
    }
   ],
   "source": [
    "# Выведеме информацию о всех датафреймах\n",
    "for name, df in dictionary_df.items():\n",
    "    print(f'\\n\\nДатафрейм:\\033[1m{name}\\033[0m')\n",
    "    print(df.info())\n",
    "    print('-'*120)"
   ]
  },
  {
   "cell_type": "markdown",
   "metadata": {
    "id": "mg2gEwh0rJg0"
   },
   "source": [
    "### 1.2. Смена типов и анализ пропусков"
   ]
  },
  {
   "cell_type": "code",
   "execution_count": 10,
   "metadata": {},
   "outputs": [],
   "source": [
    "# Приведем столбцы с датаой к нужному формату datetime\n",
    "for df in dictionary_df.values():\n",
    "    for column in df.columns:\n",
    "        if column in ['acquired_at','founded_at', 'closed_at', 'funded_at', 'graduated_at']:\n",
    "            df[column]=pd.to_datetime(df[column])"
   ]
  },
  {
   "cell_type": "code",
   "execution_count": 11,
   "metadata": {
    "scrolled": true
   },
   "outputs": [
    {
     "name": "stdout",
     "output_type": "stream",
     "text": [
      "\n",
      "\n",
      "Датафрейм:\u001b[1mdf_acquisition\u001b[0m\n",
      "<class 'pandas.core.frame.DataFrame'>\n",
      "RangeIndex: 9407 entries, 0 to 9406\n",
      "Data columns (total 6 columns):\n",
      " #   Column                Non-Null Count  Dtype         \n",
      "---  ------                --------------  -----         \n",
      " 0   id                    9407 non-null   int64         \n",
      " 1   acquiring_company_id  9407 non-null   int64         \n",
      " 2   acquired_company_id   9407 non-null   int64         \n",
      " 3   term_code             1831 non-null   object        \n",
      " 4   price_amount          9407 non-null   int64         \n",
      " 5   acquired_at           9378 non-null   datetime64[ns]\n",
      "dtypes: datetime64[ns](1), int64(4), object(1)\n",
      "memory usage: 441.1+ KB\n",
      "None\n",
      "------------------------------------------------------------------------------------------------------------------------\n",
      "\n",
      "\n",
      "Датафрейм:\u001b[1mdf_company_and_rounds\u001b[0m\n",
      "<class 'pandas.core.frame.DataFrame'>\n",
      "RangeIndex: 217774 entries, 0 to 217773\n",
      "Data columns (total 22 columns):\n",
      " #   Column               Non-Null Count   Dtype         \n",
      "---  ------               --------------   -----         \n",
      " 0   company_id           217472 non-null  float64       \n",
      " 1   name                 217471 non-null  object        \n",
      " 2   category_code        143886 non-null  object        \n",
      " 3   status               217472 non-null  object        \n",
      " 4   founded_at           109956 non-null  datetime64[ns]\n",
      " 5   closed_at            3449 non-null    datetime64[ns]\n",
      " 6   domain               147159 non-null  object        \n",
      " 7   network_username     95534 non-null   object        \n",
      " 8   country_code         108607 non-null  object        \n",
      " 9   investment_rounds    217472 non-null  float64       \n",
      " 10  funding_rounds       217472 non-null  float64       \n",
      " 11  funding_total        217472 non-null  float64       \n",
      " 12  milestones           217472 non-null  float64       \n",
      " 13  funding_round_id     52928 non-null   float64       \n",
      " 14  company_id           52928 non-null   float64       \n",
      " 15  funded_at            52680 non-null   datetime64[ns]\n",
      " 16  funding_round_type   52928 non-null   object        \n",
      " 17  raised_amount        52928 non-null   float64       \n",
      " 18  pre_money_valuation  52928 non-null   float64       \n",
      " 19  participants         52928 non-null   float64       \n",
      " 20  is_first_round       52928 non-null   float64       \n",
      " 21  is_last_round        52928 non-null   float64       \n",
      "dtypes: datetime64[ns](3), float64(12), object(7)\n",
      "memory usage: 36.6+ MB\n",
      "None\n",
      "------------------------------------------------------------------------------------------------------------------------\n",
      "\n",
      "\n",
      "Датафрейм:\u001b[1mdf_people\u001b[0m\n",
      "<class 'pandas.core.frame.DataFrame'>\n",
      "RangeIndex: 226709 entries, 0 to 226708\n",
      "Data columns (total 5 columns):\n",
      " #   Column            Non-Null Count   Dtype  \n",
      "---  ------            --------------   -----  \n",
      " 0   id                226709 non-null  int64  \n",
      " 1   first_name        226700 non-null  object \n",
      " 2   last_name         226705 non-null  object \n",
      " 3   company_id        34615 non-null   float64\n",
      " 4   network_username  38867 non-null   object \n",
      "dtypes: float64(1), int64(1), object(3)\n",
      "memory usage: 8.6+ MB\n",
      "None\n",
      "------------------------------------------------------------------------------------------------------------------------\n",
      "\n",
      "\n",
      "Датафрейм:\u001b[1mdf_education\u001b[0m\n",
      "<class 'pandas.core.frame.DataFrame'>\n",
      "RangeIndex: 109610 entries, 0 to 109609\n",
      "Data columns (total 4 columns):\n",
      " #   Column        Non-Null Count   Dtype         \n",
      "---  ------        --------------   -----         \n",
      " 0   id            109610 non-null  int64         \n",
      " 1   person_id     109610 non-null  int64         \n",
      " 2   instituition  109555 non-null  object        \n",
      " 3   graduated_at  58054 non-null   datetime64[ns]\n",
      "dtypes: datetime64[ns](1), int64(2), object(1)\n",
      "memory usage: 3.3+ MB\n",
      "None\n",
      "------------------------------------------------------------------------------------------------------------------------\n",
      "\n",
      "\n",
      "Датафрейм:\u001b[1mdf_degrees\u001b[0m\n",
      "<class 'pandas.core.frame.DataFrame'>\n",
      "RangeIndex: 109610 entries, 0 to 109609\n",
      "Data columns (total 4 columns):\n",
      " #   Column       Non-Null Count   Dtype \n",
      "---  ------       --------------   ----- \n",
      " 0   id           109610 non-null  int64 \n",
      " 1   object_id    109610 non-null  object\n",
      " 2   degree_type  98389 non-null   object\n",
      " 3   subject      81298 non-null   object\n",
      "dtypes: int64(1), object(3)\n",
      "memory usage: 3.3+ MB\n",
      "None\n",
      "------------------------------------------------------------------------------------------------------------------------\n"
     ]
    }
   ],
   "source": [
    "# Проверим результат преобразований: выведеме информацию о всех датафреймов\n",
    "for name, df in dictionary_df.items():\n",
    "    print(f'\\n\\nДатафрейм:\\033[1m{name}\\033[0m')\n",
    "    print(df.info())\n",
    "    print('-'*120)"
   ]
  },
  {
   "cell_type": "code",
   "execution_count": 12,
   "metadata": {
    "scrolled": true
   },
   "outputs": [
    {
     "name": "stdout",
     "output_type": "stream",
     "text": [
      "\n",
      "\n",
      "Датафрейм:\u001b[1mdf_acquisition\u001b[0m\n",
      "term_code               7576\n",
      "acquired_at               29\n",
      "acquiring_company_id       0\n",
      "id                         0\n",
      "acquired_company_id        0\n",
      "price_amount               0\n",
      "dtype: int64\n",
      "------------------------------------------------------------------------------------------------------------------------\n",
      "\n",
      "\n",
      "Датафрейм:\u001b[1mdf_company_and_rounds\u001b[0m\n",
      "closed_at              214325\n",
      "funded_at              165094\n",
      "is_first_round         164846\n",
      "participants           164846\n",
      "funding_round_id       164846\n",
      "raised_amount          164846\n",
      "is_last_round          164846\n",
      "funding_round_type     164846\n",
      "company_id             164846\n",
      "pre_money_valuation    164846\n",
      "network_username       122240\n",
      "country_code           109167\n",
      "founded_at             107818\n",
      "category_code           73888\n",
      "domain                  70615\n",
      "name                      303\n",
      "status                    302\n",
      "company_id                302\n",
      "milestones                302\n",
      "funding_total             302\n",
      "funding_rounds            302\n",
      "investment_rounds         302\n",
      "dtype: int64\n",
      "------------------------------------------------------------------------------------------------------------------------\n",
      "\n",
      "\n",
      "Датафрейм:\u001b[1mdf_people\u001b[0m\n",
      "company_id          192094\n",
      "network_username    187842\n",
      "first_name               9\n",
      "last_name                4\n",
      "id                       0\n",
      "dtype: int64\n",
      "------------------------------------------------------------------------------------------------------------------------\n",
      "\n",
      "\n",
      "Датафрейм:\u001b[1mdf_education\u001b[0m\n",
      "graduated_at    51556\n",
      "instituition       55\n",
      "person_id           0\n",
      "id                  0\n",
      "dtype: int64\n",
      "------------------------------------------------------------------------------------------------------------------------\n",
      "\n",
      "\n",
      "Датафрейм:\u001b[1mdf_degrees\u001b[0m\n",
      "subject        28312\n",
      "degree_type    11221\n",
      "object_id          0\n",
      "id                 0\n",
      "dtype: int64\n",
      "------------------------------------------------------------------------------------------------------------------------\n"
     ]
    }
   ],
   "source": [
    "# Выведем долю пропусков по всем датафреймам\n",
    "for name,df in dictionary_df.items():\n",
    "    print(f'\\n\\nДатафрейм:\\033[1m{name}\\033[0m')\n",
    "    print(df.isna().sum().sort_values(ascending=False).round(2))\n",
    "    print('-'*120)"
   ]
  },
  {
   "cell_type": "code",
   "execution_count": 13,
   "metadata": {
    "scrolled": true
   },
   "outputs": [
    {
     "name": "stdout",
     "output_type": "stream",
     "text": [
      "\n",
      "\n",
      "Датафрейм:\u001b[1mdf_acquisition\u001b[0m\n",
      "term_code               0.81\n",
      "acquired_at             0.00\n",
      "acquiring_company_id    0.00\n",
      "id                      0.00\n",
      "acquired_company_id     0.00\n",
      "price_amount            0.00\n",
      "dtype: float64\n",
      "------------------------------------------------------------------------------------------------------------------------\n",
      "\n",
      "\n",
      "Датафрейм:\u001b[1mdf_company_and_rounds\u001b[0m\n",
      "closed_at              0.98\n",
      "funded_at              0.76\n",
      "is_first_round         0.76\n",
      "participants           0.76\n",
      "funding_round_id       0.76\n",
      "raised_amount          0.76\n",
      "is_last_round          0.76\n",
      "funding_round_type     0.76\n",
      "company_id             0.76\n",
      "pre_money_valuation    0.76\n",
      "network_username       0.56\n",
      "country_code           0.50\n",
      "founded_at             0.50\n",
      "category_code          0.34\n",
      "domain                 0.32\n",
      "name                   0.00\n",
      "status                 0.00\n",
      "company_id             0.00\n",
      "milestones             0.00\n",
      "funding_total          0.00\n",
      "funding_rounds         0.00\n",
      "investment_rounds      0.00\n",
      "dtype: float64\n",
      "------------------------------------------------------------------------------------------------------------------------\n",
      "\n",
      "\n",
      "Датафрейм:\u001b[1mdf_people\u001b[0m\n",
      "company_id          0.85\n",
      "network_username    0.83\n",
      "first_name          0.00\n",
      "last_name           0.00\n",
      "id                  0.00\n",
      "dtype: float64\n",
      "------------------------------------------------------------------------------------------------------------------------\n",
      "\n",
      "\n",
      "Датафрейм:\u001b[1mdf_education\u001b[0m\n",
      "graduated_at    0.47\n",
      "instituition    0.00\n",
      "person_id       0.00\n",
      "id              0.00\n",
      "dtype: float64\n",
      "------------------------------------------------------------------------------------------------------------------------\n",
      "\n",
      "\n",
      "Датафрейм:\u001b[1mdf_degrees\u001b[0m\n",
      "subject        0.26\n",
      "degree_type    0.10\n",
      "object_id      0.00\n",
      "id             0.00\n",
      "dtype: float64\n",
      "------------------------------------------------------------------------------------------------------------------------\n"
     ]
    }
   ],
   "source": [
    "# Выведем долю пропусков по всем датафреймам в долевом значении\n",
    "for name,df in dictionary_df.items():\n",
    "    print(f'\\n\\nДатафрейм:\\033[1m{name}\\033[0m')\n",
    "    print(df.isna().mean().sort_values(ascending=False).round(2))\n",
    "    print('-'*120)"
   ]
  },
  {
   "cell_type": "markdown",
   "metadata": {},
   "source": [
    "<div style=\"border: 3px solid #ccc; padding: 10px; border-radius: 5px;\">  \n",
    "    Сводная информация об объеме данных:\n",
    "\n",
    "1) Датафрейм df_acquisition содержит 9407 строк и 6 столбцов. Пропуски содержаться в двух столбцах term_code 81%(7576 строк) и acquired_at 0%(29 строк).\n",
    "\n",
    "2) Датафрейм df_company_and_rounds содержит 217774 строки и 22 столбца. Пропуски содержаться во всех столбцах, больше всего пропусков в closed_at  98%(214325).\n",
    "\n",
    "3) Датафрейм df_education содержит 226709 строки и 5 столбца. Пропуски содержаться в двух столбцах company_id 85%(192094) и network_username 83%(187842), пропуски содердат еще два столбца, но не более 5 строк. \n",
    "\n",
    "4) Датафрейм df_company_and_rounds содержит 109610 строки и 4 столбца. Значительные пропуски содержаться только в одном graduated_at 47%(51556).\n",
    "\n",
    "5) Датафрейм df_degrees содержит 109610 строки и 4 столбца. Пропуски содержаться  в одном subject 26% (28312) и 10%(11218).\n",
    "\n",
    "В данных встречается достаточно много пропусков, некоторые столбцы не будут в дальнейшем участвовать в анализе, но для решения поставденных задач информации будет достаточно, точнее можно будет сказать в ходе проекта.\n",
    "    </div>"
   ]
  },
  {
   "cell_type": "markdown",
   "metadata": {
    "id": "u60cHsn6rJg1"
   },
   "source": [
    "## Шаг 2. Предобработка данных, предварительное исследование"
   ]
  },
  {
   "cell_type": "markdown",
   "metadata": {
    "id": "g2bHIIjcrJg1"
   },
   "source": [
    "\n",
    "### 2.1. Раунды финансирования по годам"
   ]
  },
  {
   "cell_type": "code",
   "execution_count": 14,
   "metadata": {
    "scrolled": true
   },
   "outputs": [
    {
     "data": {
      "text/html": [
       "<div>\n",
       "<style scoped>\n",
       "    .dataframe tbody tr th:only-of-type {\n",
       "        vertical-align: middle;\n",
       "    }\n",
       "\n",
       "    .dataframe tbody tr th {\n",
       "        vertical-align: top;\n",
       "    }\n",
       "\n",
       "    .dataframe thead th {\n",
       "        text-align: right;\n",
       "    }\n",
       "</style>\n",
       "<table border=\"1\" class=\"dataframe\">\n",
       "  <thead>\n",
       "    <tr style=\"text-align: right;\">\n",
       "      <th></th>\n",
       "      <th>funded_year</th>\n",
       "      <th>funding_rounds</th>\n",
       "      <th>raised_amount_round</th>\n",
       "    </tr>\n",
       "  </thead>\n",
       "  <tbody>\n",
       "    <tr>\n",
       "      <th>0</th>\n",
       "      <td>1960</td>\n",
       "      <td>16</td>\n",
       "      <td>0.0</td>\n",
       "    </tr>\n",
       "    <tr>\n",
       "      <th>1</th>\n",
       "      <td>1973</td>\n",
       "      <td>1</td>\n",
       "      <td>0.0</td>\n",
       "    </tr>\n",
       "    <tr>\n",
       "      <th>2</th>\n",
       "      <td>1974</td>\n",
       "      <td>2</td>\n",
       "      <td>0.0</td>\n",
       "    </tr>\n",
       "    <tr>\n",
       "      <th>3</th>\n",
       "      <td>1984</td>\n",
       "      <td>3</td>\n",
       "      <td>41000.0</td>\n",
       "    </tr>\n",
       "    <tr>\n",
       "      <th>4</th>\n",
       "      <td>1985</td>\n",
       "      <td>1</td>\n",
       "      <td>0.0</td>\n",
       "    </tr>\n",
       "    <tr>\n",
       "      <th>5</th>\n",
       "      <td>1987</td>\n",
       "      <td>2</td>\n",
       "      <td>1250000.0</td>\n",
       "    </tr>\n",
       "    <tr>\n",
       "      <th>6</th>\n",
       "      <td>1989</td>\n",
       "      <td>1</td>\n",
       "      <td>15000.0</td>\n",
       "    </tr>\n",
       "    <tr>\n",
       "      <th>7</th>\n",
       "      <td>1990</td>\n",
       "      <td>1</td>\n",
       "      <td>1000000.0</td>\n",
       "    </tr>\n",
       "    <tr>\n",
       "      <th>8</th>\n",
       "      <td>1992</td>\n",
       "      <td>2</td>\n",
       "      <td>2000000.0</td>\n",
       "    </tr>\n",
       "    <tr>\n",
       "      <th>9</th>\n",
       "      <td>1993</td>\n",
       "      <td>2</td>\n",
       "      <td>62500.0</td>\n",
       "    </tr>\n",
       "    <tr>\n",
       "      <th>10</th>\n",
       "      <td>1994</td>\n",
       "      <td>3</td>\n",
       "      <td>6700000.0</td>\n",
       "    </tr>\n",
       "    <tr>\n",
       "      <th>11</th>\n",
       "      <td>1995</td>\n",
       "      <td>13</td>\n",
       "      <td>2000000.0</td>\n",
       "    </tr>\n",
       "    <tr>\n",
       "      <th>12</th>\n",
       "      <td>1996</td>\n",
       "      <td>19</td>\n",
       "      <td>12500.0</td>\n",
       "    </tr>\n",
       "    <tr>\n",
       "      <th>13</th>\n",
       "      <td>1997</td>\n",
       "      <td>18</td>\n",
       "      <td>3300000.0</td>\n",
       "    </tr>\n",
       "    <tr>\n",
       "      <th>14</th>\n",
       "      <td>1998</td>\n",
       "      <td>72</td>\n",
       "      <td>100000.0</td>\n",
       "    </tr>\n",
       "    <tr>\n",
       "      <th>15</th>\n",
       "      <td>1999</td>\n",
       "      <td>268</td>\n",
       "      <td>2000000.0</td>\n",
       "    </tr>\n",
       "    <tr>\n",
       "      <th>16</th>\n",
       "      <td>2000</td>\n",
       "      <td>403</td>\n",
       "      <td>4200000.0</td>\n",
       "    </tr>\n",
       "    <tr>\n",
       "      <th>17</th>\n",
       "      <td>2001</td>\n",
       "      <td>302</td>\n",
       "      <td>3000000.0</td>\n",
       "    </tr>\n",
       "    <tr>\n",
       "      <th>18</th>\n",
       "      <td>2002</td>\n",
       "      <td>385</td>\n",
       "      <td>4200000.0</td>\n",
       "    </tr>\n",
       "    <tr>\n",
       "      <th>19</th>\n",
       "      <td>2003</td>\n",
       "      <td>569</td>\n",
       "      <td>3000000.0</td>\n",
       "    </tr>\n",
       "    <tr>\n",
       "      <th>20</th>\n",
       "      <td>2004</td>\n",
       "      <td>1057</td>\n",
       "      <td>5000000.0</td>\n",
       "    </tr>\n",
       "    <tr>\n",
       "      <th>21</th>\n",
       "      <td>2005</td>\n",
       "      <td>4157</td>\n",
       "      <td>5500000.0</td>\n",
       "    </tr>\n",
       "    <tr>\n",
       "      <th>22</th>\n",
       "      <td>2006</td>\n",
       "      <td>6295</td>\n",
       "      <td>5000000.0</td>\n",
       "    </tr>\n",
       "    <tr>\n",
       "      <th>23</th>\n",
       "      <td>2007</td>\n",
       "      <td>8494</td>\n",
       "      <td>3973320.0</td>\n",
       "    </tr>\n",
       "    <tr>\n",
       "      <th>24</th>\n",
       "      <td>2008</td>\n",
       "      <td>9931</td>\n",
       "      <td>3110000.0</td>\n",
       "    </tr>\n",
       "    <tr>\n",
       "      <th>25</th>\n",
       "      <td>2009</td>\n",
       "      <td>11857</td>\n",
       "      <td>2000000.0</td>\n",
       "    </tr>\n",
       "    <tr>\n",
       "      <th>26</th>\n",
       "      <td>2010</td>\n",
       "      <td>16913</td>\n",
       "      <td>1602500.0</td>\n",
       "    </tr>\n",
       "    <tr>\n",
       "      <th>27</th>\n",
       "      <td>2011</td>\n",
       "      <td>23503</td>\n",
       "      <td>1200000.0</td>\n",
       "    </tr>\n",
       "    <tr>\n",
       "      <th>28</th>\n",
       "      <td>2012</td>\n",
       "      <td>24549</td>\n",
       "      <td>1000000.0</td>\n",
       "    </tr>\n",
       "    <tr>\n",
       "      <th>29</th>\n",
       "      <td>2013</td>\n",
       "      <td>23978</td>\n",
       "      <td>1200000.0</td>\n",
       "    </tr>\n",
       "  </tbody>\n",
       "</table>\n",
       "</div>"
      ],
      "text/plain": [
       "    funded_year  funding_rounds  raised_amount_round\n",
       "0          1960              16                  0.0\n",
       "1          1973               1                  0.0\n",
       "2          1974               2                  0.0\n",
       "3          1984               3              41000.0\n",
       "4          1985               1                  0.0\n",
       "5          1987               2            1250000.0\n",
       "6          1989               1              15000.0\n",
       "7          1990               1            1000000.0\n",
       "8          1992               2            2000000.0\n",
       "9          1993               2              62500.0\n",
       "10         1994               3            6700000.0\n",
       "11         1995              13            2000000.0\n",
       "12         1996              19              12500.0\n",
       "13         1997              18            3300000.0\n",
       "14         1998              72             100000.0\n",
       "15         1999             268            2000000.0\n",
       "16         2000             403            4200000.0\n",
       "17         2001             302            3000000.0\n",
       "18         2002             385            4200000.0\n",
       "19         2003             569            3000000.0\n",
       "20         2004            1057            5000000.0\n",
       "21         2005            4157            5500000.0\n",
       "22         2006            6295            5000000.0\n",
       "23         2007            8494            3973320.0\n",
       "24         2008            9931            3110000.0\n",
       "25         2009           11857            2000000.0\n",
       "26         2010           16913            1602500.0\n",
       "27         2011           23503            1200000.0\n",
       "28         2012           24549            1000000.0\n",
       "29         2013           23978            1200000.0"
      ]
     },
     "execution_count": 14,
     "metadata": {},
     "output_type": "execute_result"
    }
   ],
   "source": [
    "#выделим год из даты\n",
    "df_company_and_rounds['funded_year']=df_company_and_rounds['funded_at'].dt.year\n",
    "# построим сводную таблицу\n",
    "pivot_table_raised=df_company_and_rounds.pivot_table(index='funded_year',\n",
    "                                                     values=['funding_rounds','raised_amount'],\n",
    "                                                     aggfunc=({'funding_rounds':'sum','raised_amount':'median'})).reset_index()\n",
    "# Приведем данные в более читабельный вид\n",
    "pivot_table_raised[['funded_year','funding_rounds']]=pivot_table_raised[['funded_year','funding_rounds']].astype('int64')\n",
    "pivot_table_raised['raised_amount']=pivot_table_raised['raised_amount'].round(2)\n",
    "pivot_table_raised=pivot_table_raised.rename(columns={'raised_amount':'raised_amount_round'})\n",
    "pivot_table_raised"
   ]
  },
  {
   "cell_type": "code",
   "execution_count": 15,
   "metadata": {
    "scrolled": true
   },
   "outputs": [
    {
     "data": {
      "text/html": [
       "<div>\n",
       "<style scoped>\n",
       "    .dataframe tbody tr th:only-of-type {\n",
       "        vertical-align: middle;\n",
       "    }\n",
       "\n",
       "    .dataframe tbody tr th {\n",
       "        vertical-align: top;\n",
       "    }\n",
       "\n",
       "    .dataframe thead th {\n",
       "        text-align: right;\n",
       "    }\n",
       "</style>\n",
       "<table border=\"1\" class=\"dataframe\">\n",
       "  <thead>\n",
       "    <tr style=\"text-align: right;\">\n",
       "      <th></th>\n",
       "      <th>funded_year</th>\n",
       "      <th>funding_rounds</th>\n",
       "      <th>raised_amount_round</th>\n",
       "      <th>rank</th>\n",
       "    </tr>\n",
       "  </thead>\n",
       "  <tbody>\n",
       "    <tr>\n",
       "      <th>14</th>\n",
       "      <td>1998</td>\n",
       "      <td>72</td>\n",
       "      <td>100000.0</td>\n",
       "      <td>11.0</td>\n",
       "    </tr>\n",
       "    <tr>\n",
       "      <th>15</th>\n",
       "      <td>1999</td>\n",
       "      <td>268</td>\n",
       "      <td>2000000.0</td>\n",
       "      <td>7.0</td>\n",
       "    </tr>\n",
       "    <tr>\n",
       "      <th>16</th>\n",
       "      <td>2000</td>\n",
       "      <td>403</td>\n",
       "      <td>4200000.0</td>\n",
       "      <td>3.0</td>\n",
       "    </tr>\n",
       "    <tr>\n",
       "      <th>17</th>\n",
       "      <td>2001</td>\n",
       "      <td>302</td>\n",
       "      <td>3000000.0</td>\n",
       "      <td>6.0</td>\n",
       "    </tr>\n",
       "    <tr>\n",
       "      <th>18</th>\n",
       "      <td>2002</td>\n",
       "      <td>385</td>\n",
       "      <td>4200000.0</td>\n",
       "      <td>3.0</td>\n",
       "    </tr>\n",
       "    <tr>\n",
       "      <th>19</th>\n",
       "      <td>2003</td>\n",
       "      <td>569</td>\n",
       "      <td>3000000.0</td>\n",
       "      <td>6.0</td>\n",
       "    </tr>\n",
       "    <tr>\n",
       "      <th>20</th>\n",
       "      <td>2004</td>\n",
       "      <td>1057</td>\n",
       "      <td>5000000.0</td>\n",
       "      <td>2.0</td>\n",
       "    </tr>\n",
       "    <tr>\n",
       "      <th>21</th>\n",
       "      <td>2005</td>\n",
       "      <td>4157</td>\n",
       "      <td>5500000.0</td>\n",
       "      <td>1.0</td>\n",
       "    </tr>\n",
       "    <tr>\n",
       "      <th>22</th>\n",
       "      <td>2006</td>\n",
       "      <td>6295</td>\n",
       "      <td>5000000.0</td>\n",
       "      <td>2.0</td>\n",
       "    </tr>\n",
       "    <tr>\n",
       "      <th>23</th>\n",
       "      <td>2007</td>\n",
       "      <td>8494</td>\n",
       "      <td>3973320.0</td>\n",
       "      <td>4.0</td>\n",
       "    </tr>\n",
       "    <tr>\n",
       "      <th>24</th>\n",
       "      <td>2008</td>\n",
       "      <td>9931</td>\n",
       "      <td>3110000.0</td>\n",
       "      <td>5.0</td>\n",
       "    </tr>\n",
       "    <tr>\n",
       "      <th>25</th>\n",
       "      <td>2009</td>\n",
       "      <td>11857</td>\n",
       "      <td>2000000.0</td>\n",
       "      <td>7.0</td>\n",
       "    </tr>\n",
       "    <tr>\n",
       "      <th>26</th>\n",
       "      <td>2010</td>\n",
       "      <td>16913</td>\n",
       "      <td>1602500.0</td>\n",
       "      <td>8.0</td>\n",
       "    </tr>\n",
       "    <tr>\n",
       "      <th>27</th>\n",
       "      <td>2011</td>\n",
       "      <td>23503</td>\n",
       "      <td>1200000.0</td>\n",
       "      <td>9.0</td>\n",
       "    </tr>\n",
       "    <tr>\n",
       "      <th>28</th>\n",
       "      <td>2012</td>\n",
       "      <td>24549</td>\n",
       "      <td>1000000.0</td>\n",
       "      <td>10.0</td>\n",
       "    </tr>\n",
       "    <tr>\n",
       "      <th>29</th>\n",
       "      <td>2013</td>\n",
       "      <td>23978</td>\n",
       "      <td>1200000.0</td>\n",
       "      <td>9.0</td>\n",
       "    </tr>\n",
       "  </tbody>\n",
       "</table>\n",
       "</div>"
      ],
      "text/plain": [
       "    funded_year  funding_rounds  raised_amount_round  rank\n",
       "14         1998              72             100000.0  11.0\n",
       "15         1999             268            2000000.0   7.0\n",
       "16         2000             403            4200000.0   3.0\n",
       "17         2001             302            3000000.0   6.0\n",
       "18         2002             385            4200000.0   3.0\n",
       "19         2003             569            3000000.0   6.0\n",
       "20         2004            1057            5000000.0   2.0\n",
       "21         2005            4157            5500000.0   1.0\n",
       "22         2006            6295            5000000.0   2.0\n",
       "23         2007            8494            3973320.0   4.0\n",
       "24         2008            9931            3110000.0   5.0\n",
       "25         2009           11857            2000000.0   7.0\n",
       "26         2010           16913            1602500.0   8.0\n",
       "27         2011           23503            1200000.0   9.0\n",
       "28         2012           24549            1000000.0  10.0\n",
       "29         2013           23978            1200000.0   9.0"
      ]
     },
     "execution_count": 15,
     "metadata": {},
     "output_type": "execute_result"
    }
   ],
   "source": [
    "#отфильтруем информацию по годам (для тех лет, для которых есть информация о более чем 50 раундах финансирования.)\n",
    "pivot_table_raised=pivot_table_raised[pivot_table_raised['funding_rounds']>50]\n",
    "pivot_table_raised['rank']=pivot_table_raised['raised_amount_round'].rank(method='dense', ascending=False)\n",
    "pivot_table_raised"
   ]
  },
  {
   "cell_type": "code",
   "execution_count": 16,
   "metadata": {
    "id": "Z92DzKMMFdKW"
   },
   "outputs": [
    {
     "data": {
      "image/png": "[encoded data removed]",
      "text/plain": [
       "<Figure size 800x300 with 1 Axes>"
      ]
     },
     "metadata": {},
     "output_type": "display_data"
    }
   ],
   "source": [
    "# Построим график 'Динамику типичного размера средств, получаемых стартапами в рамках одного раунда финансирования'\n",
    "pivot_table_raised.plot(kind='line',\n",
    "                        x='funded_year',\n",
    "                        y='raised_amount_round',\n",
    "                        legend=False,\n",
    "                        figsize=(8,3)\n",
    "                       )\n",
    "plt.title('Динамика типичного размера средств, получаемых стартапами в рамках одного раунда финансирования')\n",
    "plt.xlabel('Год')\n",
    "plt.ylabel('Среднее финансирование на 1 раунд')\n",
    "plt.show()"
   ]
  },
  {
   "cell_type": "markdown",
   "metadata": {},
   "source": [
    "<div style=\"border: 3px solid #ccc; padding: 10px; border-radius: 5px;\">  С 1960 до 1998 года информация была менеее чем о 50 раундах финансирования. Типичный размер собранных в рамках одного раунда средств был максимален в 2005 году. В 2013 году количество раундов было меньше чем в 2012, но при этом типичный размер собранных в рамках одного раунда средств был выше, т.е. за меньшее количество раундов было привлечено больше средств. Тенденция наблюдается следующая, после пика в 2005 году размер средств, собранных в рамках одного раунда начал снижаться до 2012 года, и только в 2013 году тренд начал меняться в большую сторону. Падение финансирования на стартап произошло потому что финансироваться стали  мелкие стартапы, и они потянули среднюю вниз, т.е. инвестироваться стали даже в самые маленькие стартапы. </div>"
   ]
  },
  {
   "cell_type": "markdown",
   "metadata": {
    "id": "45if1en1rJg2"
   },
   "source": [
    "\n",
    "### 2.2. Люди и их образование\n",
    "\n",
    "Заказчик хочет понять, зависит ли полнота сведений о сотрудниках (например, об их образовании) от размера компаний, путем разделения всех компаний на несколько групп по по количеству сотрудников."
   ]
  },
  {
   "cell_type": "code",
   "execution_count": 17,
   "metadata": {
    "id": "psPO7C4MrJg2",
    "vscode": {
     "languageId": "plaintext"
    }
   },
   "outputs": [
    {
     "data": {
      "text/html": [
       "<div>\n",
       "<style scoped>\n",
       "    .dataframe tbody tr th:only-of-type {\n",
       "        vertical-align: middle;\n",
       "    }\n",
       "\n",
       "    .dataframe tbody tr th {\n",
       "        vertical-align: top;\n",
       "    }\n",
       "\n",
       "    .dataframe thead th {\n",
       "        text-align: right;\n",
       "    }\n",
       "</style>\n",
       "<table border=\"1\" class=\"dataframe\">\n",
       "  <thead>\n",
       "    <tr style=\"text-align: right;\">\n",
       "      <th></th>\n",
       "      <th>id</th>\n",
       "      <th>first_name</th>\n",
       "      <th>last_name</th>\n",
       "      <th>company_id</th>\n",
       "      <th>network_username</th>\n",
       "      <th>id_edu</th>\n",
       "      <th>person_id</th>\n",
       "      <th>instituition</th>\n",
       "      <th>graduated_at</th>\n",
       "    </tr>\n",
       "  </thead>\n",
       "  <tbody>\n",
       "    <tr>\n",
       "      <th>0</th>\n",
       "      <td>10</td>\n",
       "      <td>Mark</td>\n",
       "      <td>Zuckerberg</td>\n",
       "      <td>5.0</td>\n",
       "      <td>NaN</td>\n",
       "      <td>2415.0</td>\n",
       "      <td>10.0</td>\n",
       "      <td>Harvard University</td>\n",
       "      <td>NaT</td>\n",
       "    </tr>\n",
       "    <tr>\n",
       "      <th>1</th>\n",
       "      <td>100</td>\n",
       "      <td>Peter</td>\n",
       "      <td>Lester</td>\n",
       "      <td>27.0</td>\n",
       "      <td>NaN</td>\n",
       "      <td>NaN</td>\n",
       "      <td>NaN</td>\n",
       "      <td>NaN</td>\n",
       "      <td>NaT</td>\n",
       "    </tr>\n",
       "    <tr>\n",
       "      <th>2</th>\n",
       "      <td>1000</td>\n",
       "      <td>Dr. Steven</td>\n",
       "      <td>E. Saunders</td>\n",
       "      <td>292.0</td>\n",
       "      <td>NaN</td>\n",
       "      <td>NaN</td>\n",
       "      <td>NaN</td>\n",
       "      <td>NaN</td>\n",
       "      <td>NaT</td>\n",
       "    </tr>\n",
       "    <tr>\n",
       "      <th>3</th>\n",
       "      <td>10000</td>\n",
       "      <td>Neil</td>\n",
       "      <td>Capel</td>\n",
       "      <td>2526.0</td>\n",
       "      <td>NaN</td>\n",
       "      <td>NaN</td>\n",
       "      <td>NaN</td>\n",
       "      <td>NaN</td>\n",
       "      <td>NaT</td>\n",
       "    </tr>\n",
       "    <tr>\n",
       "      <th>4</th>\n",
       "      <td>100000</td>\n",
       "      <td>Sue</td>\n",
       "      <td>Pilsch</td>\n",
       "      <td>NaN</td>\n",
       "      <td>NaN</td>\n",
       "      <td>NaN</td>\n",
       "      <td>NaN</td>\n",
       "      <td>NaN</td>\n",
       "      <td>NaT</td>\n",
       "    </tr>\n",
       "  </tbody>\n",
       "</table>\n",
       "</div>"
      ],
      "text/plain": [
       "       id  first_name    last_name  company_id network_username  id_edu  \\\n",
       "0      10        Mark   Zuckerberg         5.0              NaN  2415.0   \n",
       "1     100       Peter       Lester        27.0              NaN     NaN   \n",
       "2    1000  Dr. Steven  E. Saunders       292.0              NaN     NaN   \n",
       "3   10000        Neil        Capel      2526.0              NaN     NaN   \n",
       "4  100000         Sue       Pilsch         NaN              NaN     NaN   \n",
       "\n",
       "   person_id        instituition graduated_at  \n",
       "0       10.0  Harvard University          NaT  \n",
       "1        NaN                 NaN          NaT  \n",
       "2        NaN                 NaN          NaT  \n",
       "3        NaN                 NaN          NaT  \n",
       "4        NaN                 NaN          NaT  "
      ]
     },
     "execution_count": 17,
     "metadata": {},
     "output_type": "execute_result"
    }
   ],
   "source": [
    "# присоединяем таблицу файла education.csv к people.csv\n",
    "df_people_education=df_people.merge(df_education, left_on='id', right_on='person_id', how='left', suffixes=('', '_edu'))\n",
    "df_people_education.head()"
   ]
  },
  {
   "cell_type": "code",
   "execution_count": 18,
   "metadata": {
    "scrolled": true
   },
   "outputs": [
    {
     "data": {
      "text/html": [
       "<div>\n",
       "<style scoped>\n",
       "    .dataframe tbody tr th:only-of-type {\n",
       "        vertical-align: middle;\n",
       "    }\n",
       "\n",
       "    .dataframe tbody tr th {\n",
       "        vertical-align: top;\n",
       "    }\n",
       "\n",
       "    .dataframe thead th {\n",
       "        text-align: right;\n",
       "    }\n",
       "</style>\n",
       "<table border=\"1\" class=\"dataframe\">\n",
       "  <thead>\n",
       "    <tr style=\"text-align: right;\">\n",
       "      <th></th>\n",
       "      <th>company_id</th>\n",
       "      <th>id</th>\n",
       "    </tr>\n",
       "  </thead>\n",
       "  <tbody>\n",
       "    <tr>\n",
       "      <th>48</th>\n",
       "      <td>59.0</td>\n",
       "      <td>376</td>\n",
       "    </tr>\n",
       "    <tr>\n",
       "      <th>25</th>\n",
       "      <td>29.0</td>\n",
       "      <td>221</td>\n",
       "    </tr>\n",
       "    <tr>\n",
       "      <th>777</th>\n",
       "      <td>1242.0</td>\n",
       "      <td>192</td>\n",
       "    </tr>\n",
       "    <tr>\n",
       "      <th>20605</th>\n",
       "      <td>231067.0</td>\n",
       "      <td>111</td>\n",
       "    </tr>\n",
       "    <tr>\n",
       "      <th>1761</th>\n",
       "      <td>4175.0</td>\n",
       "      <td>89</td>\n",
       "    </tr>\n",
       "  </tbody>\n",
       "</table>\n",
       "</div>"
      ],
      "text/plain": [
       "       company_id   id\n",
       "48           59.0  376\n",
       "25           29.0  221\n",
       "777        1242.0  192\n",
       "20605    231067.0  111\n",
       "1761       4175.0   89"
      ]
     },
     "execution_count": 18,
     "metadata": {},
     "output_type": "execute_result"
    }
   ],
   "source": [
    "# Сгруппируем данные по количеству сотрудников в разрезе компании\n",
    "company_people=df_people_education[df_people_education['company_id'].notna()].groupby('company_id')['id'].count().reset_index()\n",
    "#отсортируем таблицу по убыванию количества сотрудников в компании\n",
    "company_people.sort_values(by='id', ascending=False).head()"
   ]
  },
  {
   "cell_type": "code",
   "execution_count": 19,
   "metadata": {
    "id": "BThTjpLqFcsm",
    "scrolled": true
   },
   "outputs": [
    {
     "data": {
      "image/png": "[encoded data removed]",
      "text/plain": [
       "<Figure size 800x200 with 1 Axes>"
      ]
     },
     "metadata": {},
     "output_type": "display_data"
    },
    {
     "data": {
      "image/png": "[encoded data removed]",
      "text/plain": [
       "<Figure size 800x100 with 1 Axes>"
      ]
     },
     "metadata": {},
     "output_type": "display_data"
    }
   ],
   "source": [
    "# Построим гистограмму распределение по количеству сотрудников\n",
    "plt.figure(figsize=(8,2))\n",
    "sns.histplot(data=company_people, x='id', bins=100, kde=True)\n",
    "plt.xlabel('Количество сотрудников')\n",
    "plt.ylabel('Частота')\n",
    "plt.title('Распределение количества сотрудников')\n",
    "plt.show()\n",
    "\n",
    "# Строим диаграмму размаха методом boxplot()\n",
    "boxplot=company_people.boxplot(column='id', vert=False, figsize=(8,1))"
   ]
  },
  {
   "cell_type": "code",
   "execution_count": 20,
   "metadata": {},
   "outputs": [
    {
     "data": {
      "text/plain": [
       "0.00      1.00\n",
       "0.25      1.00\n",
       "0.50      1.00\n",
       "0.75      2.00\n",
       "0.90      3.00\n",
       "0.99     10.79\n",
       "1.00    376.00\n",
       "Name: id, dtype: float64"
      ]
     },
     "execution_count": 20,
     "metadata": {},
     "output_type": "execute_result"
    }
   ],
   "source": [
    "# Расчитаем квантили для дальнейшего разбиения на группы\n",
    "quantiles = company_people['id'].quantile([0, 0.25, 0.5, 0.75, 0.9, 0.99, 1])\n",
    "quantiles"
   ]
  },
  {
   "cell_type": "markdown",
   "metadata": {},
   "source": [
    "<div style=\"border: 3px solid #ccc; padding: 10px; border-radius: 5px;\">  \n",
    "    Гистограмма распределения, диаграмма размаха и квантели показали, что количество сотрудников в компаниях с наличием сотрудников находится в промежутке от 1 до 376, при чем наибольшее количество компаний имеет одного сотрудника, а 99 квантиль представлен всего 10 сотрудниками. <br> \n",
    "    Поэтому было принято решение поделить компании на следующие группы:<br> \n",
    "1-1 сотрудник<br> \n",
    "2-3 - от 2 до 3 сотрудников<br> \n",
    "4-10 - от 4 до 10 сотрудников<br> \n",
    "11-50 - от 11 до 50 сотрудников<br> \n",
    "более 50 - от 50 до 376 сотрудников<br> \n",
    "</div>"
   ]
  },
  {
   "cell_type": "code",
   "execution_count": 21,
   "metadata": {},
   "outputs": [
    {
     "data": {
      "text/html": [
       "<div>\n",
       "<style scoped>\n",
       "    .dataframe tbody tr th:only-of-type {\n",
       "        vertical-align: middle;\n",
       "    }\n",
       "\n",
       "    .dataframe tbody tr th {\n",
       "        vertical-align: top;\n",
       "    }\n",
       "\n",
       "    .dataframe thead th {\n",
       "        text-align: right;\n",
       "    }\n",
       "</style>\n",
       "<table border=\"1\" class=\"dataframe\">\n",
       "  <thead>\n",
       "    <tr style=\"text-align: right;\">\n",
       "      <th></th>\n",
       "      <th>company_id</th>\n",
       "      <th>id</th>\n",
       "      <th>company_size</th>\n",
       "    </tr>\n",
       "  </thead>\n",
       "  <tbody>\n",
       "    <tr>\n",
       "      <th>48</th>\n",
       "      <td>59.0</td>\n",
       "      <td>376</td>\n",
       "      <td>более 50</td>\n",
       "    </tr>\n",
       "    <tr>\n",
       "      <th>25</th>\n",
       "      <td>29.0</td>\n",
       "      <td>221</td>\n",
       "      <td>более 50</td>\n",
       "    </tr>\n",
       "    <tr>\n",
       "      <th>777</th>\n",
       "      <td>1242.0</td>\n",
       "      <td>192</td>\n",
       "      <td>более 50</td>\n",
       "    </tr>\n",
       "    <tr>\n",
       "      <th>20605</th>\n",
       "      <td>231067.0</td>\n",
       "      <td>111</td>\n",
       "      <td>более 50</td>\n",
       "    </tr>\n",
       "    <tr>\n",
       "      <th>1761</th>\n",
       "      <td>4175.0</td>\n",
       "      <td>89</td>\n",
       "      <td>более 50</td>\n",
       "    </tr>\n",
       "  </tbody>\n",
       "</table>\n",
       "</div>"
      ],
      "text/plain": [
       "       company_id   id company_size\n",
       "48           59.0  376    более 50 \n",
       "25           29.0  221    более 50 \n",
       "777        1242.0  192    более 50 \n",
       "20605    231067.0  111    более 50 \n",
       "1761       4175.0   89    более 50 "
      ]
     },
     "metadata": {},
     "output_type": "display_data"
    }
   ],
   "source": [
    "# Разделим компании на группы    \n",
    "company_people['company_size']=pd.cut(company_people['id'], bins=[0, 1, 3, 10, 50, 380], labels=['1', '2-3 ', '4-10', '11-50', 'более 50 ' ])\n",
    "display(company_people.sort_values(by='id', ascending=False).head())"
   ]
  },
  {
   "cell_type": "code",
   "execution_count": 22,
   "metadata": {
    "scrolled": true
   },
   "outputs": [
    {
     "data": {
      "text/html": [
       "<div>\n",
       "<style scoped>\n",
       "    .dataframe tbody tr th:only-of-type {\n",
       "        vertical-align: middle;\n",
       "    }\n",
       "\n",
       "    .dataframe tbody tr th {\n",
       "        vertical-align: top;\n",
       "    }\n",
       "\n",
       "    .dataframe thead th {\n",
       "        text-align: right;\n",
       "    }\n",
       "</style>\n",
       "<table border=\"1\" class=\"dataframe\">\n",
       "  <thead>\n",
       "    <tr style=\"text-align: right;\">\n",
       "      <th></th>\n",
       "      <th>count</th>\n",
       "      <th>sum</th>\n",
       "    </tr>\n",
       "    <tr>\n",
       "      <th>company_size</th>\n",
       "      <th></th>\n",
       "      <th></th>\n",
       "    </tr>\n",
       "  </thead>\n",
       "  <tbody>\n",
       "    <tr>\n",
       "      <th>1</th>\n",
       "      <td>14150</td>\n",
       "      <td>14150</td>\n",
       "    </tr>\n",
       "    <tr>\n",
       "      <th>2-3</th>\n",
       "      <td>6592</td>\n",
       "      <td>15041</td>\n",
       "    </tr>\n",
       "    <tr>\n",
       "      <th>4-10</th>\n",
       "      <td>1950</td>\n",
       "      <td>10444</td>\n",
       "    </tr>\n",
       "    <tr>\n",
       "      <th>11-50</th>\n",
       "      <td>216</td>\n",
       "      <td>3546</td>\n",
       "    </tr>\n",
       "    <tr>\n",
       "      <th>более 50</th>\n",
       "      <td>14</td>\n",
       "      <td>1608</td>\n",
       "    </tr>\n",
       "  </tbody>\n",
       "</table>\n",
       "</div>"
      ],
      "text/plain": [
       "              count    sum\n",
       "company_size              \n",
       "1             14150  14150\n",
       "2-3            6592  15041\n",
       "4-10           1950  10444\n",
       "11-50           216   3546\n",
       "более 50         14   1608"
      ]
     },
     "execution_count": 22,
     "metadata": {},
     "output_type": "execute_result"
    }
   ],
   "source": [
    "# Посмотрим количество компаний и сотрудников в каждой группе\n",
    "group_company=company_people.groupby('company_size')['id'].agg(['count','sum'])\n",
    "group_company"
   ]
  },
  {
   "cell_type": "code",
   "execution_count": 23,
   "metadata": {
    "scrolled": true
   },
   "outputs": [
    {
     "data": {
      "text/html": [
       "<div>\n",
       "<style scoped>\n",
       "    .dataframe tbody tr th:only-of-type {\n",
       "        vertical-align: middle;\n",
       "    }\n",
       "\n",
       "    .dataframe tbody tr th {\n",
       "        vertical-align: top;\n",
       "    }\n",
       "\n",
       "    .dataframe thead th {\n",
       "        text-align: right;\n",
       "    }\n",
       "</style>\n",
       "<table border=\"1\" class=\"dataframe\">\n",
       "  <thead>\n",
       "    <tr style=\"text-align: right;\">\n",
       "      <th></th>\n",
       "      <th>id</th>\n",
       "      <th>first_name</th>\n",
       "      <th>last_name</th>\n",
       "      <th>company_id</th>\n",
       "      <th>network_username</th>\n",
       "      <th>id_edu</th>\n",
       "      <th>person_id</th>\n",
       "      <th>instituition</th>\n",
       "      <th>graduated_at</th>\n",
       "      <th>company_size</th>\n",
       "    </tr>\n",
       "  </thead>\n",
       "  <tbody>\n",
       "    <tr>\n",
       "      <th>0</th>\n",
       "      <td>10</td>\n",
       "      <td>Mark</td>\n",
       "      <td>Zuckerberg</td>\n",
       "      <td>5.0</td>\n",
       "      <td>NaN</td>\n",
       "      <td>2415.0</td>\n",
       "      <td>10.0</td>\n",
       "      <td>Harvard University</td>\n",
       "      <td>NaT</td>\n",
       "      <td>более 50</td>\n",
       "    </tr>\n",
       "    <tr>\n",
       "      <th>1</th>\n",
       "      <td>100</td>\n",
       "      <td>Peter</td>\n",
       "      <td>Lester</td>\n",
       "      <td>27.0</td>\n",
       "      <td>NaN</td>\n",
       "      <td>NaN</td>\n",
       "      <td>NaN</td>\n",
       "      <td>NaN</td>\n",
       "      <td>NaT</td>\n",
       "      <td>11-50</td>\n",
       "    </tr>\n",
       "    <tr>\n",
       "      <th>2</th>\n",
       "      <td>1000</td>\n",
       "      <td>Dr. Steven</td>\n",
       "      <td>E. Saunders</td>\n",
       "      <td>292.0</td>\n",
       "      <td>NaN</td>\n",
       "      <td>NaN</td>\n",
       "      <td>NaN</td>\n",
       "      <td>NaN</td>\n",
       "      <td>NaT</td>\n",
       "      <td>2-3</td>\n",
       "    </tr>\n",
       "    <tr>\n",
       "      <th>3</th>\n",
       "      <td>10000</td>\n",
       "      <td>Neil</td>\n",
       "      <td>Capel</td>\n",
       "      <td>2526.0</td>\n",
       "      <td>NaN</td>\n",
       "      <td>NaN</td>\n",
       "      <td>NaN</td>\n",
       "      <td>NaN</td>\n",
       "      <td>NaT</td>\n",
       "      <td>2-3</td>\n",
       "    </tr>\n",
       "    <tr>\n",
       "      <th>4</th>\n",
       "      <td>100000</td>\n",
       "      <td>Sue</td>\n",
       "      <td>Pilsch</td>\n",
       "      <td>NaN</td>\n",
       "      <td>NaN</td>\n",
       "      <td>NaN</td>\n",
       "      <td>NaN</td>\n",
       "      <td>NaN</td>\n",
       "      <td>NaT</td>\n",
       "      <td>NaN</td>\n",
       "    </tr>\n",
       "  </tbody>\n",
       "</table>\n",
       "</div>"
      ],
      "text/plain": [
       "       id  first_name    last_name  company_id network_username  id_edu  \\\n",
       "0      10        Mark   Zuckerberg         5.0              NaN  2415.0   \n",
       "1     100       Peter       Lester        27.0              NaN     NaN   \n",
       "2    1000  Dr. Steven  E. Saunders       292.0              NaN     NaN   \n",
       "3   10000        Neil        Capel      2526.0              NaN     NaN   \n",
       "4  100000         Sue       Pilsch         NaN              NaN     NaN   \n",
       "\n",
       "   person_id        instituition graduated_at company_size  \n",
       "0       10.0  Harvard University          NaT    более 50   \n",
       "1        NaN                 NaN          NaT        11-50  \n",
       "2        NaN                 NaN          NaT         2-3   \n",
       "3        NaN                 NaN          NaT         2-3   \n",
       "4        NaN                 NaN          NaT          NaN  "
      ]
     },
     "execution_count": 23,
     "metadata": {},
     "output_type": "execute_result"
    }
   ],
   "source": [
    "# Присоединим критерий размера компаний к нашим основным данным о сотрудниках и их образовании \n",
    "df_people_education=df_people_education.merge(company_people[['company_id', 'company_size']], on='company_id', how='left')\n",
    "df_people_education.head()"
   ]
  },
  {
   "cell_type": "code",
   "execution_count": 24,
   "metadata": {
    "scrolled": true
   },
   "outputs": [
    {
     "data": {
      "text/html": [
       "<div>\n",
       "<style scoped>\n",
       "    .dataframe tbody tr th:only-of-type {\n",
       "        vertical-align: middle;\n",
       "    }\n",
       "\n",
       "    .dataframe tbody tr th {\n",
       "        vertical-align: top;\n",
       "    }\n",
       "\n",
       "    .dataframe thead th {\n",
       "        text-align: right;\n",
       "    }\n",
       "</style>\n",
       "<table border=\"1\" class=\"dataframe\">\n",
       "  <thead>\n",
       "    <tr style=\"text-align: right;\">\n",
       "      <th></th>\n",
       "      <th>id</th>\n",
       "      <th>id_edu</th>\n",
       "      <th>share_null</th>\n",
       "    </tr>\n",
       "    <tr>\n",
       "      <th>company_size</th>\n",
       "      <th></th>\n",
       "      <th></th>\n",
       "      <th></th>\n",
       "    </tr>\n",
       "  </thead>\n",
       "  <tbody>\n",
       "    <tr>\n",
       "      <th>1</th>\n",
       "      <td>14150</td>\n",
       "      <td>5769</td>\n",
       "      <td>0.592297</td>\n",
       "    </tr>\n",
       "    <tr>\n",
       "      <th>2-3</th>\n",
       "      <td>15041</td>\n",
       "      <td>11628</td>\n",
       "      <td>0.226913</td>\n",
       "    </tr>\n",
       "    <tr>\n",
       "      <th>4-10</th>\n",
       "      <td>10444</td>\n",
       "      <td>7363</td>\n",
       "      <td>0.295002</td>\n",
       "    </tr>\n",
       "    <tr>\n",
       "      <th>11-50</th>\n",
       "      <td>3546</td>\n",
       "      <td>2564</td>\n",
       "      <td>0.276932</td>\n",
       "    </tr>\n",
       "    <tr>\n",
       "      <th>более 50</th>\n",
       "      <td>1608</td>\n",
       "      <td>1314</td>\n",
       "      <td>0.182836</td>\n",
       "    </tr>\n",
       "  </tbody>\n",
       "</table>\n",
       "</div>"
      ],
      "text/plain": [
       "                 id  id_edu  share_null\n",
       "company_size                           \n",
       "1             14150    5769    0.592297\n",
       "2-3           15041   11628    0.226913\n",
       "4-10          10444    7363    0.295002\n",
       "11-50          3546    2564    0.276932\n",
       "более 50       1608    1314    0.182836"
      ]
     },
     "execution_count": 24,
     "metadata": {},
     "output_type": "execute_result"
    }
   ],
   "source": [
    "#Рассчитаем долю пропусков в информации об образовании сотрудников в разрезе размера компании\n",
    "share_info_edu=df_people_education.groupby('company_size')[['id','id_edu']].count()\n",
    "share_info_edu['share_null']=(share_info_edu['id']-share_info_edu['id_edu'])/share_info_edu['id']\n",
    "share_info_edu"
   ]
  },
  {
   "cell_type": "markdown",
   "metadata": {},
   "source": [
    "<div style=\"border: 3px solid #ccc; padding: 10px; border-radius: 5px;\">  \n",
    "    Количество компаний и количество сотрудников в каждой группе оказалось неравным (чем меньше сотрудников в компании, тем больше компаний в группе), но так как заказчик хочет понять, зависит ли полнота сведений о сотрудниках от размера компаний нужно учитывать и большие компании в разных группах.<br> \n",
    "    \n",
    "Больше всего пропусков об образовании в компаниях из 1 человека 59% в группах от 2 до 50 сотрудников наблюдается близкая доля пропускоа от 23% до 30%, наименьшая доля пропусков 18% в компаниях с количеством сотрудников более 50%. В какой то степени можно сказать, что чем меньше компания по количеству сотрудников, тем больше пропусков в информации об образовании сотрудников в этих компаниях.\n",
    "</div>"
   ]
  },
  {
   "cell_type": "code",
   "execution_count": 25,
   "metadata": {
    "scrolled": true
   },
   "outputs": [
    {
     "data": {
      "text/html": [
       "<div>\n",
       "<style scoped>\n",
       "    .dataframe tbody tr th:only-of-type {\n",
       "        vertical-align: middle;\n",
       "    }\n",
       "\n",
       "    .dataframe tbody tr th {\n",
       "        vertical-align: top;\n",
       "    }\n",
       "\n",
       "    .dataframe thead th {\n",
       "        text-align: right;\n",
       "    }\n",
       "</style>\n",
       "<table border=\"1\" class=\"dataframe\">\n",
       "  <thead>\n",
       "    <tr style=\"text-align: right;\">\n",
       "      <th></th>\n",
       "      <th>id</th>\n",
       "      <th>first_name</th>\n",
       "      <th>last_name</th>\n",
       "      <th>company_id</th>\n",
       "      <th>network_username</th>\n",
       "      <th>id_edu</th>\n",
       "      <th>person_id</th>\n",
       "      <th>instituition</th>\n",
       "      <th>graduated_at</th>\n",
       "      <th>company_size</th>\n",
       "      <th>company_size2</th>\n",
       "      <th>edu_boll</th>\n",
       "    </tr>\n",
       "  </thead>\n",
       "  <tbody>\n",
       "    <tr>\n",
       "      <th>0</th>\n",
       "      <td>10</td>\n",
       "      <td>Mark</td>\n",
       "      <td>Zuckerberg</td>\n",
       "      <td>5.0</td>\n",
       "      <td>NaN</td>\n",
       "      <td>2415.0</td>\n",
       "      <td>10.0</td>\n",
       "      <td>Harvard University</td>\n",
       "      <td>NaT</td>\n",
       "      <td>более 50</td>\n",
       "      <td>84.0</td>\n",
       "      <td>True</td>\n",
       "    </tr>\n",
       "    <tr>\n",
       "      <th>1</th>\n",
       "      <td>100</td>\n",
       "      <td>Peter</td>\n",
       "      <td>Lester</td>\n",
       "      <td>27.0</td>\n",
       "      <td>NaN</td>\n",
       "      <td>NaN</td>\n",
       "      <td>NaN</td>\n",
       "      <td>NaN</td>\n",
       "      <td>NaT</td>\n",
       "      <td>11-50</td>\n",
       "      <td>14.0</td>\n",
       "      <td>False</td>\n",
       "    </tr>\n",
       "    <tr>\n",
       "      <th>2</th>\n",
       "      <td>1000</td>\n",
       "      <td>Dr. Steven</td>\n",
       "      <td>E. Saunders</td>\n",
       "      <td>292.0</td>\n",
       "      <td>NaN</td>\n",
       "      <td>NaN</td>\n",
       "      <td>NaN</td>\n",
       "      <td>NaN</td>\n",
       "      <td>NaT</td>\n",
       "      <td>2-3</td>\n",
       "      <td>3.0</td>\n",
       "      <td>False</td>\n",
       "    </tr>\n",
       "    <tr>\n",
       "      <th>3</th>\n",
       "      <td>10000</td>\n",
       "      <td>Neil</td>\n",
       "      <td>Capel</td>\n",
       "      <td>2526.0</td>\n",
       "      <td>NaN</td>\n",
       "      <td>NaN</td>\n",
       "      <td>NaN</td>\n",
       "      <td>NaN</td>\n",
       "      <td>NaT</td>\n",
       "      <td>2-3</td>\n",
       "      <td>2.0</td>\n",
       "      <td>False</td>\n",
       "    </tr>\n",
       "    <tr>\n",
       "      <th>4</th>\n",
       "      <td>100000</td>\n",
       "      <td>Sue</td>\n",
       "      <td>Pilsch</td>\n",
       "      <td>NaN</td>\n",
       "      <td>NaN</td>\n",
       "      <td>NaN</td>\n",
       "      <td>NaN</td>\n",
       "      <td>NaN</td>\n",
       "      <td>NaT</td>\n",
       "      <td>NaN</td>\n",
       "      <td>NaN</td>\n",
       "      <td>False</td>\n",
       "    </tr>\n",
       "    <tr>\n",
       "      <th>...</th>\n",
       "      <td>...</td>\n",
       "      <td>...</td>\n",
       "      <td>...</td>\n",
       "      <td>...</td>\n",
       "      <td>...</td>\n",
       "      <td>...</td>\n",
       "      <td>...</td>\n",
       "      <td>...</td>\n",
       "      <td>...</td>\n",
       "      <td>...</td>\n",
       "      <td>...</td>\n",
       "      <td>...</td>\n",
       "    </tr>\n",
       "    <tr>\n",
       "      <th>267689</th>\n",
       "      <td>99999</td>\n",
       "      <td>Ramon</td>\n",
       "      <td>Peypoch</td>\n",
       "      <td>NaN</td>\n",
       "      <td>NaN</td>\n",
       "      <td>NaN</td>\n",
       "      <td>NaN</td>\n",
       "      <td>NaN</td>\n",
       "      <td>NaT</td>\n",
       "      <td>NaN</td>\n",
       "      <td>NaN</td>\n",
       "      <td>False</td>\n",
       "    </tr>\n",
       "    <tr>\n",
       "      <th>267690</th>\n",
       "      <td>174088</td>\n",
       "      <td>Dr. Ray</td>\n",
       "      <td>Woods</td>\n",
       "      <td>188200.0</td>\n",
       "      <td>network</td>\n",
       "      <td>25958.0</td>\n",
       "      <td>174088.0</td>\n",
       "      <td>Sydney University Medical School</td>\n",
       "      <td>1982-01-01</td>\n",
       "      <td>1</td>\n",
       "      <td>1.0</td>\n",
       "      <td>True</td>\n",
       "    </tr>\n",
       "    <tr>\n",
       "      <th>267691</th>\n",
       "      <td>118386</td>\n",
       "      <td>Ricardo</td>\n",
       "      <td>Durand</td>\n",
       "      <td>143419.0</td>\n",
       "      <td>itechsocialnet</td>\n",
       "      <td>18871.0</td>\n",
       "      <td>118386.0</td>\n",
       "      <td>ESCS</td>\n",
       "      <td>2004-01-01</td>\n",
       "      <td>1</td>\n",
       "      <td>1.0</td>\n",
       "      <td>True</td>\n",
       "    </tr>\n",
       "    <tr>\n",
       "      <th>267692</th>\n",
       "      <td>175827</td>\n",
       "      <td>mahesh</td>\n",
       "      <td>kumar</td>\n",
       "      <td>NaN</td>\n",
       "      <td>socialnethubs</td>\n",
       "      <td>NaN</td>\n",
       "      <td>NaN</td>\n",
       "      <td>NaN</td>\n",
       "      <td>NaT</td>\n",
       "      <td>NaN</td>\n",
       "      <td>NaN</td>\n",
       "      <td>False</td>\n",
       "    </tr>\n",
       "    <tr>\n",
       "      <th>267693</th>\n",
       "      <td>178190</td>\n",
       "      <td>Alex</td>\n",
       "      <td>Smith</td>\n",
       "      <td>NaN</td>\n",
       "      <td>esocialnetlike</td>\n",
       "      <td>NaN</td>\n",
       "      <td>NaN</td>\n",
       "      <td>NaN</td>\n",
       "      <td>NaT</td>\n",
       "      <td>NaN</td>\n",
       "      <td>NaN</td>\n",
       "      <td>False</td>\n",
       "    </tr>\n",
       "  </tbody>\n",
       "</table>\n",
       "<p>267694 rows × 12 columns</p>\n",
       "</div>"
      ],
      "text/plain": [
       "            id  first_name    last_name  company_id network_username   id_edu  \\\n",
       "0           10        Mark   Zuckerberg         5.0              NaN   2415.0   \n",
       "1          100       Peter       Lester        27.0              NaN      NaN   \n",
       "2         1000  Dr. Steven  E. Saunders       292.0              NaN      NaN   \n",
       "3        10000        Neil        Capel      2526.0              NaN      NaN   \n",
       "4       100000         Sue       Pilsch         NaN              NaN      NaN   \n",
       "...        ...         ...          ...         ...              ...      ...   \n",
       "267689   99999       Ramon      Peypoch         NaN              NaN      NaN   \n",
       "267690  174088     Dr. Ray        Woods    188200.0          network  25958.0   \n",
       "267691  118386     Ricardo       Durand    143419.0   itechsocialnet  18871.0   \n",
       "267692  175827      mahesh        kumar         NaN    socialnethubs      NaN   \n",
       "267693  178190        Alex        Smith         NaN   esocialnetlike      NaN   \n",
       "\n",
       "        person_id                      instituition graduated_at company_size  \\\n",
       "0            10.0                Harvard University          NaT    более 50    \n",
       "1             NaN                               NaN          NaT        11-50   \n",
       "2             NaN                               NaN          NaT         2-3    \n",
       "3             NaN                               NaN          NaT         2-3    \n",
       "4             NaN                               NaN          NaT          NaN   \n",
       "...           ...                               ...          ...          ...   \n",
       "267689        NaN                               NaN          NaT          NaN   \n",
       "267690   174088.0  Sydney University Medical School   1982-01-01            1   \n",
       "267691   118386.0                              ESCS   2004-01-01            1   \n",
       "267692        NaN                               NaN          NaT          NaN   \n",
       "267693        NaN                               NaN          NaT          NaN   \n",
       "\n",
       "        company_size2  edu_boll  \n",
       "0                84.0      True  \n",
       "1                14.0     False  \n",
       "2                 3.0     False  \n",
       "3                 2.0     False  \n",
       "4                 NaN     False  \n",
       "...               ...       ...  \n",
       "267689            NaN     False  \n",
       "267690            1.0      True  \n",
       "267691            1.0      True  \n",
       "267692            NaN     False  \n",
       "267693            NaN     False  \n",
       "\n",
       "[267694 rows x 12 columns]"
      ]
     },
     "execution_count": 25,
     "metadata": {},
     "output_type": "execute_result"
    }
   ],
   "source": [
    "# переименуем столбец id в company_size2, который содержит количество сотрудников в компании\n",
    "company_people = company_people.rename(columns={company_people.columns[1]: 'company_size2'})\n",
    "# Добавим в нашу таблицу столбец company_size2\n",
    "df_people_education1=df_people_education.merge(company_people[['company_id', 'company_size2']], on='company_id', how='left')\n",
    "\n",
    "#Создадим новый столбец с булевым значением (есть ли информация об образованиении у сотрудника) \n",
    "def edu_boll(x):\n",
    "    return False if pd.isna(x) else True\n",
    "\n",
    "df_people_education1['edu_boll']=df_people_education1['id_edu'].apply(edu_boll)\n",
    "df_people_education1"
   ]
  },
  {
   "cell_type": "code",
   "execution_count": 26,
   "metadata": {},
   "outputs": [
    {
     "name": "stdout",
     "output_type": "stream",
     "text": [
      "\n",
      "\n",
      "Датафрейм:\u001b[1mКорреляция между наличием информации об образовании и количеством сотрудников работающих в компании\u001b[0m\n"
     ]
    },
    {
     "data": {
      "text/html": [
       "<div>\n",
       "<style scoped>\n",
       "    .dataframe tbody tr th:only-of-type {\n",
       "        vertical-align: middle;\n",
       "    }\n",
       "\n",
       "    .dataframe tbody tr th {\n",
       "        vertical-align: top;\n",
       "    }\n",
       "\n",
       "    .dataframe thead th {\n",
       "        text-align: right;\n",
       "    }\n",
       "</style>\n",
       "<table border=\"1\" class=\"dataframe\">\n",
       "  <thead>\n",
       "    <tr style=\"text-align: right;\">\n",
       "      <th></th>\n",
       "      <th>company_size2</th>\n",
       "      <th>edu_boll</th>\n",
       "    </tr>\n",
       "  </thead>\n",
       "  <tbody>\n",
       "    <tr>\n",
       "      <th>company_size2</th>\n",
       "      <td>1.000000</td>\n",
       "      <td>0.406281</td>\n",
       "    </tr>\n",
       "    <tr>\n",
       "      <th>edu_boll</th>\n",
       "      <td>0.406281</td>\n",
       "      <td>1.000000</td>\n",
       "    </tr>\n",
       "  </tbody>\n",
       "</table>\n",
       "</div>"
      ],
      "text/plain": [
       "               company_size2  edu_boll\n",
       "company_size2       1.000000  0.406281\n",
       "edu_boll            0.406281  1.000000"
      ]
     },
     "metadata": {},
     "output_type": "display_data"
    },
    {
     "name": "stdout",
     "output_type": "stream",
     "text": [
      "------------------------------------------------------------------------------------------------------------------------\n",
      "\n",
      "\n",
      "Датафрейм:\u001b[1mКорреляция между наличием информации об образовании и группой, характеризующей размер компании\u001b[0m\n"
     ]
    },
    {
     "data": {
      "text/html": [
       "<div>\n",
       "<style scoped>\n",
       "    .dataframe tbody tr th:only-of-type {\n",
       "        vertical-align: middle;\n",
       "    }\n",
       "\n",
       "    .dataframe tbody tr th {\n",
       "        vertical-align: top;\n",
       "    }\n",
       "\n",
       "    .dataframe thead th {\n",
       "        text-align: right;\n",
       "    }\n",
       "</style>\n",
       "<table border=\"1\" class=\"dataframe\">\n",
       "  <thead>\n",
       "    <tr style=\"text-align: right;\">\n",
       "      <th></th>\n",
       "      <th>company_size</th>\n",
       "      <th>edu_boll</th>\n",
       "    </tr>\n",
       "  </thead>\n",
       "  <tbody>\n",
       "    <tr>\n",
       "      <th>company_size</th>\n",
       "      <td>1.000000</td>\n",
       "      <td>0.273045</td>\n",
       "    </tr>\n",
       "    <tr>\n",
       "      <th>edu_boll</th>\n",
       "      <td>0.273045</td>\n",
       "      <td>1.000000</td>\n",
       "    </tr>\n",
       "  </tbody>\n",
       "</table>\n",
       "</div>"
      ],
      "text/plain": [
       "              company_size  edu_boll\n",
       "company_size      1.000000  0.273045\n",
       "edu_boll          0.273045  1.000000"
      ]
     },
     "metadata": {},
     "output_type": "display_data"
    },
    {
     "name": "stdout",
     "output_type": "stream",
     "text": [
      "------------------------------------------------------------------------------------------------------------------------\n"
     ]
    }
   ],
   "source": [
    "# Построим матрицу корреляции связи наличия информации об образовании с количеством сотрудников  в компании\n",
    "df_people_education2=df_people_education1[['company_size2', 'edu_boll']]\n",
    "correlation_matrix = df_people_education2.phik_matrix(interval_cols=[])\n",
    "\n",
    "# Построим матрицу корреляции связи наличия информации об образовании с группой, характеризующей размер компании\n",
    "df_people_education2=df_people_education1[['company_size', 'edu_boll']]\n",
    "correlation_matrix2 = df_people_education2.phik_matrix(interval_cols=[])\n",
    "\n",
    "print(f'\\n\\nДатафрейм:\\033[1mКорреляция между наличием информации об образовании и количеством сотрудников работающих в компании\\033[0m')\n",
    "display(correlation_matrix)\n",
    "print('-'*120)\n",
    "\n",
    "print(f'\\n\\nДатафрейм:\\033[1mКорреляция между наличием информации об образовании и группой, характеризующей размер компании\\033[0m')\n",
    "display(correlation_matrix2)\n",
    "print('-'*120)\n"
   ]
  },
  {
   "cell_type": "markdown",
   "metadata": {},
   "source": [
    "<div style=\"border: 3px solid #ccc; padding: 10px; border-radius: 5px;\">  Посмотрели связь между наличием информации об образовании и количеством сотрудников работающих в компании (не разделяя на группы). Коэффициент корреляции 0.41 говорит о наличии умеренной положительной связи, для компаний с большим количеством сотрудников наличие информации об образовании встречаетя чаще, пропусков больше в компаниях с мальеньким количеством сотрудников.<br> \n",
    "Также проверили связь наличия образования с группой, характеризующей размер компании, которую мы присвоили ранее. Коэффициент корреляции 0.27 также указывает на наличие умеренной положительной связи, но связь слабее, чем в данных с указанием явного количества человек в компании.</div>"
   ]
  },
  {
   "cell_type": "markdown",
   "metadata": {
    "id": "Lz7qjM32xglW"
   },
   "source": [
    "### 2.3. Объединять или не объединять — вот в чём вопрос\n",
    "\n",
    "Отвечаем на вопрос заказчика: подходит ли для объединения данных столбец `network_username`, который встречается в нескольких датасетах, необходимо понимать, дублируется ли для разных датасетов информация в столбцах с таким названием, и если да — то насколько часто, а также оценить, можно ли использовать столбцы с именем `network_username` для объединения данных."
   ]
  },
  {
   "cell_type": "code",
   "execution_count": 27,
   "metadata": {},
   "outputs": [],
   "source": [
    "# Добавим в словарь датафреймов дополнительный датафрейм df_fund\n",
    "dictionary_df.update({'df_fund': df_fund})"
   ]
  },
  {
   "cell_type": "code",
   "execution_count": 28,
   "metadata": {
    "id": "RxOS5rwmFcNW",
    "scrolled": true
   },
   "outputs": [
    {
     "name": "stdout",
     "output_type": "stream",
     "text": [
      "\n",
      "\n",
      " df_company_and_rounds\n"
     ]
    },
    {
     "data": {
      "text/html": [
       "<div>\n",
       "<style scoped>\n",
       "    .dataframe tbody tr th:only-of-type {\n",
       "        vertical-align: middle;\n",
       "    }\n",
       "\n",
       "    .dataframe tbody tr th {\n",
       "        vertical-align: top;\n",
       "    }\n",
       "\n",
       "    .dataframe thead th {\n",
       "        text-align: right;\n",
       "    }\n",
       "</style>\n",
       "<table border=\"1\" class=\"dataframe\">\n",
       "  <thead>\n",
       "    <tr style=\"text-align: right;\">\n",
       "      <th></th>\n",
       "      <th>company_id</th>\n",
       "      <th>name</th>\n",
       "      <th>category_code</th>\n",
       "      <th>status</th>\n",
       "      <th>founded_at</th>\n",
       "      <th>closed_at</th>\n",
       "      <th>domain</th>\n",
       "      <th>network_username</th>\n",
       "      <th>country_code</th>\n",
       "      <th>investment_rounds</th>\n",
       "      <th>funding_rounds</th>\n",
       "      <th>funding_total</th>\n",
       "      <th>milestones</th>\n",
       "      <th>funding_round_id</th>\n",
       "      <th>company_id</th>\n",
       "      <th>funded_at</th>\n",
       "      <th>funding_round_type</th>\n",
       "      <th>raised_amount</th>\n",
       "      <th>pre_money_valuation</th>\n",
       "      <th>participants</th>\n",
       "      <th>is_first_round</th>\n",
       "      <th>is_last_round</th>\n",
       "      <th>funded_year</th>\n",
       "    </tr>\n",
       "  </thead>\n",
       "  <tbody>\n",
       "    <tr>\n",
       "      <th>0</th>\n",
       "      <td>1.0</td>\n",
       "      <td>Wetpaint</td>\n",
       "      <td>web</td>\n",
       "      <td>operating</td>\n",
       "      <td>2005-10-17</td>\n",
       "      <td>NaT</td>\n",
       "      <td>wetpaint-inc.com</td>\n",
       "      <td>BachelrWetpaint</td>\n",
       "      <td>USA</td>\n",
       "      <td>0.0</td>\n",
       "      <td>3.0</td>\n",
       "      <td>39750000.0</td>\n",
       "      <td>5.0</td>\n",
       "      <td>888.0</td>\n",
       "      <td>1.0</td>\n",
       "      <td>2005-10-01</td>\n",
       "      <td>series-a</td>\n",
       "      <td>5250000.0</td>\n",
       "      <td>0.0</td>\n",
       "      <td>2.0</td>\n",
       "      <td>0.0</td>\n",
       "      <td>1.0</td>\n",
       "      <td>2005.0</td>\n",
       "    </tr>\n",
       "    <tr>\n",
       "      <th>1</th>\n",
       "      <td>1.0</td>\n",
       "      <td>Wetpaint</td>\n",
       "      <td>web</td>\n",
       "      <td>operating</td>\n",
       "      <td>2005-10-17</td>\n",
       "      <td>NaT</td>\n",
       "      <td>wetpaint-inc.com</td>\n",
       "      <td>BachelrWetpaint</td>\n",
       "      <td>USA</td>\n",
       "      <td>0.0</td>\n",
       "      <td>3.0</td>\n",
       "      <td>39750000.0</td>\n",
       "      <td>5.0</td>\n",
       "      <td>889.0</td>\n",
       "      <td>1.0</td>\n",
       "      <td>2007-01-01</td>\n",
       "      <td>series-b</td>\n",
       "      <td>9500000.0</td>\n",
       "      <td>0.0</td>\n",
       "      <td>3.0</td>\n",
       "      <td>0.0</td>\n",
       "      <td>0.0</td>\n",
       "      <td>2007.0</td>\n",
       "    </tr>\n",
       "    <tr>\n",
       "      <th>2</th>\n",
       "      <td>1.0</td>\n",
       "      <td>Wetpaint</td>\n",
       "      <td>web</td>\n",
       "      <td>operating</td>\n",
       "      <td>2005-10-17</td>\n",
       "      <td>NaT</td>\n",
       "      <td>wetpaint-inc.com</td>\n",
       "      <td>BachelrWetpaint</td>\n",
       "      <td>USA</td>\n",
       "      <td>0.0</td>\n",
       "      <td>3.0</td>\n",
       "      <td>39750000.0</td>\n",
       "      <td>5.0</td>\n",
       "      <td>2312.0</td>\n",
       "      <td>1.0</td>\n",
       "      <td>2008-05-19</td>\n",
       "      <td>series-c+</td>\n",
       "      <td>25000000.0</td>\n",
       "      <td>0.0</td>\n",
       "      <td>4.0</td>\n",
       "      <td>1.0</td>\n",
       "      <td>0.0</td>\n",
       "      <td>2008.0</td>\n",
       "    </tr>\n",
       "    <tr>\n",
       "      <th>3</th>\n",
       "      <td>10.0</td>\n",
       "      <td>Flektor</td>\n",
       "      <td>games_video</td>\n",
       "      <td>acquired</td>\n",
       "      <td>NaT</td>\n",
       "      <td>NaT</td>\n",
       "      <td>flektor.com</td>\n",
       "      <td>NaN</td>\n",
       "      <td>USA</td>\n",
       "      <td>0.0</td>\n",
       "      <td>0.0</td>\n",
       "      <td>0.0</td>\n",
       "      <td>0.0</td>\n",
       "      <td>NaN</td>\n",
       "      <td>NaN</td>\n",
       "      <td>NaT</td>\n",
       "      <td>NaN</td>\n",
       "      <td>NaN</td>\n",
       "      <td>NaN</td>\n",
       "      <td>NaN</td>\n",
       "      <td>NaN</td>\n",
       "      <td>NaN</td>\n",
       "      <td>NaN</td>\n",
       "    </tr>\n",
       "    <tr>\n",
       "      <th>4</th>\n",
       "      <td>100.0</td>\n",
       "      <td>There</td>\n",
       "      <td>games_video</td>\n",
       "      <td>acquired</td>\n",
       "      <td>NaT</td>\n",
       "      <td>NaT</td>\n",
       "      <td>there.com</td>\n",
       "      <td>NaN</td>\n",
       "      <td>USA</td>\n",
       "      <td>0.0</td>\n",
       "      <td>0.0</td>\n",
       "      <td>0.0</td>\n",
       "      <td>4.0</td>\n",
       "      <td>NaN</td>\n",
       "      <td>NaN</td>\n",
       "      <td>NaT</td>\n",
       "      <td>NaN</td>\n",
       "      <td>NaN</td>\n",
       "      <td>NaN</td>\n",
       "      <td>NaN</td>\n",
       "      <td>NaN</td>\n",
       "      <td>NaN</td>\n",
       "      <td>NaN</td>\n",
       "    </tr>\n",
       "  </tbody>\n",
       "</table>\n",
       "</div>"
      ],
      "text/plain": [
       "   company_id      name category_code     status founded_at closed_at  \\\n",
       "0         1.0  Wetpaint           web  operating 2005-10-17       NaT   \n",
       "1         1.0  Wetpaint           web  operating 2005-10-17       NaT   \n",
       "2         1.0  Wetpaint           web  operating 2005-10-17       NaT   \n",
       "3        10.0   Flektor   games_video   acquired        NaT       NaT   \n",
       "4       100.0     There   games_video   acquired        NaT       NaT   \n",
       "\n",
       "             domain network_username country_code  investment_rounds  \\\n",
       "0  wetpaint-inc.com  BachelrWetpaint          USA                0.0   \n",
       "1  wetpaint-inc.com  BachelrWetpaint          USA                0.0   \n",
       "2  wetpaint-inc.com  BachelrWetpaint          USA                0.0   \n",
       "3       flektor.com              NaN          USA                0.0   \n",
       "4         there.com              NaN          USA                0.0   \n",
       "\n",
       "   funding_rounds  funding_total  milestones  funding_round_id  company_id  \\\n",
       "0             3.0     39750000.0         5.0             888.0         1.0   \n",
       "1             3.0     39750000.0         5.0             889.0         1.0   \n",
       "2             3.0     39750000.0         5.0            2312.0         1.0   \n",
       "3             0.0            0.0         0.0               NaN         NaN   \n",
       "4             0.0            0.0         4.0               NaN         NaN   \n",
       "\n",
       "   funded_at funding_round_type  raised_amount  pre_money_valuation  \\\n",
       "0 2005-10-01           series-a      5250000.0                  0.0   \n",
       "1 2007-01-01           series-b      9500000.0                  0.0   \n",
       "2 2008-05-19          series-c+     25000000.0                  0.0   \n",
       "3        NaT                NaN            NaN                  NaN   \n",
       "4        NaT                NaN            NaN                  NaN   \n",
       "\n",
       "   participants  is_first_round  is_last_round  funded_year  \n",
       "0           2.0             0.0            1.0       2005.0  \n",
       "1           3.0             0.0            0.0       2007.0  \n",
       "2           4.0             1.0            0.0       2008.0  \n",
       "3           NaN             NaN            NaN          NaN  \n",
       "4           NaN             NaN            NaN          NaN  "
      ]
     },
     "metadata": {},
     "output_type": "display_data"
    },
    {
     "name": "stdout",
     "output_type": "stream",
     "text": [
      "------------------------------------------------------------------------------------------------------------------------\n",
      "\n",
      "\n",
      " df_people\n"
     ]
    },
    {
     "data": {
      "text/html": [
       "<div>\n",
       "<style scoped>\n",
       "    .dataframe tbody tr th:only-of-type {\n",
       "        vertical-align: middle;\n",
       "    }\n",
       "\n",
       "    .dataframe tbody tr th {\n",
       "        vertical-align: top;\n",
       "    }\n",
       "\n",
       "    .dataframe thead th {\n",
       "        text-align: right;\n",
       "    }\n",
       "</style>\n",
       "<table border=\"1\" class=\"dataframe\">\n",
       "  <thead>\n",
       "    <tr style=\"text-align: right;\">\n",
       "      <th></th>\n",
       "      <th>id</th>\n",
       "      <th>first_name</th>\n",
       "      <th>last_name</th>\n",
       "      <th>company_id</th>\n",
       "      <th>network_username</th>\n",
       "    </tr>\n",
       "  </thead>\n",
       "  <tbody>\n",
       "    <tr>\n",
       "      <th>0</th>\n",
       "      <td>10</td>\n",
       "      <td>Mark</td>\n",
       "      <td>Zuckerberg</td>\n",
       "      <td>5.0</td>\n",
       "      <td>NaN</td>\n",
       "    </tr>\n",
       "    <tr>\n",
       "      <th>1</th>\n",
       "      <td>100</td>\n",
       "      <td>Peter</td>\n",
       "      <td>Lester</td>\n",
       "      <td>27.0</td>\n",
       "      <td>NaN</td>\n",
       "    </tr>\n",
       "    <tr>\n",
       "      <th>2</th>\n",
       "      <td>1000</td>\n",
       "      <td>Dr. Steven</td>\n",
       "      <td>E. Saunders</td>\n",
       "      <td>292.0</td>\n",
       "      <td>NaN</td>\n",
       "    </tr>\n",
       "    <tr>\n",
       "      <th>3</th>\n",
       "      <td>10000</td>\n",
       "      <td>Neil</td>\n",
       "      <td>Capel</td>\n",
       "      <td>2526.0</td>\n",
       "      <td>NaN</td>\n",
       "    </tr>\n",
       "    <tr>\n",
       "      <th>4</th>\n",
       "      <td>100000</td>\n",
       "      <td>Sue</td>\n",
       "      <td>Pilsch</td>\n",
       "      <td>NaN</td>\n",
       "      <td>NaN</td>\n",
       "    </tr>\n",
       "  </tbody>\n",
       "</table>\n",
       "</div>"
      ],
      "text/plain": [
       "       id  first_name    last_name  company_id network_username\n",
       "0      10        Mark   Zuckerberg         5.0              NaN\n",
       "1     100       Peter       Lester        27.0              NaN\n",
       "2    1000  Dr. Steven  E. Saunders       292.0              NaN\n",
       "3   10000        Neil        Capel      2526.0              NaN\n",
       "4  100000         Sue       Pilsch         NaN              NaN"
      ]
     },
     "metadata": {},
     "output_type": "display_data"
    },
    {
     "name": "stdout",
     "output_type": "stream",
     "text": [
      "------------------------------------------------------------------------------------------------------------------------\n",
      "\n",
      "\n",
      " df_fund\n"
     ]
    },
    {
     "data": {
      "text/html": [
       "<div>\n",
       "<style scoped>\n",
       "    .dataframe tbody tr th:only-of-type {\n",
       "        vertical-align: middle;\n",
       "    }\n",
       "\n",
       "    .dataframe tbody tr th {\n",
       "        vertical-align: top;\n",
       "    }\n",
       "\n",
       "    .dataframe thead th {\n",
       "        text-align: right;\n",
       "    }\n",
       "</style>\n",
       "<table border=\"1\" class=\"dataframe\">\n",
       "  <thead>\n",
       "    <tr style=\"text-align: right;\">\n",
       "      <th></th>\n",
       "      <th>id</th>\n",
       "      <th>name</th>\n",
       "      <th>founded_at</th>\n",
       "      <th>domain</th>\n",
       "      <th>network_username</th>\n",
       "      <th>country_code</th>\n",
       "      <th>investment_rounds</th>\n",
       "      <th>invested_companies</th>\n",
       "      <th>milestones</th>\n",
       "    </tr>\n",
       "  </thead>\n",
       "  <tbody>\n",
       "    <tr>\n",
       "      <th>0</th>\n",
       "      <td>13131</td>\n",
       "      <td>NaN</td>\n",
       "      <td>NaN</td>\n",
       "      <td>NaN</td>\n",
       "      <td>NaN</td>\n",
       "      <td>NaN</td>\n",
       "      <td>0</td>\n",
       "      <td>0</td>\n",
       "      <td>0</td>\n",
       "    </tr>\n",
       "    <tr>\n",
       "      <th>1</th>\n",
       "      <td>1</td>\n",
       "      <td>Greylock Partners</td>\n",
       "      <td>1965-01-01</td>\n",
       "      <td>greylock.com</td>\n",
       "      <td>greylockvc</td>\n",
       "      <td>USA</td>\n",
       "      <td>307</td>\n",
       "      <td>196</td>\n",
       "      <td>0</td>\n",
       "    </tr>\n",
       "    <tr>\n",
       "      <th>2</th>\n",
       "      <td>10</td>\n",
       "      <td>Mission Ventures</td>\n",
       "      <td>1996-01-01</td>\n",
       "      <td>missionventures.com</td>\n",
       "      <td>NaN</td>\n",
       "      <td>USA</td>\n",
       "      <td>58</td>\n",
       "      <td>33</td>\n",
       "      <td>0</td>\n",
       "    </tr>\n",
       "    <tr>\n",
       "      <th>3</th>\n",
       "      <td>100</td>\n",
       "      <td>Kapor Enterprises, Inc.</td>\n",
       "      <td>NaN</td>\n",
       "      <td>kei.com</td>\n",
       "      <td>NaN</td>\n",
       "      <td>USA</td>\n",
       "      <td>2</td>\n",
       "      <td>1</td>\n",
       "      <td>0</td>\n",
       "    </tr>\n",
       "    <tr>\n",
       "      <th>4</th>\n",
       "      <td>1000</td>\n",
       "      <td>Speed Ventures</td>\n",
       "      <td>NaN</td>\n",
       "      <td>NaN</td>\n",
       "      <td>NaN</td>\n",
       "      <td>NaN</td>\n",
       "      <td>0</td>\n",
       "      <td>0</td>\n",
       "      <td>1</td>\n",
       "    </tr>\n",
       "  </tbody>\n",
       "</table>\n",
       "</div>"
      ],
      "text/plain": [
       "      id                     name  founded_at               domain  \\\n",
       "0  13131                      NaN         NaN                  NaN   \n",
       "1      1        Greylock Partners  1965-01-01         greylock.com   \n",
       "2     10         Mission Ventures  1996-01-01  missionventures.com   \n",
       "3    100  Kapor Enterprises, Inc.         NaN              kei.com   \n",
       "4   1000           Speed Ventures         NaN                  NaN   \n",
       "\n",
       "  network_username country_code  investment_rounds  invested_companies  \\\n",
       "0              NaN          NaN                  0                   0   \n",
       "1       greylockvc          USA                307                 196   \n",
       "2              NaN          USA                 58                  33   \n",
       "3              NaN          USA                  2                   1   \n",
       "4              NaN          NaN                  0                   0   \n",
       "\n",
       "   milestones  \n",
       "0           0  \n",
       "1           0  \n",
       "2           0  \n",
       "3           0  \n",
       "4           1  "
      ]
     },
     "metadata": {},
     "output_type": "display_data"
    },
    {
     "name": "stdout",
     "output_type": "stream",
     "text": [
      "------------------------------------------------------------------------------------------------------------------------\n"
     ]
    }
   ],
   "source": [
    "# Выведем прервые строчки датафреймов, в которых есть столбец network_username\n",
    "for i, (name, df) in enumerate(dictionary_df.items()):\n",
    "    if i in (1,2,5):\n",
    "        print('\\n\\n', name)\n",
    "        display(df.head())\n",
    "        print('-'*120)"
   ]
  },
  {
   "cell_type": "code",
   "execution_count": 29,
   "metadata": {
    "scrolled": true
   },
   "outputs": [
    {
     "name": "stdout",
     "output_type": "stream",
     "text": [
      "\n",
      "\n",
      "Датафрейм:\u001b[1mdf_company_and_rounds\u001b[0m\n",
      "<class 'pandas.core.frame.DataFrame'>\n",
      "RangeIndex: 217774 entries, 0 to 217773\n",
      "Data columns (total 23 columns):\n",
      " #   Column               Non-Null Count   Dtype         \n",
      "---  ------               --------------   -----         \n",
      " 0   company_id           217472 non-null  float64       \n",
      " 1   name                 217471 non-null  object        \n",
      " 2   category_code        143886 non-null  object        \n",
      " 3   status               217472 non-null  object        \n",
      " 4   founded_at           109956 non-null  datetime64[ns]\n",
      " 5   closed_at            3449 non-null    datetime64[ns]\n",
      " 6   domain               147159 non-null  object        \n",
      " 7   network_username     95534 non-null   object        \n",
      " 8   country_code         108607 non-null  object        \n",
      " 9   investment_rounds    217472 non-null  float64       \n",
      " 10  funding_rounds       217472 non-null  float64       \n",
      " 11  funding_total        217472 non-null  float64       \n",
      " 12  milestones           217472 non-null  float64       \n",
      " 13  funding_round_id     52928 non-null   float64       \n",
      " 14  company_id           52928 non-null   float64       \n",
      " 15  funded_at            52680 non-null   datetime64[ns]\n",
      " 16  funding_round_type   52928 non-null   object        \n",
      " 17  raised_amount        52928 non-null   float64       \n",
      " 18  pre_money_valuation  52928 non-null   float64       \n",
      " 19  participants         52928 non-null   float64       \n",
      " 20  is_first_round       52928 non-null   float64       \n",
      " 21  is_last_round        52928 non-null   float64       \n",
      " 22  funded_year          52680 non-null   float64       \n",
      "dtypes: datetime64[ns](3), float64(13), object(7)\n",
      "memory usage: 38.2+ MB\n",
      "None\n",
      "------------------------------------------------------------------------------------------------------------------------\n",
      "\n",
      "\n",
      "Датафрейм:\u001b[1mdf_people\u001b[0m\n",
      "<class 'pandas.core.frame.DataFrame'>\n",
      "RangeIndex: 226709 entries, 0 to 226708\n",
      "Data columns (total 5 columns):\n",
      " #   Column            Non-Null Count   Dtype  \n",
      "---  ------            --------------   -----  \n",
      " 0   id                226709 non-null  int64  \n",
      " 1   first_name        226700 non-null  object \n",
      " 2   last_name         226705 non-null  object \n",
      " 3   company_id        34615 non-null   float64\n",
      " 4   network_username  38867 non-null   object \n",
      "dtypes: float64(1), int64(1), object(3)\n",
      "memory usage: 8.6+ MB\n",
      "None\n",
      "------------------------------------------------------------------------------------------------------------------------\n",
      "\n",
      "\n",
      "Датафрейм:\u001b[1mdf_fund\u001b[0m\n",
      "<class 'pandas.core.frame.DataFrame'>\n",
      "RangeIndex: 11652 entries, 0 to 11651\n",
      "Data columns (total 9 columns):\n",
      " #   Column              Non-Null Count  Dtype \n",
      "---  ------              --------------  ----- \n",
      " 0   id                  11652 non-null  int64 \n",
      " 1   name                11649 non-null  object\n",
      " 2   founded_at          4605 non-null   object\n",
      " 3   domain              7362 non-null   object\n",
      " 4   network_username    2149 non-null   object\n",
      " 5   country_code        7053 non-null   object\n",
      " 6   investment_rounds   11652 non-null  int64 \n",
      " 7   invested_companies  11652 non-null  int64 \n",
      " 8   milestones          11652 non-null  int64 \n",
      "dtypes: int64(4), object(5)\n",
      "memory usage: 819.4+ KB\n",
      "None\n",
      "------------------------------------------------------------------------------------------------------------------------\n"
     ]
    }
   ],
   "source": [
    "# Выведеме информацию о всех датафреймах, в которых есть столбец network_username\n",
    "for i, (name, df) in enumerate(dictionary_df.items()):\n",
    "    if i in (1, 2, 5): \n",
    "        print(f'\\n\\nДатафрейм:\\033[1m{name}\\033[0m')\n",
    "        print(df.info())\n",
    "        print('-'*120)"
   ]
  },
  {
   "cell_type": "code",
   "execution_count": 30,
   "metadata": {},
   "outputs": [
    {
     "name": "stdout",
     "output_type": "stream",
     "text": [
      "Количество пересечений network_username в данных df_company_and_rounds и df_people \u001b[1m2200\u001b[0m\n",
      "Количество пересечений network_username в данных df_company_and_rounds и df_fund network_company_fund_count \u001b[1m71\u001b[0m\n",
      "Количество пересечений network_username в данных df_fund и df_people network_people_fund_count \u001b[1m80\u001b[0m\n"
     ]
    }
   ],
   "source": [
    "# Составим множетво из столбца network_username для каждого из трех датафреймов\n",
    "network_company = set(df_company_and_rounds['network_username'])\n",
    "network_people = set(df_people['network_username'])\n",
    "network_fund = set(df_fund['network_username']) \n",
    "\n",
    "# Посмотрим на количество пересечений в двух датафреймах по network_username\n",
    "network_company_people=network_company & network_people\n",
    "network_company_people_count = len(network_company_people)\n",
    "print(f'Количество пересечений network_username в данных df_company_and_rounds и df_people \\033[1m{network_company_people_count}\\033[0m')\n",
    "\n",
    "network_company_fund = network_company & network_fund\n",
    "network_company_fund_count = len(network_company_fund)\n",
    "print(f'Количество пересечений network_username в данных df_company_and_rounds и df_fund network_company_fund_count \\033[1m{network_company_fund_count}\\033[0m')\n",
    "\n",
    "network_people_fund = network_people & network_fund\n",
    "network_people_fund_count = len(network_people_fund)\n",
    "print(f'Количество пересечений network_username в данных df_fund и df_people network_people_fund_count \\033[1m{network_people_fund_count}\\033[0m')"
   ]
  },
  {
   "cell_type": "code",
   "execution_count": 31,
   "metadata": {},
   "outputs": [],
   "source": [
    "# ядро умрет\n",
    "#dff=df_company_and_rounds.merge(df_people, how='inner', on='network_username', suffixes=('_company', '_peope'))\n",
    "#dff=df_company_and_rounds.merge(df_fund, how='inner', on='network_username', suffixes=('_company', '_peope'))\n",
    "#dff=df_people.merge(df_fund, how='inner', on='network_username', suffixes=('_company', '_peope'))"
   ]
  },
  {
   "cell_type": "code",
   "execution_count": 32,
   "metadata": {
    "scrolled": true
   },
   "outputs": [
    {
     "data": {
      "text/html": [
       "<div>\n",
       "<style scoped>\n",
       "    .dataframe tbody tr th:only-of-type {\n",
       "        vertical-align: middle;\n",
       "    }\n",
       "\n",
       "    .dataframe tbody tr th {\n",
       "        vertical-align: top;\n",
       "    }\n",
       "\n",
       "    .dataframe thead th {\n",
       "        text-align: right;\n",
       "    }\n",
       "</style>\n",
       "<table border=\"1\" class=\"dataframe\">\n",
       "  <thead>\n",
       "    <tr style=\"text-align: right;\">\n",
       "      <th></th>\n",
       "      <th>company_id</th>\n",
       "      <th>name</th>\n",
       "      <th>category_code</th>\n",
       "      <th>status</th>\n",
       "      <th>founded_at</th>\n",
       "      <th>closed_at</th>\n",
       "      <th>domain</th>\n",
       "      <th>network_username</th>\n",
       "      <th>country_code</th>\n",
       "      <th>investment_rounds</th>\n",
       "      <th>funding_rounds</th>\n",
       "      <th>funding_total</th>\n",
       "      <th>milestones</th>\n",
       "      <th>funding_round_id</th>\n",
       "      <th>company_id</th>\n",
       "      <th>funded_at</th>\n",
       "      <th>funding_round_type</th>\n",
       "      <th>raised_amount</th>\n",
       "      <th>pre_money_valuation</th>\n",
       "      <th>participants</th>\n",
       "      <th>is_first_round</th>\n",
       "      <th>is_last_round</th>\n",
       "      <th>funded_year</th>\n",
       "    </tr>\n",
       "  </thead>\n",
       "  <tbody>\n",
       "    <tr>\n",
       "      <th>411</th>\n",
       "      <td>10221.0</td>\n",
       "      <td>Redphlag LLC</td>\n",
       "      <td>consulting</td>\n",
       "      <td>operating</td>\n",
       "      <td>2008-01-01</td>\n",
       "      <td>NaT</td>\n",
       "      <td>redphlag.com</td>\n",
       "      <td>gerardcorbett</td>\n",
       "      <td>USA</td>\n",
       "      <td>0.0</td>\n",
       "      <td>0.0</td>\n",
       "      <td>0.0</td>\n",
       "      <td>0.0</td>\n",
       "      <td>NaN</td>\n",
       "      <td>NaN</td>\n",
       "      <td>NaT</td>\n",
       "      <td>NaN</td>\n",
       "      <td>NaN</td>\n",
       "      <td>NaN</td>\n",
       "      <td>NaN</td>\n",
       "      <td>NaN</td>\n",
       "      <td>NaN</td>\n",
       "      <td>NaN</td>\n",
       "    </tr>\n",
       "    <tr>\n",
       "      <th>450</th>\n",
       "      <td>10243.0</td>\n",
       "      <td>Future Delivery</td>\n",
       "      <td>web</td>\n",
       "      <td>operating</td>\n",
       "      <td>2007-07-07</td>\n",
       "      <td>NaT</td>\n",
       "      <td>viralogy.com</td>\n",
       "      <td>yukaichou</td>\n",
       "      <td>USA</td>\n",
       "      <td>0.0</td>\n",
       "      <td>0.0</td>\n",
       "      <td>0.0</td>\n",
       "      <td>0.0</td>\n",
       "      <td>NaN</td>\n",
       "      <td>NaN</td>\n",
       "      <td>NaT</td>\n",
       "      <td>NaN</td>\n",
       "      <td>NaN</td>\n",
       "      <td>NaN</td>\n",
       "      <td>NaN</td>\n",
       "      <td>NaN</td>\n",
       "      <td>NaN</td>\n",
       "      <td>NaN</td>\n",
       "    </tr>\n",
       "    <tr>\n",
       "      <th>510</th>\n",
       "      <td>102700.0</td>\n",
       "      <td>PATMADE Patentanwalt Kuehnel</td>\n",
       "      <td>legal</td>\n",
       "      <td>operating</td>\n",
       "      <td>2005-01-01</td>\n",
       "      <td>NaT</td>\n",
       "      <td>patmade.de</td>\n",
       "      <td>paberata</td>\n",
       "      <td>DEU</td>\n",
       "      <td>0.0</td>\n",
       "      <td>0.0</td>\n",
       "      <td>0.0</td>\n",
       "      <td>1.0</td>\n",
       "      <td>NaN</td>\n",
       "      <td>NaN</td>\n",
       "      <td>NaT</td>\n",
       "      <td>NaN</td>\n",
       "      <td>NaN</td>\n",
       "      <td>NaN</td>\n",
       "      <td>NaN</td>\n",
       "      <td>NaN</td>\n",
       "      <td>NaN</td>\n",
       "      <td>NaN</td>\n",
       "    </tr>\n",
       "    <tr>\n",
       "      <th>695</th>\n",
       "      <td>103556.0</td>\n",
       "      <td>TriVium Systems</td>\n",
       "      <td>software</td>\n",
       "      <td>operating</td>\n",
       "      <td>1996-01-01</td>\n",
       "      <td>NaT</td>\n",
       "      <td>triviumsystems.biz</td>\n",
       "      <td>triviumsys</td>\n",
       "      <td>USA</td>\n",
       "      <td>0.0</td>\n",
       "      <td>0.0</td>\n",
       "      <td>0.0</td>\n",
       "      <td>0.0</td>\n",
       "      <td>NaN</td>\n",
       "      <td>NaN</td>\n",
       "      <td>NaT</td>\n",
       "      <td>NaN</td>\n",
       "      <td>NaN</td>\n",
       "      <td>NaN</td>\n",
       "      <td>NaN</td>\n",
       "      <td>NaN</td>\n",
       "      <td>NaN</td>\n",
       "      <td>NaN</td>\n",
       "    </tr>\n",
       "    <tr>\n",
       "      <th>717</th>\n",
       "      <td>103681.0</td>\n",
       "      <td>BouliBrand Marketing</td>\n",
       "      <td>consulting</td>\n",
       "      <td>operating</td>\n",
       "      <td>2005-03-01</td>\n",
       "      <td>NaT</td>\n",
       "      <td>boulibrand.com</td>\n",
       "      <td>stroumboulis</td>\n",
       "      <td>NaN</td>\n",
       "      <td>0.0</td>\n",
       "      <td>0.0</td>\n",
       "      <td>0.0</td>\n",
       "      <td>0.0</td>\n",
       "      <td>NaN</td>\n",
       "      <td>NaN</td>\n",
       "      <td>NaT</td>\n",
       "      <td>NaN</td>\n",
       "      <td>NaN</td>\n",
       "      <td>NaN</td>\n",
       "      <td>NaN</td>\n",
       "      <td>NaN</td>\n",
       "      <td>NaN</td>\n",
       "      <td>NaN</td>\n",
       "    </tr>\n",
       "    <tr>\n",
       "      <th>...</th>\n",
       "      <td>...</td>\n",
       "      <td>...</td>\n",
       "      <td>...</td>\n",
       "      <td>...</td>\n",
       "      <td>...</td>\n",
       "      <td>...</td>\n",
       "      <td>...</td>\n",
       "      <td>...</td>\n",
       "      <td>...</td>\n",
       "      <td>...</td>\n",
       "      <td>...</td>\n",
       "      <td>...</td>\n",
       "      <td>...</td>\n",
       "      <td>...</td>\n",
       "      <td>...</td>\n",
       "      <td>...</td>\n",
       "      <td>...</td>\n",
       "      <td>...</td>\n",
       "      <td>...</td>\n",
       "      <td>...</td>\n",
       "      <td>...</td>\n",
       "      <td>...</td>\n",
       "      <td>...</td>\n",
       "    </tr>\n",
       "    <tr>\n",
       "      <th>217438</th>\n",
       "      <td>33601.0</td>\n",
       "      <td>Network-Friends</td>\n",
       "      <td>other</td>\n",
       "      <td>operating</td>\n",
       "      <td>2008-12-01</td>\n",
       "      <td>NaT</td>\n",
       "      <td>network-friends.com</td>\n",
       "      <td>furukama</td>\n",
       "      <td>NaN</td>\n",
       "      <td>0.0</td>\n",
       "      <td>0.0</td>\n",
       "      <td>0.0</td>\n",
       "      <td>0.0</td>\n",
       "      <td>NaN</td>\n",
       "      <td>NaN</td>\n",
       "      <td>NaT</td>\n",
       "      <td>NaN</td>\n",
       "      <td>NaN</td>\n",
       "      <td>NaN</td>\n",
       "      <td>NaN</td>\n",
       "      <td>NaN</td>\n",
       "      <td>NaN</td>\n",
       "      <td>NaN</td>\n",
       "    </tr>\n",
       "    <tr>\n",
       "      <th>217460</th>\n",
       "      <td>150413.0</td>\n",
       "      <td>Infuy</td>\n",
       "      <td>software</td>\n",
       "      <td>operating</td>\n",
       "      <td>2007-01-01</td>\n",
       "      <td>NaT</td>\n",
       "      <td>infuy.com</td>\n",
       "      <td>network</td>\n",
       "      <td>URY</td>\n",
       "      <td>0.0</td>\n",
       "      <td>0.0</td>\n",
       "      <td>0.0</td>\n",
       "      <td>0.0</td>\n",
       "      <td>NaN</td>\n",
       "      <td>NaN</td>\n",
       "      <td>NaT</td>\n",
       "      <td>NaN</td>\n",
       "      <td>NaN</td>\n",
       "      <td>NaN</td>\n",
       "      <td>NaN</td>\n",
       "      <td>NaN</td>\n",
       "      <td>NaN</td>\n",
       "      <td>NaN</td>\n",
       "    </tr>\n",
       "    <tr>\n",
       "      <th>217461</th>\n",
       "      <td>155238.0</td>\n",
       "      <td>Sunfra</td>\n",
       "      <td>consulting</td>\n",
       "      <td>operating</td>\n",
       "      <td>NaT</td>\n",
       "      <td>NaT</td>\n",
       "      <td>sunfra.com</td>\n",
       "      <td>network</td>\n",
       "      <td>IND</td>\n",
       "      <td>0.0</td>\n",
       "      <td>0.0</td>\n",
       "      <td>0.0</td>\n",
       "      <td>0.0</td>\n",
       "      <td>NaN</td>\n",
       "      <td>NaN</td>\n",
       "      <td>NaT</td>\n",
       "      <td>NaN</td>\n",
       "      <td>NaN</td>\n",
       "      <td>NaN</td>\n",
       "      <td>NaN</td>\n",
       "      <td>NaN</td>\n",
       "      <td>NaN</td>\n",
       "      <td>NaN</td>\n",
       "    </tr>\n",
       "    <tr>\n",
       "      <th>217462</th>\n",
       "      <td>183352.0</td>\n",
       "      <td>Mattress Source</td>\n",
       "      <td>NaN</td>\n",
       "      <td>operating</td>\n",
       "      <td>NaT</td>\n",
       "      <td>NaT</td>\n",
       "      <td>mattresssourcestl.com</td>\n",
       "      <td>network</td>\n",
       "      <td>NaN</td>\n",
       "      <td>0.0</td>\n",
       "      <td>0.0</td>\n",
       "      <td>0.0</td>\n",
       "      <td>0.0</td>\n",
       "      <td>NaN</td>\n",
       "      <td>NaN</td>\n",
       "      <td>NaT</td>\n",
       "      <td>NaN</td>\n",
       "      <td>NaN</td>\n",
       "      <td>NaN</td>\n",
       "      <td>NaN</td>\n",
       "      <td>NaN</td>\n",
       "      <td>NaN</td>\n",
       "      <td>NaN</td>\n",
       "    </tr>\n",
       "    <tr>\n",
       "      <th>217467</th>\n",
       "      <td>7748.0</td>\n",
       "      <td>Flowgram</td>\n",
       "      <td>web</td>\n",
       "      <td>closed</td>\n",
       "      <td>2007-06-01</td>\n",
       "      <td>2008-06-11</td>\n",
       "      <td>flowgram.com</td>\n",
       "      <td>network</td>\n",
       "      <td>USA</td>\n",
       "      <td>0.0</td>\n",
       "      <td>1.0</td>\n",
       "      <td>1300000.0</td>\n",
       "      <td>3.0</td>\n",
       "      <td>2836.0</td>\n",
       "      <td>7748.0</td>\n",
       "      <td>2008-01-31</td>\n",
       "      <td>angel</td>\n",
       "      <td>1300000.0</td>\n",
       "      <td>0.0</td>\n",
       "      <td>8.0</td>\n",
       "      <td>1.0</td>\n",
       "      <td>1.0</td>\n",
       "      <td>2008.0</td>\n",
       "    </tr>\n",
       "  </tbody>\n",
       "</table>\n",
       "<p>2494 rows × 23 columns</p>\n",
       "</div>"
      ],
      "text/plain": [
       "        company_id                          name category_code     status  \\\n",
       "411        10221.0                  Redphlag LLC    consulting  operating   \n",
       "450        10243.0               Future Delivery           web  operating   \n",
       "510       102700.0  PATMADE Patentanwalt Kuehnel         legal  operating   \n",
       "695       103556.0               TriVium Systems      software  operating   \n",
       "717       103681.0          BouliBrand Marketing    consulting  operating   \n",
       "...            ...                           ...           ...        ...   \n",
       "217438     33601.0               Network-Friends         other  operating   \n",
       "217460    150413.0                         Infuy      software  operating   \n",
       "217461    155238.0                        Sunfra    consulting  operating   \n",
       "217462    183352.0               Mattress Source           NaN  operating   \n",
       "217467      7748.0                      Flowgram           web     closed   \n",
       "\n",
       "       founded_at  closed_at                 domain network_username  \\\n",
       "411    2008-01-01        NaT           redphlag.com    gerardcorbett   \n",
       "450    2007-07-07        NaT           viralogy.com        yukaichou   \n",
       "510    2005-01-01        NaT             patmade.de         paberata   \n",
       "695    1996-01-01        NaT     triviumsystems.biz       triviumsys   \n",
       "717    2005-03-01        NaT         boulibrand.com     stroumboulis   \n",
       "...           ...        ...                    ...              ...   \n",
       "217438 2008-12-01        NaT    network-friends.com         furukama   \n",
       "217460 2007-01-01        NaT              infuy.com          network   \n",
       "217461        NaT        NaT             sunfra.com          network   \n",
       "217462        NaT        NaT  mattresssourcestl.com          network   \n",
       "217467 2007-06-01 2008-06-11           flowgram.com          network   \n",
       "\n",
       "       country_code  investment_rounds  funding_rounds  funding_total  \\\n",
       "411             USA                0.0             0.0            0.0   \n",
       "450             USA                0.0             0.0            0.0   \n",
       "510             DEU                0.0             0.0            0.0   \n",
       "695             USA                0.0             0.0            0.0   \n",
       "717             NaN                0.0             0.0            0.0   \n",
       "...             ...                ...             ...            ...   \n",
       "217438          NaN                0.0             0.0            0.0   \n",
       "217460          URY                0.0             0.0            0.0   \n",
       "217461          IND                0.0             0.0            0.0   \n",
       "217462          NaN                0.0             0.0            0.0   \n",
       "217467          USA                0.0             1.0      1300000.0   \n",
       "\n",
       "        milestones  funding_round_id  company_id  funded_at  \\\n",
       "411            0.0               NaN         NaN        NaT   \n",
       "450            0.0               NaN         NaN        NaT   \n",
       "510            1.0               NaN         NaN        NaT   \n",
       "695            0.0               NaN         NaN        NaT   \n",
       "717            0.0               NaN         NaN        NaT   \n",
       "...            ...               ...         ...        ...   \n",
       "217438         0.0               NaN         NaN        NaT   \n",
       "217460         0.0               NaN         NaN        NaT   \n",
       "217461         0.0               NaN         NaN        NaT   \n",
       "217462         0.0               NaN         NaN        NaT   \n",
       "217467         3.0            2836.0      7748.0 2008-01-31   \n",
       "\n",
       "       funding_round_type  raised_amount  pre_money_valuation  participants  \\\n",
       "411                   NaN            NaN                  NaN           NaN   \n",
       "450                   NaN            NaN                  NaN           NaN   \n",
       "510                   NaN            NaN                  NaN           NaN   \n",
       "695                   NaN            NaN                  NaN           NaN   \n",
       "717                   NaN            NaN                  NaN           NaN   \n",
       "...                   ...            ...                  ...           ...   \n",
       "217438                NaN            NaN                  NaN           NaN   \n",
       "217460                NaN            NaN                  NaN           NaN   \n",
       "217461                NaN            NaN                  NaN           NaN   \n",
       "217462                NaN            NaN                  NaN           NaN   \n",
       "217467              angel      1300000.0                  0.0           8.0   \n",
       "\n",
       "        is_first_round  is_last_round  funded_year  \n",
       "411                NaN            NaN          NaN  \n",
       "450                NaN            NaN          NaN  \n",
       "510                NaN            NaN          NaN  \n",
       "695                NaN            NaN          NaN  \n",
       "717                NaN            NaN          NaN  \n",
       "...                ...            ...          ...  \n",
       "217438             NaN            NaN          NaN  \n",
       "217460             NaN            NaN          NaN  \n",
       "217461             NaN            NaN          NaN  \n",
       "217462             NaN            NaN          NaN  \n",
       "217467             1.0            1.0       2008.0  \n",
       "\n",
       "[2494 rows x 23 columns]"
      ]
     },
     "execution_count": 32,
     "metadata": {},
     "output_type": "execute_result"
    }
   ],
   "source": [
    "# Посмотрим на данные датафрейма df_company_and_rounds в которых network_username совпадает с таблицей df_people\n",
    "filtered_df = df_company_and_rounds[\n",
    "    df_company_and_rounds['network_username'].notna() &  \n",
    "    (df_company_and_rounds['network_username'] != '') &  \n",
    "    df_company_and_rounds['network_username'].isin(network_company_people)  \n",
    "]\n",
    "filtered_df"
   ]
  },
  {
   "cell_type": "code",
   "execution_count": 33,
   "metadata": {
    "scrolled": true
   },
   "outputs": [
    {
     "data": {
      "text/html": [
       "<div>\n",
       "<style scoped>\n",
       "    .dataframe tbody tr th:only-of-type {\n",
       "        vertical-align: middle;\n",
       "    }\n",
       "\n",
       "    .dataframe tbody tr th {\n",
       "        vertical-align: top;\n",
       "    }\n",
       "\n",
       "    .dataframe thead th {\n",
       "        text-align: right;\n",
       "    }\n",
       "</style>\n",
       "<table border=\"1\" class=\"dataframe\">\n",
       "  <thead>\n",
       "    <tr style=\"text-align: right;\">\n",
       "      <th></th>\n",
       "      <th>id</th>\n",
       "      <th>first_name</th>\n",
       "      <th>last_name</th>\n",
       "      <th>company_id</th>\n",
       "      <th>network_username</th>\n",
       "    </tr>\n",
       "  </thead>\n",
       "  <tbody>\n",
       "    <tr>\n",
       "      <th>6</th>\n",
       "      <td>100006</td>\n",
       "      <td>Courtney</td>\n",
       "      <td>Homer</td>\n",
       "      <td>81558.0</td>\n",
       "      <td>jobsbostontech</td>\n",
       "    </tr>\n",
       "    <tr>\n",
       "      <th>8</th>\n",
       "      <td>100010</td>\n",
       "      <td>Michael</td>\n",
       "      <td>Dadashyan</td>\n",
       "      <td>NaN</td>\n",
       "      <td>fbroulette</td>\n",
       "    </tr>\n",
       "    <tr>\n",
       "      <th>114</th>\n",
       "      <td>100143</td>\n",
       "      <td>W3Origin</td>\n",
       "      <td>Services</td>\n",
       "      <td>81656.0</td>\n",
       "      <td>w3origin</td>\n",
       "    </tr>\n",
       "    <tr>\n",
       "      <th>136</th>\n",
       "      <td>100166</td>\n",
       "      <td>Robert</td>\n",
       "      <td>Rawson</td>\n",
       "      <td>62428.0</td>\n",
       "      <td>manageyourtime</td>\n",
       "    </tr>\n",
       "    <tr>\n",
       "      <th>268</th>\n",
       "      <td>100319</td>\n",
       "      <td>Abhishek</td>\n",
       "      <td>Balaria</td>\n",
       "      <td>81796.0</td>\n",
       "      <td>thezentity</td>\n",
       "    </tr>\n",
       "    <tr>\n",
       "      <th>...</th>\n",
       "      <td>...</td>\n",
       "      <td>...</td>\n",
       "      <td>...</td>\n",
       "      <td>...</td>\n",
       "      <td>...</td>\n",
       "    </tr>\n",
       "    <tr>\n",
       "      <th>226513</th>\n",
       "      <td>99763</td>\n",
       "      <td>Bill</td>\n",
       "      <td>Douglass</td>\n",
       "      <td>81382.0</td>\n",
       "      <td>billdouglass</td>\n",
       "    </tr>\n",
       "    <tr>\n",
       "      <th>226531</th>\n",
       "      <td>99789</td>\n",
       "      <td>Steve</td>\n",
       "      <td>Edwards</td>\n",
       "      <td>NaN</td>\n",
       "      <td>rhobi1</td>\n",
       "    </tr>\n",
       "    <tr>\n",
       "      <th>226539</th>\n",
       "      <td>99796</td>\n",
       "      <td>Steffany</td>\n",
       "      <td>Boldrini</td>\n",
       "      <td>NaN</td>\n",
       "      <td>ecobold</td>\n",
       "    </tr>\n",
       "    <tr>\n",
       "      <th>226589</th>\n",
       "      <td>9986</td>\n",
       "      <td>Sean</td>\n",
       "      <td>Hurley</td>\n",
       "      <td>70845.0</td>\n",
       "      <td>96robots</td>\n",
       "    </tr>\n",
       "    <tr>\n",
       "      <th>226705</th>\n",
       "      <td>174088</td>\n",
       "      <td>Dr. Ray</td>\n",
       "      <td>Woods</td>\n",
       "      <td>188200.0</td>\n",
       "      <td>network</td>\n",
       "    </tr>\n",
       "  </tbody>\n",
       "</table>\n",
       "<p>2270 rows × 5 columns</p>\n",
       "</div>"
      ],
      "text/plain": [
       "            id first_name  last_name  company_id network_username\n",
       "6       100006   Courtney      Homer     81558.0   jobsbostontech\n",
       "8       100010    Michael  Dadashyan         NaN       fbroulette\n",
       "114     100143   W3Origin   Services     81656.0         w3origin\n",
       "136     100166     Robert     Rawson     62428.0   manageyourtime\n",
       "268     100319   Abhishek    Balaria     81796.0       thezentity\n",
       "...        ...        ...        ...         ...              ...\n",
       "226513   99763       Bill   Douglass     81382.0     billdouglass\n",
       "226531   99789      Steve    Edwards         NaN           rhobi1\n",
       "226539   99796   Steffany   Boldrini         NaN          ecobold\n",
       "226589    9986       Sean     Hurley     70845.0         96robots\n",
       "226705  174088    Dr. Ray      Woods    188200.0          network\n",
       "\n",
       "[2270 rows x 5 columns]"
      ]
     },
     "execution_count": 33,
     "metadata": {},
     "output_type": "execute_result"
    }
   ],
   "source": [
    "# Посмотрим на данные датафрейма df_people в которых network_username совпадает с таблицей  df_company_and_rounds\n",
    "filtered_df1 = df_people[\n",
    "    df_people['network_username'].notna() &  \n",
    "    (df_people['network_username'] != '') &  \n",
    "    df_people['network_username'].isin(network_company_people)  \n",
    "]\n",
    "filtered_df1"
   ]
  },
  {
   "cell_type": "markdown",
   "metadata": {},
   "source": [
    "<div style=\"border: 3px solid #ccc; padding: 10px; border-radius: 5px;\">  \n",
    "    Столбец network_usernam имеет разный смысл для разных таблиц для:<br>\n",
    "<b>company_and_rounds</b> -  ник компании в сети<br>\n",
    "<b>people</b> - ник в социальных сетях (логично предположить ник работника)<br>\n",
    "<b>доп таблица fund </b>- ник фонда в сети.<br>\n",
    "Если опираться на здравый смысл, то все network_username должные иметь разное значение и объединять по этой колонке нельзя. Но все же была рассмотрена возможность такого варианта.\n",
    "</div>"
   ]
  },
  {
   "cell_type": "markdown",
   "metadata": {},
   "source": [
    "<div style=\"border: 3px solid #ccc; padding: 10px; border-radius: 5px;\">  \n",
    "    Количество пересечений network_username в данных<br>\n",
    "    df_company_and_rounds и df_people 2200 строк (при том, что в df_company_and_rounds заполнено всего 95534 строк по этому столбцу),<br>\n",
    "    в df_company_and_rounds и df_fund network_company_fund_count 71 строка и \n",
    "    <br>df_fund и df_people network_people_fund_count 80 строк.  <br>\n",
    "    При объединении датафреймов через столбец network_username ядро умирает, так как образуется огромное количество записей, кроме того нет никакого смысла в объединении. <br>\n",
    "    Посмотрев на совпадения можно сказать, что для некоторых сотрудников в таблице people указана не почта сотрудников, а почта компании.</div>"
   ]
  },
  {
   "cell_type": "markdown",
   "metadata": {
    "id": "EHcODomVrJg1"
   },
   "source": [
    "\n",
    "### 2.4. Проблемный датасет и причина возникновения пропусков\n",
    "\n",
    "Во время собственного анализа данных у заказчика больше всего вопросов возникло к датасету `company_and_rounds.csv`. В нём много пропусков как раз в информации о раундах, которая заказчику важна. По гипотезе заказчика данные по компаниям из этой таблицы раньше хранились иначе, более удобным для исследования образом.\n"
   ]
  },
  {
   "cell_type": "markdown",
   "metadata": {},
   "source": [
    "<div style=\"border: 3px solid #ccc; padding: 10px; border-radius: 5px;\">  \n",
    "    Похоже, что датафрейм df_company_and_rounds ранее состоял из двух разных датафреймов, первый содержал информацию о компаниях и финансировании, а второй о раундах финансирования, на это указывает и то, что столбец company_id встречается 2 раза, во втором пропусков 76%, а впервом 0%, соответственно необходимо оставить первый 'company_id'.</div>"
   ]
  },
  {
   "cell_type": "code",
   "execution_count": 34,
   "metadata": {
    "id": "oSk7xqu_FbaN",
    "scrolled": true
   },
   "outputs": [
    {
     "data": {
      "text/html": [
       "<div>\n",
       "<style scoped>\n",
       "    .dataframe tbody tr th:only-of-type {\n",
       "        vertical-align: middle;\n",
       "    }\n",
       "\n",
       "    .dataframe tbody tr th {\n",
       "        vertical-align: top;\n",
       "    }\n",
       "\n",
       "    .dataframe thead th {\n",
       "        text-align: right;\n",
       "    }\n",
       "</style>\n",
       "<table border=\"1\" class=\"dataframe\">\n",
       "  <thead>\n",
       "    <tr style=\"text-align: right;\">\n",
       "      <th></th>\n",
       "      <th>company_id</th>\n",
       "      <th>name</th>\n",
       "      <th>category_code</th>\n",
       "      <th>status</th>\n",
       "      <th>founded_at</th>\n",
       "      <th>closed_at</th>\n",
       "      <th>domain</th>\n",
       "      <th>network_username</th>\n",
       "      <th>country_code</th>\n",
       "      <th>investment_rounds</th>\n",
       "      <th>funding_rounds</th>\n",
       "      <th>funding_total</th>\n",
       "      <th>milestones</th>\n",
       "      <th>funding_round_id</th>\n",
       "      <th>company_id</th>\n",
       "      <th>funded_at</th>\n",
       "      <th>funding_round_type</th>\n",
       "      <th>raised_amount</th>\n",
       "      <th>pre_money_valuation</th>\n",
       "      <th>participants</th>\n",
       "      <th>is_first_round</th>\n",
       "      <th>is_last_round</th>\n",
       "      <th>funded_year</th>\n",
       "    </tr>\n",
       "  </thead>\n",
       "  <tbody>\n",
       "    <tr>\n",
       "      <th>0</th>\n",
       "      <td>1.0</td>\n",
       "      <td>Wetpaint</td>\n",
       "      <td>web</td>\n",
       "      <td>operating</td>\n",
       "      <td>2005-10-17</td>\n",
       "      <td>NaT</td>\n",
       "      <td>wetpaint-inc.com</td>\n",
       "      <td>BachelrWetpaint</td>\n",
       "      <td>USA</td>\n",
       "      <td>0.0</td>\n",
       "      <td>3.0</td>\n",
       "      <td>39750000.0</td>\n",
       "      <td>5.0</td>\n",
       "      <td>888.0</td>\n",
       "      <td>1.0</td>\n",
       "      <td>2005-10-01</td>\n",
       "      <td>series-a</td>\n",
       "      <td>5250000.0</td>\n",
       "      <td>0.0</td>\n",
       "      <td>2.0</td>\n",
       "      <td>0.0</td>\n",
       "      <td>1.0</td>\n",
       "      <td>2005.0</td>\n",
       "    </tr>\n",
       "    <tr>\n",
       "      <th>1</th>\n",
       "      <td>1.0</td>\n",
       "      <td>Wetpaint</td>\n",
       "      <td>web</td>\n",
       "      <td>operating</td>\n",
       "      <td>2005-10-17</td>\n",
       "      <td>NaT</td>\n",
       "      <td>wetpaint-inc.com</td>\n",
       "      <td>BachelrWetpaint</td>\n",
       "      <td>USA</td>\n",
       "      <td>0.0</td>\n",
       "      <td>3.0</td>\n",
       "      <td>39750000.0</td>\n",
       "      <td>5.0</td>\n",
       "      <td>889.0</td>\n",
       "      <td>1.0</td>\n",
       "      <td>2007-01-01</td>\n",
       "      <td>series-b</td>\n",
       "      <td>9500000.0</td>\n",
       "      <td>0.0</td>\n",
       "      <td>3.0</td>\n",
       "      <td>0.0</td>\n",
       "      <td>0.0</td>\n",
       "      <td>2007.0</td>\n",
       "    </tr>\n",
       "    <tr>\n",
       "      <th>2</th>\n",
       "      <td>1.0</td>\n",
       "      <td>Wetpaint</td>\n",
       "      <td>web</td>\n",
       "      <td>operating</td>\n",
       "      <td>2005-10-17</td>\n",
       "      <td>NaT</td>\n",
       "      <td>wetpaint-inc.com</td>\n",
       "      <td>BachelrWetpaint</td>\n",
       "      <td>USA</td>\n",
       "      <td>0.0</td>\n",
       "      <td>3.0</td>\n",
       "      <td>39750000.0</td>\n",
       "      <td>5.0</td>\n",
       "      <td>2312.0</td>\n",
       "      <td>1.0</td>\n",
       "      <td>2008-05-19</td>\n",
       "      <td>series-c+</td>\n",
       "      <td>25000000.0</td>\n",
       "      <td>0.0</td>\n",
       "      <td>4.0</td>\n",
       "      <td>1.0</td>\n",
       "      <td>0.0</td>\n",
       "      <td>2008.0</td>\n",
       "    </tr>\n",
       "    <tr>\n",
       "      <th>3</th>\n",
       "      <td>10.0</td>\n",
       "      <td>Flektor</td>\n",
       "      <td>games_video</td>\n",
       "      <td>acquired</td>\n",
       "      <td>NaT</td>\n",
       "      <td>NaT</td>\n",
       "      <td>flektor.com</td>\n",
       "      <td>NaN</td>\n",
       "      <td>USA</td>\n",
       "      <td>0.0</td>\n",
       "      <td>0.0</td>\n",
       "      <td>0.0</td>\n",
       "      <td>0.0</td>\n",
       "      <td>NaN</td>\n",
       "      <td>NaN</td>\n",
       "      <td>NaT</td>\n",
       "      <td>NaN</td>\n",
       "      <td>NaN</td>\n",
       "      <td>NaN</td>\n",
       "      <td>NaN</td>\n",
       "      <td>NaN</td>\n",
       "      <td>NaN</td>\n",
       "      <td>NaN</td>\n",
       "    </tr>\n",
       "    <tr>\n",
       "      <th>4</th>\n",
       "      <td>100.0</td>\n",
       "      <td>There</td>\n",
       "      <td>games_video</td>\n",
       "      <td>acquired</td>\n",
       "      <td>NaT</td>\n",
       "      <td>NaT</td>\n",
       "      <td>there.com</td>\n",
       "      <td>NaN</td>\n",
       "      <td>USA</td>\n",
       "      <td>0.0</td>\n",
       "      <td>0.0</td>\n",
       "      <td>0.0</td>\n",
       "      <td>4.0</td>\n",
       "      <td>NaN</td>\n",
       "      <td>NaN</td>\n",
       "      <td>NaT</td>\n",
       "      <td>NaN</td>\n",
       "      <td>NaN</td>\n",
       "      <td>NaN</td>\n",
       "      <td>NaN</td>\n",
       "      <td>NaN</td>\n",
       "      <td>NaN</td>\n",
       "      <td>NaN</td>\n",
       "    </tr>\n",
       "    <tr>\n",
       "      <th>5</th>\n",
       "      <td>10000.0</td>\n",
       "      <td>MYWEBBO</td>\n",
       "      <td>network_hosting</td>\n",
       "      <td>operating</td>\n",
       "      <td>2008-07-26</td>\n",
       "      <td>NaT</td>\n",
       "      <td>mywebbo.com</td>\n",
       "      <td>NaN</td>\n",
       "      <td>NaN</td>\n",
       "      <td>0.0</td>\n",
       "      <td>0.0</td>\n",
       "      <td>0.0</td>\n",
       "      <td>0.0</td>\n",
       "      <td>NaN</td>\n",
       "      <td>NaN</td>\n",
       "      <td>NaT</td>\n",
       "      <td>NaN</td>\n",
       "      <td>NaN</td>\n",
       "      <td>NaN</td>\n",
       "      <td>NaN</td>\n",
       "      <td>NaN</td>\n",
       "      <td>NaN</td>\n",
       "      <td>NaN</td>\n",
       "    </tr>\n",
       "    <tr>\n",
       "      <th>6</th>\n",
       "      <td>10001.0</td>\n",
       "      <td>THE Movie Streamer</td>\n",
       "      <td>games_video</td>\n",
       "      <td>operating</td>\n",
       "      <td>2008-07-26</td>\n",
       "      <td>NaT</td>\n",
       "      <td>themoviestreamer.com</td>\n",
       "      <td>NaN</td>\n",
       "      <td>NaN</td>\n",
       "      <td>0.0</td>\n",
       "      <td>0.0</td>\n",
       "      <td>0.0</td>\n",
       "      <td>0.0</td>\n",
       "      <td>NaN</td>\n",
       "      <td>NaN</td>\n",
       "      <td>NaT</td>\n",
       "      <td>NaN</td>\n",
       "      <td>NaN</td>\n",
       "      <td>NaN</td>\n",
       "      <td>NaN</td>\n",
       "      <td>NaN</td>\n",
       "      <td>NaN</td>\n",
       "      <td>NaN</td>\n",
       "    </tr>\n",
       "    <tr>\n",
       "      <th>7</th>\n",
       "      <td>10002.0</td>\n",
       "      <td>Synergie Media</td>\n",
       "      <td>advertising</td>\n",
       "      <td>operating</td>\n",
       "      <td>2007-06-27</td>\n",
       "      <td>NaT</td>\n",
       "      <td>synergie-media.com</td>\n",
       "      <td>NaN</td>\n",
       "      <td>MAR</td>\n",
       "      <td>0.0</td>\n",
       "      <td>0.0</td>\n",
       "      <td>0.0</td>\n",
       "      <td>0.0</td>\n",
       "      <td>NaN</td>\n",
       "      <td>NaN</td>\n",
       "      <td>NaT</td>\n",
       "      <td>NaN</td>\n",
       "      <td>NaN</td>\n",
       "      <td>NaN</td>\n",
       "      <td>NaN</td>\n",
       "      <td>NaN</td>\n",
       "      <td>NaN</td>\n",
       "      <td>NaN</td>\n",
       "    </tr>\n",
       "    <tr>\n",
       "      <th>8</th>\n",
       "      <td>10003.0</td>\n",
       "      <td>Green Basti Ecosystems</td>\n",
       "      <td>cleantech</td>\n",
       "      <td>operating</td>\n",
       "      <td>2008-08-20</td>\n",
       "      <td>NaT</td>\n",
       "      <td>NaN</td>\n",
       "      <td>NaN</td>\n",
       "      <td>IND</td>\n",
       "      <td>0.0</td>\n",
       "      <td>0.0</td>\n",
       "      <td>0.0</td>\n",
       "      <td>0.0</td>\n",
       "      <td>NaN</td>\n",
       "      <td>NaN</td>\n",
       "      <td>NaT</td>\n",
       "      <td>NaN</td>\n",
       "      <td>NaN</td>\n",
       "      <td>NaN</td>\n",
       "      <td>NaN</td>\n",
       "      <td>NaN</td>\n",
       "      <td>NaN</td>\n",
       "      <td>NaN</td>\n",
       "    </tr>\n",
       "    <tr>\n",
       "      <th>9</th>\n",
       "      <td>100042.0</td>\n",
       "      <td>HostNine</td>\n",
       "      <td>NaN</td>\n",
       "      <td>operating</td>\n",
       "      <td>NaT</td>\n",
       "      <td>NaT</td>\n",
       "      <td>hostnine.com</td>\n",
       "      <td>Hostnine</td>\n",
       "      <td>NaN</td>\n",
       "      <td>0.0</td>\n",
       "      <td>0.0</td>\n",
       "      <td>0.0</td>\n",
       "      <td>1.0</td>\n",
       "      <td>NaN</td>\n",
       "      <td>NaN</td>\n",
       "      <td>NaT</td>\n",
       "      <td>NaN</td>\n",
       "      <td>NaN</td>\n",
       "      <td>NaN</td>\n",
       "      <td>NaN</td>\n",
       "      <td>NaN</td>\n",
       "      <td>NaN</td>\n",
       "      <td>NaN</td>\n",
       "    </tr>\n",
       "    <tr>\n",
       "      <th>10</th>\n",
       "      <td>10005.0</td>\n",
       "      <td>Thomas Publishing</td>\n",
       "      <td>advertising</td>\n",
       "      <td>operating</td>\n",
       "      <td>NaT</td>\n",
       "      <td>NaT</td>\n",
       "      <td>thomaspublishing.com</td>\n",
       "      <td>NaN</td>\n",
       "      <td>USA</td>\n",
       "      <td>0.0</td>\n",
       "      <td>0.0</td>\n",
       "      <td>0.0</td>\n",
       "      <td>1.0</td>\n",
       "      <td>NaN</td>\n",
       "      <td>NaN</td>\n",
       "      <td>NaT</td>\n",
       "      <td>NaN</td>\n",
       "      <td>NaN</td>\n",
       "      <td>NaN</td>\n",
       "      <td>NaN</td>\n",
       "      <td>NaN</td>\n",
       "      <td>NaN</td>\n",
       "      <td>NaN</td>\n",
       "    </tr>\n",
       "    <tr>\n",
       "      <th>11</th>\n",
       "      <td>100062.0</td>\n",
       "      <td>Vetter Idea Management System</td>\n",
       "      <td>enterprise</td>\n",
       "      <td>operating</td>\n",
       "      <td>2011-08-01</td>\n",
       "      <td>NaT</td>\n",
       "      <td>getvetter.com</td>\n",
       "      <td>getvetter</td>\n",
       "      <td>NaN</td>\n",
       "      <td>0.0</td>\n",
       "      <td>0.0</td>\n",
       "      <td>0.0</td>\n",
       "      <td>1.0</td>\n",
       "      <td>NaN</td>\n",
       "      <td>NaN</td>\n",
       "      <td>NaT</td>\n",
       "      <td>NaN</td>\n",
       "      <td>NaN</td>\n",
       "      <td>NaN</td>\n",
       "      <td>NaN</td>\n",
       "      <td>NaN</td>\n",
       "      <td>NaN</td>\n",
       "      <td>NaN</td>\n",
       "    </tr>\n",
       "    <tr>\n",
       "      <th>12</th>\n",
       "      <td>100068.0</td>\n",
       "      <td>ChatRandom</td>\n",
       "      <td>games_video</td>\n",
       "      <td>operating</td>\n",
       "      <td>2011-02-01</td>\n",
       "      <td>NaT</td>\n",
       "      <td>chatrandom.com</td>\n",
       "      <td>chatrandom</td>\n",
       "      <td>NaN</td>\n",
       "      <td>0.0</td>\n",
       "      <td>0.0</td>\n",
       "      <td>0.0</td>\n",
       "      <td>1.0</td>\n",
       "      <td>NaN</td>\n",
       "      <td>NaN</td>\n",
       "      <td>NaT</td>\n",
       "      <td>NaN</td>\n",
       "      <td>NaN</td>\n",
       "      <td>NaN</td>\n",
       "      <td>NaN</td>\n",
       "      <td>NaN</td>\n",
       "      <td>NaN</td>\n",
       "      <td>NaN</td>\n",
       "    </tr>\n",
       "    <tr>\n",
       "      <th>13</th>\n",
       "      <td>10008.0</td>\n",
       "      <td>ScapadasAmorosas</td>\n",
       "      <td>other</td>\n",
       "      <td>operating</td>\n",
       "      <td>2007-03-01</td>\n",
       "      <td>NaT</td>\n",
       "      <td>scapadasamorosas.com</td>\n",
       "      <td>NaN</td>\n",
       "      <td>NaN</td>\n",
       "      <td>0.0</td>\n",
       "      <td>0.0</td>\n",
       "      <td>0.0</td>\n",
       "      <td>0.0</td>\n",
       "      <td>NaN</td>\n",
       "      <td>NaN</td>\n",
       "      <td>NaT</td>\n",
       "      <td>NaN</td>\n",
       "      <td>NaN</td>\n",
       "      <td>NaN</td>\n",
       "      <td>NaN</td>\n",
       "      <td>NaN</td>\n",
       "      <td>NaN</td>\n",
       "      <td>NaN</td>\n",
       "    </tr>\n",
       "    <tr>\n",
       "      <th>14</th>\n",
       "      <td>10009.0</td>\n",
       "      <td>dimension5 labs</td>\n",
       "      <td>advertising</td>\n",
       "      <td>operating</td>\n",
       "      <td>2008-08-01</td>\n",
       "      <td>NaT</td>\n",
       "      <td>d5labs.com</td>\n",
       "      <td>NaN</td>\n",
       "      <td>USA</td>\n",
       "      <td>0.0</td>\n",
       "      <td>0.0</td>\n",
       "      <td>0.0</td>\n",
       "      <td>1.0</td>\n",
       "      <td>NaN</td>\n",
       "      <td>NaN</td>\n",
       "      <td>NaT</td>\n",
       "      <td>NaN</td>\n",
       "      <td>NaN</td>\n",
       "      <td>NaN</td>\n",
       "      <td>NaN</td>\n",
       "      <td>NaN</td>\n",
       "      <td>NaN</td>\n",
       "      <td>NaN</td>\n",
       "    </tr>\n",
       "    <tr>\n",
       "      <th>15</th>\n",
       "      <td>1001.0</td>\n",
       "      <td>FriendFeed</td>\n",
       "      <td>web</td>\n",
       "      <td>acquired</td>\n",
       "      <td>2007-10-01</td>\n",
       "      <td>NaT</td>\n",
       "      <td>friendfeed.com</td>\n",
       "      <td>friendfeed</td>\n",
       "      <td>USA</td>\n",
       "      <td>0.0</td>\n",
       "      <td>1.0</td>\n",
       "      <td>5000000.0</td>\n",
       "      <td>3.0</td>\n",
       "      <td>1644.0</td>\n",
       "      <td>1001.0</td>\n",
       "      <td>2008-02-26</td>\n",
       "      <td>series-a</td>\n",
       "      <td>5000000.0</td>\n",
       "      <td>0.0</td>\n",
       "      <td>3.0</td>\n",
       "      <td>1.0</td>\n",
       "      <td>1.0</td>\n",
       "      <td>2008.0</td>\n",
       "    </tr>\n",
       "    <tr>\n",
       "      <th>16</th>\n",
       "      <td>10010.0</td>\n",
       "      <td>Whooligan</td>\n",
       "      <td>games_video</td>\n",
       "      <td>operating</td>\n",
       "      <td>2007-12-01</td>\n",
       "      <td>NaT</td>\n",
       "      <td>whooligan.com</td>\n",
       "      <td>NaN</td>\n",
       "      <td>NaN</td>\n",
       "      <td>0.0</td>\n",
       "      <td>0.0</td>\n",
       "      <td>0.0</td>\n",
       "      <td>0.0</td>\n",
       "      <td>NaN</td>\n",
       "      <td>NaN</td>\n",
       "      <td>NaT</td>\n",
       "      <td>NaN</td>\n",
       "      <td>NaN</td>\n",
       "      <td>NaN</td>\n",
       "      <td>NaN</td>\n",
       "      <td>NaN</td>\n",
       "      <td>NaN</td>\n",
       "      <td>NaN</td>\n",
       "    </tr>\n",
       "    <tr>\n",
       "      <th>17</th>\n",
       "      <td>10011.0</td>\n",
       "      <td>PoetryVisualized.com</td>\n",
       "      <td>games_video</td>\n",
       "      <td>operating</td>\n",
       "      <td>2008-01-01</td>\n",
       "      <td>NaT</td>\n",
       "      <td>poetryvisualized.com</td>\n",
       "      <td>NaN</td>\n",
       "      <td>USA</td>\n",
       "      <td>0.0</td>\n",
       "      <td>0.0</td>\n",
       "      <td>0.0</td>\n",
       "      <td>1.0</td>\n",
       "      <td>NaN</td>\n",
       "      <td>NaN</td>\n",
       "      <td>NaT</td>\n",
       "      <td>NaN</td>\n",
       "      <td>NaN</td>\n",
       "      <td>NaN</td>\n",
       "      <td>NaN</td>\n",
       "      <td>NaN</td>\n",
       "      <td>NaN</td>\n",
       "      <td>NaN</td>\n",
       "    </tr>\n",
       "    <tr>\n",
       "      <th>18</th>\n",
       "      <td>10012.0</td>\n",
       "      <td>moviestring.com</td>\n",
       "      <td>games_video</td>\n",
       "      <td>closed</td>\n",
       "      <td>2008-08-22</td>\n",
       "      <td>2010-01-01</td>\n",
       "      <td>moviestring.com</td>\n",
       "      <td>NaN</td>\n",
       "      <td>NaN</td>\n",
       "      <td>0.0</td>\n",
       "      <td>0.0</td>\n",
       "      <td>0.0</td>\n",
       "      <td>0.0</td>\n",
       "      <td>NaN</td>\n",
       "      <td>NaN</td>\n",
       "      <td>NaT</td>\n",
       "      <td>NaN</td>\n",
       "      <td>NaN</td>\n",
       "      <td>NaN</td>\n",
       "      <td>NaN</td>\n",
       "      <td>NaN</td>\n",
       "      <td>NaN</td>\n",
       "      <td>NaN</td>\n",
       "    </tr>\n",
       "    <tr>\n",
       "      <th>19</th>\n",
       "      <td>10013.0</td>\n",
       "      <td>The Adory</td>\n",
       "      <td>consulting</td>\n",
       "      <td>operating</td>\n",
       "      <td>2008-01-01</td>\n",
       "      <td>NaT</td>\n",
       "      <td>theadory.com</td>\n",
       "      <td>the_adory</td>\n",
       "      <td>NaN</td>\n",
       "      <td>0.0</td>\n",
       "      <td>0.0</td>\n",
       "      <td>0.0</td>\n",
       "      <td>0.0</td>\n",
       "      <td>NaN</td>\n",
       "      <td>NaN</td>\n",
       "      <td>NaT</td>\n",
       "      <td>NaN</td>\n",
       "      <td>NaN</td>\n",
       "      <td>NaN</td>\n",
       "      <td>NaN</td>\n",
       "      <td>NaN</td>\n",
       "      <td>NaN</td>\n",
       "      <td>NaN</td>\n",
       "    </tr>\n",
       "  </tbody>\n",
       "</table>\n",
       "</div>"
      ],
      "text/plain": [
       "    company_id                           name    category_code     status  \\\n",
       "0          1.0                       Wetpaint              web  operating   \n",
       "1          1.0                       Wetpaint              web  operating   \n",
       "2          1.0                       Wetpaint              web  operating   \n",
       "3         10.0                        Flektor      games_video   acquired   \n",
       "4        100.0                          There      games_video   acquired   \n",
       "5      10000.0                        MYWEBBO  network_hosting  operating   \n",
       "6      10001.0             THE Movie Streamer      games_video  operating   \n",
       "7      10002.0                 Synergie Media      advertising  operating   \n",
       "8      10003.0         Green Basti Ecosystems        cleantech  operating   \n",
       "9     100042.0                       HostNine              NaN  operating   \n",
       "10     10005.0              Thomas Publishing      advertising  operating   \n",
       "11    100062.0  Vetter Idea Management System       enterprise  operating   \n",
       "12    100068.0                     ChatRandom      games_video  operating   \n",
       "13     10008.0               ScapadasAmorosas            other  operating   \n",
       "14     10009.0                dimension5 labs      advertising  operating   \n",
       "15      1001.0                     FriendFeed              web   acquired   \n",
       "16     10010.0                      Whooligan      games_video  operating   \n",
       "17     10011.0           PoetryVisualized.com      games_video  operating   \n",
       "18     10012.0                moviestring.com      games_video     closed   \n",
       "19     10013.0                      The Adory       consulting  operating   \n",
       "\n",
       "   founded_at  closed_at                domain network_username country_code  \\\n",
       "0  2005-10-17        NaT      wetpaint-inc.com  BachelrWetpaint          USA   \n",
       "1  2005-10-17        NaT      wetpaint-inc.com  BachelrWetpaint          USA   \n",
       "2  2005-10-17        NaT      wetpaint-inc.com  BachelrWetpaint          USA   \n",
       "3         NaT        NaT           flektor.com              NaN          USA   \n",
       "4         NaT        NaT             there.com              NaN          USA   \n",
       "5  2008-07-26        NaT           mywebbo.com              NaN          NaN   \n",
       "6  2008-07-26        NaT  themoviestreamer.com              NaN          NaN   \n",
       "7  2007-06-27        NaT    synergie-media.com              NaN          MAR   \n",
       "8  2008-08-20        NaT                   NaN              NaN          IND   \n",
       "9         NaT        NaT          hostnine.com         Hostnine          NaN   \n",
       "10        NaT        NaT  thomaspublishing.com              NaN          USA   \n",
       "11 2011-08-01        NaT         getvetter.com        getvetter          NaN   \n",
       "12 2011-02-01        NaT        chatrandom.com       chatrandom          NaN   \n",
       "13 2007-03-01        NaT  scapadasamorosas.com              NaN          NaN   \n",
       "14 2008-08-01        NaT            d5labs.com              NaN          USA   \n",
       "15 2007-10-01        NaT        friendfeed.com       friendfeed          USA   \n",
       "16 2007-12-01        NaT         whooligan.com              NaN          NaN   \n",
       "17 2008-01-01        NaT  poetryvisualized.com              NaN          USA   \n",
       "18 2008-08-22 2010-01-01       moviestring.com              NaN          NaN   \n",
       "19 2008-01-01        NaT          theadory.com        the_adory          NaN   \n",
       "\n",
       "    investment_rounds  funding_rounds  funding_total  milestones  \\\n",
       "0                 0.0             3.0     39750000.0         5.0   \n",
       "1                 0.0             3.0     39750000.0         5.0   \n",
       "2                 0.0             3.0     39750000.0         5.0   \n",
       "3                 0.0             0.0            0.0         0.0   \n",
       "4                 0.0             0.0            0.0         4.0   \n",
       "5                 0.0             0.0            0.0         0.0   \n",
       "6                 0.0             0.0            0.0         0.0   \n",
       "7                 0.0             0.0            0.0         0.0   \n",
       "8                 0.0             0.0            0.0         0.0   \n",
       "9                 0.0             0.0            0.0         1.0   \n",
       "10                0.0             0.0            0.0         1.0   \n",
       "11                0.0             0.0            0.0         1.0   \n",
       "12                0.0             0.0            0.0         1.0   \n",
       "13                0.0             0.0            0.0         0.0   \n",
       "14                0.0             0.0            0.0         1.0   \n",
       "15                0.0             1.0      5000000.0         3.0   \n",
       "16                0.0             0.0            0.0         0.0   \n",
       "17                0.0             0.0            0.0         1.0   \n",
       "18                0.0             0.0            0.0         0.0   \n",
       "19                0.0             0.0            0.0         0.0   \n",
       "\n",
       "    funding_round_id  company_id  funded_at funding_round_type  raised_amount  \\\n",
       "0              888.0         1.0 2005-10-01           series-a      5250000.0   \n",
       "1              889.0         1.0 2007-01-01           series-b      9500000.0   \n",
       "2             2312.0         1.0 2008-05-19          series-c+     25000000.0   \n",
       "3                NaN         NaN        NaT                NaN            NaN   \n",
       "4                NaN         NaN        NaT                NaN            NaN   \n",
       "5                NaN         NaN        NaT                NaN            NaN   \n",
       "6                NaN         NaN        NaT                NaN            NaN   \n",
       "7                NaN         NaN        NaT                NaN            NaN   \n",
       "8                NaN         NaN        NaT                NaN            NaN   \n",
       "9                NaN         NaN        NaT                NaN            NaN   \n",
       "10               NaN         NaN        NaT                NaN            NaN   \n",
       "11               NaN         NaN        NaT                NaN            NaN   \n",
       "12               NaN         NaN        NaT                NaN            NaN   \n",
       "13               NaN         NaN        NaT                NaN            NaN   \n",
       "14               NaN         NaN        NaT                NaN            NaN   \n",
       "15            1644.0      1001.0 2008-02-26           series-a      5000000.0   \n",
       "16               NaN         NaN        NaT                NaN            NaN   \n",
       "17               NaN         NaN        NaT                NaN            NaN   \n",
       "18               NaN         NaN        NaT                NaN            NaN   \n",
       "19               NaN         NaN        NaT                NaN            NaN   \n",
       "\n",
       "    pre_money_valuation  participants  is_first_round  is_last_round  \\\n",
       "0                   0.0           2.0             0.0            1.0   \n",
       "1                   0.0           3.0             0.0            0.0   \n",
       "2                   0.0           4.0             1.0            0.0   \n",
       "3                   NaN           NaN             NaN            NaN   \n",
       "4                   NaN           NaN             NaN            NaN   \n",
       "5                   NaN           NaN             NaN            NaN   \n",
       "6                   NaN           NaN             NaN            NaN   \n",
       "7                   NaN           NaN             NaN            NaN   \n",
       "8                   NaN           NaN             NaN            NaN   \n",
       "9                   NaN           NaN             NaN            NaN   \n",
       "10                  NaN           NaN             NaN            NaN   \n",
       "11                  NaN           NaN             NaN            NaN   \n",
       "12                  NaN           NaN             NaN            NaN   \n",
       "13                  NaN           NaN             NaN            NaN   \n",
       "14                  NaN           NaN             NaN            NaN   \n",
       "15                  0.0           3.0             1.0            1.0   \n",
       "16                  NaN           NaN             NaN            NaN   \n",
       "17                  NaN           NaN             NaN            NaN   \n",
       "18                  NaN           NaN             NaN            NaN   \n",
       "19                  NaN           NaN             NaN            NaN   \n",
       "\n",
       "    funded_year  \n",
       "0        2005.0  \n",
       "1        2007.0  \n",
       "2        2008.0  \n",
       "3           NaN  \n",
       "4           NaN  \n",
       "5           NaN  \n",
       "6           NaN  \n",
       "7           NaN  \n",
       "8           NaN  \n",
       "9           NaN  \n",
       "10          NaN  \n",
       "11          NaN  \n",
       "12          NaN  \n",
       "13          NaN  \n",
       "14          NaN  \n",
       "15       2008.0  \n",
       "16          NaN  \n",
       "17          NaN  \n",
       "18          NaN  \n",
       "19          NaN  "
      ]
     },
     "execution_count": 34,
     "metadata": {},
     "output_type": "execute_result"
    }
   ],
   "source": [
    "df_company_and_rounds.head(20)"
   ]
  },
  {
   "cell_type": "code",
   "execution_count": 35,
   "metadata": {
    "scrolled": true
   },
   "outputs": [
    {
     "data": {
      "text/html": [
       "<div>\n",
       "<style scoped>\n",
       "    .dataframe tbody tr th:only-of-type {\n",
       "        vertical-align: middle;\n",
       "    }\n",
       "\n",
       "    .dataframe tbody tr th {\n",
       "        vertical-align: top;\n",
       "    }\n",
       "\n",
       "    .dataframe thead th {\n",
       "        text-align: right;\n",
       "    }\n",
       "</style>\n",
       "<table border=\"1\" class=\"dataframe\">\n",
       "  <thead>\n",
       "    <tr style=\"text-align: right;\">\n",
       "      <th></th>\n",
       "      <th>company_id</th>\n",
       "      <th>name</th>\n",
       "      <th>category_code</th>\n",
       "      <th>status</th>\n",
       "      <th>founded_at</th>\n",
       "      <th>closed_at</th>\n",
       "      <th>domain</th>\n",
       "      <th>network_username</th>\n",
       "      <th>country_code</th>\n",
       "      <th>investment_rounds</th>\n",
       "      <th>funding_rounds</th>\n",
       "      <th>funding_total</th>\n",
       "      <th>milestones</th>\n",
       "      <th>funding_round_id</th>\n",
       "      <th>funded_at</th>\n",
       "      <th>funding_round_type</th>\n",
       "      <th>raised_amount</th>\n",
       "      <th>pre_money_valuation</th>\n",
       "      <th>participants</th>\n",
       "      <th>is_first_round</th>\n",
       "      <th>is_last_round</th>\n",
       "      <th>funded_year</th>\n",
       "    </tr>\n",
       "  </thead>\n",
       "  <tbody>\n",
       "    <tr>\n",
       "      <th>0</th>\n",
       "      <td>1.0</td>\n",
       "      <td>Wetpaint</td>\n",
       "      <td>web</td>\n",
       "      <td>operating</td>\n",
       "      <td>2005-10-17</td>\n",
       "      <td>NaT</td>\n",
       "      <td>wetpaint-inc.com</td>\n",
       "      <td>BachelrWetpaint</td>\n",
       "      <td>USA</td>\n",
       "      <td>0.0</td>\n",
       "      <td>3.0</td>\n",
       "      <td>39750000.0</td>\n",
       "      <td>5.0</td>\n",
       "      <td>888.0</td>\n",
       "      <td>2005-10-01</td>\n",
       "      <td>series-a</td>\n",
       "      <td>5250000.0</td>\n",
       "      <td>0.0</td>\n",
       "      <td>2.0</td>\n",
       "      <td>0.0</td>\n",
       "      <td>1.0</td>\n",
       "      <td>2005.0</td>\n",
       "    </tr>\n",
       "    <tr>\n",
       "      <th>1</th>\n",
       "      <td>1.0</td>\n",
       "      <td>Wetpaint</td>\n",
       "      <td>web</td>\n",
       "      <td>operating</td>\n",
       "      <td>2005-10-17</td>\n",
       "      <td>NaT</td>\n",
       "      <td>wetpaint-inc.com</td>\n",
       "      <td>BachelrWetpaint</td>\n",
       "      <td>USA</td>\n",
       "      <td>0.0</td>\n",
       "      <td>3.0</td>\n",
       "      <td>39750000.0</td>\n",
       "      <td>5.0</td>\n",
       "      <td>889.0</td>\n",
       "      <td>2007-01-01</td>\n",
       "      <td>series-b</td>\n",
       "      <td>9500000.0</td>\n",
       "      <td>0.0</td>\n",
       "      <td>3.0</td>\n",
       "      <td>0.0</td>\n",
       "      <td>0.0</td>\n",
       "      <td>2007.0</td>\n",
       "    </tr>\n",
       "    <tr>\n",
       "      <th>2</th>\n",
       "      <td>1.0</td>\n",
       "      <td>Wetpaint</td>\n",
       "      <td>web</td>\n",
       "      <td>operating</td>\n",
       "      <td>2005-10-17</td>\n",
       "      <td>NaT</td>\n",
       "      <td>wetpaint-inc.com</td>\n",
       "      <td>BachelrWetpaint</td>\n",
       "      <td>USA</td>\n",
       "      <td>0.0</td>\n",
       "      <td>3.0</td>\n",
       "      <td>39750000.0</td>\n",
       "      <td>5.0</td>\n",
       "      <td>2312.0</td>\n",
       "      <td>2008-05-19</td>\n",
       "      <td>series-c+</td>\n",
       "      <td>25000000.0</td>\n",
       "      <td>0.0</td>\n",
       "      <td>4.0</td>\n",
       "      <td>1.0</td>\n",
       "      <td>0.0</td>\n",
       "      <td>2008.0</td>\n",
       "    </tr>\n",
       "    <tr>\n",
       "      <th>3</th>\n",
       "      <td>10.0</td>\n",
       "      <td>Flektor</td>\n",
       "      <td>games_video</td>\n",
       "      <td>acquired</td>\n",
       "      <td>NaT</td>\n",
       "      <td>NaT</td>\n",
       "      <td>flektor.com</td>\n",
       "      <td>NaN</td>\n",
       "      <td>USA</td>\n",
       "      <td>0.0</td>\n",
       "      <td>0.0</td>\n",
       "      <td>0.0</td>\n",
       "      <td>0.0</td>\n",
       "      <td>NaN</td>\n",
       "      <td>NaT</td>\n",
       "      <td>NaN</td>\n",
       "      <td>NaN</td>\n",
       "      <td>NaN</td>\n",
       "      <td>NaN</td>\n",
       "      <td>NaN</td>\n",
       "      <td>NaN</td>\n",
       "      <td>NaN</td>\n",
       "    </tr>\n",
       "    <tr>\n",
       "      <th>4</th>\n",
       "      <td>100.0</td>\n",
       "      <td>There</td>\n",
       "      <td>games_video</td>\n",
       "      <td>acquired</td>\n",
       "      <td>NaT</td>\n",
       "      <td>NaT</td>\n",
       "      <td>there.com</td>\n",
       "      <td>NaN</td>\n",
       "      <td>USA</td>\n",
       "      <td>0.0</td>\n",
       "      <td>0.0</td>\n",
       "      <td>0.0</td>\n",
       "      <td>4.0</td>\n",
       "      <td>NaN</td>\n",
       "      <td>NaT</td>\n",
       "      <td>NaN</td>\n",
       "      <td>NaN</td>\n",
       "      <td>NaN</td>\n",
       "      <td>NaN</td>\n",
       "      <td>NaN</td>\n",
       "      <td>NaN</td>\n",
       "      <td>NaN</td>\n",
       "    </tr>\n",
       "  </tbody>\n",
       "</table>\n",
       "</div>"
      ],
      "text/plain": [
       "   company_id      name category_code     status founded_at closed_at  \\\n",
       "0         1.0  Wetpaint           web  operating 2005-10-17       NaT   \n",
       "1         1.0  Wetpaint           web  operating 2005-10-17       NaT   \n",
       "2         1.0  Wetpaint           web  operating 2005-10-17       NaT   \n",
       "3        10.0   Flektor   games_video   acquired        NaT       NaT   \n",
       "4       100.0     There   games_video   acquired        NaT       NaT   \n",
       "\n",
       "             domain network_username country_code  investment_rounds  \\\n",
       "0  wetpaint-inc.com  BachelrWetpaint          USA                0.0   \n",
       "1  wetpaint-inc.com  BachelrWetpaint          USA                0.0   \n",
       "2  wetpaint-inc.com  BachelrWetpaint          USA                0.0   \n",
       "3       flektor.com              NaN          USA                0.0   \n",
       "4         there.com              NaN          USA                0.0   \n",
       "\n",
       "   funding_rounds  funding_total  milestones  funding_round_id  funded_at  \\\n",
       "0             3.0     39750000.0         5.0             888.0 2005-10-01   \n",
       "1             3.0     39750000.0         5.0             889.0 2007-01-01   \n",
       "2             3.0     39750000.0         5.0            2312.0 2008-05-19   \n",
       "3             0.0            0.0         0.0               NaN        NaT   \n",
       "4             0.0            0.0         4.0               NaN        NaT   \n",
       "\n",
       "  funding_round_type  raised_amount  pre_money_valuation  participants  \\\n",
       "0           series-a      5250000.0                  0.0           2.0   \n",
       "1           series-b      9500000.0                  0.0           3.0   \n",
       "2          series-c+     25000000.0                  0.0           4.0   \n",
       "3                NaN            NaN                  NaN           NaN   \n",
       "4                NaN            NaN                  NaN           NaN   \n",
       "\n",
       "   is_first_round  is_last_round  funded_year  \n",
       "0             0.0            1.0       2005.0  \n",
       "1             0.0            0.0       2007.0  \n",
       "2             1.0            0.0       2008.0  \n",
       "3             NaN            NaN          NaN  \n",
       "4             NaN            NaN          NaN  "
      ]
     },
     "execution_count": 35,
     "metadata": {},
     "output_type": "execute_result"
    }
   ],
   "source": [
    "# Удалим второй столбец company_id, чтоб можно было работать далее с этим датафреймом\n",
    "df_company_and_rounds=df_company_and_rounds.loc[:,~df_company_and_rounds.columns.duplicated()]\n",
    "df_company_and_rounds.head()"
   ]
  },
  {
   "cell_type": "code",
   "execution_count": 36,
   "metadata": {},
   "outputs": [
    {
     "data": {
      "text/html": [
       "<div>\n",
       "<style scoped>\n",
       "    .dataframe tbody tr th:only-of-type {\n",
       "        vertical-align: middle;\n",
       "    }\n",
       "\n",
       "    .dataframe tbody tr th {\n",
       "        vertical-align: top;\n",
       "    }\n",
       "\n",
       "    .dataframe thead th {\n",
       "        text-align: right;\n",
       "    }\n",
       "</style>\n",
       "<table border=\"1\" class=\"dataframe\">\n",
       "  <thead>\n",
       "    <tr style=\"text-align: right;\">\n",
       "      <th></th>\n",
       "      <th>company_id</th>\n",
       "      <th>name</th>\n",
       "      <th>category_code</th>\n",
       "      <th>status</th>\n",
       "      <th>founded_at</th>\n",
       "      <th>closed_at</th>\n",
       "      <th>domain</th>\n",
       "      <th>network_username</th>\n",
       "      <th>country_code</th>\n",
       "      <th>investment_rounds</th>\n",
       "      <th>funding_rounds</th>\n",
       "      <th>funding_total</th>\n",
       "      <th>milestones</th>\n",
       "      <th>funding_round_id</th>\n",
       "      <th>funded_at</th>\n",
       "      <th>funding_round_type</th>\n",
       "      <th>raised_amount</th>\n",
       "      <th>pre_money_valuation</th>\n",
       "      <th>participants</th>\n",
       "      <th>is_first_round</th>\n",
       "      <th>is_last_round</th>\n",
       "      <th>funded_year</th>\n",
       "    </tr>\n",
       "  </thead>\n",
       "  <tbody>\n",
       "    <tr>\n",
       "      <th>140830</th>\n",
       "      <td>27486.0</td>\n",
       "      <td>Aviir</td>\n",
       "      <td>biotech</td>\n",
       "      <td>operating</td>\n",
       "      <td>2005-01-01</td>\n",
       "      <td>NaT</td>\n",
       "      <td>aviir.com</td>\n",
       "      <td>AviirLabs</td>\n",
       "      <td>USA</td>\n",
       "      <td>0.0</td>\n",
       "      <td>14.0</td>\n",
       "      <td>70930000.0</td>\n",
       "      <td>1.0</td>\n",
       "      <td>46205.0</td>\n",
       "      <td>2008-12-02</td>\n",
       "      <td>venture</td>\n",
       "      <td>7800000.0</td>\n",
       "      <td>0.0</td>\n",
       "      <td>3.0</td>\n",
       "      <td>0.0</td>\n",
       "      <td>0.0</td>\n",
       "      <td>2008.0</td>\n",
       "    </tr>\n",
       "    <tr>\n",
       "      <th>140831</th>\n",
       "      <td>27486.0</td>\n",
       "      <td>Aviir</td>\n",
       "      <td>biotech</td>\n",
       "      <td>operating</td>\n",
       "      <td>2005-01-01</td>\n",
       "      <td>NaT</td>\n",
       "      <td>aviir.com</td>\n",
       "      <td>AviirLabs</td>\n",
       "      <td>USA</td>\n",
       "      <td>0.0</td>\n",
       "      <td>14.0</td>\n",
       "      <td>70930000.0</td>\n",
       "      <td>1.0</td>\n",
       "      <td>46206.0</td>\n",
       "      <td>2009-08-05</td>\n",
       "      <td>venture</td>\n",
       "      <td>1000000.0</td>\n",
       "      <td>0.0</td>\n",
       "      <td>3.0</td>\n",
       "      <td>0.0</td>\n",
       "      <td>0.0</td>\n",
       "      <td>2009.0</td>\n",
       "    </tr>\n",
       "    <tr>\n",
       "      <th>140832</th>\n",
       "      <td>27486.0</td>\n",
       "      <td>Aviir</td>\n",
       "      <td>biotech</td>\n",
       "      <td>operating</td>\n",
       "      <td>2005-01-01</td>\n",
       "      <td>NaT</td>\n",
       "      <td>aviir.com</td>\n",
       "      <td>AviirLabs</td>\n",
       "      <td>USA</td>\n",
       "      <td>0.0</td>\n",
       "      <td>14.0</td>\n",
       "      <td>70930000.0</td>\n",
       "      <td>1.0</td>\n",
       "      <td>46208.0</td>\n",
       "      <td>2011-06-21</td>\n",
       "      <td>venture</td>\n",
       "      <td>3000000.0</td>\n",
       "      <td>0.0</td>\n",
       "      <td>3.0</td>\n",
       "      <td>0.0</td>\n",
       "      <td>0.0</td>\n",
       "      <td>2011.0</td>\n",
       "    </tr>\n",
       "    <tr>\n",
       "      <th>140833</th>\n",
       "      <td>27486.0</td>\n",
       "      <td>Aviir</td>\n",
       "      <td>biotech</td>\n",
       "      <td>operating</td>\n",
       "      <td>2005-01-01</td>\n",
       "      <td>NaT</td>\n",
       "      <td>aviir.com</td>\n",
       "      <td>AviirLabs</td>\n",
       "      <td>USA</td>\n",
       "      <td>0.0</td>\n",
       "      <td>14.0</td>\n",
       "      <td>70930000.0</td>\n",
       "      <td>1.0</td>\n",
       "      <td>46209.0</td>\n",
       "      <td>2013-02-12</td>\n",
       "      <td>series-b</td>\n",
       "      <td>10000000.0</td>\n",
       "      <td>0.0</td>\n",
       "      <td>4.0</td>\n",
       "      <td>0.0</td>\n",
       "      <td>0.0</td>\n",
       "      <td>2013.0</td>\n",
       "    </tr>\n",
       "    <tr>\n",
       "      <th>185267</th>\n",
       "      <td>56808.0</td>\n",
       "      <td>InstaMed</td>\n",
       "      <td>medical</td>\n",
       "      <td>operating</td>\n",
       "      <td>2004-01-01</td>\n",
       "      <td>NaT</td>\n",
       "      <td>instamed.com</td>\n",
       "      <td>InstaMed</td>\n",
       "      <td>USA</td>\n",
       "      <td>0.0</td>\n",
       "      <td>13.0</td>\n",
       "      <td>57876800.0</td>\n",
       "      <td>1.0</td>\n",
       "      <td>30122.0</td>\n",
       "      <td>2006-02-01</td>\n",
       "      <td>venture</td>\n",
       "      <td>3000000.0</td>\n",
       "      <td>0.0</td>\n",
       "      <td>2.0</td>\n",
       "      <td>0.0</td>\n",
       "      <td>0.0</td>\n",
       "      <td>2006.0</td>\n",
       "    </tr>\n",
       "  </tbody>\n",
       "</table>\n",
       "</div>"
      ],
      "text/plain": [
       "        company_id      name category_code     status founded_at closed_at  \\\n",
       "140830     27486.0     Aviir       biotech  operating 2005-01-01       NaT   \n",
       "140831     27486.0     Aviir       biotech  operating 2005-01-01       NaT   \n",
       "140832     27486.0     Aviir       biotech  operating 2005-01-01       NaT   \n",
       "140833     27486.0     Aviir       biotech  operating 2005-01-01       NaT   \n",
       "185267     56808.0  InstaMed       medical  operating 2004-01-01       NaT   \n",
       "\n",
       "              domain network_username country_code  investment_rounds  \\\n",
       "140830     aviir.com        AviirLabs          USA                0.0   \n",
       "140831     aviir.com        AviirLabs          USA                0.0   \n",
       "140832     aviir.com        AviirLabs          USA                0.0   \n",
       "140833     aviir.com        AviirLabs          USA                0.0   \n",
       "185267  instamed.com         InstaMed          USA                0.0   \n",
       "\n",
       "        funding_rounds  funding_total  milestones  funding_round_id  \\\n",
       "140830            14.0     70930000.0         1.0           46205.0   \n",
       "140831            14.0     70930000.0         1.0           46206.0   \n",
       "140832            14.0     70930000.0         1.0           46208.0   \n",
       "140833            14.0     70930000.0         1.0           46209.0   \n",
       "185267            13.0     57876800.0         1.0           30122.0   \n",
       "\n",
       "        funded_at funding_round_type  raised_amount  pre_money_valuation  \\\n",
       "140830 2008-12-02            venture      7800000.0                  0.0   \n",
       "140831 2009-08-05            venture      1000000.0                  0.0   \n",
       "140832 2011-06-21            venture      3000000.0                  0.0   \n",
       "140833 2013-02-12           series-b     10000000.0                  0.0   \n",
       "185267 2006-02-01            venture      3000000.0                  0.0   \n",
       "\n",
       "        participants  is_first_round  is_last_round  funded_year  \n",
       "140830           3.0             0.0            0.0       2008.0  \n",
       "140831           3.0             0.0            0.0       2009.0  \n",
       "140832           3.0             0.0            0.0       2011.0  \n",
       "140833           4.0             0.0            0.0       2013.0  \n",
       "185267           2.0             0.0            0.0       2006.0  "
      ]
     },
     "execution_count": 36,
     "metadata": {},
     "output_type": "execute_result"
    }
   ],
   "source": [
    "#отсортируемданные по количеству раундов, чтоб убедиться в разбивке общей информации по отдельным раундам\n",
    "df_company_and_rounds.sort_values(by=['funding_rounds', 'company_id'], ascending=False)[40:45]"
   ]
  },
  {
   "cell_type": "code",
   "execution_count": 37,
   "metadata": {
    "id": "tJ6Sl6MKrJg1",
    "scrolled": true,
    "vscode": {
     "languageId": "plaintext"
    }
   },
   "outputs": [
    {
     "name": "stdout",
     "output_type": "stream",
     "text": [
      "<class 'pandas.core.frame.DataFrame'>\n",
      "Index: 196554 entries, 0 to 217472\n",
      "Data columns (total 14 columns):\n",
      " #   Column             Non-Null Count   Dtype         \n",
      "---  ------             --------------   -----         \n",
      " 0   company_id         196553 non-null  float64       \n",
      " 1   name               196552 non-null  object        \n",
      " 2   category_code      123186 non-null  object        \n",
      " 3   status             196553 non-null  object        \n",
      " 4   founded_at         91227 non-null   datetime64[ns]\n",
      " 5   closed_at          2620 non-null    datetime64[ns]\n",
      " 6   domain             126545 non-null  object        \n",
      " 7   network_username   80591 non-null   object        \n",
      " 8   country_code       87990 non-null   object        \n",
      " 9   investment_rounds  196553 non-null  float64       \n",
      " 10  funding_rounds     196553 non-null  float64       \n",
      " 11  funding_total      196553 non-null  float64       \n",
      " 12  milestones         196553 non-null  float64       \n",
      " 13  funded_year        31487 non-null   float64       \n",
      "dtypes: datetime64[ns](2), float64(6), object(6)\n",
      "memory usage: 22.5+ MB\n",
      "None\n"
     ]
    }
   ],
   "source": [
    "# создадим новый датафрейм df_company, чтоб работать с ним в дальнейшем\n",
    "df_company=df_company_and_rounds[['company_id', 'name', 'category_code', 'status', 'founded_at', 'closed_at', 'domain', 'network_username', 'country_code', 'investment_rounds', 'funding_rounds', 'funding_total', 'milestones','funded_year']]\n",
    "df_company=df_company.drop_duplicates(subset='company_id', keep='first')\n",
    "print(df_company.info())"
   ]
  },
  {
   "cell_type": "code",
   "execution_count": 38,
   "metadata": {},
   "outputs": [
    {
     "data": {
      "text/html": [
       "<div>\n",
       "<style scoped>\n",
       "    .dataframe tbody tr th:only-of-type {\n",
       "        vertical-align: middle;\n",
       "    }\n",
       "\n",
       "    .dataframe tbody tr th {\n",
       "        vertical-align: top;\n",
       "    }\n",
       "\n",
       "    .dataframe thead th {\n",
       "        text-align: right;\n",
       "    }\n",
       "</style>\n",
       "<table border=\"1\" class=\"dataframe\">\n",
       "  <thead>\n",
       "    <tr style=\"text-align: right;\">\n",
       "      <th></th>\n",
       "      <th>company_id</th>\n",
       "      <th>funding_round_id</th>\n",
       "      <th>funded_at</th>\n",
       "      <th>funding_round_type</th>\n",
       "      <th>raised_amount</th>\n",
       "      <th>pre_money_valuation</th>\n",
       "      <th>participants</th>\n",
       "      <th>is_first_round</th>\n",
       "      <th>is_last_round</th>\n",
       "    </tr>\n",
       "  </thead>\n",
       "  <tbody>\n",
       "    <tr>\n",
       "      <th>0</th>\n",
       "      <td>1.0</td>\n",
       "      <td>888.0</td>\n",
       "      <td>2005-10-01</td>\n",
       "      <td>series-a</td>\n",
       "      <td>5250000.0</td>\n",
       "      <td>0.0</td>\n",
       "      <td>2.0</td>\n",
       "      <td>0.0</td>\n",
       "      <td>1.0</td>\n",
       "    </tr>\n",
       "    <tr>\n",
       "      <th>1</th>\n",
       "      <td>1.0</td>\n",
       "      <td>889.0</td>\n",
       "      <td>2007-01-01</td>\n",
       "      <td>series-b</td>\n",
       "      <td>9500000.0</td>\n",
       "      <td>0.0</td>\n",
       "      <td>3.0</td>\n",
       "      <td>0.0</td>\n",
       "      <td>0.0</td>\n",
       "    </tr>\n",
       "    <tr>\n",
       "      <th>2</th>\n",
       "      <td>1.0</td>\n",
       "      <td>2312.0</td>\n",
       "      <td>2008-05-19</td>\n",
       "      <td>series-c+</td>\n",
       "      <td>25000000.0</td>\n",
       "      <td>0.0</td>\n",
       "      <td>4.0</td>\n",
       "      <td>1.0</td>\n",
       "      <td>0.0</td>\n",
       "    </tr>\n",
       "    <tr>\n",
       "      <th>3</th>\n",
       "      <td>10.0</td>\n",
       "      <td>NaN</td>\n",
       "      <td>NaT</td>\n",
       "      <td>NaN</td>\n",
       "      <td>NaN</td>\n",
       "      <td>NaN</td>\n",
       "      <td>NaN</td>\n",
       "      <td>NaN</td>\n",
       "      <td>NaN</td>\n",
       "    </tr>\n",
       "    <tr>\n",
       "      <th>4</th>\n",
       "      <td>100.0</td>\n",
       "      <td>NaN</td>\n",
       "      <td>NaT</td>\n",
       "      <td>NaN</td>\n",
       "      <td>NaN</td>\n",
       "      <td>NaN</td>\n",
       "      <td>NaN</td>\n",
       "      <td>NaN</td>\n",
       "      <td>NaN</td>\n",
       "    </tr>\n",
       "  </tbody>\n",
       "</table>\n",
       "</div>"
      ],
      "text/plain": [
       "   company_id  funding_round_id  funded_at funding_round_type  raised_amount  \\\n",
       "0         1.0             888.0 2005-10-01           series-a      5250000.0   \n",
       "1         1.0             889.0 2007-01-01           series-b      9500000.0   \n",
       "2         1.0            2312.0 2008-05-19          series-c+     25000000.0   \n",
       "3        10.0               NaN        NaT                NaN            NaN   \n",
       "4       100.0               NaN        NaT                NaN            NaN   \n",
       "\n",
       "   pre_money_valuation  participants  is_first_round  is_last_round  \n",
       "0                  0.0           2.0             0.0            1.0  \n",
       "1                  0.0           3.0             0.0            0.0  \n",
       "2                  0.0           4.0             1.0            0.0  \n",
       "3                  NaN           NaN             NaN            NaN  \n",
       "4                  NaN           NaN             NaN            NaN  "
      ]
     },
     "execution_count": 38,
     "metadata": {},
     "output_type": "execute_result"
    }
   ],
   "source": [
    "# создадим новый датафрейм df_rounds с информацией о раунах\n",
    "df_rounds=df_company_and_rounds[['company_id', 'funding_round_id', 'funded_at', 'funding_round_type', 'raised_amount','pre_money_valuation','participants','is_first_round','is_last_round' ]]\n",
    "df_rounds.head()"
   ]
  },
  {
   "cell_type": "code",
   "execution_count": 39,
   "metadata": {},
   "outputs": [
    {
     "data": {
      "text/plain": [
       "company_id             0.001387\n",
       "funding_round_id       0.756959\n",
       "funded_at              0.758098\n",
       "funding_round_type     0.756959\n",
       "raised_amount          0.756959\n",
       "pre_money_valuation    0.756959\n",
       "participants           0.756959\n",
       "is_first_round         0.756959\n",
       "is_last_round          0.756959\n",
       "dtype: float64"
      ]
     },
     "execution_count": 39,
     "metadata": {},
     "output_type": "execute_result"
    }
   ],
   "source": [
    "#Поверим пропуски\n",
    "df_rounds.isna().mean()"
   ]
  },
  {
   "cell_type": "code",
   "execution_count": 40,
   "metadata": {},
   "outputs": [
    {
     "name": "stdout",
     "output_type": "stream",
     "text": [
      "<class 'pandas.core.frame.DataFrame'>\n",
      "Index: 52928 entries, 0 to 217773\n",
      "Data columns (total 9 columns):\n",
      " #   Column               Non-Null Count  Dtype         \n",
      "---  ------               --------------  -----         \n",
      " 0   company_id           52626 non-null  float64       \n",
      " 1   funding_round_id     52928 non-null  float64       \n",
      " 2   funded_at            52680 non-null  datetime64[ns]\n",
      " 3   funding_round_type   52928 non-null  object        \n",
      " 4   raised_amount        52928 non-null  float64       \n",
      " 5   pre_money_valuation  52928 non-null  float64       \n",
      " 6   participants         52928 non-null  float64       \n",
      " 7   is_first_round       52928 non-null  float64       \n",
      " 8   is_last_round        52928 non-null  float64       \n",
      "dtypes: datetime64[ns](1), float64(7), object(1)\n",
      "memory usage: 4.0+ MB\n"
     ]
    }
   ],
   "source": [
    "# удалим строки с отсутствующими данными о раундах\n",
    "df_rounds=df_rounds.dropna(subset=['funding_round_type'])\n",
    "df_rounds.info()"
   ]
  },
  {
   "cell_type": "markdown",
   "metadata": {},
   "source": [
    "<div style=\"border: 3px solid #ccc; padding: 10px; border-radius: 5px;\">  \n",
    "    Разбили датафрейм df_company_and_rounds на 2 новых: <br>\n",
    "    1) датафрем df_company, в котором содержится информация о компании и финансировании в целом. Датафрейм состоит из 196554 строк и 13 столбцов, ранее 217774 срок и 22 столбца. <br>\n",
    "    2) датафрем df_rounds, в котором содержится информация о раундах финансирования. Датафрейм состоит из 52928 строк и 9 столбцов.<br>\n",
    "</div>"
   ]
  },
  {
   "cell_type": "markdown",
   "metadata": {
    "id": "bmVYhphNrJg2"
   },
   "source": [
    "\n",
    "## Шаг 3. Исследовательский анализ объединённых таблиц"
   ]
  },
  {
   "cell_type": "markdown",
   "metadata": {
    "id": "3Di6tCT3rJg2"
   },
   "source": [
    "\n",
    "### 3.1. Объединение данных\n",
    "\n",
    "Объединим данные для ответа на вопросы заказчика, которые касаются интересующих его компаний. Заказчика прежде всего интересуют те компании, которые меняли или готовы менять владельцев. Получение инвестиций или финансирования, по мнению заказчика, означает интерес к покупке или продаже компании."
   ]
  },
  {
   "cell_type": "code",
   "execution_count": 41,
   "metadata": {},
   "outputs": [
    {
     "data": {
      "text/html": [
       "<div>\n",
       "<style scoped>\n",
       "    .dataframe tbody tr th:only-of-type {\n",
       "        vertical-align: middle;\n",
       "    }\n",
       "\n",
       "    .dataframe tbody tr th {\n",
       "        vertical-align: top;\n",
       "    }\n",
       "\n",
       "    .dataframe thead th {\n",
       "        text-align: right;\n",
       "    }\n",
       "</style>\n",
       "<table border=\"1\" class=\"dataframe\">\n",
       "  <thead>\n",
       "    <tr style=\"text-align: right;\">\n",
       "      <th></th>\n",
       "      <th>company_id</th>\n",
       "      <th>name</th>\n",
       "      <th>category_code</th>\n",
       "      <th>status</th>\n",
       "      <th>founded_at</th>\n",
       "      <th>closed_at</th>\n",
       "      <th>domain</th>\n",
       "      <th>network_username</th>\n",
       "      <th>country_code</th>\n",
       "      <th>investment_rounds</th>\n",
       "      <th>funding_rounds</th>\n",
       "      <th>funding_total</th>\n",
       "      <th>milestones</th>\n",
       "      <th>funded_year</th>\n",
       "    </tr>\n",
       "  </thead>\n",
       "  <tbody>\n",
       "    <tr>\n",
       "      <th>0</th>\n",
       "      <td>1.0</td>\n",
       "      <td>Wetpaint</td>\n",
       "      <td>web</td>\n",
       "      <td>operating</td>\n",
       "      <td>2005-10-17</td>\n",
       "      <td>NaT</td>\n",
       "      <td>wetpaint-inc.com</td>\n",
       "      <td>BachelrWetpaint</td>\n",
       "      <td>USA</td>\n",
       "      <td>0.0</td>\n",
       "      <td>3.0</td>\n",
       "      <td>39750000.0</td>\n",
       "      <td>5.0</td>\n",
       "      <td>2005.0</td>\n",
       "    </tr>\n",
       "    <tr>\n",
       "      <th>15</th>\n",
       "      <td>1001.0</td>\n",
       "      <td>FriendFeed</td>\n",
       "      <td>web</td>\n",
       "      <td>acquired</td>\n",
       "      <td>2007-10-01</td>\n",
       "      <td>NaT</td>\n",
       "      <td>friendfeed.com</td>\n",
       "      <td>friendfeed</td>\n",
       "      <td>USA</td>\n",
       "      <td>0.0</td>\n",
       "      <td>1.0</td>\n",
       "      <td>5000000.0</td>\n",
       "      <td>3.0</td>\n",
       "      <td>2008.0</td>\n",
       "    </tr>\n",
       "    <tr>\n",
       "      <th>20</th>\n",
       "      <td>10014.0</td>\n",
       "      <td>Mobclix</td>\n",
       "      <td>mobile</td>\n",
       "      <td>acquired</td>\n",
       "      <td>2008-03-01</td>\n",
       "      <td>NaT</td>\n",
       "      <td>mobclix.com</td>\n",
       "      <td>mobclix</td>\n",
       "      <td>USA</td>\n",
       "      <td>0.0</td>\n",
       "      <td>1.0</td>\n",
       "      <td>0.0</td>\n",
       "      <td>4.0</td>\n",
       "      <td>2008.0</td>\n",
       "    </tr>\n",
       "    <tr>\n",
       "      <th>21</th>\n",
       "      <td>10015.0</td>\n",
       "      <td>Fitbit</td>\n",
       "      <td>health</td>\n",
       "      <td>operating</td>\n",
       "      <td>2007-10-01</td>\n",
       "      <td>NaT</td>\n",
       "      <td>fitbit.com</td>\n",
       "      <td>fitbit</td>\n",
       "      <td>USA</td>\n",
       "      <td>0.0</td>\n",
       "      <td>5.0</td>\n",
       "      <td>68069200.0</td>\n",
       "      <td>0.0</td>\n",
       "      <td>2008.0</td>\n",
       "    </tr>\n",
       "    <tr>\n",
       "      <th>26</th>\n",
       "      <td>100155.0</td>\n",
       "      <td>MTPV</td>\n",
       "      <td>cleantech</td>\n",
       "      <td>operating</td>\n",
       "      <td>2003-01-01</td>\n",
       "      <td>NaT</td>\n",
       "      <td>mtpv.com</td>\n",
       "      <td>NaN</td>\n",
       "      <td>USA</td>\n",
       "      <td>0.0</td>\n",
       "      <td>3.0</td>\n",
       "      <td>10125300.0</td>\n",
       "      <td>1.0</td>\n",
       "      <td>2011.0</td>\n",
       "    </tr>\n",
       "  </tbody>\n",
       "</table>\n",
       "</div>"
      ],
      "text/plain": [
       "    company_id        name category_code     status founded_at closed_at  \\\n",
       "0          1.0    Wetpaint           web  operating 2005-10-17       NaT   \n",
       "15      1001.0  FriendFeed           web   acquired 2007-10-01       NaT   \n",
       "20     10014.0     Mobclix        mobile   acquired 2008-03-01       NaT   \n",
       "21     10015.0      Fitbit        health  operating 2007-10-01       NaT   \n",
       "26    100155.0        MTPV     cleantech  operating 2003-01-01       NaT   \n",
       "\n",
       "              domain network_username country_code  investment_rounds  \\\n",
       "0   wetpaint-inc.com  BachelrWetpaint          USA                0.0   \n",
       "15    friendfeed.com       friendfeed          USA                0.0   \n",
       "20       mobclix.com          mobclix          USA                0.0   \n",
       "21        fitbit.com           fitbit          USA                0.0   \n",
       "26          mtpv.com              NaN          USA                0.0   \n",
       "\n",
       "    funding_rounds  funding_total  milestones  funded_year  \n",
       "0              3.0     39750000.0         5.0       2005.0  \n",
       "15             1.0      5000000.0         3.0       2008.0  \n",
       "20             1.0            0.0         4.0       2008.0  \n",
       "21             5.0     68069200.0         0.0       2008.0  \n",
       "26             3.0     10125300.0         1.0       2011.0  "
      ]
     },
     "execution_count": 41,
     "metadata": {},
     "output_type": "execute_result"
    }
   ],
   "source": [
    "# Создадим новый датафрейм df_company_filter (компании с финансированием или инвестициями) \n",
    "df_company_filter=df_company[(df_company['funding_rounds']>0) | (df_company['investment_rounds']>0) | (['status']=='acquired')]\n",
    "df_company_filter.head()"
   ]
  },
  {
   "cell_type": "code",
   "execution_count": 42,
   "metadata": {
    "id": "kuV1b5MXFg3_",
    "scrolled": true
   },
   "outputs": [
    {
     "name": "stdout",
     "output_type": "stream",
     "text": [
      "<class 'pandas.core.frame.DataFrame'>\n",
      "Index: 34031 entries, 0 to 217469\n",
      "Data columns (total 14 columns):\n",
      " #   Column             Non-Null Count  Dtype         \n",
      "---  ------             --------------  -----         \n",
      " 0   company_id         34031 non-null  float64       \n",
      " 1   name               34031 non-null  object        \n",
      " 2   category_code      31327 non-null  object        \n",
      " 3   status             34031 non-null  object        \n",
      " 4   founded_at         25129 non-null  datetime64[ns]\n",
      " 5   closed_at          2117 non-null   datetime64[ns]\n",
      " 6   domain             31240 non-null  object        \n",
      " 7   network_username   19651 non-null  object        \n",
      " 8   country_code       30586 non-null  object        \n",
      " 9   investment_rounds  34031 non-null  float64       \n",
      " 10  funding_rounds     34031 non-null  float64       \n",
      " 11  funding_total      34031 non-null  float64       \n",
      " 12  milestones         34031 non-null  float64       \n",
      " 13  funded_year        31486 non-null  float64       \n",
      "dtypes: datetime64[ns](2), float64(6), object(6)\n",
      "memory usage: 3.9+ MB\n"
     ]
    }
   ],
   "source": [
    "# выведем информацию о полученном датафрейме\n",
    "df_company_filter.info()"
   ]
  },
  {
   "cell_type": "code",
   "execution_count": 43,
   "metadata": {
    "id": "93v3fEX5FgtP",
    "scrolled": true
   },
   "outputs": [
    {
     "data": {
      "text/plain": [
       "closed_at            0.94\n",
       "network_username     0.42\n",
       "founded_at           0.26\n",
       "country_code         0.10\n",
       "category_code        0.08\n",
       "domain               0.08\n",
       "funded_year          0.07\n",
       "status               0.00\n",
       "company_id           0.00\n",
       "name                 0.00\n",
       "investment_rounds    0.00\n",
       "funding_rounds       0.00\n",
       "funding_total        0.00\n",
       "milestones           0.00\n",
       "dtype: float64"
      ]
     },
     "execution_count": 43,
     "metadata": {},
     "output_type": "execute_result"
    }
   ],
   "source": [
    "# Посмотрим пропуски\n",
    "df_company_filter.isna().mean().round(2).sort_values(ascending=False)"
   ]
  },
  {
   "cell_type": "markdown",
   "metadata": {},
   "source": [
    "<div style=\"border: 3px solid #ccc; padding: 10px; border-radius: 5px;\">  Создали новый датафрейм df_company_filterе с компаниями, которые меняли или готовы менять владельцев (получали инвестиции или финансирование). В такую таблицу попало 34031 компаний. Данные выглядят корректными и полными, но есть пропуски. </div>"
   ]
  },
  {
   "cell_type": "markdown",
   "metadata": {
    "id": "DFHINkV3rJg2"
   },
   "source": [
    "\n",
    "### 3.2. Анализ выбросов\n",
    "\n",
    "Заказчика интересует обычный для рассматриваемого периода размер средств, который предоставлялся компаниям."
   ]
  },
  {
   "cell_type": "code",
   "execution_count": 44,
   "metadata": {
    "id": "8jm75fKXrJg2",
    "vscode": {
     "languageId": "plaintext"
    }
   },
   "outputs": [
    {
     "data": {
      "text/plain": [
       "count         34031\n",
       "mean       12135866\n",
       "std        61588644\n",
       "min               0\n",
       "25%           86000\n",
       "50%         1319970\n",
       "75%         8000000\n",
       "max      5700000000\n",
       "Name: funding_total, dtype: int64"
      ]
     },
     "execution_count": 44,
     "metadata": {},
     "output_type": "execute_result"
    }
   ],
   "source": [
    "# посмотрим описательную статистику\n",
    "df_company_filter['funding_total'].describe().astype('int64')"
   ]
  },
  {
   "cell_type": "code",
   "execution_count": 45,
   "metadata": {},
   "outputs": [
    {
     "data": {
      "text/plain": [
       "0.95     50000000.0\n",
       "0.99    150000000.0\n",
       "Name: funding_total, dtype: float64"
      ]
     },
     "execution_count": 45,
     "metadata": {},
     "output_type": "execute_result"
    }
   ],
   "source": [
    "#рассчитаем 95 и 99 квантили\n",
    "df_company_filter['funding_total'].quantile([0.95,0.99])"
   ]
  },
  {
   "cell_type": "code",
   "execution_count": 46,
   "metadata": {},
   "outputs": [
    {
     "data": {
      "image/png": "[encoded data removed]",
      "text/plain": [
       "<Figure size 800x300 with 1 Axes>"
      ]
     },
     "metadata": {},
     "output_type": "display_data"
    },
    {
     "data": {
      "image/png": "[encoded data removed]",
      "text/plain": [
       "<Figure size 800x100 with 1 Axes>"
      ]
     },
     "metadata": {},
     "output_type": "display_data"
    }
   ],
   "source": [
    "# Построим гистограмму распределения сумм финансирования на одну компанию\n",
    "plt.figure(figsize=(8,3))\n",
    "sns.histplot(data=df_company_filter, x='funding_total', bins=100, kde=True)\n",
    "plt.title('Распределение суммы финансирования')\n",
    "plt.xlabel('Сумма финансирования')\n",
    "plt.ylabel('Частота')\n",
    "plt.show()\n",
    "\n",
    "# Строим диаграмму размаха методом boxplot()\n",
    "boxplot=df_company_filter.boxplot(column='funding_total', vert=False, figsize=(8,1))"
   ]
  },
  {
   "cell_type": "markdown",
   "metadata": {},
   "source": [
    "<div style=\"border: 3px solid #ccc; padding: 10px; border-radius: 5px;\">   Сумма финансирования на компанию варьируется от 0 до 5 700 000 000 руб. Наиболее типичный размер финансирования (медиана) 1 319 970 руб.\n",
    "Среднее значение, равное 12 135 866 руб. Значительно отличается от медианы, что говорит о ассиметрии в данных и ненормальном распределении, это подтверждает и гистограмма распределения с диаграммой размаха, данные сильно смещены влево. 95% всех данных приходитсяна сумму финансирования на компанию до 50 000 000 руб., 99% на сумму до 150 000 000 руб. Получается, что лишь 1 % данных находится в промежутке от 150 000 000 руб. до 5 700 000 000 руб., наличие выбросов очевидно, но мы их оставляем для дальнейшего анализа. </div>"
   ]
  },
  {
   "cell_type": "markdown",
   "metadata": {
    "id": "JqkRAQrIrJg2"
   },
   "source": [
    "\n",
    "### 3.3. Куплены забесплатно?\n",
    "\n",
    "- Необходимо исследуйть компании, которые были проданы за ноль или за один доллар, и при этом известно, что у них был ненулевой общий объём финансирования, а также рассчитайть аналитически верхнюю и нижнюю границу выбросов для столбца `funding_total`"
   ]
  },
  {
   "cell_type": "code",
   "execution_count": 47,
   "metadata": {
    "id": "wJHXCBwwrJg2",
    "vscode": {
     "languageId": "plaintext"
    }
   },
   "outputs": [
    {
     "data": {
      "text/html": [
       "<div>\n",
       "<style scoped>\n",
       "    .dataframe tbody tr th:only-of-type {\n",
       "        vertical-align: middle;\n",
       "    }\n",
       "\n",
       "    .dataframe tbody tr th {\n",
       "        vertical-align: top;\n",
       "    }\n",
       "\n",
       "    .dataframe thead th {\n",
       "        text-align: right;\n",
       "    }\n",
       "</style>\n",
       "<table border=\"1\" class=\"dataframe\">\n",
       "  <thead>\n",
       "    <tr style=\"text-align: right;\">\n",
       "      <th></th>\n",
       "      <th>company_id</th>\n",
       "      <th>name</th>\n",
       "      <th>category_code</th>\n",
       "      <th>status</th>\n",
       "      <th>founded_at</th>\n",
       "      <th>closed_at</th>\n",
       "      <th>domain</th>\n",
       "      <th>network_username</th>\n",
       "      <th>country_code</th>\n",
       "      <th>investment_rounds</th>\n",
       "      <th>funding_rounds</th>\n",
       "      <th>funding_total</th>\n",
       "      <th>milestones</th>\n",
       "      <th>funded_year</th>\n",
       "      <th>id</th>\n",
       "      <th>acquiring_company_id</th>\n",
       "      <th>acquired_company_id</th>\n",
       "      <th>term_code</th>\n",
       "      <th>price_amount</th>\n",
       "      <th>acquired_at</th>\n",
       "    </tr>\n",
       "  </thead>\n",
       "  <tbody>\n",
       "    <tr>\n",
       "      <th>20</th>\n",
       "      <td>10054.0</td>\n",
       "      <td>Jumptap</td>\n",
       "      <td>mobile</td>\n",
       "      <td>acquired</td>\n",
       "      <td>2005-01-01</td>\n",
       "      <td>NaT</td>\n",
       "      <td>jumptap.com</td>\n",
       "      <td>jumptap</td>\n",
       "      <td>USA</td>\n",
       "      <td>0.0</td>\n",
       "      <td>7.0</td>\n",
       "      <td>121500000.0</td>\n",
       "      <td>3.0</td>\n",
       "      <td>2008.0</td>\n",
       "      <td>9288.0</td>\n",
       "      <td>23283.0</td>\n",
       "      <td>10054.0</td>\n",
       "      <td>cash_and_stock</td>\n",
       "      <td>0.0</td>\n",
       "      <td>2013-08-13</td>\n",
       "    </tr>\n",
       "    <tr>\n",
       "      <th>51</th>\n",
       "      <td>101312.0</td>\n",
       "      <td>SideTour</td>\n",
       "      <td>web</td>\n",
       "      <td>acquired</td>\n",
       "      <td>2011-06-01</td>\n",
       "      <td>NaT</td>\n",
       "      <td>sidetour.com</td>\n",
       "      <td>sidetour</td>\n",
       "      <td>USA</td>\n",
       "      <td>0.0</td>\n",
       "      <td>3.0</td>\n",
       "      <td>4000000.0</td>\n",
       "      <td>2.0</td>\n",
       "      <td>2011.0</td>\n",
       "      <td>9653.0</td>\n",
       "      <td>11391.0</td>\n",
       "      <td>101312.0</td>\n",
       "      <td>NaN</td>\n",
       "      <td>0.0</td>\n",
       "      <td>2013-09-18</td>\n",
       "    </tr>\n",
       "    <tr>\n",
       "      <th>54</th>\n",
       "      <td>101340.0</td>\n",
       "      <td>ChoicePass</td>\n",
       "      <td>enterprise</td>\n",
       "      <td>acquired</td>\n",
       "      <td>2011-07-01</td>\n",
       "      <td>NaT</td>\n",
       "      <td>choicepass.com</td>\n",
       "      <td>choicepass</td>\n",
       "      <td>USA</td>\n",
       "      <td>0.0</td>\n",
       "      <td>1.0</td>\n",
       "      <td>250000.0</td>\n",
       "      <td>1.0</td>\n",
       "      <td>2011.0</td>\n",
       "      <td>7272.0</td>\n",
       "      <td>1972.0</td>\n",
       "      <td>101340.0</td>\n",
       "      <td>NaN</td>\n",
       "      <td>0.0</td>\n",
       "      <td>2012-06-18</td>\n",
       "    </tr>\n",
       "    <tr>\n",
       "      <th>55</th>\n",
       "      <td>10137.0</td>\n",
       "      <td>Producteev</td>\n",
       "      <td>software</td>\n",
       "      <td>acquired</td>\n",
       "      <td>2008-07-08</td>\n",
       "      <td>NaT</td>\n",
       "      <td>producteev.com</td>\n",
       "      <td>producteev</td>\n",
       "      <td>USA</td>\n",
       "      <td>0.0</td>\n",
       "      <td>3.0</td>\n",
       "      <td>1310000.0</td>\n",
       "      <td>2.0</td>\n",
       "      <td>2008.0</td>\n",
       "      <td>8254.0</td>\n",
       "      <td>757.0</td>\n",
       "      <td>10137.0</td>\n",
       "      <td>cash_and_stock</td>\n",
       "      <td>0.0</td>\n",
       "      <td>2012-11-05</td>\n",
       "    </tr>\n",
       "    <tr>\n",
       "      <th>56</th>\n",
       "      <td>10139.0</td>\n",
       "      <td>TradeCard</td>\n",
       "      <td>enterprise</td>\n",
       "      <td>acquired</td>\n",
       "      <td>1999-01-01</td>\n",
       "      <td>NaT</td>\n",
       "      <td>tradecard.com</td>\n",
       "      <td>TradeCard</td>\n",
       "      <td>USA</td>\n",
       "      <td>0.0</td>\n",
       "      <td>2.0</td>\n",
       "      <td>44925000.0</td>\n",
       "      <td>1.0</td>\n",
       "      <td>2006.0</td>\n",
       "      <td>9326.0</td>\n",
       "      <td>44008.0</td>\n",
       "      <td>10139.0</td>\n",
       "      <td>NaN</td>\n",
       "      <td>0.0</td>\n",
       "      <td>2013-04-01</td>\n",
       "    </tr>\n",
       "  </tbody>\n",
       "</table>\n",
       "</div>"
      ],
      "text/plain": [
       "    company_id        name category_code    status founded_at closed_at  \\\n",
       "20     10054.0     Jumptap        mobile  acquired 2005-01-01       NaT   \n",
       "51    101312.0    SideTour           web  acquired 2011-06-01       NaT   \n",
       "54    101340.0  ChoicePass    enterprise  acquired 2011-07-01       NaT   \n",
       "55     10137.0  Producteev      software  acquired 2008-07-08       NaT   \n",
       "56     10139.0   TradeCard    enterprise  acquired 1999-01-01       NaT   \n",
       "\n",
       "            domain network_username country_code  investment_rounds  \\\n",
       "20     jumptap.com          jumptap          USA                0.0   \n",
       "51    sidetour.com         sidetour          USA                0.0   \n",
       "54  choicepass.com       choicepass          USA                0.0   \n",
       "55  producteev.com       producteev          USA                0.0   \n",
       "56   tradecard.com        TradeCard          USA                0.0   \n",
       "\n",
       "    funding_rounds  funding_total  milestones  funded_year      id  \\\n",
       "20             7.0    121500000.0         3.0       2008.0  9288.0   \n",
       "51             3.0      4000000.0         2.0       2011.0  9653.0   \n",
       "54             1.0       250000.0         1.0       2011.0  7272.0   \n",
       "55             3.0      1310000.0         2.0       2008.0  8254.0   \n",
       "56             2.0     44925000.0         1.0       2006.0  9326.0   \n",
       "\n",
       "    acquiring_company_id  acquired_company_id       term_code  price_amount  \\\n",
       "20               23283.0              10054.0  cash_and_stock           0.0   \n",
       "51               11391.0             101312.0             NaN           0.0   \n",
       "54                1972.0             101340.0             NaN           0.0   \n",
       "55                 757.0              10137.0  cash_and_stock           0.0   \n",
       "56               44008.0              10139.0             NaN           0.0   \n",
       "\n",
       "   acquired_at  \n",
       "20  2013-08-13  \n",
       "51  2013-09-18  \n",
       "54  2012-06-18  \n",
       "55  2012-11-05  \n",
       "56  2013-04-01  "
      ]
     },
     "execution_count": 47,
     "metadata": {},
     "output_type": "execute_result"
    }
   ],
   "source": [
    "# Создадим датафрейм df_company_acquisition_zero с компании с финансированием, которые были проданы за ноль или за один доллар\n",
    "df_company_acquisition_company = df_company_filter.merge(df_acquisition, how='left', left_on='company_id', right_on='acquired_company_id')\n",
    "df_company_acquisition_zero = df_company_acquisition_company [((df_company_acquisition_company['price_amount']==0)|\n",
    "                                                           (df_company_acquisition_company['price_amount']==1))&\n",
    "                                                          ((df_company_acquisition_company['funding_total']!=0))]\n",
    "df_company_acquisition_zero.head()"
   ]
  },
  {
   "cell_type": "code",
   "execution_count": 48,
   "metadata": {},
   "outputs": [
    {
     "data": {
      "image/png": "[encoded data removed]",
      "text/plain": [
       "<Figure size 800x300 with 1 Axes>"
      ]
     },
     "metadata": {},
     "output_type": "display_data"
    },
    {
     "data": {
      "image/png": "[encoded data removed]",
      "text/plain": [
       "<Figure size 800x100 with 1 Axes>"
      ]
     },
     "metadata": {},
     "output_type": "display_data"
    }
   ],
   "source": [
    "# Построим гистограмму распределения сумм финансирования на одну компанию\n",
    "plt.figure(figsize=(8,3))\n",
    "sns.histplot(data=df_company_acquisition_zero, x='funding_total', bins=100, kde=True)\n",
    "plt.title('Распределение суммы финансирования')\n",
    "plt.xlabel('Сумма финансирования')\n",
    "plt.ylabel('Частота')\n",
    "plt.show()\n",
    "\n",
    "# Строим диаграмму размаха методом boxplot()\n",
    "boxplot=df_company_acquisition_zero.boxplot(column='funding_total', vert=False, figsize=(8,1))"
   ]
  },
  {
   "cell_type": "code",
   "execution_count": 49,
   "metadata": {
    "id": "9IDTHfYQFhuX"
   },
   "outputs": [
    {
     "name": "stdout",
     "output_type": "stream",
     "text": [
      "Нижний порог выбросов: -18250000.0\n",
      "Верхний порог выбросов: 35750000.0\n",
      "90-й процентиль: 33015810.0\n"
     ]
    }
   ],
   "source": [
    "# Находим 90-й процентиль\n",
    "outliers=df_company_acquisition_zero['funding_total'].quantile(0.9).round(2)\n",
    "\n",
    "#Находим межквартильный размах IQR\n",
    "# Вычисляем квартили Q1 и Q3\n",
    "Q1 = df_company_acquisition_zero['funding_total'].quantile(0.25)\n",
    "Q3 = df_company_acquisition_zero['funding_total'].quantile(0.75)\n",
    "\n",
    "# Вычисляем межквартильный размах IQR\n",
    "IQR = Q3 - Q1\n",
    "\n",
    "# Определяем верхний порог для выбросов\n",
    "upper_bound = Q3 + 1.5 * IQR\n",
    "# Определяем нижний порог для выбросов\n",
    "lower_bound=Q1-1.5*IQR\n",
    "\n",
    "print(f'Нижний порог выбросов: {round(lower_bound,2)}')\n",
    "print(f'Верхний порог выбросов: {round(upper_bound,2)}')\n",
    "print(f'90-й процентиль: {outliers}')"
   ]
  },
  {
   "cell_type": "code",
   "execution_count": 50,
   "metadata": {},
   "outputs": [],
   "source": [
    "# отфильтруем данные по верхнему поргу выбросов\n",
    "df_company_acquisition_zero=df_company_acquisition_zero[df_company_acquisition_zero['funding_total']<upper_bound]"
   ]
  },
  {
   "cell_type": "code",
   "execution_count": 51,
   "metadata": {},
   "outputs": [
    {
     "data": {
      "text/plain": [
       "count        1471\n",
       "mean      8313793\n",
       "std       8559885\n",
       "min          3750\n",
       "25%       1755000\n",
       "50%       5020000\n",
       "75%      12000000\n",
       "max      35150000\n",
       "Name: funding_total, dtype: int64"
      ]
     },
     "execution_count": 51,
     "metadata": {},
     "output_type": "execute_result"
    }
   ],
   "source": [
    "df_company_acquisition_zero['funding_total'].describe().astype('int64')"
   ]
  },
  {
   "cell_type": "code",
   "execution_count": 52,
   "metadata": {},
   "outputs": [
    {
     "data": {
      "image/png": "[encoded data removed]",
      "text/plain": [
       "<Figure size 800x300 with 1 Axes>"
      ]
     },
     "metadata": {},
     "output_type": "display_data"
    },
    {
     "data": {
      "image/png": "[encoded data removed]",
      "text/plain": [
       "<Figure size 800x100 with 1 Axes>"
      ]
     },
     "metadata": {},
     "output_type": "display_data"
    }
   ],
   "source": [
    "# Построим гистограмму распределения сумм финансирования на одну компанию\n",
    "plt.figure(figsize=(8,3))\n",
    "sns.histplot(data=df_company_acquisition_zero, x='funding_total', bins=100, kde=True)\n",
    "plt.title('Распределение суммы финансирования')\n",
    "plt.xlabel('Сумма финансирования')\n",
    "plt.ylabel('Частота')\n",
    "plt.show()\n",
    "\n",
    "# Строим диаграмму размаха методом boxplot()\n",
    "boxplot=df_company_acquisition_zero.boxplot(column='funding_total', vert=False, figsize=(8,1))"
   ]
  },
  {
   "cell_type": "markdown",
   "metadata": {},
   "source": [
    "<div style=\"border: 3px solid #ccc; padding: 10px; border-radius: 5px;\">   Создан датафрейм df_company_acquisition_zero с компаниями, которые были проданы за ноль или за один доллар, и при этом известно, что у них был ненулевой общий объём финансирования. Данные в этом датафрейме также ассиметричны, сильно смещены влево. Для удаления выбросов была найдена верхняя граница, примерно равная 90-ому процетелю, 35 750 000. Нижняя аналитическая граница ушла в минус, наши данные её не перехоили. После удаления выбросов данные остались ассиметричными, смещенными влево с выбросами, на которые указывет диаграмма размаха, но стали выглядить лучше, чем до удаления.</div>"
   ]
  },
  {
   "cell_type": "markdown",
   "metadata": {
    "id": "mEiWpROjrJg2"
   },
   "source": [
    "\n",
    "### 3.4. Цены стартапов по категориям\n",
    "\n",
    "Категории стартапов с типично высокими ценами покупки стартапов и значительным разбросом цен могут быть привлекательными для крупных инвесторов, которые готовы к высоким рискам ради потенциально больших доходов. Среди категорий стартапов необходимо выделить категории стартапов, характеризующиеся типично высокими ценами и наибольшим разбросом цен за стартап."
   ]
  },
  {
   "cell_type": "code",
   "execution_count": 53,
   "metadata": {
    "id": "eF1aULm5FjfY",
    "scrolled": true
   },
   "outputs": [],
   "source": [
    "# Посмотрим значения описательной статистики цены продажи для каждой категории\n",
    "company_price_group=df_company_acquisition_company.groupby('category_code')['price_amount'].agg(['mean', 'median', 'min','max'])\n",
    "company_price_group[['mean', 'max']] = company_price_group[['mean', 'max']].fillna(0).astype('int64')"
   ]
  },
  {
   "cell_type": "code",
   "execution_count": 54,
   "metadata": {
    "scrolled": true
   },
   "outputs": [
    {
     "data": {
      "text/html": [
       "<div>\n",
       "<style scoped>\n",
       "    .dataframe tbody tr th:only-of-type {\n",
       "        vertical-align: middle;\n",
       "    }\n",
       "\n",
       "    .dataframe tbody tr th {\n",
       "        vertical-align: top;\n",
       "    }\n",
       "\n",
       "    .dataframe thead th {\n",
       "        text-align: right;\n",
       "    }\n",
       "</style>\n",
       "<table border=\"1\" class=\"dataframe\">\n",
       "  <thead>\n",
       "    <tr style=\"text-align: right;\">\n",
       "      <th></th>\n",
       "      <th>mean</th>\n",
       "      <th>median</th>\n",
       "      <th>min</th>\n",
       "      <th>max</th>\n",
       "    </tr>\n",
       "    <tr>\n",
       "      <th>category_code</th>\n",
       "      <th></th>\n",
       "      <th></th>\n",
       "      <th></th>\n",
       "      <th></th>\n",
       "    </tr>\n",
       "  </thead>\n",
       "  <tbody>\n",
       "    <tr>\n",
       "      <th>photo_video</th>\n",
       "      <td>132996666</td>\n",
       "      <td>36500000.0</td>\n",
       "      <td>0.0</td>\n",
       "      <td>1010470000</td>\n",
       "    </tr>\n",
       "    <tr>\n",
       "      <th>biotech</th>\n",
       "      <td>246935000</td>\n",
       "      <td>30000000.0</td>\n",
       "      <td>0.0</td>\n",
       "      <td>6200000000</td>\n",
       "    </tr>\n",
       "    <tr>\n",
       "      <th>real_estate</th>\n",
       "      <td>21500000</td>\n",
       "      <td>21500000.0</td>\n",
       "      <td>3000000.0</td>\n",
       "      <td>40000000</td>\n",
       "    </tr>\n",
       "    <tr>\n",
       "      <th>manufacturing</th>\n",
       "      <td>39666666</td>\n",
       "      <td>7500000.0</td>\n",
       "      <td>0.0</td>\n",
       "      <td>151000000</td>\n",
       "    </tr>\n",
       "    <tr>\n",
       "      <th>advertising</th>\n",
       "      <td>66122047</td>\n",
       "      <td>0.0</td>\n",
       "      <td>0.0</td>\n",
       "      <td>1800000000</td>\n",
       "    </tr>\n",
       "    <tr>\n",
       "      <th>cleantech</th>\n",
       "      <td>59524576</td>\n",
       "      <td>0.0</td>\n",
       "      <td>0.0</td>\n",
       "      <td>930000000</td>\n",
       "    </tr>\n",
       "    <tr>\n",
       "      <th>automotive</th>\n",
       "      <td>14333333</td>\n",
       "      <td>0.0</td>\n",
       "      <td>0.0</td>\n",
       "      <td>43000000</td>\n",
       "    </tr>\n",
       "    <tr>\n",
       "      <th>analytics</th>\n",
       "      <td>15083333</td>\n",
       "      <td>0.0</td>\n",
       "      <td>0.0</td>\n",
       "      <td>263000000</td>\n",
       "    </tr>\n",
       "    <tr>\n",
       "      <th>consulting</th>\n",
       "      <td>32444444</td>\n",
       "      <td>0.0</td>\n",
       "      <td>0.0</td>\n",
       "      <td>295000000</td>\n",
       "    </tr>\n",
       "    <tr>\n",
       "      <th>enterprise</th>\n",
       "      <td>13576842371</td>\n",
       "      <td>0.0</td>\n",
       "      <td>0.0</td>\n",
       "      <td>2600000000000</td>\n",
       "    </tr>\n",
       "    <tr>\n",
       "      <th>fashion</th>\n",
       "      <td>38571428</td>\n",
       "      <td>0.0</td>\n",
       "      <td>0.0</td>\n",
       "      <td>270000000</td>\n",
       "    </tr>\n",
       "    <tr>\n",
       "      <th>ecommerce</th>\n",
       "      <td>50249444</td>\n",
       "      <td>0.0</td>\n",
       "      <td>0.0</td>\n",
       "      <td>1000000000</td>\n",
       "    </tr>\n",
       "    <tr>\n",
       "      <th>design</th>\n",
       "      <td>0</td>\n",
       "      <td>0.0</td>\n",
       "      <td>0.0</td>\n",
       "      <td>0</td>\n",
       "    </tr>\n",
       "    <tr>\n",
       "      <th>games_video</th>\n",
       "      <td>99749379</td>\n",
       "      <td>0.0</td>\n",
       "      <td>0.0</td>\n",
       "      <td>5040000000</td>\n",
       "    </tr>\n",
       "    <tr>\n",
       "      <th>hardware</th>\n",
       "      <td>136578787</td>\n",
       "      <td>0.0</td>\n",
       "      <td>0.0</td>\n",
       "      <td>3100000000</td>\n",
       "    </tr>\n",
       "    <tr>\n",
       "      <th>hospitality</th>\n",
       "      <td>2500000</td>\n",
       "      <td>0.0</td>\n",
       "      <td>0.0</td>\n",
       "      <td>10000000</td>\n",
       "    </tr>\n",
       "    <tr>\n",
       "      <th>health</th>\n",
       "      <td>43888888</td>\n",
       "      <td>0.0</td>\n",
       "      <td>0.0</td>\n",
       "      <td>410000000</td>\n",
       "    </tr>\n",
       "    <tr>\n",
       "      <th>legal</th>\n",
       "      <td>0</td>\n",
       "      <td>0.0</td>\n",
       "      <td>0.0</td>\n",
       "      <td>0</td>\n",
       "    </tr>\n",
       "    <tr>\n",
       "      <th>medical</th>\n",
       "      <td>42281250</td>\n",
       "      <td>0.0</td>\n",
       "      <td>0.0</td>\n",
       "      <td>325000000</td>\n",
       "    </tr>\n",
       "    <tr>\n",
       "      <th>finance</th>\n",
       "      <td>106694736</td>\n",
       "      <td>0.0</td>\n",
       "      <td>0.0</td>\n",
       "      <td>1500000000</td>\n",
       "    </tr>\n",
       "    <tr>\n",
       "      <th>education</th>\n",
       "      <td>714285</td>\n",
       "      <td>0.0</td>\n",
       "      <td>0.0</td>\n",
       "      <td>10000000</td>\n",
       "    </tr>\n",
       "    <tr>\n",
       "      <th>mobile</th>\n",
       "      <td>108914741</td>\n",
       "      <td>0.0</td>\n",
       "      <td>0.0</td>\n",
       "      <td>12500000000</td>\n",
       "    </tr>\n",
       "    <tr>\n",
       "      <th>messaging</th>\n",
       "      <td>17545454</td>\n",
       "      <td>0.0</td>\n",
       "      <td>0.0</td>\n",
       "      <td>169000000</td>\n",
       "    </tr>\n",
       "    <tr>\n",
       "      <th>music</th>\n",
       "      <td>23821666</td>\n",
       "      <td>0.0</td>\n",
       "      <td>0.0</td>\n",
       "      <td>280000000</td>\n",
       "    </tr>\n",
       "    <tr>\n",
       "      <th>network_hosting</th>\n",
       "      <td>127525591</td>\n",
       "      <td>0.0</td>\n",
       "      <td>0.0</td>\n",
       "      <td>3000000000</td>\n",
       "    </tr>\n",
       "    <tr>\n",
       "      <th>other</th>\n",
       "      <td>50591836</td>\n",
       "      <td>0.0</td>\n",
       "      <td>0.0</td>\n",
       "      <td>1059000000</td>\n",
       "    </tr>\n",
       "    <tr>\n",
       "      <th>news</th>\n",
       "      <td>43055555</td>\n",
       "      <td>0.0</td>\n",
       "      <td>0.0</td>\n",
       "      <td>315000000</td>\n",
       "    </tr>\n",
       "    <tr>\n",
       "      <th>public_relations</th>\n",
       "      <td>1372322033</td>\n",
       "      <td>0.0</td>\n",
       "      <td>0.0</td>\n",
       "      <td>39000000000</td>\n",
       "    </tr>\n",
       "    <tr>\n",
       "      <th>search</th>\n",
       "      <td>44535937</td>\n",
       "      <td>0.0</td>\n",
       "      <td>0.0</td>\n",
       "      <td>500000000</td>\n",
       "    </tr>\n",
       "    <tr>\n",
       "      <th>security</th>\n",
       "      <td>87881730</td>\n",
       "      <td>0.0</td>\n",
       "      <td>0.0</td>\n",
       "      <td>1280000000</td>\n",
       "    </tr>\n",
       "    <tr>\n",
       "      <th>semiconductor</th>\n",
       "      <td>333265131</td>\n",
       "      <td>0.0</td>\n",
       "      <td>0.0</td>\n",
       "      <td>6500000000</td>\n",
       "    </tr>\n",
       "    <tr>\n",
       "      <th>social</th>\n",
       "      <td>10978260</td>\n",
       "      <td>0.0</td>\n",
       "      <td>0.0</td>\n",
       "      <td>151000000</td>\n",
       "    </tr>\n",
       "    <tr>\n",
       "      <th>software</th>\n",
       "      <td>97091356</td>\n",
       "      <td>0.0</td>\n",
       "      <td>0.0</td>\n",
       "      <td>8500000000</td>\n",
       "    </tr>\n",
       "    <tr>\n",
       "      <th>sports</th>\n",
       "      <td>0</td>\n",
       "      <td>0.0</td>\n",
       "      <td>0.0</td>\n",
       "      <td>0</td>\n",
       "    </tr>\n",
       "    <tr>\n",
       "      <th>transportation</th>\n",
       "      <td>275000000</td>\n",
       "      <td>0.0</td>\n",
       "      <td>0.0</td>\n",
       "      <td>1100000000</td>\n",
       "    </tr>\n",
       "    <tr>\n",
       "      <th>travel</th>\n",
       "      <td>6944444</td>\n",
       "      <td>0.0</td>\n",
       "      <td>0.0</td>\n",
       "      <td>120000000</td>\n",
       "    </tr>\n",
       "    <tr>\n",
       "      <th>web</th>\n",
       "      <td>78418020</td>\n",
       "      <td>0.0</td>\n",
       "      <td>0.0</td>\n",
       "      <td>4300000000</td>\n",
       "    </tr>\n",
       "    <tr>\n",
       "      <th>government</th>\n",
       "      <td>0</td>\n",
       "      <td>NaN</td>\n",
       "      <td>NaN</td>\n",
       "      <td>0</td>\n",
       "    </tr>\n",
       "    <tr>\n",
       "      <th>local</th>\n",
       "      <td>0</td>\n",
       "      <td>NaN</td>\n",
       "      <td>NaN</td>\n",
       "      <td>0</td>\n",
       "    </tr>\n",
       "    <tr>\n",
       "      <th>nanotech</th>\n",
       "      <td>0</td>\n",
       "      <td>NaN</td>\n",
       "      <td>NaN</td>\n",
       "      <td>0</td>\n",
       "    </tr>\n",
       "    <tr>\n",
       "      <th>nonprofit</th>\n",
       "      <td>0</td>\n",
       "      <td>NaN</td>\n",
       "      <td>NaN</td>\n",
       "      <td>0</td>\n",
       "    </tr>\n",
       "    <tr>\n",
       "      <th>pets</th>\n",
       "      <td>0</td>\n",
       "      <td>NaN</td>\n",
       "      <td>NaN</td>\n",
       "      <td>0</td>\n",
       "    </tr>\n",
       "  </tbody>\n",
       "</table>\n",
       "</div>"
      ],
      "text/plain": [
       "                         mean      median        min            max\n",
       "category_code                                                      \n",
       "photo_video         132996666  36500000.0        0.0     1010470000\n",
       "biotech             246935000  30000000.0        0.0     6200000000\n",
       "real_estate          21500000  21500000.0  3000000.0       40000000\n",
       "manufacturing        39666666   7500000.0        0.0      151000000\n",
       "advertising          66122047         0.0        0.0     1800000000\n",
       "cleantech            59524576         0.0        0.0      930000000\n",
       "automotive           14333333         0.0        0.0       43000000\n",
       "analytics            15083333         0.0        0.0      263000000\n",
       "consulting           32444444         0.0        0.0      295000000\n",
       "enterprise        13576842371         0.0        0.0  2600000000000\n",
       "fashion              38571428         0.0        0.0      270000000\n",
       "ecommerce            50249444         0.0        0.0     1000000000\n",
       "design                      0         0.0        0.0              0\n",
       "games_video          99749379         0.0        0.0     5040000000\n",
       "hardware            136578787         0.0        0.0     3100000000\n",
       "hospitality           2500000         0.0        0.0       10000000\n",
       "health               43888888         0.0        0.0      410000000\n",
       "legal                       0         0.0        0.0              0\n",
       "medical              42281250         0.0        0.0      325000000\n",
       "finance             106694736         0.0        0.0     1500000000\n",
       "education              714285         0.0        0.0       10000000\n",
       "mobile              108914741         0.0        0.0    12500000000\n",
       "messaging            17545454         0.0        0.0      169000000\n",
       "music                23821666         0.0        0.0      280000000\n",
       "network_hosting     127525591         0.0        0.0     3000000000\n",
       "other                50591836         0.0        0.0     1059000000\n",
       "news                 43055555         0.0        0.0      315000000\n",
       "public_relations   1372322033         0.0        0.0    39000000000\n",
       "search               44535937         0.0        0.0      500000000\n",
       "security             87881730         0.0        0.0     1280000000\n",
       "semiconductor       333265131         0.0        0.0     6500000000\n",
       "social               10978260         0.0        0.0      151000000\n",
       "software             97091356         0.0        0.0     8500000000\n",
       "sports                      0         0.0        0.0              0\n",
       "transportation      275000000         0.0        0.0     1100000000\n",
       "travel                6944444         0.0        0.0      120000000\n",
       "web                  78418020         0.0        0.0     4300000000\n",
       "government                  0         NaN        NaN              0\n",
       "local                       0         NaN        NaN              0\n",
       "nanotech                    0         NaN        NaN              0\n",
       "nonprofit                   0         NaN        NaN              0\n",
       "pets                        0         NaN        NaN              0"
      ]
     },
     "execution_count": 54,
     "metadata": {},
     "output_type": "execute_result"
    }
   ],
   "source": [
    "# Отсортируем по медиане\n",
    "company_price_group.sort_values(by='median', ascending=False)"
   ]
  },
  {
   "cell_type": "code",
   "execution_count": 55,
   "metadata": {
    "scrolled": true
   },
   "outputs": [
    {
     "data": {
      "text/html": [
       "<div>\n",
       "<style scoped>\n",
       "    .dataframe tbody tr th:only-of-type {\n",
       "        vertical-align: middle;\n",
       "    }\n",
       "\n",
       "    .dataframe tbody tr th {\n",
       "        vertical-align: top;\n",
       "    }\n",
       "\n",
       "    .dataframe thead th {\n",
       "        text-align: right;\n",
       "    }\n",
       "</style>\n",
       "<table border=\"1\" class=\"dataframe\">\n",
       "  <thead>\n",
       "    <tr style=\"text-align: right;\">\n",
       "      <th></th>\n",
       "      <th>mean</th>\n",
       "      <th>median</th>\n",
       "      <th>min</th>\n",
       "      <th>max</th>\n",
       "      <th>range</th>\n",
       "    </tr>\n",
       "    <tr>\n",
       "      <th>category_code</th>\n",
       "      <th></th>\n",
       "      <th></th>\n",
       "      <th></th>\n",
       "      <th></th>\n",
       "      <th></th>\n",
       "    </tr>\n",
       "  </thead>\n",
       "  <tbody>\n",
       "    <tr>\n",
       "      <th>enterprise</th>\n",
       "      <td>13576842371</td>\n",
       "      <td>0.0</td>\n",
       "      <td>0.0</td>\n",
       "      <td>2600000000000</td>\n",
       "      <td>2600000000000</td>\n",
       "    </tr>\n",
       "    <tr>\n",
       "      <th>public_relations</th>\n",
       "      <td>1372322033</td>\n",
       "      <td>0.0</td>\n",
       "      <td>0.0</td>\n",
       "      <td>39000000000</td>\n",
       "      <td>39000000000</td>\n",
       "    </tr>\n",
       "    <tr>\n",
       "      <th>mobile</th>\n",
       "      <td>108914741</td>\n",
       "      <td>0.0</td>\n",
       "      <td>0.0</td>\n",
       "      <td>12500000000</td>\n",
       "      <td>12500000000</td>\n",
       "    </tr>\n",
       "    <tr>\n",
       "      <th>software</th>\n",
       "      <td>97091356</td>\n",
       "      <td>0.0</td>\n",
       "      <td>0.0</td>\n",
       "      <td>8500000000</td>\n",
       "      <td>8500000000</td>\n",
       "    </tr>\n",
       "    <tr>\n",
       "      <th>semiconductor</th>\n",
       "      <td>333265131</td>\n",
       "      <td>0.0</td>\n",
       "      <td>0.0</td>\n",
       "      <td>6500000000</td>\n",
       "      <td>6500000000</td>\n",
       "    </tr>\n",
       "    <tr>\n",
       "      <th>biotech</th>\n",
       "      <td>246935000</td>\n",
       "      <td>30000000.0</td>\n",
       "      <td>0.0</td>\n",
       "      <td>6200000000</td>\n",
       "      <td>6200000000</td>\n",
       "    </tr>\n",
       "    <tr>\n",
       "      <th>games_video</th>\n",
       "      <td>99749379</td>\n",
       "      <td>0.0</td>\n",
       "      <td>0.0</td>\n",
       "      <td>5040000000</td>\n",
       "      <td>5040000000</td>\n",
       "    </tr>\n",
       "    <tr>\n",
       "      <th>web</th>\n",
       "      <td>78418020</td>\n",
       "      <td>0.0</td>\n",
       "      <td>0.0</td>\n",
       "      <td>4300000000</td>\n",
       "      <td>4300000000</td>\n",
       "    </tr>\n",
       "    <tr>\n",
       "      <th>hardware</th>\n",
       "      <td>136578787</td>\n",
       "      <td>0.0</td>\n",
       "      <td>0.0</td>\n",
       "      <td>3100000000</td>\n",
       "      <td>3100000000</td>\n",
       "    </tr>\n",
       "    <tr>\n",
       "      <th>network_hosting</th>\n",
       "      <td>127525591</td>\n",
       "      <td>0.0</td>\n",
       "      <td>0.0</td>\n",
       "      <td>3000000000</td>\n",
       "      <td>3000000000</td>\n",
       "    </tr>\n",
       "    <tr>\n",
       "      <th>advertising</th>\n",
       "      <td>66122047</td>\n",
       "      <td>0.0</td>\n",
       "      <td>0.0</td>\n",
       "      <td>1800000000</td>\n",
       "      <td>1800000000</td>\n",
       "    </tr>\n",
       "    <tr>\n",
       "      <th>finance</th>\n",
       "      <td>106694736</td>\n",
       "      <td>0.0</td>\n",
       "      <td>0.0</td>\n",
       "      <td>1500000000</td>\n",
       "      <td>1500000000</td>\n",
       "    </tr>\n",
       "    <tr>\n",
       "      <th>security</th>\n",
       "      <td>87881730</td>\n",
       "      <td>0.0</td>\n",
       "      <td>0.0</td>\n",
       "      <td>1280000000</td>\n",
       "      <td>1280000000</td>\n",
       "    </tr>\n",
       "    <tr>\n",
       "      <th>transportation</th>\n",
       "      <td>275000000</td>\n",
       "      <td>0.0</td>\n",
       "      <td>0.0</td>\n",
       "      <td>1100000000</td>\n",
       "      <td>1100000000</td>\n",
       "    </tr>\n",
       "    <tr>\n",
       "      <th>other</th>\n",
       "      <td>50591836</td>\n",
       "      <td>0.0</td>\n",
       "      <td>0.0</td>\n",
       "      <td>1059000000</td>\n",
       "      <td>1059000000</td>\n",
       "    </tr>\n",
       "    <tr>\n",
       "      <th>photo_video</th>\n",
       "      <td>132996666</td>\n",
       "      <td>36500000.0</td>\n",
       "      <td>0.0</td>\n",
       "      <td>1010470000</td>\n",
       "      <td>1010470000</td>\n",
       "    </tr>\n",
       "    <tr>\n",
       "      <th>ecommerce</th>\n",
       "      <td>50249444</td>\n",
       "      <td>0.0</td>\n",
       "      <td>0.0</td>\n",
       "      <td>1000000000</td>\n",
       "      <td>1000000000</td>\n",
       "    </tr>\n",
       "    <tr>\n",
       "      <th>cleantech</th>\n",
       "      <td>59524576</td>\n",
       "      <td>0.0</td>\n",
       "      <td>0.0</td>\n",
       "      <td>930000000</td>\n",
       "      <td>930000000</td>\n",
       "    </tr>\n",
       "    <tr>\n",
       "      <th>search</th>\n",
       "      <td>44535937</td>\n",
       "      <td>0.0</td>\n",
       "      <td>0.0</td>\n",
       "      <td>500000000</td>\n",
       "      <td>500000000</td>\n",
       "    </tr>\n",
       "    <tr>\n",
       "      <th>health</th>\n",
       "      <td>43888888</td>\n",
       "      <td>0.0</td>\n",
       "      <td>0.0</td>\n",
       "      <td>410000000</td>\n",
       "      <td>410000000</td>\n",
       "    </tr>\n",
       "    <tr>\n",
       "      <th>medical</th>\n",
       "      <td>42281250</td>\n",
       "      <td>0.0</td>\n",
       "      <td>0.0</td>\n",
       "      <td>325000000</td>\n",
       "      <td>325000000</td>\n",
       "    </tr>\n",
       "    <tr>\n",
       "      <th>news</th>\n",
       "      <td>43055555</td>\n",
       "      <td>0.0</td>\n",
       "      <td>0.0</td>\n",
       "      <td>315000000</td>\n",
       "      <td>315000000</td>\n",
       "    </tr>\n",
       "    <tr>\n",
       "      <th>consulting</th>\n",
       "      <td>32444444</td>\n",
       "      <td>0.0</td>\n",
       "      <td>0.0</td>\n",
       "      <td>295000000</td>\n",
       "      <td>295000000</td>\n",
       "    </tr>\n",
       "    <tr>\n",
       "      <th>music</th>\n",
       "      <td>23821666</td>\n",
       "      <td>0.0</td>\n",
       "      <td>0.0</td>\n",
       "      <td>280000000</td>\n",
       "      <td>280000000</td>\n",
       "    </tr>\n",
       "    <tr>\n",
       "      <th>fashion</th>\n",
       "      <td>38571428</td>\n",
       "      <td>0.0</td>\n",
       "      <td>0.0</td>\n",
       "      <td>270000000</td>\n",
       "      <td>270000000</td>\n",
       "    </tr>\n",
       "    <tr>\n",
       "      <th>analytics</th>\n",
       "      <td>15083333</td>\n",
       "      <td>0.0</td>\n",
       "      <td>0.0</td>\n",
       "      <td>263000000</td>\n",
       "      <td>263000000</td>\n",
       "    </tr>\n",
       "    <tr>\n",
       "      <th>messaging</th>\n",
       "      <td>17545454</td>\n",
       "      <td>0.0</td>\n",
       "      <td>0.0</td>\n",
       "      <td>169000000</td>\n",
       "      <td>169000000</td>\n",
       "    </tr>\n",
       "    <tr>\n",
       "      <th>social</th>\n",
       "      <td>10978260</td>\n",
       "      <td>0.0</td>\n",
       "      <td>0.0</td>\n",
       "      <td>151000000</td>\n",
       "      <td>151000000</td>\n",
       "    </tr>\n",
       "    <tr>\n",
       "      <th>manufacturing</th>\n",
       "      <td>39666666</td>\n",
       "      <td>7500000.0</td>\n",
       "      <td>0.0</td>\n",
       "      <td>151000000</td>\n",
       "      <td>151000000</td>\n",
       "    </tr>\n",
       "    <tr>\n",
       "      <th>travel</th>\n",
       "      <td>6944444</td>\n",
       "      <td>0.0</td>\n",
       "      <td>0.0</td>\n",
       "      <td>120000000</td>\n",
       "      <td>120000000</td>\n",
       "    </tr>\n",
       "    <tr>\n",
       "      <th>automotive</th>\n",
       "      <td>14333333</td>\n",
       "      <td>0.0</td>\n",
       "      <td>0.0</td>\n",
       "      <td>43000000</td>\n",
       "      <td>43000000</td>\n",
       "    </tr>\n",
       "    <tr>\n",
       "      <th>real_estate</th>\n",
       "      <td>21500000</td>\n",
       "      <td>21500000.0</td>\n",
       "      <td>3000000.0</td>\n",
       "      <td>40000000</td>\n",
       "      <td>37000000</td>\n",
       "    </tr>\n",
       "    <tr>\n",
       "      <th>hospitality</th>\n",
       "      <td>2500000</td>\n",
       "      <td>0.0</td>\n",
       "      <td>0.0</td>\n",
       "      <td>10000000</td>\n",
       "      <td>10000000</td>\n",
       "    </tr>\n",
       "    <tr>\n",
       "      <th>education</th>\n",
       "      <td>714285</td>\n",
       "      <td>0.0</td>\n",
       "      <td>0.0</td>\n",
       "      <td>10000000</td>\n",
       "      <td>10000000</td>\n",
       "    </tr>\n",
       "    <tr>\n",
       "      <th>design</th>\n",
       "      <td>0</td>\n",
       "      <td>0.0</td>\n",
       "      <td>0.0</td>\n",
       "      <td>0</td>\n",
       "      <td>0</td>\n",
       "    </tr>\n",
       "    <tr>\n",
       "      <th>local</th>\n",
       "      <td>0</td>\n",
       "      <td>NaN</td>\n",
       "      <td>NaN</td>\n",
       "      <td>0</td>\n",
       "      <td>0</td>\n",
       "    </tr>\n",
       "    <tr>\n",
       "      <th>government</th>\n",
       "      <td>0</td>\n",
       "      <td>NaN</td>\n",
       "      <td>NaN</td>\n",
       "      <td>0</td>\n",
       "      <td>0</td>\n",
       "    </tr>\n",
       "    <tr>\n",
       "      <th>legal</th>\n",
       "      <td>0</td>\n",
       "      <td>0.0</td>\n",
       "      <td>0.0</td>\n",
       "      <td>0</td>\n",
       "      <td>0</td>\n",
       "    </tr>\n",
       "    <tr>\n",
       "      <th>nanotech</th>\n",
       "      <td>0</td>\n",
       "      <td>NaN</td>\n",
       "      <td>NaN</td>\n",
       "      <td>0</td>\n",
       "      <td>0</td>\n",
       "    </tr>\n",
       "    <tr>\n",
       "      <th>pets</th>\n",
       "      <td>0</td>\n",
       "      <td>NaN</td>\n",
       "      <td>NaN</td>\n",
       "      <td>0</td>\n",
       "      <td>0</td>\n",
       "    </tr>\n",
       "    <tr>\n",
       "      <th>nonprofit</th>\n",
       "      <td>0</td>\n",
       "      <td>NaN</td>\n",
       "      <td>NaN</td>\n",
       "      <td>0</td>\n",
       "      <td>0</td>\n",
       "    </tr>\n",
       "    <tr>\n",
       "      <th>sports</th>\n",
       "      <td>0</td>\n",
       "      <td>0.0</td>\n",
       "      <td>0.0</td>\n",
       "      <td>0</td>\n",
       "      <td>0</td>\n",
       "    </tr>\n",
       "  </tbody>\n",
       "</table>\n",
       "</div>"
      ],
      "text/plain": [
       "                         mean      median        min            max  \\\n",
       "category_code                                                         \n",
       "enterprise        13576842371         0.0        0.0  2600000000000   \n",
       "public_relations   1372322033         0.0        0.0    39000000000   \n",
       "mobile              108914741         0.0        0.0    12500000000   \n",
       "software             97091356         0.0        0.0     8500000000   \n",
       "semiconductor       333265131         0.0        0.0     6500000000   \n",
       "biotech             246935000  30000000.0        0.0     6200000000   \n",
       "games_video          99749379         0.0        0.0     5040000000   \n",
       "web                  78418020         0.0        0.0     4300000000   \n",
       "hardware            136578787         0.0        0.0     3100000000   \n",
       "network_hosting     127525591         0.0        0.0     3000000000   \n",
       "advertising          66122047         0.0        0.0     1800000000   \n",
       "finance             106694736         0.0        0.0     1500000000   \n",
       "security             87881730         0.0        0.0     1280000000   \n",
       "transportation      275000000         0.0        0.0     1100000000   \n",
       "other                50591836         0.0        0.0     1059000000   \n",
       "photo_video         132996666  36500000.0        0.0     1010470000   \n",
       "ecommerce            50249444         0.0        0.0     1000000000   \n",
       "cleantech            59524576         0.0        0.0      930000000   \n",
       "search               44535937         0.0        0.0      500000000   \n",
       "health               43888888         0.0        0.0      410000000   \n",
       "medical              42281250         0.0        0.0      325000000   \n",
       "news                 43055555         0.0        0.0      315000000   \n",
       "consulting           32444444         0.0        0.0      295000000   \n",
       "music                23821666         0.0        0.0      280000000   \n",
       "fashion              38571428         0.0        0.0      270000000   \n",
       "analytics            15083333         0.0        0.0      263000000   \n",
       "messaging            17545454         0.0        0.0      169000000   \n",
       "social               10978260         0.0        0.0      151000000   \n",
       "manufacturing        39666666   7500000.0        0.0      151000000   \n",
       "travel                6944444         0.0        0.0      120000000   \n",
       "automotive           14333333         0.0        0.0       43000000   \n",
       "real_estate          21500000  21500000.0  3000000.0       40000000   \n",
       "hospitality           2500000         0.0        0.0       10000000   \n",
       "education              714285         0.0        0.0       10000000   \n",
       "design                      0         0.0        0.0              0   \n",
       "local                       0         NaN        NaN              0   \n",
       "government                  0         NaN        NaN              0   \n",
       "legal                       0         0.0        0.0              0   \n",
       "nanotech                    0         NaN        NaN              0   \n",
       "pets                        0         NaN        NaN              0   \n",
       "nonprofit                   0         NaN        NaN              0   \n",
       "sports                      0         0.0        0.0              0   \n",
       "\n",
       "                          range  \n",
       "category_code                    \n",
       "enterprise        2600000000000  \n",
       "public_relations    39000000000  \n",
       "mobile              12500000000  \n",
       "software             8500000000  \n",
       "semiconductor        6500000000  \n",
       "biotech              6200000000  \n",
       "games_video          5040000000  \n",
       "web                  4300000000  \n",
       "hardware             3100000000  \n",
       "network_hosting      3000000000  \n",
       "advertising          1800000000  \n",
       "finance              1500000000  \n",
       "security             1280000000  \n",
       "transportation       1100000000  \n",
       "other                1059000000  \n",
       "photo_video          1010470000  \n",
       "ecommerce            1000000000  \n",
       "cleantech             930000000  \n",
       "search                500000000  \n",
       "health                410000000  \n",
       "medical               325000000  \n",
       "news                  315000000  \n",
       "consulting            295000000  \n",
       "music                 280000000  \n",
       "fashion               270000000  \n",
       "analytics             263000000  \n",
       "messaging             169000000  \n",
       "social                151000000  \n",
       "manufacturing         151000000  \n",
       "travel                120000000  \n",
       "automotive             43000000  \n",
       "real_estate            37000000  \n",
       "hospitality            10000000  \n",
       "education              10000000  \n",
       "design                        0  \n",
       "local                         0  \n",
       "government                    0  \n",
       "legal                         0  \n",
       "nanotech                      0  \n",
       "pets                          0  \n",
       "nonprofit                     0  \n",
       "sports                        0  "
      ]
     },
     "execution_count": 55,
     "metadata": {},
     "output_type": "execute_result"
    }
   ],
   "source": [
    "#Отсортируем по размаху\n",
    "company_price_group['range']=(company_price_group['max']-company_price_group['min']).fillna(0).astype('int64')\n",
    "company_price_group.sort_values(by='range', ascending=False)"
   ]
  },
  {
   "cell_type": "markdown",
   "metadata": {},
   "source": [
    "<div style=\"border: 3px solid #ccc; padding: 10px; border-radius: 5px;\">  К стартапам с типично высокими ценами можно отнести следующие категории: photo_video, biotech, real_estate, manufacturing. Были выбраны именно эти 5 компаний, потому что их медиана находится в диапазоне от 7 500 000 до 36 500 000, у остальных категорий медина равна 0. \n",
    "Для определения категорий с наибольшим разбросом цен за стартап был расчитан размах. В качестве выделения категорий выберем размах более 10 000 000 000, к этим категориям можем отнести 3: enterprise(enterprise), public_relations(1372322033) и mobile(12 500 000 000)."
   ]
  },
  {
   "cell_type": "markdown",
   "metadata": {
    "id": "ADOfyVY_rJg3"
   },
   "source": [
    "\n",
    "### 3.5. Сколько раундов продержится стартап перед покупкой\n",
    "\n",
    "Заказчика интересует типичное значение количества раундов для каждого возможного статуса стартапа.\n",
    "Необходимо также аостройть график, который отображает, сколько в среднем раундов финансирования проходило для стартапов из каждой группы."
   ]
  },
  {
   "cell_type": "code",
   "execution_count": 56,
   "metadata": {
    "id": "hgXMPC4WrJg3",
    "vscode": {
     "languageId": "plaintext"
    }
   },
   "outputs": [
    {
     "data": {
      "text/html": [
       "<div>\n",
       "<style scoped>\n",
       "    .dataframe tbody tr th:only-of-type {\n",
       "        vertical-align: middle;\n",
       "    }\n",
       "\n",
       "    .dataframe tbody tr th {\n",
       "        vertical-align: top;\n",
       "    }\n",
       "\n",
       "    .dataframe thead th {\n",
       "        text-align: right;\n",
       "    }\n",
       "</style>\n",
       "<table border=\"1\" class=\"dataframe\">\n",
       "  <thead>\n",
       "    <tr style=\"text-align: right;\">\n",
       "      <th></th>\n",
       "      <th>status</th>\n",
       "      <th>median</th>\n",
       "      <th>mean</th>\n",
       "    </tr>\n",
       "  </thead>\n",
       "  <tbody>\n",
       "    <tr>\n",
       "      <th>0</th>\n",
       "      <td>acquired</td>\n",
       "      <td>1.0</td>\n",
       "      <td>1.84</td>\n",
       "    </tr>\n",
       "    <tr>\n",
       "      <th>1</th>\n",
       "      <td>closed</td>\n",
       "      <td>1.0</td>\n",
       "      <td>1.38</td>\n",
       "    </tr>\n",
       "    <tr>\n",
       "      <th>2</th>\n",
       "      <td>ipo</td>\n",
       "      <td>1.0</td>\n",
       "      <td>1.93</td>\n",
       "    </tr>\n",
       "    <tr>\n",
       "      <th>3</th>\n",
       "      <td>operating</td>\n",
       "      <td>1.0</td>\n",
       "      <td>1.52</td>\n",
       "    </tr>\n",
       "  </tbody>\n",
       "</table>\n",
       "</div>"
      ],
      "text/plain": [
       "      status  median  mean\n",
       "0   acquired     1.0  1.84\n",
       "1     closed     1.0  1.38\n",
       "2        ipo     1.0  1.93\n",
       "3  operating     1.0  1.52"
      ]
     },
     "execution_count": 56,
     "metadata": {},
     "output_type": "execute_result"
    }
   ],
   "source": [
    "# Рассчитаем медиану и средню по раундам в разрезе статуса\n",
    "group_status=df_company_filter.groupby('status')['funding_rounds'].agg(['median','mean']).round(2).reset_index()\n",
    "group_status"
   ]
  },
  {
   "cell_type": "code",
   "execution_count": 57,
   "metadata": {
    "id": "pV3e7kw5Fj1Y"
   },
   "outputs": [
    {
     "data": {
      "image/png": "[encoded data removed]",
      "text/plain": [
       "<Figure size 700x300 with 1 Axes>"
      ]
     },
     "metadata": {},
     "output_type": "display_data"
    }
   ],
   "source": [
    "#Построим линейную гистаграмму 'Среднее количество раунодов финансирования на компанию в разоезе статуса'\n",
    "group_status.sort_values(by='mean').plot(kind='barh', x='status', y='mean', legend=False, rot=0, figsize=(7,3))\n",
    "plt.title('Среднее количество раунодов финансирования на компанию в разоезе статуса')\n",
    "plt.xlabel('Количество раундов')\n",
    "plt.ylabel('Статус')\n",
    "plt.show()"
   ]
  },
  {
   "cell_type": "markdown",
   "metadata": {},
   "source": [
    "<div style=\"border: 3px solid #ccc; padding: 10px; border-radius: 5px;\"> Типичное значение количества раундов для каждого возможного статуса стартапа одинаково и равно одному, это нам показала медиана. Среднее количество раундов варьируется от 1.38 для статуса 'closed' до 1.93 для статуса 'ipo'."
   ]
  },
  {
   "cell_type": "markdown",
   "metadata": {
    "id": "VAFEZ2HBrJg3"
   },
   "source": [
    "\n",
    "## Шаг 4. Итоговый вывод и рекомендации"
   ]
  },
  {
   "cell_type": "markdown",
   "metadata": {},
   "source": [
    "<div style=\"border: 3px solid #ccc; padding: 10px; border-radius: 5px;\">  \n",
    "    В рамках исследования подготовили датасет и проверили данные на адекватность, ответили на вопросы о предобработке и о значении данных для бизнеса.<br>\n",
    "\n",
    "Были предобработаны данные: изменены названия столбцов, типы данных, проанализированы пропуски.<br>\n",
    "\n",
    "Исследование финансирования в рамках одного раунда показало, что типичный размер собранных в рамках одного раунда средств был максимален в 2005 году,  после пика в 2005 году размер средств, начал снижаться до 2012 года, и только в 2013 году тренд начал меняться в большую сторону.<br>\n",
    "\n",
    "Изучена связь между размером компании и полнотой сведений об образовании ее сотрудников, которая показала, что чем меньше компания по количеству сотрудников, тем больше пропусков в информации об образовании сотрудников в этих компаниях.<br>\n",
    "\n",
    "Не все столбцы в разных датафреймах с одинаковым названием подходят для объединения, т.к. они могут содержать совершенно другой смысл или даже при условии, что смысл одинаковый, это может привести к огромному числу строк, при котором ядро не справится с объединением, в работе подробно рассмотрели на примере столбца network_username, коьорый встречается сразу в трех таблицах.<br>\n",
    "\n",
    "Установили причину большого количества пропусков в таблице df_company_and_rounds и разбили ее на 2 отдельных таблицы с компаниями и с раундами.<br>\n",
    "\n",
    "Подготовили датафрейм с компаниями,  которые меняли или готовы менять владельца.<br>\n",
    "\n",
    "Изучили выбросы обычного для рассматриваемого периода размера средств, который предоставлялся компаниям. <br>\n",
    "\n",
    "Исследовали компании, которые были проданы за ноль или за один доллар, но с  ненулевым общим объёмом финансирования. <br>\n",
    "Рассмотрели и удалили выбросы.<br>\n",
    "\n",
    "Изучили и выделили несколько категорий стартапов с типично высокими ценами покупки стартапов (photo_video, biotech, real_estate, manufacturing ) и значительным разбросом цен (enterprise, public_relations,  mobile).<br>\n",
    "\n",
    "Исследовали типичное и среднее значение раундов для компании в разрезе статуса. Типичное значение одинаково и равно одному, среднее количество раундов варьируется от 1.38 для статуса 'closed' до 1.93 для статуса 'ipo'.\n",
    "</div>"
   ]
  }
 ],
 "metadata": {
  "ExecuteTimeLog": [
   {
    "duration": 371,
    "start_time": "2025-07-28T06:16:48.418Z"
   },
   {
    "duration": 918,
    "start_time": "2025-07-28T06:17:04.450Z"
   },
   {
    "duration": 93,
    "start_time": "2025-07-28T06:17:34.135Z"
   },
   {
    "duration": 8,
    "start_time": "2025-07-28T06:17:46.034Z"
   },
   {
    "duration": 2,
    "start_time": "2025-07-28T06:17:57.483Z"
   },
   {
    "duration": 3746,
    "start_time": "2025-07-28T06:19:52.143Z"
   },
   {
    "duration": 4,
    "start_time": "2025-07-28T06:20:34.201Z"
   },
   {
    "duration": 53,
    "start_time": "2025-07-28T06:21:18.661Z"
   },
   {
    "duration": 3,
    "start_time": "2025-07-28T06:21:21.728Z"
   },
   {
    "duration": 16,
    "start_time": "2025-07-28T06:22:54.508Z"
   },
   {
    "duration": 95,
    "start_time": "2025-07-28T06:23:04.691Z"
   },
   {
    "duration": 2834,
    "start_time": "2025-07-28T06:25:22.481Z"
   },
   {
    "duration": 42,
    "start_time": "2025-07-28T06:28:26.330Z"
   },
   {
    "duration": 1889,
    "start_time": "2025-07-28T06:28:55.080Z"
   },
   {
    "duration": 11,
    "start_time": "2025-07-28T06:31:03.529Z"
   },
   {
    "duration": 5,
    "start_time": "2025-07-28T06:32:00.504Z"
   },
   {
    "duration": 5,
    "start_time": "2025-07-28T06:34:55.874Z"
   },
   {
    "duration": 3,
    "start_time": "2025-07-28T06:36:40.498Z"
   },
   {
    "duration": 3,
    "start_time": "2025-07-28T06:43:09.918Z"
   },
   {
    "duration": 88,
    "start_time": "2025-07-28T06:43:28.200Z"
   },
   {
    "duration": 5,
    "start_time": "2025-07-28T06:43:32.970Z"
   },
   {
    "duration": 4,
    "start_time": "2025-07-28T06:43:55.909Z"
   },
   {
    "duration": 5,
    "start_time": "2025-07-28T06:44:11.381Z"
   },
   {
    "duration": 3,
    "start_time": "2025-07-28T06:45:18.120Z"
   },
   {
    "duration": 3,
    "start_time": "2025-07-28T06:46:16.187Z"
   },
   {
    "duration": 4,
    "start_time": "2025-07-28T06:46:21.697Z"
   },
   {
    "duration": 98,
    "start_time": "2025-07-28T06:54:14.211Z"
   },
   {
    "duration": 3,
    "start_time": "2025-07-28T06:54:26.239Z"
   },
   {
    "duration": 4,
    "start_time": "2025-07-28T06:55:17.042Z"
   },
   {
    "duration": 9,
    "start_time": "2025-07-28T06:56:22.487Z"
   },
   {
    "duration": 14,
    "start_time": "2025-07-28T06:57:42.095Z"
   },
   {
    "duration": 68,
    "start_time": "2025-07-28T06:57:51.287Z"
   },
   {
    "duration": 81,
    "start_time": "2025-07-28T06:58:31.845Z"
   },
   {
    "duration": 4,
    "start_time": "2025-07-28T06:59:53.123Z"
   },
   {
    "duration": 3,
    "start_time": "2025-07-28T07:01:21.573Z"
   },
   {
    "duration": 8,
    "start_time": "2025-07-28T07:02:24.835Z"
   },
   {
    "duration": 8,
    "start_time": "2025-07-28T07:03:41.353Z"
   },
   {
    "duration": 9,
    "start_time": "2025-07-28T07:05:24.039Z"
   },
   {
    "duration": 9,
    "start_time": "2025-07-28T07:05:35.452Z"
   },
   {
    "duration": 71,
    "start_time": "2025-07-28T07:05:54.158Z"
   },
   {
    "duration": 6,
    "start_time": "2025-07-28T07:08:50.842Z"
   },
   {
    "duration": 71,
    "start_time": "2025-07-28T07:09:25.157Z"
   },
   {
    "duration": 3,
    "start_time": "2025-07-28T07:09:30.261Z"
   },
   {
    "duration": 3,
    "start_time": "2025-07-28T07:14:44.520Z"
   },
   {
    "duration": 8,
    "start_time": "2025-07-28T07:15:09.457Z"
   },
   {
    "duration": 8,
    "start_time": "2025-07-28T07:18:18.270Z"
   },
   {
    "duration": 3,
    "start_time": "2025-07-28T07:18:46.189Z"
   },
   {
    "duration": 8,
    "start_time": "2025-07-28T07:18:48.231Z"
   },
   {
    "duration": 9,
    "start_time": "2025-07-28T07:20:21.538Z"
   },
   {
    "duration": 8,
    "start_time": "2025-07-28T07:21:15.005Z"
   },
   {
    "duration": 5,
    "start_time": "2025-07-28T07:22:33.098Z"
   },
   {
    "duration": 8,
    "start_time": "2025-07-28T07:22:34.983Z"
   },
   {
    "duration": 4,
    "start_time": "2025-07-28T07:22:50.039Z"
   },
   {
    "duration": 4,
    "start_time": "2025-07-28T07:24:41.735Z"
   },
   {
    "duration": 8,
    "start_time": "2025-07-28T07:26:16.886Z"
   },
   {
    "duration": 8,
    "start_time": "2025-07-28T07:26:27.012Z"
   },
   {
    "duration": 8,
    "start_time": "2025-07-28T07:26:51.711Z"
   },
   {
    "duration": 9,
    "start_time": "2025-07-28T07:27:04.910Z"
   },
   {
    "duration": 9,
    "start_time": "2025-07-28T07:27:09.183Z"
   },
   {
    "duration": 20,
    "start_time": "2025-07-28T07:28:33.551Z"
   },
   {
    "duration": 6,
    "start_time": "2025-07-28T07:30:47.152Z"
   },
   {
    "duration": 8,
    "start_time": "2025-07-28T07:31:05.489Z"
   },
   {
    "duration": 8,
    "start_time": "2025-07-28T07:31:17.152Z"
   },
   {
    "duration": 45,
    "start_time": "2025-07-28T07:31:54.531Z"
   },
   {
    "duration": 25,
    "start_time": "2025-07-28T07:33:31.690Z"
   },
   {
    "duration": 23,
    "start_time": "2025-07-28T07:33:39.222Z"
   },
   {
    "duration": 43,
    "start_time": "2025-07-28T07:34:33.251Z"
   },
   {
    "duration": 45,
    "start_time": "2025-07-28T07:35:58.651Z"
   },
   {
    "duration": 87,
    "start_time": "2025-07-28T07:36:35.814Z"
   },
   {
    "duration": 50,
    "start_time": "2025-07-28T07:36:52.463Z"
   },
   {
    "duration": 53,
    "start_time": "2025-07-28T07:37:06.786Z"
   },
   {
    "duration": 114,
    "start_time": "2025-07-28T07:37:33.150Z"
   },
   {
    "duration": 44,
    "start_time": "2025-07-28T07:37:37.248Z"
   },
   {
    "duration": 46,
    "start_time": "2025-07-28T07:38:13.076Z"
   },
   {
    "duration": 288,
    "start_time": "2025-07-28T07:39:33.534Z"
   },
   {
    "duration": 54,
    "start_time": "2025-07-28T07:41:31.383Z"
   },
   {
    "duration": 52,
    "start_time": "2025-07-28T07:41:38.514Z"
   },
   {
    "duration": 55,
    "start_time": "2025-07-28T07:41:43.479Z"
   },
   {
    "duration": 46,
    "start_time": "2025-07-28T07:41:47.048Z"
   },
   {
    "duration": 3,
    "start_time": "2025-07-28T07:45:26.797Z"
   },
   {
    "duration": 39,
    "start_time": "2025-07-28T07:45:29.718Z"
   },
   {
    "duration": 174,
    "start_time": "2025-07-28T07:47:31.306Z"
   },
   {
    "duration": 161,
    "start_time": "2025-07-28T07:48:06.066Z"
   },
   {
    "duration": 91,
    "start_time": "2025-07-28T07:48:54.330Z"
   },
   {
    "duration": 177,
    "start_time": "2025-07-28T07:49:04.423Z"
   },
   {
    "duration": 3,
    "start_time": "2025-07-28T07:50:37.033Z"
   },
   {
    "duration": 164,
    "start_time": "2025-07-28T07:51:42.985Z"
   },
   {
    "duration": 168,
    "start_time": "2025-07-28T07:52:02.050Z"
   },
   {
    "duration": 161,
    "start_time": "2025-07-28T07:59:35.701Z"
   },
   {
    "duration": 185,
    "start_time": "2025-07-28T08:01:35.762Z"
   },
   {
    "duration": 165,
    "start_time": "2025-07-28T08:01:50.033Z"
   },
   {
    "duration": 164,
    "start_time": "2025-07-28T08:01:57.010Z"
   },
   {
    "duration": 171,
    "start_time": "2025-07-28T08:02:01.763Z"
   },
   {
    "duration": 163,
    "start_time": "2025-07-28T08:02:57.954Z"
   },
   {
    "duration": 7,
    "start_time": "2025-07-28T08:13:57.935Z"
   },
   {
    "duration": 15,
    "start_time": "2025-07-28T08:14:05.327Z"
   },
   {
    "duration": 15,
    "start_time": "2025-07-28T08:18:16.496Z"
   },
   {
    "duration": 22,
    "start_time": "2025-07-28T08:18:35.798Z"
   },
   {
    "duration": 9,
    "start_time": "2025-07-28T08:19:12.849Z"
   },
   {
    "duration": 22,
    "start_time": "2025-07-28T08:19:26.092Z"
   },
   {
    "duration": 9,
    "start_time": "2025-07-28T08:21:48.308Z"
   },
   {
    "duration": 11,
    "start_time": "2025-07-28T08:25:26.106Z"
   },
   {
    "duration": 10,
    "start_time": "2025-07-28T08:25:30.073Z"
   },
   {
    "duration": 29,
    "start_time": "2025-07-28T08:29:07.365Z"
   },
   {
    "duration": 31,
    "start_time": "2025-07-28T08:29:20.300Z"
   },
   {
    "duration": 29,
    "start_time": "2025-07-28T08:29:29.494Z"
   },
   {
    "duration": 54,
    "start_time": "2025-07-28T08:29:38.846Z"
   },
   {
    "duration": 92,
    "start_time": "2025-07-28T08:39:22.941Z"
   },
   {
    "duration": 124,
    "start_time": "2025-07-28T08:39:54.768Z"
   },
   {
    "duration": 9,
    "start_time": "2025-07-28T08:40:55.016Z"
   },
   {
    "duration": 86,
    "start_time": "2025-07-28T08:41:19.839Z"
   },
   {
    "duration": 95,
    "start_time": "2025-07-28T08:41:36.171Z"
   },
   {
    "duration": 93,
    "start_time": "2025-07-28T08:41:40.106Z"
   },
   {
    "duration": 4,
    "start_time": "2025-07-28T08:45:23.053Z"
   },
   {
    "duration": 2075,
    "start_time": "2025-07-28T08:45:27.002Z"
   },
   {
    "duration": 91,
    "start_time": "2025-07-28T08:45:29.346Z"
   },
   {
    "duration": 150,
    "start_time": "2025-07-28T08:46:26.727Z"
   },
   {
    "duration": 92,
    "start_time": "2025-07-28T08:46:29.573Z"
   },
   {
    "duration": 89,
    "start_time": "2025-07-28T08:47:20.407Z"
   },
   {
    "duration": 92,
    "start_time": "2025-07-28T08:47:23.274Z"
   },
   {
    "duration": 134,
    "start_time": "2025-07-28T08:49:18.094Z"
   },
   {
    "duration": 69,
    "start_time": "2025-07-28T08:49:20.364Z"
   },
   {
    "duration": 79,
    "start_time": "2025-07-28T08:49:34.324Z"
   },
   {
    "duration": 79,
    "start_time": "2025-07-28T08:49:44.113Z"
   },
   {
    "duration": 38,
    "start_time": "2025-07-28T08:52:28.078Z"
   },
   {
    "duration": 14,
    "start_time": "2025-07-28T08:53:48.112Z"
   },
   {
    "duration": 23,
    "start_time": "2025-07-28T08:54:44.202Z"
   },
   {
    "duration": 17,
    "start_time": "2025-07-28T08:54:47.440Z"
   },
   {
    "duration": 48,
    "start_time": "2025-07-28T08:54:52.142Z"
   },
   {
    "duration": 15,
    "start_time": "2025-07-28T08:54:54.354Z"
   },
   {
    "duration": 145,
    "start_time": "2025-07-28T08:57:59.262Z"
   },
   {
    "duration": 87,
    "start_time": "2025-07-28T09:12:33.403Z"
   },
   {
    "duration": 3594,
    "start_time": "2025-07-29T06:45:52.052Z"
   },
   {
    "duration": 1469,
    "start_time": "2025-07-29T06:45:55.649Z"
   },
   {
    "duration": 3,
    "start_time": "2025-07-29T06:45:57.120Z"
   },
   {
    "duration": 2407,
    "start_time": "2025-07-29T06:45:57.124Z"
   },
   {
    "duration": 3,
    "start_time": "2025-07-29T06:45:59.533Z"
   },
   {
    "duration": 107,
    "start_time": "2025-07-29T06:45:59.537Z"
   },
   {
    "duration": 7,
    "start_time": "2025-07-29T06:45:59.645Z"
   },
   {
    "duration": 76,
    "start_time": "2025-07-29T06:45:59.653Z"
   },
   {
    "duration": 222,
    "start_time": "2025-07-29T06:45:59.731Z"
   },
   {
    "duration": 216,
    "start_time": "2025-07-29T06:45:59.955Z"
   },
   {
    "duration": 176,
    "start_time": "2025-07-29T06:46:00.172Z"
   },
   {
    "duration": 95,
    "start_time": "2025-07-29T07:02:02.656Z"
   },
   {
    "duration": 109,
    "start_time": "2025-07-29T07:02:08.354Z"
   },
   {
    "duration": 10,
    "start_time": "2025-07-29T07:02:54.225Z"
   },
   {
    "duration": 11,
    "start_time": "2025-07-29T07:03:31.075Z"
   },
   {
    "duration": 19,
    "start_time": "2025-07-29T07:04:12.947Z"
   },
   {
    "duration": 16,
    "start_time": "2025-07-29T07:04:30.835Z"
   },
   {
    "duration": 19,
    "start_time": "2025-07-29T07:04:38.807Z"
   },
   {
    "duration": 27,
    "start_time": "2025-07-29T07:04:55.847Z"
   },
   {
    "duration": 19,
    "start_time": "2025-07-29T07:11:53.629Z"
   },
   {
    "duration": 12,
    "start_time": "2025-07-29T07:12:19.385Z"
   },
   {
    "duration": 4,
    "start_time": "2025-07-29T07:12:37.783Z"
   },
   {
    "duration": 17,
    "start_time": "2025-07-29T07:12:59.062Z"
   },
   {
    "duration": 168,
    "start_time": "2025-07-29T07:13:43.898Z"
   },
   {
    "duration": 29,
    "start_time": "2025-07-29T07:13:58.977Z"
   },
   {
    "duration": 97,
    "start_time": "2025-07-29T07:14:43.581Z"
   },
   {
    "duration": 35,
    "start_time": "2025-07-29T07:14:48.573Z"
   },
   {
    "duration": 26,
    "start_time": "2025-07-29T07:16:55.157Z"
   },
   {
    "duration": 25,
    "start_time": "2025-07-29T07:20:37.099Z"
   },
   {
    "duration": 90,
    "start_time": "2025-07-29T07:29:13.517Z"
   },
   {
    "duration": 52,
    "start_time": "2025-07-29T07:29:56.578Z"
   },
   {
    "duration": 2,
    "start_time": "2025-07-29T07:32:17.269Z"
   },
   {
    "duration": 41,
    "start_time": "2025-07-29T07:32:19.987Z"
   },
   {
    "duration": 25,
    "start_time": "2025-07-29T07:41:29.232Z"
   },
   {
    "duration": 31,
    "start_time": "2025-07-29T07:41:38.633Z"
   },
   {
    "duration": 32,
    "start_time": "2025-07-29T07:44:25.241Z"
   },
   {
    "duration": 34,
    "start_time": "2025-07-29T07:45:26.208Z"
   },
   {
    "duration": 45,
    "start_time": "2025-07-29T07:45:34.692Z"
   },
   {
    "duration": 2512,
    "start_time": "2025-07-29T07:47:41.602Z"
   },
   {
    "duration": 1255,
    "start_time": "2025-07-29T07:47:44.117Z"
   },
   {
    "duration": 3,
    "start_time": "2025-07-29T07:47:45.377Z"
   },
   {
    "duration": 2730,
    "start_time": "2025-07-29T07:47:45.383Z"
   },
   {
    "duration": 3,
    "start_time": "2025-07-29T07:47:48.115Z"
   },
   {
    "duration": 14,
    "start_time": "2025-07-29T07:47:48.120Z"
   },
   {
    "duration": 36,
    "start_time": "2025-07-29T07:47:48.136Z"
   },
   {
    "duration": 55,
    "start_time": "2025-07-29T07:47:48.174Z"
   },
   {
    "duration": 207,
    "start_time": "2025-07-29T07:47:48.231Z"
   },
   {
    "duration": 209,
    "start_time": "2025-07-29T07:47:48.440Z"
   },
   {
    "duration": 162,
    "start_time": "2025-07-29T07:47:48.651Z"
   },
   {
    "duration": 3,
    "start_time": "2025-07-29T07:47:48.814Z"
   },
   {
    "duration": 70,
    "start_time": "2025-07-29T07:47:48.819Z"
   },
   {
    "duration": 112,
    "start_time": "2025-07-29T07:47:48.891Z"
   },
   {
    "duration": 39,
    "start_time": "2025-07-29T07:52:28.651Z"
   },
   {
    "duration": 34,
    "start_time": "2025-07-29T07:55:01.183Z"
   },
   {
    "duration": 34,
    "start_time": "2025-07-29T07:55:09.288Z"
   },
   {
    "duration": 34,
    "start_time": "2025-07-29T07:56:00.696Z"
   },
   {
    "duration": 36,
    "start_time": "2025-07-29T07:59:13.793Z"
   },
   {
    "duration": 35,
    "start_time": "2025-07-29T07:59:17.011Z"
   },
   {
    "duration": 5,
    "start_time": "2025-07-29T08:01:49.353Z"
   },
   {
    "duration": 7,
    "start_time": "2025-07-29T08:03:50.394Z"
   },
   {
    "duration": 50,
    "start_time": "2025-07-29T08:04:07.265Z"
   },
   {
    "duration": 170,
    "start_time": "2025-07-29T08:04:09.649Z"
   },
   {
    "duration": 24,
    "start_time": "2025-07-29T08:04:11.881Z"
   },
   {
    "duration": 164,
    "start_time": "2025-07-29T08:04:13.699Z"
   },
   {
    "duration": 44,
    "start_time": "2025-07-29T08:04:45.090Z"
   },
   {
    "duration": 2601,
    "start_time": "2025-07-29T08:06:09.150Z"
   },
   {
    "duration": 1265,
    "start_time": "2025-07-29T08:06:11.754Z"
   },
   {
    "duration": 3,
    "start_time": "2025-07-29T08:06:13.021Z"
   },
   {
    "duration": 2522,
    "start_time": "2025-07-29T08:06:13.026Z"
   },
   {
    "duration": 3,
    "start_time": "2025-07-29T08:06:15.550Z"
   },
   {
    "duration": 26,
    "start_time": "2025-07-29T08:06:15.554Z"
   },
   {
    "duration": 118,
    "start_time": "2025-07-29T08:06:15.581Z"
   },
   {
    "duration": 72,
    "start_time": "2025-07-29T08:06:15.701Z"
   },
   {
    "duration": 393,
    "start_time": "2025-07-29T08:06:15.774Z"
   },
   {
    "duration": 31,
    "start_time": "2025-07-29T08:06:16.169Z"
   },
   {
    "duration": 218,
    "start_time": "2025-07-29T08:06:16.202Z"
   },
   {
    "duration": 121,
    "start_time": "2025-07-29T08:06:16.421Z"
   },
   {
    "duration": 197,
    "start_time": "2025-07-29T08:10:58.961Z"
   },
   {
    "duration": 187,
    "start_time": "2025-07-29T08:11:04.677Z"
   },
   {
    "duration": 63,
    "start_time": "2025-07-29T08:11:07.793Z"
   },
   {
    "duration": 2724,
    "start_time": "2025-07-29T08:12:03.373Z"
   },
   {
    "duration": 1332,
    "start_time": "2025-07-29T08:12:06.100Z"
   },
   {
    "duration": 3,
    "start_time": "2025-07-29T08:12:07.434Z"
   },
   {
    "duration": 2422,
    "start_time": "2025-07-29T08:12:07.438Z"
   },
   {
    "duration": 3,
    "start_time": "2025-07-29T08:12:09.862Z"
   },
   {
    "duration": 198,
    "start_time": "2025-07-29T08:12:09.867Z"
   },
   {
    "duration": 17,
    "start_time": "2025-07-29T08:12:10.066Z"
   },
   {
    "duration": 67,
    "start_time": "2025-07-29T08:12:10.084Z"
   },
   {
    "duration": 239,
    "start_time": "2025-07-29T08:12:10.152Z"
   },
   {
    "duration": 208,
    "start_time": "2025-07-29T08:12:10.393Z"
   },
   {
    "duration": 174,
    "start_time": "2025-07-29T08:12:10.602Z"
   },
   {
    "duration": 61,
    "start_time": "2025-07-29T08:12:10.778Z"
   },
   {
    "duration": 130,
    "start_time": "2025-07-29T08:13:48.473Z"
   },
   {
    "duration": 36,
    "start_time": "2025-07-29T08:14:05.756Z"
   },
   {
    "duration": 177,
    "start_time": "2025-07-29T08:19:57.460Z"
   },
   {
    "duration": 37,
    "start_time": "2025-07-29T08:20:50.478Z"
   },
   {
    "duration": 10,
    "start_time": "2025-07-29T08:20:54.775Z"
   },
   {
    "duration": 11,
    "start_time": "2025-07-29T08:21:35.812Z"
   },
   {
    "duration": 161,
    "start_time": "2025-07-29T08:21:47.703Z"
   },
   {
    "duration": 163,
    "start_time": "2025-07-29T08:21:58.206Z"
   },
   {
    "duration": 181,
    "start_time": "2025-07-29T08:22:12.711Z"
   },
   {
    "duration": 191,
    "start_time": "2025-07-29T08:22:33.644Z"
   },
   {
    "duration": 180,
    "start_time": "2025-07-29T08:22:38.100Z"
   },
   {
    "duration": 9,
    "start_time": "2025-07-29T08:37:44.221Z"
   },
   {
    "duration": 96,
    "start_time": "2025-07-29T08:38:03.897Z"
   },
   {
    "duration": 23,
    "start_time": "2025-07-29T08:51:02.428Z"
   },
   {
    "duration": 104,
    "start_time": "2025-07-29T08:51:40.845Z"
   },
   {
    "duration": 115,
    "start_time": "2025-07-29T08:58:44.772Z"
   },
   {
    "duration": 18,
    "start_time": "2025-07-29T09:00:09.413Z"
   },
   {
    "duration": 117,
    "start_time": "2025-07-29T09:00:51.953Z"
   },
   {
    "duration": 19,
    "start_time": "2025-07-29T09:00:54.063Z"
   },
   {
    "duration": 1092,
    "start_time": "2025-07-29T09:02:27.770Z"
   },
   {
    "duration": 1154,
    "start_time": "2025-07-29T09:02:52.251Z"
   },
   {
    "duration": 1044,
    "start_time": "2025-07-29T09:03:17.227Z"
   },
   {
    "duration": 1057,
    "start_time": "2025-07-29T09:03:38.915Z"
   },
   {
    "duration": 1109,
    "start_time": "2025-07-29T09:03:52.478Z"
   },
   {
    "duration": 1107,
    "start_time": "2025-07-29T09:04:13.289Z"
   },
   {
    "duration": 1076,
    "start_time": "2025-07-29T09:04:18.540Z"
   },
   {
    "duration": 1086,
    "start_time": "2025-07-29T09:04:26.012Z"
   },
   {
    "duration": 1043,
    "start_time": "2025-07-29T09:04:58.354Z"
   },
   {
    "duration": 1078,
    "start_time": "2025-07-29T09:05:35.124Z"
   },
   {
    "duration": 1059,
    "start_time": "2025-07-29T09:05:40.081Z"
   },
   {
    "duration": 1042,
    "start_time": "2025-07-29T09:05:47.658Z"
   },
   {
    "duration": 1157,
    "start_time": "2025-07-29T09:08:34.606Z"
   },
   {
    "duration": 1110,
    "start_time": "2025-07-29T09:09:42.616Z"
   },
   {
    "duration": 110,
    "start_time": "2025-07-29T09:11:52.997Z"
   },
   {
    "duration": 73,
    "start_time": "2025-07-29T09:14:37.662Z"
   },
   {
    "duration": 12,
    "start_time": "2025-07-29T09:17:07.822Z"
   },
   {
    "duration": 15,
    "start_time": "2025-07-29T09:17:14.485Z"
   },
   {
    "duration": 20,
    "start_time": "2025-07-29T09:17:40.206Z"
   },
   {
    "duration": 451,
    "start_time": "2025-07-29T09:18:17.028Z"
   },
   {
    "duration": 432,
    "start_time": "2025-07-29T09:19:03.578Z"
   },
   {
    "duration": 439,
    "start_time": "2025-07-29T09:19:08.942Z"
   },
   {
    "duration": 21,
    "start_time": "2025-07-29T09:21:50.918Z"
   },
   {
    "duration": 22,
    "start_time": "2025-07-29T09:22:58.019Z"
   },
   {
    "duration": 386,
    "start_time": "2025-07-29T09:23:02.621Z"
   },
   {
    "duration": 561,
    "start_time": "2025-07-29T09:23:13.362Z"
   },
   {
    "duration": 125,
    "start_time": "2025-07-29T09:24:31.686Z"
   },
   {
    "duration": 25,
    "start_time": "2025-07-29T09:24:40.721Z"
   },
   {
    "duration": 636,
    "start_time": "2025-07-29T09:24:44.902Z"
   },
   {
    "duration": 28,
    "start_time": "2025-07-29T09:25:14.204Z"
   },
   {
    "duration": 618,
    "start_time": "2025-07-29T09:26:22.621Z"
   },
   {
    "duration": 7,
    "start_time": "2025-07-29T09:30:36.662Z"
   },
   {
    "duration": 6,
    "start_time": "2025-07-29T09:30:54.346Z"
   },
   {
    "duration": 6,
    "start_time": "2025-07-29T09:31:05.455Z"
   },
   {
    "duration": 99,
    "start_time": "2025-07-29T09:31:41.413Z"
   },
   {
    "duration": 28,
    "start_time": "2025-07-29T09:31:47.929Z"
   },
   {
    "duration": 26,
    "start_time": "2025-07-29T09:31:52.821Z"
   },
   {
    "duration": 30,
    "start_time": "2025-07-29T09:32:51.562Z"
   },
   {
    "duration": 29,
    "start_time": "2025-07-29T09:33:18.083Z"
   },
   {
    "duration": 32,
    "start_time": "2025-07-29T09:33:27.952Z"
   },
   {
    "duration": 29,
    "start_time": "2025-07-29T09:33:37.330Z"
   },
   {
    "duration": 32,
    "start_time": "2025-07-29T09:33:49.707Z"
   },
   {
    "duration": 30,
    "start_time": "2025-07-29T09:33:56.124Z"
   },
   {
    "duration": 31,
    "start_time": "2025-07-29T09:35:09.907Z"
   },
   {
    "duration": 609,
    "start_time": "2025-07-29T09:35:22.630Z"
   },
   {
    "duration": 12,
    "start_time": "2025-07-29T09:40:05.142Z"
   },
   {
    "duration": 5,
    "start_time": "2025-07-29T09:41:01.052Z"
   },
   {
    "duration": 8,
    "start_time": "2025-07-29T09:41:07.423Z"
   },
   {
    "duration": 9,
    "start_time": "2025-07-29T09:41:37.368Z"
   },
   {
    "duration": 13,
    "start_time": "2025-07-29T09:48:25.981Z"
   },
   {
    "duration": 13,
    "start_time": "2025-07-29T09:48:52.151Z"
   },
   {
    "duration": 19,
    "start_time": "2025-07-29T09:48:56.425Z"
   },
   {
    "duration": 17,
    "start_time": "2025-07-29T09:49:17.032Z"
   },
   {
    "duration": 16,
    "start_time": "2025-07-29T09:49:35.254Z"
   },
   {
    "duration": 16,
    "start_time": "2025-07-29T09:49:39.206Z"
   },
   {
    "duration": 2328,
    "start_time": "2025-07-29T09:50:35.015Z"
   },
   {
    "duration": 2292,
    "start_time": "2025-07-29T09:50:50.063Z"
   },
   {
    "duration": 2228,
    "start_time": "2025-07-29T09:51:10.076Z"
   },
   {
    "duration": 2328,
    "start_time": "2025-07-29T09:51:21.773Z"
   },
   {
    "duration": 94,
    "start_time": "2025-07-29T09:52:28.845Z"
   },
   {
    "duration": 2314,
    "start_time": "2025-07-29T09:53:20.862Z"
   },
   {
    "duration": 11,
    "start_time": "2025-07-29T09:56:36.620Z"
   },
   {
    "duration": 7,
    "start_time": "2025-07-29T09:56:42.180Z"
   },
   {
    "duration": 12,
    "start_time": "2025-07-29T09:57:48.943Z"
   },
   {
    "duration": 10,
    "start_time": "2025-07-29T10:00:18.245Z"
   },
   {
    "duration": 2312,
    "start_time": "2025-07-29T10:06:46.077Z"
   },
   {
    "duration": 11,
    "start_time": "2025-07-29T10:06:54.372Z"
   },
   {
    "duration": 120,
    "start_time": "2025-07-29T10:07:41.817Z"
   },
   {
    "duration": 21,
    "start_time": "2025-07-29T10:07:51.648Z"
   },
   {
    "duration": 10,
    "start_time": "2025-07-29T10:07:54.603Z"
   },
   {
    "duration": 17,
    "start_time": "2025-07-29T10:08:24.288Z"
   },
   {
    "duration": 17,
    "start_time": "2025-07-29T10:10:18.578Z"
   },
   {
    "duration": 10,
    "start_time": "2025-07-29T10:10:22.741Z"
   },
   {
    "duration": 16,
    "start_time": "2025-07-29T10:11:21.437Z"
   },
   {
    "duration": 128,
    "start_time": "2025-07-29T10:15:23.927Z"
   },
   {
    "duration": 13,
    "start_time": "2025-07-29T10:18:13.807Z"
   },
   {
    "duration": 151,
    "start_time": "2025-07-29T10:18:33.987Z"
   },
   {
    "duration": 12,
    "start_time": "2025-07-29T10:18:36.245Z"
   },
   {
    "duration": 5,
    "start_time": "2025-07-29T10:19:45.052Z"
   },
   {
    "duration": 136,
    "start_time": "2025-07-29T10:20:19.391Z"
   },
   {
    "duration": 20,
    "start_time": "2025-07-29T10:20:38.299Z"
   },
   {
    "duration": 5,
    "start_time": "2025-07-29T10:23:40.451Z"
   },
   {
    "duration": 8,
    "start_time": "2025-07-29T10:23:45.870Z"
   },
   {
    "duration": 12,
    "start_time": "2025-07-29T10:24:25.186Z"
   },
   {
    "duration": 2,
    "start_time": "2025-07-29T10:25:29.636Z"
   },
   {
    "duration": 11,
    "start_time": "2025-07-29T10:26:10.301Z"
   },
   {
    "duration": 11,
    "start_time": "2025-07-29T10:28:22.839Z"
   },
   {
    "duration": 115,
    "start_time": "2025-07-29T10:28:47.776Z"
   },
   {
    "duration": 121,
    "start_time": "2025-07-29T10:30:44.059Z"
   },
   {
    "duration": 2551,
    "start_time": "2025-07-29T10:31:54.886Z"
   },
   {
    "duration": 1190,
    "start_time": "2025-07-29T10:31:57.440Z"
   },
   {
    "duration": 2,
    "start_time": "2025-07-29T10:31:58.632Z"
   },
   {
    "duration": 2671,
    "start_time": "2025-07-29T10:31:58.636Z"
   },
   {
    "duration": 3,
    "start_time": "2025-07-29T10:32:01.309Z"
   },
   {
    "duration": 31,
    "start_time": "2025-07-29T10:32:01.314Z"
   },
   {
    "duration": 20,
    "start_time": "2025-07-29T10:32:01.347Z"
   },
   {
    "duration": 58,
    "start_time": "2025-07-29T10:32:01.369Z"
   },
   {
    "duration": 226,
    "start_time": "2025-07-29T10:32:01.429Z"
   },
   {
    "duration": 205,
    "start_time": "2025-07-29T10:32:01.657Z"
   },
   {
    "duration": 168,
    "start_time": "2025-07-29T10:32:01.864Z"
   },
   {
    "duration": 102,
    "start_time": "2025-07-29T10:32:02.034Z"
   },
   {
    "duration": 0,
    "start_time": "2025-07-29T10:32:02.138Z"
   },
   {
    "duration": 0,
    "start_time": "2025-07-29T10:32:02.139Z"
   },
   {
    "duration": 0,
    "start_time": "2025-07-29T10:32:02.140Z"
   },
   {
    "duration": 0,
    "start_time": "2025-07-29T10:32:02.141Z"
   },
   {
    "duration": 0,
    "start_time": "2025-07-29T10:32:02.142Z"
   },
   {
    "duration": 0,
    "start_time": "2025-07-29T10:32:02.143Z"
   },
   {
    "duration": 0,
    "start_time": "2025-07-29T10:32:02.144Z"
   },
   {
    "duration": 0,
    "start_time": "2025-07-29T10:32:02.145Z"
   },
   {
    "duration": 0,
    "start_time": "2025-07-29T10:32:02.146Z"
   },
   {
    "duration": 0,
    "start_time": "2025-07-29T10:32:02.148Z"
   },
   {
    "duration": 0,
    "start_time": "2025-07-29T10:32:02.149Z"
   },
   {
    "duration": 0,
    "start_time": "2025-07-29T10:32:02.150Z"
   },
   {
    "duration": 2578,
    "start_time": "2025-07-29T10:32:35.365Z"
   },
   {
    "duration": 1279,
    "start_time": "2025-07-29T10:32:37.946Z"
   },
   {
    "duration": 3,
    "start_time": "2025-07-29T10:32:39.226Z"
   },
   {
    "duration": 1865,
    "start_time": "2025-07-29T10:32:39.231Z"
   },
   {
    "duration": 3,
    "start_time": "2025-07-29T10:32:41.098Z"
   },
   {
    "duration": 26,
    "start_time": "2025-07-29T10:32:41.103Z"
   },
   {
    "duration": 23,
    "start_time": "2025-07-29T10:32:41.131Z"
   },
   {
    "duration": 93,
    "start_time": "2025-07-29T10:32:41.156Z"
   },
   {
    "duration": 205,
    "start_time": "2025-07-29T10:32:41.250Z"
   },
   {
    "duration": 195,
    "start_time": "2025-07-29T10:32:41.456Z"
   },
   {
    "duration": 166,
    "start_time": "2025-07-29T10:32:41.653Z"
   },
   {
    "duration": 2,
    "start_time": "2025-07-29T10:32:41.821Z"
   },
   {
    "duration": 153,
    "start_time": "2025-07-29T10:32:41.825Z"
   },
   {
    "duration": 10,
    "start_time": "2025-07-29T10:32:41.981Z"
   },
   {
    "duration": 276,
    "start_time": "2025-07-29T10:32:41.992Z"
   },
   {
    "duration": 110,
    "start_time": "2025-07-29T10:32:42.270Z"
   },
   {
    "duration": 64,
    "start_time": "2025-07-29T10:32:42.389Z"
   },
   {
    "duration": 696,
    "start_time": "2025-07-29T10:32:42.455Z"
   },
   {
    "duration": 7,
    "start_time": "2025-07-29T10:32:43.153Z"
   },
   {
    "duration": 28,
    "start_time": "2025-07-29T10:32:43.162Z"
   },
   {
    "duration": 6,
    "start_time": "2025-07-29T10:32:43.192Z"
   },
   {
    "duration": 163,
    "start_time": "2025-07-29T10:32:43.200Z"
   },
   {
    "duration": 4,
    "start_time": "2025-07-29T10:32:43.364Z"
   },
   {
    "duration": 21,
    "start_time": "2025-07-29T10:32:43.370Z"
   },
   {
    "duration": 5,
    "start_time": "2025-07-29T10:32:52.938Z"
   },
   {
    "duration": 60,
    "start_time": "2025-07-29T10:33:17.062Z"
   },
   {
    "duration": 15,
    "start_time": "2025-07-29T10:35:02.068Z"
   },
   {
    "duration": 3496,
    "start_time": "2025-07-30T06:27:46.594Z"
   },
   {
    "duration": 1426,
    "start_time": "2025-07-30T06:27:50.092Z"
   },
   {
    "duration": 3,
    "start_time": "2025-07-30T06:27:51.519Z"
   },
   {
    "duration": 2244,
    "start_time": "2025-07-30T06:27:51.523Z"
   },
   {
    "duration": 3,
    "start_time": "2025-07-30T06:27:53.770Z"
   },
   {
    "duration": 21,
    "start_time": "2025-07-30T06:27:53.774Z"
   },
   {
    "duration": 8,
    "start_time": "2025-07-30T06:27:53.797Z"
   },
   {
    "duration": 63,
    "start_time": "2025-07-30T06:27:53.806Z"
   },
   {
    "duration": 220,
    "start_time": "2025-07-30T06:27:53.870Z"
   },
   {
    "duration": 194,
    "start_time": "2025-07-30T06:27:54.092Z"
   },
   {
    "duration": 172,
    "start_time": "2025-07-30T06:27:54.288Z"
   },
   {
    "duration": 3,
    "start_time": "2025-07-30T06:27:54.462Z"
   },
   {
    "duration": 123,
    "start_time": "2025-07-30T06:27:54.467Z"
   },
   {
    "duration": 10,
    "start_time": "2025-07-30T06:27:54.593Z"
   },
   {
    "duration": 207,
    "start_time": "2025-07-30T06:27:54.605Z"
   },
   {
    "duration": 116,
    "start_time": "2025-07-30T06:27:54.814Z"
   },
   {
    "duration": 72,
    "start_time": "2025-07-30T06:27:54.932Z"
   },
   {
    "duration": 710,
    "start_time": "2025-07-30T06:27:55.006Z"
   },
   {
    "duration": 7,
    "start_time": "2025-07-30T06:27:55.718Z"
   },
   {
    "duration": 35,
    "start_time": "2025-07-30T06:27:55.727Z"
   },
   {
    "duration": 8,
    "start_time": "2025-07-30T06:27:55.765Z"
   },
   {
    "duration": 179,
    "start_time": "2025-07-30T06:27:55.776Z"
   },
   {
    "duration": 51,
    "start_time": "2025-07-30T06:27:55.960Z"
   },
   {
    "duration": 4,
    "start_time": "2025-07-30T06:32:54.686Z"
   },
   {
    "duration": 4,
    "start_time": "2025-07-30T06:33:17.043Z"
   },
   {
    "duration": 2533,
    "start_time": "2025-07-30T06:33:17.049Z"
   },
   {
    "duration": 1203,
    "start_time": "2025-07-30T06:33:19.584Z"
   },
   {
    "duration": 3,
    "start_time": "2025-07-30T06:33:20.788Z"
   },
   {
    "duration": 2313,
    "start_time": "2025-07-30T06:33:20.793Z"
   },
   {
    "duration": 3,
    "start_time": "2025-07-30T06:33:23.108Z"
   },
   {
    "duration": 12,
    "start_time": "2025-07-30T06:33:23.113Z"
   },
   {
    "duration": 24,
    "start_time": "2025-07-30T06:33:23.127Z"
   },
   {
    "duration": 229,
    "start_time": "2025-07-30T06:33:23.152Z"
   },
   {
    "duration": 198,
    "start_time": "2025-07-30T06:33:23.383Z"
   },
   {
    "duration": 197,
    "start_time": "2025-07-30T06:33:23.583Z"
   },
   {
    "duration": 158,
    "start_time": "2025-07-30T06:33:23.782Z"
   },
   {
    "duration": 2,
    "start_time": "2025-07-30T06:33:23.942Z"
   },
   {
    "duration": 69,
    "start_time": "2025-07-30T06:33:23.947Z"
   },
   {
    "duration": 10,
    "start_time": "2025-07-30T06:33:24.018Z"
   },
   {
    "duration": 207,
    "start_time": "2025-07-30T06:33:24.030Z"
   },
   {
    "duration": 112,
    "start_time": "2025-07-30T06:33:24.239Z"
   },
   {
    "duration": 74,
    "start_time": "2025-07-30T06:33:24.353Z"
   },
   {
    "duration": 669,
    "start_time": "2025-07-30T06:33:24.429Z"
   },
   {
    "duration": 7,
    "start_time": "2025-07-30T06:33:25.102Z"
   },
   {
    "duration": 18,
    "start_time": "2025-07-30T06:33:25.111Z"
   },
   {
    "duration": 6,
    "start_time": "2025-07-30T06:33:25.130Z"
   },
   {
    "duration": 165,
    "start_time": "2025-07-30T06:33:25.138Z"
   },
   {
    "duration": 74,
    "start_time": "2025-07-30T06:33:25.305Z"
   },
   {
    "duration": 86,
    "start_time": "2025-07-30T06:37:46.825Z"
   },
   {
    "duration": 4,
    "start_time": "2025-07-30T06:37:57.164Z"
   },
   {
    "duration": 7,
    "start_time": "2025-07-30T06:39:04.713Z"
   },
   {
    "duration": 137,
    "start_time": "2025-07-30T06:42:11.458Z"
   },
   {
    "duration": 140,
    "start_time": "2025-07-30T06:42:28.615Z"
   },
   {
    "duration": 134,
    "start_time": "2025-07-30T06:42:56.860Z"
   },
   {
    "duration": 139,
    "start_time": "2025-07-30T06:43:15.374Z"
   },
   {
    "duration": 158,
    "start_time": "2025-07-30T06:43:41.281Z"
   },
   {
    "duration": 136,
    "start_time": "2025-07-30T06:45:45.581Z"
   },
   {
    "duration": 140,
    "start_time": "2025-07-30T06:45:49.762Z"
   },
   {
    "duration": 12,
    "start_time": "2025-07-30T07:17:59.577Z"
   },
   {
    "duration": 13,
    "start_time": "2025-07-30T07:18:10.880Z"
   },
   {
    "duration": 13,
    "start_time": "2025-07-30T07:18:43.652Z"
   },
   {
    "duration": 11,
    "start_time": "2025-07-30T07:19:09.827Z"
   },
   {
    "duration": 12,
    "start_time": "2025-07-30T07:21:38.025Z"
   },
   {
    "duration": 28,
    "start_time": "2025-07-30T07:32:43.153Z"
   },
   {
    "duration": 8,
    "start_time": "2025-07-30T07:34:28.569Z"
   },
   {
    "duration": 113,
    "start_time": "2025-07-30T07:40:05.401Z"
   },
   {
    "duration": 13,
    "start_time": "2025-07-30T07:40:37.134Z"
   },
   {
    "duration": 18,
    "start_time": "2025-07-30T07:41:54.231Z"
   },
   {
    "duration": 3,
    "start_time": "2025-07-30T07:43:17.454Z"
   },
   {
    "duration": 2727,
    "start_time": "2025-07-30T07:45:30.836Z"
   },
   {
    "duration": 1534,
    "start_time": "2025-07-30T07:45:33.566Z"
   },
   {
    "duration": 2,
    "start_time": "2025-07-30T07:45:35.102Z"
   },
   {
    "duration": 2796,
    "start_time": "2025-07-30T07:45:35.106Z"
   },
   {
    "duration": 3,
    "start_time": "2025-07-30T07:45:37.904Z"
   },
   {
    "duration": 5,
    "start_time": "2025-07-30T07:45:37.908Z"
   },
   {
    "duration": 6,
    "start_time": "2025-07-30T07:45:37.915Z"
   },
   {
    "duration": 64,
    "start_time": "2025-07-30T07:45:37.922Z"
   },
   {
    "duration": 232,
    "start_time": "2025-07-30T07:45:37.988Z"
   },
   {
    "duration": 212,
    "start_time": "2025-07-30T07:45:38.222Z"
   },
   {
    "duration": 182,
    "start_time": "2025-07-30T07:45:38.436Z"
   },
   {
    "duration": 163,
    "start_time": "2025-07-30T07:45:38.619Z"
   },
   {
    "duration": 151,
    "start_time": "2025-07-30T07:45:38.783Z"
   },
   {
    "duration": 75,
    "start_time": "2025-07-30T07:45:38.936Z"
   },
   {
    "duration": 20,
    "start_time": "2025-07-30T07:45:39.014Z"
   },
   {
    "duration": 292,
    "start_time": "2025-07-30T07:45:39.036Z"
   },
   {
    "duration": 121,
    "start_time": "2025-07-30T07:45:39.330Z"
   },
   {
    "duration": 71,
    "start_time": "2025-07-30T07:45:39.453Z"
   },
   {
    "duration": 811,
    "start_time": "2025-07-30T07:45:39.526Z"
   },
   {
    "duration": 8,
    "start_time": "2025-07-30T07:45:40.339Z"
   },
   {
    "duration": 34,
    "start_time": "2025-07-30T07:45:40.348Z"
   },
   {
    "duration": 6,
    "start_time": "2025-07-30T07:45:40.384Z"
   },
   {
    "duration": 170,
    "start_time": "2025-07-30T07:45:40.392Z"
   },
   {
    "duration": 55,
    "start_time": "2025-07-30T07:45:40.565Z"
   },
   {
    "duration": 2689,
    "start_time": "2025-07-30T07:46:06.825Z"
   },
   {
    "duration": 1246,
    "start_time": "2025-07-30T07:46:09.517Z"
   },
   {
    "duration": 3,
    "start_time": "2025-07-30T07:46:10.773Z"
   },
   {
    "duration": 2521,
    "start_time": "2025-07-30T07:46:10.778Z"
   },
   {
    "duration": 2,
    "start_time": "2025-07-30T07:46:13.302Z"
   },
   {
    "duration": 19,
    "start_time": "2025-07-30T07:46:13.306Z"
   },
   {
    "duration": 16,
    "start_time": "2025-07-30T07:46:13.327Z"
   },
   {
    "duration": 139,
    "start_time": "2025-07-30T07:46:13.345Z"
   },
   {
    "duration": 393,
    "start_time": "2025-07-30T07:46:13.485Z"
   },
   {
    "duration": 204,
    "start_time": "2025-07-30T07:46:13.879Z"
   },
   {
    "duration": 170,
    "start_time": "2025-07-30T07:46:14.085Z"
   },
   {
    "duration": 155,
    "start_time": "2025-07-30T07:46:14.257Z"
   },
   {
    "duration": 164,
    "start_time": "2025-07-30T07:46:14.413Z"
   },
   {
    "duration": 57,
    "start_time": "2025-07-30T07:46:14.580Z"
   },
   {
    "duration": 120,
    "start_time": "2025-07-30T07:46:14.639Z"
   },
   {
    "duration": 204,
    "start_time": "2025-07-30T07:46:14.763Z"
   },
   {
    "duration": 118,
    "start_time": "2025-07-30T07:46:14.969Z"
   },
   {
    "duration": 83,
    "start_time": "2025-07-30T07:46:15.088Z"
   },
   {
    "duration": 719,
    "start_time": "2025-07-30T07:46:15.174Z"
   },
   {
    "duration": 7,
    "start_time": "2025-07-30T07:46:15.895Z"
   },
   {
    "duration": 27,
    "start_time": "2025-07-30T07:46:15.904Z"
   },
   {
    "duration": 9,
    "start_time": "2025-07-30T07:46:15.932Z"
   },
   {
    "duration": 180,
    "start_time": "2025-07-30T07:46:15.943Z"
   },
   {
    "duration": 52,
    "start_time": "2025-07-30T07:46:16.125Z"
   },
   {
    "duration": 2816,
    "start_time": "2025-07-30T07:57:52.661Z"
   },
   {
    "duration": 1493,
    "start_time": "2025-07-30T07:57:55.479Z"
   },
   {
    "duration": 3,
    "start_time": "2025-07-30T07:57:56.974Z"
   },
   {
    "duration": 1934,
    "start_time": "2025-07-30T07:57:56.979Z"
   },
   {
    "duration": 3,
    "start_time": "2025-07-30T07:57:58.915Z"
   },
   {
    "duration": 8,
    "start_time": "2025-07-30T07:57:58.919Z"
   },
   {
    "duration": 7,
    "start_time": "2025-07-30T07:57:58.928Z"
   },
   {
    "duration": 60,
    "start_time": "2025-07-30T07:57:58.936Z"
   },
   {
    "duration": 241,
    "start_time": "2025-07-30T07:57:58.998Z"
   },
   {
    "duration": 209,
    "start_time": "2025-07-30T07:57:59.241Z"
   },
   {
    "duration": 167,
    "start_time": "2025-07-30T07:57:59.452Z"
   },
   {
    "duration": 241,
    "start_time": "2025-07-30T07:57:59.621Z"
   },
   {
    "duration": 144,
    "start_time": "2025-07-30T07:57:59.864Z"
   },
   {
    "duration": 71,
    "start_time": "2025-07-30T07:58:00.011Z"
   },
   {
    "duration": 14,
    "start_time": "2025-07-30T07:58:00.084Z"
   },
   {
    "duration": 257,
    "start_time": "2025-07-30T07:58:00.100Z"
   },
   {
    "duration": 110,
    "start_time": "2025-07-30T07:58:00.359Z"
   },
   {
    "duration": 70,
    "start_time": "2025-07-30T07:58:00.471Z"
   },
   {
    "duration": 670,
    "start_time": "2025-07-30T07:58:00.543Z"
   },
   {
    "duration": 8,
    "start_time": "2025-07-30T07:58:01.215Z"
   },
   {
    "duration": 27,
    "start_time": "2025-07-30T07:58:01.225Z"
   },
   {
    "duration": 28,
    "start_time": "2025-07-30T07:58:01.253Z"
   },
   {
    "duration": 116,
    "start_time": "2025-07-30T07:58:01.282Z"
   },
   {
    "duration": 0,
    "start_time": "2025-07-30T07:58:01.399Z"
   },
   {
    "duration": 147,
    "start_time": "2025-07-30T07:58:19.140Z"
   },
   {
    "duration": 61,
    "start_time": "2025-07-30T07:58:22.001Z"
   },
   {
    "duration": 11,
    "start_time": "2025-07-30T08:08:21.843Z"
   },
   {
    "duration": 13,
    "start_time": "2025-07-30T08:08:33.909Z"
   },
   {
    "duration": 16,
    "start_time": "2025-07-30T08:10:06.972Z"
   },
   {
    "duration": 13,
    "start_time": "2025-07-30T08:10:43.739Z"
   },
   {
    "duration": 15,
    "start_time": "2025-07-30T08:12:22.166Z"
   },
   {
    "duration": 11,
    "start_time": "2025-07-30T08:12:43.013Z"
   },
   {
    "duration": 4,
    "start_time": "2025-07-30T08:13:49.490Z"
   },
   {
    "duration": 5,
    "start_time": "2025-07-30T08:15:43.132Z"
   },
   {
    "duration": 15,
    "start_time": "2025-07-30T08:15:49.658Z"
   },
   {
    "duration": 140,
    "start_time": "2025-07-30T08:16:13.856Z"
   },
   {
    "duration": 140,
    "start_time": "2025-07-30T08:20:12.197Z"
   },
   {
    "duration": 1894,
    "start_time": "2025-07-30T08:20:25.645Z"
   },
   {
    "duration": 199,
    "start_time": "2025-07-30T08:21:28.524Z"
   },
   {
    "duration": 198,
    "start_time": "2025-07-30T08:22:11.043Z"
   },
   {
    "duration": 529,
    "start_time": "2025-07-30T08:22:42.874Z"
   },
   {
    "duration": 209,
    "start_time": "2025-07-30T08:22:51.203Z"
   },
   {
    "duration": 524,
    "start_time": "2025-07-30T08:25:00.056Z"
   },
   {
    "duration": 223,
    "start_time": "2025-07-30T08:25:10.657Z"
   },
   {
    "duration": 529,
    "start_time": "2025-07-30T08:25:18.867Z"
   },
   {
    "duration": 210,
    "start_time": "2025-07-30T08:25:25.159Z"
   },
   {
    "duration": 261,
    "start_time": "2025-07-30T08:27:57.930Z"
   },
   {
    "duration": 76087,
    "start_time": "2025-07-30T08:28:44.612Z"
   },
   {
    "duration": 16,
    "start_time": "2025-07-30T08:30:46.614Z"
   },
   {
    "duration": 251,
    "start_time": "2025-07-30T08:30:54.174Z"
   },
   {
    "duration": 275,
    "start_time": "2025-07-30T08:31:06.150Z"
   },
   {
    "duration": 189,
    "start_time": "2025-07-30T08:31:09.360Z"
   },
   {
    "duration": 61,
    "start_time": "2025-07-30T08:32:35.862Z"
   },
   {
    "duration": 2767,
    "start_time": "2025-07-30T08:34:03.393Z"
   },
   {
    "duration": 91,
    "start_time": "2025-07-30T08:35:32.968Z"
   },
   {
    "duration": 137,
    "start_time": "2025-07-30T08:36:13.027Z"
   },
   {
    "duration": 87,
    "start_time": "2025-07-30T08:36:50.106Z"
   },
   {
    "duration": 144,
    "start_time": "2025-07-30T08:37:54.247Z"
   },
   {
    "duration": 4280,
    "start_time": "2025-07-30T08:38:03.050Z"
   },
   {
    "duration": 1738,
    "start_time": "2025-07-30T08:38:29.312Z"
   },
   {
    "duration": 55,
    "start_time": "2025-07-30T08:39:33.837Z"
   },
   {
    "duration": 111,
    "start_time": "2025-07-30T08:46:05.598Z"
   },
   {
    "duration": 110,
    "start_time": "2025-07-30T08:46:21.531Z"
   },
   {
    "duration": 2518,
    "start_time": "2025-07-30T08:46:38.498Z"
   },
   {
    "duration": 1263,
    "start_time": "2025-07-30T08:46:41.018Z"
   },
   {
    "duration": 3,
    "start_time": "2025-07-30T08:46:42.283Z"
   },
   {
    "duration": 2034,
    "start_time": "2025-07-30T08:46:42.288Z"
   },
   {
    "duration": 2,
    "start_time": "2025-07-30T08:46:44.325Z"
   },
   {
    "duration": 25,
    "start_time": "2025-07-30T08:46:44.329Z"
   },
   {
    "duration": 12,
    "start_time": "2025-07-30T08:46:44.356Z"
   },
   {
    "duration": 58,
    "start_time": "2025-07-30T08:46:44.370Z"
   },
   {
    "duration": 233,
    "start_time": "2025-07-30T08:46:44.430Z"
   },
   {
    "duration": 195,
    "start_time": "2025-07-30T08:46:44.665Z"
   },
   {
    "duration": 174,
    "start_time": "2025-07-30T08:46:44.862Z"
   },
   {
    "duration": 147,
    "start_time": "2025-07-30T08:46:45.038Z"
   },
   {
    "duration": 149,
    "start_time": "2025-07-30T08:46:45.187Z"
   },
   {
    "duration": 67,
    "start_time": "2025-07-30T08:46:45.339Z"
   },
   {
    "duration": 14,
    "start_time": "2025-07-30T08:46:45.408Z"
   },
   {
    "duration": 233,
    "start_time": "2025-07-30T08:46:45.424Z"
   },
   {
    "duration": 124,
    "start_time": "2025-07-30T08:46:45.659Z"
   },
   {
    "duration": 89,
    "start_time": "2025-07-30T08:46:45.785Z"
   },
   {
    "duration": 828,
    "start_time": "2025-07-30T08:46:45.875Z"
   },
   {
    "duration": 8,
    "start_time": "2025-07-30T08:46:46.705Z"
   },
   {
    "duration": 35,
    "start_time": "2025-07-30T08:46:46.714Z"
   },
   {
    "duration": 17,
    "start_time": "2025-07-30T08:46:46.751Z"
   },
   {
    "duration": 168,
    "start_time": "2025-07-30T08:46:46.769Z"
   },
   {
    "duration": 65,
    "start_time": "2025-07-30T08:46:46.939Z"
   },
   {
    "duration": 278,
    "start_time": "2025-07-30T08:46:47.006Z"
   },
   {
    "duration": 167,
    "start_time": "2025-07-30T08:46:47.286Z"
   },
   {
    "duration": 89,
    "start_time": "2025-07-30T08:57:59.425Z"
   },
   {
    "duration": 116,
    "start_time": "2025-07-30T08:58:08.438Z"
   },
   {
    "duration": 2486,
    "start_time": "2025-07-30T09:08:26.567Z"
   },
   {
    "duration": 1261,
    "start_time": "2025-07-30T09:08:29.055Z"
   },
   {
    "duration": 3,
    "start_time": "2025-07-30T09:08:30.318Z"
   },
   {
    "duration": 2578,
    "start_time": "2025-07-30T09:08:30.322Z"
   },
   {
    "duration": 3,
    "start_time": "2025-07-30T09:08:32.902Z"
   },
   {
    "duration": 90,
    "start_time": "2025-07-30T09:08:32.906Z"
   },
   {
    "duration": 7,
    "start_time": "2025-07-30T09:08:32.998Z"
   },
   {
    "duration": 81,
    "start_time": "2025-07-30T09:08:33.006Z"
   },
   {
    "duration": 215,
    "start_time": "2025-07-30T09:08:33.088Z"
   },
   {
    "duration": 210,
    "start_time": "2025-07-30T09:08:33.305Z"
   },
   {
    "duration": 173,
    "start_time": "2025-07-30T09:08:33.517Z"
   },
   {
    "duration": 148,
    "start_time": "2025-07-30T09:08:33.692Z"
   },
   {
    "duration": 155,
    "start_time": "2025-07-30T09:08:33.842Z"
   },
   {
    "duration": 70,
    "start_time": "2025-07-30T09:08:34.000Z"
   },
   {
    "duration": 45,
    "start_time": "2025-07-30T09:08:34.072Z"
   },
   {
    "duration": 200,
    "start_time": "2025-07-30T09:08:34.118Z"
   },
   {
    "duration": 111,
    "start_time": "2025-07-30T09:08:34.320Z"
   },
   {
    "duration": 72,
    "start_time": "2025-07-30T09:08:34.432Z"
   },
   {
    "duration": 710,
    "start_time": "2025-07-30T09:08:34.506Z"
   },
   {
    "duration": 9,
    "start_time": "2025-07-30T09:08:35.218Z"
   },
   {
    "duration": 44,
    "start_time": "2025-07-30T09:08:35.229Z"
   },
   {
    "duration": 9,
    "start_time": "2025-07-30T09:08:35.275Z"
   },
   {
    "duration": 166,
    "start_time": "2025-07-30T09:08:35.285Z"
   },
   {
    "duration": 58,
    "start_time": "2025-07-30T09:08:35.453Z"
   },
   {
    "duration": 318,
    "start_time": "2025-07-30T09:08:35.512Z"
   },
   {
    "duration": 171,
    "start_time": "2025-07-30T09:08:35.832Z"
   },
   {
    "duration": 105,
    "start_time": "2025-07-30T09:18:20.984Z"
   },
   {
    "duration": 4,
    "start_time": "2025-07-30T09:18:52.431Z"
   },
   {
    "duration": 2578,
    "start_time": "2025-07-30T09:18:58.933Z"
   },
   {
    "duration": 1288,
    "start_time": "2025-07-30T09:19:01.514Z"
   },
   {
    "duration": 3,
    "start_time": "2025-07-30T09:19:02.803Z"
   },
   {
    "duration": 2503,
    "start_time": "2025-07-30T09:19:02.808Z"
   },
   {
    "duration": 3,
    "start_time": "2025-07-30T09:19:05.313Z"
   },
   {
    "duration": 11,
    "start_time": "2025-07-30T09:19:05.318Z"
   },
   {
    "duration": 23,
    "start_time": "2025-07-30T09:19:05.331Z"
   },
   {
    "duration": 71,
    "start_time": "2025-07-30T09:19:05.356Z"
   },
   {
    "duration": 231,
    "start_time": "2025-07-30T09:19:05.429Z"
   },
   {
    "duration": 226,
    "start_time": "2025-07-30T09:19:05.662Z"
   },
   {
    "duration": 200,
    "start_time": "2025-07-30T09:19:05.889Z"
   },
   {
    "duration": 153,
    "start_time": "2025-07-30T09:19:06.092Z"
   },
   {
    "duration": 163,
    "start_time": "2025-07-30T09:19:06.248Z"
   },
   {
    "duration": 72,
    "start_time": "2025-07-30T09:19:06.415Z"
   },
   {
    "duration": 14,
    "start_time": "2025-07-30T09:19:06.489Z"
   },
   {
    "duration": 225,
    "start_time": "2025-07-30T09:19:06.505Z"
   },
   {
    "duration": 128,
    "start_time": "2025-07-30T09:19:06.733Z"
   },
   {
    "duration": 66,
    "start_time": "2025-07-30T09:19:06.863Z"
   },
   {
    "duration": 692,
    "start_time": "2025-07-30T09:19:06.930Z"
   },
   {
    "duration": 8,
    "start_time": "2025-07-30T09:19:07.624Z"
   },
   {
    "duration": 67,
    "start_time": "2025-07-30T09:19:07.633Z"
   },
   {
    "duration": 20,
    "start_time": "2025-07-30T09:19:07.701Z"
   },
   {
    "duration": 145,
    "start_time": "2025-07-30T09:19:07.722Z"
   },
   {
    "duration": 63,
    "start_time": "2025-07-30T09:19:07.869Z"
   },
   {
    "duration": 340,
    "start_time": "2025-07-30T09:19:07.934Z"
   },
   {
    "duration": 168,
    "start_time": "2025-07-30T09:19:08.276Z"
   },
   {
    "duration": 137,
    "start_time": "2025-07-30T09:25:18.624Z"
   },
   {
    "duration": 14,
    "start_time": "2025-07-30T09:28:06.246Z"
   },
   {
    "duration": 699,
    "start_time": "2025-07-30T09:28:56.322Z"
   },
   {
    "duration": 98,
    "start_time": "2025-07-30T09:44:05.175Z"
   },
   {
    "duration": 19,
    "start_time": "2025-07-30T09:46:52.711Z"
   },
   {
    "duration": 205,
    "start_time": "2025-07-30T09:46:57.625Z"
   },
   {
    "duration": 1734,
    "start_time": "2025-07-30T09:51:34.123Z"
   },
   {
    "duration": 219,
    "start_time": "2025-07-30T09:51:59.110Z"
   },
   {
    "duration": 1815,
    "start_time": "2025-07-30T09:52:01.207Z"
   },
   {
    "duration": 183,
    "start_time": "2025-07-30T09:52:44.620Z"
   },
   {
    "duration": 26,
    "start_time": "2025-07-30T09:52:47.940Z"
   },
   {
    "duration": 211,
    "start_time": "2025-07-30T09:52:58.629Z"
   },
   {
    "duration": 466,
    "start_time": "2025-07-30T09:54:00.406Z"
   },
   {
    "duration": 84,
    "start_time": "2025-07-30T09:56:24.894Z"
   },
   {
    "duration": 94,
    "start_time": "2025-07-30T09:56:37.686Z"
   },
   {
    "duration": 12410,
    "start_time": "2025-07-30T09:57:39.487Z"
   },
   {
    "duration": 576,
    "start_time": "2025-07-30T09:59:13.861Z"
   },
   {
    "duration": 97,
    "start_time": "2025-07-30T09:59:36.541Z"
   },
   {
    "duration": 1172,
    "start_time": "2025-07-30T10:00:06.398Z"
   },
   {
    "duration": 1204,
    "start_time": "2025-07-30T10:00:20.948Z"
   },
   {
    "duration": 1563,
    "start_time": "2025-07-30T10:00:40.420Z"
   },
   {
    "duration": 2883,
    "start_time": "2025-07-30T10:00:50.491Z"
   },
   {
    "duration": 1382,
    "start_time": "2025-07-30T10:00:53.377Z"
   },
   {
    "duration": 4,
    "start_time": "2025-07-30T10:00:54.761Z"
   },
   {
    "duration": 2742,
    "start_time": "2025-07-30T10:00:54.767Z"
   },
   {
    "duration": 3,
    "start_time": "2025-07-30T10:00:57.512Z"
   },
   {
    "duration": 22,
    "start_time": "2025-07-30T10:00:57.517Z"
   },
   {
    "duration": 7,
    "start_time": "2025-07-30T10:00:57.540Z"
   },
   {
    "duration": 71,
    "start_time": "2025-07-30T10:00:57.549Z"
   },
   {
    "duration": 262,
    "start_time": "2025-07-30T10:00:57.622Z"
   },
   {
    "duration": 234,
    "start_time": "2025-07-30T10:00:57.886Z"
   },
   {
    "duration": 200,
    "start_time": "2025-07-30T10:00:58.122Z"
   },
   {
    "duration": 177,
    "start_time": "2025-07-30T10:00:58.324Z"
   },
   {
    "duration": 172,
    "start_time": "2025-07-30T10:00:58.504Z"
   },
   {
    "duration": 63,
    "start_time": "2025-07-30T10:00:58.680Z"
   },
   {
    "duration": 19,
    "start_time": "2025-07-30T10:00:58.762Z"
   },
   {
    "duration": 253,
    "start_time": "2025-07-30T10:00:58.784Z"
   },
   {
    "duration": 133,
    "start_time": "2025-07-30T10:00:59.040Z"
   },
   {
    "duration": 92,
    "start_time": "2025-07-30T10:00:59.176Z"
   },
   {
    "duration": 707,
    "start_time": "2025-07-30T10:00:59.270Z"
   },
   {
    "duration": 12,
    "start_time": "2025-07-30T10:00:59.980Z"
   },
   {
    "duration": 120,
    "start_time": "2025-07-30T10:00:59.994Z"
   },
   {
    "duration": 42,
    "start_time": "2025-07-30T10:01:00.116Z"
   },
   {
    "duration": 277,
    "start_time": "2025-07-30T10:01:00.160Z"
   },
   {
    "duration": 67,
    "start_time": "2025-07-30T10:01:00.439Z"
   },
   {
    "duration": 311,
    "start_time": "2025-07-30T10:01:00.508Z"
   },
   {
    "duration": 202,
    "start_time": "2025-07-30T10:01:00.820Z"
   },
   {
    "duration": 16,
    "start_time": "2025-07-30T10:01:01.024Z"
   },
   {
    "duration": 252,
    "start_time": "2025-07-30T10:01:01.042Z"
   },
   {
    "duration": 27,
    "start_time": "2025-07-30T10:01:01.296Z"
   },
   {
    "duration": 234,
    "start_time": "2025-07-30T10:01:14.597Z"
   },
   {
    "duration": 13,
    "start_time": "2025-07-30T10:02:32.183Z"
   },
   {
    "duration": 278,
    "start_time": "2025-07-30T10:12:31.556Z"
   },
   {
    "duration": 2593,
    "start_time": "2025-07-30T10:12:59.893Z"
   },
   {
    "duration": 1317,
    "start_time": "2025-07-30T10:13:02.489Z"
   },
   {
    "duration": 3,
    "start_time": "2025-07-30T10:13:03.808Z"
   },
   {
    "duration": 2548,
    "start_time": "2025-07-30T10:13:03.813Z"
   },
   {
    "duration": 3,
    "start_time": "2025-07-30T10:13:06.364Z"
   },
   {
    "duration": 97,
    "start_time": "2025-07-30T10:13:06.369Z"
   },
   {
    "duration": 25,
    "start_time": "2025-07-30T10:13:06.468Z"
   },
   {
    "duration": 66,
    "start_time": "2025-07-30T10:13:06.495Z"
   },
   {
    "duration": 224,
    "start_time": "2025-07-30T10:13:06.563Z"
   },
   {
    "duration": 217,
    "start_time": "2025-07-30T10:13:06.789Z"
   },
   {
    "duration": 173,
    "start_time": "2025-07-30T10:13:07.008Z"
   },
   {
    "duration": 143,
    "start_time": "2025-07-30T10:13:07.183Z"
   },
   {
    "duration": 157,
    "start_time": "2025-07-30T10:13:07.328Z"
   },
   {
    "duration": 59,
    "start_time": "2025-07-30T10:13:07.487Z"
   },
   {
    "duration": 14,
    "start_time": "2025-07-30T10:13:07.560Z"
   },
   {
    "duration": 253,
    "start_time": "2025-07-30T10:13:07.576Z"
   },
   {
    "duration": 117,
    "start_time": "2025-07-30T10:13:07.831Z"
   },
   {
    "duration": 70,
    "start_time": "2025-07-30T10:13:07.949Z"
   },
   {
    "duration": 684,
    "start_time": "2025-07-30T10:13:08.021Z"
   },
   {
    "duration": 7,
    "start_time": "2025-07-30T10:13:08.707Z"
   },
   {
    "duration": 16,
    "start_time": "2025-07-30T10:13:08.716Z"
   },
   {
    "duration": 30,
    "start_time": "2025-07-30T10:13:08.734Z"
   },
   {
    "duration": 163,
    "start_time": "2025-07-30T10:13:08.766Z"
   },
   {
    "duration": 81,
    "start_time": "2025-07-30T10:13:08.931Z"
   },
   {
    "duration": 275,
    "start_time": "2025-07-30T10:13:09.014Z"
   },
   {
    "duration": 171,
    "start_time": "2025-07-30T10:13:09.291Z"
   },
   {
    "duration": 124,
    "start_time": "2025-07-30T10:13:09.464Z"
   },
   {
    "duration": 0,
    "start_time": "2025-07-30T10:13:09.590Z"
   },
   {
    "duration": 0,
    "start_time": "2025-07-30T10:13:09.591Z"
   },
   {
    "duration": 0,
    "start_time": "2025-07-30T10:13:09.592Z"
   },
   {
    "duration": 13,
    "start_time": "2025-07-30T10:13:53.411Z"
   },
   {
    "duration": 2476,
    "start_time": "2025-07-30T10:14:22.087Z"
   },
   {
    "duration": 1247,
    "start_time": "2025-07-30T10:14:24.565Z"
   },
   {
    "duration": 3,
    "start_time": "2025-07-30T10:14:25.814Z"
   },
   {
    "duration": 2141,
    "start_time": "2025-07-30T10:14:25.820Z"
   },
   {
    "duration": 4,
    "start_time": "2025-07-30T10:14:27.962Z"
   },
   {
    "duration": 7,
    "start_time": "2025-07-30T10:14:27.967Z"
   },
   {
    "duration": 8,
    "start_time": "2025-07-30T10:14:27.975Z"
   },
   {
    "duration": 84,
    "start_time": "2025-07-30T10:14:27.984Z"
   },
   {
    "duration": 211,
    "start_time": "2025-07-30T10:14:28.070Z"
   },
   {
    "duration": 197,
    "start_time": "2025-07-30T10:14:28.284Z"
   },
   {
    "duration": 165,
    "start_time": "2025-07-30T10:14:28.483Z"
   },
   {
    "duration": 153,
    "start_time": "2025-07-30T10:14:28.651Z"
   },
   {
    "duration": 156,
    "start_time": "2025-07-30T10:14:28.806Z"
   },
   {
    "duration": 64,
    "start_time": "2025-07-30T10:14:28.965Z"
   },
   {
    "duration": 34,
    "start_time": "2025-07-30T10:14:29.030Z"
   },
   {
    "duration": 197,
    "start_time": "2025-07-30T10:14:29.066Z"
   },
   {
    "duration": 111,
    "start_time": "2025-07-30T10:14:29.265Z"
   },
   {
    "duration": 63,
    "start_time": "2025-07-30T10:14:29.378Z"
   },
   {
    "duration": 666,
    "start_time": "2025-07-30T10:14:29.442Z"
   },
   {
    "duration": 7,
    "start_time": "2025-07-30T10:14:30.110Z"
   },
   {
    "duration": 50,
    "start_time": "2025-07-30T10:14:30.119Z"
   },
   {
    "duration": 81,
    "start_time": "2025-07-30T10:14:30.170Z"
   },
   {
    "duration": 197,
    "start_time": "2025-07-30T10:14:30.253Z"
   },
   {
    "duration": 55,
    "start_time": "2025-07-30T10:14:30.459Z"
   },
   {
    "duration": 278,
    "start_time": "2025-07-30T10:14:30.516Z"
   },
   {
    "duration": 171,
    "start_time": "2025-07-30T10:14:30.796Z"
   },
   {
    "duration": 119,
    "start_time": "2025-07-30T10:14:30.969Z"
   },
   {
    "duration": 0,
    "start_time": "2025-07-30T10:14:31.090Z"
   },
   {
    "duration": 0,
    "start_time": "2025-07-30T10:14:31.091Z"
   },
   {
    "duration": 0,
    "start_time": "2025-07-30T10:14:31.092Z"
   },
   {
    "duration": 13,
    "start_time": "2025-07-30T10:16:43.087Z"
   },
   {
    "duration": 30,
    "start_time": "2025-07-30T10:17:15.904Z"
   },
   {
    "duration": 13,
    "start_time": "2025-07-30T10:18:00.786Z"
   },
   {
    "duration": 221,
    "start_time": "2025-07-30T10:18:26.954Z"
   },
   {
    "duration": 216,
    "start_time": "2025-07-30T10:18:38.635Z"
   },
   {
    "duration": 259,
    "start_time": "2025-07-30T10:18:59.456Z"
   },
   {
    "duration": 221,
    "start_time": "2025-07-30T10:19:09.272Z"
   },
   {
    "duration": 1561,
    "start_time": "2025-07-30T10:20:52.029Z"
   },
   {
    "duration": 24,
    "start_time": "2025-07-30T10:22:22.613Z"
   },
   {
    "duration": 490,
    "start_time": "2025-07-30T10:23:00.334Z"
   },
   {
    "duration": 311,
    "start_time": "2025-07-30T10:23:50.544Z"
   },
   {
    "duration": 1594,
    "start_time": "2025-07-30T10:25:16.428Z"
   },
   {
    "duration": 106,
    "start_time": "2025-07-30T10:26:30.246Z"
   },
   {
    "duration": 103,
    "start_time": "2025-07-30T10:27:03.744Z"
   },
   {
    "duration": 1603,
    "start_time": "2025-07-30T10:29:14.339Z"
   },
   {
    "duration": 2354,
    "start_time": "2025-07-30T10:34:22.170Z"
   },
   {
    "duration": 25,
    "start_time": "2025-07-30T10:34:49.275Z"
   },
   {
    "duration": 2550,
    "start_time": "2025-07-30T10:42:22.340Z"
   },
   {
    "duration": 1324,
    "start_time": "2025-07-30T10:42:24.892Z"
   },
   {
    "duration": 2,
    "start_time": "2025-07-30T10:42:26.218Z"
   },
   {
    "duration": 2641,
    "start_time": "2025-07-30T10:42:26.222Z"
   },
   {
    "duration": 3,
    "start_time": "2025-07-30T10:42:28.866Z"
   },
   {
    "duration": 5,
    "start_time": "2025-07-30T10:42:28.871Z"
   },
   {
    "duration": 7,
    "start_time": "2025-07-30T10:42:28.877Z"
   },
   {
    "duration": 88,
    "start_time": "2025-07-30T10:42:28.886Z"
   },
   {
    "duration": 231,
    "start_time": "2025-07-30T10:42:28.976Z"
   },
   {
    "duration": 206,
    "start_time": "2025-07-30T10:42:29.209Z"
   },
   {
    "duration": 173,
    "start_time": "2025-07-30T10:42:29.417Z"
   },
   {
    "duration": 156,
    "start_time": "2025-07-30T10:42:29.592Z"
   },
   {
    "duration": 159,
    "start_time": "2025-07-30T10:42:29.750Z"
   },
   {
    "duration": 66,
    "start_time": "2025-07-30T10:42:29.912Z"
   },
   {
    "duration": 12,
    "start_time": "2025-07-30T10:42:29.980Z"
   },
   {
    "duration": 222,
    "start_time": "2025-07-30T10:42:29.994Z"
   },
   {
    "duration": 120,
    "start_time": "2025-07-30T10:42:30.217Z"
   },
   {
    "duration": 156,
    "start_time": "2025-07-30T10:42:30.339Z"
   },
   {
    "duration": 731,
    "start_time": "2025-07-30T10:42:30.497Z"
   },
   {
    "duration": 8,
    "start_time": "2025-07-30T10:42:31.229Z"
   },
   {
    "duration": 67,
    "start_time": "2025-07-30T10:42:31.239Z"
   },
   {
    "duration": 10,
    "start_time": "2025-07-30T10:42:31.308Z"
   },
   {
    "duration": 166,
    "start_time": "2025-07-30T10:42:31.320Z"
   },
   {
    "duration": 71,
    "start_time": "2025-07-30T10:42:31.488Z"
   },
   {
    "duration": 279,
    "start_time": "2025-07-30T10:42:31.562Z"
   },
   {
    "duration": 169,
    "start_time": "2025-07-30T10:42:31.843Z"
   },
   {
    "duration": 235,
    "start_time": "2025-07-30T10:42:32.013Z"
   },
   {
    "duration": 195,
    "start_time": "2025-07-30T10:42:32.250Z"
   },
   {
    "duration": 16,
    "start_time": "2025-07-30T10:42:32.447Z"
   },
   {
    "duration": 143,
    "start_time": "2025-07-30T10:42:32.464Z"
   },
   {
    "duration": 3667,
    "start_time": "2025-07-30T15:16:31.324Z"
   },
   {
    "duration": 1447,
    "start_time": "2025-07-30T15:16:34.993Z"
   },
   {
    "duration": 4,
    "start_time": "2025-07-30T15:16:36.441Z"
   },
   {
    "duration": 2850,
    "start_time": "2025-07-30T15:16:36.446Z"
   },
   {
    "duration": 4,
    "start_time": "2025-07-30T15:16:39.298Z"
   },
   {
    "duration": 25,
    "start_time": "2025-07-30T15:16:39.304Z"
   },
   {
    "duration": 14,
    "start_time": "2025-07-30T15:16:39.331Z"
   },
   {
    "duration": 104,
    "start_time": "2025-07-30T15:16:39.347Z"
   },
   {
    "duration": 217,
    "start_time": "2025-07-30T15:16:39.453Z"
   },
   {
    "duration": 198,
    "start_time": "2025-07-30T15:16:39.671Z"
   },
   {
    "duration": 165,
    "start_time": "2025-07-30T15:16:39.870Z"
   },
   {
    "duration": 135,
    "start_time": "2025-07-30T15:16:40.037Z"
   },
   {
    "duration": 152,
    "start_time": "2025-07-30T15:16:40.173Z"
   },
   {
    "duration": 58,
    "start_time": "2025-07-30T15:16:40.335Z"
   },
   {
    "duration": 11,
    "start_time": "2025-07-30T15:16:40.395Z"
   },
   {
    "duration": 230,
    "start_time": "2025-07-30T15:16:40.407Z"
   },
   {
    "duration": 116,
    "start_time": "2025-07-30T15:16:40.639Z"
   },
   {
    "duration": 61,
    "start_time": "2025-07-30T15:16:40.756Z"
   },
   {
    "duration": 648,
    "start_time": "2025-07-30T15:16:40.819Z"
   },
   {
    "duration": 8,
    "start_time": "2025-07-30T15:16:41.469Z"
   },
   {
    "duration": 119,
    "start_time": "2025-07-30T15:16:41.478Z"
   },
   {
    "duration": 10,
    "start_time": "2025-07-30T15:16:41.598Z"
   },
   {
    "duration": 149,
    "start_time": "2025-07-30T15:16:41.610Z"
   },
   {
    "duration": 51,
    "start_time": "2025-07-30T15:16:41.761Z"
   },
   {
    "duration": 313,
    "start_time": "2025-07-30T15:16:41.813Z"
   },
   {
    "duration": 155,
    "start_time": "2025-07-30T15:16:42.128Z"
   },
   {
    "duration": 233,
    "start_time": "2025-07-30T15:16:42.284Z"
   },
   {
    "duration": 216,
    "start_time": "2025-07-30T15:16:42.519Z"
   },
   {
    "duration": 7,
    "start_time": "2025-07-30T15:16:42.737Z"
   },
   {
    "duration": 133,
    "start_time": "2025-07-30T15:16:42.746Z"
   },
   {
    "duration": 109,
    "start_time": "2025-07-30T15:17:10.503Z"
   },
   {
    "duration": 16,
    "start_time": "2025-07-30T15:17:21.123Z"
   },
   {
    "duration": 2420,
    "start_time": "2025-07-30T15:17:33.500Z"
   },
   {
    "duration": 1224,
    "start_time": "2025-07-30T15:17:35.922Z"
   },
   {
    "duration": 2,
    "start_time": "2025-07-30T15:17:37.148Z"
   },
   {
    "duration": 2729,
    "start_time": "2025-07-30T15:17:37.151Z"
   },
   {
    "duration": 3,
    "start_time": "2025-07-30T15:17:39.882Z"
   },
   {
    "duration": 19,
    "start_time": "2025-07-30T15:17:39.887Z"
   },
   {
    "duration": 38,
    "start_time": "2025-07-30T15:17:39.907Z"
   },
   {
    "duration": 56,
    "start_time": "2025-07-30T15:17:39.946Z"
   },
   {
    "duration": 209,
    "start_time": "2025-07-30T15:17:40.004Z"
   },
   {
    "duration": 213,
    "start_time": "2025-07-30T15:17:40.214Z"
   },
   {
    "duration": 163,
    "start_time": "2025-07-30T15:17:40.428Z"
   },
   {
    "duration": 141,
    "start_time": "2025-07-30T15:17:40.593Z"
   },
   {
    "duration": 145,
    "start_time": "2025-07-30T15:17:40.736Z"
   },
   {
    "duration": 65,
    "start_time": "2025-07-30T15:17:40.884Z"
   },
   {
    "duration": 73,
    "start_time": "2025-07-30T15:17:40.951Z"
   },
   {
    "duration": 191,
    "start_time": "2025-07-30T15:17:41.026Z"
   },
   {
    "duration": 111,
    "start_time": "2025-07-30T15:17:41.219Z"
   },
   {
    "duration": 74,
    "start_time": "2025-07-30T15:17:41.334Z"
   },
   {
    "duration": 650,
    "start_time": "2025-07-30T15:17:41.409Z"
   },
   {
    "duration": 8,
    "start_time": "2025-07-30T15:17:42.061Z"
   },
   {
    "duration": 17,
    "start_time": "2025-07-30T15:17:42.070Z"
   },
   {
    "duration": 9,
    "start_time": "2025-07-30T15:17:42.089Z"
   },
   {
    "duration": 182,
    "start_time": "2025-07-30T15:17:42.100Z"
   },
   {
    "duration": 54,
    "start_time": "2025-07-30T15:17:42.284Z"
   },
   {
    "duration": 279,
    "start_time": "2025-07-30T15:17:42.339Z"
   },
   {
    "duration": 157,
    "start_time": "2025-07-30T15:17:42.620Z"
   },
   {
    "duration": 235,
    "start_time": "2025-07-30T15:17:42.779Z"
   },
   {
    "duration": 194,
    "start_time": "2025-07-30T15:17:43.016Z"
   },
   {
    "duration": 6,
    "start_time": "2025-07-30T15:17:43.212Z"
   },
   {
    "duration": 189,
    "start_time": "2025-07-30T15:17:43.220Z"
   },
   {
    "duration": 54,
    "start_time": "2025-07-30T15:19:02.473Z"
   },
   {
    "duration": 36,
    "start_time": "2025-07-30T15:34:09.639Z"
   },
   {
    "duration": 3,
    "start_time": "2025-07-30T15:34:20.097Z"
   },
   {
    "duration": 54,
    "start_time": "2025-07-30T15:34:57.411Z"
   },
   {
    "duration": 152,
    "start_time": "2025-07-30T15:35:56.020Z"
   },
   {
    "duration": 122,
    "start_time": "2025-07-30T15:38:56.789Z"
   },
   {
    "duration": 100,
    "start_time": "2025-07-30T15:39:05.598Z"
   },
   {
    "duration": 118,
    "start_time": "2025-07-30T15:40:54.339Z"
   },
   {
    "duration": 38,
    "start_time": "2025-07-30T15:42:32.314Z"
   },
   {
    "duration": 28,
    "start_time": "2025-07-30T15:47:32.794Z"
   },
   {
    "duration": 24,
    "start_time": "2025-07-30T15:47:46.090Z"
   },
   {
    "duration": 34,
    "start_time": "2025-07-30T15:48:06.631Z"
   },
   {
    "duration": 39,
    "start_time": "2025-07-30T15:49:53.156Z"
   },
   {
    "duration": 1709,
    "start_time": "2025-07-30T15:50:49.989Z"
   },
   {
    "duration": 43,
    "start_time": "2025-07-30T15:51:53.199Z"
   },
   {
    "duration": 48,
    "start_time": "2025-07-30T15:56:29.636Z"
   },
   {
    "duration": 60,
    "start_time": "2025-07-30T15:56:36.686Z"
   },
   {
    "duration": 53,
    "start_time": "2025-07-30T15:56:44.464Z"
   },
   {
    "duration": 57,
    "start_time": "2025-07-30T15:56:50.154Z"
   },
   {
    "duration": 55,
    "start_time": "2025-07-30T15:56:54.828Z"
   },
   {
    "duration": 59,
    "start_time": "2025-07-30T15:57:47.646Z"
   },
   {
    "duration": 56,
    "start_time": "2025-07-30T15:59:16.586Z"
   },
   {
    "duration": 51,
    "start_time": "2025-07-30T15:59:35.368Z"
   },
   {
    "duration": 49,
    "start_time": "2025-07-30T16:01:27.228Z"
   },
   {
    "duration": 2511,
    "start_time": "2025-07-30T16:09:44.143Z"
   },
   {
    "duration": 1245,
    "start_time": "2025-07-30T16:09:46.656Z"
   },
   {
    "duration": 2,
    "start_time": "2025-07-30T16:09:47.903Z"
   },
   {
    "duration": 3434,
    "start_time": "2025-07-30T16:09:47.907Z"
   },
   {
    "duration": 3,
    "start_time": "2025-07-30T16:09:51.343Z"
   },
   {
    "duration": 23,
    "start_time": "2025-07-30T16:09:51.347Z"
   },
   {
    "duration": 22,
    "start_time": "2025-07-30T16:09:51.372Z"
   },
   {
    "duration": 160,
    "start_time": "2025-07-30T16:09:51.396Z"
   },
   {
    "duration": 209,
    "start_time": "2025-07-30T16:09:51.558Z"
   },
   {
    "duration": 244,
    "start_time": "2025-07-30T16:09:51.768Z"
   },
   {
    "duration": 176,
    "start_time": "2025-07-30T16:09:52.013Z"
   },
   {
    "duration": 136,
    "start_time": "2025-07-30T16:09:52.191Z"
   },
   {
    "duration": 146,
    "start_time": "2025-07-30T16:09:52.335Z"
   },
   {
    "duration": 79,
    "start_time": "2025-07-30T16:09:52.484Z"
   },
   {
    "duration": 16,
    "start_time": "2025-07-30T16:09:52.564Z"
   },
   {
    "duration": 288,
    "start_time": "2025-07-30T16:09:52.581Z"
   },
   {
    "duration": 121,
    "start_time": "2025-07-30T16:09:52.871Z"
   },
   {
    "duration": 64,
    "start_time": "2025-07-30T16:09:52.994Z"
   },
   {
    "duration": 688,
    "start_time": "2025-07-30T16:09:53.060Z"
   },
   {
    "duration": 8,
    "start_time": "2025-07-30T16:09:53.750Z"
   },
   {
    "duration": 66,
    "start_time": "2025-07-30T16:09:53.760Z"
   },
   {
    "duration": 16,
    "start_time": "2025-07-30T16:09:53.828Z"
   },
   {
    "duration": 155,
    "start_time": "2025-07-30T16:09:53.846Z"
   },
   {
    "duration": 58,
    "start_time": "2025-07-30T16:09:54.003Z"
   },
   {
    "duration": 256,
    "start_time": "2025-07-30T16:09:54.063Z"
   },
   {
    "duration": 162,
    "start_time": "2025-07-30T16:09:54.321Z"
   },
   {
    "duration": 229,
    "start_time": "2025-07-30T16:09:54.484Z"
   },
   {
    "duration": 190,
    "start_time": "2025-07-30T16:09:54.715Z"
   },
   {
    "duration": 7,
    "start_time": "2025-07-30T16:09:54.906Z"
   },
   {
    "duration": 122,
    "start_time": "2025-07-30T16:09:54.915Z"
   },
   {
    "duration": 3,
    "start_time": "2025-07-30T16:09:55.039Z"
   },
   {
    "duration": 84,
    "start_time": "2025-07-30T16:09:55.043Z"
   },
   {
    "duration": 211,
    "start_time": "2025-07-30T16:09:55.129Z"
   },
   {
    "duration": 45,
    "start_time": "2025-07-30T16:09:55.342Z"
   },
   {
    "duration": 172,
    "start_time": "2025-07-30T16:09:55.388Z"
   },
   {
    "duration": 0,
    "start_time": "2025-07-30T16:09:55.562Z"
   },
   {
    "duration": 57,
    "start_time": "2025-07-30T16:10:42.597Z"
   },
   {
    "duration": 57,
    "start_time": "2025-07-30T16:12:30.052Z"
   },
   {
    "duration": 53,
    "start_time": "2025-07-30T16:13:07.614Z"
   },
   {
    "duration": 49,
    "start_time": "2025-07-30T16:13:53.422Z"
   },
   {
    "duration": 2498,
    "start_time": "2025-07-30T16:14:19.610Z"
   },
   {
    "duration": 1361,
    "start_time": "2025-07-30T16:14:22.111Z"
   },
   {
    "duration": 3,
    "start_time": "2025-07-30T16:14:23.473Z"
   },
   {
    "duration": 3661,
    "start_time": "2025-07-30T16:14:23.477Z"
   },
   {
    "duration": 2,
    "start_time": "2025-07-30T16:14:27.141Z"
   },
   {
    "duration": 91,
    "start_time": "2025-07-30T16:14:27.145Z"
   },
   {
    "duration": 25,
    "start_time": "2025-07-30T16:14:27.238Z"
   },
   {
    "duration": 63,
    "start_time": "2025-07-30T16:14:27.264Z"
   },
   {
    "duration": 183,
    "start_time": "2025-07-30T16:14:27.329Z"
   },
   {
    "duration": 207,
    "start_time": "2025-07-30T16:14:27.514Z"
   },
   {
    "duration": 162,
    "start_time": "2025-07-30T16:14:27.723Z"
   },
   {
    "duration": 137,
    "start_time": "2025-07-30T16:14:27.887Z"
   },
   {
    "duration": 158,
    "start_time": "2025-07-30T16:14:28.025Z"
   },
   {
    "duration": 65,
    "start_time": "2025-07-30T16:14:28.186Z"
   },
   {
    "duration": 71,
    "start_time": "2025-07-30T16:14:28.252Z"
   },
   {
    "duration": 212,
    "start_time": "2025-07-30T16:14:28.324Z"
   },
   {
    "duration": 116,
    "start_time": "2025-07-30T16:14:28.538Z"
   },
   {
    "duration": 81,
    "start_time": "2025-07-30T16:14:28.656Z"
   },
   {
    "duration": 615,
    "start_time": "2025-07-30T16:14:28.739Z"
   },
   {
    "duration": 8,
    "start_time": "2025-07-30T16:14:29.355Z"
   },
   {
    "duration": 190,
    "start_time": "2025-07-30T16:14:29.364Z"
   },
   {
    "duration": 62,
    "start_time": "2025-07-30T16:14:29.556Z"
   },
   {
    "duration": 258,
    "start_time": "2025-07-30T16:14:29.620Z"
   },
   {
    "duration": 39,
    "start_time": "2025-07-30T16:14:29.879Z"
   },
   {
    "duration": 283,
    "start_time": "2025-07-30T16:14:29.920Z"
   },
   {
    "duration": 162,
    "start_time": "2025-07-30T16:14:30.204Z"
   },
   {
    "duration": 233,
    "start_time": "2025-07-30T16:14:30.367Z"
   },
   {
    "duration": 186,
    "start_time": "2025-07-30T16:14:30.602Z"
   },
   {
    "duration": 7,
    "start_time": "2025-07-30T16:14:30.790Z"
   },
   {
    "duration": 148,
    "start_time": "2025-07-30T16:14:30.798Z"
   },
   {
    "duration": 3,
    "start_time": "2025-07-30T16:14:30.948Z"
   },
   {
    "duration": 59,
    "start_time": "2025-07-30T16:14:30.953Z"
   },
   {
    "duration": 145,
    "start_time": "2025-07-30T16:14:31.013Z"
   },
   {
    "duration": 46,
    "start_time": "2025-07-30T16:14:31.160Z"
   },
   {
    "duration": 157,
    "start_time": "2025-07-30T16:14:31.207Z"
   },
   {
    "duration": 49,
    "start_time": "2025-07-30T16:15:28.210Z"
   },
   {
    "duration": 2478,
    "start_time": "2025-07-30T16:15:33.714Z"
   },
   {
    "duration": 1192,
    "start_time": "2025-07-30T16:15:36.195Z"
   },
   {
    "duration": 3,
    "start_time": "2025-07-30T16:15:37.390Z"
   },
   {
    "duration": 3346,
    "start_time": "2025-07-30T16:15:37.395Z"
   },
   {
    "duration": 3,
    "start_time": "2025-07-30T16:15:40.743Z"
   },
   {
    "duration": 34,
    "start_time": "2025-07-30T16:15:40.747Z"
   },
   {
    "duration": 18,
    "start_time": "2025-07-30T16:15:40.782Z"
   },
   {
    "duration": 49,
    "start_time": "2025-07-30T16:15:40.802Z"
   },
   {
    "duration": 201,
    "start_time": "2025-07-30T16:15:40.852Z"
   },
   {
    "duration": 204,
    "start_time": "2025-07-30T16:15:41.055Z"
   },
   {
    "duration": 155,
    "start_time": "2025-07-30T16:15:41.261Z"
   },
   {
    "duration": 139,
    "start_time": "2025-07-30T16:15:41.418Z"
   },
   {
    "duration": 138,
    "start_time": "2025-07-30T16:15:41.560Z"
   },
   {
    "duration": 67,
    "start_time": "2025-07-30T16:15:41.700Z"
   },
   {
    "duration": 12,
    "start_time": "2025-07-30T16:15:41.769Z"
   },
   {
    "duration": 196,
    "start_time": "2025-07-30T16:15:41.783Z"
   },
   {
    "duration": 115,
    "start_time": "2025-07-30T16:15:41.981Z"
   },
   {
    "duration": 82,
    "start_time": "2025-07-30T16:15:42.098Z"
   },
   {
    "duration": 680,
    "start_time": "2025-07-30T16:15:42.181Z"
   },
   {
    "duration": 7,
    "start_time": "2025-07-30T16:15:42.862Z"
   },
   {
    "duration": 16,
    "start_time": "2025-07-30T16:15:42.871Z"
   },
   {
    "duration": 8,
    "start_time": "2025-07-30T16:15:42.889Z"
   },
   {
    "duration": 168,
    "start_time": "2025-07-30T16:15:42.899Z"
   },
   {
    "duration": 51,
    "start_time": "2025-07-30T16:15:43.068Z"
   },
   {
    "duration": 263,
    "start_time": "2025-07-30T16:15:43.121Z"
   },
   {
    "duration": 167,
    "start_time": "2025-07-30T16:15:43.385Z"
   },
   {
    "duration": 234,
    "start_time": "2025-07-30T16:15:43.554Z"
   },
   {
    "duration": 190,
    "start_time": "2025-07-30T16:15:43.790Z"
   },
   {
    "duration": 8,
    "start_time": "2025-07-30T16:15:43.981Z"
   },
   {
    "duration": 124,
    "start_time": "2025-07-30T16:15:43.990Z"
   },
   {
    "duration": 3,
    "start_time": "2025-07-30T16:15:44.116Z"
   },
   {
    "duration": 54,
    "start_time": "2025-07-30T16:15:44.120Z"
   },
   {
    "duration": 144,
    "start_time": "2025-07-30T16:15:44.175Z"
   },
   {
    "duration": 58,
    "start_time": "2025-07-30T16:15:44.321Z"
   },
   {
    "duration": 55,
    "start_time": "2025-07-30T16:15:44.380Z"
   },
   {
    "duration": 2480,
    "start_time": "2025-07-30T16:15:58.169Z"
   },
   {
    "duration": 1255,
    "start_time": "2025-07-30T16:16:00.652Z"
   },
   {
    "duration": 3,
    "start_time": "2025-07-30T16:16:01.909Z"
   },
   {
    "duration": 2247,
    "start_time": "2025-07-30T16:16:01.913Z"
   },
   {
    "duration": 3,
    "start_time": "2025-07-30T16:16:04.163Z"
   },
   {
    "duration": 89,
    "start_time": "2025-07-30T16:16:04.167Z"
   },
   {
    "duration": 116,
    "start_time": "2025-07-30T16:16:04.258Z"
   },
   {
    "duration": 74,
    "start_time": "2025-07-30T16:16:04.375Z"
   },
   {
    "duration": 193,
    "start_time": "2025-07-30T16:16:04.451Z"
   },
   {
    "duration": 192,
    "start_time": "2025-07-30T16:16:04.646Z"
   },
   {
    "duration": 160,
    "start_time": "2025-07-30T16:16:04.839Z"
   },
   {
    "duration": 151,
    "start_time": "2025-07-30T16:16:05.001Z"
   },
   {
    "duration": 156,
    "start_time": "2025-07-30T16:16:05.155Z"
   },
   {
    "duration": 74,
    "start_time": "2025-07-30T16:16:05.314Z"
   },
   {
    "duration": 12,
    "start_time": "2025-07-30T16:16:05.390Z"
   },
   {
    "duration": 305,
    "start_time": "2025-07-30T16:16:05.403Z"
   },
   {
    "duration": 112,
    "start_time": "2025-07-30T16:16:05.710Z"
   },
   {
    "duration": 109,
    "start_time": "2025-07-30T16:16:05.824Z"
   },
   {
    "duration": 615,
    "start_time": "2025-07-30T16:16:05.935Z"
   },
   {
    "duration": 8,
    "start_time": "2025-07-30T16:16:06.552Z"
   },
   {
    "duration": 27,
    "start_time": "2025-07-30T16:16:06.562Z"
   },
   {
    "duration": 25,
    "start_time": "2025-07-30T16:16:06.591Z"
   },
   {
    "duration": 167,
    "start_time": "2025-07-30T16:16:06.618Z"
   },
   {
    "duration": 67,
    "start_time": "2025-07-30T16:16:06.787Z"
   },
   {
    "duration": 264,
    "start_time": "2025-07-30T16:16:06.856Z"
   },
   {
    "duration": 167,
    "start_time": "2025-07-30T16:16:07.122Z"
   },
   {
    "duration": 225,
    "start_time": "2025-07-30T16:16:07.291Z"
   },
   {
    "duration": 181,
    "start_time": "2025-07-30T16:16:07.518Z"
   },
   {
    "duration": 7,
    "start_time": "2025-07-30T16:16:07.700Z"
   },
   {
    "duration": 231,
    "start_time": "2025-07-30T16:16:07.709Z"
   },
   {
    "duration": 3,
    "start_time": "2025-07-30T16:16:07.942Z"
   },
   {
    "duration": 40,
    "start_time": "2025-07-30T16:16:07.947Z"
   },
   {
    "duration": 161,
    "start_time": "2025-07-30T16:16:07.989Z"
   },
   {
    "duration": 46,
    "start_time": "2025-07-30T16:16:08.152Z"
   },
   {
    "duration": 182,
    "start_time": "2025-07-30T16:16:08.200Z"
   },
   {
    "duration": 27,
    "start_time": "2025-07-30T16:16:08.384Z"
   },
   {
    "duration": 2424,
    "start_time": "2025-07-30T16:18:20.039Z"
   },
   {
    "duration": 1235,
    "start_time": "2025-07-30T16:18:22.466Z"
   },
   {
    "duration": 3,
    "start_time": "2025-07-30T16:18:23.702Z"
   },
   {
    "duration": 3225,
    "start_time": "2025-07-30T16:18:23.706Z"
   },
   {
    "duration": 4,
    "start_time": "2025-07-30T16:18:26.933Z"
   },
   {
    "duration": 9,
    "start_time": "2025-07-30T16:18:26.939Z"
   },
   {
    "duration": 20,
    "start_time": "2025-07-30T16:18:26.949Z"
   },
   {
    "duration": 62,
    "start_time": "2025-07-30T16:18:26.971Z"
   },
   {
    "duration": 209,
    "start_time": "2025-07-30T16:18:27.035Z"
   },
   {
    "duration": 198,
    "start_time": "2025-07-30T16:18:27.246Z"
   },
   {
    "duration": 165,
    "start_time": "2025-07-30T16:18:27.446Z"
   },
   {
    "duration": 139,
    "start_time": "2025-07-30T16:18:27.612Z"
   },
   {
    "duration": 143,
    "start_time": "2025-07-30T16:18:27.753Z"
   },
   {
    "duration": 75,
    "start_time": "2025-07-30T16:18:27.900Z"
   },
   {
    "duration": 12,
    "start_time": "2025-07-30T16:18:27.977Z"
   },
   {
    "duration": 202,
    "start_time": "2025-07-30T16:18:27.991Z"
   },
   {
    "duration": 116,
    "start_time": "2025-07-30T16:18:28.195Z"
   },
   {
    "duration": 121,
    "start_time": "2025-07-30T16:18:28.314Z"
   },
   {
    "duration": 630,
    "start_time": "2025-07-30T16:18:28.436Z"
   },
   {
    "duration": 8,
    "start_time": "2025-07-30T16:18:29.067Z"
   },
   {
    "duration": 23,
    "start_time": "2025-07-30T16:18:29.076Z"
   },
   {
    "duration": 9,
    "start_time": "2025-07-30T16:18:29.101Z"
   },
   {
    "duration": 174,
    "start_time": "2025-07-30T16:18:29.111Z"
   },
   {
    "duration": 71,
    "start_time": "2025-07-30T16:18:29.287Z"
   },
   {
    "duration": 262,
    "start_time": "2025-07-30T16:18:29.360Z"
   },
   {
    "duration": 163,
    "start_time": "2025-07-30T16:18:29.623Z"
   },
   {
    "duration": 242,
    "start_time": "2025-07-30T16:18:29.788Z"
   },
   {
    "duration": 181,
    "start_time": "2025-07-30T16:18:30.032Z"
   },
   {
    "duration": 9,
    "start_time": "2025-07-30T16:18:30.214Z"
   },
   {
    "duration": 277,
    "start_time": "2025-07-30T16:18:30.235Z"
   },
   {
    "duration": 2,
    "start_time": "2025-07-30T16:18:30.514Z"
   },
   {
    "duration": 99,
    "start_time": "2025-07-30T16:18:30.518Z"
   },
   {
    "duration": 151,
    "start_time": "2025-07-30T16:18:30.619Z"
   },
   {
    "duration": 44,
    "start_time": "2025-07-30T16:18:30.772Z"
   },
   {
    "duration": 73,
    "start_time": "2025-07-30T16:18:30.818Z"
   },
   {
    "duration": 2495,
    "start_time": "2025-07-30T16:18:47.241Z"
   },
   {
    "duration": 1471,
    "start_time": "2025-07-30T16:18:49.739Z"
   },
   {
    "duration": 2,
    "start_time": "2025-07-30T16:18:51.212Z"
   },
   {
    "duration": 2131,
    "start_time": "2025-07-30T16:18:51.216Z"
   },
   {
    "duration": 3,
    "start_time": "2025-07-30T16:18:53.350Z"
   },
   {
    "duration": 16,
    "start_time": "2025-07-30T16:18:53.355Z"
   },
   {
    "duration": 8,
    "start_time": "2025-07-30T16:18:53.373Z"
   },
   {
    "duration": 100,
    "start_time": "2025-07-30T16:18:53.382Z"
   },
   {
    "duration": 236,
    "start_time": "2025-07-30T16:18:53.484Z"
   },
   {
    "duration": 195,
    "start_time": "2025-07-30T16:18:53.721Z"
   },
   {
    "duration": 165,
    "start_time": "2025-07-30T16:18:53.919Z"
   },
   {
    "duration": 141,
    "start_time": "2025-07-30T16:18:54.086Z"
   },
   {
    "duration": 172,
    "start_time": "2025-07-30T16:18:54.234Z"
   },
   {
    "duration": 70,
    "start_time": "2025-07-30T16:18:54.409Z"
   },
   {
    "duration": 14,
    "start_time": "2025-07-30T16:18:54.481Z"
   },
   {
    "duration": 228,
    "start_time": "2025-07-30T16:18:54.497Z"
   },
   {
    "duration": 116,
    "start_time": "2025-07-30T16:18:54.727Z"
   },
   {
    "duration": 62,
    "start_time": "2025-07-30T16:18:54.844Z"
   },
   {
    "duration": 768,
    "start_time": "2025-07-30T16:18:54.907Z"
   },
   {
    "duration": 8,
    "start_time": "2025-07-30T16:18:55.676Z"
   },
   {
    "duration": 137,
    "start_time": "2025-07-30T16:18:55.686Z"
   },
   {
    "duration": 36,
    "start_time": "2025-07-30T16:18:55.824Z"
   },
   {
    "duration": 155,
    "start_time": "2025-07-30T16:18:55.862Z"
   },
   {
    "duration": 63,
    "start_time": "2025-07-30T16:18:56.019Z"
   },
   {
    "duration": 275,
    "start_time": "2025-07-30T16:18:56.083Z"
   },
   {
    "duration": 166,
    "start_time": "2025-07-30T16:18:56.360Z"
   },
   {
    "duration": 245,
    "start_time": "2025-07-30T16:18:56.535Z"
   },
   {
    "duration": 185,
    "start_time": "2025-07-30T16:18:56.782Z"
   },
   {
    "duration": 8,
    "start_time": "2025-07-30T16:18:56.969Z"
   },
   {
    "duration": 126,
    "start_time": "2025-07-30T16:18:56.979Z"
   },
   {
    "duration": 3,
    "start_time": "2025-07-30T16:18:57.107Z"
   },
   {
    "duration": 50,
    "start_time": "2025-07-30T16:18:57.111Z"
   },
   {
    "duration": 210,
    "start_time": "2025-07-30T16:18:57.163Z"
   },
   {
    "duration": 46,
    "start_time": "2025-07-30T16:18:57.375Z"
   },
   {
    "duration": 57,
    "start_time": "2025-07-30T16:18:57.423Z"
   },
   {
    "duration": 107,
    "start_time": "2025-07-30T16:18:57.481Z"
   },
   {
    "duration": 115,
    "start_time": "2025-07-30T16:21:43.246Z"
   },
   {
    "duration": 15,
    "start_time": "2025-07-30T16:23:28.016Z"
   },
   {
    "duration": 15,
    "start_time": "2025-07-30T16:23:55.328Z"
   },
   {
    "duration": 10,
    "start_time": "2025-07-30T16:24:20.287Z"
   },
   {
    "duration": 5,
    "start_time": "2025-07-30T16:24:33.256Z"
   },
   {
    "duration": 11,
    "start_time": "2025-07-30T16:25:01.072Z"
   },
   {
    "duration": 11,
    "start_time": "2025-07-30T16:25:10.714Z"
   },
   {
    "duration": 4,
    "start_time": "2025-07-30T16:26:36.120Z"
   },
   {
    "duration": 30,
    "start_time": "2025-07-30T16:31:20.068Z"
   },
   {
    "duration": 4,
    "start_time": "2025-07-30T16:31:33.705Z"
   },
   {
    "duration": 71,
    "start_time": "2025-07-30T16:32:39.151Z"
   },
   {
    "duration": 2515,
    "start_time": "2025-07-30T16:35:43.324Z"
   },
   {
    "duration": 1336,
    "start_time": "2025-07-30T16:35:45.842Z"
   },
   {
    "duration": 3,
    "start_time": "2025-07-30T16:35:47.180Z"
   },
   {
    "duration": 3158,
    "start_time": "2025-07-30T16:35:47.184Z"
   },
   {
    "duration": 3,
    "start_time": "2025-07-30T16:35:50.344Z"
   },
   {
    "duration": 26,
    "start_time": "2025-07-30T16:35:50.349Z"
   },
   {
    "duration": 135,
    "start_time": "2025-07-30T16:35:50.377Z"
   },
   {
    "duration": 65,
    "start_time": "2025-07-30T16:35:50.513Z"
   },
   {
    "duration": 212,
    "start_time": "2025-07-30T16:35:50.580Z"
   },
   {
    "duration": 204,
    "start_time": "2025-07-30T16:35:50.793Z"
   },
   {
    "duration": 159,
    "start_time": "2025-07-30T16:35:50.998Z"
   },
   {
    "duration": 141,
    "start_time": "2025-07-30T16:35:51.158Z"
   },
   {
    "duration": 147,
    "start_time": "2025-07-30T16:35:51.301Z"
   },
   {
    "duration": 58,
    "start_time": "2025-07-30T16:35:51.451Z"
   },
   {
    "duration": 26,
    "start_time": "2025-07-30T16:35:51.510Z"
   },
   {
    "duration": 250,
    "start_time": "2025-07-30T16:35:51.538Z"
   },
   {
    "duration": 103,
    "start_time": "2025-07-30T16:35:51.789Z"
   },
   {
    "duration": 77,
    "start_time": "2025-07-30T16:35:51.893Z"
   },
   {
    "duration": 686,
    "start_time": "2025-07-30T16:35:51.972Z"
   },
   {
    "duration": 7,
    "start_time": "2025-07-30T16:35:52.660Z"
   },
   {
    "duration": 23,
    "start_time": "2025-07-30T16:35:52.668Z"
   },
   {
    "duration": 10,
    "start_time": "2025-07-30T16:35:52.692Z"
   },
   {
    "duration": 168,
    "start_time": "2025-07-30T16:35:52.704Z"
   },
   {
    "duration": 62,
    "start_time": "2025-07-30T16:35:52.873Z"
   },
   {
    "duration": 258,
    "start_time": "2025-07-30T16:35:52.937Z"
   },
   {
    "duration": 160,
    "start_time": "2025-07-30T16:35:53.197Z"
   },
   {
    "duration": 235,
    "start_time": "2025-07-30T16:35:53.359Z"
   },
   {
    "duration": 193,
    "start_time": "2025-07-30T16:35:53.596Z"
   },
   {
    "duration": 9,
    "start_time": "2025-07-30T16:35:53.790Z"
   },
   {
    "duration": 231,
    "start_time": "2025-07-30T16:35:53.801Z"
   },
   {
    "duration": 3,
    "start_time": "2025-07-30T16:35:54.034Z"
   },
   {
    "duration": 52,
    "start_time": "2025-07-30T16:35:54.038Z"
   },
   {
    "duration": 137,
    "start_time": "2025-07-30T16:35:54.092Z"
   },
   {
    "duration": 48,
    "start_time": "2025-07-30T16:35:54.234Z"
   },
   {
    "duration": 108,
    "start_time": "2025-07-30T16:35:54.284Z"
   },
   {
    "duration": 2,
    "start_time": "2025-07-30T16:35:54.394Z"
   },
   {
    "duration": 215,
    "start_time": "2025-07-30T16:35:54.398Z"
   },
   {
    "duration": 14,
    "start_time": "2025-07-30T16:37:19.519Z"
   },
   {
    "duration": 65,
    "start_time": "2025-07-30T16:38:15.934Z"
   },
   {
    "duration": 50,
    "start_time": "2025-07-30T16:46:42.186Z"
   },
   {
    "duration": 50,
    "start_time": "2025-07-30T16:46:54.779Z"
   },
   {
    "duration": 39,
    "start_time": "2025-07-30T16:47:46.497Z"
   },
   {
    "duration": 36,
    "start_time": "2025-07-30T16:47:52.682Z"
   },
   {
    "duration": 60,
    "start_time": "2025-07-30T16:49:08.828Z"
   },
   {
    "duration": 72,
    "start_time": "2025-07-30T16:49:50.631Z"
   },
   {
    "duration": 65,
    "start_time": "2025-07-30T16:50:22.636Z"
   },
   {
    "duration": 38,
    "start_time": "2025-07-30T16:52:04.470Z"
   },
   {
    "duration": 60,
    "start_time": "2025-07-30T16:52:15.173Z"
   },
   {
    "duration": 70,
    "start_time": "2025-07-30T16:52:18.900Z"
   },
   {
    "duration": 47,
    "start_time": "2025-07-30T16:54:23.414Z"
   },
   {
    "duration": 39,
    "start_time": "2025-07-30T16:54:32.120Z"
   },
   {
    "duration": 71,
    "start_time": "2025-07-30T16:55:07.412Z"
   },
   {
    "duration": 72,
    "start_time": "2025-07-30T16:56:12.805Z"
   },
   {
    "duration": 68,
    "start_time": "2025-07-30T16:56:22.990Z"
   },
   {
    "duration": 146,
    "start_time": "2025-07-30T16:58:01.675Z"
   },
   {
    "duration": 37,
    "start_time": "2025-07-30T16:58:16.239Z"
   },
   {
    "duration": 71,
    "start_time": "2025-07-30T16:58:20.495Z"
   },
   {
    "duration": 126,
    "start_time": "2025-07-30T17:02:22.173Z"
   },
   {
    "duration": 46,
    "start_time": "2025-07-30T17:03:44.809Z"
   },
   {
    "duration": 70,
    "start_time": "2025-07-30T17:03:51.322Z"
   },
   {
    "duration": 38,
    "start_time": "2025-07-30T17:05:29.097Z"
   },
   {
    "duration": 51,
    "start_time": "2025-07-30T17:07:25.897Z"
   },
   {
    "duration": 40,
    "start_time": "2025-07-30T17:08:06.224Z"
   },
   {
    "duration": 104,
    "start_time": "2025-07-30T17:08:09.816Z"
   },
   {
    "duration": 87,
    "start_time": "2025-07-30T17:09:15.726Z"
   },
   {
    "duration": 82,
    "start_time": "2025-07-30T17:09:32.326Z"
   },
   {
    "duration": 52,
    "start_time": "2025-07-30T17:09:36.203Z"
   },
   {
    "duration": 55,
    "start_time": "2025-07-30T17:09:41.981Z"
   },
   {
    "duration": 103,
    "start_time": "2025-07-30T17:10:14.242Z"
   },
   {
    "duration": 409,
    "start_time": "2025-07-30T17:12:47.579Z"
   },
   {
    "duration": 109,
    "start_time": "2025-07-30T17:12:52.231Z"
   },
   {
    "duration": 98,
    "start_time": "2025-07-30T17:14:02.049Z"
   },
   {
    "duration": 126,
    "start_time": "2025-07-30T17:14:09.767Z"
   },
   {
    "duration": 118,
    "start_time": "2025-07-30T17:14:22.448Z"
   },
   {
    "duration": 45,
    "start_time": "2025-07-30T17:15:47.556Z"
   },
   {
    "duration": 60,
    "start_time": "2025-07-30T17:18:54.628Z"
   },
   {
    "duration": 60,
    "start_time": "2025-07-30T17:19:09.111Z"
   },
   {
    "duration": 62,
    "start_time": "2025-07-30T17:20:54.193Z"
   },
   {
    "duration": 54,
    "start_time": "2025-07-30T17:21:52.951Z"
   },
   {
    "duration": 2479,
    "start_time": "2025-07-30T17:38:51.626Z"
   },
   {
    "duration": 1271,
    "start_time": "2025-07-30T17:38:54.108Z"
   },
   {
    "duration": 3,
    "start_time": "2025-07-30T17:38:55.381Z"
   },
   {
    "duration": 3720,
    "start_time": "2025-07-30T17:38:55.386Z"
   },
   {
    "duration": 3,
    "start_time": "2025-07-30T17:38:59.108Z"
   },
   {
    "duration": 24,
    "start_time": "2025-07-30T17:38:59.112Z"
   },
   {
    "duration": 9,
    "start_time": "2025-07-30T17:38:59.138Z"
   },
   {
    "duration": 51,
    "start_time": "2025-07-30T17:38:59.148Z"
   },
   {
    "duration": 211,
    "start_time": "2025-07-30T17:38:59.202Z"
   },
   {
    "duration": 198,
    "start_time": "2025-07-30T17:38:59.414Z"
   },
   {
    "duration": 159,
    "start_time": "2025-07-30T17:38:59.614Z"
   },
   {
    "duration": 135,
    "start_time": "2025-07-30T17:38:59.775Z"
   },
   {
    "duration": 152,
    "start_time": "2025-07-30T17:38:59.912Z"
   },
   {
    "duration": 67,
    "start_time": "2025-07-30T17:39:00.068Z"
   },
   {
    "duration": 113,
    "start_time": "2025-07-30T17:39:00.137Z"
   },
   {
    "duration": 215,
    "start_time": "2025-07-30T17:39:00.252Z"
   },
   {
    "duration": 114,
    "start_time": "2025-07-30T17:39:00.468Z"
   },
   {
    "duration": 78,
    "start_time": "2025-07-30T17:39:00.584Z"
   },
   {
    "duration": 586,
    "start_time": "2025-07-30T17:39:00.663Z"
   },
   {
    "duration": 7,
    "start_time": "2025-07-30T17:39:01.251Z"
   },
   {
    "duration": 22,
    "start_time": "2025-07-30T17:39:01.260Z"
   },
   {
    "duration": 12,
    "start_time": "2025-07-30T17:39:01.284Z"
   },
   {
    "duration": 174,
    "start_time": "2025-07-30T17:39:01.298Z"
   },
   {
    "duration": 67,
    "start_time": "2025-07-30T17:39:01.474Z"
   },
   {
    "duration": 374,
    "start_time": "2025-07-30T17:39:01.543Z"
   },
   {
    "duration": 171,
    "start_time": "2025-07-30T17:39:01.919Z"
   },
   {
    "duration": 270,
    "start_time": "2025-07-30T17:39:02.092Z"
   },
   {
    "duration": 208,
    "start_time": "2025-07-30T17:39:02.364Z"
   },
   {
    "duration": 9,
    "start_time": "2025-07-30T17:39:02.574Z"
   },
   {
    "duration": 199,
    "start_time": "2025-07-30T17:39:02.584Z"
   },
   {
    "duration": 3,
    "start_time": "2025-07-30T17:39:02.785Z"
   },
   {
    "duration": 104,
    "start_time": "2025-07-30T17:39:02.789Z"
   },
   {
    "duration": 289,
    "start_time": "2025-07-30T17:39:02.895Z"
   },
   {
    "duration": 58,
    "start_time": "2025-07-30T17:39:03.186Z"
   },
   {
    "duration": 32,
    "start_time": "2025-07-30T17:39:03.246Z"
   },
   {
    "duration": 127,
    "start_time": "2025-07-30T17:39:03.279Z"
   },
   {
    "duration": 54,
    "start_time": "2025-07-30T17:39:03.408Z"
   },
   {
    "duration": 35,
    "start_time": "2025-07-30T17:40:52.964Z"
   },
   {
    "duration": 3371,
    "start_time": "2025-08-01T05:32:37.652Z"
   },
   {
    "duration": 1517,
    "start_time": "2025-08-01T05:32:41.026Z"
   },
   {
    "duration": 6,
    "start_time": "2025-08-01T05:32:42.545Z"
   },
   {
    "duration": 2497,
    "start_time": "2025-08-01T05:32:42.553Z"
   },
   {
    "duration": 4,
    "start_time": "2025-08-01T05:32:45.051Z"
   },
   {
    "duration": 62,
    "start_time": "2025-08-01T05:32:45.057Z"
   },
   {
    "duration": 58,
    "start_time": "2025-08-01T05:32:45.120Z"
   },
   {
    "duration": 216,
    "start_time": "2025-08-01T05:32:45.180Z"
   },
   {
    "duration": 215,
    "start_time": "2025-08-01T05:32:45.397Z"
   },
   {
    "duration": 196,
    "start_time": "2025-08-01T05:32:45.614Z"
   },
   {
    "duration": 162,
    "start_time": "2025-08-01T05:32:45.811Z"
   },
   {
    "duration": 133,
    "start_time": "2025-08-01T05:32:45.975Z"
   },
   {
    "duration": 150,
    "start_time": "2025-08-01T05:32:46.110Z"
   },
   {
    "duration": 73,
    "start_time": "2025-08-01T05:32:46.262Z"
   },
   {
    "duration": 13,
    "start_time": "2025-08-01T05:32:46.338Z"
   },
   {
    "duration": 215,
    "start_time": "2025-08-01T05:32:46.352Z"
   },
   {
    "duration": 119,
    "start_time": "2025-08-01T05:32:46.569Z"
   },
   {
    "duration": 156,
    "start_time": "2025-08-01T05:32:46.690Z"
   },
   {
    "duration": 698,
    "start_time": "2025-08-01T05:32:46.848Z"
   },
   {
    "duration": 8,
    "start_time": "2025-08-01T05:32:47.547Z"
   },
   {
    "duration": 26,
    "start_time": "2025-08-01T05:32:47.556Z"
   },
   {
    "duration": 9,
    "start_time": "2025-08-01T05:32:47.584Z"
   },
   {
    "duration": 184,
    "start_time": "2025-08-01T05:32:47.595Z"
   },
   {
    "duration": 62,
    "start_time": "2025-08-01T05:32:47.780Z"
   },
   {
    "duration": 260,
    "start_time": "2025-08-01T05:32:47.844Z"
   },
   {
    "duration": 168,
    "start_time": "2025-08-01T05:32:48.106Z"
   },
   {
    "duration": 235,
    "start_time": "2025-08-01T05:32:48.276Z"
   },
   {
    "duration": 181,
    "start_time": "2025-08-01T05:32:48.515Z"
   },
   {
    "duration": 7,
    "start_time": "2025-08-01T05:32:48.698Z"
   },
   {
    "duration": 206,
    "start_time": "2025-08-01T05:32:48.706Z"
   },
   {
    "duration": 3,
    "start_time": "2025-08-01T05:32:48.913Z"
   },
   {
    "duration": 60,
    "start_time": "2025-08-01T05:32:48.918Z"
   },
   {
    "duration": 155,
    "start_time": "2025-08-01T05:32:48.980Z"
   },
   {
    "duration": 51,
    "start_time": "2025-08-01T05:32:49.136Z"
   },
   {
    "duration": 13,
    "start_time": "2025-08-01T05:32:49.190Z"
   },
   {
    "duration": 114,
    "start_time": "2025-08-01T05:32:49.205Z"
   },
   {
    "duration": 62,
    "start_time": "2025-08-01T05:32:49.321Z"
   },
   {
    "duration": 55,
    "start_time": "2025-08-01T05:32:49.385Z"
   },
   {
    "duration": 81,
    "start_time": "2025-08-01T05:35:35.794Z"
   },
   {
    "duration": 73,
    "start_time": "2025-08-01T05:35:53.642Z"
   },
   {
    "duration": 78,
    "start_time": "2025-08-01T05:36:05.699Z"
   },
   {
    "duration": 79,
    "start_time": "2025-08-01T05:36:14.086Z"
   },
   {
    "duration": 38,
    "start_time": "2025-08-01T05:37:17.561Z"
   },
   {
    "duration": 366,
    "start_time": "2025-08-01T05:38:38.523Z"
   },
   {
    "duration": 107,
    "start_time": "2025-08-01T05:38:59.858Z"
   },
   {
    "duration": 362,
    "start_time": "2025-08-01T05:39:07.616Z"
   },
   {
    "duration": 32,
    "start_time": "2025-08-01T05:39:47.461Z"
   },
   {
    "duration": 52,
    "start_time": "2025-08-01T05:56:35.390Z"
   },
   {
    "duration": 99,
    "start_time": "2025-08-01T05:56:47.053Z"
   },
   {
    "duration": 10,
    "start_time": "2025-08-01T05:59:51.096Z"
   },
   {
    "duration": 422,
    "start_time": "2025-08-01T06:01:54.920Z"
   },
   {
    "duration": 54,
    "start_time": "2025-08-01T06:02:42.832Z"
   },
   {
    "duration": 2703,
    "start_time": "2025-08-01T06:07:03.964Z"
   },
   {
    "duration": 1263,
    "start_time": "2025-08-01T06:07:06.671Z"
   },
   {
    "duration": 4,
    "start_time": "2025-08-01T06:07:07.936Z"
   },
   {
    "duration": 3741,
    "start_time": "2025-08-01T06:07:07.943Z"
   },
   {
    "duration": 3,
    "start_time": "2025-08-01T06:07:11.686Z"
   },
   {
    "duration": 54,
    "start_time": "2025-08-01T06:07:11.690Z"
   },
   {
    "duration": 20,
    "start_time": "2025-08-01T06:07:11.747Z"
   },
   {
    "duration": 85,
    "start_time": "2025-08-01T06:07:11.769Z"
   },
   {
    "duration": 218,
    "start_time": "2025-08-01T06:07:11.856Z"
   },
   {
    "duration": 219,
    "start_time": "2025-08-01T06:07:12.078Z"
   },
   {
    "duration": 191,
    "start_time": "2025-08-01T06:07:12.299Z"
   },
   {
    "duration": 230,
    "start_time": "2025-08-01T06:07:12.492Z"
   },
   {
    "duration": 168,
    "start_time": "2025-08-01T06:07:12.725Z"
   },
   {
    "duration": 75,
    "start_time": "2025-08-01T06:07:12.895Z"
   },
   {
    "duration": 17,
    "start_time": "2025-08-01T06:07:12.972Z"
   },
   {
    "duration": 206,
    "start_time": "2025-08-01T06:07:12.991Z"
   },
   {
    "duration": 115,
    "start_time": "2025-08-01T06:07:13.198Z"
   },
   {
    "duration": 73,
    "start_time": "2025-08-01T06:07:13.315Z"
   },
   {
    "duration": 721,
    "start_time": "2025-08-01T06:07:13.390Z"
   },
   {
    "duration": 8,
    "start_time": "2025-08-01T06:07:14.114Z"
   },
   {
    "duration": 24,
    "start_time": "2025-08-01T06:07:14.133Z"
   },
   {
    "duration": 11,
    "start_time": "2025-08-01T06:07:14.159Z"
   },
   {
    "duration": 182,
    "start_time": "2025-08-01T06:07:14.171Z"
   },
   {
    "duration": 52,
    "start_time": "2025-08-01T06:07:14.355Z"
   },
   {
    "duration": 294,
    "start_time": "2025-08-01T06:07:14.409Z"
   },
   {
    "duration": 174,
    "start_time": "2025-08-01T06:07:14.705Z"
   },
   {
    "duration": 288,
    "start_time": "2025-08-01T06:07:14.880Z"
   },
   {
    "duration": 209,
    "start_time": "2025-08-01T06:07:15.173Z"
   },
   {
    "duration": 7,
    "start_time": "2025-08-01T06:07:15.383Z"
   },
   {
    "duration": 205,
    "start_time": "2025-08-01T06:07:15.392Z"
   },
   {
    "duration": 3,
    "start_time": "2025-08-01T06:07:15.599Z"
   },
   {
    "duration": 95,
    "start_time": "2025-08-01T06:07:15.604Z"
   },
   {
    "duration": 171,
    "start_time": "2025-08-01T06:07:15.701Z"
   },
   {
    "duration": 55,
    "start_time": "2025-08-01T06:07:15.874Z"
   },
   {
    "duration": 169,
    "start_time": "2025-08-01T06:07:15.936Z"
   },
   {
    "duration": 164,
    "start_time": "2025-08-01T06:07:16.108Z"
   },
   {
    "duration": 73,
    "start_time": "2025-08-01T06:07:16.274Z"
   },
   {
    "duration": 43,
    "start_time": "2025-08-01T06:07:16.349Z"
   },
   {
    "duration": 128,
    "start_time": "2025-08-01T06:07:16.394Z"
   },
   {
    "duration": 73,
    "start_time": "2025-08-01T06:07:16.524Z"
   },
   {
    "duration": 1760,
    "start_time": "2025-08-01T06:17:37.564Z"
   },
   {
    "duration": 13,
    "start_time": "2025-08-01T06:19:57.461Z"
   },
   {
    "duration": 12,
    "start_time": "2025-08-01T06:20:09.060Z"
   },
   {
    "duration": 33,
    "start_time": "2025-08-01T06:20:39.611Z"
   },
   {
    "duration": 68,
    "start_time": "2025-08-01T06:20:46.668Z"
   },
   {
    "duration": 150,
    "start_time": "2025-08-01T06:21:43.793Z"
   },
   {
    "duration": 36,
    "start_time": "2025-08-01T06:22:51.153Z"
   },
   {
    "duration": 34,
    "start_time": "2025-08-01T06:23:20.366Z"
   },
   {
    "duration": 61,
    "start_time": "2025-08-01T06:23:31.130Z"
   },
   {
    "duration": 51,
    "start_time": "2025-08-01T06:27:00.129Z"
   },
   {
    "duration": 27,
    "start_time": "2025-08-01T06:28:17.464Z"
   },
   {
    "duration": 149,
    "start_time": "2025-08-01T06:29:52.440Z"
   },
   {
    "duration": 177,
    "start_time": "2025-08-01T06:30:06.043Z"
   },
   {
    "duration": 170,
    "start_time": "2025-08-01T06:30:32.932Z"
   },
   {
    "duration": 236,
    "start_time": "2025-08-01T06:31:33.380Z"
   },
   {
    "duration": 1521,
    "start_time": "2025-08-01T06:32:39.208Z"
   },
   {
    "duration": 26,
    "start_time": "2025-08-01T06:33:01.951Z"
   },
   {
    "duration": 51,
    "start_time": "2025-08-01T06:33:14.348Z"
   },
   {
    "duration": 84,
    "start_time": "2025-08-01T06:34:22.106Z"
   },
   {
    "duration": 130,
    "start_time": "2025-08-01T06:34:41.075Z"
   },
   {
    "duration": 122,
    "start_time": "2025-08-01T06:35:45.395Z"
   },
   {
    "duration": 146,
    "start_time": "2025-08-01T06:36:03.175Z"
   },
   {
    "duration": 83,
    "start_time": "2025-08-01T06:37:10.864Z"
   },
   {
    "duration": 107,
    "start_time": "2025-08-01T06:38:21.102Z"
   },
   {
    "duration": 70,
    "start_time": "2025-08-01T06:39:45.154Z"
   },
   {
    "duration": 141,
    "start_time": "2025-08-01T06:41:25.788Z"
   },
   {
    "duration": 201,
    "start_time": "2025-08-01T06:41:42.112Z"
   },
   {
    "duration": 170,
    "start_time": "2025-08-01T06:48:21.105Z"
   },
   {
    "duration": 187,
    "start_time": "2025-08-01T06:48:41.130Z"
   },
   {
    "duration": 182,
    "start_time": "2025-08-01T06:48:51.413Z"
   },
   {
    "duration": 91,
    "start_time": "2025-08-01T06:49:34.567Z"
   },
   {
    "duration": 109,
    "start_time": "2025-08-01T06:50:32.726Z"
   },
   {
    "duration": 2535,
    "start_time": "2025-08-01T06:51:14.544Z"
   },
   {
    "duration": 1260,
    "start_time": "2025-08-01T06:51:17.081Z"
   },
   {
    "duration": 3,
    "start_time": "2025-08-01T06:51:18.347Z"
   },
   {
    "duration": 3706,
    "start_time": "2025-08-01T06:51:18.352Z"
   },
   {
    "duration": 3,
    "start_time": "2025-08-01T06:51:22.060Z"
   },
   {
    "duration": 14,
    "start_time": "2025-08-01T06:51:22.065Z"
   },
   {
    "duration": 6,
    "start_time": "2025-08-01T06:51:22.081Z"
   },
   {
    "duration": 80,
    "start_time": "2025-08-01T06:51:22.089Z"
   },
   {
    "duration": 222,
    "start_time": "2025-08-01T06:51:22.172Z"
   },
   {
    "duration": 233,
    "start_time": "2025-08-01T06:51:22.395Z"
   },
   {
    "duration": 178,
    "start_time": "2025-08-01T06:51:22.630Z"
   },
   {
    "duration": 170,
    "start_time": "2025-08-01T06:51:22.810Z"
   },
   {
    "duration": 168,
    "start_time": "2025-08-01T06:51:22.981Z"
   },
   {
    "duration": 57,
    "start_time": "2025-08-01T06:51:23.151Z"
   },
   {
    "duration": 31,
    "start_time": "2025-08-01T06:51:23.210Z"
   },
   {
    "duration": 240,
    "start_time": "2025-08-01T06:51:23.243Z"
   },
   {
    "duration": 117,
    "start_time": "2025-08-01T06:51:23.485Z"
   },
   {
    "duration": 79,
    "start_time": "2025-08-01T06:51:23.604Z"
   },
   {
    "duration": 651,
    "start_time": "2025-08-01T06:51:23.685Z"
   },
   {
    "duration": 11,
    "start_time": "2025-08-01T06:51:24.338Z"
   },
   {
    "duration": 50,
    "start_time": "2025-08-01T06:51:24.351Z"
   },
   {
    "duration": 21,
    "start_time": "2025-08-01T06:51:24.402Z"
   },
   {
    "duration": 167,
    "start_time": "2025-08-01T06:51:24.424Z"
   },
   {
    "duration": 63,
    "start_time": "2025-08-01T06:51:24.593Z"
   },
   {
    "duration": 289,
    "start_time": "2025-08-01T06:51:24.658Z"
   },
   {
    "duration": 169,
    "start_time": "2025-08-01T06:51:24.949Z"
   },
   {
    "duration": 272,
    "start_time": "2025-08-01T06:51:25.134Z"
   },
   {
    "duration": 202,
    "start_time": "2025-08-01T06:51:25.408Z"
   },
   {
    "duration": 7,
    "start_time": "2025-08-01T06:51:25.612Z"
   },
   {
    "duration": 190,
    "start_time": "2025-08-01T06:51:25.621Z"
   },
   {
    "duration": 2,
    "start_time": "2025-08-01T06:51:25.813Z"
   },
   {
    "duration": 70,
    "start_time": "2025-08-01T06:51:25.817Z"
   },
   {
    "duration": 137,
    "start_time": "2025-08-01T06:51:25.888Z"
   },
   {
    "duration": 67,
    "start_time": "2025-08-01T06:51:26.027Z"
   },
   {
    "duration": 6,
    "start_time": "2025-08-01T06:51:26.095Z"
   },
   {
    "duration": 154,
    "start_time": "2025-08-01T06:51:26.102Z"
   },
   {
    "duration": 40,
    "start_time": "2025-08-01T06:51:26.258Z"
   },
   {
    "duration": 65,
    "start_time": "2025-08-01T06:51:26.300Z"
   },
   {
    "duration": 86,
    "start_time": "2025-08-01T06:51:26.367Z"
   },
   {
    "duration": 81,
    "start_time": "2025-08-01T06:51:26.455Z"
   },
   {
    "duration": 45,
    "start_time": "2025-08-01T06:51:26.538Z"
   },
   {
    "duration": 123,
    "start_time": "2025-08-01T06:51:26.584Z"
   },
   {
    "duration": 0,
    "start_time": "2025-08-01T06:51:26.709Z"
   },
   {
    "duration": 149,
    "start_time": "2025-08-01T06:51:55.725Z"
   },
   {
    "duration": 184,
    "start_time": "2025-08-01T06:54:36.459Z"
   },
   {
    "duration": 33,
    "start_time": "2025-08-01T07:03:55.428Z"
   },
   {
    "duration": 23,
    "start_time": "2025-08-01T07:04:39.277Z"
   },
   {
    "duration": 12,
    "start_time": "2025-08-01T07:04:53.958Z"
   },
   {
    "duration": 143,
    "start_time": "2025-08-01T07:05:07.077Z"
   },
   {
    "duration": 2731,
    "start_time": "2025-08-01T07:07:28.772Z"
   },
   {
    "duration": 1316,
    "start_time": "2025-08-01T07:07:31.505Z"
   },
   {
    "duration": 3,
    "start_time": "2025-08-01T07:07:32.823Z"
   },
   {
    "duration": 3879,
    "start_time": "2025-08-01T07:07:32.829Z"
   },
   {
    "duration": 3,
    "start_time": "2025-08-01T07:07:36.711Z"
   },
   {
    "duration": 45,
    "start_time": "2025-08-01T07:07:36.716Z"
   },
   {
    "duration": 12,
    "start_time": "2025-08-01T07:07:36.764Z"
   },
   {
    "duration": 60,
    "start_time": "2025-08-01T07:07:36.778Z"
   },
   {
    "duration": 232,
    "start_time": "2025-08-01T07:07:36.840Z"
   },
   {
    "duration": 211,
    "start_time": "2025-08-01T07:07:37.074Z"
   },
   {
    "duration": 170,
    "start_time": "2025-08-01T07:07:37.287Z"
   },
   {
    "duration": 148,
    "start_time": "2025-08-01T07:07:37.461Z"
   },
   {
    "duration": 224,
    "start_time": "2025-08-01T07:07:37.611Z"
   },
   {
    "duration": 64,
    "start_time": "2025-08-01T07:07:37.839Z"
   },
   {
    "duration": 13,
    "start_time": "2025-08-01T07:07:37.905Z"
   },
   {
    "duration": 223,
    "start_time": "2025-08-01T07:07:37.937Z"
   },
   {
    "duration": 119,
    "start_time": "2025-08-01T07:07:38.163Z"
   },
   {
    "duration": 88,
    "start_time": "2025-08-01T07:07:38.285Z"
   },
   {
    "duration": 734,
    "start_time": "2025-08-01T07:07:38.375Z"
   },
   {
    "duration": 7,
    "start_time": "2025-08-01T07:07:39.111Z"
   },
   {
    "duration": 50,
    "start_time": "2025-08-01T07:07:39.120Z"
   },
   {
    "duration": 10,
    "start_time": "2025-08-01T07:07:39.172Z"
   },
   {
    "duration": 247,
    "start_time": "2025-08-01T07:07:39.183Z"
   },
   {
    "duration": 50,
    "start_time": "2025-08-01T07:07:39.431Z"
   },
   {
    "duration": 322,
    "start_time": "2025-08-01T07:07:39.483Z"
   },
   {
    "duration": 191,
    "start_time": "2025-08-01T07:07:39.807Z"
   },
   {
    "duration": 239,
    "start_time": "2025-08-01T07:07:40.000Z"
   },
   {
    "duration": 210,
    "start_time": "2025-08-01T07:07:40.241Z"
   },
   {
    "duration": 11,
    "start_time": "2025-08-01T07:07:40.454Z"
   },
   {
    "duration": 170,
    "start_time": "2025-08-01T07:07:40.467Z"
   },
   {
    "duration": 4,
    "start_time": "2025-08-01T07:07:40.639Z"
   },
   {
    "duration": 47,
    "start_time": "2025-08-01T07:07:40.646Z"
   },
   {
    "duration": 201,
    "start_time": "2025-08-01T07:07:40.695Z"
   },
   {
    "duration": 76,
    "start_time": "2025-08-01T07:07:40.898Z"
   },
   {
    "duration": 5,
    "start_time": "2025-08-01T07:07:40.976Z"
   },
   {
    "duration": 136,
    "start_time": "2025-08-01T07:07:40.982Z"
   },
   {
    "duration": 60,
    "start_time": "2025-08-01T07:07:41.120Z"
   },
   {
    "duration": 57,
    "start_time": "2025-08-01T07:07:41.182Z"
   },
   {
    "duration": 123,
    "start_time": "2025-08-01T07:07:41.242Z"
   },
   {
    "duration": 229,
    "start_time": "2025-08-01T07:07:41.367Z"
   },
   {
    "duration": 159,
    "start_time": "2025-08-01T07:07:41.599Z"
   },
   {
    "duration": 3451,
    "start_time": "2025-08-01T07:38:09.400Z"
   },
   {
    "duration": 2538,
    "start_time": "2025-08-01T07:38:12.854Z"
   },
   {
    "duration": 2,
    "start_time": "2025-08-01T07:38:15.394Z"
   },
   {
    "duration": 2564,
    "start_time": "2025-08-01T07:38:15.399Z"
   },
   {
    "duration": 4,
    "start_time": "2025-08-01T07:38:17.965Z"
   },
   {
    "duration": 119,
    "start_time": "2025-08-01T07:38:17.971Z"
   },
   {
    "duration": 8,
    "start_time": "2025-08-01T07:38:18.093Z"
   },
   {
    "duration": 74,
    "start_time": "2025-08-01T07:38:18.103Z"
   },
   {
    "duration": 222,
    "start_time": "2025-08-01T07:38:18.179Z"
   },
   {
    "duration": 210,
    "start_time": "2025-08-01T07:38:18.404Z"
   },
   {
    "duration": 178,
    "start_time": "2025-08-01T07:38:18.616Z"
   },
   {
    "duration": 143,
    "start_time": "2025-08-01T07:38:18.796Z"
   },
   {
    "duration": 151,
    "start_time": "2025-08-01T07:38:18.949Z"
   },
   {
    "duration": 73,
    "start_time": "2025-08-01T07:38:19.102Z"
   },
   {
    "duration": 14,
    "start_time": "2025-08-01T07:38:19.177Z"
   },
   {
    "duration": 218,
    "start_time": "2025-08-01T07:38:19.193Z"
   },
   {
    "duration": 108,
    "start_time": "2025-08-01T07:38:19.413Z"
   },
   {
    "duration": 74,
    "start_time": "2025-08-01T07:38:19.522Z"
   },
   {
    "duration": 704,
    "start_time": "2025-08-01T07:38:19.598Z"
   },
   {
    "duration": 8,
    "start_time": "2025-08-01T07:38:20.303Z"
   },
   {
    "duration": 23,
    "start_time": "2025-08-01T07:38:20.313Z"
   },
   {
    "duration": 18,
    "start_time": "2025-08-01T07:38:20.338Z"
   },
   {
    "duration": 157,
    "start_time": "2025-08-01T07:38:20.358Z"
   },
   {
    "duration": 62,
    "start_time": "2025-08-01T07:38:20.516Z"
   },
   {
    "duration": 282,
    "start_time": "2025-08-01T07:38:20.579Z"
   },
   {
    "duration": 171,
    "start_time": "2025-08-01T07:38:20.863Z"
   },
   {
    "duration": 233,
    "start_time": "2025-08-01T07:38:21.035Z"
   },
   {
    "duration": 179,
    "start_time": "2025-08-01T07:38:21.272Z"
   },
   {
    "duration": 7,
    "start_time": "2025-08-01T07:38:21.453Z"
   },
   {
    "duration": 131,
    "start_time": "2025-08-01T07:38:21.461Z"
   },
   {
    "duration": 2,
    "start_time": "2025-08-01T07:38:21.594Z"
   },
   {
    "duration": 299,
    "start_time": "2025-08-01T07:38:21.598Z"
   },
   {
    "duration": 151,
    "start_time": "2025-08-01T07:38:21.898Z"
   },
   {
    "duration": 55,
    "start_time": "2025-08-01T07:38:22.051Z"
   },
   {
    "duration": 9,
    "start_time": "2025-08-01T07:38:22.109Z"
   },
   {
    "duration": 134,
    "start_time": "2025-08-01T07:38:22.120Z"
   },
   {
    "duration": 42,
    "start_time": "2025-08-01T07:38:22.255Z"
   },
   {
    "duration": 63,
    "start_time": "2025-08-01T07:38:22.299Z"
   },
   {
    "duration": 52,
    "start_time": "2025-08-01T07:38:22.364Z"
   },
   {
    "duration": 198,
    "start_time": "2025-08-01T07:38:22.418Z"
   },
   {
    "duration": 152,
    "start_time": "2025-08-01T07:38:22.618Z"
   },
   {
    "duration": 3078,
    "start_time": "2025-08-01T08:08:00.365Z"
   },
   {
    "duration": 1404,
    "start_time": "2025-08-01T08:08:03.446Z"
   },
   {
    "duration": 3,
    "start_time": "2025-08-01T08:08:04.852Z"
   },
   {
    "duration": 4064,
    "start_time": "2025-08-01T08:08:04.856Z"
   },
   {
    "duration": 3,
    "start_time": "2025-08-01T08:08:08.922Z"
   },
   {
    "duration": 23,
    "start_time": "2025-08-01T08:08:08.926Z"
   },
   {
    "duration": 11,
    "start_time": "2025-08-01T08:08:08.954Z"
   },
   {
    "duration": 56,
    "start_time": "2025-08-01T08:08:08.967Z"
   },
   {
    "duration": 223,
    "start_time": "2025-08-01T08:08:09.025Z"
   },
   {
    "duration": 207,
    "start_time": "2025-08-01T08:08:09.257Z"
   },
   {
    "duration": 164,
    "start_time": "2025-08-01T08:08:09.466Z"
   },
   {
    "duration": 166,
    "start_time": "2025-08-01T08:08:09.631Z"
   },
   {
    "duration": 177,
    "start_time": "2025-08-01T08:08:09.799Z"
   },
   {
    "duration": 83,
    "start_time": "2025-08-01T08:08:09.977Z"
   },
   {
    "duration": 14,
    "start_time": "2025-08-01T08:08:10.064Z"
   },
   {
    "duration": 302,
    "start_time": "2025-08-01T08:08:10.080Z"
   },
   {
    "duration": 110,
    "start_time": "2025-08-01T08:08:10.384Z"
   },
   {
    "duration": 75,
    "start_time": "2025-08-01T08:08:10.496Z"
   },
   {
    "duration": 625,
    "start_time": "2025-08-01T08:08:10.572Z"
   },
   {
    "duration": 7,
    "start_time": "2025-08-01T08:08:11.199Z"
   },
   {
    "duration": 21,
    "start_time": "2025-08-01T08:08:11.208Z"
   },
   {
    "duration": 18,
    "start_time": "2025-08-01T08:08:11.235Z"
   },
   {
    "duration": 148,
    "start_time": "2025-08-01T08:08:11.258Z"
   },
   {
    "duration": 61,
    "start_time": "2025-08-01T08:08:11.408Z"
   },
   {
    "duration": 343,
    "start_time": "2025-08-01T08:08:11.471Z"
   },
   {
    "duration": 164,
    "start_time": "2025-08-01T08:08:11.816Z"
   },
   {
    "duration": 262,
    "start_time": "2025-08-01T08:08:11.982Z"
   },
   {
    "duration": 181,
    "start_time": "2025-08-01T08:08:12.248Z"
   },
   {
    "duration": 11,
    "start_time": "2025-08-01T08:08:12.434Z"
   },
   {
    "duration": 243,
    "start_time": "2025-08-01T08:08:12.447Z"
   },
   {
    "duration": 3,
    "start_time": "2025-08-01T08:08:12.692Z"
   },
   {
    "duration": 64,
    "start_time": "2025-08-01T08:08:12.696Z"
   },
   {
    "duration": 191,
    "start_time": "2025-08-01T08:08:12.762Z"
   },
   {
    "duration": 66,
    "start_time": "2025-08-01T08:08:12.962Z"
   },
   {
    "duration": 10,
    "start_time": "2025-08-01T08:08:13.030Z"
   },
   {
    "duration": 151,
    "start_time": "2025-08-01T08:08:13.042Z"
   },
   {
    "duration": 61,
    "start_time": "2025-08-01T08:08:13.195Z"
   },
   {
    "duration": 50,
    "start_time": "2025-08-01T08:08:13.259Z"
   },
   {
    "duration": 75,
    "start_time": "2025-08-01T08:08:13.311Z"
   },
   {
    "duration": 272,
    "start_time": "2025-08-01T08:08:13.388Z"
   },
   {
    "duration": 157,
    "start_time": "2025-08-01T08:08:13.662Z"
   },
   {
    "duration": 3476,
    "start_time": "2025-08-01T11:17:33.710Z"
   },
   {
    "duration": 1482,
    "start_time": "2025-08-01T11:17:37.188Z"
   },
   {
    "duration": 3,
    "start_time": "2025-08-01T11:17:38.673Z"
   },
   {
    "duration": 2509,
    "start_time": "2025-08-01T11:17:38.678Z"
   },
   {
    "duration": 3,
    "start_time": "2025-08-01T11:17:41.189Z"
   },
   {
    "duration": 11,
    "start_time": "2025-08-01T11:17:41.194Z"
   },
   {
    "duration": 27,
    "start_time": "2025-08-01T11:17:41.207Z"
   },
   {
    "duration": 105,
    "start_time": "2025-08-01T11:17:41.235Z"
   },
   {
    "duration": 213,
    "start_time": "2025-08-01T11:17:41.342Z"
   },
   {
    "duration": 208,
    "start_time": "2025-08-01T11:17:41.557Z"
   },
   {
    "duration": 169,
    "start_time": "2025-08-01T11:17:41.767Z"
   },
   {
    "duration": 170,
    "start_time": "2025-08-01T11:17:41.938Z"
   },
   {
    "duration": 153,
    "start_time": "2025-08-01T11:17:42.109Z"
   },
   {
    "duration": 59,
    "start_time": "2025-08-01T11:17:42.276Z"
   },
   {
    "duration": 12,
    "start_time": "2025-08-01T11:17:42.337Z"
   },
   {
    "duration": 227,
    "start_time": "2025-08-01T11:17:42.351Z"
   },
   {
    "duration": 108,
    "start_time": "2025-08-01T11:17:42.579Z"
   },
   {
    "duration": 85,
    "start_time": "2025-08-01T11:17:42.689Z"
   },
   {
    "duration": 721,
    "start_time": "2025-08-01T11:17:42.776Z"
   },
   {
    "duration": 8,
    "start_time": "2025-08-01T11:17:43.498Z"
   },
   {
    "duration": 34,
    "start_time": "2025-08-01T11:17:43.507Z"
   },
   {
    "duration": 27,
    "start_time": "2025-08-01T11:17:43.542Z"
   },
   {
    "duration": 249,
    "start_time": "2025-08-01T11:17:43.571Z"
   },
   {
    "duration": 56,
    "start_time": "2025-08-01T11:17:43.822Z"
   },
   {
    "duration": 328,
    "start_time": "2025-08-01T11:17:43.880Z"
   },
   {
    "duration": 169,
    "start_time": "2025-08-01T11:17:44.209Z"
   },
   {
    "duration": 251,
    "start_time": "2025-08-01T11:17:44.380Z"
   },
   {
    "duration": 197,
    "start_time": "2025-08-01T11:17:44.633Z"
   },
   {
    "duration": 9,
    "start_time": "2025-08-01T11:17:44.831Z"
   },
   {
    "duration": 149,
    "start_time": "2025-08-01T11:17:44.842Z"
   },
   {
    "duration": 4,
    "start_time": "2025-08-01T11:17:44.993Z"
   },
   {
    "duration": 105,
    "start_time": "2025-08-01T11:17:44.998Z"
   },
   {
    "duration": 205,
    "start_time": "2025-08-01T11:17:45.105Z"
   },
   {
    "duration": 70,
    "start_time": "2025-08-01T11:17:45.312Z"
   },
   {
    "duration": 52,
    "start_time": "2025-08-01T11:17:45.385Z"
   },
   {
    "duration": 241,
    "start_time": "2025-08-01T11:17:45.439Z"
   },
   {
    "duration": 120,
    "start_time": "2025-08-01T11:17:45.682Z"
   },
   {
    "duration": 47,
    "start_time": "2025-08-01T11:17:45.804Z"
   },
   {
    "duration": 267,
    "start_time": "2025-08-01T11:17:45.853Z"
   },
   {
    "duration": 238,
    "start_time": "2025-08-01T11:17:46.122Z"
   },
   {
    "duration": 149,
    "start_time": "2025-08-01T11:17:46.364Z"
   },
   {
    "duration": 4,
    "start_time": "2025-08-01T11:21:24.535Z"
   },
   {
    "duration": 90,
    "start_time": "2025-08-01T11:22:07.364Z"
   },
   {
    "duration": 121,
    "start_time": "2025-08-01T11:22:36.520Z"
   },
   {
    "duration": 19,
    "start_time": "2025-08-01T11:23:48.063Z"
   },
   {
    "duration": 34,
    "start_time": "2025-08-01T11:24:45.450Z"
   },
   {
    "duration": 31,
    "start_time": "2025-08-01T11:25:41.303Z"
   },
   {
    "duration": 34,
    "start_time": "2025-08-01T11:26:43.040Z"
   },
   {
    "duration": 45,
    "start_time": "2025-08-01T11:30:37.244Z"
   },
   {
    "duration": 14,
    "start_time": "2025-08-01T11:30:49.943Z"
   },
   {
    "duration": 187,
    "start_time": "2025-08-01T11:30:54.101Z"
   },
   {
    "duration": 2482,
    "start_time": "2025-08-01T11:34:34.285Z"
   },
   {
    "duration": 1348,
    "start_time": "2025-08-01T11:34:36.769Z"
   },
   {
    "duration": 3,
    "start_time": "2025-08-01T11:34:38.119Z"
   },
   {
    "duration": 2427,
    "start_time": "2025-08-01T11:34:38.123Z"
   },
   {
    "duration": 3,
    "start_time": "2025-08-01T11:34:40.553Z"
   },
   {
    "duration": 57,
    "start_time": "2025-08-01T11:34:40.557Z"
   },
   {
    "duration": 26,
    "start_time": "2025-08-01T11:34:40.616Z"
   },
   {
    "duration": 126,
    "start_time": "2025-08-01T11:34:40.644Z"
   },
   {
    "duration": 204,
    "start_time": "2025-08-01T11:34:40.772Z"
   },
   {
    "duration": 202,
    "start_time": "2025-08-01T11:34:40.978Z"
   },
   {
    "duration": 167,
    "start_time": "2025-08-01T11:34:41.182Z"
   },
   {
    "duration": 146,
    "start_time": "2025-08-01T11:34:41.351Z"
   },
   {
    "duration": 145,
    "start_time": "2025-08-01T11:34:41.499Z"
   },
   {
    "duration": 134,
    "start_time": "2025-08-01T11:34:41.647Z"
   },
   {
    "duration": 0,
    "start_time": "2025-08-01T11:34:41.783Z"
   },
   {
    "duration": 0,
    "start_time": "2025-08-01T11:34:41.784Z"
   },
   {
    "duration": 0,
    "start_time": "2025-08-01T11:34:41.786Z"
   },
   {
    "duration": 0,
    "start_time": "2025-08-01T11:34:41.787Z"
   },
   {
    "duration": 0,
    "start_time": "2025-08-01T11:34:41.789Z"
   },
   {
    "duration": 0,
    "start_time": "2025-08-01T11:34:41.790Z"
   },
   {
    "duration": 0,
    "start_time": "2025-08-01T11:34:41.791Z"
   },
   {
    "duration": 0,
    "start_time": "2025-08-01T11:34:41.792Z"
   },
   {
    "duration": 0,
    "start_time": "2025-08-01T11:34:41.793Z"
   },
   {
    "duration": 0,
    "start_time": "2025-08-01T11:34:41.795Z"
   },
   {
    "duration": 0,
    "start_time": "2025-08-01T11:34:41.796Z"
   },
   {
    "duration": 0,
    "start_time": "2025-08-01T11:34:41.797Z"
   },
   {
    "duration": 0,
    "start_time": "2025-08-01T11:34:41.798Z"
   },
   {
    "duration": 0,
    "start_time": "2025-08-01T11:34:41.799Z"
   },
   {
    "duration": 0,
    "start_time": "2025-08-01T11:34:41.800Z"
   },
   {
    "duration": 0,
    "start_time": "2025-08-01T11:34:41.801Z"
   },
   {
    "duration": 0,
    "start_time": "2025-08-01T11:34:41.802Z"
   },
   {
    "duration": 0,
    "start_time": "2025-08-01T11:34:41.803Z"
   },
   {
    "duration": 1,
    "start_time": "2025-08-01T11:34:41.803Z"
   },
   {
    "duration": 0,
    "start_time": "2025-08-01T11:34:41.804Z"
   },
   {
    "duration": 0,
    "start_time": "2025-08-01T11:34:41.805Z"
   },
   {
    "duration": 0,
    "start_time": "2025-08-01T11:34:41.806Z"
   },
   {
    "duration": 0,
    "start_time": "2025-08-01T11:34:41.807Z"
   },
   {
    "duration": 0,
    "start_time": "2025-08-01T11:34:41.808Z"
   },
   {
    "duration": 0,
    "start_time": "2025-08-01T11:34:41.809Z"
   },
   {
    "duration": 0,
    "start_time": "2025-08-01T11:34:41.810Z"
   },
   {
    "duration": 0,
    "start_time": "2025-08-01T11:34:41.811Z"
   },
   {
    "duration": 0,
    "start_time": "2025-08-01T11:34:41.812Z"
   },
   {
    "duration": 2469,
    "start_time": "2025-08-01T11:35:08.296Z"
   },
   {
    "duration": 1347,
    "start_time": "2025-08-01T11:35:10.767Z"
   },
   {
    "duration": 3,
    "start_time": "2025-08-01T11:35:12.115Z"
   },
   {
    "duration": 2428,
    "start_time": "2025-08-01T11:35:12.120Z"
   },
   {
    "duration": 2,
    "start_time": "2025-08-01T11:35:14.551Z"
   },
   {
    "duration": 23,
    "start_time": "2025-08-01T11:35:14.555Z"
   },
   {
    "duration": 40,
    "start_time": "2025-08-01T11:35:14.580Z"
   },
   {
    "duration": 78,
    "start_time": "2025-08-01T11:35:14.622Z"
   },
   {
    "duration": 279,
    "start_time": "2025-08-01T11:35:14.701Z"
   },
   {
    "duration": 213,
    "start_time": "2025-08-01T11:35:14.982Z"
   },
   {
    "duration": 163,
    "start_time": "2025-08-01T11:35:15.197Z"
   },
   {
    "duration": 151,
    "start_time": "2025-08-01T11:35:15.361Z"
   },
   {
    "duration": 147,
    "start_time": "2025-08-01T11:35:15.514Z"
   },
   {
    "duration": 108,
    "start_time": "2025-08-01T11:35:15.676Z"
   },
   {
    "duration": 31,
    "start_time": "2025-08-01T11:35:15.786Z"
   },
   {
    "duration": 252,
    "start_time": "2025-08-01T11:35:15.819Z"
   },
   {
    "duration": 160,
    "start_time": "2025-08-01T11:35:16.074Z"
   },
   {
    "duration": 92,
    "start_time": "2025-08-01T11:35:16.236Z"
   },
   {
    "duration": 791,
    "start_time": "2025-08-01T11:35:16.330Z"
   },
   {
    "duration": 9,
    "start_time": "2025-08-01T11:35:17.123Z"
   },
   {
    "duration": 69,
    "start_time": "2025-08-01T11:35:17.134Z"
   },
   {
    "duration": 34,
    "start_time": "2025-08-01T11:35:17.204Z"
   },
   {
    "duration": 190,
    "start_time": "2025-08-01T11:35:17.240Z"
   },
   {
    "duration": 61,
    "start_time": "2025-08-01T11:35:17.431Z"
   },
   {
    "duration": 283,
    "start_time": "2025-08-01T11:35:17.494Z"
   },
   {
    "duration": 162,
    "start_time": "2025-08-01T11:35:17.779Z"
   },
   {
    "duration": 243,
    "start_time": "2025-08-01T11:35:17.943Z"
   },
   {
    "duration": 263,
    "start_time": "2025-08-01T11:35:18.187Z"
   },
   {
    "duration": 8,
    "start_time": "2025-08-01T11:35:18.452Z"
   },
   {
    "duration": 143,
    "start_time": "2025-08-01T11:35:18.477Z"
   },
   {
    "duration": 2,
    "start_time": "2025-08-01T11:35:18.622Z"
   },
   {
    "duration": 244,
    "start_time": "2025-08-01T11:35:18.626Z"
   },
   {
    "duration": 141,
    "start_time": "2025-08-01T11:35:18.872Z"
   },
   {
    "duration": 65,
    "start_time": "2025-08-01T11:35:19.015Z"
   },
   {
    "duration": 110,
    "start_time": "2025-08-01T11:35:19.082Z"
   },
   {
    "duration": 151,
    "start_time": "2025-08-01T11:35:19.193Z"
   },
   {
    "duration": 84,
    "start_time": "2025-08-01T11:35:19.346Z"
   },
   {
    "duration": 54,
    "start_time": "2025-08-01T11:35:19.432Z"
   },
   {
    "duration": 62,
    "start_time": "2025-08-01T11:35:19.488Z"
   },
   {
    "duration": 210,
    "start_time": "2025-08-01T11:35:19.551Z"
   },
   {
    "duration": 166,
    "start_time": "2025-08-01T11:35:19.766Z"
   },
   {
    "duration": 92,
    "start_time": "2025-08-01T11:41:08.033Z"
   },
   {
    "duration": 68,
    "start_time": "2025-08-01T11:42:05.400Z"
   },
   {
    "duration": 20,
    "start_time": "2025-08-01T11:42:34.913Z"
   },
   {
    "duration": 17,
    "start_time": "2025-08-01T11:42:54.983Z"
   },
   {
    "duration": 2404,
    "start_time": "2025-08-01T11:43:33.668Z"
   },
   {
    "duration": 1195,
    "start_time": "2025-08-01T11:43:36.074Z"
   },
   {
    "duration": 2,
    "start_time": "2025-08-01T11:43:37.271Z"
   },
   {
    "duration": 2478,
    "start_time": "2025-08-01T11:43:37.274Z"
   },
   {
    "duration": 5,
    "start_time": "2025-08-01T11:43:39.753Z"
   },
   {
    "duration": 31,
    "start_time": "2025-08-01T11:43:39.759Z"
   },
   {
    "duration": 26,
    "start_time": "2025-08-01T11:43:39.792Z"
   },
   {
    "duration": 72,
    "start_time": "2025-08-01T11:43:39.820Z"
   },
   {
    "duration": 200,
    "start_time": "2025-08-01T11:43:39.893Z"
   },
   {
    "duration": 186,
    "start_time": "2025-08-01T11:43:40.096Z"
   },
   {
    "duration": 163,
    "start_time": "2025-08-01T11:43:40.283Z"
   },
   {
    "duration": 146,
    "start_time": "2025-08-01T11:43:40.447Z"
   },
   {
    "duration": 141,
    "start_time": "2025-08-01T11:43:40.594Z"
   },
   {
    "duration": 66,
    "start_time": "2025-08-01T11:43:40.737Z"
   },
   {
    "duration": 31,
    "start_time": "2025-08-01T11:43:40.805Z"
   },
   {
    "duration": 200,
    "start_time": "2025-08-01T11:43:40.837Z"
   },
   {
    "duration": 111,
    "start_time": "2025-08-01T11:43:41.038Z"
   },
   {
    "duration": 68,
    "start_time": "2025-08-01T11:43:41.151Z"
   },
   {
    "duration": 659,
    "start_time": "2025-08-01T11:43:41.220Z"
   },
   {
    "duration": 7,
    "start_time": "2025-08-01T11:43:41.881Z"
   },
   {
    "duration": 26,
    "start_time": "2025-08-01T11:43:41.890Z"
   },
   {
    "duration": 25,
    "start_time": "2025-08-01T11:43:41.917Z"
   },
   {
    "duration": 185,
    "start_time": "2025-08-01T11:43:41.944Z"
   },
   {
    "duration": 57,
    "start_time": "2025-08-01T11:43:42.131Z"
   },
   {
    "duration": 310,
    "start_time": "2025-08-01T11:43:42.189Z"
   },
   {
    "duration": 152,
    "start_time": "2025-08-01T11:43:42.501Z"
   },
   {
    "duration": 234,
    "start_time": "2025-08-01T11:43:42.655Z"
   },
   {
    "duration": 174,
    "start_time": "2025-08-01T11:43:42.893Z"
   },
   {
    "duration": 22,
    "start_time": "2025-08-01T11:43:43.069Z"
   },
   {
    "duration": 117,
    "start_time": "2025-08-01T11:43:43.092Z"
   },
   {
    "duration": 3,
    "start_time": "2025-08-01T11:43:43.211Z"
   },
   {
    "duration": 76,
    "start_time": "2025-08-01T11:43:43.216Z"
   },
   {
    "duration": 136,
    "start_time": "2025-08-01T11:43:43.293Z"
   },
   {
    "duration": 58,
    "start_time": "2025-08-01T11:43:43.430Z"
   },
   {
    "duration": 9,
    "start_time": "2025-08-01T11:43:43.489Z"
   },
   {
    "duration": 116,
    "start_time": "2025-08-01T11:43:43.499Z"
   },
   {
    "duration": 39,
    "start_time": "2025-08-01T11:43:43.616Z"
   },
   {
    "duration": 60,
    "start_time": "2025-08-01T11:43:43.656Z"
   },
   {
    "duration": 109,
    "start_time": "2025-08-01T11:43:43.718Z"
   },
   {
    "duration": 177,
    "start_time": "2025-08-01T11:43:43.829Z"
   },
   {
    "duration": 136,
    "start_time": "2025-08-01T11:43:44.008Z"
   },
   {
    "duration": 134,
    "start_time": "2025-08-01T11:43:44.145Z"
   },
   {
    "duration": 29,
    "start_time": "2025-08-01T11:43:44.280Z"
   },
   {
    "duration": 38,
    "start_time": "2025-08-01T11:44:39.989Z"
   },
   {
    "duration": 138,
    "start_time": "2025-08-01T11:45:03.503Z"
   },
   {
    "duration": 54,
    "start_time": "2025-08-01T11:45:11.519Z"
   },
   {
    "duration": 18,
    "start_time": "2025-08-01T11:45:21.256Z"
   },
   {
    "duration": 29,
    "start_time": "2025-08-01T11:46:10.251Z"
   },
   {
    "duration": 22,
    "start_time": "2025-08-01T11:48:52.175Z"
   },
   {
    "duration": 33,
    "start_time": "2025-08-01T11:48:56.611Z"
   },
   {
    "duration": 18,
    "start_time": "2025-08-01T11:49:04.214Z"
   },
   {
    "duration": 34,
    "start_time": "2025-08-01T11:50:06.605Z"
   },
   {
    "duration": 2461,
    "start_time": "2025-08-01T11:54:37.677Z"
   },
   {
    "duration": 1231,
    "start_time": "2025-08-01T11:54:40.141Z"
   },
   {
    "duration": 3,
    "start_time": "2025-08-01T11:54:41.374Z"
   },
   {
    "duration": 2708,
    "start_time": "2025-08-01T11:54:41.378Z"
   },
   {
    "duration": 3,
    "start_time": "2025-08-01T11:54:44.087Z"
   },
   {
    "duration": 44,
    "start_time": "2025-08-01T11:54:44.092Z"
   },
   {
    "duration": 151,
    "start_time": "2025-08-01T11:54:44.137Z"
   },
   {
    "duration": 58,
    "start_time": "2025-08-01T11:54:44.289Z"
   },
   {
    "duration": 187,
    "start_time": "2025-08-01T11:54:44.348Z"
   },
   {
    "duration": 191,
    "start_time": "2025-08-01T11:54:44.538Z"
   },
   {
    "duration": 169,
    "start_time": "2025-08-01T11:54:44.731Z"
   },
   {
    "duration": 148,
    "start_time": "2025-08-01T11:54:44.901Z"
   },
   {
    "duration": 149,
    "start_time": "2025-08-01T11:54:45.050Z"
   },
   {
    "duration": 58,
    "start_time": "2025-08-01T11:54:45.201Z"
   },
   {
    "duration": 56,
    "start_time": "2025-08-01T11:54:45.261Z"
   },
   {
    "duration": 218,
    "start_time": "2025-08-01T11:54:45.319Z"
   },
   {
    "duration": 108,
    "start_time": "2025-08-01T11:54:45.539Z"
   },
   {
    "duration": 64,
    "start_time": "2025-08-01T11:54:45.649Z"
   },
   {
    "duration": 671,
    "start_time": "2025-08-01T11:54:45.715Z"
   },
   {
    "duration": 7,
    "start_time": "2025-08-01T11:54:46.389Z"
   },
   {
    "duration": 74,
    "start_time": "2025-08-01T11:54:46.397Z"
   },
   {
    "duration": 51,
    "start_time": "2025-08-01T11:54:46.473Z"
   },
   {
    "duration": 180,
    "start_time": "2025-08-01T11:54:46.526Z"
   },
   {
    "duration": 49,
    "start_time": "2025-08-01T11:54:46.707Z"
   },
   {
    "duration": 329,
    "start_time": "2025-08-01T11:54:46.758Z"
   },
   {
    "duration": 158,
    "start_time": "2025-08-01T11:54:47.088Z"
   },
   {
    "duration": 224,
    "start_time": "2025-08-01T11:54:47.247Z"
   },
   {
    "duration": 166,
    "start_time": "2025-08-01T11:54:47.475Z"
   },
   {
    "duration": 15,
    "start_time": "2025-08-01T11:54:47.643Z"
   },
   {
    "duration": 126,
    "start_time": "2025-08-01T11:54:47.660Z"
   },
   {
    "duration": 18,
    "start_time": "2025-08-01T11:54:47.788Z"
   },
   {
    "duration": 91,
    "start_time": "2025-08-01T11:54:47.808Z"
   },
   {
    "duration": 146,
    "start_time": "2025-08-01T11:54:47.902Z"
   },
   {
    "duration": 65,
    "start_time": "2025-08-01T11:54:48.050Z"
   },
   {
    "duration": 160,
    "start_time": "2025-08-01T11:54:48.117Z"
   },
   {
    "duration": 140,
    "start_time": "2025-08-01T11:54:48.279Z"
   },
   {
    "duration": 57,
    "start_time": "2025-08-01T11:54:48.421Z"
   },
   {
    "duration": 53,
    "start_time": "2025-08-01T11:54:48.480Z"
   },
   {
    "duration": 56,
    "start_time": "2025-08-01T11:54:48.534Z"
   },
   {
    "duration": 194,
    "start_time": "2025-08-01T11:54:48.592Z"
   },
   {
    "duration": 134,
    "start_time": "2025-08-01T11:54:48.787Z"
   },
   {
    "duration": 20,
    "start_time": "2025-08-01T11:54:48.922Z"
   },
   {
    "duration": 66,
    "start_time": "2025-08-01T11:54:48.943Z"
   },
   {
    "duration": 31,
    "start_time": "2025-08-01T11:54:49.011Z"
   },
   {
    "duration": 2526,
    "start_time": "2025-08-01T12:15:40.141Z"
   },
   {
    "duration": 1217,
    "start_time": "2025-08-01T12:15:42.670Z"
   },
   {
    "duration": 3,
    "start_time": "2025-08-01T12:15:43.889Z"
   },
   {
    "duration": 2341,
    "start_time": "2025-08-01T12:15:43.893Z"
   },
   {
    "duration": 3,
    "start_time": "2025-08-01T12:15:46.236Z"
   },
   {
    "duration": 54,
    "start_time": "2025-08-01T12:15:46.241Z"
   },
   {
    "duration": 157,
    "start_time": "2025-08-01T12:15:46.297Z"
   },
   {
    "duration": 60,
    "start_time": "2025-08-01T12:15:46.456Z"
   },
   {
    "duration": 236,
    "start_time": "2025-08-01T12:15:46.517Z"
   },
   {
    "duration": 202,
    "start_time": "2025-08-01T12:15:46.755Z"
   },
   {
    "duration": 185,
    "start_time": "2025-08-01T12:15:46.959Z"
   },
   {
    "duration": 158,
    "start_time": "2025-08-01T12:15:47.145Z"
   },
   {
    "duration": 157,
    "start_time": "2025-08-01T12:15:47.305Z"
   },
   {
    "duration": 60,
    "start_time": "2025-08-01T12:15:47.475Z"
   },
   {
    "duration": 12,
    "start_time": "2025-08-01T12:15:47.537Z"
   },
   {
    "duration": 221,
    "start_time": "2025-08-01T12:15:47.551Z"
   },
   {
    "duration": 104,
    "start_time": "2025-08-01T12:15:47.774Z"
   },
   {
    "duration": 87,
    "start_time": "2025-08-01T12:15:47.880Z"
   },
   {
    "duration": 638,
    "start_time": "2025-08-01T12:15:47.969Z"
   },
   {
    "duration": 8,
    "start_time": "2025-08-01T12:15:48.609Z"
   },
   {
    "duration": 30,
    "start_time": "2025-08-01T12:15:48.619Z"
   },
   {
    "duration": 27,
    "start_time": "2025-08-01T12:15:48.650Z"
   },
   {
    "duration": 152,
    "start_time": "2025-08-01T12:15:48.678Z"
   },
   {
    "duration": 57,
    "start_time": "2025-08-01T12:15:48.832Z"
   },
   {
    "duration": 279,
    "start_time": "2025-08-01T12:15:48.891Z"
   },
   {
    "duration": 160,
    "start_time": "2025-08-01T12:15:49.172Z"
   },
   {
    "duration": 233,
    "start_time": "2025-08-01T12:15:49.334Z"
   },
   {
    "duration": 188,
    "start_time": "2025-08-01T12:15:49.569Z"
   },
   {
    "duration": 19,
    "start_time": "2025-08-01T12:15:49.759Z"
   },
   {
    "duration": 239,
    "start_time": "2025-08-01T12:15:49.780Z"
   },
   {
    "duration": 3,
    "start_time": "2025-08-01T12:15:50.020Z"
   },
   {
    "duration": 86,
    "start_time": "2025-08-01T12:15:50.025Z"
   },
   {
    "duration": 153,
    "start_time": "2025-08-01T12:15:50.112Z"
   },
   {
    "duration": 61,
    "start_time": "2025-08-01T12:15:50.266Z"
   },
   {
    "duration": 204,
    "start_time": "2025-08-01T12:15:50.329Z"
   },
   {
    "duration": 163,
    "start_time": "2025-08-01T12:15:50.535Z"
   },
   {
    "duration": 46,
    "start_time": "2025-08-01T12:15:50.700Z"
   },
   {
    "duration": 47,
    "start_time": "2025-08-01T12:15:50.748Z"
   },
   {
    "duration": 42,
    "start_time": "2025-08-01T12:15:50.797Z"
   },
   {
    "duration": 197,
    "start_time": "2025-08-01T12:15:50.841Z"
   },
   {
    "duration": 142,
    "start_time": "2025-08-01T12:15:51.042Z"
   },
   {
    "duration": 19,
    "start_time": "2025-08-01T12:15:51.185Z"
   },
   {
    "duration": 99,
    "start_time": "2025-08-01T12:15:51.206Z"
   },
   {
    "duration": 36,
    "start_time": "2025-08-01T12:15:51.307Z"
   },
   {
    "duration": 100,
    "start_time": "2025-08-01T12:24:46.856Z"
   },
   {
    "duration": 101,
    "start_time": "2025-08-01T12:25:19.693Z"
   },
   {
    "duration": 12,
    "start_time": "2025-08-01T12:26:29.235Z"
   },
   {
    "duration": 34,
    "start_time": "2025-08-01T12:26:55.664Z"
   },
   {
    "duration": 105,
    "start_time": "2025-08-01T12:40:16.433Z"
   },
   {
    "duration": 32,
    "start_time": "2025-08-01T12:40:28.119Z"
   },
   {
    "duration": 27,
    "start_time": "2025-08-01T12:40:30.302Z"
   },
   {
    "duration": 22,
    "start_time": "2025-08-01T12:40:53.460Z"
   },
   {
    "duration": 22,
    "start_time": "2025-08-01T12:43:32.412Z"
   },
   {
    "duration": 24,
    "start_time": "2025-08-01T12:43:53.377Z"
   },
   {
    "duration": 15,
    "start_time": "2025-08-01T12:47:17.355Z"
   },
   {
    "duration": 2359,
    "start_time": "2025-08-01T12:47:56.827Z"
   },
   {
    "duration": 1190,
    "start_time": "2025-08-01T12:47:59.188Z"
   },
   {
    "duration": 3,
    "start_time": "2025-08-01T12:48:00.379Z"
   },
   {
    "duration": 2161,
    "start_time": "2025-08-01T12:48:00.383Z"
   },
   {
    "duration": 3,
    "start_time": "2025-08-01T12:48:02.546Z"
   },
   {
    "duration": 146,
    "start_time": "2025-08-01T12:48:02.551Z"
   },
   {
    "duration": 89,
    "start_time": "2025-08-01T12:48:02.698Z"
   },
   {
    "duration": 172,
    "start_time": "2025-08-01T12:48:02.789Z"
   },
   {
    "duration": 187,
    "start_time": "2025-08-01T12:48:02.963Z"
   },
   {
    "duration": 197,
    "start_time": "2025-08-01T12:48:03.152Z"
   },
   {
    "duration": 165,
    "start_time": "2025-08-01T12:48:03.350Z"
   },
   {
    "duration": 138,
    "start_time": "2025-08-01T12:48:03.517Z"
   },
   {
    "duration": 151,
    "start_time": "2025-08-01T12:48:03.657Z"
   },
   {
    "duration": 69,
    "start_time": "2025-08-01T12:48:03.812Z"
   },
   {
    "duration": 12,
    "start_time": "2025-08-01T12:48:03.883Z"
   },
   {
    "duration": 290,
    "start_time": "2025-08-01T12:48:03.897Z"
   },
   {
    "duration": 109,
    "start_time": "2025-08-01T12:48:04.188Z"
   },
   {
    "duration": 57,
    "start_time": "2025-08-01T12:48:04.299Z"
   },
   {
    "duration": 632,
    "start_time": "2025-08-01T12:48:04.358Z"
   },
   {
    "duration": 7,
    "start_time": "2025-08-01T12:48:04.992Z"
   },
   {
    "duration": 127,
    "start_time": "2025-08-01T12:48:05.001Z"
   },
   {
    "duration": 72,
    "start_time": "2025-08-01T12:48:05.129Z"
   },
   {
    "duration": 162,
    "start_time": "2025-08-01T12:48:05.202Z"
   },
   {
    "duration": 51,
    "start_time": "2025-08-01T12:48:05.365Z"
   },
   {
    "duration": 263,
    "start_time": "2025-08-01T12:48:05.417Z"
   },
   {
    "duration": 167,
    "start_time": "2025-08-01T12:48:05.682Z"
   },
   {
    "duration": 241,
    "start_time": "2025-08-01T12:48:05.851Z"
   },
   {
    "duration": 190,
    "start_time": "2025-08-01T12:48:06.094Z"
   },
   {
    "duration": 8,
    "start_time": "2025-08-01T12:48:06.286Z"
   },
   {
    "duration": 458,
    "start_time": "2025-08-01T12:48:06.296Z"
   },
   {
    "duration": 98,
    "start_time": "2025-08-01T12:48:06.756Z"
   },
   {
    "duration": 92,
    "start_time": "2025-08-01T12:48:06.856Z"
   },
   {
    "duration": 126,
    "start_time": "2025-08-01T12:48:06.950Z"
   },
   {
    "duration": 51,
    "start_time": "2025-08-01T12:48:07.078Z"
   },
   {
    "duration": 66,
    "start_time": "2025-08-01T12:48:07.130Z"
   },
   {
    "duration": 105,
    "start_time": "2025-08-01T12:48:07.197Z"
   },
   {
    "duration": 40,
    "start_time": "2025-08-01T12:48:07.304Z"
   },
   {
    "duration": 51,
    "start_time": "2025-08-01T12:48:07.345Z"
   },
   {
    "duration": 82,
    "start_time": "2025-08-01T12:48:07.397Z"
   },
   {
    "duration": 181,
    "start_time": "2025-08-01T12:48:07.480Z"
   },
   {
    "duration": 112,
    "start_time": "2025-08-01T12:48:07.665Z"
   },
   {
    "duration": 0,
    "start_time": "2025-08-01T12:48:07.779Z"
   },
   {
    "duration": 0,
    "start_time": "2025-08-01T12:48:07.781Z"
   },
   {
    "duration": 0,
    "start_time": "2025-08-01T12:48:07.782Z"
   },
   {
    "duration": 0,
    "start_time": "2025-08-01T12:48:07.783Z"
   },
   {
    "duration": 0,
    "start_time": "2025-08-01T12:48:07.783Z"
   },
   {
    "duration": 0,
    "start_time": "2025-08-01T12:48:07.785Z"
   },
   {
    "duration": 130,
    "start_time": "2025-08-01T12:50:03.393Z"
   },
   {
    "duration": 2414,
    "start_time": "2025-08-01T12:50:09.263Z"
   },
   {
    "duration": 1187,
    "start_time": "2025-08-01T12:50:11.680Z"
   },
   {
    "duration": 3,
    "start_time": "2025-08-01T12:50:12.868Z"
   },
   {
    "duration": 1844,
    "start_time": "2025-08-01T12:50:12.873Z"
   },
   {
    "duration": 4,
    "start_time": "2025-08-01T12:50:14.718Z"
   },
   {
    "duration": 60,
    "start_time": "2025-08-01T12:50:14.724Z"
   },
   {
    "duration": 23,
    "start_time": "2025-08-01T12:50:14.786Z"
   },
   {
    "duration": 77,
    "start_time": "2025-08-01T12:50:14.810Z"
   },
   {
    "duration": 204,
    "start_time": "2025-08-01T12:50:14.888Z"
   },
   {
    "duration": 194,
    "start_time": "2025-08-01T12:50:15.096Z"
   },
   {
    "duration": 155,
    "start_time": "2025-08-01T12:50:15.292Z"
   },
   {
    "duration": 138,
    "start_time": "2025-08-01T12:50:15.449Z"
   },
   {
    "duration": 143,
    "start_time": "2025-08-01T12:50:15.589Z"
   },
   {
    "duration": 68,
    "start_time": "2025-08-01T12:50:15.733Z"
   },
   {
    "duration": 14,
    "start_time": "2025-08-01T12:50:15.803Z"
   },
   {
    "duration": 313,
    "start_time": "2025-08-01T12:50:15.819Z"
   },
   {
    "duration": 111,
    "start_time": "2025-08-01T12:50:16.134Z"
   },
   {
    "duration": 69,
    "start_time": "2025-08-01T12:50:16.247Z"
   },
   {
    "duration": 666,
    "start_time": "2025-08-01T12:50:16.318Z"
   },
   {
    "duration": 7,
    "start_time": "2025-08-01T12:50:16.985Z"
   },
   {
    "duration": 132,
    "start_time": "2025-08-01T12:50:16.993Z"
   },
   {
    "duration": 68,
    "start_time": "2025-08-01T12:50:17.126Z"
   },
   {
    "duration": 147,
    "start_time": "2025-08-01T12:50:17.195Z"
   },
   {
    "duration": 53,
    "start_time": "2025-08-01T12:50:17.343Z"
   },
   {
    "duration": 266,
    "start_time": "2025-08-01T12:50:17.398Z"
   },
   {
    "duration": 152,
    "start_time": "2025-08-01T12:50:17.666Z"
   },
   {
    "duration": 235,
    "start_time": "2025-08-01T12:50:17.819Z"
   },
   {
    "duration": 191,
    "start_time": "2025-08-01T12:50:18.057Z"
   },
   {
    "duration": 7,
    "start_time": "2025-08-01T12:50:18.250Z"
   },
   {
    "duration": 143,
    "start_time": "2025-08-01T12:50:18.258Z"
   },
   {
    "duration": 3,
    "start_time": "2025-08-01T12:50:18.403Z"
   },
   {
    "duration": 109,
    "start_time": "2025-08-01T12:50:18.407Z"
   },
   {
    "duration": 313,
    "start_time": "2025-08-01T12:50:18.517Z"
   },
   {
    "duration": 60,
    "start_time": "2025-08-01T12:50:18.832Z"
   },
   {
    "duration": 18,
    "start_time": "2025-08-01T12:50:18.894Z"
   },
   {
    "duration": 124,
    "start_time": "2025-08-01T12:50:18.914Z"
   },
   {
    "duration": 57,
    "start_time": "2025-08-01T12:50:19.040Z"
   },
   {
    "duration": 54,
    "start_time": "2025-08-01T12:50:19.100Z"
   },
   {
    "duration": 79,
    "start_time": "2025-08-01T12:50:19.156Z"
   },
   {
    "duration": 178,
    "start_time": "2025-08-01T12:50:19.237Z"
   },
   {
    "duration": 139,
    "start_time": "2025-08-01T12:50:19.417Z"
   },
   {
    "duration": 23,
    "start_time": "2025-08-01T12:50:19.557Z"
   },
   {
    "duration": 83,
    "start_time": "2025-08-01T12:50:19.582Z"
   },
   {
    "duration": 48,
    "start_time": "2025-08-01T12:50:19.667Z"
   },
   {
    "duration": 34,
    "start_time": "2025-08-01T12:50:19.717Z"
   },
   {
    "duration": 30,
    "start_time": "2025-08-01T12:50:19.754Z"
   },
   {
    "duration": 26,
    "start_time": "2025-08-01T12:50:19.787Z"
   },
   {
    "duration": 9,
    "start_time": "2025-08-01T12:51:13.568Z"
   },
   {
    "duration": 10,
    "start_time": "2025-08-01T12:51:21.611Z"
   },
   {
    "duration": 10,
    "start_time": "2025-08-01T12:51:48.789Z"
   },
   {
    "duration": 110,
    "start_time": "2025-08-01T12:51:58.161Z"
   },
   {
    "duration": 11,
    "start_time": "2025-08-01T12:52:03.757Z"
   },
   {
    "duration": 11,
    "start_time": "2025-08-01T12:53:23.485Z"
   },
   {
    "duration": 9,
    "start_time": "2025-08-01T12:53:29.536Z"
   },
   {
    "duration": 134,
    "start_time": "2025-08-01T12:56:13.678Z"
   },
   {
    "duration": 112,
    "start_time": "2025-08-01T12:56:22.431Z"
   },
   {
    "duration": 208,
    "start_time": "2025-08-01T12:56:41.607Z"
   },
   {
    "duration": 17265,
    "start_time": "2025-08-01T13:00:38.726Z"
   },
   {
    "duration": 19477,
    "start_time": "2025-08-01T13:01:03.113Z"
   },
   {
    "duration": 477,
    "start_time": "2025-08-01T13:03:35.417Z"
   },
   {
    "duration": 533,
    "start_time": "2025-08-01T13:03:47.894Z"
   },
   {
    "duration": 19,
    "start_time": "2025-08-01T13:04:16.430Z"
   },
   {
    "duration": 3413,
    "start_time": "2025-08-01T13:04:31.596Z"
   },
   {
    "duration": 11,
    "start_time": "2025-08-01T13:06:34.395Z"
   },
   {
    "duration": 35,
    "start_time": "2025-08-01T13:06:43.637Z"
   },
   {
    "duration": 7,
    "start_time": "2025-08-01T13:07:22.466Z"
   },
   {
    "duration": 9,
    "start_time": "2025-08-01T13:07:42.376Z"
   },
   {
    "duration": 13,
    "start_time": "2025-08-01T13:07:56.044Z"
   },
   {
    "duration": 10,
    "start_time": "2025-08-01T13:08:01.553Z"
   },
   {
    "duration": 9,
    "start_time": "2025-08-01T13:08:17.893Z"
   },
   {
    "duration": 5,
    "start_time": "2025-08-01T13:09:08.530Z"
   },
   {
    "duration": 13,
    "start_time": "2025-08-01T13:09:43.809Z"
   },
   {
    "duration": 11,
    "start_time": "2025-08-01T13:11:53.618Z"
   },
   {
    "duration": 6,
    "start_time": "2025-08-01T13:11:57.704Z"
   },
   {
    "duration": 7,
    "start_time": "2025-08-01T13:12:08.196Z"
   },
   {
    "duration": 10,
    "start_time": "2025-08-01T13:17:41.510Z"
   },
   {
    "duration": 32,
    "start_time": "2025-08-01T13:18:29.665Z"
   },
   {
    "duration": 59,
    "start_time": "2025-08-01T13:18:39.056Z"
   },
   {
    "duration": 51,
    "start_time": "2025-08-01T13:24:33.309Z"
   },
   {
    "duration": 73,
    "start_time": "2025-08-01T13:24:39.538Z"
   },
   {
    "duration": 67,
    "start_time": "2025-08-01T13:24:45.396Z"
   },
   {
    "duration": 3591,
    "start_time": "2025-08-02T06:01:25.150Z"
   },
   {
    "duration": 1364,
    "start_time": "2025-08-02T06:01:28.743Z"
   },
   {
    "duration": 3,
    "start_time": "2025-08-02T06:01:30.109Z"
   },
   {
    "duration": 2546,
    "start_time": "2025-08-02T06:01:30.113Z"
   },
   {
    "duration": 2,
    "start_time": "2025-08-02T06:01:32.661Z"
   },
   {
    "duration": 24,
    "start_time": "2025-08-02T06:01:32.665Z"
   },
   {
    "duration": 26,
    "start_time": "2025-08-02T06:01:32.690Z"
   },
   {
    "duration": 96,
    "start_time": "2025-08-02T06:01:32.718Z"
   },
   {
    "duration": 188,
    "start_time": "2025-08-02T06:01:32.816Z"
   },
   {
    "duration": 203,
    "start_time": "2025-08-02T06:01:33.006Z"
   },
   {
    "duration": 160,
    "start_time": "2025-08-02T06:01:33.210Z"
   },
   {
    "duration": 145,
    "start_time": "2025-08-02T06:01:33.371Z"
   },
   {
    "duration": 155,
    "start_time": "2025-08-02T06:01:33.519Z"
   },
   {
    "duration": 72,
    "start_time": "2025-08-02T06:01:33.678Z"
   },
   {
    "duration": 15,
    "start_time": "2025-08-02T06:01:33.752Z"
   },
   {
    "duration": 239,
    "start_time": "2025-08-02T06:01:33.768Z"
   },
   {
    "duration": 113,
    "start_time": "2025-08-02T06:01:34.009Z"
   },
   {
    "duration": 67,
    "start_time": "2025-08-02T06:01:34.124Z"
   },
   {
    "duration": 632,
    "start_time": "2025-08-02T06:01:34.193Z"
   },
   {
    "duration": 12,
    "start_time": "2025-08-02T06:01:34.827Z"
   },
   {
    "duration": 32,
    "start_time": "2025-08-02T06:01:34.841Z"
   },
   {
    "duration": 113,
    "start_time": "2025-08-02T06:01:34.874Z"
   },
   {
    "duration": 138,
    "start_time": "2025-08-02T06:01:34.989Z"
   },
   {
    "duration": 58,
    "start_time": "2025-08-02T06:01:35.128Z"
   },
   {
    "duration": 514,
    "start_time": "2025-08-02T06:01:35.188Z"
   },
   {
    "duration": 155,
    "start_time": "2025-08-02T06:01:35.703Z"
   },
   {
    "duration": 229,
    "start_time": "2025-08-02T06:01:35.860Z"
   },
   {
    "duration": 184,
    "start_time": "2025-08-02T06:01:36.091Z"
   },
   {
    "duration": 9,
    "start_time": "2025-08-02T06:01:36.277Z"
   },
   {
    "duration": 123,
    "start_time": "2025-08-02T06:01:36.288Z"
   },
   {
    "duration": 4,
    "start_time": "2025-08-02T06:01:36.413Z"
   },
   {
    "duration": 72,
    "start_time": "2025-08-02T06:01:36.419Z"
   },
   {
    "duration": 134,
    "start_time": "2025-08-02T06:01:36.493Z"
   },
   {
    "duration": 60,
    "start_time": "2025-08-02T06:01:36.629Z"
   },
   {
    "duration": 4,
    "start_time": "2025-08-02T06:01:36.690Z"
   },
   {
    "duration": 118,
    "start_time": "2025-08-02T06:01:36.696Z"
   },
   {
    "duration": 48,
    "start_time": "2025-08-02T06:01:36.815Z"
   },
   {
    "duration": 35,
    "start_time": "2025-08-02T06:01:36.864Z"
   },
   {
    "duration": 115,
    "start_time": "2025-08-02T06:01:36.900Z"
   },
   {
    "duration": 170,
    "start_time": "2025-08-02T06:01:37.016Z"
   },
   {
    "duration": 147,
    "start_time": "2025-08-02T06:01:37.190Z"
   },
   {
    "duration": 18,
    "start_time": "2025-08-02T06:01:37.339Z"
   },
   {
    "duration": 63,
    "start_time": "2025-08-02T06:01:37.359Z"
   },
   {
    "duration": 46,
    "start_time": "2025-08-02T06:01:37.423Z"
   },
   {
    "duration": 39,
    "start_time": "2025-08-02T06:01:37.471Z"
   },
   {
    "duration": 31,
    "start_time": "2025-08-02T06:01:37.512Z"
   },
   {
    "duration": 24,
    "start_time": "2025-08-02T06:01:37.544Z"
   },
   {
    "duration": 9,
    "start_time": "2025-08-02T06:01:37.569Z"
   },
   {
    "duration": 19,
    "start_time": "2025-08-02T06:01:37.580Z"
   },
   {
    "duration": 6,
    "start_time": "2025-08-02T06:01:37.601Z"
   },
   {
    "duration": 754,
    "start_time": "2025-08-02T06:01:37.608Z"
   },
   {
    "duration": 74,
    "start_time": "2025-08-02T06:01:38.363Z"
   },
   {
    "duration": 26,
    "start_time": "2025-08-02T06:06:31.374Z"
   },
   {
    "duration": 614,
    "start_time": "2025-08-02T06:13:48.357Z"
   },
   {
    "duration": 8,
    "start_time": "2025-08-02T06:24:20.921Z"
   },
   {
    "duration": 756,
    "start_time": "2025-08-02T06:25:03.851Z"
   },
   {
    "duration": 683,
    "start_time": "2025-08-02T06:25:11.529Z"
   },
   {
    "duration": 10,
    "start_time": "2025-08-02T06:26:29.784Z"
   },
   {
    "duration": 1500,
    "start_time": "2025-08-02T06:27:38.032Z"
   },
   {
    "duration": 4,
    "start_time": "2025-08-02T06:27:53.876Z"
   },
   {
    "duration": 5,
    "start_time": "2025-08-02T06:28:02.527Z"
   },
   {
    "duration": 9,
    "start_time": "2025-08-02T06:28:31.229Z"
   },
   {
    "duration": 8,
    "start_time": "2025-08-02T06:28:43.667Z"
   },
   {
    "duration": 478,
    "start_time": "2025-08-02T06:30:25.832Z"
   },
   {
    "duration": 7,
    "start_time": "2025-08-02T06:32:15.541Z"
   },
   {
    "duration": 8,
    "start_time": "2025-08-02T06:32:44.796Z"
   },
   {
    "duration": 2749,
    "start_time": "2025-08-02T06:33:17.533Z"
   },
   {
    "duration": 1507,
    "start_time": "2025-08-02T06:33:20.285Z"
   },
   {
    "duration": 2,
    "start_time": "2025-08-02T06:33:21.794Z"
   },
   {
    "duration": 2794,
    "start_time": "2025-08-02T06:33:21.799Z"
   },
   {
    "duration": 4,
    "start_time": "2025-08-02T06:33:24.595Z"
   },
   {
    "duration": 10,
    "start_time": "2025-08-02T06:33:24.600Z"
   },
   {
    "duration": 29,
    "start_time": "2025-08-02T06:33:24.612Z"
   },
   {
    "duration": 57,
    "start_time": "2025-08-02T06:33:24.643Z"
   },
   {
    "duration": 208,
    "start_time": "2025-08-02T06:33:24.702Z"
   },
   {
    "duration": 209,
    "start_time": "2025-08-02T06:33:24.912Z"
   },
   {
    "duration": 206,
    "start_time": "2025-08-02T06:33:25.123Z"
   },
   {
    "duration": 140,
    "start_time": "2025-08-02T06:33:25.331Z"
   },
   {
    "duration": 146,
    "start_time": "2025-08-02T06:33:25.473Z"
   },
   {
    "duration": 66,
    "start_time": "2025-08-02T06:33:25.621Z"
   },
   {
    "duration": 14,
    "start_time": "2025-08-02T06:33:25.689Z"
   },
   {
    "duration": 219,
    "start_time": "2025-08-02T06:33:25.705Z"
   },
   {
    "duration": 115,
    "start_time": "2025-08-02T06:33:25.926Z"
   },
   {
    "duration": 59,
    "start_time": "2025-08-02T06:33:26.043Z"
   },
   {
    "duration": 654,
    "start_time": "2025-08-02T06:33:26.104Z"
   },
   {
    "duration": 9,
    "start_time": "2025-08-02T06:33:26.760Z"
   },
   {
    "duration": 13,
    "start_time": "2025-08-02T06:33:26.771Z"
   },
   {
    "duration": 16,
    "start_time": "2025-08-02T06:33:26.786Z"
   },
   {
    "duration": 163,
    "start_time": "2025-08-02T06:33:26.804Z"
   },
   {
    "duration": 50,
    "start_time": "2025-08-02T06:33:26.969Z"
   },
   {
    "duration": 304,
    "start_time": "2025-08-02T06:33:27.034Z"
   },
   {
    "duration": 168,
    "start_time": "2025-08-02T06:33:27.340Z"
   },
   {
    "duration": 250,
    "start_time": "2025-08-02T06:33:27.511Z"
   },
   {
    "duration": 184,
    "start_time": "2025-08-02T06:33:27.765Z"
   },
   {
    "duration": 7,
    "start_time": "2025-08-02T06:33:27.951Z"
   },
   {
    "duration": 121,
    "start_time": "2025-08-02T06:33:27.959Z"
   },
   {
    "duration": 3,
    "start_time": "2025-08-02T06:33:28.082Z"
   },
   {
    "duration": 59,
    "start_time": "2025-08-02T06:33:28.086Z"
   },
   {
    "duration": 200,
    "start_time": "2025-08-02T06:33:28.147Z"
   },
   {
    "duration": 54,
    "start_time": "2025-08-02T06:33:28.349Z"
   },
   {
    "duration": 6,
    "start_time": "2025-08-02T06:33:28.405Z"
   },
   {
    "duration": 142,
    "start_time": "2025-08-02T06:33:28.413Z"
   },
   {
    "duration": 42,
    "start_time": "2025-08-02T06:33:28.557Z"
   },
   {
    "duration": 55,
    "start_time": "2025-08-02T06:33:28.600Z"
   },
   {
    "duration": 43,
    "start_time": "2025-08-02T06:33:28.656Z"
   },
   {
    "duration": 201,
    "start_time": "2025-08-02T06:33:28.701Z"
   },
   {
    "duration": 143,
    "start_time": "2025-08-02T06:33:28.904Z"
   },
   {
    "duration": 19,
    "start_time": "2025-08-02T06:33:29.048Z"
   },
   {
    "duration": 22,
    "start_time": "2025-08-02T06:33:29.069Z"
   },
   {
    "duration": 52,
    "start_time": "2025-08-02T06:33:29.093Z"
   },
   {
    "duration": 26,
    "start_time": "2025-08-02T06:33:29.147Z"
   },
   {
    "duration": 27,
    "start_time": "2025-08-02T06:33:29.174Z"
   },
   {
    "duration": 43,
    "start_time": "2025-08-02T06:33:29.202Z"
   },
   {
    "duration": 12,
    "start_time": "2025-08-02T06:33:29.246Z"
   },
   {
    "duration": 10,
    "start_time": "2025-08-02T06:33:29.259Z"
   },
   {
    "duration": 7,
    "start_time": "2025-08-02T06:33:29.271Z"
   },
   {
    "duration": 832,
    "start_time": "2025-08-02T06:33:29.279Z"
   },
   {
    "duration": 91,
    "start_time": "2025-08-02T06:33:30.112Z"
   },
   {
    "duration": 119,
    "start_time": "2025-08-02T06:33:30.204Z"
   },
   {
    "duration": 47,
    "start_time": "2025-08-02T06:33:30.325Z"
   },
   {
    "duration": 422,
    "start_time": "2025-08-02T06:33:30.374Z"
   },
   {
    "duration": 10,
    "start_time": "2025-08-02T06:33:50.325Z"
   },
   {
    "duration": 8,
    "start_time": "2025-08-02T06:33:59.153Z"
   },
   {
    "duration": 11,
    "start_time": "2025-08-02T06:34:13.439Z"
   },
   {
    "duration": 11,
    "start_time": "2025-08-02T06:34:22.709Z"
   },
   {
    "duration": 8,
    "start_time": "2025-08-02T06:34:29.291Z"
   },
   {
    "duration": 9,
    "start_time": "2025-08-02T06:34:40.686Z"
   },
   {
    "duration": 11,
    "start_time": "2025-08-02T06:34:45.192Z"
   },
   {
    "duration": 9,
    "start_time": "2025-08-02T06:34:57.443Z"
   },
   {
    "duration": 5,
    "start_time": "2025-08-02T06:35:35.788Z"
   },
   {
    "duration": 419,
    "start_time": "2025-08-02T06:35:50.245Z"
   },
   {
    "duration": 1479,
    "start_time": "2025-08-02T06:46:07.314Z"
   },
   {
    "duration": 6,
    "start_time": "2025-08-02T06:47:15.733Z"
   },
   {
    "duration": 62,
    "start_time": "2025-08-02T06:51:52.904Z"
   },
   {
    "duration": 2497,
    "start_time": "2025-08-02T06:52:00.421Z"
   },
   {
    "duration": 1247,
    "start_time": "2025-08-02T06:52:02.920Z"
   },
   {
    "duration": 2,
    "start_time": "2025-08-02T06:52:04.169Z"
   },
   {
    "duration": 2507,
    "start_time": "2025-08-02T06:52:04.173Z"
   },
   {
    "duration": 3,
    "start_time": "2025-08-02T06:52:06.682Z"
   },
   {
    "duration": 16,
    "start_time": "2025-08-02T06:52:06.686Z"
   },
   {
    "duration": 159,
    "start_time": "2025-08-02T06:52:06.703Z"
   },
   {
    "duration": 95,
    "start_time": "2025-08-02T06:52:06.863Z"
   },
   {
    "duration": 223,
    "start_time": "2025-08-02T06:52:06.960Z"
   },
   {
    "duration": 196,
    "start_time": "2025-08-02T06:52:07.184Z"
   },
   {
    "duration": 162,
    "start_time": "2025-08-02T06:52:07.382Z"
   },
   {
    "duration": 154,
    "start_time": "2025-08-02T06:52:07.546Z"
   },
   {
    "duration": 152,
    "start_time": "2025-08-02T06:52:07.702Z"
   },
   {
    "duration": 59,
    "start_time": "2025-08-02T06:52:07.857Z"
   },
   {
    "duration": 27,
    "start_time": "2025-08-02T06:52:07.918Z"
   },
   {
    "duration": 201,
    "start_time": "2025-08-02T06:52:07.946Z"
   },
   {
    "duration": 103,
    "start_time": "2025-08-02T06:52:08.149Z"
   },
   {
    "duration": 58,
    "start_time": "2025-08-02T06:52:08.254Z"
   },
   {
    "duration": 665,
    "start_time": "2025-08-02T06:52:08.313Z"
   },
   {
    "duration": 7,
    "start_time": "2025-08-02T06:52:08.980Z"
   },
   {
    "duration": 12,
    "start_time": "2025-08-02T06:52:08.989Z"
   },
   {
    "duration": 33,
    "start_time": "2025-08-02T06:52:09.003Z"
   },
   {
    "duration": 142,
    "start_time": "2025-08-02T06:52:09.038Z"
   },
   {
    "duration": 58,
    "start_time": "2025-08-02T06:52:09.182Z"
   },
   {
    "duration": 266,
    "start_time": "2025-08-02T06:52:09.242Z"
   },
   {
    "duration": 161,
    "start_time": "2025-08-02T06:52:09.510Z"
   },
   {
    "duration": 221,
    "start_time": "2025-08-02T06:52:09.672Z"
   },
   {
    "duration": 175,
    "start_time": "2025-08-02T06:52:09.895Z"
   },
   {
    "duration": 7,
    "start_time": "2025-08-02T06:52:10.072Z"
   },
   {
    "duration": 118,
    "start_time": "2025-08-02T06:52:10.081Z"
   },
   {
    "duration": 2,
    "start_time": "2025-08-02T06:52:10.201Z"
   },
   {
    "duration": 116,
    "start_time": "2025-08-02T06:52:10.205Z"
   },
   {
    "duration": 122,
    "start_time": "2025-08-02T06:52:10.323Z"
   },
   {
    "duration": 50,
    "start_time": "2025-08-02T06:52:10.447Z"
   },
   {
    "duration": 111,
    "start_time": "2025-08-02T06:52:10.499Z"
   },
   {
    "duration": 253,
    "start_time": "2025-08-02T06:52:10.611Z"
   },
   {
    "duration": 41,
    "start_time": "2025-08-02T06:52:10.866Z"
   },
   {
    "duration": 53,
    "start_time": "2025-08-02T06:52:10.909Z"
   },
   {
    "duration": 45,
    "start_time": "2025-08-02T06:52:10.963Z"
   },
   {
    "duration": 189,
    "start_time": "2025-08-02T06:52:11.010Z"
   },
   {
    "duration": 132,
    "start_time": "2025-08-02T06:52:11.203Z"
   },
   {
    "duration": 19,
    "start_time": "2025-08-02T06:52:11.337Z"
   },
   {
    "duration": 18,
    "start_time": "2025-08-02T06:52:11.358Z"
   },
   {
    "duration": 67,
    "start_time": "2025-08-02T06:52:11.378Z"
   },
   {
    "duration": 128,
    "start_time": "2025-08-02T06:52:11.446Z"
   },
   {
    "duration": 26,
    "start_time": "2025-08-02T06:52:11.576Z"
   },
   {
    "duration": 114,
    "start_time": "2025-08-02T06:52:11.604Z"
   },
   {
    "duration": 9,
    "start_time": "2025-08-02T06:52:11.720Z"
   },
   {
    "duration": 10,
    "start_time": "2025-08-02T06:52:11.731Z"
   },
   {
    "duration": 7,
    "start_time": "2025-08-02T06:52:11.743Z"
   },
   {
    "duration": 744,
    "start_time": "2025-08-02T06:52:11.752Z"
   },
   {
    "duration": 78,
    "start_time": "2025-08-02T06:52:12.499Z"
   },
   {
    "duration": 416,
    "start_time": "2025-08-02T06:52:12.579Z"
   },
   {
    "duration": 9,
    "start_time": "2025-08-02T06:52:12.997Z"
   },
   {
    "duration": 21,
    "start_time": "2025-08-02T06:52:13.008Z"
   },
   {
    "duration": 46,
    "start_time": "2025-08-02T06:52:13.033Z"
   },
   {
    "duration": 473,
    "start_time": "2025-08-02T06:52:13.080Z"
   },
   {
    "duration": 7,
    "start_time": "2025-08-02T06:52:13.555Z"
   },
   {
    "duration": 84,
    "start_time": "2025-08-02T06:54:50.903Z"
   },
   {
    "duration": 110,
    "start_time": "2025-08-02T06:54:57.695Z"
   },
   {
    "duration": 108,
    "start_time": "2025-08-02T06:55:12.988Z"
   },
   {
    "duration": 23,
    "start_time": "2025-08-02T06:56:39.751Z"
   },
   {
    "duration": 122,
    "start_time": "2025-08-02T06:56:57.835Z"
   },
   {
    "duration": 16,
    "start_time": "2025-08-02T06:57:09.908Z"
   },
   {
    "duration": 22,
    "start_time": "2025-08-02T06:57:16.713Z"
   },
   {
    "duration": 23,
    "start_time": "2025-08-02T06:57:41.280Z"
   },
   {
    "duration": 25,
    "start_time": "2025-08-02T06:58:13.150Z"
   },
   {
    "duration": 20,
    "start_time": "2025-08-02T06:59:34.981Z"
   },
   {
    "duration": 18,
    "start_time": "2025-08-02T07:01:29.521Z"
   },
   {
    "duration": 23,
    "start_time": "2025-08-02T07:04:11.456Z"
   },
   {
    "duration": 11,
    "start_time": "2025-08-02T07:05:28.709Z"
   },
   {
    "duration": 17,
    "start_time": "2025-08-02T07:05:37.380Z"
   },
   {
    "duration": 23,
    "start_time": "2025-08-02T07:06:00.083Z"
   },
   {
    "duration": 24,
    "start_time": "2025-08-02T07:06:36.960Z"
   },
   {
    "duration": 22,
    "start_time": "2025-08-02T07:11:02.200Z"
   },
   {
    "duration": 20,
    "start_time": "2025-08-02T07:13:09.840Z"
   },
   {
    "duration": 4,
    "start_time": "2025-08-02T07:16:54.253Z"
   },
   {
    "duration": 25,
    "start_time": "2025-08-02T07:17:04.128Z"
   },
   {
    "duration": 15,
    "start_time": "2025-08-02T07:17:35.269Z"
   },
   {
    "duration": 15,
    "start_time": "2025-08-02T07:17:54.102Z"
   },
   {
    "duration": 14,
    "start_time": "2025-08-02T07:18:08.605Z"
   },
   {
    "duration": 2545,
    "start_time": "2025-08-02T07:18:39.628Z"
   },
   {
    "duration": 1279,
    "start_time": "2025-08-02T07:18:42.175Z"
   },
   {
    "duration": 3,
    "start_time": "2025-08-02T07:18:43.456Z"
   },
   {
    "duration": 2673,
    "start_time": "2025-08-02T07:18:43.461Z"
   },
   {
    "duration": 3,
    "start_time": "2025-08-02T07:18:46.141Z"
   },
   {
    "duration": 7,
    "start_time": "2025-08-02T07:18:46.147Z"
   },
   {
    "duration": 14,
    "start_time": "2025-08-02T07:18:46.156Z"
   },
   {
    "duration": 69,
    "start_time": "2025-08-02T07:18:46.171Z"
   },
   {
    "duration": 220,
    "start_time": "2025-08-02T07:18:46.242Z"
   },
   {
    "duration": 206,
    "start_time": "2025-08-02T07:18:46.465Z"
   },
   {
    "duration": 177,
    "start_time": "2025-08-02T07:18:46.673Z"
   },
   {
    "duration": 146,
    "start_time": "2025-08-02T07:18:46.852Z"
   },
   {
    "duration": 159,
    "start_time": "2025-08-02T07:18:47.000Z"
   },
   {
    "duration": 57,
    "start_time": "2025-08-02T07:18:47.161Z"
   },
   {
    "duration": 17,
    "start_time": "2025-08-02T07:18:47.236Z"
   },
   {
    "duration": 206,
    "start_time": "2025-08-02T07:18:47.255Z"
   },
   {
    "duration": 120,
    "start_time": "2025-08-02T07:18:47.463Z"
   },
   {
    "duration": 70,
    "start_time": "2025-08-02T07:18:47.585Z"
   },
   {
    "duration": 636,
    "start_time": "2025-08-02T07:18:47.657Z"
   },
   {
    "duration": 7,
    "start_time": "2025-08-02T07:18:48.295Z"
   },
   {
    "duration": 13,
    "start_time": "2025-08-02T07:18:48.304Z"
   },
   {
    "duration": 73,
    "start_time": "2025-08-02T07:18:48.336Z"
   },
   {
    "duration": 151,
    "start_time": "2025-08-02T07:18:48.411Z"
   },
   {
    "duration": 46,
    "start_time": "2025-08-02T07:18:48.564Z"
   },
   {
    "duration": 360,
    "start_time": "2025-08-02T07:18:48.612Z"
   },
   {
    "duration": 236,
    "start_time": "2025-08-02T07:18:48.974Z"
   },
   {
    "duration": 229,
    "start_time": "2025-08-02T07:18:49.236Z"
   },
   {
    "duration": 178,
    "start_time": "2025-08-02T07:18:49.476Z"
   },
   {
    "duration": 8,
    "start_time": "2025-08-02T07:18:49.656Z"
   },
   {
    "duration": 191,
    "start_time": "2025-08-02T07:18:49.666Z"
   },
   {
    "duration": 3,
    "start_time": "2025-08-02T07:18:49.859Z"
   },
   {
    "duration": 39,
    "start_time": "2025-08-02T07:18:49.863Z"
   },
   {
    "duration": 277,
    "start_time": "2025-08-02T07:18:49.903Z"
   },
   {
    "duration": 59,
    "start_time": "2025-08-02T07:18:50.181Z"
   },
   {
    "duration": 19,
    "start_time": "2025-08-02T07:18:50.243Z"
   },
   {
    "duration": 134,
    "start_time": "2025-08-02T07:18:50.264Z"
   },
   {
    "duration": 57,
    "start_time": "2025-08-02T07:18:50.399Z"
   },
   {
    "duration": 35,
    "start_time": "2025-08-02T07:18:50.458Z"
   },
   {
    "duration": 72,
    "start_time": "2025-08-02T07:18:50.495Z"
   },
   {
    "duration": 190,
    "start_time": "2025-08-02T07:18:50.569Z"
   },
   {
    "duration": 137,
    "start_time": "2025-08-02T07:18:50.761Z"
   },
   {
    "duration": 17,
    "start_time": "2025-08-02T07:18:50.900Z"
   },
   {
    "duration": 41,
    "start_time": "2025-08-02T07:18:50.919Z"
   },
   {
    "duration": 30,
    "start_time": "2025-08-02T07:18:50.962Z"
   },
   {
    "duration": 24,
    "start_time": "2025-08-02T07:18:50.994Z"
   },
   {
    "duration": 44,
    "start_time": "2025-08-02T07:18:51.019Z"
   },
   {
    "duration": 25,
    "start_time": "2025-08-02T07:18:51.064Z"
   },
   {
    "duration": 15,
    "start_time": "2025-08-02T07:18:51.090Z"
   },
   {
    "duration": 8,
    "start_time": "2025-08-02T07:18:51.107Z"
   },
   {
    "duration": 26,
    "start_time": "2025-08-02T07:18:51.116Z"
   },
   {
    "duration": 856,
    "start_time": "2025-08-02T07:18:51.145Z"
   },
   {
    "duration": 82,
    "start_time": "2025-08-02T07:18:52.003Z"
   },
   {
    "duration": 399,
    "start_time": "2025-08-02T07:18:52.087Z"
   },
   {
    "duration": 9,
    "start_time": "2025-08-02T07:18:52.489Z"
   },
   {
    "duration": 42,
    "start_time": "2025-08-02T07:18:52.500Z"
   },
   {
    "duration": 105,
    "start_time": "2025-08-02T07:18:52.543Z"
   },
   {
    "duration": 410,
    "start_time": "2025-08-02T07:18:52.651Z"
   },
   {
    "duration": 5,
    "start_time": "2025-08-02T07:18:53.063Z"
   },
   {
    "duration": 32,
    "start_time": "2025-08-02T07:18:53.070Z"
   },
   {
    "duration": 14,
    "start_time": "2025-08-02T07:18:53.104Z"
   },
   {
    "duration": 19,
    "start_time": "2025-08-02T07:18:53.134Z"
   },
   {
    "duration": 116,
    "start_time": "2025-08-02T07:19:19.748Z"
   },
   {
    "duration": 18,
    "start_time": "2025-08-02T07:19:35.447Z"
   },
   {
    "duration": 10,
    "start_time": "2025-08-02T07:40:54.508Z"
   },
   {
    "duration": 6,
    "start_time": "2025-08-02T07:41:11.189Z"
   },
   {
    "duration": 9,
    "start_time": "2025-08-02T07:41:17.365Z"
   },
   {
    "duration": 9,
    "start_time": "2025-08-02T07:41:50.460Z"
   },
   {
    "duration": 12,
    "start_time": "2025-08-02T07:43:15.179Z"
   },
   {
    "duration": 11,
    "start_time": "2025-08-02T07:43:19.672Z"
   },
   {
    "duration": 14,
    "start_time": "2025-08-02T07:43:32.104Z"
   },
   {
    "duration": 15,
    "start_time": "2025-08-02T07:49:29.588Z"
   },
   {
    "duration": 10,
    "start_time": "2025-08-02T07:51:50.884Z"
   },
   {
    "duration": 132,
    "start_time": "2025-08-02T07:52:25.348Z"
   },
   {
    "duration": 120,
    "start_time": "2025-08-02T07:52:39.339Z"
   },
   {
    "duration": 124,
    "start_time": "2025-08-02T07:53:58.672Z"
   },
   {
    "duration": 122,
    "start_time": "2025-08-02T07:54:10.134Z"
   },
   {
    "duration": 217,
    "start_time": "2025-08-02T07:54:15.474Z"
   },
   {
    "duration": 130,
    "start_time": "2025-08-02T07:55:03.251Z"
   },
   {
    "duration": 136,
    "start_time": "2025-08-02T07:55:34.971Z"
   },
   {
    "duration": 156,
    "start_time": "2025-08-02T07:59:01.348Z"
   },
   {
    "duration": 2548,
    "start_time": "2025-08-02T08:03:51.521Z"
   },
   {
    "duration": 1220,
    "start_time": "2025-08-02T08:03:54.072Z"
   },
   {
    "duration": 3,
    "start_time": "2025-08-02T08:03:55.294Z"
   },
   {
    "duration": 2550,
    "start_time": "2025-08-02T08:03:55.298Z"
   },
   {
    "duration": 3,
    "start_time": "2025-08-02T08:03:57.850Z"
   },
   {
    "duration": 15,
    "start_time": "2025-08-02T08:03:57.854Z"
   },
   {
    "duration": 23,
    "start_time": "2025-08-02T08:03:57.870Z"
   },
   {
    "duration": 72,
    "start_time": "2025-08-02T08:03:57.895Z"
   },
   {
    "duration": 214,
    "start_time": "2025-08-02T08:03:57.969Z"
   },
   {
    "duration": 208,
    "start_time": "2025-08-02T08:03:58.184Z"
   },
   {
    "duration": 169,
    "start_time": "2025-08-02T08:03:58.394Z"
   },
   {
    "duration": 137,
    "start_time": "2025-08-02T08:03:58.564Z"
   },
   {
    "duration": 161,
    "start_time": "2025-08-02T08:03:58.703Z"
   },
   {
    "duration": 68,
    "start_time": "2025-08-02T08:03:58.867Z"
   },
   {
    "duration": 13,
    "start_time": "2025-08-02T08:03:58.937Z"
   },
   {
    "duration": 202,
    "start_time": "2025-08-02T08:03:58.951Z"
   },
   {
    "duration": 120,
    "start_time": "2025-08-02T08:03:59.154Z"
   },
   {
    "duration": 64,
    "start_time": "2025-08-02T08:03:59.276Z"
   },
   {
    "duration": 634,
    "start_time": "2025-08-02T08:03:59.349Z"
   },
   {
    "duration": 8,
    "start_time": "2025-08-02T08:03:59.985Z"
   },
   {
    "duration": 17,
    "start_time": "2025-08-02T08:03:59.994Z"
   },
   {
    "duration": 79,
    "start_time": "2025-08-02T08:04:00.013Z"
   },
   {
    "duration": 196,
    "start_time": "2025-08-02T08:04:00.094Z"
   },
   {
    "duration": 59,
    "start_time": "2025-08-02T08:04:00.292Z"
   },
   {
    "duration": 414,
    "start_time": "2025-08-02T08:04:00.352Z"
   },
   {
    "duration": 169,
    "start_time": "2025-08-02T08:04:00.768Z"
   },
   {
    "duration": 245,
    "start_time": "2025-08-02T08:04:00.939Z"
   },
   {
    "duration": 192,
    "start_time": "2025-08-02T08:04:01.186Z"
   },
   {
    "duration": 6,
    "start_time": "2025-08-02T08:04:01.380Z"
   },
   {
    "duration": 180,
    "start_time": "2025-08-02T08:04:01.388Z"
   },
   {
    "duration": 4,
    "start_time": "2025-08-02T08:04:01.570Z"
   },
   {
    "duration": 70,
    "start_time": "2025-08-02T08:04:01.576Z"
   },
   {
    "duration": 158,
    "start_time": "2025-08-02T08:04:01.648Z"
   },
   {
    "duration": 57,
    "start_time": "2025-08-02T08:04:01.808Z"
   },
   {
    "duration": 89,
    "start_time": "2025-08-02T08:04:01.867Z"
   },
   {
    "duration": 144,
    "start_time": "2025-08-02T08:04:01.958Z"
   },
   {
    "duration": 58,
    "start_time": "2025-08-02T08:04:02.104Z"
   },
   {
    "duration": 37,
    "start_time": "2025-08-02T08:04:02.164Z"
   },
   {
    "duration": 61,
    "start_time": "2025-08-02T08:04:02.203Z"
   },
   {
    "duration": 220,
    "start_time": "2025-08-02T08:04:02.266Z"
   },
   {
    "duration": 174,
    "start_time": "2025-08-02T08:04:02.491Z"
   },
   {
    "duration": 18,
    "start_time": "2025-08-02T08:04:02.667Z"
   },
   {
    "duration": 137,
    "start_time": "2025-08-02T08:04:02.687Z"
   },
   {
    "duration": 54,
    "start_time": "2025-08-02T08:04:02.826Z"
   },
   {
    "duration": 32,
    "start_time": "2025-08-02T08:04:02.882Z"
   },
   {
    "duration": 26,
    "start_time": "2025-08-02T08:04:02.916Z"
   },
   {
    "duration": 42,
    "start_time": "2025-08-02T08:04:02.943Z"
   },
   {
    "duration": 20,
    "start_time": "2025-08-02T08:04:02.986Z"
   },
   {
    "duration": 45,
    "start_time": "2025-08-02T08:04:03.007Z"
   },
   {
    "duration": 8,
    "start_time": "2025-08-02T08:04:03.054Z"
   },
   {
    "duration": 760,
    "start_time": "2025-08-02T08:04:03.063Z"
   },
   {
    "duration": 70,
    "start_time": "2025-08-02T08:04:03.825Z"
   },
   {
    "duration": 474,
    "start_time": "2025-08-02T08:04:03.897Z"
   },
   {
    "duration": 8,
    "start_time": "2025-08-02T08:04:04.373Z"
   },
   {
    "duration": 67,
    "start_time": "2025-08-02T08:04:04.382Z"
   },
   {
    "duration": 22,
    "start_time": "2025-08-02T08:04:04.451Z"
   },
   {
    "duration": 407,
    "start_time": "2025-08-02T08:04:04.475Z"
   },
   {
    "duration": 23,
    "start_time": "2025-08-02T08:04:04.884Z"
   },
   {
    "duration": 44,
    "start_time": "2025-08-02T08:04:04.909Z"
   },
   {
    "duration": 21,
    "start_time": "2025-08-02T08:04:04.955Z"
   },
   {
    "duration": 24,
    "start_time": "2025-08-02T08:04:04.978Z"
   },
   {
    "duration": 191,
    "start_time": "2025-08-02T08:04:05.004Z"
   },
   {
    "duration": 2449,
    "start_time": "2025-08-02T08:05:44.122Z"
   },
   {
    "duration": 1175,
    "start_time": "2025-08-02T08:05:46.573Z"
   },
   {
    "duration": 2,
    "start_time": "2025-08-02T08:05:47.750Z"
   },
   {
    "duration": 3712,
    "start_time": "2025-08-02T08:05:47.754Z"
   },
   {
    "duration": 3,
    "start_time": "2025-08-02T08:05:51.468Z"
   },
   {
    "duration": 13,
    "start_time": "2025-08-02T08:05:51.473Z"
   },
   {
    "duration": 23,
    "start_time": "2025-08-02T08:05:51.488Z"
   },
   {
    "duration": 67,
    "start_time": "2025-08-02T08:05:51.513Z"
   },
   {
    "duration": 206,
    "start_time": "2025-08-02T08:05:51.581Z"
   },
   {
    "duration": 199,
    "start_time": "2025-08-02T08:05:51.789Z"
   },
   {
    "duration": 172,
    "start_time": "2025-08-02T08:05:51.990Z"
   },
   {
    "duration": 173,
    "start_time": "2025-08-02T08:05:52.164Z"
   },
   {
    "duration": 141,
    "start_time": "2025-08-02T08:05:52.339Z"
   },
   {
    "duration": 93,
    "start_time": "2025-08-02T08:05:52.484Z"
   },
   {
    "duration": 42,
    "start_time": "2025-08-02T08:05:52.579Z"
   },
   {
    "duration": 234,
    "start_time": "2025-08-02T08:05:52.622Z"
   },
   {
    "duration": 105,
    "start_time": "2025-08-02T08:05:52.858Z"
   },
   {
    "duration": 57,
    "start_time": "2025-08-02T08:05:52.965Z"
   },
   {
    "duration": 714,
    "start_time": "2025-08-02T08:05:53.034Z"
   },
   {
    "duration": 7,
    "start_time": "2025-08-02T08:05:53.750Z"
   },
   {
    "duration": 103,
    "start_time": "2025-08-02T08:05:53.758Z"
   },
   {
    "duration": 93,
    "start_time": "2025-08-02T08:05:53.863Z"
   },
   {
    "duration": 125,
    "start_time": "2025-08-02T08:05:53.958Z"
   },
   {
    "duration": 55,
    "start_time": "2025-08-02T08:05:54.085Z"
   },
   {
    "duration": 259,
    "start_time": "2025-08-02T08:05:54.142Z"
   },
   {
    "duration": 155,
    "start_time": "2025-08-02T08:05:54.403Z"
   },
   {
    "duration": 233,
    "start_time": "2025-08-02T08:05:54.560Z"
   },
   {
    "duration": 180,
    "start_time": "2025-08-02T08:05:54.795Z"
   },
   {
    "duration": 7,
    "start_time": "2025-08-02T08:05:54.978Z"
   },
   {
    "duration": 120,
    "start_time": "2025-08-02T08:05:54.987Z"
   },
   {
    "duration": 3,
    "start_time": "2025-08-02T08:05:55.109Z"
   },
   {
    "duration": 82,
    "start_time": "2025-08-02T08:05:55.113Z"
   },
   {
    "duration": 154,
    "start_time": "2025-08-02T08:05:55.198Z"
   },
   {
    "duration": 48,
    "start_time": "2025-08-02T08:05:55.354Z"
   },
   {
    "duration": 63,
    "start_time": "2025-08-02T08:05:55.404Z"
   },
   {
    "duration": 128,
    "start_time": "2025-08-02T08:05:55.468Z"
   },
   {
    "duration": 46,
    "start_time": "2025-08-02T08:05:55.598Z"
   },
   {
    "duration": 35,
    "start_time": "2025-08-02T08:05:55.646Z"
   },
   {
    "duration": 60,
    "start_time": "2025-08-02T08:05:55.683Z"
   },
   {
    "duration": 191,
    "start_time": "2025-08-02T08:05:55.745Z"
   },
   {
    "duration": 134,
    "start_time": "2025-08-02T08:05:55.941Z"
   },
   {
    "duration": 18,
    "start_time": "2025-08-02T08:05:56.076Z"
   },
   {
    "duration": 27,
    "start_time": "2025-08-02T08:05:56.096Z"
   },
   {
    "duration": 46,
    "start_time": "2025-08-02T08:05:56.124Z"
   },
   {
    "duration": 27,
    "start_time": "2025-08-02T08:05:56.172Z"
   },
   {
    "duration": 47,
    "start_time": "2025-08-02T08:05:56.201Z"
   },
   {
    "duration": 21,
    "start_time": "2025-08-02T08:05:56.250Z"
   },
   {
    "duration": 14,
    "start_time": "2025-08-02T08:05:56.273Z"
   },
   {
    "duration": 9,
    "start_time": "2025-08-02T08:05:56.288Z"
   },
   {
    "duration": 62,
    "start_time": "2025-08-02T08:05:56.299Z"
   },
   {
    "duration": 807,
    "start_time": "2025-08-02T08:05:56.363Z"
   },
   {
    "duration": 66,
    "start_time": "2025-08-02T08:05:57.172Z"
   },
   {
    "duration": 388,
    "start_time": "2025-08-02T08:05:57.240Z"
   },
   {
    "duration": 8,
    "start_time": "2025-08-02T08:05:57.635Z"
   },
   {
    "duration": 12,
    "start_time": "2025-08-02T08:05:57.645Z"
   },
   {
    "duration": 21,
    "start_time": "2025-08-02T08:05:57.660Z"
   },
   {
    "duration": 629,
    "start_time": "2025-08-02T08:05:57.683Z"
   },
   {
    "duration": 33,
    "start_time": "2025-08-02T08:05:58.314Z"
   },
   {
    "duration": 122,
    "start_time": "2025-08-02T08:05:58.349Z"
   },
   {
    "duration": 19,
    "start_time": "2025-08-02T08:05:58.473Z"
   },
   {
    "duration": 15,
    "start_time": "2025-08-02T08:05:58.494Z"
   },
   {
    "duration": 138,
    "start_time": "2025-08-02T08:05:58.511Z"
   },
   {
    "duration": 2436,
    "start_time": "2025-08-02T08:43:39.961Z"
   },
   {
    "duration": 1145,
    "start_time": "2025-08-02T08:43:42.399Z"
   },
   {
    "duration": 3,
    "start_time": "2025-08-02T08:43:43.545Z"
   },
   {
    "duration": 2872,
    "start_time": "2025-08-02T08:43:43.550Z"
   },
   {
    "duration": 3,
    "start_time": "2025-08-02T08:43:46.425Z"
   },
   {
    "duration": 27,
    "start_time": "2025-08-02T08:43:46.429Z"
   },
   {
    "duration": 49,
    "start_time": "2025-08-02T08:43:46.457Z"
   },
   {
    "duration": 66,
    "start_time": "2025-08-02T08:43:46.508Z"
   },
   {
    "duration": 205,
    "start_time": "2025-08-02T08:43:46.576Z"
   },
   {
    "duration": 208,
    "start_time": "2025-08-02T08:43:46.783Z"
   },
   {
    "duration": 173,
    "start_time": "2025-08-02T08:43:46.993Z"
   },
   {
    "duration": 139,
    "start_time": "2025-08-02T08:43:47.167Z"
   },
   {
    "duration": 160,
    "start_time": "2025-08-02T08:43:47.308Z"
   },
   {
    "duration": 69,
    "start_time": "2025-08-02T08:43:47.471Z"
   },
   {
    "duration": 34,
    "start_time": "2025-08-02T08:43:47.541Z"
   },
   {
    "duration": 196,
    "start_time": "2025-08-02T08:43:47.577Z"
   },
   {
    "duration": 112,
    "start_time": "2025-08-02T08:43:47.775Z"
   },
   {
    "duration": 74,
    "start_time": "2025-08-02T08:43:47.889Z"
   },
   {
    "duration": 677,
    "start_time": "2025-08-02T08:43:47.964Z"
   },
   {
    "duration": 9,
    "start_time": "2025-08-02T08:43:48.644Z"
   },
   {
    "duration": 160,
    "start_time": "2025-08-02T08:43:48.655Z"
   },
   {
    "duration": 32,
    "start_time": "2025-08-02T08:43:48.817Z"
   },
   {
    "duration": 150,
    "start_time": "2025-08-02T08:43:48.851Z"
   },
   {
    "duration": 64,
    "start_time": "2025-08-02T08:43:49.002Z"
   },
   {
    "duration": 299,
    "start_time": "2025-08-02T08:43:49.067Z"
   },
   {
    "duration": 172,
    "start_time": "2025-08-02T08:43:49.368Z"
   },
   {
    "duration": 235,
    "start_time": "2025-08-02T08:43:49.542Z"
   },
   {
    "duration": 185,
    "start_time": "2025-08-02T08:43:49.779Z"
   },
   {
    "duration": 7,
    "start_time": "2025-08-02T08:43:49.966Z"
   },
   {
    "duration": 263,
    "start_time": "2025-08-02T08:43:49.975Z"
   },
   {
    "duration": 8,
    "start_time": "2025-08-02T08:43:50.241Z"
   },
   {
    "duration": 40,
    "start_time": "2025-08-02T08:43:50.250Z"
   },
   {
    "duration": 152,
    "start_time": "2025-08-02T08:43:50.291Z"
   },
   {
    "duration": 52,
    "start_time": "2025-08-02T08:43:50.445Z"
   },
   {
    "duration": 7,
    "start_time": "2025-08-02T08:43:50.499Z"
   },
   {
    "duration": 115,
    "start_time": "2025-08-02T08:43:50.508Z"
   },
   {
    "duration": 44,
    "start_time": "2025-08-02T08:43:50.624Z"
   },
   {
    "duration": 41,
    "start_time": "2025-08-02T08:43:50.670Z"
   },
   {
    "duration": 119,
    "start_time": "2025-08-02T08:43:50.712Z"
   },
   {
    "duration": 196,
    "start_time": "2025-08-02T08:43:50.833Z"
   },
   {
    "duration": 145,
    "start_time": "2025-08-02T08:43:51.038Z"
   },
   {
    "duration": 18,
    "start_time": "2025-08-02T08:43:51.184Z"
   },
   {
    "duration": 58,
    "start_time": "2025-08-02T08:43:51.204Z"
   },
   {
    "duration": 58,
    "start_time": "2025-08-02T08:43:51.263Z"
   },
   {
    "duration": 28,
    "start_time": "2025-08-02T08:43:51.323Z"
   },
   {
    "duration": 27,
    "start_time": "2025-08-02T08:43:51.353Z"
   },
   {
    "duration": 23,
    "start_time": "2025-08-02T08:43:51.382Z"
   },
   {
    "duration": 40,
    "start_time": "2025-08-02T08:43:51.407Z"
   },
   {
    "duration": 101,
    "start_time": "2025-08-02T08:43:51.449Z"
   },
   {
    "duration": 19,
    "start_time": "2025-08-02T08:43:51.551Z"
   },
   {
    "duration": 776,
    "start_time": "2025-08-02T08:43:51.572Z"
   },
   {
    "duration": 68,
    "start_time": "2025-08-02T08:43:52.349Z"
   },
   {
    "duration": 400,
    "start_time": "2025-08-02T08:43:52.419Z"
   },
   {
    "duration": 22,
    "start_time": "2025-08-02T08:43:52.820Z"
   },
   {
    "duration": 106,
    "start_time": "2025-08-02T08:43:52.843Z"
   },
   {
    "duration": 29,
    "start_time": "2025-08-02T08:43:52.951Z"
   },
   {
    "duration": 397,
    "start_time": "2025-08-02T08:43:52.982Z"
   },
   {
    "duration": 24,
    "start_time": "2025-08-02T08:43:53.381Z"
   },
   {
    "duration": 39,
    "start_time": "2025-08-02T08:43:53.406Z"
   },
   {
    "duration": 17,
    "start_time": "2025-08-02T08:43:53.448Z"
   },
   {
    "duration": 117,
    "start_time": "2025-08-02T08:43:53.467Z"
   },
   {
    "duration": 140,
    "start_time": "2025-08-02T08:43:53.586Z"
   },
   {
    "duration": 2846,
    "start_time": "2025-08-02T08:44:37.985Z"
   },
   {
    "duration": 1373,
    "start_time": "2025-08-02T08:44:40.833Z"
   },
   {
    "duration": 3,
    "start_time": "2025-08-02T08:44:42.208Z"
   },
   {
    "duration": 2593,
    "start_time": "2025-08-02T08:44:42.213Z"
   },
   {
    "duration": 3,
    "start_time": "2025-08-02T08:44:44.809Z"
   },
   {
    "duration": 18,
    "start_time": "2025-08-02T08:44:44.813Z"
   },
   {
    "duration": 17,
    "start_time": "2025-08-02T08:44:44.833Z"
   },
   {
    "duration": 84,
    "start_time": "2025-08-02T08:44:44.852Z"
   },
   {
    "duration": 223,
    "start_time": "2025-08-02T08:44:44.938Z"
   },
   {
    "duration": 243,
    "start_time": "2025-08-02T08:44:45.163Z"
   },
   {
    "duration": 175,
    "start_time": "2025-08-02T08:44:45.407Z"
   },
   {
    "duration": 143,
    "start_time": "2025-08-02T08:44:45.583Z"
   },
   {
    "duration": 155,
    "start_time": "2025-08-02T08:44:45.734Z"
   },
   {
    "duration": 80,
    "start_time": "2025-08-02T08:44:45.892Z"
   },
   {
    "duration": 14,
    "start_time": "2025-08-02T08:44:45.974Z"
   },
   {
    "duration": 351,
    "start_time": "2025-08-02T08:44:45.990Z"
   },
   {
    "duration": 119,
    "start_time": "2025-08-02T08:44:46.343Z"
   },
   {
    "duration": 71,
    "start_time": "2025-08-02T08:44:46.464Z"
   },
   {
    "duration": 721,
    "start_time": "2025-08-02T08:44:46.537Z"
   },
   {
    "duration": 7,
    "start_time": "2025-08-02T08:44:47.259Z"
   },
   {
    "duration": 45,
    "start_time": "2025-08-02T08:44:47.268Z"
   },
   {
    "duration": 13,
    "start_time": "2025-08-02T08:44:47.315Z"
   },
   {
    "duration": 153,
    "start_time": "2025-08-02T08:44:47.331Z"
   },
   {
    "duration": 62,
    "start_time": "2025-08-02T08:44:47.485Z"
   },
   {
    "duration": 298,
    "start_time": "2025-08-02T08:44:47.550Z"
   },
   {
    "duration": 160,
    "start_time": "2025-08-02T08:44:47.851Z"
   },
   {
    "duration": 230,
    "start_time": "2025-08-02T08:44:48.012Z"
   },
   {
    "duration": 188,
    "start_time": "2025-08-02T08:44:48.244Z"
   },
   {
    "duration": 14,
    "start_time": "2025-08-02T08:44:48.437Z"
   },
   {
    "duration": 123,
    "start_time": "2025-08-02T08:44:48.453Z"
   },
   {
    "duration": 3,
    "start_time": "2025-08-02T08:44:48.577Z"
   },
   {
    "duration": 40,
    "start_time": "2025-08-02T08:44:48.581Z"
   },
   {
    "duration": 147,
    "start_time": "2025-08-02T08:44:48.635Z"
   },
   {
    "duration": 69,
    "start_time": "2025-08-02T08:44:48.784Z"
   },
   {
    "duration": 101,
    "start_time": "2025-08-02T08:44:48.855Z"
   },
   {
    "duration": 121,
    "start_time": "2025-08-02T08:44:48.959Z"
   },
   {
    "duration": 39,
    "start_time": "2025-08-02T08:44:49.082Z"
   },
   {
    "duration": 46,
    "start_time": "2025-08-02T08:44:49.123Z"
   },
   {
    "duration": 45,
    "start_time": "2025-08-02T08:44:49.171Z"
   },
   {
    "duration": 199,
    "start_time": "2025-08-02T08:44:49.218Z"
   },
   {
    "duration": 141,
    "start_time": "2025-08-02T08:44:49.421Z"
   },
   {
    "duration": 18,
    "start_time": "2025-08-02T08:44:49.564Z"
   },
   {
    "duration": 24,
    "start_time": "2025-08-02T08:44:49.584Z"
   },
   {
    "duration": 70,
    "start_time": "2025-08-02T08:44:49.610Z"
   },
   {
    "duration": 24,
    "start_time": "2025-08-02T08:44:49.682Z"
   },
   {
    "duration": 26,
    "start_time": "2025-08-02T08:44:49.708Z"
   },
   {
    "duration": 43,
    "start_time": "2025-08-02T08:44:49.736Z"
   },
   {
    "duration": 27,
    "start_time": "2025-08-02T08:44:49.780Z"
   },
   {
    "duration": 38,
    "start_time": "2025-08-02T08:44:49.809Z"
   },
   {
    "duration": 7,
    "start_time": "2025-08-02T08:44:49.849Z"
   },
   {
    "duration": 969,
    "start_time": "2025-08-02T08:44:49.857Z"
   },
   {
    "duration": 72,
    "start_time": "2025-08-02T08:44:50.828Z"
   },
   {
    "duration": 482,
    "start_time": "2025-08-02T08:44:50.901Z"
   },
   {
    "duration": 8,
    "start_time": "2025-08-02T08:44:51.384Z"
   },
   {
    "duration": 17,
    "start_time": "2025-08-02T08:44:51.394Z"
   },
   {
    "duration": 39,
    "start_time": "2025-08-02T08:44:51.412Z"
   },
   {
    "duration": 494,
    "start_time": "2025-08-02T08:44:51.452Z"
   },
   {
    "duration": 28,
    "start_time": "2025-08-02T08:44:51.947Z"
   },
   {
    "duration": 207,
    "start_time": "2025-08-02T08:44:51.976Z"
   },
   {
    "duration": 38,
    "start_time": "2025-08-02T08:44:52.185Z"
   },
   {
    "duration": 54,
    "start_time": "2025-08-02T08:44:52.224Z"
   },
   {
    "duration": 151,
    "start_time": "2025-08-02T08:44:52.280Z"
   },
   {
    "duration": 3946,
    "start_time": "2025-08-03T05:33:44.935Z"
   },
   {
    "duration": 1371,
    "start_time": "2025-08-03T05:33:48.884Z"
   },
   {
    "duration": 3,
    "start_time": "2025-08-03T05:33:50.257Z"
   },
   {
    "duration": 2471,
    "start_time": "2025-08-03T05:33:50.262Z"
   },
   {
    "duration": 3,
    "start_time": "2025-08-03T05:33:52.734Z"
   },
   {
    "duration": 42,
    "start_time": "2025-08-03T05:33:52.739Z"
   },
   {
    "duration": 13,
    "start_time": "2025-08-03T05:33:52.783Z"
   },
   {
    "duration": 72,
    "start_time": "2025-08-03T05:33:52.797Z"
   },
   {
    "duration": 202,
    "start_time": "2025-08-03T05:33:52.871Z"
   },
   {
    "duration": 197,
    "start_time": "2025-08-03T05:33:53.075Z"
   },
   {
    "duration": 160,
    "start_time": "2025-08-03T05:33:53.274Z"
   },
   {
    "duration": 142,
    "start_time": "2025-08-03T05:33:53.439Z"
   },
   {
    "duration": 140,
    "start_time": "2025-08-03T05:33:53.583Z"
   },
   {
    "duration": 71,
    "start_time": "2025-08-03T05:33:53.725Z"
   },
   {
    "duration": 14,
    "start_time": "2025-08-03T05:33:53.798Z"
   },
   {
    "duration": 203,
    "start_time": "2025-08-03T05:33:53.814Z"
   },
   {
    "duration": 115,
    "start_time": "2025-08-03T05:33:54.019Z"
   },
   {
    "duration": 59,
    "start_time": "2025-08-03T05:33:54.136Z"
   },
   {
    "duration": 662,
    "start_time": "2025-08-03T05:33:54.196Z"
   },
   {
    "duration": 9,
    "start_time": "2025-08-03T05:33:54.860Z"
   },
   {
    "duration": 24,
    "start_time": "2025-08-03T05:33:54.870Z"
   },
   {
    "duration": 9,
    "start_time": "2025-08-03T05:33:54.896Z"
   },
   {
    "duration": 160,
    "start_time": "2025-08-03T05:33:54.907Z"
   },
   {
    "duration": 49,
    "start_time": "2025-08-03T05:33:55.069Z"
   },
   {
    "duration": 304,
    "start_time": "2025-08-03T05:33:55.119Z"
   },
   {
    "duration": 160,
    "start_time": "2025-08-03T05:33:55.424Z"
   },
   {
    "duration": 310,
    "start_time": "2025-08-03T05:33:55.586Z"
   },
   {
    "duration": 173,
    "start_time": "2025-08-03T05:33:55.909Z"
   },
   {
    "duration": 7,
    "start_time": "2025-08-03T05:33:56.084Z"
   },
   {
    "duration": 121,
    "start_time": "2025-08-03T05:33:56.093Z"
   },
   {
    "duration": 3,
    "start_time": "2025-08-03T05:33:56.215Z"
   },
   {
    "duration": 50,
    "start_time": "2025-08-03T05:33:56.220Z"
   },
   {
    "duration": 147,
    "start_time": "2025-08-03T05:33:56.272Z"
   },
   {
    "duration": 67,
    "start_time": "2025-08-03T05:33:56.420Z"
   },
   {
    "duration": 89,
    "start_time": "2025-08-03T05:33:56.488Z"
   },
   {
    "duration": 111,
    "start_time": "2025-08-03T05:33:56.580Z"
   },
   {
    "duration": 49,
    "start_time": "2025-08-03T05:33:56.693Z"
   },
   {
    "duration": 38,
    "start_time": "2025-08-03T05:33:56.744Z"
   },
   {
    "duration": 77,
    "start_time": "2025-08-03T05:33:56.784Z"
   },
   {
    "duration": 186,
    "start_time": "2025-08-03T05:33:56.862Z"
   },
   {
    "duration": 141,
    "start_time": "2025-08-03T05:33:57.050Z"
   },
   {
    "duration": 19,
    "start_time": "2025-08-03T05:33:57.193Z"
   },
   {
    "duration": 39,
    "start_time": "2025-08-03T05:33:57.213Z"
   },
   {
    "duration": 27,
    "start_time": "2025-08-03T05:33:57.254Z"
   },
   {
    "duration": 25,
    "start_time": "2025-08-03T05:33:57.283Z"
   },
   {
    "duration": 50,
    "start_time": "2025-08-03T05:33:57.310Z"
   },
   {
    "duration": 20,
    "start_time": "2025-08-03T05:33:57.362Z"
   },
   {
    "duration": 10,
    "start_time": "2025-08-03T05:33:57.384Z"
   },
   {
    "duration": 9,
    "start_time": "2025-08-03T05:33:57.395Z"
   },
   {
    "duration": 38,
    "start_time": "2025-08-03T05:33:57.405Z"
   },
   {
    "duration": 763,
    "start_time": "2025-08-03T05:33:57.445Z"
   },
   {
    "duration": 78,
    "start_time": "2025-08-03T05:33:58.209Z"
   },
   {
    "duration": 381,
    "start_time": "2025-08-03T05:33:58.289Z"
   },
   {
    "duration": 10,
    "start_time": "2025-08-03T05:33:58.672Z"
   },
   {
    "duration": 34,
    "start_time": "2025-08-03T05:33:58.684Z"
   },
   {
    "duration": 15,
    "start_time": "2025-08-03T05:33:58.719Z"
   },
   {
    "duration": 392,
    "start_time": "2025-08-03T05:33:58.735Z"
   },
   {
    "duration": 32,
    "start_time": "2025-08-03T05:33:59.129Z"
   },
   {
    "duration": 34,
    "start_time": "2025-08-03T05:33:59.163Z"
   },
   {
    "duration": 31,
    "start_time": "2025-08-03T05:33:59.198Z"
   },
   {
    "duration": 15,
    "start_time": "2025-08-03T05:33:59.231Z"
   },
   {
    "duration": 146,
    "start_time": "2025-08-03T05:33:59.248Z"
   },
   {
    "duration": 168,
    "start_time": "2025-08-03T05:34:57.141Z"
   },
   {
    "duration": 4039,
    "start_time": "2025-08-06T09:04:55.675Z"
   },
   {
    "duration": 1692,
    "start_time": "2025-08-06T09:04:59.716Z"
   },
   {
    "duration": 5,
    "start_time": "2025-08-06T09:05:01.411Z"
   },
   {
    "duration": 4255,
    "start_time": "2025-08-06T09:05:01.419Z"
   },
   {
    "duration": 3,
    "start_time": "2025-08-06T09:05:05.676Z"
   },
   {
    "duration": 191,
    "start_time": "2025-08-06T09:05:05.681Z"
   },
   {
    "duration": 156,
    "start_time": "2025-08-06T09:05:05.875Z"
   },
   {
    "duration": 219,
    "start_time": "2025-08-06T09:05:06.033Z"
   },
   {
    "duration": 357,
    "start_time": "2025-08-06T09:05:06.254Z"
   },
   {
    "duration": 537,
    "start_time": "2025-08-06T09:05:06.615Z"
   },
   {
    "duration": 189,
    "start_time": "2025-08-06T09:05:07.153Z"
   },
   {
    "duration": 303,
    "start_time": "2025-08-06T09:05:07.343Z"
   },
   {
    "duration": 258,
    "start_time": "2025-08-06T09:05:07.648Z"
   },
   {
    "duration": 62,
    "start_time": "2025-08-06T09:05:07.908Z"
   },
   {
    "duration": 51,
    "start_time": "2025-08-06T09:05:07.972Z"
   },
   {
    "duration": 268,
    "start_time": "2025-08-06T09:05:08.025Z"
   },
   {
    "duration": 126,
    "start_time": "2025-08-06T09:05:08.299Z"
   },
   {
    "duration": 93,
    "start_time": "2025-08-06T09:05:08.426Z"
   },
   {
    "duration": 758,
    "start_time": "2025-08-06T09:05:08.521Z"
   },
   {
    "duration": 26,
    "start_time": "2025-08-06T09:05:09.281Z"
   },
   {
    "duration": 17,
    "start_time": "2025-08-06T09:05:09.310Z"
   },
   {
    "duration": 45,
    "start_time": "2025-08-06T09:05:09.329Z"
   },
   {
    "duration": 154,
    "start_time": "2025-08-06T09:05:09.375Z"
   },
   {
    "duration": 51,
    "start_time": "2025-08-06T09:05:09.531Z"
   },
   {
    "duration": 305,
    "start_time": "2025-08-06T09:05:09.599Z"
   },
   {
    "duration": 171,
    "start_time": "2025-08-06T09:05:09.909Z"
   },
   {
    "duration": 253,
    "start_time": "2025-08-06T09:05:10.082Z"
   },
   {
    "duration": 195,
    "start_time": "2025-08-06T09:05:10.347Z"
   },
   {
    "duration": 9,
    "start_time": "2025-08-06T09:05:10.544Z"
   },
   {
    "duration": 139,
    "start_time": "2025-08-06T09:05:10.554Z"
   },
   {
    "duration": 3,
    "start_time": "2025-08-06T09:05:10.695Z"
   },
   {
    "duration": 100,
    "start_time": "2025-08-06T09:05:10.702Z"
   },
   {
    "duration": 186,
    "start_time": "2025-08-06T09:05:10.805Z"
   },
   {
    "duration": 66,
    "start_time": "2025-08-06T09:05:11.000Z"
   },
   {
    "duration": 173,
    "start_time": "2025-08-06T09:05:11.068Z"
   },
   {
    "duration": 154,
    "start_time": "2025-08-06T09:05:11.243Z"
   },
   {
    "duration": 51,
    "start_time": "2025-08-06T09:05:11.400Z"
   },
   {
    "duration": 68,
    "start_time": "2025-08-06T09:05:11.453Z"
   },
   {
    "duration": 65,
    "start_time": "2025-08-06T09:05:11.523Z"
   },
   {
    "duration": 201,
    "start_time": "2025-08-06T09:05:11.590Z"
   },
   {
    "duration": 150,
    "start_time": "2025-08-06T09:05:11.798Z"
   },
   {
    "duration": 66,
    "start_time": "2025-08-06T09:05:11.950Z"
   },
   {
    "duration": 155,
    "start_time": "2025-08-06T09:05:12.018Z"
   },
   {
    "duration": 54,
    "start_time": "2025-08-06T09:05:12.174Z"
   },
   {
    "duration": 26,
    "start_time": "2025-08-06T09:05:12.230Z"
   },
   {
    "duration": 40,
    "start_time": "2025-08-06T09:05:12.259Z"
   },
   {
    "duration": 48,
    "start_time": "2025-08-06T09:05:12.302Z"
   },
   {
    "duration": 42,
    "start_time": "2025-08-06T09:05:12.352Z"
   },
   {
    "duration": 72,
    "start_time": "2025-08-06T09:05:12.396Z"
   },
   {
    "duration": 14,
    "start_time": "2025-08-06T09:05:12.470Z"
   },
   {
    "duration": 872,
    "start_time": "2025-08-06T09:05:12.486Z"
   },
   {
    "duration": 88,
    "start_time": "2025-08-06T09:05:13.359Z"
   },
   {
    "duration": 0,
    "start_time": "2025-08-06T09:05:13.449Z"
   },
   {
    "duration": 0,
    "start_time": "2025-08-06T09:05:13.450Z"
   },
   {
    "duration": 0,
    "start_time": "2025-08-06T09:05:13.452Z"
   },
   {
    "duration": 0,
    "start_time": "2025-08-06T09:05:13.453Z"
   },
   {
    "duration": 0,
    "start_time": "2025-08-06T09:05:13.455Z"
   },
   {
    "duration": 0,
    "start_time": "2025-08-06T09:05:13.456Z"
   },
   {
    "duration": 0,
    "start_time": "2025-08-06T09:05:13.457Z"
   },
   {
    "duration": 0,
    "start_time": "2025-08-06T09:05:13.458Z"
   },
   {
    "duration": 0,
    "start_time": "2025-08-06T09:05:13.459Z"
   },
   {
    "duration": 0,
    "start_time": "2025-08-06T09:05:13.461Z"
   },
   {
    "duration": 0,
    "start_time": "2025-08-06T09:05:13.462Z"
   },
   {
    "duration": 126,
    "start_time": "2025-08-06T09:05:47.002Z"
   },
   {
    "duration": 99,
    "start_time": "2025-08-06T09:06:09.515Z"
   },
   {
    "duration": 5,
    "start_time": "2025-08-06T09:06:56.584Z"
   },
   {
    "duration": 3467,
    "start_time": "2025-08-06T11:23:04.439Z"
   },
   {
    "duration": 1451,
    "start_time": "2025-08-06T11:23:07.908Z"
   },
   {
    "duration": 4,
    "start_time": "2025-08-06T11:23:09.361Z"
   },
   {
    "duration": 2695,
    "start_time": "2025-08-06T11:23:09.367Z"
   },
   {
    "duration": 3,
    "start_time": "2025-08-06T11:23:12.064Z"
   },
   {
    "duration": 13,
    "start_time": "2025-08-06T11:23:12.069Z"
   },
   {
    "duration": 13,
    "start_time": "2025-08-06T11:23:12.084Z"
   },
   {
    "duration": 186,
    "start_time": "2025-08-06T11:23:12.099Z"
   },
   {
    "duration": 264,
    "start_time": "2025-08-06T11:23:12.287Z"
   },
   {
    "duration": 198,
    "start_time": "2025-08-06T11:23:12.553Z"
   },
   {
    "duration": 170,
    "start_time": "2025-08-06T11:23:12.753Z"
   },
   {
    "duration": 146,
    "start_time": "2025-08-06T11:23:12.925Z"
   },
   {
    "duration": 154,
    "start_time": "2025-08-06T11:23:13.073Z"
   },
   {
    "duration": 68,
    "start_time": "2025-08-06T11:23:13.231Z"
   },
   {
    "duration": 27,
    "start_time": "2025-08-06T11:23:13.301Z"
   },
   {
    "duration": 221,
    "start_time": "2025-08-06T11:23:13.329Z"
   },
   {
    "duration": 135,
    "start_time": "2025-08-06T11:23:13.552Z"
   },
   {
    "duration": 5,
    "start_time": "2025-08-06T11:23:13.689Z"
   },
   {
    "duration": 175,
    "start_time": "2025-08-06T11:23:13.695Z"
   },
   {
    "duration": 612,
    "start_time": "2025-08-06T11:23:13.872Z"
   },
   {
    "duration": 8,
    "start_time": "2025-08-06T11:23:14.485Z"
   },
   {
    "duration": 42,
    "start_time": "2025-08-06T11:23:14.495Z"
   },
   {
    "duration": 20,
    "start_time": "2025-08-06T11:23:14.539Z"
   },
   {
    "duration": 148,
    "start_time": "2025-08-06T11:23:14.561Z"
   },
   {
    "duration": 49,
    "start_time": "2025-08-06T11:23:14.711Z"
   },
   {
    "duration": 293,
    "start_time": "2025-08-06T11:23:14.772Z"
   },
   {
    "duration": 185,
    "start_time": "2025-08-06T11:23:15.071Z"
   },
   {
    "duration": 241,
    "start_time": "2025-08-06T11:23:15.257Z"
   },
   {
    "duration": 203,
    "start_time": "2025-08-06T11:23:15.499Z"
   },
   {
    "duration": 9,
    "start_time": "2025-08-06T11:23:15.705Z"
   },
   {
    "duration": 302,
    "start_time": "2025-08-06T11:23:15.716Z"
   },
   {
    "duration": 3,
    "start_time": "2025-08-06T11:23:16.020Z"
   },
   {
    "duration": 79,
    "start_time": "2025-08-06T11:23:16.025Z"
   },
   {
    "duration": 166,
    "start_time": "2025-08-06T11:23:16.106Z"
   },
   {
    "duration": 53,
    "start_time": "2025-08-06T11:23:16.274Z"
   },
   {
    "duration": 35,
    "start_time": "2025-08-06T11:23:16.329Z"
   },
   {
    "duration": 119,
    "start_time": "2025-08-06T11:23:16.366Z"
   },
   {
    "duration": 43,
    "start_time": "2025-08-06T11:23:16.486Z"
   },
   {
    "duration": 70,
    "start_time": "2025-08-06T11:23:16.531Z"
   },
   {
    "duration": 59,
    "start_time": "2025-08-06T11:23:16.603Z"
   },
   {
    "duration": 205,
    "start_time": "2025-08-06T11:23:16.666Z"
   },
   {
    "duration": 145,
    "start_time": "2025-08-06T11:23:16.872Z"
   },
   {
    "duration": 29,
    "start_time": "2025-08-06T11:23:17.019Z"
   },
   {
    "duration": 114,
    "start_time": "2025-08-06T11:23:17.050Z"
   },
   {
    "duration": 47,
    "start_time": "2025-08-06T11:23:17.166Z"
   },
   {
    "duration": 26,
    "start_time": "2025-08-06T11:23:17.215Z"
   },
   {
    "duration": 106,
    "start_time": "2025-08-06T11:23:17.243Z"
   },
   {
    "duration": 21,
    "start_time": "2025-08-06T11:23:17.351Z"
   },
   {
    "duration": 20,
    "start_time": "2025-08-06T11:23:17.374Z"
   },
   {
    "duration": 16,
    "start_time": "2025-08-06T11:23:17.396Z"
   },
   {
    "duration": 18,
    "start_time": "2025-08-06T11:23:17.414Z"
   },
   {
    "duration": 783,
    "start_time": "2025-08-06T11:23:17.433Z"
   },
   {
    "duration": 85,
    "start_time": "2025-08-06T11:23:18.218Z"
   },
   {
    "duration": 0,
    "start_time": "2025-08-06T11:23:18.305Z"
   },
   {
    "duration": 0,
    "start_time": "2025-08-06T11:23:18.306Z"
   },
   {
    "duration": 0,
    "start_time": "2025-08-06T11:23:18.307Z"
   },
   {
    "duration": 0,
    "start_time": "2025-08-06T11:23:18.308Z"
   },
   {
    "duration": 0,
    "start_time": "2025-08-06T11:23:18.309Z"
   },
   {
    "duration": 0,
    "start_time": "2025-08-06T11:23:18.310Z"
   },
   {
    "duration": 0,
    "start_time": "2025-08-06T11:23:18.311Z"
   },
   {
    "duration": 0,
    "start_time": "2025-08-06T11:23:18.312Z"
   },
   {
    "duration": 0,
    "start_time": "2025-08-06T11:23:18.314Z"
   },
   {
    "duration": 0,
    "start_time": "2025-08-06T11:23:18.314Z"
   },
   {
    "duration": 0,
    "start_time": "2025-08-06T11:23:18.316Z"
   },
   {
    "duration": 3,
    "start_time": "2025-08-06T11:23:26.083Z"
   }
  ],
  "colab": {
   "provenance": []
  },
  "kernelspec": {
   "display_name": "Python 3 (ipykernel)",
   "language": "python",
   "name": "python3"
  },
  "language_info": {
   "codemirror_mode": {
    "name": "ipython",
    "version": 3
   },
   "file_extension": ".py",
   "mimetype": "text/x-python",
   "name": "python",
   "nbconvert_exporter": "python",
   "pygments_lexer": "ipython3",
   "version": "3.13.5"
  },
  "toc": {
   "base_numbering": 1,
   "nav_menu": {
    "height": "452.983px",
    "width": "508.983px"
   },
   "number_sections": true,
   "sideBar": true,
   "skip_h1_title": true,
   "title_cell": "Table of Contents",
   "title_sidebar": "Contents",
   "toc_cell": false,
   "toc_position": {
    "height": "calc(100% - 180px)",
    "left": "10px",
    "top": "150px",
    "width": "377.733px"
   },
   "toc_section_display": true,
   "toc_window_display": true
  }
 },
 "nbformat": 4,
 "nbformat_minor": 4
}
