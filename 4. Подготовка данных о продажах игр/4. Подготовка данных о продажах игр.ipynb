{
 "cells": [
  {
   "cell_type": "markdown",
   "id": "e06910dd",
   "metadata": {
    "id": "e06910dd"
   },
   "source": [
    "# Подготовка данных  о продажах игр для дальнейшего изучения развития игровой индустрии с 2000 по 2013 год. "
   ]
  },
  {
   "cell_type": "markdown",
   "id": "4149134c",
   "metadata": {
    "id": "4149134c"
   },
   "source": [
    "### Цели и задачи проекта\n",
    "__Цель:__ Познакомиться с данными, проверить их корректность и провести предобработку, получив необходимый срез данных.</font>\n",
    "\n",
    "__Задачи:__\n",
    "- Отобрать данные по времени выхода игры за  период с 2000 по 2013 год включительно.\n",
    "- Категоризовать игры по оценкам пользователей и экспертов, выделив три категории.\n",
    "- Выделить топ-7 платформ по количеству игр, выпущенных за весь требуемый период."
   ]
  },
  {
   "cell_type": "markdown",
   "id": "728986ea",
   "metadata": {
    "id": "728986ea"
   },
   "source": [
    "### Описание данных\n",
    "Данные /datasets/new_games.csv содержат информацию о продажах игр разных жанров и платформ, а также пользовательские и экспертные оценки игр:\n",
    "- Name — название игры.\n",
    "- Platform — название платформы.\n",
    "- Year of Release — год выпуска игры.\n",
    "- Genre — жанр игры.\n",
    "- NA sales — продажи в Северной Америке (в миллионах проданных копий).\n",
    "- EU sales — продажи в Европе (в миллионах проданных копий).\n",
    "- JP sales — продажи в Японии (в миллионах проданных копий).\n",
    "- Other sales — продажи в других странах (в миллионах проданных копий).\n",
    "- Critic Score — оценка критиков (от 0 до 100).\n",
    "- User Score — оценка пользователей (от 0 до 10).\n",
    "- Rating — рейтинг организации ESRB (англ. Entertainment Software Rating Board). Эта ассоциация определяет рейтинг компьютерных игр и присваивает им подходящую возрастную категорию."
   ]
  },
  {
   "cell_type": "markdown",
   "id": "4fecaf95",
   "metadata": {
    "id": "4fecaf95"
   },
   "source": [
    "### Содержимое проекта\n",
    "\n",
    "- 1  Загрузка данных и знакомство с ними\n",
    "- 2  Проверка ошибок в данных и их предобработка\n",
    "- 2.1 Названия, или метки, столбцов датафрейма\n",
    "- 2.2 Типы данных\n",
    "- 2.3 Наличие пропусков в данных\n",
    "- 2.4 Явные и неявные дубликаты в данных\n",
    "- 3 Фильтрация данных\n",
    "- 4 Категоризация данных\n",
    "- 5 Итоговый вывод\n"
   ]
  },
  {
   "cell_type": "markdown",
   "id": "6f7d21d6",
   "metadata": {
    "id": "6f7d21d6"
   },
   "source": [
    "## Знакомство с данными"
   ]
  },
  {
   "cell_type": "code",
   "execution_count": 1,
   "id": "ebb66dc5",
   "metadata": {
    "id": "ebb66dc5"
   },
   "outputs": [],
   "source": [
    "# Импортируем библиотеку pandas\n",
    "import pandas as pd"
   ]
  },
  {
   "cell_type": "code",
   "execution_count": 2,
   "id": "ce87c1db",
   "metadata": {
    "id": "ce87c1db"
   },
   "outputs": [],
   "source": [
    "# Выгружаем данные из датасета new_games.csv в датафрейм df\n",
    "# df0 сохраним как исходный df будем преобразовывать\n",
    "df0=pd.read_csv('https://code.s3.yandex.net/datasets/new_games.csv')\n",
    "df=pd.read_csv('https://code.s3.yandex.net/datasets/new_games.csv')"
   ]
  },
  {
   "cell_type": "code",
   "execution_count": 3,
   "id": "fc561cac",
   "metadata": {
    "id": "fc561cac"
   },
   "outputs": [
    {
     "data": {
      "text/html": [
       "<div>\n",
       "<style scoped>\n",
       "    .dataframe tbody tr th:only-of-type {\n",
       "        vertical-align: middle;\n",
       "    }\n",
       "\n",
       "    .dataframe tbody tr th {\n",
       "        vertical-align: top;\n",
       "    }\n",
       "\n",
       "    .dataframe thead th {\n",
       "        text-align: right;\n",
       "    }\n",
       "</style>\n",
       "<table border=\"1\" class=\"dataframe\">\n",
       "  <thead>\n",
       "    <tr style=\"text-align: right;\">\n",
       "      <th></th>\n",
       "      <th>Name</th>\n",
       "      <th>Platform</th>\n",
       "      <th>Year of Release</th>\n",
       "      <th>Genre</th>\n",
       "      <th>NA sales</th>\n",
       "      <th>EU sales</th>\n",
       "      <th>JP sales</th>\n",
       "      <th>Other sales</th>\n",
       "      <th>Critic Score</th>\n",
       "      <th>User Score</th>\n",
       "      <th>Rating</th>\n",
       "    </tr>\n",
       "  </thead>\n",
       "  <tbody>\n",
       "    <tr>\n",
       "      <th>0</th>\n",
       "      <td>Wii Sports</td>\n",
       "      <td>Wii</td>\n",
       "      <td>2006.0</td>\n",
       "      <td>Sports</td>\n",
       "      <td>41.36</td>\n",
       "      <td>28.96</td>\n",
       "      <td>3.77</td>\n",
       "      <td>8.45</td>\n",
       "      <td>76.0</td>\n",
       "      <td>8</td>\n",
       "      <td>E</td>\n",
       "    </tr>\n",
       "    <tr>\n",
       "      <th>1</th>\n",
       "      <td>Super Mario Bros.</td>\n",
       "      <td>NES</td>\n",
       "      <td>1985.0</td>\n",
       "      <td>Platform</td>\n",
       "      <td>29.08</td>\n",
       "      <td>3.58</td>\n",
       "      <td>6.81</td>\n",
       "      <td>0.77</td>\n",
       "      <td>NaN</td>\n",
       "      <td>NaN</td>\n",
       "      <td>NaN</td>\n",
       "    </tr>\n",
       "    <tr>\n",
       "      <th>2</th>\n",
       "      <td>Mario Kart Wii</td>\n",
       "      <td>Wii</td>\n",
       "      <td>2008.0</td>\n",
       "      <td>Racing</td>\n",
       "      <td>15.68</td>\n",
       "      <td>12.76</td>\n",
       "      <td>3.79</td>\n",
       "      <td>3.29</td>\n",
       "      <td>82.0</td>\n",
       "      <td>8.3</td>\n",
       "      <td>E</td>\n",
       "    </tr>\n",
       "    <tr>\n",
       "      <th>3</th>\n",
       "      <td>Wii Sports Resort</td>\n",
       "      <td>Wii</td>\n",
       "      <td>2009.0</td>\n",
       "      <td>Sports</td>\n",
       "      <td>15.61</td>\n",
       "      <td>10.93</td>\n",
       "      <td>3.28</td>\n",
       "      <td>2.95</td>\n",
       "      <td>80.0</td>\n",
       "      <td>8</td>\n",
       "      <td>E</td>\n",
       "    </tr>\n",
       "    <tr>\n",
       "      <th>4</th>\n",
       "      <td>Pokemon Red/Pokemon Blue</td>\n",
       "      <td>GB</td>\n",
       "      <td>1996.0</td>\n",
       "      <td>Role-Playing</td>\n",
       "      <td>11.27</td>\n",
       "      <td>8.89</td>\n",
       "      <td>10.22</td>\n",
       "      <td>1.00</td>\n",
       "      <td>NaN</td>\n",
       "      <td>NaN</td>\n",
       "      <td>NaN</td>\n",
       "    </tr>\n",
       "  </tbody>\n",
       "</table>\n",
       "</div>"
      ],
      "text/plain": [
       "                       Name Platform  Year of Release         Genre  NA sales  \\\n",
       "0                Wii Sports      Wii           2006.0        Sports     41.36   \n",
       "1         Super Mario Bros.      NES           1985.0      Platform     29.08   \n",
       "2            Mario Kart Wii      Wii           2008.0        Racing     15.68   \n",
       "3         Wii Sports Resort      Wii           2009.0        Sports     15.61   \n",
       "4  Pokemon Red/Pokemon Blue       GB           1996.0  Role-Playing     11.27   \n",
       "\n",
       "  EU sales JP sales  Other sales  Critic Score User Score Rating  \n",
       "0    28.96     3.77         8.45          76.0          8      E  \n",
       "1     3.58     6.81         0.77           NaN        NaN    NaN  \n",
       "2    12.76     3.79         3.29          82.0        8.3      E  \n",
       "3    10.93     3.28         2.95          80.0          8      E  \n",
       "4     8.89    10.22         1.00           NaN        NaN    NaN  "
      ]
     },
     "execution_count": 3,
     "metadata": {},
     "output_type": "execute_result"
    }
   ],
   "source": [
    "# Выводим первые 5 строк датафрейма на экран\n",
    "df.head()"
   ]
  },
  {
   "cell_type": "code",
   "execution_count": 4,
   "id": "3937acf7",
   "metadata": {
    "id": "3937acf7",
    "scrolled": true
   },
   "outputs": [
    {
     "name": "stdout",
     "output_type": "stream",
     "text": [
      "<class 'pandas.core.frame.DataFrame'>\n",
      "RangeIndex: 16956 entries, 0 to 16955\n",
      "Data columns (total 11 columns):\n",
      " #   Column           Non-Null Count  Dtype  \n",
      "---  ------           --------------  -----  \n",
      " 0   Name             16954 non-null  object \n",
      " 1   Platform         16956 non-null  object \n",
      " 2   Year of Release  16681 non-null  float64\n",
      " 3   Genre            16954 non-null  object \n",
      " 4   NA sales         16956 non-null  float64\n",
      " 5   EU sales         16956 non-null  object \n",
      " 6   JP sales         16956 non-null  object \n",
      " 7   Other sales      16956 non-null  float64\n",
      " 8   Critic Score     8242 non-null   float64\n",
      " 9   User Score       10152 non-null  object \n",
      " 10  Rating           10085 non-null  object \n",
      "dtypes: float64(4), object(7)\n",
      "memory usage: 1.4+ MB\n",
      "None\n"
     ]
    }
   ],
   "source": [
    "# Выводим информацию о датафрейме\n",
    "print(df.info())"
   ]
  },
  {
   "cell_type": "markdown",
   "id": "c2252c3a",
   "metadata": {
    "id": "81651b8d"
   },
   "source": [
    "Данные состоят из 16956 строк и 11 столбцов. Названия столбцов корректно отражают смысл значений в этих столбцах. В 6 из 11 столбцов встречаются пропуски. Данные содержат два типа float64(4) и object(7). Типы данных не во всех столбцах указаны верно, требуютя преобразования столбцов 'eu_sales', 'jp_sales', 'user_score', 'year_of_release'."
   ]
  },
  {
   "cell_type": "markdown",
   "id": "774bf76e",
   "metadata": {
    "id": "774bf76e"
   },
   "source": [
    "---\n",
    "\n",
    "##  Проверка ошибок в данных и их предобработка\n",
    "\n",
    "\n",
    "### Названия, или метки, столбцов датафрейма"
   ]
  },
  {
   "cell_type": "code",
   "execution_count": 5,
   "id": "b9276a2b",
   "metadata": {
    "id": "b9276a2b"
   },
   "outputs": [
    {
     "name": "stdout",
     "output_type": "stream",
     "text": [
      "Index(['Name', 'Platform', 'Year of Release', 'Genre', 'NA sales', 'EU sales',\n",
      "       'JP sales', 'Other sales', 'Critic Score', 'User Score', 'Rating'],\n",
      "      dtype='object')\n"
     ]
    }
   ],
   "source": [
    "# Выведим на экран названия всех столбцов.\n",
    "print(df.columns)"
   ]
  },
  {
   "cell_type": "code",
   "execution_count": 6,
   "id": "d554563c",
   "metadata": {
    "id": "d554563c",
    "scrolled": true
   },
   "outputs": [],
   "source": [
    "# Приведем все столбцы к стилю snake case (преобразуем все знаки в нижний регистр и заменим пробел на нижнее подчеркивание)\n",
    "df.columns=df.columns.str.lower().str.replace(' ','_')"
   ]
  },
  {
   "cell_type": "code",
   "execution_count": 7,
   "id": "87b573dd",
   "metadata": {
    "id": "87b573dd",
    "scrolled": true
   },
   "outputs": [
    {
     "name": "stdout",
     "output_type": "stream",
     "text": [
      "Index(['name', 'platform', 'year_of_release', 'genre', 'na_sales', 'eu_sales',\n",
      "       'jp_sales', 'other_sales', 'critic_score', 'user_score', 'rating'],\n",
      "      dtype='object')\n"
     ]
    }
   ],
   "source": [
    "# Проверим название столбцов после внесенных изменений.\n",
    "print(df.columns)"
   ]
  },
  {
   "cell_type": "code",
   "execution_count": 8,
   "id": "769c6510",
   "metadata": {},
   "outputs": [
    {
     "data": {
      "text/html": [
       "<div>\n",
       "<style scoped>\n",
       "    .dataframe tbody tr th:only-of-type {\n",
       "        vertical-align: middle;\n",
       "    }\n",
       "\n",
       "    .dataframe tbody tr th {\n",
       "        vertical-align: top;\n",
       "    }\n",
       "\n",
       "    .dataframe thead th {\n",
       "        text-align: right;\n",
       "    }\n",
       "</style>\n",
       "<table border=\"1\" class=\"dataframe\">\n",
       "  <thead>\n",
       "    <tr style=\"text-align: right;\">\n",
       "      <th></th>\n",
       "      <th>year_of_release</th>\n",
       "      <th>na_sales</th>\n",
       "      <th>other_sales</th>\n",
       "      <th>critic_score</th>\n",
       "    </tr>\n",
       "  </thead>\n",
       "  <tbody>\n",
       "    <tr>\n",
       "      <th>count</th>\n",
       "      <td>16681.000000</td>\n",
       "      <td>16956.000000</td>\n",
       "      <td>16956.000000</td>\n",
       "      <td>8242.000000</td>\n",
       "    </tr>\n",
       "    <tr>\n",
       "      <th>mean</th>\n",
       "      <td>2006.485522</td>\n",
       "      <td>0.262023</td>\n",
       "      <td>0.047087</td>\n",
       "      <td>68.926717</td>\n",
       "    </tr>\n",
       "    <tr>\n",
       "      <th>std</th>\n",
       "      <td>5.873102</td>\n",
       "      <td>0.808654</td>\n",
       "      <td>0.185577</td>\n",
       "      <td>13.944565</td>\n",
       "    </tr>\n",
       "    <tr>\n",
       "      <th>min</th>\n",
       "      <td>1980.000000</td>\n",
       "      <td>0.000000</td>\n",
       "      <td>0.000000</td>\n",
       "      <td>13.000000</td>\n",
       "    </tr>\n",
       "    <tr>\n",
       "      <th>25%</th>\n",
       "      <td>2003.000000</td>\n",
       "      <td>0.000000</td>\n",
       "      <td>0.000000</td>\n",
       "      <td>60.000000</td>\n",
       "    </tr>\n",
       "    <tr>\n",
       "      <th>50%</th>\n",
       "      <td>2007.000000</td>\n",
       "      <td>0.080000</td>\n",
       "      <td>0.010000</td>\n",
       "      <td>71.000000</td>\n",
       "    </tr>\n",
       "    <tr>\n",
       "      <th>75%</th>\n",
       "      <td>2010.000000</td>\n",
       "      <td>0.240000</td>\n",
       "      <td>0.030000</td>\n",
       "      <td>79.000000</td>\n",
       "    </tr>\n",
       "    <tr>\n",
       "      <th>max</th>\n",
       "      <td>2016.000000</td>\n",
       "      <td>41.360000</td>\n",
       "      <td>10.570000</td>\n",
       "      <td>98.000000</td>\n",
       "    </tr>\n",
       "  </tbody>\n",
       "</table>\n",
       "</div>"
      ],
      "text/plain": [
       "       year_of_release      na_sales   other_sales  critic_score\n",
       "count     16681.000000  16956.000000  16956.000000   8242.000000\n",
       "mean       2006.485522      0.262023      0.047087     68.926717\n",
       "std           5.873102      0.808654      0.185577     13.944565\n",
       "min        1980.000000      0.000000      0.000000     13.000000\n",
       "25%        2003.000000      0.000000      0.000000     60.000000\n",
       "50%        2007.000000      0.080000      0.010000     71.000000\n",
       "75%        2010.000000      0.240000      0.030000     79.000000\n",
       "max        2016.000000     41.360000     10.570000     98.000000"
      ]
     },
     "execution_count": 8,
     "metadata": {},
     "output_type": "execute_result"
    }
   ],
   "source": [
    "# Проверим данные на вбросы или несоответствие.\n",
    "df.describe()\n",
    "#Не обнаружено."
   ]
  },
  {
   "cell_type": "markdown",
   "id": "41bc6bf8",
   "metadata": {
    "id": "41bc6bf8"
   },
   "source": [
    "### Типы данных\n"
   ]
  },
  {
   "cell_type": "code",
   "execution_count": 9,
   "id": "8adaac81",
   "metadata": {
    "id": "8adaac81"
   },
   "outputs": [
    {
     "name": "stdout",
     "output_type": "stream",
     "text": [
      "name                object\n",
      "platform            object\n",
      "year_of_release    float64\n",
      "genre               object\n",
      "na_sales           float64\n",
      "eu_sales            object\n",
      "jp_sales            object\n",
      "other_sales        float64\n",
      "critic_score       float64\n",
      "user_score          object\n",
      "rating              object\n",
      "dtype: object\n"
     ]
    }
   ],
   "source": [
    "# посмотрим еще раз на типы данных перед преобразованием\n",
    "print(df.dtypes)"
   ]
  },
  {
   "cell_type": "code",
   "execution_count": 10,
   "id": "142dcc2e",
   "metadata": {},
   "outputs": [],
   "source": [
    "# заменяем NaN в столбце 'year_of_release' на идикатор 1 и приводим значения  к типу int.\n",
    "df['year_of_release']=df['year_of_release'].fillna(1).round(0).astype(int)"
   ]
  },
  {
   "cell_type": "code",
   "execution_count": 11,
   "id": "30ace12b",
   "metadata": {},
   "outputs": [],
   "source": [
    "# меняем тип в столбцах  'eu_sales', 'jp_sales', 'user_score' на float\n",
    "df['eu_sales']=pd.to_numeric(df['eu_sales'], errors='coerce', downcast='float')\n",
    "df['jp_sales']=pd.to_numeric(df['jp_sales'], errors='coerce', downcast='float')\n",
    "df['user_score']=pd.to_numeric(df['user_score'], errors='coerce', downcast='float' )"
   ]
  },
  {
   "cell_type": "code",
   "execution_count": 12,
   "id": "e8412c01",
   "metadata": {
    "id": "e8412c01",
    "scrolled": true
   },
   "outputs": [
    {
     "data": {
      "text/html": [
       "<div>\n",
       "<style scoped>\n",
       "    .dataframe tbody tr th:only-of-type {\n",
       "        vertical-align: middle;\n",
       "    }\n",
       "\n",
       "    .dataframe tbody tr th {\n",
       "        vertical-align: top;\n",
       "    }\n",
       "\n",
       "    .dataframe thead th {\n",
       "        text-align: right;\n",
       "    }\n",
       "</style>\n",
       "<table border=\"1\" class=\"dataframe\">\n",
       "  <thead>\n",
       "    <tr style=\"text-align: right;\">\n",
       "      <th></th>\n",
       "      <th>name</th>\n",
       "      <th>platform</th>\n",
       "      <th>year_of_release</th>\n",
       "      <th>genre</th>\n",
       "      <th>na_sales</th>\n",
       "      <th>eu_sales</th>\n",
       "      <th>jp_sales</th>\n",
       "      <th>other_sales</th>\n",
       "      <th>critic_score</th>\n",
       "      <th>user_score</th>\n",
       "      <th>rating</th>\n",
       "    </tr>\n",
       "  </thead>\n",
       "  <tbody>\n",
       "    <tr>\n",
       "      <th>14858</th>\n",
       "      <td>Resident Evil 4</td>\n",
       "      <td>PC</td>\n",
       "      <td>2007</td>\n",
       "      <td>Action</td>\n",
       "      <td>0.00</td>\n",
       "      <td>0.02</td>\n",
       "      <td>0.00</td>\n",
       "      <td>0.00</td>\n",
       "      <td>76.0</td>\n",
       "      <td>7.4</td>\n",
       "      <td>M</td>\n",
       "    </tr>\n",
       "    <tr>\n",
       "      <th>14064</th>\n",
       "      <td>Dead Rising</td>\n",
       "      <td>PS4</td>\n",
       "      <td>2016</td>\n",
       "      <td>Action</td>\n",
       "      <td>0.02</td>\n",
       "      <td>0.00</td>\n",
       "      <td>0.01</td>\n",
       "      <td>0.01</td>\n",
       "      <td>78.0</td>\n",
       "      <td>6.6</td>\n",
       "      <td>M</td>\n",
       "    </tr>\n",
       "    <tr>\n",
       "      <th>6974</th>\n",
       "      <td>Juiced 2: Hot Import Nights</td>\n",
       "      <td>DS</td>\n",
       "      <td>2007</td>\n",
       "      <td>Racing</td>\n",
       "      <td>0.22</td>\n",
       "      <td>0.00</td>\n",
       "      <td>0.00</td>\n",
       "      <td>0.02</td>\n",
       "      <td>72.0</td>\n",
       "      <td>NaN</td>\n",
       "      <td>T</td>\n",
       "    </tr>\n",
       "  </tbody>\n",
       "</table>\n",
       "</div>"
      ],
      "text/plain": [
       "                              name platform  year_of_release   genre  \\\n",
       "14858              Resident Evil 4       PC             2007  Action   \n",
       "14064                  Dead Rising      PS4             2016  Action   \n",
       "6974   Juiced 2: Hot Import Nights       DS             2007  Racing   \n",
       "\n",
       "       na_sales  eu_sales  jp_sales  other_sales  critic_score  user_score  \\\n",
       "14858      0.00      0.02      0.00         0.00          76.0         7.4   \n",
       "14064      0.02      0.00      0.01         0.01          78.0         6.6   \n",
       "6974       0.22      0.00      0.00         0.02          72.0         NaN   \n",
       "\n",
       "      rating  \n",
       "14858      M  \n",
       "14064      M  \n",
       "6974       T  "
      ]
     },
     "execution_count": 12,
     "metadata": {},
     "output_type": "execute_result"
    }
   ],
   "source": [
    "# Проверим изменения формата года на трех родндомных строках\n",
    "df.sample(3, random_state = 123)"
   ]
  },
  {
   "cell_type": "code",
   "execution_count": 13,
   "id": "3a26fb26",
   "metadata": {
    "id": "3a26fb26",
    "scrolled": true
   },
   "outputs": [
    {
     "name": "stdout",
     "output_type": "stream",
     "text": [
      "name                object\n",
      "platform            object\n",
      "year_of_release      int64\n",
      "genre               object\n",
      "na_sales           float64\n",
      "eu_sales           float32\n",
      "jp_sales           float32\n",
      "other_sales        float64\n",
      "critic_score       float64\n",
      "user_score         float32\n",
      "rating              object\n",
      "dtype: object\n"
     ]
    }
   ],
   "source": [
    "# типы данных после преобразований\n",
    "print(df.dtypes)"
   ]
  },
  {
   "cell_type": "markdown",
   "id": "b39893cb",
   "metadata": {
    "id": "b39893cb"
   },
   "source": [
    "### 2.3. Наличие пропусков в данных\n"
   ]
  },
  {
   "cell_type": "code",
   "execution_count": 14,
   "id": "0f1c91a8",
   "metadata": {
    "id": "0f1c91a8"
   },
   "outputs": [
    {
     "data": {
      "text/plain": [
       "Critic Score       8714\n",
       "Rating             6871\n",
       "User Score         6804\n",
       "Year of Release     275\n",
       "Name                  2\n",
       "Genre                 2\n",
       "Platform              0\n",
       "JP sales              0\n",
       "EU sales              0\n",
       "NA sales              0\n",
       "Other sales           0\n",
       "dtype: int64"
      ]
     },
     "execution_count": 14,
     "metadata": {},
     "output_type": "execute_result"
    }
   ],
   "source": [
    "# количество пропусков в каждом столбце в абсолютных значениях по убыванию. \n",
    "# Т.к. год выпуска мы уже преобразовали, посмотрим пропуски на основании исходного датафрейма\n",
    "df0.isna().sum().sort_values(ascending=False)"
   ]
  },
  {
   "cell_type": "code",
   "execution_count": 15,
   "id": "86cd1cc1",
   "metadata": {
    "id": "86cd1cc1",
    "scrolled": true
   },
   "outputs": [
    {
     "data": {
      "text/plain": [
       "Critic Score       0.513918\n",
       "Rating             0.405225\n",
       "User Score         0.401274\n",
       "Year of Release    0.016218\n",
       "Name               0.000118\n",
       "Genre              0.000118\n",
       "Platform           0.000000\n",
       "JP sales           0.000000\n",
       "EU sales           0.000000\n",
       "NA sales           0.000000\n",
       "Other sales        0.000000\n",
       "dtype: float64"
      ]
     },
     "execution_count": 15,
     "metadata": {},
     "output_type": "execute_result"
    }
   ],
   "source": [
    "# количество пропусков в каждом столбце в относительных значениях по убыванию\n",
    "df0.isna().mean().sort_values(ascending=False)"
   ]
  },
  {
   "cell_type": "markdown",
   "id": "ca12a689",
   "metadata": {
    "id": "bd69e642"
   },
   "source": [
    "- user_score - 55% пропусков. Т.е ,более чем для половины игр отсутствует оценка пользователей. Для удаления это слишком большой объем данных, заменить на среднее будет неправильно, т.к. такой большой объем данных может исказить результаты, даже если заполнять среднее значение с учетом жанра и платформы, оставлю без изменений.\n",
    "- critic_score - 51%, ситуация аналогична.\n",
    "- rating - 40%, ситуация аналогична.\n",
    "- eu_sales - 0,04% или 6 строк. Незначительно можно удалить из анализа или заменить на среднее.\n",
    "- jp_sales - 0,02% или 4 строки. Незначительно можно удалить из анализа или заменить на среднее.\n",
    "- name - 1% или 2 строки. Незначительно можно удалить из анализа, т.к. в дальнейшем этот столбец будет использоваться в анализе.\n",
    "- genre - 1% или  2 строки. Незначительно можно удалить из анализа, т.к. в дальнейшем этот столбец будет использоваться в анализе.\n",
    "- year_of_release - 1,6% или 275 строк. Год выпуска по некоторым играм можно попробовать взять из названия."
   ]
  },
  {
   "cell_type": "markdown",
   "id": "ade914ca",
   "metadata": {},
   "source": [
    "   В столбцах, содержащих оценку пользователей, критиков и рейтинг, пропуски могут быть связаны с тем, что игры просто не оценивали, поэтому данные не найдены. В целом данные собраны коллегами из открытых источников, поэтому имеет место быть отсутствие информации, т.к. источники, в которых были найдены игры вероятнее всего разные и содержат разную информацию, не везде могут быть указаны  оценки, рейтинг, год выпуска, продажи. Пропуски в названии могут быть связаны с ошибкой, т.к. всего 2 пропуска."
   ]
  },
  {
   "cell_type": "code",
   "execution_count": 16,
   "id": "c964d645",
   "metadata": {
    "id": "b6965b19"
   },
   "outputs": [
    {
     "data": {
      "text/html": [
       "<div>\n",
       "<style scoped>\n",
       "    .dataframe tbody tr th:only-of-type {\n",
       "        vertical-align: middle;\n",
       "    }\n",
       "\n",
       "    .dataframe tbody tr th {\n",
       "        vertical-align: top;\n",
       "    }\n",
       "\n",
       "    .dataframe thead th {\n",
       "        text-align: right;\n",
       "    }\n",
       "</style>\n",
       "<table border=\"1\" class=\"dataframe\">\n",
       "  <thead>\n",
       "    <tr style=\"text-align: right;\">\n",
       "      <th></th>\n",
       "      <th></th>\n",
       "      <th></th>\n",
       "      <th>count</th>\n",
       "    </tr>\n",
       "    <tr>\n",
       "      <th>platform</th>\n",
       "      <th>year_of_release</th>\n",
       "      <th>genre</th>\n",
       "      <th></th>\n",
       "    </tr>\n",
       "  </thead>\n",
       "  <tbody>\n",
       "    <tr>\n",
       "      <th rowspan=\"4\" valign=\"top\">DS</th>\n",
       "      <th>2008</th>\n",
       "      <th>Misc</th>\n",
       "      <td>77</td>\n",
       "    </tr>\n",
       "    <tr>\n",
       "      <th>2009</th>\n",
       "      <th>Simulation</th>\n",
       "      <td>69</td>\n",
       "    </tr>\n",
       "    <tr>\n",
       "      <th>2010</th>\n",
       "      <th>Misc</th>\n",
       "      <td>68</td>\n",
       "    </tr>\n",
       "    <tr>\n",
       "      <th>2008</th>\n",
       "      <th>Simulation</th>\n",
       "      <td>68</td>\n",
       "    </tr>\n",
       "    <tr>\n",
       "      <th>PSP</th>\n",
       "      <th>2010</th>\n",
       "      <th>Adventure</th>\n",
       "      <td>64</td>\n",
       "    </tr>\n",
       "    <tr>\n",
       "      <th rowspan=\"3\" valign=\"top\">DS</th>\n",
       "      <th>2008</th>\n",
       "      <th>Adventure</th>\n",
       "      <td>62</td>\n",
       "    </tr>\n",
       "    <tr>\n",
       "      <th>2007</th>\n",
       "      <th>Misc</th>\n",
       "      <td>59</td>\n",
       "    </tr>\n",
       "    <tr>\n",
       "      <th>2009</th>\n",
       "      <th>Misc</th>\n",
       "      <td>56</td>\n",
       "    </tr>\n",
       "    <tr>\n",
       "      <th>PSP</th>\n",
       "      <th>2012</th>\n",
       "      <th>Action</th>\n",
       "      <td>52</td>\n",
       "    </tr>\n",
       "    <tr>\n",
       "      <th rowspan=\"4\" valign=\"top\">Wii</th>\n",
       "      <th rowspan=\"2\" valign=\"top\">2010</th>\n",
       "      <th>Misc</th>\n",
       "      <td>50</td>\n",
       "    </tr>\n",
       "    <tr>\n",
       "      <th>Sports</th>\n",
       "      <td>50</td>\n",
       "    </tr>\n",
       "    <tr>\n",
       "      <th rowspan=\"2\" valign=\"top\">2009</th>\n",
       "      <th>Misc</th>\n",
       "      <td>48</td>\n",
       "    </tr>\n",
       "    <tr>\n",
       "      <th>Sports</th>\n",
       "      <td>47</td>\n",
       "    </tr>\n",
       "    <tr>\n",
       "      <th>PSP</th>\n",
       "      <th>2011</th>\n",
       "      <th>Adventure</th>\n",
       "      <td>47</td>\n",
       "    </tr>\n",
       "    <tr>\n",
       "      <th>DS</th>\n",
       "      <th>2010</th>\n",
       "      <th>Action</th>\n",
       "      <td>46</td>\n",
       "    </tr>\n",
       "  </tbody>\n",
       "</table>\n",
       "</div>"
      ],
      "text/plain": [
       "                                     count\n",
       "platform year_of_release genre            \n",
       "DS       2008            Misc           77\n",
       "         2009            Simulation     69\n",
       "         2010            Misc           68\n",
       "         2008            Simulation     68\n",
       "PSP      2010            Adventure      64\n",
       "DS       2008            Adventure      62\n",
       "         2007            Misc           59\n",
       "         2009            Misc           56\n",
       "PSP      2012            Action         52\n",
       "Wii      2010            Misc           50\n",
       "                         Sports         50\n",
       "         2009            Misc           48\n",
       "                         Sports         47\n",
       "PSP      2011            Adventure      47\n",
       "DS       2010            Action         46"
      ]
     },
     "execution_count": 16,
     "metadata": {},
     "output_type": "execute_result"
    }
   ],
   "source": [
    "# Проверим есть ли очевидная взаимосвязь или тенденция между пропусками в столбце 'user_score' \n",
    "# и столбцами 'platform','year_of_release', 'genre'\n",
    "# с помощью группировки и сортировки\n",
    "\n",
    "filtered_df_us = df[pd.isna(df['user_score'])]\n",
    "group_for_user_score=filtered_df_us.groupby(['platform','year_of_release', 'genre'])['name'].agg(['count']).sort_values(by='count',ascending=False)\n",
    "group_for_user_score.head(15)"
   ]
  },
  {
   "cell_type": "code",
   "execution_count": 17,
   "id": "4796a411",
   "metadata": {
    "scrolled": true
   },
   "outputs": [
    {
     "data": {
      "text/html": [
       "<div>\n",
       "<style scoped>\n",
       "    .dataframe tbody tr th:only-of-type {\n",
       "        vertical-align: middle;\n",
       "    }\n",
       "\n",
       "    .dataframe tbody tr th {\n",
       "        vertical-align: top;\n",
       "    }\n",
       "\n",
       "    .dataframe thead th {\n",
       "        text-align: right;\n",
       "    }\n",
       "</style>\n",
       "<table border=\"1\" class=\"dataframe\">\n",
       "  <thead>\n",
       "    <tr style=\"text-align: right;\">\n",
       "      <th></th>\n",
       "      <th></th>\n",
       "      <th></th>\n",
       "      <th>count</th>\n",
       "    </tr>\n",
       "    <tr>\n",
       "      <th>platform</th>\n",
       "      <th>year_of_release</th>\n",
       "      <th>genre</th>\n",
       "      <th></th>\n",
       "    </tr>\n",
       "  </thead>\n",
       "  <tbody>\n",
       "    <tr>\n",
       "      <th rowspan=\"4\" valign=\"top\">DS</th>\n",
       "      <th>2008</th>\n",
       "      <th>Misc</th>\n",
       "      <td>74</td>\n",
       "    </tr>\n",
       "    <tr>\n",
       "      <th>2010</th>\n",
       "      <th>Misc</th>\n",
       "      <td>67</td>\n",
       "    </tr>\n",
       "    <tr>\n",
       "      <th>2009</th>\n",
       "      <th>Simulation</th>\n",
       "      <td>67</td>\n",
       "    </tr>\n",
       "    <tr>\n",
       "      <th>2008</th>\n",
       "      <th>Simulation</th>\n",
       "      <td>66</td>\n",
       "    </tr>\n",
       "    <tr>\n",
       "      <th>PSP</th>\n",
       "      <th>2010</th>\n",
       "      <th>Adventure</th>\n",
       "      <td>64</td>\n",
       "    </tr>\n",
       "    <tr>\n",
       "      <th rowspan=\"2\" valign=\"top\">DS</th>\n",
       "      <th>2008</th>\n",
       "      <th>Adventure</th>\n",
       "      <td>60</td>\n",
       "    </tr>\n",
       "    <tr>\n",
       "      <th>2007</th>\n",
       "      <th>Misc</th>\n",
       "      <td>56</td>\n",
       "    </tr>\n",
       "    <tr>\n",
       "      <th>PSP</th>\n",
       "      <th>2012</th>\n",
       "      <th>Action</th>\n",
       "      <td>53</td>\n",
       "    </tr>\n",
       "    <tr>\n",
       "      <th>DS</th>\n",
       "      <th>2009</th>\n",
       "      <th>Misc</th>\n",
       "      <td>51</td>\n",
       "    </tr>\n",
       "    <tr>\n",
       "      <th>Wii</th>\n",
       "      <th>2010</th>\n",
       "      <th>Misc</th>\n",
       "      <td>51</td>\n",
       "    </tr>\n",
       "    <tr>\n",
       "      <th>PSV</th>\n",
       "      <th>2015</th>\n",
       "      <th>Action</th>\n",
       "      <td>47</td>\n",
       "    </tr>\n",
       "    <tr>\n",
       "      <th>Wii</th>\n",
       "      <th>2010</th>\n",
       "      <th>Sports</th>\n",
       "      <td>47</td>\n",
       "    </tr>\n",
       "    <tr>\n",
       "      <th>PSP</th>\n",
       "      <th>2011</th>\n",
       "      <th>Adventure</th>\n",
       "      <td>47</td>\n",
       "    </tr>\n",
       "    <tr>\n",
       "      <th rowspan=\"2\" valign=\"top\">Wii</th>\n",
       "      <th rowspan=\"2\" valign=\"top\">2009</th>\n",
       "      <th>Sports</th>\n",
       "      <td>45</td>\n",
       "    </tr>\n",
       "    <tr>\n",
       "      <th>Misc</th>\n",
       "      <td>45</td>\n",
       "    </tr>\n",
       "  </tbody>\n",
       "</table>\n",
       "</div>"
      ],
      "text/plain": [
       "                                     count\n",
       "platform year_of_release genre            \n",
       "DS       2008            Misc           74\n",
       "         2010            Misc           67\n",
       "         2009            Simulation     67\n",
       "         2008            Simulation     66\n",
       "PSP      2010            Adventure      64\n",
       "DS       2008            Adventure      60\n",
       "         2007            Misc           56\n",
       "PSP      2012            Action         53\n",
       "DS       2009            Misc           51\n",
       "Wii      2010            Misc           51\n",
       "PSV      2015            Action         47\n",
       "Wii      2010            Sports         47\n",
       "PSP      2011            Adventure      47\n",
       "Wii      2009            Sports         45\n",
       "                         Misc           45"
      ]
     },
     "execution_count": 17,
     "metadata": {},
     "output_type": "execute_result"
    }
   ],
   "source": [
    "# Проверим есть ли очевидная взаимосвязь или тенденция между пропусками в столбце 'critic_score' \n",
    "# и столбцами 'platform','year_of_release', 'genre'\n",
    "# с помощью группировки и сортировки\n",
    "\n",
    "filtered_df_cr = df[pd.isna(df['critic_score'])]\n",
    "group_for_critic_score=filtered_df_cr.groupby(['platform','year_of_release', 'genre'])['name'].agg(['count']).sort_values(by='count',ascending=False)\n",
    "group_for_critic_score.head(15)"
   ]
  },
  {
   "cell_type": "code",
   "execution_count": 18,
   "id": "e1ff24ba",
   "metadata": {
    "scrolled": true
   },
   "outputs": [
    {
     "data": {
      "text/html": [
       "<div>\n",
       "<style scoped>\n",
       "    .dataframe tbody tr th:only-of-type {\n",
       "        vertical-align: middle;\n",
       "    }\n",
       "\n",
       "    .dataframe tbody tr th {\n",
       "        vertical-align: top;\n",
       "    }\n",
       "\n",
       "    .dataframe thead th {\n",
       "        text-align: right;\n",
       "    }\n",
       "</style>\n",
       "<table border=\"1\" class=\"dataframe\">\n",
       "  <thead>\n",
       "    <tr style=\"text-align: right;\">\n",
       "      <th></th>\n",
       "      <th></th>\n",
       "      <th></th>\n",
       "      <th>count</th>\n",
       "    </tr>\n",
       "    <tr>\n",
       "      <th>platform</th>\n",
       "      <th>year_of_release</th>\n",
       "      <th>genre</th>\n",
       "      <th></th>\n",
       "    </tr>\n",
       "  </thead>\n",
       "  <tbody>\n",
       "    <tr>\n",
       "      <th rowspan=\"2\" valign=\"top\">PSP</th>\n",
       "      <th>2010</th>\n",
       "      <th>Adventure</th>\n",
       "      <td>63</td>\n",
       "    </tr>\n",
       "    <tr>\n",
       "      <th>2012</th>\n",
       "      <th>Action</th>\n",
       "      <td>52</td>\n",
       "    </tr>\n",
       "    <tr>\n",
       "      <th>DS</th>\n",
       "      <th>2008</th>\n",
       "      <th>Misc</th>\n",
       "      <td>48</td>\n",
       "    </tr>\n",
       "    <tr>\n",
       "      <th>PSP</th>\n",
       "      <th>2011</th>\n",
       "      <th>Adventure</th>\n",
       "      <td>47</td>\n",
       "    </tr>\n",
       "    <tr>\n",
       "      <th>PSV</th>\n",
       "      <th>2015</th>\n",
       "      <th>Action</th>\n",
       "      <td>41</td>\n",
       "    </tr>\n",
       "    <tr>\n",
       "      <th rowspan=\"2\" valign=\"top\">DS</th>\n",
       "      <th>2008</th>\n",
       "      <th>Adventure</th>\n",
       "      <td>41</td>\n",
       "    </tr>\n",
       "    <tr>\n",
       "      <th>2007</th>\n",
       "      <th>Misc</th>\n",
       "      <td>40</td>\n",
       "    </tr>\n",
       "    <tr>\n",
       "      <th rowspan=\"2\" valign=\"top\">PS</th>\n",
       "      <th>1998</th>\n",
       "      <th>Sports</th>\n",
       "      <td>40</td>\n",
       "    </tr>\n",
       "    <tr>\n",
       "      <th>1996</th>\n",
       "      <th>Sports</th>\n",
       "      <td>38</td>\n",
       "    </tr>\n",
       "    <tr>\n",
       "      <th>PS2</th>\n",
       "      <th>2008</th>\n",
       "      <th>Adventure</th>\n",
       "      <td>37</td>\n",
       "    </tr>\n",
       "    <tr>\n",
       "      <th>DS</th>\n",
       "      <th>2010</th>\n",
       "      <th>Misc</th>\n",
       "      <td>35</td>\n",
       "    </tr>\n",
       "    <tr>\n",
       "      <th>PS2</th>\n",
       "      <th>2006</th>\n",
       "      <th>Adventure</th>\n",
       "      <td>33</td>\n",
       "    </tr>\n",
       "    <tr>\n",
       "      <th rowspan=\"2\" valign=\"top\">PS</th>\n",
       "      <th rowspan=\"2\" valign=\"top\">1998</th>\n",
       "      <th>Racing</th>\n",
       "      <td>32</td>\n",
       "    </tr>\n",
       "    <tr>\n",
       "      <th>Action</th>\n",
       "      <td>32</td>\n",
       "    </tr>\n",
       "    <tr>\n",
       "      <th>PSV</th>\n",
       "      <th>2016</th>\n",
       "      <th>Action</th>\n",
       "      <td>31</td>\n",
       "    </tr>\n",
       "  </tbody>\n",
       "</table>\n",
       "</div>"
      ],
      "text/plain": [
       "                                    count\n",
       "platform year_of_release genre           \n",
       "PSP      2010            Adventure     63\n",
       "         2012            Action        52\n",
       "DS       2008            Misc          48\n",
       "PSP      2011            Adventure     47\n",
       "PSV      2015            Action        41\n",
       "DS       2008            Adventure     41\n",
       "         2007            Misc          40\n",
       "PS       1998            Sports        40\n",
       "         1996            Sports        38\n",
       "PS2      2008            Adventure     37\n",
       "DS       2010            Misc          35\n",
       "PS2      2006            Adventure     33\n",
       "PS       1998            Racing        32\n",
       "                         Action        32\n",
       "PSV      2016            Action        31"
      ]
     },
     "execution_count": 18,
     "metadata": {},
     "output_type": "execute_result"
    }
   ],
   "source": [
    "# Проверим есть ли очевидная взаимосвязь или тенденция между пропусками в столбце 'rating' \n",
    "# и столбцами 'platform','year_of_release', 'genre'\n",
    "# с помощью группировки и сортировки\n",
    "\n",
    "filtered_df_rating = df[pd.isna(df['rating'])]\n",
    "group_for_rating=filtered_df_rating.groupby(['platform','year_of_release', 'genre'])['name'].agg(['count']).sort_values(by='count',ascending=False)\n",
    "group_for_rating=group_for_rating\n",
    "group_for_rating.head(15)"
   ]
  },
  {
   "cell_type": "code",
   "execution_count": 19,
   "id": "21586ec5",
   "metadata": {},
   "outputs": [],
   "source": [
    "# Количество уникальных платформ, лет и жанров без оценки пользователей\n",
    "unic_platf_us=len(group_for_user_score.reset_index()['platform'].unique())\n",
    "unic_year_us=len(group_for_user_score.reset_index()['year_of_release'].unique())\n",
    "unic_genre_us=len(group_for_user_score.reset_index()['genre'].unique())"
   ]
  },
  {
   "cell_type": "code",
   "execution_count": 20,
   "id": "10785e56",
   "metadata": {},
   "outputs": [],
   "source": [
    "# Количество уникальных платформ, лет и жанров без оценки критиков\n",
    "unic_platf_cr=len(group_for_critic_score.reset_index()['platform'].unique())\n",
    "unic_year_cr=len(group_for_critic_score.reset_index()['year_of_release'].unique())\n",
    "unic_genre_cr=len(group_for_critic_score.reset_index()['genre'].unique())"
   ]
  },
  {
   "cell_type": "code",
   "execution_count": 21,
   "id": "865f13dd",
   "metadata": {},
   "outputs": [],
   "source": [
    "# Количество уникальных платформ, лет и жанров без рейтинга\n",
    "unic_platf_rt=len(group_for_rating.reset_index()['platform'].unique())\n",
    "unic_year_rt=len(group_for_rating.reset_index()['year_of_release'].unique())\n",
    "unic_genre_rt=len(group_for_rating.reset_index()['genre'].unique())"
   ]
  },
  {
   "cell_type": "code",
   "execution_count": 22,
   "id": "b828a75d",
   "metadata": {},
   "outputs": [],
   "source": [
    "# Количество уникальных платформ, лет и жанров всего\n",
    "unic_platf=len(df['platform'].unique())\n",
    "unic_year=len(df['year_of_release'].unique())\n",
    "unic_genre=len(df['genre'].unique())"
   ]
  },
  {
   "cell_type": "code",
   "execution_count": 23,
   "id": "0319de1e",
   "metadata": {},
   "outputs": [
    {
     "name": "stdout",
     "output_type": "stream",
     "text": [
      "Количество уникальных платформ всего: 31, встречаются без оценки пользователей:31, без оценки критиков:31, без рейтинга:31\n",
      "Количество уникальных лет всего:      38, встречаются без оценки пользователей:38, без оценки критиков:38, без рейтинга:38\n",
      "Количество уникальных жанров всего:   38, встречаются без оценки пользователей:23, без оценки критиков:24, без рейтинга:22\n"
     ]
    }
   ],
   "source": [
    "print(f'Количество уникальных платформ всего: {unic_platf}, встречаются без оценки пользователей:{unic_platf_us}, без оценки критиков:{unic_platf_cr}, без рейтинга:{unic_platf_rt}')\n",
    "print(f'Количество уникальных лет всего:      {unic_year}, встречаются без оценки пользователей:{unic_year_us}, без оценки критиков:{unic_year_cr}, без рейтинга:{unic_year_rt}')\n",
    "print(f'Количество уникальных жанров всего:   {unic_year}, встречаются без оценки пользователей:{unic_genre_us}, без оценки критиков:{unic_genre_cr}, без рейтинга:{unic_genre_rt}')"
   ]
  },
  {
   "cell_type": "markdown",
   "id": "40183082",
   "metadata": {},
   "source": [
    "Выше рассмотрены взаимосвязи для столбцов с наибольшей долей пропусков (более 41%). Отсутствие оценки пользователей, оценки критиков и рейтинга не связано с платформой или годом выпуска, т.к. количество уникальных значений не изменилось. Уникальные значения в разрезе жанров не все встречаются в отсутствующих данных, но их число не менее 22 из 38. Поэтому нельзя сделать вывод, о том, что данные отсутствуют у игр в конкретных жанрах, платформах или годах."
   ]
  },
  {
   "cell_type": "code",
   "execution_count": 24,
   "id": "49bbe2eb",
   "metadata": {},
   "outputs": [
    {
     "name": "stdout",
     "output_type": "stream",
     "text": [
      "275\n"
     ]
    },
    {
     "data": {
      "text/html": [
       "<div>\n",
       "<style scoped>\n",
       "    .dataframe tbody tr th:only-of-type {\n",
       "        vertical-align: middle;\n",
       "    }\n",
       "\n",
       "    .dataframe tbody tr th {\n",
       "        vertical-align: top;\n",
       "    }\n",
       "\n",
       "    .dataframe thead th {\n",
       "        text-align: right;\n",
       "    }\n",
       "</style>\n",
       "<table border=\"1\" class=\"dataframe\">\n",
       "  <thead>\n",
       "    <tr style=\"text-align: right;\">\n",
       "      <th></th>\n",
       "      <th>name</th>\n",
       "      <th>platform</th>\n",
       "      <th>year_of_release</th>\n",
       "      <th>genre</th>\n",
       "      <th>na_sales</th>\n",
       "      <th>eu_sales</th>\n",
       "      <th>jp_sales</th>\n",
       "      <th>other_sales</th>\n",
       "      <th>critic_score</th>\n",
       "      <th>user_score</th>\n",
       "      <th>rating</th>\n",
       "    </tr>\n",
       "  </thead>\n",
       "  <tbody>\n",
       "    <tr>\n",
       "      <th>183</th>\n",
       "      <td>Madden NFL 2004</td>\n",
       "      <td>PS2</td>\n",
       "      <td>1</td>\n",
       "      <td>Sports</td>\n",
       "      <td>4.26</td>\n",
       "      <td>0.26</td>\n",
       "      <td>0.01</td>\n",
       "      <td>0.71</td>\n",
       "      <td>94.0</td>\n",
       "      <td>8.5</td>\n",
       "      <td>E</td>\n",
       "    </tr>\n",
       "    <tr>\n",
       "      <th>379</th>\n",
       "      <td>FIFA Soccer 2004</td>\n",
       "      <td>PS2</td>\n",
       "      <td>1</td>\n",
       "      <td>Sports</td>\n",
       "      <td>0.59</td>\n",
       "      <td>2.36</td>\n",
       "      <td>0.04</td>\n",
       "      <td>0.51</td>\n",
       "      <td>84.0</td>\n",
       "      <td>6.4</td>\n",
       "      <td>E</td>\n",
       "    </tr>\n",
       "    <tr>\n",
       "      <th>458</th>\n",
       "      <td>LEGO Batman: The Videogame</td>\n",
       "      <td>Wii</td>\n",
       "      <td>1</td>\n",
       "      <td>Action</td>\n",
       "      <td>1.80</td>\n",
       "      <td>0.97</td>\n",
       "      <td>0.00</td>\n",
       "      <td>0.29</td>\n",
       "      <td>74.0</td>\n",
       "      <td>7.9</td>\n",
       "      <td>E10+</td>\n",
       "    </tr>\n",
       "    <tr>\n",
       "      <th>477</th>\n",
       "      <td>wwe Smackdown vs. Raw 2006</td>\n",
       "      <td>PS2</td>\n",
       "      <td>1</td>\n",
       "      <td>Fighting</td>\n",
       "      <td>1.57</td>\n",
       "      <td>1.02</td>\n",
       "      <td>0.00</td>\n",
       "      <td>0.41</td>\n",
       "      <td>NaN</td>\n",
       "      <td>NaN</td>\n",
       "      <td>NaN</td>\n",
       "    </tr>\n",
       "    <tr>\n",
       "      <th>611</th>\n",
       "      <td>Space Invaders</td>\n",
       "      <td>2600</td>\n",
       "      <td>1</td>\n",
       "      <td>Shooter</td>\n",
       "      <td>2.36</td>\n",
       "      <td>0.14</td>\n",
       "      <td>0.00</td>\n",
       "      <td>0.03</td>\n",
       "      <td>NaN</td>\n",
       "      <td>NaN</td>\n",
       "      <td>NaN</td>\n",
       "    </tr>\n",
       "  </tbody>\n",
       "</table>\n",
       "</div>"
      ],
      "text/plain": [
       "                           name platform  year_of_release     genre  na_sales  \\\n",
       "183             Madden NFL 2004      PS2                1    Sports      4.26   \n",
       "379            FIFA Soccer 2004      PS2                1    Sports      0.59   \n",
       "458  LEGO Batman: The Videogame      Wii                1    Action      1.80   \n",
       "477  wwe Smackdown vs. Raw 2006      PS2                1  Fighting      1.57   \n",
       "611              Space Invaders     2600                1   Shooter      2.36   \n",
       "\n",
       "     eu_sales  jp_sales  other_sales  critic_score  user_score rating  \n",
       "183      0.26      0.01         0.71          94.0         8.5      E  \n",
       "379      2.36      0.04         0.51          84.0         6.4      E  \n",
       "458      0.97      0.00         0.29          74.0         7.9   E10+  \n",
       "477      1.02      0.00         0.41           NaN         NaN    NaN  \n",
       "611      0.14      0.00         0.03           NaN         NaN    NaN  "
      ]
     },
     "execution_count": 24,
     "metadata": {},
     "output_type": "execute_result"
    }
   ],
   "source": [
    "# Посмотрим названия без указания года, например, в строке с индексом 183 указан год в названии\n",
    "filtered_df_year = df[df['year_of_release']==1]\n",
    "print(filtered_df_year.shape[0]) ## количество строк без года\n",
    "filtered_df_year.head(5)"
   ]
  },
  {
   "cell_type": "code",
   "execution_count": 25,
   "id": "f63ec5f7",
   "metadata": {},
   "outputs": [
    {
     "name": "stdout",
     "output_type": "stream",
     "text": [
      "260\n"
     ]
    }
   ],
   "source": [
    "# Заменим 1 на год в тех местах, где возможно год извлечь из названий\n",
    "mask = df['year_of_release'] == 1\n",
    "\n",
    "\n",
    "df.loc[mask, 'year_of_release'] = df.loc[mask, 'name'].str.extract(r'(?<=\\s)(19|20\\d{2})(?=\\s|$)')[0].astype(float)\n",
    "df['year_of_release']=df['year_of_release'].fillna(1).round(0).astype(int)\n",
    "g=df[df['year_of_release']>1]\n",
    "\n",
    "print(df[df['year_of_release']==1].shape[0]) ## количество строк без года после извлечения года из названия игр\n"
   ]
  },
  {
   "cell_type": "code",
   "execution_count": 26,
   "id": "4cff9056",
   "metadata": {},
   "outputs": [
    {
     "data": {
      "text/html": [
       "<div>\n",
       "<style scoped>\n",
       "    .dataframe tbody tr th:only-of-type {\n",
       "        vertical-align: middle;\n",
       "    }\n",
       "\n",
       "    .dataframe tbody tr th {\n",
       "        vertical-align: top;\n",
       "    }\n",
       "\n",
       "    .dataframe thead th {\n",
       "        text-align: right;\n",
       "    }\n",
       "</style>\n",
       "<table border=\"1\" class=\"dataframe\">\n",
       "  <thead>\n",
       "    <tr style=\"text-align: right;\">\n",
       "      <th></th>\n",
       "      <th>name</th>\n",
       "      <th>platform</th>\n",
       "      <th>year_of_release</th>\n",
       "      <th>genre</th>\n",
       "      <th>na_sales</th>\n",
       "      <th>eu_sales</th>\n",
       "      <th>jp_sales</th>\n",
       "      <th>other_sales</th>\n",
       "      <th>critic_score</th>\n",
       "      <th>user_score</th>\n",
       "      <th>rating</th>\n",
       "    </tr>\n",
       "  </thead>\n",
       "  <tbody>\n",
       "    <tr>\n",
       "      <th>183</th>\n",
       "      <td>Madden NFL 2004</td>\n",
       "      <td>PS2</td>\n",
       "      <td>2004</td>\n",
       "      <td>Sports</td>\n",
       "      <td>4.26</td>\n",
       "      <td>0.26</td>\n",
       "      <td>0.01</td>\n",
       "      <td>0.71</td>\n",
       "      <td>94.0</td>\n",
       "      <td>8.5</td>\n",
       "      <td>E</td>\n",
       "    </tr>\n",
       "  </tbody>\n",
       "</table>\n",
       "</div>"
      ],
      "text/plain": [
       "                name platform  year_of_release   genre  na_sales  eu_sales  \\\n",
       "183  Madden NFL 2004      PS2             2004  Sports      4.26      0.26   \n",
       "\n",
       "     jp_sales  other_sales  critic_score  user_score rating  \n",
       "183      0.01         0.71          94.0         8.5      E  "
      ]
     },
     "execution_count": 26,
     "metadata": {},
     "output_type": "execute_result"
    }
   ],
   "source": [
    "# Проверим изменения на примере строки с индексом 183. Должен появиться год.\n",
    "g.loc[183:183]"
   ]
  },
  {
   "cell_type": "code",
   "execution_count": 27,
   "id": "2784c760",
   "metadata": {
    "id": "2784c760"
   },
   "outputs": [
    {
     "data": {
      "text/html": [
       "<div>\n",
       "<style scoped>\n",
       "    .dataframe tbody tr th:only-of-type {\n",
       "        vertical-align: middle;\n",
       "    }\n",
       "\n",
       "    .dataframe tbody tr th {\n",
       "        vertical-align: top;\n",
       "    }\n",
       "\n",
       "    .dataframe thead th {\n",
       "        text-align: right;\n",
       "    }\n",
       "</style>\n",
       "<table border=\"1\" class=\"dataframe\">\n",
       "  <thead>\n",
       "    <tr style=\"text-align: right;\">\n",
       "      <th></th>\n",
       "      <th>name</th>\n",
       "      <th>platform</th>\n",
       "      <th>year_of_release</th>\n",
       "      <th>genre</th>\n",
       "      <th>na_sales</th>\n",
       "      <th>eu_sales</th>\n",
       "      <th>jp_sales</th>\n",
       "      <th>other_sales</th>\n",
       "      <th>critic_score</th>\n",
       "      <th>user_score</th>\n",
       "      <th>rating</th>\n",
       "    </tr>\n",
       "  </thead>\n",
       "  <tbody>\n",
       "    <tr>\n",
       "      <th>446</th>\n",
       "      <td>Rhythm Heaven</td>\n",
       "      <td>DS</td>\n",
       "      <td>2008</td>\n",
       "      <td>Misc</td>\n",
       "      <td>0.55</td>\n",
       "      <td>NaN</td>\n",
       "      <td>1.93</td>\n",
       "      <td>0.13</td>\n",
       "      <td>83.0</td>\n",
       "      <td>9.0</td>\n",
       "      <td>E</td>\n",
       "    </tr>\n",
       "    <tr>\n",
       "      <th>802</th>\n",
       "      <td>Dead Rising</td>\n",
       "      <td>X360</td>\n",
       "      <td>2006</td>\n",
       "      <td>Action</td>\n",
       "      <td>1.16</td>\n",
       "      <td>NaN</td>\n",
       "      <td>0.08</td>\n",
       "      <td>0.20</td>\n",
       "      <td>85.0</td>\n",
       "      <td>7.6</td>\n",
       "      <td>M</td>\n",
       "    </tr>\n",
       "    <tr>\n",
       "      <th>1131</th>\n",
       "      <td>Prince of Persia: Warrior Within</td>\n",
       "      <td>PS2</td>\n",
       "      <td>2004</td>\n",
       "      <td>Action</td>\n",
       "      <td>0.54</td>\n",
       "      <td>NaN</td>\n",
       "      <td>0.00</td>\n",
       "      <td>0.22</td>\n",
       "      <td>83.0</td>\n",
       "      <td>8.5</td>\n",
       "      <td>M</td>\n",
       "    </tr>\n",
       "    <tr>\n",
       "      <th>1132</th>\n",
       "      <td>Far Cry 4</td>\n",
       "      <td>XOne</td>\n",
       "      <td>2014</td>\n",
       "      <td>Shooter</td>\n",
       "      <td>0.80</td>\n",
       "      <td>NaN</td>\n",
       "      <td>0.01</td>\n",
       "      <td>0.14</td>\n",
       "      <td>82.0</td>\n",
       "      <td>7.5</td>\n",
       "      <td>M</td>\n",
       "    </tr>\n",
       "    <tr>\n",
       "      <th>1394</th>\n",
       "      <td>Sonic Advance 3</td>\n",
       "      <td>GBA</td>\n",
       "      <td>2004</td>\n",
       "      <td>Platform</td>\n",
       "      <td>0.74</td>\n",
       "      <td>NaN</td>\n",
       "      <td>0.08</td>\n",
       "      <td>0.06</td>\n",
       "      <td>79.0</td>\n",
       "      <td>8.4</td>\n",
       "      <td>E</td>\n",
       "    </tr>\n",
       "    <tr>\n",
       "      <th>1612</th>\n",
       "      <td>Ratatouille</td>\n",
       "      <td>DS</td>\n",
       "      <td>2007</td>\n",
       "      <td>Action</td>\n",
       "      <td>0.49</td>\n",
       "      <td>NaN</td>\n",
       "      <td>0.00</td>\n",
       "      <td>0.14</td>\n",
       "      <td>NaN</td>\n",
       "      <td>NaN</td>\n",
       "      <td>NaN</td>\n",
       "    </tr>\n",
       "  </tbody>\n",
       "</table>\n",
       "</div>"
      ],
      "text/plain": [
       "                                  name platform  year_of_release     genre  \\\n",
       "446                      Rhythm Heaven       DS             2008      Misc   \n",
       "802                        Dead Rising     X360             2006    Action   \n",
       "1131  Prince of Persia: Warrior Within      PS2             2004    Action   \n",
       "1132                         Far Cry 4     XOne             2014   Shooter   \n",
       "1394                   Sonic Advance 3      GBA             2004  Platform   \n",
       "1612                       Ratatouille       DS             2007    Action   \n",
       "\n",
       "      na_sales  eu_sales  jp_sales  other_sales  critic_score  user_score  \\\n",
       "446       0.55       NaN      1.93         0.13          83.0         9.0   \n",
       "802       1.16       NaN      0.08         0.20          85.0         7.6   \n",
       "1131      0.54       NaN      0.00         0.22          83.0         8.5   \n",
       "1132      0.80       NaN      0.01         0.14          82.0         7.5   \n",
       "1394      0.74       NaN      0.08         0.06          79.0         8.4   \n",
       "1612      0.49       NaN      0.00         0.14           NaN         NaN   \n",
       "\n",
       "     rating  \n",
       "446       E  \n",
       "802       M  \n",
       "1131      M  \n",
       "1132      M  \n",
       "1394      E  \n",
       "1612    NaN  "
      ]
     },
     "execution_count": 27,
     "metadata": {},
     "output_type": "execute_result"
    }
   ],
   "source": [
    "# Посмотрим пропуски в столбце eu_sales \n",
    "filtered_df_eu_sales = df[pd.isna(df['eu_sales'])]\n",
    "filtered_df_eu_sales"
   ]
  },
  {
   "cell_type": "code",
   "execution_count": 28,
   "id": "d6cf41d7",
   "metadata": {},
   "outputs": [],
   "source": [
    "# заменим пропуски в  столбце eu_sales на среднее значение в зависимости от названия платформы и года выхода игры.\n",
    "def mean_sales_eu(row):\n",
    "    if pd.isna(row['eu_sales']):\n",
    "        group = df[(df['platform']==row['platform']) &\n",
    "                  (df['year_of_release']==row['year_of_release'])]\n",
    "        return group['eu_sales'].mean()\n",
    "    else:\n",
    "        return row['eu_sales']\n",
    "    \n",
    "df['eu_sales']=df.apply(mean_sales_eu, axis=1)"
   ]
  },
  {
   "cell_type": "code",
   "execution_count": 29,
   "id": "f1c1e5f5",
   "metadata": {},
   "outputs": [
    {
     "data": {
      "text/html": [
       "<div>\n",
       "<style scoped>\n",
       "    .dataframe tbody tr th:only-of-type {\n",
       "        vertical-align: middle;\n",
       "    }\n",
       "\n",
       "    .dataframe tbody tr th {\n",
       "        vertical-align: top;\n",
       "    }\n",
       "\n",
       "    .dataframe thead th {\n",
       "        text-align: right;\n",
       "    }\n",
       "</style>\n",
       "<table border=\"1\" class=\"dataframe\">\n",
       "  <thead>\n",
       "    <tr style=\"text-align: right;\">\n",
       "      <th></th>\n",
       "      <th>name</th>\n",
       "      <th>platform</th>\n",
       "      <th>year_of_release</th>\n",
       "      <th>genre</th>\n",
       "      <th>na_sales</th>\n",
       "      <th>eu_sales</th>\n",
       "      <th>jp_sales</th>\n",
       "      <th>other_sales</th>\n",
       "      <th>critic_score</th>\n",
       "      <th>user_score</th>\n",
       "      <th>rating</th>\n",
       "    </tr>\n",
       "  </thead>\n",
       "  <tbody>\n",
       "    <tr>\n",
       "      <th>467</th>\n",
       "      <td>Saints Row 2</td>\n",
       "      <td>X360</td>\n",
       "      <td>2008</td>\n",
       "      <td>Action</td>\n",
       "      <td>1.94</td>\n",
       "      <td>0.79</td>\n",
       "      <td>NaN</td>\n",
       "      <td>0.28</td>\n",
       "      <td>81.0</td>\n",
       "      <td>8.1</td>\n",
       "      <td>M</td>\n",
       "    </tr>\n",
       "    <tr>\n",
       "      <th>819</th>\n",
       "      <td>UFC 2009 Undisputed</td>\n",
       "      <td>X360</td>\n",
       "      <td>2009</td>\n",
       "      <td>Fighting</td>\n",
       "      <td>1.48</td>\n",
       "      <td>0.39</td>\n",
       "      <td>NaN</td>\n",
       "      <td>0.19</td>\n",
       "      <td>83.0</td>\n",
       "      <td>7.9</td>\n",
       "      <td>T</td>\n",
       "    </tr>\n",
       "    <tr>\n",
       "      <th>1379</th>\n",
       "      <td>Hello Kitty Party</td>\n",
       "      <td>DS</td>\n",
       "      <td>2007</td>\n",
       "      <td>Misc</td>\n",
       "      <td>0.78</td>\n",
       "      <td>0.51</td>\n",
       "      <td>NaN</td>\n",
       "      <td>0.12</td>\n",
       "      <td>NaN</td>\n",
       "      <td>NaN</td>\n",
       "      <td>E</td>\n",
       "    </tr>\n",
       "    <tr>\n",
       "      <th>4732</th>\n",
       "      <td>Castlevania: The Dracula X Chronicles</td>\n",
       "      <td>PSP</td>\n",
       "      <td>2007</td>\n",
       "      <td>Platform</td>\n",
       "      <td>0.22</td>\n",
       "      <td>0.09</td>\n",
       "      <td>NaN</td>\n",
       "      <td>0.07</td>\n",
       "      <td>80.0</td>\n",
       "      <td>7.8</td>\n",
       "      <td>T</td>\n",
       "    </tr>\n",
       "  </tbody>\n",
       "</table>\n",
       "</div>"
      ],
      "text/plain": [
       "                                       name platform  year_of_release  \\\n",
       "467                            Saints Row 2     X360             2008   \n",
       "819                     UFC 2009 Undisputed     X360             2009   \n",
       "1379                      Hello Kitty Party       DS             2007   \n",
       "4732  Castlevania: The Dracula X Chronicles      PSP             2007   \n",
       "\n",
       "         genre  na_sales  eu_sales  jp_sales  other_sales  critic_score  \\\n",
       "467     Action      1.94      0.79       NaN         0.28          81.0   \n",
       "819   Fighting      1.48      0.39       NaN         0.19          83.0   \n",
       "1379      Misc      0.78      0.51       NaN         0.12           NaN   \n",
       "4732  Platform      0.22      0.09       NaN         0.07          80.0   \n",
       "\n",
       "      user_score rating  \n",
       "467          8.1      M  \n",
       "819          7.9      T  \n",
       "1379         NaN      E  \n",
       "4732         7.8      T  "
      ]
     },
     "execution_count": 29,
     "metadata": {},
     "output_type": "execute_result"
    }
   ],
   "source": [
    "# Посмотрим пропуски в столбце jp_sales\n",
    "filtered_df_jp_sales = df[pd.isna(df['jp_sales'])]\n",
    "filtered_df_jp_sales"
   ]
  },
  {
   "cell_type": "code",
   "execution_count": 30,
   "id": "a1dc5b01",
   "metadata": {},
   "outputs": [],
   "source": [
    "# заменим пропуски в  столбце jp_sales на среднее значение в зависимости от названия платформы и года выхода игры.\n",
    "def mean_sales_jp(row):\n",
    "    if pd.isna(row['jp_sales']):\n",
    "        group = df[(df['platform']==row['platform']) &\n",
    "                  (df['year_of_release']==row['year_of_release'])]\n",
    "        return group['jp_sales'].mean()\n",
    "    else:\n",
    "        return row['jp_sales']\n",
    "    \n",
    "df['jp_sales']=df.apply(mean_sales_jp, axis=1)"
   ]
  },
  {
   "cell_type": "code",
   "execution_count": 31,
   "id": "beeaa47b",
   "metadata": {},
   "outputs": [
    {
     "data": {
      "text/html": [
       "<div>\n",
       "<style scoped>\n",
       "    .dataframe tbody tr th:only-of-type {\n",
       "        vertical-align: middle;\n",
       "    }\n",
       "\n",
       "    .dataframe tbody tr th {\n",
       "        vertical-align: top;\n",
       "    }\n",
       "\n",
       "    .dataframe thead th {\n",
       "        text-align: right;\n",
       "    }\n",
       "</style>\n",
       "<table border=\"1\" class=\"dataframe\">\n",
       "  <thead>\n",
       "    <tr style=\"text-align: right;\">\n",
       "      <th></th>\n",
       "      <th>name</th>\n",
       "      <th>platform</th>\n",
       "      <th>year_of_release</th>\n",
       "      <th>genre</th>\n",
       "      <th>na_sales</th>\n",
       "      <th>eu_sales</th>\n",
       "      <th>jp_sales</th>\n",
       "      <th>other_sales</th>\n",
       "      <th>critic_score</th>\n",
       "      <th>user_score</th>\n",
       "      <th>rating</th>\n",
       "    </tr>\n",
       "  </thead>\n",
       "  <tbody>\n",
       "    <tr>\n",
       "      <th>661</th>\n",
       "      <td>NaN</td>\n",
       "      <td>GEN</td>\n",
       "      <td>1993</td>\n",
       "      <td>NaN</td>\n",
       "      <td>1.78</td>\n",
       "      <td>0.53</td>\n",
       "      <td>0.00</td>\n",
       "      <td>0.08</td>\n",
       "      <td>NaN</td>\n",
       "      <td>NaN</td>\n",
       "      <td>NaN</td>\n",
       "    </tr>\n",
       "    <tr>\n",
       "      <th>14439</th>\n",
       "      <td>NaN</td>\n",
       "      <td>GEN</td>\n",
       "      <td>1993</td>\n",
       "      <td>NaN</td>\n",
       "      <td>0.00</td>\n",
       "      <td>0.00</td>\n",
       "      <td>0.03</td>\n",
       "      <td>0.00</td>\n",
       "      <td>NaN</td>\n",
       "      <td>NaN</td>\n",
       "      <td>NaN</td>\n",
       "    </tr>\n",
       "  </tbody>\n",
       "</table>\n",
       "</div>"
      ],
      "text/plain": [
       "      name platform  year_of_release genre  na_sales  eu_sales  jp_sales  \\\n",
       "661    NaN      GEN             1993   NaN      1.78      0.53      0.00   \n",
       "14439  NaN      GEN             1993   NaN      0.00      0.00      0.03   \n",
       "\n",
       "       other_sales  critic_score  user_score rating  \n",
       "661           0.08           NaN         NaN    NaN  \n",
       "14439         0.00           NaN         NaN    NaN  "
      ]
     },
     "execution_count": 31,
     "metadata": {},
     "output_type": "execute_result"
    }
   ],
   "source": [
    "# Посмотрим пропуски в столбце name. \n",
    "# Их всего 2 и они совпадают с пропусками genre\n",
    "filtered_df_jp_sales = df[pd.isna(df['name'])]\n",
    "filtered_df_jp_sales"
   ]
  },
  {
   "cell_type": "code",
   "execution_count": 32,
   "id": "8941f256",
   "metadata": {},
   "outputs": [],
   "source": [
    "#Удалим строки с пропусками в столбце name\n",
    "df = df.dropna(subset=['name'])"
   ]
  },
  {
   "cell_type": "code",
   "execution_count": 33,
   "id": "92f5fdef",
   "metadata": {},
   "outputs": [
    {
     "data": {
      "text/plain": [
       "user_score         0.546538\n",
       "critic_score       0.513861\n",
       "rating             0.405155\n",
       "year_of_release    0.000000\n",
       "platform           0.000000\n",
       "name               0.000000\n",
       "genre              0.000000\n",
       "jp_sales           0.000000\n",
       "eu_sales           0.000000\n",
       "na_sales           0.000000\n",
       "other_sales        0.000000\n",
       "dtype: float64"
      ]
     },
     "execution_count": 33,
     "metadata": {},
     "output_type": "execute_result"
    }
   ],
   "source": [
    "# количество пропусков в каждом столбце в относительных значениях по убыванию после изменений\n",
    "df.isna().mean().sort_values(ascending=False)"
   ]
  },
  {
   "cell_type": "markdown",
   "id": "59febfce",
   "metadata": {
    "id": "3f42817b"
   },
   "source": [
    "После преобразований пропуски остались в столбцах user_score, critic_score, rating, т.к. было решено оставить их без изменений"
   ]
  },
  {
   "cell_type": "markdown",
   "id": "a63363fd",
   "metadata": {
    "id": "a63363fd"
   },
   "source": [
    "### 2.4. Явные и неявные дубликаты в данных\n"
   ]
  },
  {
   "cell_type": "code",
   "execution_count": 34,
   "id": "239bf65e-9fef-49af-9909-8145f7052175",
   "metadata": {
    "scrolled": true
   },
   "outputs": [
    {
     "name": "stdout",
     "output_type": "stream",
     "text": [
      "Уникальные значения в столбце platform:\n",
      "['2600' '3DO' '3DS' 'DC' 'DS' 'GB' 'GBA' 'GC' 'GEN' 'GG' 'N64' 'NES' 'NG'\n",
      " 'PC' 'PCFX' 'PS' 'PS2' 'PS3' 'PS4' 'PSP' 'PSV' 'SAT' 'SCD' 'SNES' 'TG16'\n",
      " 'WS' 'Wii' 'WiiU' 'X360' 'XB' 'XOne']\n",
      "\n",
      "Уникальные значения в столбце year_of_release:\n",
      "[   1 1980 1981 1982 1983 1984 1985 1986 1987 1988 1989 1990 1991 1992\n",
      " 1993 1994 1995 1996 1997 1998 1999 2000 2001 2002 2003 2004 2005 2006\n",
      " 2007 2008 2009 2010 2011 2012 2013 2014 2015 2016]\n",
      "\n",
      "Уникальные значения в столбце genre:\n",
      "['ACTION' 'ADVENTURE' 'Action' 'Adventure' 'FIGHTING' 'Fighting' 'MISC'\n",
      " 'Misc' 'PLATFORM' 'PUZZLE' 'Platform' 'Puzzle' 'RACING' 'ROLE-PLAYING'\n",
      " 'Racing' 'Role-Playing' 'SHOOTER' 'SIMULATION' 'SPORTS' 'STRATEGY'\n",
      " 'Shooter' 'Simulation' 'Sports' 'Strategy']\n",
      "\n",
      "Уникальные значения в столбце rating:\n",
      "['AO' 'E' 'E10+' 'EC' 'K-A' 'M' 'RP' 'T' nan]\n",
      "\n"
     ]
    }
   ],
   "source": [
    "#Проверим столбцы на дубликаты:\n",
    "for column in ['platform','year_of_release','genre','rating']:\n",
    "    print(f'Уникальные значения в столбце {column}:')\n",
    "    print(df[column].sort_values().unique())\n",
    "    print()"
   ]
  },
  {
   "cell_type": "code",
   "execution_count": 35,
   "id": "27999c6c",
   "metadata": {
    "scrolled": true
   },
   "outputs": [
    {
     "name": "stdout",
     "output_type": "stream",
     "text": [
      "genre\n",
      "action          3418\n",
      "sports          2375\n",
      "misc            1772\n",
      "role-playing    1516\n",
      "shooter         1346\n",
      "adventure       1323\n",
      "racing          1273\n",
      "platform         904\n",
      "simulation       884\n",
      "fighting         862\n",
      "strategy         691\n",
      "puzzle           590\n",
      "Name: count, dtype: int64\n"
     ]
    },
    {
     "data": {
      "text/plain": [
       "np.int64(12)"
      ]
     },
     "execution_count": 35,
     "metadata": {},
     "output_type": "execute_result"
    }
   ],
   "source": [
    "#приведем к нижнему регистру названия жанров, чтобы не было дупликатов\n",
    "df['genre']=df['genre'].str.lower()\n",
    "print(df['genre'].value_counts())\n",
    "df['genre'].value_counts().count()"
   ]
  },
  {
   "cell_type": "code",
   "execution_count": 36,
   "id": "5d0b1fe8",
   "metadata": {},
   "outputs": [],
   "source": [
    "# заменим рейтига К-А на NaN, т.к. его не существует\n",
    "df['rating']=df['rating'].str.replace('K-A','E')"
   ]
  },
  {
   "cell_type": "code",
   "execution_count": 37,
   "id": "733b2e33",
   "metadata": {},
   "outputs": [
    {
     "name": "stdout",
     "output_type": "stream",
     "text": [
      "rating\n",
      "E       4040\n",
      "T       3005\n",
      "M       1587\n",
      "E10+    1441\n",
      "EC         8\n",
      "RP         3\n",
      "AO         1\n",
      "Name: count, dtype: int64\n"
     ]
    },
    {
     "data": {
      "text/plain": [
       "np.int64(7)"
      ]
     },
     "execution_count": 37,
     "metadata": {},
     "output_type": "execute_result"
    }
   ],
   "source": [
    "# посмотри результат после измений\n",
    "print(df['rating'].value_counts())\n",
    "df['rating'].value_counts().count()"
   ]
  },
  {
   "cell_type": "code",
   "execution_count": 38,
   "id": "2f61e076",
   "metadata": {
    "id": "2f61e076"
   },
   "outputs": [
    {
     "data": {
      "text/plain": [
       "np.int64(241)"
      ]
     },
     "execution_count": 38,
     "metadata": {},
     "output_type": "execute_result"
    }
   ],
   "source": [
    "#количество строк с явными дубликатами\n",
    "df.duplicated().sum() "
   ]
  },
  {
   "cell_type": "code",
   "execution_count": 39,
   "id": "29e57705",
   "metadata": {
    "id": "29e57705"
   },
   "outputs": [],
   "source": [
    "#удалим явные дупликаты\n",
    "df=df.drop_duplicates()"
   ]
  },
  {
   "cell_type": "code",
   "execution_count": 40,
   "id": "b22c7b0d",
   "metadata": {},
   "outputs": [
    {
     "data": {
      "text/html": [
       "<div>\n",
       "<style scoped>\n",
       "    .dataframe tbody tr th:only-of-type {\n",
       "        vertical-align: middle;\n",
       "    }\n",
       "\n",
       "    .dataframe tbody tr th {\n",
       "        vertical-align: top;\n",
       "    }\n",
       "\n",
       "    .dataframe thead th {\n",
       "        text-align: right;\n",
       "    }\n",
       "</style>\n",
       "<table border=\"1\" class=\"dataframe\">\n",
       "  <thead>\n",
       "    <tr style=\"text-align: right;\">\n",
       "      <th></th>\n",
       "      <th>name</th>\n",
       "      <th>platform</th>\n",
       "      <th>year_of_release</th>\n",
       "      <th>genre</th>\n",
       "      <th>na_sales</th>\n",
       "      <th>eu_sales</th>\n",
       "      <th>jp_sales</th>\n",
       "      <th>other_sales</th>\n",
       "      <th>critic_score</th>\n",
       "      <th>user_score</th>\n",
       "      <th>rating</th>\n",
       "    </tr>\n",
       "  </thead>\n",
       "  <tbody>\n",
       "    <tr>\n",
       "      <th>606</th>\n",
       "      <td>Madden NFL 13</td>\n",
       "      <td>PS3</td>\n",
       "      <td>2012</td>\n",
       "      <td>sports</td>\n",
       "      <td>2.11</td>\n",
       "      <td>0.22</td>\n",
       "      <td>0.00</td>\n",
       "      <td>0.23</td>\n",
       "      <td>83.0</td>\n",
       "      <td>5.5</td>\n",
       "      <td>E</td>\n",
       "    </tr>\n",
       "    <tr>\n",
       "      <th>16465</th>\n",
       "      <td>Madden NFL 13</td>\n",
       "      <td>PS3</td>\n",
       "      <td>2012</td>\n",
       "      <td>sports</td>\n",
       "      <td>0.00</td>\n",
       "      <td>0.01</td>\n",
       "      <td>0.00</td>\n",
       "      <td>0.00</td>\n",
       "      <td>83.0</td>\n",
       "      <td>5.5</td>\n",
       "      <td>E</td>\n",
       "    </tr>\n",
       "    <tr>\n",
       "      <th>1197</th>\n",
       "      <td>Need for Speed: Most Wanted</td>\n",
       "      <td>X360</td>\n",
       "      <td>2012</td>\n",
       "      <td>racing</td>\n",
       "      <td>0.62</td>\n",
       "      <td>0.78</td>\n",
       "      <td>0.01</td>\n",
       "      <td>0.15</td>\n",
       "      <td>83.0</td>\n",
       "      <td>8.5</td>\n",
       "      <td>T</td>\n",
       "    </tr>\n",
       "    <tr>\n",
       "      <th>1605</th>\n",
       "      <td>Need for Speed: Most Wanted</td>\n",
       "      <td>X360</td>\n",
       "      <td>2005</td>\n",
       "      <td>racing</td>\n",
       "      <td>1.00</td>\n",
       "      <td>0.13</td>\n",
       "      <td>0.02</td>\n",
       "      <td>0.10</td>\n",
       "      <td>83.0</td>\n",
       "      <td>8.5</td>\n",
       "      <td>T</td>\n",
       "    </tr>\n",
       "    <tr>\n",
       "      <th>6051</th>\n",
       "      <td>Need for Speed: Most Wanted</td>\n",
       "      <td>PC</td>\n",
       "      <td>2005</td>\n",
       "      <td>racing</td>\n",
       "      <td>0.02</td>\n",
       "      <td>0.23</td>\n",
       "      <td>0.00</td>\n",
       "      <td>0.04</td>\n",
       "      <td>82.0</td>\n",
       "      <td>8.5</td>\n",
       "      <td>T</td>\n",
       "    </tr>\n",
       "    <tr>\n",
       "      <th>11873</th>\n",
       "      <td>Need for Speed: Most Wanted</td>\n",
       "      <td>PC</td>\n",
       "      <td>2012</td>\n",
       "      <td>racing</td>\n",
       "      <td>0.00</td>\n",
       "      <td>0.06</td>\n",
       "      <td>0.00</td>\n",
       "      <td>0.02</td>\n",
       "      <td>82.0</td>\n",
       "      <td>8.5</td>\n",
       "      <td>T</td>\n",
       "    </tr>\n",
       "    <tr>\n",
       "      <th>1760</th>\n",
       "      <td>Sonic the Hedgehog</td>\n",
       "      <td>PS3</td>\n",
       "      <td>2006</td>\n",
       "      <td>platform</td>\n",
       "      <td>0.41</td>\n",
       "      <td>0.06</td>\n",
       "      <td>0.04</td>\n",
       "      <td>0.66</td>\n",
       "      <td>43.0</td>\n",
       "      <td>4.1</td>\n",
       "      <td>E10+</td>\n",
       "    </tr>\n",
       "    <tr>\n",
       "      <th>4173</th>\n",
       "      <td>Sonic the Hedgehog</td>\n",
       "      <td>PS3</td>\n",
       "      <td>1</td>\n",
       "      <td>platform</td>\n",
       "      <td>0.00</td>\n",
       "      <td>0.48</td>\n",
       "      <td>0.00</td>\n",
       "      <td>0.00</td>\n",
       "      <td>43.0</td>\n",
       "      <td>4.1</td>\n",
       "      <td>E10+</td>\n",
       "    </tr>\n",
       "  </tbody>\n",
       "</table>\n",
       "</div>"
      ],
      "text/plain": [
       "                              name platform  year_of_release     genre  \\\n",
       "606                  Madden NFL 13      PS3             2012    sports   \n",
       "16465                Madden NFL 13      PS3             2012    sports   \n",
       "1197   Need for Speed: Most Wanted     X360             2012    racing   \n",
       "1605   Need for Speed: Most Wanted     X360             2005    racing   \n",
       "6051   Need for Speed: Most Wanted       PC             2005    racing   \n",
       "11873  Need for Speed: Most Wanted       PC             2012    racing   \n",
       "1760            Sonic the Hedgehog      PS3             2006  platform   \n",
       "4173            Sonic the Hedgehog      PS3                1  platform   \n",
       "\n",
       "       na_sales  eu_sales  jp_sales  other_sales  critic_score  user_score  \\\n",
       "606        2.11      0.22      0.00         0.23          83.0         5.5   \n",
       "16465      0.00      0.01      0.00         0.00          83.0         5.5   \n",
       "1197       0.62      0.78      0.01         0.15          83.0         8.5   \n",
       "1605       1.00      0.13      0.02         0.10          83.0         8.5   \n",
       "6051       0.02      0.23      0.00         0.04          82.0         8.5   \n",
       "11873      0.00      0.06      0.00         0.02          82.0         8.5   \n",
       "1760       0.41      0.06      0.04         0.66          43.0         4.1   \n",
       "4173       0.00      0.48      0.00         0.00          43.0         4.1   \n",
       "\n",
       "      rating  \n",
       "606        E  \n",
       "16465      E  \n",
       "1197       T  \n",
       "1605       T  \n",
       "6051       T  \n",
       "11873      T  \n",
       "1760    E10+  \n",
       "4173    E10+  "
      ]
     },
     "execution_count": 40,
     "metadata": {},
     "output_type": "execute_result"
    }
   ],
   "source": [
    "# дубликаты с одинаковым названием и платформой\n",
    "dubl=df[df.duplicated(subset=['name','platform'], keep=False)].sort_values(by='name')\n",
    "dubl"
   ]
  },
  {
   "cell_type": "code",
   "execution_count": 41,
   "id": "5ee9a051",
   "metadata": {
    "scrolled": true
   },
   "outputs": [],
   "source": [
    "#Удалим из датафрейма дублирующие строки, оставив первые\n",
    "df=df.drop_duplicates(subset=['name','platform'], keep=False).sort_values(by='name')"
   ]
  },
  {
   "cell_type": "markdown",
   "id": "a5bb4841",
   "metadata": {
    "id": "8548f894"
   },
   "source": [
    "Итоги по дубликатам:\n",
    "- жанры - 12 дубликатов. Удалены, путем приведения названий жанров к нижнему регистру. \n",
    "- рейтинг - рейтинг К-А заменен на E, такого рейтинга не существует (3 строки)\n",
    "- явные дубликаты 241 строка, оставлены первые строки, дубли удалены\n",
    "- дубликаты по названию и платформе 8 строк, оставлены первые строки, дубли удалены"
   ]
  },
  {
   "cell_type": "code",
   "execution_count": 42,
   "id": "f9d8ee19",
   "metadata": {
    "id": "f9d8ee19"
   },
   "outputs": [
    {
     "name": "stdout",
     "output_type": "stream",
     "text": [
      "Количество строк исходного датафрейма: 16956\n",
      "Количество строк после предобработки данных: 16705\n",
      "Количество удалённых строк: 251\n",
      "Доля удалённых строк в процентах: 1.48%\n"
     ]
    }
   ],
   "source": [
    "print(f'''Количество строк исходного датафрейма: {df0.shape[0]}\n",
    "Количество строк после предобработки данных: {df.shape[0]}\n",
    "Количество удалённых строк: {df0.shape[0] - df.shape[0]}\n",
    "Доля удалённых строк в процентах: {round((df0.shape[0] - df.shape[0])/df0.shape[0]*100,2)}%''')"
   ]
  },
  {
   "cell_type": "markdown",
   "id": "0cbdb616",
   "metadata": {
    "id": "5166fdf8"
   },
   "source": [
    "Итоги предобработки данных:\n",
    "- Названия всех столбцов приведено к стилю snake case.\n",
    "- Заменены типы данных в столбцах:\n",
    "  - 'year_of_release' на int, При этом NaN заменили на индикатор 1;\n",
    "  - 'eu_sales', 'jp_sales', 'user_score' заменены на float64, т.к. это численные значения.\n",
    "- Обработаны пропуски: \n",
    "  - столбцы с долей пропусков более 41% оставлены без изменений (user_score, critic_score, rating);\n",
    "  - в столбце year_of_release извлекли год из названия игры там, где это было возможно (22 строки);\n",
    "  - в столбцах eu_sales,  jp_sales пропуски заменили на среднее значение в зависимости от названия платформы и года выхода; игры.\n",
    "  - Пропуски в столбцах name и  genre совпадают и состоят из 2 строк, были удалены.\n",
    "- Обработаны явные и неявные дупликаты. Удалена 251 строка."
   ]
  },
  {
   "cell_type": "markdown",
   "id": "613f0eb0",
   "metadata": {
    "id": "613f0eb0"
   },
   "source": [
    "---\n",
    "\n",
    "## 3. Фильтрация данных\n",
    "\n",
    "Коллеги хотят изучить историю продаж игр в начале XXI века, и их интересует период с 2000 по 2013 год включительно."
   ]
  },
  {
   "cell_type": "code",
   "execution_count": 43,
   "id": "2344916d",
   "metadata": {
    "id": "2344916d"
   },
   "outputs": [
    {
     "name": "stdout",
     "output_type": "stream",
     "text": [
      "Приод в новом срезе с 2000 по 2013\n"
     ]
    }
   ],
   "source": [
    "# Создадим новый срез на основе df за период 2000-2013 года.\n",
    "df_actual=df[df['year_of_release'].between(2000, 2013)].copy()\n",
    "df_actual.sort_values(by='year_of_release')\n",
    "min1=df_actual['year_of_release'].min()\n",
    "max1=df_actual['year_of_release'].max()\n",
    "#проверим изменения\n",
    "print(f'Приод в новом срезе с {min1} по {max1}')"
   ]
  },
  {
   "cell_type": "markdown",
   "id": "a6f10b01",
   "metadata": {
    "id": "a6f10b01"
   },
   "source": [
    "---\n",
    "\n",
    "## 4. Категоризация данных\n",
    "Необходимо разделить все игры по оценкам пользователей и выделить такие категории: высокая оценка (от 8 до 10 включительно), средняя оценка (от 3 до 8, не включая правую границу интервала) и низкая оценка (от 0 до 3, не включая правую границу интервала)."
   ]
  },
  {
   "cell_type": "code",
   "execution_count": 44,
   "id": "3db87229",
   "metadata": {
    "id": "3db87229",
    "scrolled": true
   },
   "outputs": [],
   "source": [
    "# создадим новый столбец marker_user и разделим оценки пользователей на группы.\n",
    "def user_score_group(x):\n",
    "    if x>=8:\n",
    "        return 'высокая оценка'\n",
    "    elif x>=3:\n",
    "        return 'средняя оценка'\n",
    "    elif x>=0:\n",
    "        return 'низкая оценка'\n",
    "    else:\n",
    "        return 'оценка отсутствует'\n",
    "\n",
    "df_actual['marker_user']=df_actual['user_score'].apply(user_score_group)"
   ]
  },
  {
   "cell_type": "code",
   "execution_count": 45,
   "id": "9b0ca0f2",
   "metadata": {
    "id": "9b0ca0f2",
    "scrolled": true
   },
   "outputs": [
    {
     "data": {
      "text/html": [
       "<div>\n",
       "<style scoped>\n",
       "    .dataframe tbody tr th:only-of-type {\n",
       "        vertical-align: middle;\n",
       "    }\n",
       "\n",
       "    .dataframe tbody tr th {\n",
       "        vertical-align: top;\n",
       "    }\n",
       "\n",
       "    .dataframe thead th {\n",
       "        text-align: right;\n",
       "    }\n",
       "</style>\n",
       "<table border=\"1\" class=\"dataframe\">\n",
       "  <thead>\n",
       "    <tr style=\"text-align: right;\">\n",
       "      <th></th>\n",
       "      <th>name</th>\n",
       "      <th>platform</th>\n",
       "      <th>year_of_release</th>\n",
       "      <th>genre</th>\n",
       "      <th>na_sales</th>\n",
       "      <th>eu_sales</th>\n",
       "      <th>jp_sales</th>\n",
       "      <th>other_sales</th>\n",
       "      <th>critic_score</th>\n",
       "      <th>user_score</th>\n",
       "      <th>rating</th>\n",
       "      <th>marker_user</th>\n",
       "      <th>marker_critic</th>\n",
       "    </tr>\n",
       "  </thead>\n",
       "  <tbody>\n",
       "    <tr>\n",
       "      <th>3906</th>\n",
       "      <td>Frozen: Olaf's Quest</td>\n",
       "      <td>DS</td>\n",
       "      <td>2013</td>\n",
       "      <td>platform</td>\n",
       "      <td>0.21</td>\n",
       "      <td>0.26</td>\n",
       "      <td>0.00</td>\n",
       "      <td>0.04</td>\n",
       "      <td>NaN</td>\n",
       "      <td>NaN</td>\n",
       "      <td>NaN</td>\n",
       "      <td>оценка отсутствует</td>\n",
       "      <td>оценка отсутствует</td>\n",
       "    </tr>\n",
       "    <tr>\n",
       "      <th>3394</th>\n",
       "      <td>Frozen: Olaf's Quest</td>\n",
       "      <td>3DS</td>\n",
       "      <td>2013</td>\n",
       "      <td>platform</td>\n",
       "      <td>0.27</td>\n",
       "      <td>0.27</td>\n",
       "      <td>0.00</td>\n",
       "      <td>0.05</td>\n",
       "      <td>NaN</td>\n",
       "      <td>NaN</td>\n",
       "      <td>NaN</td>\n",
       "      <td>оценка отсутствует</td>\n",
       "      <td>оценка отсутствует</td>\n",
       "    </tr>\n",
       "    <tr>\n",
       "      <th>2478</th>\n",
       "      <td>Tales of Xillia 2</td>\n",
       "      <td>PS3</td>\n",
       "      <td>2012</td>\n",
       "      <td>role-playing</td>\n",
       "      <td>0.20</td>\n",
       "      <td>0.12</td>\n",
       "      <td>0.45</td>\n",
       "      <td>0.07</td>\n",
       "      <td>71.0</td>\n",
       "      <td>7.9</td>\n",
       "      <td>T</td>\n",
       "      <td>средняя оценка</td>\n",
       "      <td>средняя оценка</td>\n",
       "    </tr>\n",
       "    <tr>\n",
       "      <th>8460</th>\n",
       "      <td>.hack//G.U. Vol.1//Rebirth</td>\n",
       "      <td>PS2</td>\n",
       "      <td>2006</td>\n",
       "      <td>role-playing</td>\n",
       "      <td>0.00</td>\n",
       "      <td>0.00</td>\n",
       "      <td>0.17</td>\n",
       "      <td>0.00</td>\n",
       "      <td>NaN</td>\n",
       "      <td>NaN</td>\n",
       "      <td>NaN</td>\n",
       "      <td>оценка отсутствует</td>\n",
       "      <td>оценка отсутствует</td>\n",
       "    </tr>\n",
       "    <tr>\n",
       "      <th>7182</th>\n",
       "      <td>.hack//G.U. Vol.2//Reminisce</td>\n",
       "      <td>PS2</td>\n",
       "      <td>2006</td>\n",
       "      <td>role-playing</td>\n",
       "      <td>0.11</td>\n",
       "      <td>0.09</td>\n",
       "      <td>0.00</td>\n",
       "      <td>0.03</td>\n",
       "      <td>NaN</td>\n",
       "      <td>NaN</td>\n",
       "      <td>NaN</td>\n",
       "      <td>оценка отсутствует</td>\n",
       "      <td>оценка отсутствует</td>\n",
       "    </tr>\n",
       "  </tbody>\n",
       "</table>\n",
       "</div>"
      ],
      "text/plain": [
       "                              name platform  year_of_release         genre  \\\n",
       "3906          Frozen: Olaf's Quest       DS             2013      platform   \n",
       "3394          Frozen: Olaf's Quest      3DS             2013      platform   \n",
       "2478             Tales of Xillia 2      PS3             2012  role-playing   \n",
       "8460    .hack//G.U. Vol.1//Rebirth      PS2             2006  role-playing   \n",
       "7182  .hack//G.U. Vol.2//Reminisce      PS2             2006  role-playing   \n",
       "\n",
       "      na_sales  eu_sales  jp_sales  other_sales  critic_score  user_score  \\\n",
       "3906      0.21      0.26      0.00         0.04           NaN         NaN   \n",
       "3394      0.27      0.27      0.00         0.05           NaN         NaN   \n",
       "2478      0.20      0.12      0.45         0.07          71.0         7.9   \n",
       "8460      0.00      0.00      0.17         0.00           NaN         NaN   \n",
       "7182      0.11      0.09      0.00         0.03           NaN         NaN   \n",
       "\n",
       "     rating         marker_user       marker_critic  \n",
       "3906    NaN  оценка отсутствует  оценка отсутствует  \n",
       "3394    NaN  оценка отсутствует  оценка отсутствует  \n",
       "2478      T      средняя оценка      средняя оценка  \n",
       "8460    NaN  оценка отсутствует  оценка отсутствует  \n",
       "7182    NaN  оценка отсутствует  оценка отсутствует  "
      ]
     },
     "execution_count": 45,
     "metadata": {},
     "output_type": "execute_result"
    }
   ],
   "source": [
    "# создадим новый столбец marker_critic и разделим оценки критиков на группы.\n",
    "def critic_score_group(x):\n",
    "    if x>=80:\n",
    "        return 'высокая оценка'\n",
    "    elif x>=30:\n",
    "        return 'средняя оценка'\n",
    "    elif x>=0:\n",
    "        return 'низкая оценка'\n",
    "    else:\n",
    "        return 'оценка отсутствует'\n",
    "\n",
    "df_actual['marker_critic']=df_actual['critic_score'].apply(critic_score_group)\n",
    "# проверим результат\n",
    "df_actual.head()"
   ]
  },
  {
   "cell_type": "code",
   "execution_count": 46,
   "id": "x2ne0HIpUMMD",
   "metadata": {
    "id": "x2ne0HIpUMMD"
   },
   "outputs": [
    {
     "data": {
      "text/html": [
       "<div>\n",
       "<style scoped>\n",
       "    .dataframe tbody tr th:only-of-type {\n",
       "        vertical-align: middle;\n",
       "    }\n",
       "\n",
       "    .dataframe tbody tr th {\n",
       "        vertical-align: top;\n",
       "    }\n",
       "\n",
       "    .dataframe thead th {\n",
       "        text-align: right;\n",
       "    }\n",
       "</style>\n",
       "<table border=\"1\" class=\"dataframe\">\n",
       "  <thead>\n",
       "    <tr style=\"text-align: right;\">\n",
       "      <th></th>\n",
       "      <th>count</th>\n",
       "    </tr>\n",
       "    <tr>\n",
       "      <th>marker_user</th>\n",
       "      <th></th>\n",
       "    </tr>\n",
       "  </thead>\n",
       "  <tbody>\n",
       "    <tr>\n",
       "      <th>оценка отсутствует</th>\n",
       "      <td>6304</td>\n",
       "    </tr>\n",
       "    <tr>\n",
       "      <th>средняя оценка</th>\n",
       "      <td>4080</td>\n",
       "    </tr>\n",
       "    <tr>\n",
       "      <th>высокая оценка</th>\n",
       "      <td>2289</td>\n",
       "    </tr>\n",
       "    <tr>\n",
       "      <th>низкая оценка</th>\n",
       "      <td>116</td>\n",
       "    </tr>\n",
       "  </tbody>\n",
       "</table>\n",
       "</div>"
      ],
      "text/plain": [
       "                    count\n",
       "marker_user              \n",
       "оценка отсутствует   6304\n",
       "средняя оценка       4080\n",
       "высокая оценка       2289\n",
       "низкая оценка         116"
      ]
     },
     "execution_count": 46,
     "metadata": {},
     "output_type": "execute_result"
    }
   ],
   "source": [
    "# сгруппируем данные по оценке пользователей\n",
    "group_user=df_actual.groupby('marker_user')['name'].agg(['count']).sort_values(by='count', ascending=False)\n",
    "group_user"
   ]
  },
  {
   "cell_type": "code",
   "execution_count": 47,
   "id": "HW0Nsp-4UMSL",
   "metadata": {
    "id": "HW0Nsp-4UMSL"
   },
   "outputs": [
    {
     "data": {
      "text/html": [
       "<div>\n",
       "<style scoped>\n",
       "    .dataframe tbody tr th:only-of-type {\n",
       "        vertical-align: middle;\n",
       "    }\n",
       "\n",
       "    .dataframe tbody tr th {\n",
       "        vertical-align: top;\n",
       "    }\n",
       "\n",
       "    .dataframe thead th {\n",
       "        text-align: right;\n",
       "    }\n",
       "</style>\n",
       "<table border=\"1\" class=\"dataframe\">\n",
       "  <thead>\n",
       "    <tr style=\"text-align: right;\">\n",
       "      <th></th>\n",
       "      <th>count</th>\n",
       "    </tr>\n",
       "    <tr>\n",
       "      <th>marker_critic</th>\n",
       "      <th></th>\n",
       "    </tr>\n",
       "  </thead>\n",
       "  <tbody>\n",
       "    <tr>\n",
       "      <th>оценка отсутствует</th>\n",
       "      <td>5616</td>\n",
       "    </tr>\n",
       "    <tr>\n",
       "      <th>средняя оценка</th>\n",
       "      <td>5426</td>\n",
       "    </tr>\n",
       "    <tr>\n",
       "      <th>высокая оценка</th>\n",
       "      <td>1692</td>\n",
       "    </tr>\n",
       "    <tr>\n",
       "      <th>низкая оценка</th>\n",
       "      <td>55</td>\n",
       "    </tr>\n",
       "  </tbody>\n",
       "</table>\n",
       "</div>"
      ],
      "text/plain": [
       "                    count\n",
       "marker_critic            \n",
       "оценка отсутствует   5616\n",
       "средняя оценка       5426\n",
       "высокая оценка       1692\n",
       "низкая оценка          55"
      ]
     },
     "execution_count": 47,
     "metadata": {},
     "output_type": "execute_result"
    }
   ],
   "source": [
    "# сгруппируем данные по оценке критиков\n",
    "group_critic=df_actual.groupby('marker_critic')['name'].agg(['count']).sort_values(by='count', ascending=False)\n",
    "group_critic"
   ]
  },
  {
   "cell_type": "markdown",
   "id": "6a98444c",
   "metadata": {
    "id": "6a98444c"
   },
   "source": [
    "- Выделим топ-7 платформ по количеству игр, выпущенных за весь актуальный период."
   ]
  },
  {
   "cell_type": "code",
   "execution_count": 48,
   "id": "003caa2c",
   "metadata": {
    "id": "003caa2c"
   },
   "outputs": [
    {
     "data": {
      "text/html": [
       "<div>\n",
       "<style scoped>\n",
       "    .dataframe tbody tr th:only-of-type {\n",
       "        vertical-align: middle;\n",
       "    }\n",
       "\n",
       "    .dataframe tbody tr th {\n",
       "        vertical-align: top;\n",
       "    }\n",
       "\n",
       "    .dataframe thead th {\n",
       "        text-align: right;\n",
       "    }\n",
       "</style>\n",
       "<table border=\"1\" class=\"dataframe\">\n",
       "  <thead>\n",
       "    <tr style=\"text-align: right;\">\n",
       "      <th></th>\n",
       "      <th>count</th>\n",
       "    </tr>\n",
       "    <tr>\n",
       "      <th>platform</th>\n",
       "      <th></th>\n",
       "    </tr>\n",
       "  </thead>\n",
       "  <tbody>\n",
       "    <tr>\n",
       "      <th>PS2</th>\n",
       "      <td>2134</td>\n",
       "    </tr>\n",
       "    <tr>\n",
       "      <th>DS</th>\n",
       "      <td>2121</td>\n",
       "    </tr>\n",
       "    <tr>\n",
       "      <th>Wii</th>\n",
       "      <td>1275</td>\n",
       "    </tr>\n",
       "    <tr>\n",
       "      <th>PSP</th>\n",
       "      <td>1181</td>\n",
       "    </tr>\n",
       "    <tr>\n",
       "      <th>X360</th>\n",
       "      <td>1121</td>\n",
       "    </tr>\n",
       "    <tr>\n",
       "      <th>PS3</th>\n",
       "      <td>1084</td>\n",
       "    </tr>\n",
       "    <tr>\n",
       "      <th>GBA</th>\n",
       "      <td>811</td>\n",
       "    </tr>\n",
       "  </tbody>\n",
       "</table>\n",
       "</div>"
      ],
      "text/plain": [
       "          count\n",
       "platform       \n",
       "PS2        2134\n",
       "DS         2121\n",
       "Wii        1275\n",
       "PSP        1181\n",
       "X360       1121\n",
       "PS3        1084\n",
       "GBA         811"
      ]
     },
     "execution_count": 48,
     "metadata": {},
     "output_type": "execute_result"
    }
   ],
   "source": [
    "top_7=df_actual.groupby('platform')['name'].agg(['count']).sort_values(by='count', ascending=False)\n",
    "top_7.head(7)"
   ]
  },
  {
   "cell_type": "markdown",
   "id": "c0158881",
   "metadata": {
    "id": "c0158881"
   },
   "source": [
    "---\n",
    "\n",
    "## 5. Итоговый вывод\n"
   ]
  },
  {
   "cell_type": "markdown",
   "id": "fb25dff2",
   "metadata": {
    "id": "9fe570b3"
   },
   "source": [
    "- Проведена предобработка данных:\n",
    "  - названия столбцов приведены к единому стилю;\n",
    "  - скорректированы типы данных;\n",
    "  - обработаны пропуски;\n",
    "  - удалены явные и неявные дубликаты.\n",
    "- Прведена фильтрация данных. На основании исходного датафрейма df cоздан новый срез df_actual за период выпуска игр за 2000-2013 года. \n",
    "- Проведена категоризация данных:\n",
    "  - Оценки пользователей и критиков разделили на следующие категории: высокая оценка, средняя оценка, низкая оценка, оценка отсутствует. Данные поместили в новые столбцы marker_user, marker_critic.\n",
    "  - Сгруппировали данные по выделенным категориям и посчитали количество игр в каждой категории.\n",
    "  - Выделили топ-7 платформ по количеству игр, выпущенных за весь актуальный период.\n"
   ]
  }
 ],
 "metadata": {
  "ExecuteTimeLog": [
   {
    "duration": 386,
    "start_time": "2025-07-01T08:13:41.882Z"
   },
   {
    "duration": 2340,
    "start_time": "2025-07-01T08:13:43.852Z"
   },
   {
    "duration": 55,
    "start_time": "2025-07-01T08:16:16.722Z"
   },
   {
    "duration": 18,
    "start_time": "2025-07-01T08:16:52.387Z"
   },
   {
    "duration": 14,
    "start_time": "2025-07-01T08:17:19.838Z"
   },
   {
    "duration": 4,
    "start_time": "2025-07-01T08:20:02.181Z"
   },
   {
    "duration": 7,
    "start_time": "2025-07-01T08:24:39.689Z"
   },
   {
    "duration": 8,
    "start_time": "2025-07-01T08:24:50.855Z"
   },
   {
    "duration": 3,
    "start_time": "2025-07-01T08:24:59.057Z"
   },
   {
    "duration": 3,
    "start_time": "2025-07-01T08:25:12.481Z"
   },
   {
    "duration": 3,
    "start_time": "2025-07-01T08:25:29.938Z"
   },
   {
    "duration": 8,
    "start_time": "2025-07-01T08:28:43.780Z"
   },
   {
    "duration": 8,
    "start_time": "2025-07-01T08:31:05.657Z"
   },
   {
    "duration": 7,
    "start_time": "2025-07-01T08:31:08.426Z"
   },
   {
    "duration": 3,
    "start_time": "2025-07-01T08:31:34.125Z"
   },
   {
    "duration": 3,
    "start_time": "2025-07-01T08:31:38.518Z"
   },
   {
    "duration": 10,
    "start_time": "2025-07-01T08:32:37.757Z"
   },
   {
    "duration": 8,
    "start_time": "2025-07-01T08:32:43.867Z"
   },
   {
    "duration": 4,
    "start_time": "2025-07-01T08:33:43.451Z"
   },
   {
    "duration": 25,
    "start_time": "2025-07-01T08:34:43.647Z"
   },
   {
    "duration": 1359,
    "start_time": "2025-07-01T08:46:08.079Z"
   },
   {
    "duration": 14,
    "start_time": "2025-07-01T08:46:42.522Z"
   },
   {
    "duration": 1270,
    "start_time": "2025-07-01T08:50:17.630Z"
   },
   {
    "duration": 643,
    "start_time": "2025-07-01T08:53:36.469Z"
   },
   {
    "duration": 1227,
    "start_time": "2025-07-01T08:57:42.314Z"
   },
   {
    "duration": 1262,
    "start_time": "2025-07-01T08:57:58.719Z"
   },
   {
    "duration": 10,
    "start_time": "2025-07-01T08:58:24.717Z"
   },
   {
    "duration": 4,
    "start_time": "2025-07-01T08:59:09.777Z"
   },
   {
    "duration": 11,
    "start_time": "2025-07-01T08:59:42.380Z"
   },
   {
    "duration": 11,
    "start_time": "2025-07-01T09:02:42.755Z"
   },
   {
    "duration": 4,
    "start_time": "2025-07-01T09:02:46.676Z"
   },
   {
    "duration": 16,
    "start_time": "2025-07-01T09:02:59.205Z"
   },
   {
    "duration": 51,
    "start_time": "2025-07-01T09:03:59.763Z"
   },
   {
    "duration": 15,
    "start_time": "2025-07-01T09:04:04.324Z"
   },
   {
    "duration": 14,
    "start_time": "2025-07-01T09:04:23.429Z"
   },
   {
    "duration": 4,
    "start_time": "2025-07-01T09:04:27.957Z"
   },
   {
    "duration": 16,
    "start_time": "2025-07-01T09:04:30.422Z"
   },
   {
    "duration": 82,
    "start_time": "2025-07-01T09:06:01.655Z"
   },
   {
    "duration": 160,
    "start_time": "2025-07-01T09:06:40.873Z"
   },
   {
    "duration": 82,
    "start_time": "2025-07-01T09:06:58.235Z"
   },
   {
    "duration": 15,
    "start_time": "2025-07-01T09:07:18.245Z"
   },
   {
    "duration": 16,
    "start_time": "2025-07-01T09:07:22.581Z"
   },
   {
    "duration": 5,
    "start_time": "2025-07-01T09:07:29.717Z"
   },
   {
    "duration": 9,
    "start_time": "2025-07-01T09:07:43.527Z"
   },
   {
    "duration": 4,
    "start_time": "2025-07-01T09:07:47.480Z"
   },
   {
    "duration": 16,
    "start_time": "2025-07-01T09:12:41.466Z"
   },
   {
    "duration": 9,
    "start_time": "2025-07-01T09:14:07.884Z"
   },
   {
    "duration": 9,
    "start_time": "2025-07-01T09:14:12.476Z"
   },
   {
    "duration": 5,
    "start_time": "2025-07-01T09:15:07.841Z"
   },
   {
    "duration": 4,
    "start_time": "2025-07-01T09:15:28.347Z"
   },
   {
    "duration": 4,
    "start_time": "2025-07-01T09:15:39.778Z"
   },
   {
    "duration": 6,
    "start_time": "2025-07-01T09:15:45.515Z"
   },
   {
    "duration": 4,
    "start_time": "2025-07-01T09:15:49.726Z"
   },
   {
    "duration": 15,
    "start_time": "2025-07-01T09:15:53.805Z"
   },
   {
    "duration": 6,
    "start_time": "2025-07-01T09:17:28.637Z"
   },
   {
    "duration": 47,
    "start_time": "2025-07-01T13:05:50.348Z"
   },
   {
    "duration": 403,
    "start_time": "2025-07-01T13:06:10.636Z"
   },
   {
    "duration": 95,
    "start_time": "2025-07-01T13:06:12.204Z"
   },
   {
    "duration": 16,
    "start_time": "2025-07-01T13:06:13.276Z"
   },
   {
    "duration": 3,
    "start_time": "2025-07-01T13:06:18.162Z"
   },
   {
    "duration": 3,
    "start_time": "2025-07-01T13:06:19.932Z"
   },
   {
    "duration": 3,
    "start_time": "2025-07-01T13:06:26.885Z"
   },
   {
    "duration": 46,
    "start_time": "2025-07-01T15:58:11.662Z"
   },
   {
    "duration": 8,
    "start_time": "2025-07-01T15:58:52.852Z"
   },
   {
    "duration": 394,
    "start_time": "2025-07-01T15:59:01.202Z"
   },
   {
    "duration": 62,
    "start_time": "2025-07-01T15:59:01.597Z"
   },
   {
    "duration": 17,
    "start_time": "2025-07-01T15:59:01.660Z"
   },
   {
    "duration": 122,
    "start_time": "2025-07-01T15:59:01.678Z"
   },
   {
    "duration": 4,
    "start_time": "2025-07-01T15:59:01.802Z"
   },
   {
    "duration": 7,
    "start_time": "2025-07-01T15:59:01.807Z"
   },
   {
    "duration": 17,
    "start_time": "2025-07-01T15:59:01.815Z"
   },
   {
    "duration": 17,
    "start_time": "2025-07-01T15:59:01.833Z"
   },
   {
    "duration": 30,
    "start_time": "2025-07-01T15:59:01.852Z"
   },
   {
    "duration": 127,
    "start_time": "2025-07-01T15:59:01.884Z"
   },
   {
    "duration": 247,
    "start_time": "2025-07-01T15:59:02.013Z"
   },
   {
    "duration": 4,
    "start_time": "2025-07-01T15:59:02.262Z"
   },
   {
    "duration": 21,
    "start_time": "2025-07-01T15:59:02.268Z"
   },
   {
    "duration": 14,
    "start_time": "2025-07-01T15:59:44.079Z"
   },
   {
    "duration": 13,
    "start_time": "2025-07-01T16:00:52.893Z"
   },
   {
    "duration": 15,
    "start_time": "2025-07-01T16:02:52.081Z"
   },
   {
    "duration": 14,
    "start_time": "2025-07-01T16:02:58.264Z"
   },
   {
    "duration": 32,
    "start_time": "2025-07-01T16:05:47.496Z"
   },
   {
    "duration": 10,
    "start_time": "2025-07-01T16:09:31.804Z"
   },
   {
    "duration": 13,
    "start_time": "2025-07-01T16:10:01.319Z"
   },
   {
    "duration": 9,
    "start_time": "2025-07-01T16:10:56.813Z"
   },
   {
    "duration": 10,
    "start_time": "2025-07-01T16:11:08.777Z"
   },
   {
    "duration": 11,
    "start_time": "2025-07-01T16:11:37.263Z"
   },
   {
    "duration": 10,
    "start_time": "2025-07-01T16:13:01.311Z"
   },
   {
    "duration": 10,
    "start_time": "2025-07-01T16:13:50.753Z"
   },
   {
    "duration": 84,
    "start_time": "2025-07-01T16:21:58.577Z"
   },
   {
    "duration": 75,
    "start_time": "2025-07-01T16:22:10.644Z"
   },
   {
    "duration": 27,
    "start_time": "2025-07-01T16:22:35.740Z"
   },
   {
    "duration": 6,
    "start_time": "2025-07-01T16:24:41.463Z"
   },
   {
    "duration": 5,
    "start_time": "2025-07-01T16:24:55.377Z"
   },
   {
    "duration": 15,
    "start_time": "2025-07-01T16:25:06.001Z"
   },
   {
    "duration": 7,
    "start_time": "2025-07-01T16:25:25.010Z"
   },
   {
    "duration": 16,
    "start_time": "2025-07-01T16:25:27.159Z"
   },
   {
    "duration": 11,
    "start_time": "2025-07-01T16:28:32.430Z"
   },
   {
    "duration": 5,
    "start_time": "2025-07-01T16:28:56.406Z"
   },
   {
    "duration": 7,
    "start_time": "2025-07-01T16:29:31.458Z"
   },
   {
    "duration": 7,
    "start_time": "2025-07-01T16:31:34.910Z"
   },
   {
    "duration": 10,
    "start_time": "2025-07-01T16:31:59.451Z"
   },
   {
    "duration": 15,
    "start_time": "2025-07-01T16:32:05.544Z"
   },
   {
    "duration": 14,
    "start_time": "2025-07-01T16:32:28.949Z"
   },
   {
    "duration": 7,
    "start_time": "2025-07-01T16:32:47.716Z"
   },
   {
    "duration": 9,
    "start_time": "2025-07-01T16:33:19.746Z"
   },
   {
    "duration": 8,
    "start_time": "2025-07-01T16:34:02.851Z"
   },
   {
    "duration": 14,
    "start_time": "2025-07-01T16:34:22.628Z"
   },
   {
    "duration": 8,
    "start_time": "2025-07-01T16:34:40.069Z"
   },
   {
    "duration": 15,
    "start_time": "2025-07-01T16:34:56.678Z"
   },
   {
    "duration": 6,
    "start_time": "2025-07-01T16:43:25.069Z"
   },
   {
    "duration": 6,
    "start_time": "2025-07-01T16:43:35.296Z"
   },
   {
    "duration": 15,
    "start_time": "2025-07-01T16:44:07.635Z"
   },
   {
    "duration": 23,
    "start_time": "2025-07-01T16:45:05.792Z"
   },
   {
    "duration": 3,
    "start_time": "2025-07-01T16:46:03.700Z"
   },
   {
    "duration": 18,
    "start_time": "2025-07-01T16:50:06.817Z"
   },
   {
    "duration": 46,
    "start_time": "2025-07-01T16:50:13.633Z"
   },
   {
    "duration": 16,
    "start_time": "2025-07-01T16:50:21.399Z"
   },
   {
    "duration": 17,
    "start_time": "2025-07-01T16:50:35.066Z"
   },
   {
    "duration": 8,
    "start_time": "2025-07-01T16:50:52.948Z"
   },
   {
    "duration": 2,
    "start_time": "2025-07-01T16:51:55.430Z"
   },
   {
    "duration": 5,
    "start_time": "2025-07-01T16:52:05.425Z"
   },
   {
    "duration": 315,
    "start_time": "2025-07-01T16:52:35.789Z"
   },
   {
    "duration": 25,
    "start_time": "2025-07-01T16:53:26.740Z"
   },
   {
    "duration": 24,
    "start_time": "2025-07-01T16:54:15.440Z"
   },
   {
    "duration": 10,
    "start_time": "2025-07-01T16:54:40.097Z"
   },
   {
    "duration": 11,
    "start_time": "2025-07-01T16:55:03.163Z"
   },
   {
    "duration": 10,
    "start_time": "2025-07-01T16:56:14.402Z"
   },
   {
    "duration": 34,
    "start_time": "2025-07-01T16:56:20.619Z"
   },
   {
    "duration": 1399,
    "start_time": "2025-07-01T16:56:45.080Z"
   },
   {
    "duration": 22,
    "start_time": "2025-07-01T16:58:06.554Z"
   },
   {
    "duration": 9,
    "start_time": "2025-07-01T16:58:47.397Z"
   },
   {
    "duration": 15,
    "start_time": "2025-07-01T16:59:05.231Z"
   },
   {
    "duration": 19,
    "start_time": "2025-07-01T16:59:11.070Z"
   },
   {
    "duration": 19,
    "start_time": "2025-07-01T17:00:51.375Z"
   },
   {
    "duration": 91,
    "start_time": "2025-07-01T17:04:01.817Z"
   },
   {
    "duration": 17,
    "start_time": "2025-07-01T17:06:25.396Z"
   },
   {
    "duration": 10,
    "start_time": "2025-07-01T17:06:46.783Z"
   },
   {
    "duration": 26,
    "start_time": "2025-07-01T17:06:58.426Z"
   },
   {
    "duration": 10,
    "start_time": "2025-07-01T17:07:49.058Z"
   },
   {
    "duration": 28,
    "start_time": "2025-07-01T17:08:16.026Z"
   },
   {
    "duration": 20,
    "start_time": "2025-07-01T17:10:35.287Z"
   },
   {
    "duration": 18,
    "start_time": "2025-07-01T17:10:42.075Z"
   },
   {
    "duration": 32,
    "start_time": "2025-07-01T17:11:08.886Z"
   },
   {
    "duration": 48,
    "start_time": "2025-07-01T17:11:41.913Z"
   },
   {
    "duration": 351,
    "start_time": "2025-07-01T17:17:28.397Z"
   },
   {
    "duration": 10,
    "start_time": "2025-07-01T17:18:10.331Z"
   },
   {
    "duration": 7,
    "start_time": "2025-07-01T17:18:59.373Z"
   },
   {
    "duration": 26,
    "start_time": "2025-07-01T17:22:43.296Z"
   },
   {
    "duration": 37,
    "start_time": "2025-07-01T17:25:01.906Z"
   },
   {
    "duration": 33,
    "start_time": "2025-07-01T17:25:05.216Z"
   },
   {
    "duration": 26,
    "start_time": "2025-07-01T17:26:45.177Z"
   },
   {
    "duration": 8,
    "start_time": "2025-07-01T17:27:59.903Z"
   },
   {
    "duration": 3,
    "start_time": "2025-07-01T17:29:43.870Z"
   },
   {
    "duration": 4,
    "start_time": "2025-07-01T17:29:50.316Z"
   },
   {
    "duration": 81,
    "start_time": "2025-07-01T17:30:04.233Z"
   },
   {
    "duration": 19,
    "start_time": "2025-07-01T17:30:22.527Z"
   },
   {
    "duration": 11,
    "start_time": "2025-07-01T17:31:13.055Z"
   },
   {
    "duration": 27,
    "start_time": "2025-07-01T17:32:15.385Z"
   },
   {
    "duration": 18,
    "start_time": "2025-07-01T17:32:28.936Z"
   },
   {
    "duration": 10,
    "start_time": "2025-07-01T17:33:59.598Z"
   },
   {
    "duration": 11,
    "start_time": "2025-07-01T17:34:26.292Z"
   },
   {
    "duration": 11,
    "start_time": "2025-07-01T17:34:33.684Z"
   },
   {
    "duration": 11,
    "start_time": "2025-07-01T17:34:57.485Z"
   },
   {
    "duration": 11,
    "start_time": "2025-07-01T17:35:48.791Z"
   },
   {
    "duration": 7,
    "start_time": "2025-07-01T17:38:23.424Z"
   },
   {
    "duration": 10,
    "start_time": "2025-07-01T17:38:29.473Z"
   },
   {
    "duration": 12,
    "start_time": "2025-07-01T17:38:39.960Z"
   },
   {
    "duration": 9,
    "start_time": "2025-07-01T17:39:22.111Z"
   },
   {
    "duration": 15,
    "start_time": "2025-07-01T17:39:32.772Z"
   },
   {
    "duration": 6,
    "start_time": "2025-07-01T17:39:38.752Z"
   },
   {
    "duration": 5,
    "start_time": "2025-07-01T17:40:54.709Z"
   },
   {
    "duration": 5,
    "start_time": "2025-07-01T17:41:42.673Z"
   },
   {
    "duration": 24,
    "start_time": "2025-07-01T17:42:49.191Z"
   },
   {
    "duration": 9,
    "start_time": "2025-07-01T17:43:27.892Z"
   },
   {
    "duration": 27,
    "start_time": "2025-07-01T17:44:23.098Z"
   },
   {
    "duration": 9,
    "start_time": "2025-07-01T17:44:27.697Z"
   },
   {
    "duration": 9,
    "start_time": "2025-07-01T17:44:31.197Z"
   },
   {
    "duration": 20,
    "start_time": "2025-07-01T17:44:59.131Z"
   },
   {
    "duration": 16,
    "start_time": "2025-07-01T17:45:27.953Z"
   },
   {
    "duration": 12,
    "start_time": "2025-07-01T17:46:19.513Z"
   },
   {
    "duration": 47,
    "start_time": "2025-07-02T05:47:48.736Z"
   },
   {
    "duration": 400,
    "start_time": "2025-07-02T05:47:57.333Z"
   },
   {
    "duration": 44,
    "start_time": "2025-07-02T05:47:57.735Z"
   },
   {
    "duration": 21,
    "start_time": "2025-07-02T05:47:57.780Z"
   },
   {
    "duration": 17,
    "start_time": "2025-07-02T05:47:57.802Z"
   },
   {
    "duration": 7,
    "start_time": "2025-07-02T05:47:57.821Z"
   },
   {
    "duration": 6,
    "start_time": "2025-07-02T05:47:57.830Z"
   },
   {
    "duration": 4,
    "start_time": "2025-07-02T05:47:57.838Z"
   },
   {
    "duration": 4,
    "start_time": "2025-07-02T05:47:57.872Z"
   },
   {
    "duration": 31,
    "start_time": "2025-07-02T05:47:57.878Z"
   },
   {
    "duration": 15,
    "start_time": "2025-07-02T05:47:57.911Z"
   },
   {
    "duration": 4,
    "start_time": "2025-07-02T05:47:57.927Z"
   },
   {
    "duration": 9,
    "start_time": "2025-07-02T05:47:57.933Z"
   },
   {
    "duration": 30,
    "start_time": "2025-07-02T05:47:57.944Z"
   },
   {
    "duration": 7,
    "start_time": "2025-07-02T05:47:57.977Z"
   },
   {
    "duration": 14,
    "start_time": "2025-07-02T05:47:57.985Z"
   },
   {
    "duration": 37,
    "start_time": "2025-07-02T05:47:58.000Z"
   },
   {
    "duration": 7,
    "start_time": "2025-07-02T05:47:58.039Z"
   },
   {
    "duration": 7,
    "start_time": "2025-07-02T05:47:58.048Z"
   },
   {
    "duration": 73,
    "start_time": "2025-07-02T05:47:58.057Z"
   },
   {
    "duration": 29,
    "start_time": "2025-07-02T05:47:58.132Z"
   },
   {
    "duration": 16,
    "start_time": "2025-07-02T05:47:58.163Z"
   },
   {
    "duration": 23,
    "start_time": "2025-07-02T05:47:58.180Z"
   },
   {
    "duration": 39,
    "start_time": "2025-07-02T05:47:58.204Z"
   },
   {
    "duration": 48,
    "start_time": "2025-07-02T05:47:58.245Z"
   },
   {
    "duration": 32,
    "start_time": "2025-07-02T05:47:58.295Z"
   },
   {
    "duration": 9,
    "start_time": "2025-07-02T05:47:58.329Z"
   },
   {
    "duration": 38,
    "start_time": "2025-07-02T05:47:58.340Z"
   },
   {
    "duration": 69,
    "start_time": "2025-07-02T05:47:58.380Z"
   },
   {
    "duration": 0,
    "start_time": "2025-07-02T05:47:58.450Z"
   },
   {
    "duration": 0,
    "start_time": "2025-07-02T05:47:58.472Z"
   },
   {
    "duration": 0,
    "start_time": "2025-07-02T05:47:58.473Z"
   },
   {
    "duration": 8,
    "start_time": "2025-07-02T05:56:51.961Z"
   },
   {
    "duration": 6,
    "start_time": "2025-07-02T05:57:31.516Z"
   },
   {
    "duration": 27,
    "start_time": "2025-07-02T05:57:36.633Z"
   },
   {
    "duration": 25,
    "start_time": "2025-07-02T05:58:09.132Z"
   },
   {
    "duration": 25,
    "start_time": "2025-07-02T05:58:21.148Z"
   },
   {
    "duration": 9,
    "start_time": "2025-07-02T05:59:40.132Z"
   },
   {
    "duration": 21,
    "start_time": "2025-07-02T05:59:55.574Z"
   },
   {
    "duration": 8,
    "start_time": "2025-07-02T06:00:29.654Z"
   },
   {
    "duration": 21,
    "start_time": "2025-07-02T06:00:32.941Z"
   },
   {
    "duration": 20,
    "start_time": "2025-07-02T06:00:46.145Z"
   },
   {
    "duration": 17,
    "start_time": "2025-07-02T06:00:55.435Z"
   },
   {
    "duration": 26,
    "start_time": "2025-07-02T06:01:00.727Z"
   },
   {
    "duration": 5,
    "start_time": "2025-07-02T06:01:06.802Z"
   },
   {
    "duration": 6,
    "start_time": "2025-07-02T06:01:13.122Z"
   },
   {
    "duration": 5,
    "start_time": "2025-07-02T06:02:07.072Z"
   },
   {
    "duration": 403,
    "start_time": "2025-07-02T06:02:18.294Z"
   },
   {
    "duration": 55,
    "start_time": "2025-07-02T06:02:18.699Z"
   },
   {
    "duration": 22,
    "start_time": "2025-07-02T06:02:18.756Z"
   },
   {
    "duration": 28,
    "start_time": "2025-07-02T06:02:18.780Z"
   },
   {
    "duration": 3,
    "start_time": "2025-07-02T06:02:18.811Z"
   },
   {
    "duration": 16,
    "start_time": "2025-07-02T06:02:18.815Z"
   },
   {
    "duration": 10,
    "start_time": "2025-07-02T06:02:18.832Z"
   },
   {
    "duration": 13,
    "start_time": "2025-07-02T06:02:18.843Z"
   },
   {
    "duration": 21,
    "start_time": "2025-07-02T06:02:18.858Z"
   },
   {
    "duration": 19,
    "start_time": "2025-07-02T06:02:18.881Z"
   },
   {
    "duration": 5,
    "start_time": "2025-07-02T06:02:18.903Z"
   },
   {
    "duration": 19,
    "start_time": "2025-07-02T06:02:18.909Z"
   },
   {
    "duration": 77,
    "start_time": "2025-07-02T06:02:18.930Z"
   },
   {
    "duration": 12,
    "start_time": "2025-07-02T06:02:19.010Z"
   },
   {
    "duration": 21,
    "start_time": "2025-07-02T06:02:19.024Z"
   },
   {
    "duration": 9,
    "start_time": "2025-07-02T06:02:19.047Z"
   },
   {
    "duration": 15,
    "start_time": "2025-07-02T06:02:19.058Z"
   },
   {
    "duration": 10,
    "start_time": "2025-07-02T06:02:19.075Z"
   },
   {
    "duration": 9,
    "start_time": "2025-07-02T06:02:19.087Z"
   },
   {
    "duration": 19,
    "start_time": "2025-07-02T06:02:19.098Z"
   },
   {
    "duration": 22,
    "start_time": "2025-07-02T06:02:19.119Z"
   },
   {
    "duration": 41,
    "start_time": "2025-07-02T06:02:19.143Z"
   },
   {
    "duration": 42,
    "start_time": "2025-07-02T06:02:19.186Z"
   },
   {
    "duration": 58,
    "start_time": "2025-07-02T06:02:19.230Z"
   },
   {
    "duration": 30,
    "start_time": "2025-07-02T06:02:19.291Z"
   },
   {
    "duration": 11,
    "start_time": "2025-07-02T06:02:19.323Z"
   },
   {
    "duration": 42,
    "start_time": "2025-07-02T06:02:19.336Z"
   },
   {
    "duration": 72,
    "start_time": "2025-07-02T06:02:19.380Z"
   },
   {
    "duration": 0,
    "start_time": "2025-07-02T06:02:19.454Z"
   },
   {
    "duration": 0,
    "start_time": "2025-07-02T06:02:19.472Z"
   },
   {
    "duration": 0,
    "start_time": "2025-07-02T06:02:19.474Z"
   },
   {
    "duration": 7,
    "start_time": "2025-07-02T06:08:38.745Z"
   },
   {
    "duration": 6,
    "start_time": "2025-07-02T06:08:43.913Z"
   },
   {
    "duration": 20,
    "start_time": "2025-07-02T06:08:46.703Z"
   },
   {
    "duration": 8,
    "start_time": "2025-07-02T06:08:57.397Z"
   },
   {
    "duration": 17,
    "start_time": "2025-07-02T06:09:01.459Z"
   },
   {
    "duration": 8,
    "start_time": "2025-07-02T06:09:04.581Z"
   },
   {
    "duration": 6,
    "start_time": "2025-07-02T06:09:24.051Z"
   },
   {
    "duration": 18,
    "start_time": "2025-07-02T06:09:27.540Z"
   },
   {
    "duration": 386,
    "start_time": "2025-07-02T06:09:33.130Z"
   },
   {
    "duration": 47,
    "start_time": "2025-07-02T06:09:33.518Z"
   },
   {
    "duration": 57,
    "start_time": "2025-07-02T06:09:33.567Z"
   },
   {
    "duration": 17,
    "start_time": "2025-07-02T06:09:33.626Z"
   },
   {
    "duration": 87,
    "start_time": "2025-07-02T06:09:33.645Z"
   },
   {
    "duration": 19,
    "start_time": "2025-07-02T06:09:33.733Z"
   },
   {
    "duration": 18,
    "start_time": "2025-07-02T06:09:33.753Z"
   },
   {
    "duration": 8,
    "start_time": "2025-07-02T06:09:33.773Z"
   },
   {
    "duration": 22,
    "start_time": "2025-07-02T06:09:33.783Z"
   },
   {
    "duration": 20,
    "start_time": "2025-07-02T06:09:33.807Z"
   },
   {
    "duration": 10,
    "start_time": "2025-07-02T06:09:33.828Z"
   },
   {
    "duration": 36,
    "start_time": "2025-07-02T06:09:33.840Z"
   },
   {
    "duration": 19,
    "start_time": "2025-07-02T06:09:33.878Z"
   },
   {
    "duration": 8,
    "start_time": "2025-07-02T06:09:33.901Z"
   },
   {
    "duration": 34,
    "start_time": "2025-07-02T06:09:33.911Z"
   },
   {
    "duration": 10,
    "start_time": "2025-07-02T06:09:33.947Z"
   },
   {
    "duration": 18,
    "start_time": "2025-07-02T06:09:33.959Z"
   },
   {
    "duration": 12,
    "start_time": "2025-07-02T06:09:33.979Z"
   },
   {
    "duration": 8,
    "start_time": "2025-07-02T06:09:33.992Z"
   },
   {
    "duration": 18,
    "start_time": "2025-07-02T06:09:34.002Z"
   },
   {
    "duration": 24,
    "start_time": "2025-07-02T06:09:34.023Z"
   },
   {
    "duration": 41,
    "start_time": "2025-07-02T06:09:34.049Z"
   },
   {
    "duration": 43,
    "start_time": "2025-07-02T06:09:34.092Z"
   },
   {
    "duration": 52,
    "start_time": "2025-07-02T06:09:34.137Z"
   },
   {
    "duration": 46,
    "start_time": "2025-07-02T06:09:34.190Z"
   },
   {
    "duration": 24,
    "start_time": "2025-07-02T06:09:34.237Z"
   },
   {
    "duration": 12,
    "start_time": "2025-07-02T06:09:34.263Z"
   },
   {
    "duration": 70,
    "start_time": "2025-07-02T06:09:34.277Z"
   },
   {
    "duration": 0,
    "start_time": "2025-07-02T06:09:34.349Z"
   },
   {
    "duration": 0,
    "start_time": "2025-07-02T06:09:34.350Z"
   },
   {
    "duration": 0,
    "start_time": "2025-07-02T06:09:34.351Z"
   },
   {
    "duration": 7,
    "start_time": "2025-07-02T06:10:47.859Z"
   },
   {
    "duration": 20,
    "start_time": "2025-07-02T06:10:51.237Z"
   },
   {
    "duration": 8,
    "start_time": "2025-07-02T06:14:58.215Z"
   },
   {
    "duration": 17,
    "start_time": "2025-07-02T06:15:03.601Z"
   },
   {
    "duration": 4,
    "start_time": "2025-07-02T06:15:09.932Z"
   },
   {
    "duration": 6,
    "start_time": "2025-07-02T06:15:14.713Z"
   },
   {
    "duration": 18,
    "start_time": "2025-07-02T06:15:17.161Z"
   },
   {
    "duration": 7,
    "start_time": "2025-07-02T06:15:39.302Z"
   },
   {
    "duration": 18,
    "start_time": "2025-07-02T06:15:42.870Z"
   },
   {
    "duration": 398,
    "start_time": "2025-07-02T06:15:53.506Z"
   },
   {
    "duration": 48,
    "start_time": "2025-07-02T06:15:53.906Z"
   },
   {
    "duration": 20,
    "start_time": "2025-07-02T06:15:53.956Z"
   },
   {
    "duration": 17,
    "start_time": "2025-07-02T06:15:53.978Z"
   },
   {
    "duration": 4,
    "start_time": "2025-07-02T06:15:53.997Z"
   },
   {
    "duration": 5,
    "start_time": "2025-07-02T06:15:54.002Z"
   },
   {
    "duration": 7,
    "start_time": "2025-07-02T06:15:54.009Z"
   },
   {
    "duration": 17,
    "start_time": "2025-07-02T06:15:54.018Z"
   },
   {
    "duration": 10,
    "start_time": "2025-07-02T06:15:54.038Z"
   },
   {
    "duration": 48,
    "start_time": "2025-07-02T06:15:54.050Z"
   },
   {
    "duration": 24,
    "start_time": "2025-07-02T06:15:54.101Z"
   },
   {
    "duration": 7,
    "start_time": "2025-07-02T06:15:54.127Z"
   },
   {
    "duration": 36,
    "start_time": "2025-07-02T06:15:54.136Z"
   },
   {
    "duration": 39,
    "start_time": "2025-07-02T06:15:54.175Z"
   },
   {
    "duration": 10,
    "start_time": "2025-07-02T06:15:54.215Z"
   },
   {
    "duration": 15,
    "start_time": "2025-07-02T06:15:54.227Z"
   },
   {
    "duration": 8,
    "start_time": "2025-07-02T06:15:54.244Z"
   },
   {
    "duration": 33,
    "start_time": "2025-07-02T06:15:54.253Z"
   },
   {
    "duration": 8,
    "start_time": "2025-07-02T06:15:54.287Z"
   },
   {
    "duration": 8,
    "start_time": "2025-07-02T06:15:54.297Z"
   },
   {
    "duration": 21,
    "start_time": "2025-07-02T06:15:54.306Z"
   },
   {
    "duration": 18,
    "start_time": "2025-07-02T06:15:54.329Z"
   },
   {
    "duration": 43,
    "start_time": "2025-07-02T06:15:54.349Z"
   },
   {
    "duration": 41,
    "start_time": "2025-07-02T06:15:54.394Z"
   },
   {
    "duration": 50,
    "start_time": "2025-07-02T06:15:54.437Z"
   },
   {
    "duration": 35,
    "start_time": "2025-07-02T06:15:54.489Z"
   },
   {
    "duration": 11,
    "start_time": "2025-07-02T06:15:54.525Z"
   },
   {
    "duration": 34,
    "start_time": "2025-07-02T06:15:54.538Z"
   },
   {
    "duration": 76,
    "start_time": "2025-07-02T06:15:54.574Z"
   },
   {
    "duration": 0,
    "start_time": "2025-07-02T06:15:54.652Z"
   },
   {
    "duration": 0,
    "start_time": "2025-07-02T06:15:54.653Z"
   },
   {
    "duration": 0,
    "start_time": "2025-07-02T06:15:54.654Z"
   },
   {
    "duration": 6,
    "start_time": "2025-07-02T06:16:18.617Z"
   },
   {
    "duration": 18,
    "start_time": "2025-07-02T06:16:23.388Z"
   },
   {
    "duration": 442,
    "start_time": "2025-07-02T06:17:40.065Z"
   },
   {
    "duration": 50,
    "start_time": "2025-07-02T06:17:40.509Z"
   },
   {
    "duration": 22,
    "start_time": "2025-07-02T06:17:40.560Z"
   },
   {
    "duration": 56,
    "start_time": "2025-07-02T06:17:40.583Z"
   },
   {
    "duration": 27,
    "start_time": "2025-07-02T06:17:40.641Z"
   },
   {
    "duration": 11,
    "start_time": "2025-07-02T06:17:40.669Z"
   },
   {
    "duration": 4,
    "start_time": "2025-07-02T06:17:40.682Z"
   },
   {
    "duration": 8,
    "start_time": "2025-07-02T06:17:40.688Z"
   },
   {
    "duration": 8,
    "start_time": "2025-07-02T06:17:40.698Z"
   },
   {
    "duration": 20,
    "start_time": "2025-07-02T06:17:40.708Z"
   },
   {
    "duration": 17,
    "start_time": "2025-07-02T06:17:40.730Z"
   },
   {
    "duration": 5,
    "start_time": "2025-07-02T06:17:40.771Z"
   },
   {
    "duration": 14,
    "start_time": "2025-07-02T06:17:40.777Z"
   },
   {
    "duration": 37,
    "start_time": "2025-07-02T06:17:40.795Z"
   },
   {
    "duration": 67,
    "start_time": "2025-07-02T06:17:40.834Z"
   },
   {
    "duration": 30,
    "start_time": "2025-07-02T06:17:40.902Z"
   },
   {
    "duration": 25,
    "start_time": "2025-07-02T06:17:40.934Z"
   },
   {
    "duration": 9,
    "start_time": "2025-07-02T06:17:40.962Z"
   },
   {
    "duration": 74,
    "start_time": "2025-07-02T06:17:40.973Z"
   },
   {
    "duration": 38,
    "start_time": "2025-07-02T06:17:41.048Z"
   },
   {
    "duration": 24,
    "start_time": "2025-07-02T06:17:41.088Z"
   },
   {
    "duration": 19,
    "start_time": "2025-07-02T06:17:41.114Z"
   },
   {
    "duration": 29,
    "start_time": "2025-07-02T06:17:41.135Z"
   },
   {
    "duration": 46,
    "start_time": "2025-07-02T06:17:41.166Z"
   },
   {
    "duration": 29,
    "start_time": "2025-07-02T06:17:41.214Z"
   },
   {
    "duration": 50,
    "start_time": "2025-07-02T06:17:41.245Z"
   },
   {
    "duration": 12,
    "start_time": "2025-07-02T06:17:41.297Z"
   },
   {
    "duration": 11,
    "start_time": "2025-07-02T06:17:41.310Z"
   },
   {
    "duration": 104,
    "start_time": "2025-07-02T06:17:41.323Z"
   },
   {
    "duration": 0,
    "start_time": "2025-07-02T06:17:41.428Z"
   },
   {
    "duration": 0,
    "start_time": "2025-07-02T06:17:41.429Z"
   },
   {
    "duration": 0,
    "start_time": "2025-07-02T06:17:41.430Z"
   },
   {
    "duration": 3,
    "start_time": "2025-07-02T06:18:29.696Z"
   },
   {
    "duration": 46,
    "start_time": "2025-07-02T06:18:32.265Z"
   },
   {
    "duration": 14,
    "start_time": "2025-07-02T06:18:35.929Z"
   },
   {
    "duration": 15,
    "start_time": "2025-07-02T06:21:13.823Z"
   },
   {
    "duration": 1664,
    "start_time": "2025-07-02T06:21:26.789Z"
   },
   {
    "duration": 401,
    "start_time": "2025-07-02T06:21:47.497Z"
   },
   {
    "duration": 47,
    "start_time": "2025-07-02T06:21:47.900Z"
   },
   {
    "duration": 22,
    "start_time": "2025-07-02T06:21:47.949Z"
   },
   {
    "duration": 25,
    "start_time": "2025-07-02T06:21:47.972Z"
   },
   {
    "duration": 3,
    "start_time": "2025-07-02T06:21:47.999Z"
   },
   {
    "duration": 4,
    "start_time": "2025-07-02T06:21:48.004Z"
   },
   {
    "duration": 16,
    "start_time": "2025-07-02T06:21:48.009Z"
   },
   {
    "duration": 4,
    "start_time": "2025-07-02T06:21:48.027Z"
   },
   {
    "duration": 6,
    "start_time": "2025-07-02T06:21:48.033Z"
   },
   {
    "duration": 36,
    "start_time": "2025-07-02T06:21:48.041Z"
   },
   {
    "duration": 15,
    "start_time": "2025-07-02T06:21:48.079Z"
   },
   {
    "duration": 4,
    "start_time": "2025-07-02T06:21:48.095Z"
   },
   {
    "duration": 12,
    "start_time": "2025-07-02T06:21:48.101Z"
   },
   {
    "duration": 11,
    "start_time": "2025-07-02T06:21:48.116Z"
   },
   {
    "duration": 7,
    "start_time": "2025-07-02T06:21:48.129Z"
   },
   {
    "duration": 14,
    "start_time": "2025-07-02T06:21:48.172Z"
   },
   {
    "duration": 65,
    "start_time": "2025-07-02T06:21:48.187Z"
   },
   {
    "duration": 13,
    "start_time": "2025-07-02T06:21:48.253Z"
   },
   {
    "duration": 32,
    "start_time": "2025-07-02T06:21:48.268Z"
   },
   {
    "duration": 22,
    "start_time": "2025-07-02T06:21:48.302Z"
   },
   {
    "duration": 44,
    "start_time": "2025-07-02T06:21:48.326Z"
   },
   {
    "duration": 25,
    "start_time": "2025-07-02T06:21:48.372Z"
   },
   {
    "duration": 23,
    "start_time": "2025-07-02T06:21:48.399Z"
   },
   {
    "duration": 72,
    "start_time": "2025-07-02T06:21:48.424Z"
   },
   {
    "duration": 29,
    "start_time": "2025-07-02T06:21:48.498Z"
   },
   {
    "duration": 51,
    "start_time": "2025-07-02T06:21:48.529Z"
   },
   {
    "duration": 12,
    "start_time": "2025-07-02T06:21:48.582Z"
   },
   {
    "duration": 11,
    "start_time": "2025-07-02T06:21:48.596Z"
   },
   {
    "duration": 125,
    "start_time": "2025-07-02T06:21:48.608Z"
   },
   {
    "duration": 0,
    "start_time": "2025-07-02T06:21:48.735Z"
   },
   {
    "duration": 0,
    "start_time": "2025-07-02T06:21:48.736Z"
   },
   {
    "duration": 0,
    "start_time": "2025-07-02T06:21:48.737Z"
   },
   {
    "duration": 27,
    "start_time": "2025-07-02T06:30:47.862Z"
   },
   {
    "duration": 31,
    "start_time": "2025-07-02T06:31:05.705Z"
   },
   {
    "duration": 33,
    "start_time": "2025-07-02T06:31:33.790Z"
   },
   {
    "duration": 30,
    "start_time": "2025-07-02T06:31:38.471Z"
   },
   {
    "duration": 30,
    "start_time": "2025-07-02T06:31:46.618Z"
   },
   {
    "duration": 31,
    "start_time": "2025-07-02T06:31:53.736Z"
   },
   {
    "duration": 389,
    "start_time": "2025-07-02T06:32:07.001Z"
   },
   {
    "duration": 44,
    "start_time": "2025-07-02T06:32:07.392Z"
   },
   {
    "duration": 20,
    "start_time": "2025-07-02T06:32:07.438Z"
   },
   {
    "duration": 23,
    "start_time": "2025-07-02T06:32:07.460Z"
   },
   {
    "duration": 16,
    "start_time": "2025-07-02T06:32:07.485Z"
   },
   {
    "duration": 9,
    "start_time": "2025-07-02T06:32:07.503Z"
   },
   {
    "duration": 15,
    "start_time": "2025-07-02T06:32:07.514Z"
   },
   {
    "duration": 12,
    "start_time": "2025-07-02T06:32:07.531Z"
   },
   {
    "duration": 8,
    "start_time": "2025-07-02T06:32:07.545Z"
   },
   {
    "duration": 19,
    "start_time": "2025-07-02T06:32:07.555Z"
   },
   {
    "duration": 15,
    "start_time": "2025-07-02T06:32:07.576Z"
   },
   {
    "duration": 16,
    "start_time": "2025-07-02T06:32:07.592Z"
   },
   {
    "duration": 44,
    "start_time": "2025-07-02T06:32:07.610Z"
   },
   {
    "duration": 73,
    "start_time": "2025-07-02T06:32:07.656Z"
   },
   {
    "duration": 74,
    "start_time": "2025-07-02T06:32:07.730Z"
   },
   {
    "duration": 11,
    "start_time": "2025-07-02T06:32:07.805Z"
   },
   {
    "duration": 26,
    "start_time": "2025-07-02T06:32:07.817Z"
   },
   {
    "duration": 11,
    "start_time": "2025-07-02T06:32:07.845Z"
   },
   {
    "duration": 11,
    "start_time": "2025-07-02T06:32:07.858Z"
   },
   {
    "duration": 22,
    "start_time": "2025-07-02T06:32:07.871Z"
   },
   {
    "duration": 8,
    "start_time": "2025-07-02T06:32:07.895Z"
   },
   {
    "duration": 18,
    "start_time": "2025-07-02T06:32:07.905Z"
   },
   {
    "duration": 18,
    "start_time": "2025-07-02T06:32:07.925Z"
   },
   {
    "duration": 33,
    "start_time": "2025-07-02T06:32:07.945Z"
   },
   {
    "duration": 525,
    "start_time": "2025-07-02T06:32:07.980Z"
   },
   {
    "duration": 10,
    "start_time": "2025-07-02T06:32:08.506Z"
   },
   {
    "duration": 0,
    "start_time": "2025-07-02T06:32:08.518Z"
   },
   {
    "duration": 0,
    "start_time": "2025-07-02T06:32:08.520Z"
   },
   {
    "duration": 0,
    "start_time": "2025-07-02T06:32:08.522Z"
   },
   {
    "duration": 0,
    "start_time": "2025-07-02T06:32:08.523Z"
   },
   {
    "duration": 0,
    "start_time": "2025-07-02T06:32:08.524Z"
   },
   {
    "duration": 0,
    "start_time": "2025-07-02T06:32:08.525Z"
   },
   {
    "duration": 0,
    "start_time": "2025-07-02T06:32:08.526Z"
   },
   {
    "duration": 429,
    "start_time": "2025-07-02T06:32:29.751Z"
   },
   {
    "duration": 46,
    "start_time": "2025-07-02T06:32:30.182Z"
   },
   {
    "duration": 21,
    "start_time": "2025-07-02T06:32:30.229Z"
   },
   {
    "duration": 77,
    "start_time": "2025-07-02T06:32:30.252Z"
   },
   {
    "duration": 16,
    "start_time": "2025-07-02T06:32:30.332Z"
   },
   {
    "duration": 58,
    "start_time": "2025-07-02T06:32:30.349Z"
   },
   {
    "duration": 26,
    "start_time": "2025-07-02T06:32:30.408Z"
   },
   {
    "duration": 37,
    "start_time": "2025-07-02T06:32:30.436Z"
   },
   {
    "duration": 18,
    "start_time": "2025-07-02T06:32:30.475Z"
   },
   {
    "duration": 27,
    "start_time": "2025-07-02T06:32:30.495Z"
   },
   {
    "duration": 15,
    "start_time": "2025-07-02T06:32:30.524Z"
   },
   {
    "duration": 28,
    "start_time": "2025-07-02T06:32:30.540Z"
   },
   {
    "duration": 42,
    "start_time": "2025-07-02T06:32:30.569Z"
   },
   {
    "duration": 13,
    "start_time": "2025-07-02T06:32:30.614Z"
   },
   {
    "duration": 74,
    "start_time": "2025-07-02T06:32:30.629Z"
   },
   {
    "duration": 10,
    "start_time": "2025-07-02T06:32:30.705Z"
   },
   {
    "duration": 31,
    "start_time": "2025-07-02T06:32:30.718Z"
   },
   {
    "duration": 18,
    "start_time": "2025-07-02T06:32:30.751Z"
   },
   {
    "duration": 24,
    "start_time": "2025-07-02T06:32:30.771Z"
   },
   {
    "duration": 13,
    "start_time": "2025-07-02T06:32:30.797Z"
   },
   {
    "duration": 12,
    "start_time": "2025-07-02T06:32:30.812Z"
   },
   {
    "duration": 46,
    "start_time": "2025-07-02T06:32:30.826Z"
   },
   {
    "duration": 27,
    "start_time": "2025-07-02T06:32:30.874Z"
   },
   {
    "duration": 111,
    "start_time": "2025-07-02T06:32:30.903Z"
   },
   {
    "duration": 39,
    "start_time": "2025-07-02T06:32:31.016Z"
   },
   {
    "duration": 54,
    "start_time": "2025-07-02T06:32:31.057Z"
   },
   {
    "duration": 15,
    "start_time": "2025-07-02T06:32:31.113Z"
   },
   {
    "duration": 21,
    "start_time": "2025-07-02T06:32:31.130Z"
   },
   {
    "duration": 37,
    "start_time": "2025-07-02T06:32:31.153Z"
   },
   {
    "duration": 92,
    "start_time": "2025-07-02T06:32:31.192Z"
   },
   {
    "duration": 0,
    "start_time": "2025-07-02T06:32:31.286Z"
   },
   {
    "duration": 0,
    "start_time": "2025-07-02T06:32:31.287Z"
   },
   {
    "duration": 0,
    "start_time": "2025-07-02T06:32:31.288Z"
   },
   {
    "duration": 41,
    "start_time": "2025-07-02T06:32:42.243Z"
   },
   {
    "duration": 33,
    "start_time": "2025-07-02T06:32:46.230Z"
   },
   {
    "duration": 23,
    "start_time": "2025-07-02T06:35:05.772Z"
   },
   {
    "duration": 358,
    "start_time": "2025-07-02T06:35:20.244Z"
   },
   {
    "duration": 432,
    "start_time": "2025-07-02T06:38:12.681Z"
   },
   {
    "duration": 50,
    "start_time": "2025-07-02T06:38:13.116Z"
   },
   {
    "duration": 22,
    "start_time": "2025-07-02T06:38:13.168Z"
   },
   {
    "duration": 19,
    "start_time": "2025-07-02T06:38:13.192Z"
   },
   {
    "duration": 7,
    "start_time": "2025-07-02T06:38:13.213Z"
   },
   {
    "duration": 11,
    "start_time": "2025-07-02T06:38:13.222Z"
   },
   {
    "duration": 22,
    "start_time": "2025-07-02T06:38:13.235Z"
   },
   {
    "duration": 15,
    "start_time": "2025-07-02T06:38:13.259Z"
   },
   {
    "duration": 8,
    "start_time": "2025-07-02T06:38:13.276Z"
   },
   {
    "duration": 22,
    "start_time": "2025-07-02T06:38:13.287Z"
   },
   {
    "duration": 16,
    "start_time": "2025-07-02T06:38:13.311Z"
   },
   {
    "duration": 5,
    "start_time": "2025-07-02T06:38:13.329Z"
   },
   {
    "duration": 53,
    "start_time": "2025-07-02T06:38:13.335Z"
   },
   {
    "duration": 11,
    "start_time": "2025-07-02T06:38:13.389Z"
   },
   {
    "duration": 18,
    "start_time": "2025-07-02T06:38:13.402Z"
   },
   {
    "duration": 8,
    "start_time": "2025-07-02T06:38:13.422Z"
   },
   {
    "duration": 25,
    "start_time": "2025-07-02T06:38:13.431Z"
   },
   {
    "duration": 8,
    "start_time": "2025-07-02T06:38:13.471Z"
   },
   {
    "duration": 60,
    "start_time": "2025-07-02T06:38:13.481Z"
   },
   {
    "duration": 17,
    "start_time": "2025-07-02T06:38:13.543Z"
   },
   {
    "duration": 8,
    "start_time": "2025-07-02T06:38:13.561Z"
   },
   {
    "duration": 19,
    "start_time": "2025-07-02T06:38:13.571Z"
   },
   {
    "duration": 26,
    "start_time": "2025-07-02T06:38:13.592Z"
   },
   {
    "duration": 24,
    "start_time": "2025-07-02T06:38:13.620Z"
   },
   {
    "duration": 74,
    "start_time": "2025-07-02T06:38:13.646Z"
   },
   {
    "duration": 32,
    "start_time": "2025-07-02T06:38:13.722Z"
   },
   {
    "duration": 67,
    "start_time": "2025-07-02T06:38:13.772Z"
   },
   {
    "duration": 11,
    "start_time": "2025-07-02T06:38:13.842Z"
   },
   {
    "duration": 12,
    "start_time": "2025-07-02T06:38:13.855Z"
   },
   {
    "duration": 74,
    "start_time": "2025-07-02T06:38:13.869Z"
   },
   {
    "duration": 0,
    "start_time": "2025-07-02T06:38:13.945Z"
   },
   {
    "duration": 0,
    "start_time": "2025-07-02T06:38:13.947Z"
   },
   {
    "duration": 0,
    "start_time": "2025-07-02T06:38:13.948Z"
   },
   {
    "duration": 403,
    "start_time": "2025-07-02T06:38:48.180Z"
   },
   {
    "duration": 23,
    "start_time": "2025-07-02T06:38:55.797Z"
   },
   {
    "duration": 2,
    "start_time": "2025-07-02T06:39:46.345Z"
   },
   {
    "duration": 406,
    "start_time": "2025-07-02T06:42:33.386Z"
   },
   {
    "duration": 7,
    "start_time": "2025-07-02T06:42:43.186Z"
   },
   {
    "duration": 7,
    "start_time": "2025-07-02T06:45:03.719Z"
   },
   {
    "duration": 24,
    "start_time": "2025-07-02T06:45:20.904Z"
   },
   {
    "duration": 23,
    "start_time": "2025-07-02T06:45:56.704Z"
   },
   {
    "duration": 24,
    "start_time": "2025-07-02T06:46:13.410Z"
   },
   {
    "duration": 14,
    "start_time": "2025-07-02T06:47:48.388Z"
   },
   {
    "duration": 22,
    "start_time": "2025-07-02T06:48:32.858Z"
   },
   {
    "duration": 18,
    "start_time": "2025-07-02T06:48:37.591Z"
   },
   {
    "duration": 7,
    "start_time": "2025-07-02T06:48:52.027Z"
   },
   {
    "duration": 17,
    "start_time": "2025-07-02T06:49:53.506Z"
   },
   {
    "duration": 13,
    "start_time": "2025-07-02T06:51:06.076Z"
   },
   {
    "duration": 18,
    "start_time": "2025-07-02T06:51:42.962Z"
   },
   {
    "duration": 4,
    "start_time": "2025-07-02T06:56:21.162Z"
   },
   {
    "duration": 15,
    "start_time": "2025-07-02T06:56:28.498Z"
   },
   {
    "duration": 102,
    "start_time": "2025-07-02T06:57:23.498Z"
   },
   {
    "duration": 17,
    "start_time": "2025-07-02T06:57:34.097Z"
   },
   {
    "duration": 15,
    "start_time": "2025-07-02T06:58:24.680Z"
   },
   {
    "duration": 16,
    "start_time": "2025-07-02T06:58:38.081Z"
   },
   {
    "duration": 18,
    "start_time": "2025-07-02T07:00:38.689Z"
   },
   {
    "duration": 17,
    "start_time": "2025-07-02T07:00:59.995Z"
   },
   {
    "duration": 12,
    "start_time": "2025-07-02T07:01:11.258Z"
   },
   {
    "duration": 11,
    "start_time": "2025-07-02T07:01:28.625Z"
   },
   {
    "duration": 39,
    "start_time": "2025-07-02T07:10:36.119Z"
   },
   {
    "duration": 32,
    "start_time": "2025-07-02T07:11:15.427Z"
   },
   {
    "duration": 14,
    "start_time": "2025-07-02T07:11:21.802Z"
   },
   {
    "duration": 19,
    "start_time": "2025-07-02T07:11:23.757Z"
   },
   {
    "duration": 24,
    "start_time": "2025-07-02T07:12:31.477Z"
   },
   {
    "duration": 25,
    "start_time": "2025-07-02T07:15:16.864Z"
   },
   {
    "duration": 16,
    "start_time": "2025-07-02T07:15:49.298Z"
   },
   {
    "duration": 21,
    "start_time": "2025-07-02T07:16:03.996Z"
   },
   {
    "duration": 92,
    "start_time": "2025-07-02T07:16:13.787Z"
   },
   {
    "duration": 14,
    "start_time": "2025-07-02T07:16:24.295Z"
   },
   {
    "duration": 8,
    "start_time": "2025-07-02T07:16:47.703Z"
   },
   {
    "duration": 28,
    "start_time": "2025-07-02T07:16:55.342Z"
   },
   {
    "duration": 27,
    "start_time": "2025-07-02T07:18:03.300Z"
   },
   {
    "duration": 90,
    "start_time": "2025-07-02T07:18:38.810Z"
   },
   {
    "duration": 7,
    "start_time": "2025-07-02T07:18:42.712Z"
   },
   {
    "duration": 23,
    "start_time": "2025-07-02T07:18:46.255Z"
   },
   {
    "duration": 92,
    "start_time": "2025-07-02T07:19:21.648Z"
   },
   {
    "duration": 22,
    "start_time": "2025-07-02T07:19:47.495Z"
   },
   {
    "duration": 6,
    "start_time": "2025-07-02T07:19:59.571Z"
   },
   {
    "duration": 22,
    "start_time": "2025-07-02T07:20:28.016Z"
   },
   {
    "duration": 22,
    "start_time": "2025-07-02T07:20:49.066Z"
   },
   {
    "duration": 25,
    "start_time": "2025-07-02T07:21:06.182Z"
   },
   {
    "duration": 27,
    "start_time": "2025-07-02T07:21:10.251Z"
   },
   {
    "duration": 22,
    "start_time": "2025-07-02T07:21:21.251Z"
   },
   {
    "duration": 17,
    "start_time": "2025-07-02T07:21:33.903Z"
   },
   {
    "duration": 31,
    "start_time": "2025-07-02T07:21:37.627Z"
   },
   {
    "duration": 6,
    "start_time": "2025-07-02T07:21:50.322Z"
   },
   {
    "duration": 26,
    "start_time": "2025-07-02T07:21:53.212Z"
   },
   {
    "duration": 5,
    "start_time": "2025-07-02T07:22:03.945Z"
   },
   {
    "duration": 25,
    "start_time": "2025-07-02T07:22:07.445Z"
   },
   {
    "duration": 25,
    "start_time": "2025-07-02T07:22:20.302Z"
   },
   {
    "duration": 5,
    "start_time": "2025-07-02T07:22:31.546Z"
   },
   {
    "duration": 20,
    "start_time": "2025-07-02T07:22:34.344Z"
   },
   {
    "duration": 9,
    "start_time": "2025-07-02T07:22:45.869Z"
   },
   {
    "duration": 21,
    "start_time": "2025-07-02T07:22:48.782Z"
   },
   {
    "duration": 16,
    "start_time": "2025-07-02T07:23:59.686Z"
   },
   {
    "duration": 433,
    "start_time": "2025-07-02T11:19:13.066Z"
   },
   {
    "duration": 58,
    "start_time": "2025-07-02T11:19:13.502Z"
   },
   {
    "duration": 22,
    "start_time": "2025-07-02T11:19:13.562Z"
   },
   {
    "duration": 46,
    "start_time": "2025-07-02T11:19:13.586Z"
   },
   {
    "duration": 5,
    "start_time": "2025-07-02T11:19:13.635Z"
   },
   {
    "duration": 4,
    "start_time": "2025-07-02T11:19:13.642Z"
   },
   {
    "duration": 13,
    "start_time": "2025-07-02T11:19:13.648Z"
   },
   {
    "duration": 6,
    "start_time": "2025-07-02T11:19:13.662Z"
   },
   {
    "duration": 19,
    "start_time": "2025-07-02T11:19:13.670Z"
   },
   {
    "duration": 25,
    "start_time": "2025-07-02T11:19:13.691Z"
   },
   {
    "duration": 14,
    "start_time": "2025-07-02T11:19:13.718Z"
   },
   {
    "duration": 4,
    "start_time": "2025-07-02T11:19:13.734Z"
   },
   {
    "duration": 32,
    "start_time": "2025-07-02T11:19:13.740Z"
   },
   {
    "duration": 18,
    "start_time": "2025-07-02T11:19:13.775Z"
   },
   {
    "duration": 26,
    "start_time": "2025-07-02T11:19:13.795Z"
   },
   {
    "duration": 11,
    "start_time": "2025-07-02T11:19:13.822Z"
   },
   {
    "duration": 11,
    "start_time": "2025-07-02T11:19:13.861Z"
   },
   {
    "duration": 29,
    "start_time": "2025-07-02T11:19:13.873Z"
   },
   {
    "duration": 15,
    "start_time": "2025-07-02T11:19:13.904Z"
   },
   {
    "duration": 9,
    "start_time": "2025-07-02T11:19:13.921Z"
   },
   {
    "duration": 38,
    "start_time": "2025-07-02T11:19:13.932Z"
   },
   {
    "duration": 7,
    "start_time": "2025-07-02T11:19:13.972Z"
   },
   {
    "duration": 16,
    "start_time": "2025-07-02T11:19:13.981Z"
   },
   {
    "duration": 9,
    "start_time": "2025-07-02T11:19:13.998Z"
   },
   {
    "duration": 8,
    "start_time": "2025-07-02T11:19:14.008Z"
   },
   {
    "duration": 6,
    "start_time": "2025-07-02T11:19:14.017Z"
   },
   {
    "duration": 40,
    "start_time": "2025-07-02T11:19:14.025Z"
   },
   {
    "duration": 18,
    "start_time": "2025-07-02T11:19:14.066Z"
   },
   {
    "duration": 18,
    "start_time": "2025-07-02T11:19:14.086Z"
   },
   {
    "duration": 22,
    "start_time": "2025-07-02T11:19:14.106Z"
   },
   {
    "duration": 67,
    "start_time": "2025-07-02T11:19:14.130Z"
   },
   {
    "duration": 28,
    "start_time": "2025-07-02T11:19:14.199Z"
   },
   {
    "duration": 50,
    "start_time": "2025-07-02T11:19:14.228Z"
   },
   {
    "duration": 12,
    "start_time": "2025-07-02T11:19:14.280Z"
   },
   {
    "duration": 11,
    "start_time": "2025-07-02T11:19:14.294Z"
   },
   {
    "duration": 98,
    "start_time": "2025-07-02T11:19:14.307Z"
   },
   {
    "duration": 0,
    "start_time": "2025-07-02T11:19:14.408Z"
   },
   {
    "duration": 0,
    "start_time": "2025-07-02T11:19:14.409Z"
   },
   {
    "duration": 0,
    "start_time": "2025-07-02T11:19:14.411Z"
   },
   {
    "duration": 48,
    "start_time": "2025-07-02T11:21:22.334Z"
   },
   {
    "duration": 26,
    "start_time": "2025-07-02T11:21:37.991Z"
   },
   {
    "duration": 15,
    "start_time": "2025-07-02T11:22:01.302Z"
   },
   {
    "duration": 20,
    "start_time": "2025-07-02T11:22:09.037Z"
   },
   {
    "duration": 14,
    "start_time": "2025-07-02T11:22:34.569Z"
   },
   {
    "duration": 28,
    "start_time": "2025-07-02T11:23:06.328Z"
   },
   {
    "duration": 9,
    "start_time": "2025-07-02T11:26:03.624Z"
   },
   {
    "duration": 28,
    "start_time": "2025-07-02T11:26:58.290Z"
   },
   {
    "duration": 13,
    "start_time": "2025-07-02T11:27:30.621Z"
   },
   {
    "duration": 12,
    "start_time": "2025-07-02T11:27:42.749Z"
   },
   {
    "duration": 12,
    "start_time": "2025-07-02T11:27:50.502Z"
   },
   {
    "duration": 27,
    "start_time": "2025-07-02T11:27:58.468Z"
   },
   {
    "duration": 434,
    "start_time": "2025-07-02T11:28:14.471Z"
   },
   {
    "duration": 48,
    "start_time": "2025-07-02T11:28:14.907Z"
   },
   {
    "duration": 22,
    "start_time": "2025-07-02T11:28:14.956Z"
   },
   {
    "duration": 25,
    "start_time": "2025-07-02T11:28:14.980Z"
   },
   {
    "duration": 4,
    "start_time": "2025-07-02T11:28:15.007Z"
   },
   {
    "duration": 31,
    "start_time": "2025-07-02T11:28:15.012Z"
   },
   {
    "duration": 25,
    "start_time": "2025-07-02T11:28:15.045Z"
   },
   {
    "duration": 20,
    "start_time": "2025-07-02T11:28:15.072Z"
   },
   {
    "duration": 9,
    "start_time": "2025-07-02T11:28:15.094Z"
   },
   {
    "duration": 72,
    "start_time": "2025-07-02T11:28:15.105Z"
   },
   {
    "duration": 122,
    "start_time": "2025-07-02T11:28:15.178Z"
   },
   {
    "duration": 5,
    "start_time": "2025-07-02T11:28:15.302Z"
   },
   {
    "duration": 19,
    "start_time": "2025-07-02T11:28:15.309Z"
   },
   {
    "duration": 13,
    "start_time": "2025-07-02T11:28:15.332Z"
   },
   {
    "duration": 31,
    "start_time": "2025-07-02T11:28:15.347Z"
   },
   {
    "duration": 15,
    "start_time": "2025-07-02T11:28:15.380Z"
   },
   {
    "duration": 13,
    "start_time": "2025-07-02T11:28:15.397Z"
   },
   {
    "duration": 25,
    "start_time": "2025-07-02T11:28:15.412Z"
   },
   {
    "duration": 37,
    "start_time": "2025-07-02T11:28:15.439Z"
   },
   {
    "duration": 11,
    "start_time": "2025-07-02T11:28:15.478Z"
   },
   {
    "duration": 12,
    "start_time": "2025-07-02T11:28:15.491Z"
   },
   {
    "duration": 8,
    "start_time": "2025-07-02T11:28:15.505Z"
   },
   {
    "duration": 53,
    "start_time": "2025-07-02T11:28:15.515Z"
   },
   {
    "duration": 7,
    "start_time": "2025-07-02T11:28:15.570Z"
   },
   {
    "duration": 32,
    "start_time": "2025-07-02T11:28:15.578Z"
   },
   {
    "duration": 60,
    "start_time": "2025-07-02T11:28:15.612Z"
   },
   {
    "duration": 8,
    "start_time": "2025-07-02T11:28:15.674Z"
   },
   {
    "duration": 18,
    "start_time": "2025-07-02T11:28:15.683Z"
   },
   {
    "duration": 18,
    "start_time": "2025-07-02T11:28:15.703Z"
   },
   {
    "duration": 47,
    "start_time": "2025-07-02T11:28:15.722Z"
   },
   {
    "duration": 50,
    "start_time": "2025-07-02T11:28:15.772Z"
   },
   {
    "duration": 48,
    "start_time": "2025-07-02T11:28:15.823Z"
   },
   {
    "duration": 28,
    "start_time": "2025-07-02T11:28:15.873Z"
   },
   {
    "duration": 11,
    "start_time": "2025-07-02T11:28:15.902Z"
   },
   {
    "duration": 11,
    "start_time": "2025-07-02T11:28:15.914Z"
   },
   {
    "duration": 104,
    "start_time": "2025-07-02T11:28:15.926Z"
   },
   {
    "duration": 0,
    "start_time": "2025-07-02T11:28:16.031Z"
   },
   {
    "duration": 0,
    "start_time": "2025-07-02T11:28:16.032Z"
   },
   {
    "duration": 0,
    "start_time": "2025-07-02T11:28:16.033Z"
   },
   {
    "duration": 34,
    "start_time": "2025-07-02T11:28:42.150Z"
   },
   {
    "duration": 35,
    "start_time": "2025-07-02T11:29:31.145Z"
   },
   {
    "duration": 17,
    "start_time": "2025-07-02T11:29:54.541Z"
   },
   {
    "duration": 25,
    "start_time": "2025-07-02T11:30:07.177Z"
   },
   {
    "duration": 297,
    "start_time": "2025-07-02T11:34:44.254Z"
   },
   {
    "duration": 15,
    "start_time": "2025-07-02T11:35:12.867Z"
   },
   {
    "duration": 3129,
    "start_time": "2025-07-02T11:37:03.669Z"
   },
   {
    "duration": 16,
    "start_time": "2025-07-02T11:37:11.652Z"
   },
   {
    "duration": 16,
    "start_time": "2025-07-02T11:37:45.478Z"
   },
   {
    "duration": 9,
    "start_time": "2025-07-02T11:39:13.530Z"
   },
   {
    "duration": 26,
    "start_time": "2025-07-02T11:40:35.061Z"
   },
   {
    "duration": 10,
    "start_time": "2025-07-02T11:41:04.336Z"
   },
   {
    "duration": 23,
    "start_time": "2025-07-02T11:42:03.538Z"
   },
   {
    "duration": 18,
    "start_time": "2025-07-02T11:42:05.982Z"
   },
   {
    "duration": 86,
    "start_time": "2025-07-02T11:42:43.205Z"
   },
   {
    "duration": 13,
    "start_time": "2025-07-02T11:42:46.956Z"
   },
   {
    "duration": 18,
    "start_time": "2025-07-02T11:42:59.121Z"
   },
   {
    "duration": 22,
    "start_time": "2025-07-02T11:45:19.308Z"
   },
   {
    "duration": 13,
    "start_time": "2025-07-02T11:50:00.521Z"
   },
   {
    "duration": 13,
    "start_time": "2025-07-02T11:50:08.686Z"
   },
   {
    "duration": 37,
    "start_time": "2025-07-02T11:50:15.176Z"
   },
   {
    "duration": 61,
    "start_time": "2025-07-02T11:55:36.794Z"
   },
   {
    "duration": 30,
    "start_time": "2025-07-02T11:56:09.492Z"
   },
   {
    "duration": 8,
    "start_time": "2025-07-02T11:58:55.849Z"
   },
   {
    "duration": 13,
    "start_time": "2025-07-02T11:59:14.040Z"
   },
   {
    "duration": 6,
    "start_time": "2025-07-02T12:00:24.346Z"
   },
   {
    "duration": 26,
    "start_time": "2025-07-02T12:00:41.513Z"
   },
   {
    "duration": 32,
    "start_time": "2025-07-02T12:01:25.392Z"
   },
   {
    "duration": 20,
    "start_time": "2025-07-02T12:02:07.729Z"
   },
   {
    "duration": 32,
    "start_time": "2025-07-02T12:03:06.861Z"
   },
   {
    "duration": 31,
    "start_time": "2025-07-02T12:03:51.483Z"
   },
   {
    "duration": 33,
    "start_time": "2025-07-02T12:04:15.842Z"
   },
   {
    "duration": 29,
    "start_time": "2025-07-02T12:04:43.789Z"
   },
   {
    "duration": 24,
    "start_time": "2025-07-02T12:05:13.044Z"
   },
   {
    "duration": 33,
    "start_time": "2025-07-02T12:06:10.830Z"
   },
   {
    "duration": 23,
    "start_time": "2025-07-02T12:08:53.066Z"
   },
   {
    "duration": 13,
    "start_time": "2025-07-02T12:09:15.929Z"
   },
   {
    "duration": 33,
    "start_time": "2025-07-02T12:09:42.229Z"
   },
   {
    "duration": 36,
    "start_time": "2025-07-02T12:10:10.487Z"
   },
   {
    "duration": 24,
    "start_time": "2025-07-02T12:11:54.899Z"
   },
   {
    "duration": 28,
    "start_time": "2025-07-02T12:12:05.098Z"
   },
   {
    "duration": 39,
    "start_time": "2025-07-02T12:12:08.574Z"
   },
   {
    "duration": 22,
    "start_time": "2025-07-02T12:16:59.115Z"
   },
   {
    "duration": 21,
    "start_time": "2025-07-02T12:17:54.981Z"
   },
   {
    "duration": 21,
    "start_time": "2025-07-02T12:18:25.612Z"
   },
   {
    "duration": 22,
    "start_time": "2025-07-02T12:19:20.848Z"
   },
   {
    "duration": 23,
    "start_time": "2025-07-02T12:19:35.260Z"
   },
   {
    "duration": 22,
    "start_time": "2025-07-02T12:20:22.798Z"
   },
   {
    "duration": 21,
    "start_time": "2025-07-02T12:21:27.141Z"
   },
   {
    "duration": 21,
    "start_time": "2025-07-02T12:21:29.877Z"
   },
   {
    "duration": 8,
    "start_time": "2025-07-02T12:23:49.680Z"
   },
   {
    "duration": 1362,
    "start_time": "2025-07-02T12:24:35.380Z"
   },
   {
    "duration": 1316,
    "start_time": "2025-07-02T12:25:05.770Z"
   },
   {
    "duration": 1411,
    "start_time": "2025-07-02T12:25:07.219Z"
   },
   {
    "duration": 1328,
    "start_time": "2025-07-02T12:25:10.297Z"
   },
   {
    "duration": 21,
    "start_time": "2025-07-02T12:26:54.851Z"
   },
   {
    "duration": 22,
    "start_time": "2025-07-02T12:27:05.512Z"
   },
   {
    "duration": 1253,
    "start_time": "2025-07-02T12:27:09.389Z"
   },
   {
    "duration": 24,
    "start_time": "2025-07-02T12:27:20.885Z"
   },
   {
    "duration": 23,
    "start_time": "2025-07-02T12:27:56.220Z"
   },
   {
    "duration": 24,
    "start_time": "2025-07-02T12:29:47.553Z"
   },
   {
    "duration": 6,
    "start_time": "2025-07-02T12:30:07.033Z"
   },
   {
    "duration": 21,
    "start_time": "2025-07-02T12:30:55.233Z"
   },
   {
    "duration": 7,
    "start_time": "2025-07-02T12:30:57.650Z"
   },
   {
    "duration": 99,
    "start_time": "2025-07-02T12:32:09.613Z"
   },
   {
    "duration": 12,
    "start_time": "2025-07-02T12:32:15.691Z"
   },
   {
    "duration": 18,
    "start_time": "2025-07-02T12:32:22.757Z"
   },
   {
    "duration": 8,
    "start_time": "2025-07-02T12:33:41.281Z"
   },
   {
    "duration": 9,
    "start_time": "2025-07-02T12:33:46.500Z"
   },
   {
    "duration": 8,
    "start_time": "2025-07-02T12:35:33.592Z"
   },
   {
    "duration": 7,
    "start_time": "2025-07-02T12:36:18.504Z"
   },
   {
    "duration": 8,
    "start_time": "2025-07-02T12:36:47.651Z"
   },
   {
    "duration": 7,
    "start_time": "2025-07-02T12:37:45.200Z"
   },
   {
    "duration": 10,
    "start_time": "2025-07-02T12:38:03.688Z"
   },
   {
    "duration": 17,
    "start_time": "2025-07-02T12:43:36.886Z"
   },
   {
    "duration": 7,
    "start_time": "2025-07-02T12:44:04.652Z"
   },
   {
    "duration": 13,
    "start_time": "2025-07-02T12:48:30.633Z"
   },
   {
    "duration": 10,
    "start_time": "2025-07-02T12:56:57.799Z"
   },
   {
    "duration": 10,
    "start_time": "2025-07-02T12:57:00.582Z"
   },
   {
    "duration": 10,
    "start_time": "2025-07-02T12:57:02.231Z"
   },
   {
    "duration": 6,
    "start_time": "2025-07-02T12:57:04.354Z"
   },
   {
    "duration": 83,
    "start_time": "2025-07-02T12:57:06.817Z"
   },
   {
    "duration": 3,
    "start_time": "2025-07-02T12:57:16.490Z"
   },
   {
    "duration": 3,
    "start_time": "2025-07-02T12:58:15.984Z"
   },
   {
    "duration": 4,
    "start_time": "2025-07-02T12:58:47.231Z"
   },
   {
    "duration": 4,
    "start_time": "2025-07-02T13:01:15.638Z"
   },
   {
    "duration": 5,
    "start_time": "2025-07-02T13:03:05.905Z"
   },
   {
    "duration": 4,
    "start_time": "2025-07-02T13:03:37.971Z"
   },
   {
    "duration": 3,
    "start_time": "2025-07-02T13:04:06.080Z"
   },
   {
    "duration": 10,
    "start_time": "2025-07-02T13:04:58.254Z"
   },
   {
    "duration": 13,
    "start_time": "2025-07-02T13:05:18.954Z"
   },
   {
    "duration": 4,
    "start_time": "2025-07-02T13:05:30.726Z"
   },
   {
    "duration": 23,
    "start_time": "2025-07-02T13:08:37.048Z"
   },
   {
    "duration": 10,
    "start_time": "2025-07-02T13:08:44.128Z"
   },
   {
    "duration": 10,
    "start_time": "2025-07-02T13:08:45.957Z"
   },
   {
    "duration": 9,
    "start_time": "2025-07-02T13:08:47.538Z"
   },
   {
    "duration": 6,
    "start_time": "2025-07-02T13:08:49.401Z"
   },
   {
    "duration": 5,
    "start_time": "2025-07-02T13:08:51.433Z"
   },
   {
    "duration": 395,
    "start_time": "2025-07-02T13:09:03.402Z"
   },
   {
    "duration": 58,
    "start_time": "2025-07-02T13:09:03.799Z"
   },
   {
    "duration": 21,
    "start_time": "2025-07-02T13:09:03.858Z"
   },
   {
    "duration": 61,
    "start_time": "2025-07-02T13:09:03.881Z"
   },
   {
    "duration": 4,
    "start_time": "2025-07-02T13:09:03.944Z"
   },
   {
    "duration": 4,
    "start_time": "2025-07-02T13:09:03.949Z"
   },
   {
    "duration": 4,
    "start_time": "2025-07-02T13:09:03.955Z"
   },
   {
    "duration": 9,
    "start_time": "2025-07-02T13:09:03.961Z"
   },
   {
    "duration": 4,
    "start_time": "2025-07-02T13:09:03.972Z"
   },
   {
    "duration": 20,
    "start_time": "2025-07-02T13:09:03.978Z"
   },
   {
    "duration": 15,
    "start_time": "2025-07-02T13:09:04.000Z"
   },
   {
    "duration": 4,
    "start_time": "2025-07-02T13:09:04.017Z"
   },
   {
    "duration": 45,
    "start_time": "2025-07-02T13:09:04.023Z"
   },
   {
    "duration": 12,
    "start_time": "2025-07-02T13:09:04.071Z"
   },
   {
    "duration": 23,
    "start_time": "2025-07-02T13:09:04.085Z"
   },
   {
    "duration": 50,
    "start_time": "2025-07-02T13:09:04.110Z"
   },
   {
    "duration": 22,
    "start_time": "2025-07-02T13:09:04.162Z"
   },
   {
    "duration": 10,
    "start_time": "2025-07-02T13:09:04.186Z"
   },
   {
    "duration": 27,
    "start_time": "2025-07-02T13:09:04.198Z"
   },
   {
    "duration": 13,
    "start_time": "2025-07-02T13:09:04.227Z"
   },
   {
    "duration": 22,
    "start_time": "2025-07-02T13:09:04.242Z"
   },
   {
    "duration": 5,
    "start_time": "2025-07-02T13:09:04.265Z"
   },
   {
    "duration": 64,
    "start_time": "2025-07-02T13:09:04.271Z"
   },
   {
    "duration": 0,
    "start_time": "2025-07-02T13:09:04.337Z"
   },
   {
    "duration": 0,
    "start_time": "2025-07-02T13:09:04.338Z"
   },
   {
    "duration": 0,
    "start_time": "2025-07-02T13:09:04.339Z"
   },
   {
    "duration": 0,
    "start_time": "2025-07-02T13:09:04.340Z"
   },
   {
    "duration": 0,
    "start_time": "2025-07-02T13:09:04.341Z"
   },
   {
    "duration": 0,
    "start_time": "2025-07-02T13:09:04.343Z"
   },
   {
    "duration": 0,
    "start_time": "2025-07-02T13:09:04.360Z"
   },
   {
    "duration": 0,
    "start_time": "2025-07-02T13:09:04.362Z"
   },
   {
    "duration": 0,
    "start_time": "2025-07-02T13:09:04.362Z"
   },
   {
    "duration": 0,
    "start_time": "2025-07-02T13:09:04.364Z"
   },
   {
    "duration": 0,
    "start_time": "2025-07-02T13:09:04.365Z"
   },
   {
    "duration": 0,
    "start_time": "2025-07-02T13:09:04.366Z"
   },
   {
    "duration": 0,
    "start_time": "2025-07-02T13:09:04.367Z"
   },
   {
    "duration": 0,
    "start_time": "2025-07-02T13:09:04.369Z"
   },
   {
    "duration": 0,
    "start_time": "2025-07-02T13:09:04.370Z"
   },
   {
    "duration": 0,
    "start_time": "2025-07-02T13:09:04.371Z"
   },
   {
    "duration": 0,
    "start_time": "2025-07-02T13:09:04.372Z"
   },
   {
    "duration": 0,
    "start_time": "2025-07-02T13:09:04.374Z"
   },
   {
    "duration": 0,
    "start_time": "2025-07-02T13:09:04.374Z"
   },
   {
    "duration": 0,
    "start_time": "2025-07-02T13:09:04.375Z"
   },
   {
    "duration": 152,
    "start_time": "2025-07-02T13:30:04.691Z"
   },
   {
    "duration": 94,
    "start_time": "2025-07-02T13:33:41.123Z"
   },
   {
    "duration": 125,
    "start_time": "2025-07-02T13:33:46.121Z"
   },
   {
    "duration": 133,
    "start_time": "2025-07-02T13:33:50.199Z"
   },
   {
    "duration": 16,
    "start_time": "2025-07-02T13:38:22.609Z"
   },
   {
    "duration": 79,
    "start_time": "2025-07-02T13:49:22.415Z"
   },
   {
    "duration": 92,
    "start_time": "2025-07-02T13:51:09.877Z"
   },
   {
    "duration": 102,
    "start_time": "2025-07-02T13:52:33.914Z"
   },
   {
    "duration": 433,
    "start_time": "2025-07-02T13:53:15.161Z"
   },
   {
    "duration": 46,
    "start_time": "2025-07-02T13:53:15.596Z"
   },
   {
    "duration": 26,
    "start_time": "2025-07-02T13:53:15.644Z"
   },
   {
    "duration": 21,
    "start_time": "2025-07-02T13:53:15.672Z"
   },
   {
    "duration": 8,
    "start_time": "2025-07-02T13:53:15.697Z"
   },
   {
    "duration": 29,
    "start_time": "2025-07-02T13:53:15.707Z"
   },
   {
    "duration": 12,
    "start_time": "2025-07-02T13:53:15.739Z"
   },
   {
    "duration": 9,
    "start_time": "2025-07-02T13:53:15.753Z"
   },
   {
    "duration": 7,
    "start_time": "2025-07-02T13:53:15.764Z"
   },
   {
    "duration": 32,
    "start_time": "2025-07-02T13:53:15.774Z"
   },
   {
    "duration": 65,
    "start_time": "2025-07-02T13:53:15.809Z"
   },
   {
    "duration": 5,
    "start_time": "2025-07-02T13:53:15.876Z"
   },
   {
    "duration": 14,
    "start_time": "2025-07-02T13:53:15.883Z"
   },
   {
    "duration": 13,
    "start_time": "2025-07-02T13:53:15.901Z"
   },
   {
    "duration": 47,
    "start_time": "2025-07-02T13:53:15.916Z"
   },
   {
    "duration": 20,
    "start_time": "2025-07-02T13:53:15.965Z"
   },
   {
    "duration": 46,
    "start_time": "2025-07-02T13:53:15.987Z"
   },
   {
    "duration": 11,
    "start_time": "2025-07-02T13:53:16.034Z"
   },
   {
    "duration": 17,
    "start_time": "2025-07-02T13:53:16.047Z"
   },
   {
    "duration": 9,
    "start_time": "2025-07-02T13:53:16.066Z"
   },
   {
    "duration": 6,
    "start_time": "2025-07-02T13:53:16.076Z"
   },
   {
    "duration": 6,
    "start_time": "2025-07-02T13:53:16.083Z"
   },
   {
    "duration": 74,
    "start_time": "2025-07-02T13:53:16.091Z"
   },
   {
    "duration": 0,
    "start_time": "2025-07-02T13:53:16.167Z"
   },
   {
    "duration": 0,
    "start_time": "2025-07-02T13:53:16.169Z"
   },
   {
    "duration": 0,
    "start_time": "2025-07-02T13:53:16.170Z"
   },
   {
    "duration": 0,
    "start_time": "2025-07-02T13:53:16.171Z"
   },
   {
    "duration": 0,
    "start_time": "2025-07-02T13:53:16.172Z"
   },
   {
    "duration": 0,
    "start_time": "2025-07-02T13:53:16.173Z"
   },
   {
    "duration": 1,
    "start_time": "2025-07-02T13:53:16.173Z"
   },
   {
    "duration": 0,
    "start_time": "2025-07-02T13:53:16.175Z"
   },
   {
    "duration": 0,
    "start_time": "2025-07-02T13:53:16.176Z"
   },
   {
    "duration": 0,
    "start_time": "2025-07-02T13:53:16.177Z"
   },
   {
    "duration": 0,
    "start_time": "2025-07-02T13:53:16.178Z"
   },
   {
    "duration": 0,
    "start_time": "2025-07-02T13:53:16.178Z"
   },
   {
    "duration": 0,
    "start_time": "2025-07-02T13:53:16.179Z"
   },
   {
    "duration": 0,
    "start_time": "2025-07-02T13:53:16.180Z"
   },
   {
    "duration": 0,
    "start_time": "2025-07-02T13:53:16.181Z"
   },
   {
    "duration": 0,
    "start_time": "2025-07-02T13:53:16.182Z"
   },
   {
    "duration": 0,
    "start_time": "2025-07-02T13:53:16.183Z"
   },
   {
    "duration": 0,
    "start_time": "2025-07-02T13:53:16.184Z"
   },
   {
    "duration": 0,
    "start_time": "2025-07-02T13:53:16.185Z"
   },
   {
    "duration": 0,
    "start_time": "2025-07-02T13:53:16.186Z"
   },
   {
    "duration": 81,
    "start_time": "2025-07-02T13:53:51.471Z"
   },
   {
    "duration": 15,
    "start_time": "2025-07-02T13:54:47.396Z"
   },
   {
    "duration": 16,
    "start_time": "2025-07-02T13:55:54.133Z"
   },
   {
    "duration": 192,
    "start_time": "2025-07-02T13:56:27.903Z"
   },
   {
    "duration": 201,
    "start_time": "2025-07-02T13:56:37.103Z"
   },
   {
    "duration": 74,
    "start_time": "2025-07-02T13:57:40.509Z"
   },
   {
    "duration": 193,
    "start_time": "2025-07-02T13:58:00.512Z"
   },
   {
    "duration": 182,
    "start_time": "2025-07-02T13:58:10.502Z"
   },
   {
    "duration": 14,
    "start_time": "2025-07-02T13:58:26.169Z"
   },
   {
    "duration": 21,
    "start_time": "2025-07-02T13:58:45.550Z"
   },
   {
    "duration": 20,
    "start_time": "2025-07-02T13:59:03.982Z"
   },
   {
    "duration": 436,
    "start_time": "2025-07-02T13:59:12.951Z"
   },
   {
    "duration": 60,
    "start_time": "2025-07-02T13:59:13.389Z"
   },
   {
    "duration": 135,
    "start_time": "2025-07-02T13:59:13.451Z"
   },
   {
    "duration": 17,
    "start_time": "2025-07-02T13:59:13.588Z"
   },
   {
    "duration": 4,
    "start_time": "2025-07-02T13:59:13.608Z"
   },
   {
    "duration": 13,
    "start_time": "2025-07-02T13:59:13.614Z"
   },
   {
    "duration": 6,
    "start_time": "2025-07-02T13:59:13.628Z"
   },
   {
    "duration": 4,
    "start_time": "2025-07-02T13:59:13.636Z"
   },
   {
    "duration": 22,
    "start_time": "2025-07-02T13:59:13.642Z"
   },
   {
    "duration": 22,
    "start_time": "2025-07-02T13:59:13.666Z"
   },
   {
    "duration": 14,
    "start_time": "2025-07-02T13:59:13.690Z"
   },
   {
    "duration": 12,
    "start_time": "2025-07-02T13:59:13.706Z"
   },
   {
    "duration": 42,
    "start_time": "2025-07-02T13:59:13.720Z"
   },
   {
    "duration": 12,
    "start_time": "2025-07-02T13:59:13.766Z"
   },
   {
    "duration": 32,
    "start_time": "2025-07-02T13:59:13.780Z"
   },
   {
    "duration": 92,
    "start_time": "2025-07-02T13:59:13.814Z"
   },
   {
    "duration": 22,
    "start_time": "2025-07-02T13:59:13.909Z"
   },
   {
    "duration": 11,
    "start_time": "2025-07-02T13:59:13.933Z"
   },
   {
    "duration": 11,
    "start_time": "2025-07-02T13:59:13.945Z"
   },
   {
    "duration": 94,
    "start_time": "2025-07-02T13:59:13.958Z"
   },
   {
    "duration": 41,
    "start_time": "2025-07-02T13:59:14.054Z"
   },
   {
    "duration": 6,
    "start_time": "2025-07-02T13:59:14.096Z"
   },
   {
    "duration": 74,
    "start_time": "2025-07-02T13:59:14.104Z"
   },
   {
    "duration": 0,
    "start_time": "2025-07-02T13:59:14.180Z"
   },
   {
    "duration": 0,
    "start_time": "2025-07-02T13:59:14.182Z"
   },
   {
    "duration": 0,
    "start_time": "2025-07-02T13:59:14.183Z"
   },
   {
    "duration": 0,
    "start_time": "2025-07-02T13:59:14.185Z"
   },
   {
    "duration": 0,
    "start_time": "2025-07-02T13:59:14.186Z"
   },
   {
    "duration": 0,
    "start_time": "2025-07-02T13:59:14.188Z"
   },
   {
    "duration": 0,
    "start_time": "2025-07-02T13:59:14.189Z"
   },
   {
    "duration": 0,
    "start_time": "2025-07-02T13:59:14.191Z"
   },
   {
    "duration": 0,
    "start_time": "2025-07-02T13:59:14.193Z"
   },
   {
    "duration": 0,
    "start_time": "2025-07-02T13:59:14.195Z"
   },
   {
    "duration": 0,
    "start_time": "2025-07-02T13:59:14.197Z"
   },
   {
    "duration": 0,
    "start_time": "2025-07-02T13:59:14.198Z"
   },
   {
    "duration": 0,
    "start_time": "2025-07-02T13:59:14.200Z"
   },
   {
    "duration": 0,
    "start_time": "2025-07-02T13:59:14.202Z"
   },
   {
    "duration": 0,
    "start_time": "2025-07-02T13:59:14.203Z"
   },
   {
    "duration": 0,
    "start_time": "2025-07-02T13:59:14.205Z"
   },
   {
    "duration": 0,
    "start_time": "2025-07-02T13:59:14.207Z"
   },
   {
    "duration": 0,
    "start_time": "2025-07-02T13:59:14.208Z"
   },
   {
    "duration": 0,
    "start_time": "2025-07-02T13:59:14.209Z"
   },
   {
    "duration": 0,
    "start_time": "2025-07-02T13:59:14.211Z"
   },
   {
    "duration": 0,
    "start_time": "2025-07-02T13:59:14.212Z"
   },
   {
    "duration": 0,
    "start_time": "2025-07-02T13:59:14.214Z"
   },
   {
    "duration": 0,
    "start_time": "2025-07-02T13:59:14.215Z"
   },
   {
    "duration": 0,
    "start_time": "2025-07-02T13:59:14.260Z"
   },
   {
    "duration": 15,
    "start_time": "2025-07-02T13:59:32.439Z"
   },
   {
    "duration": 205,
    "start_time": "2025-07-02T13:59:38.137Z"
   },
   {
    "duration": 426,
    "start_time": "2025-07-02T14:00:37.183Z"
   },
   {
    "duration": 48,
    "start_time": "2025-07-02T14:00:37.612Z"
   },
   {
    "duration": 21,
    "start_time": "2025-07-02T14:00:37.662Z"
   },
   {
    "duration": 22,
    "start_time": "2025-07-02T14:00:37.685Z"
   },
   {
    "duration": 4,
    "start_time": "2025-07-02T14:00:37.709Z"
   },
   {
    "duration": 11,
    "start_time": "2025-07-02T14:00:37.714Z"
   },
   {
    "duration": 9,
    "start_time": "2025-07-02T14:00:37.727Z"
   },
   {
    "duration": 26,
    "start_time": "2025-07-02T14:00:37.738Z"
   },
   {
    "duration": 5,
    "start_time": "2025-07-02T14:00:37.766Z"
   },
   {
    "duration": 22,
    "start_time": "2025-07-02T14:00:37.772Z"
   },
   {
    "duration": 58,
    "start_time": "2025-07-02T14:00:37.796Z"
   },
   {
    "duration": 9,
    "start_time": "2025-07-02T14:00:37.856Z"
   },
   {
    "duration": 16,
    "start_time": "2025-07-02T14:00:37.866Z"
   },
   {
    "duration": 11,
    "start_time": "2025-07-02T14:00:37.885Z"
   },
   {
    "duration": 22,
    "start_time": "2025-07-02T14:00:37.897Z"
   },
   {
    "duration": 42,
    "start_time": "2025-07-02T14:00:37.921Z"
   },
   {
    "duration": 21,
    "start_time": "2025-07-02T14:00:37.964Z"
   },
   {
    "duration": 42,
    "start_time": "2025-07-02T14:00:37.986Z"
   },
   {
    "duration": 9,
    "start_time": "2025-07-02T14:00:38.030Z"
   },
   {
    "duration": 12,
    "start_time": "2025-07-02T14:00:38.041Z"
   },
   {
    "duration": 8,
    "start_time": "2025-07-02T14:00:38.054Z"
   },
   {
    "duration": 5,
    "start_time": "2025-07-02T14:00:38.063Z"
   },
   {
    "duration": 184,
    "start_time": "2025-07-02T14:00:38.069Z"
   },
   {
    "duration": 0,
    "start_time": "2025-07-02T14:00:38.255Z"
   },
   {
    "duration": 0,
    "start_time": "2025-07-02T14:00:38.256Z"
   },
   {
    "duration": 0,
    "start_time": "2025-07-02T14:00:38.258Z"
   },
   {
    "duration": 0,
    "start_time": "2025-07-02T14:00:38.259Z"
   },
   {
    "duration": 0,
    "start_time": "2025-07-02T14:00:38.261Z"
   },
   {
    "duration": 0,
    "start_time": "2025-07-02T14:00:38.263Z"
   },
   {
    "duration": 0,
    "start_time": "2025-07-02T14:00:38.264Z"
   },
   {
    "duration": 0,
    "start_time": "2025-07-02T14:00:38.266Z"
   },
   {
    "duration": 0,
    "start_time": "2025-07-02T14:00:38.268Z"
   },
   {
    "duration": 0,
    "start_time": "2025-07-02T14:00:38.269Z"
   },
   {
    "duration": 0,
    "start_time": "2025-07-02T14:00:38.271Z"
   },
   {
    "duration": 0,
    "start_time": "2025-07-02T14:00:38.272Z"
   },
   {
    "duration": 0,
    "start_time": "2025-07-02T14:00:38.274Z"
   },
   {
    "duration": 0,
    "start_time": "2025-07-02T14:00:38.275Z"
   },
   {
    "duration": 0,
    "start_time": "2025-07-02T14:00:38.277Z"
   },
   {
    "duration": 0,
    "start_time": "2025-07-02T14:00:38.278Z"
   },
   {
    "duration": 0,
    "start_time": "2025-07-02T14:00:38.280Z"
   },
   {
    "duration": 0,
    "start_time": "2025-07-02T14:00:38.281Z"
   },
   {
    "duration": 0,
    "start_time": "2025-07-02T14:00:38.282Z"
   },
   {
    "duration": 0,
    "start_time": "2025-07-02T14:00:38.283Z"
   },
   {
    "duration": 0,
    "start_time": "2025-07-02T14:00:38.284Z"
   },
   {
    "duration": 0,
    "start_time": "2025-07-02T14:00:38.285Z"
   },
   {
    "duration": 0,
    "start_time": "2025-07-02T14:00:38.286Z"
   },
   {
    "duration": 0,
    "start_time": "2025-07-02T14:00:38.287Z"
   },
   {
    "duration": 15,
    "start_time": "2025-07-02T14:00:57.793Z"
   },
   {
    "duration": 186,
    "start_time": "2025-07-02T14:01:00.676Z"
   },
   {
    "duration": 24,
    "start_time": "2025-07-02T14:01:02.880Z"
   },
   {
    "duration": 411,
    "start_time": "2025-07-02T14:04:22.090Z"
   },
   {
    "duration": 48,
    "start_time": "2025-07-02T14:04:22.503Z"
   },
   {
    "duration": 23,
    "start_time": "2025-07-02T14:04:22.552Z"
   },
   {
    "duration": 19,
    "start_time": "2025-07-02T14:04:22.577Z"
   },
   {
    "duration": 4,
    "start_time": "2025-07-02T14:04:22.598Z"
   },
   {
    "duration": 5,
    "start_time": "2025-07-02T14:04:22.604Z"
   },
   {
    "duration": 6,
    "start_time": "2025-07-02T14:04:22.611Z"
   },
   {
    "duration": 6,
    "start_time": "2025-07-02T14:04:22.619Z"
   },
   {
    "duration": 6,
    "start_time": "2025-07-02T14:04:22.660Z"
   },
   {
    "duration": 40,
    "start_time": "2025-07-02T14:04:22.669Z"
   },
   {
    "duration": 16,
    "start_time": "2025-07-02T14:04:22.711Z"
   },
   {
    "duration": 7,
    "start_time": "2025-07-02T14:04:22.729Z"
   },
   {
    "duration": 24,
    "start_time": "2025-07-02T14:04:22.737Z"
   },
   {
    "duration": 70,
    "start_time": "2025-07-02T14:04:22.763Z"
   },
   {
    "duration": 23,
    "start_time": "2025-07-02T14:04:22.834Z"
   },
   {
    "duration": 22,
    "start_time": "2025-07-02T14:04:22.859Z"
   },
   {
    "duration": 21,
    "start_time": "2025-07-02T14:04:22.883Z"
   },
   {
    "duration": 9,
    "start_time": "2025-07-02T14:04:22.905Z"
   },
   {
    "duration": 44,
    "start_time": "2025-07-02T14:04:22.916Z"
   },
   {
    "duration": 10,
    "start_time": "2025-07-02T14:04:22.962Z"
   },
   {
    "duration": 6,
    "start_time": "2025-07-02T14:04:22.974Z"
   },
   {
    "duration": 37,
    "start_time": "2025-07-02T14:04:22.981Z"
   },
   {
    "duration": 159,
    "start_time": "2025-07-02T14:04:23.019Z"
   },
   {
    "duration": 0,
    "start_time": "2025-07-02T14:04:23.180Z"
   },
   {
    "duration": 0,
    "start_time": "2025-07-02T14:04:23.181Z"
   },
   {
    "duration": 0,
    "start_time": "2025-07-02T14:04:23.183Z"
   },
   {
    "duration": 0,
    "start_time": "2025-07-02T14:04:23.184Z"
   },
   {
    "duration": 0,
    "start_time": "2025-07-02T14:04:23.185Z"
   },
   {
    "duration": 0,
    "start_time": "2025-07-02T14:04:23.186Z"
   },
   {
    "duration": 0,
    "start_time": "2025-07-02T14:04:23.187Z"
   },
   {
    "duration": 0,
    "start_time": "2025-07-02T14:04:23.189Z"
   },
   {
    "duration": 0,
    "start_time": "2025-07-02T14:04:23.190Z"
   },
   {
    "duration": 0,
    "start_time": "2025-07-02T14:04:23.191Z"
   },
   {
    "duration": 0,
    "start_time": "2025-07-02T14:04:23.192Z"
   },
   {
    "duration": 0,
    "start_time": "2025-07-02T14:04:23.193Z"
   },
   {
    "duration": 0,
    "start_time": "2025-07-02T14:04:23.194Z"
   },
   {
    "duration": 0,
    "start_time": "2025-07-02T14:04:23.195Z"
   },
   {
    "duration": 0,
    "start_time": "2025-07-02T14:04:23.196Z"
   },
   {
    "duration": 0,
    "start_time": "2025-07-02T14:04:23.197Z"
   },
   {
    "duration": 0,
    "start_time": "2025-07-02T14:04:23.198Z"
   },
   {
    "duration": 0,
    "start_time": "2025-07-02T14:04:23.200Z"
   },
   {
    "duration": 0,
    "start_time": "2025-07-02T14:04:23.201Z"
   },
   {
    "duration": 0,
    "start_time": "2025-07-02T14:04:23.202Z"
   },
   {
    "duration": 0,
    "start_time": "2025-07-02T14:04:23.203Z"
   },
   {
    "duration": 0,
    "start_time": "2025-07-02T14:04:23.205Z"
   },
   {
    "duration": 0,
    "start_time": "2025-07-02T14:04:23.206Z"
   },
   {
    "duration": 0,
    "start_time": "2025-07-02T14:04:23.207Z"
   },
   {
    "duration": 15,
    "start_time": "2025-07-02T14:04:32.919Z"
   },
   {
    "duration": 198,
    "start_time": "2025-07-02T14:04:35.262Z"
   },
   {
    "duration": 12,
    "start_time": "2025-07-02T14:04:40.394Z"
   },
   {
    "duration": 14,
    "start_time": "2025-07-02T14:05:08.867Z"
   },
   {
    "duration": 191,
    "start_time": "2025-07-02T14:05:11.273Z"
   },
   {
    "duration": 10,
    "start_time": "2025-07-02T14:05:22.818Z"
   },
   {
    "duration": 14,
    "start_time": "2025-07-02T14:06:18.357Z"
   },
   {
    "duration": 12,
    "start_time": "2025-07-02T14:07:24.758Z"
   },
   {
    "duration": 9,
    "start_time": "2025-07-02T14:07:28.143Z"
   },
   {
    "duration": 12,
    "start_time": "2025-07-02T14:07:31.308Z"
   },
   {
    "duration": 9,
    "start_time": "2025-07-02T14:07:42.245Z"
   },
   {
    "duration": 10,
    "start_time": "2025-07-02T14:08:16.548Z"
   },
   {
    "duration": 81,
    "start_time": "2025-07-02T14:14:45.581Z"
   },
   {
    "duration": 21,
    "start_time": "2025-07-02T14:16:36.573Z"
   },
   {
    "duration": 85,
    "start_time": "2025-07-02T14:17:04.553Z"
   },
   {
    "duration": 7,
    "start_time": "2025-07-02T14:20:51.849Z"
   },
   {
    "duration": 12,
    "start_time": "2025-07-02T14:21:32.160Z"
   },
   {
    "duration": 1290,
    "start_time": "2025-07-02T14:21:44.201Z"
   },
   {
    "duration": 10,
    "start_time": "2025-07-02T14:21:57.181Z"
   },
   {
    "duration": 26,
    "start_time": "2025-07-02T14:22:03.790Z"
   },
   {
    "duration": 43,
    "start_time": "2025-07-02T14:22:43.461Z"
   },
   {
    "duration": 78,
    "start_time": "2025-07-02T14:24:47.474Z"
   },
   {
    "duration": 9,
    "start_time": "2025-07-02T14:24:53.547Z"
   },
   {
    "duration": 24,
    "start_time": "2025-07-02T14:25:03.222Z"
   },
   {
    "duration": 37,
    "start_time": "2025-07-02T14:25:41.650Z"
   },
   {
    "duration": 25,
    "start_time": "2025-07-02T14:26:02.132Z"
   },
   {
    "duration": 23,
    "start_time": "2025-07-02T14:26:11.519Z"
   },
   {
    "duration": 138,
    "start_time": "2025-07-02T14:27:02.193Z"
   },
   {
    "duration": 10,
    "start_time": "2025-07-02T14:27:25.917Z"
   },
   {
    "duration": 10,
    "start_time": "2025-07-02T14:27:39.522Z"
   },
   {
    "duration": 10,
    "start_time": "2025-07-02T14:28:34.694Z"
   },
   {
    "duration": 17,
    "start_time": "2025-07-02T14:28:49.060Z"
   },
   {
    "duration": 10,
    "start_time": "2025-07-02T14:28:51.629Z"
   },
   {
    "duration": 447,
    "start_time": "2025-07-02T14:29:03.945Z"
   },
   {
    "duration": 49,
    "start_time": "2025-07-02T14:29:04.394Z"
   },
   {
    "duration": 24,
    "start_time": "2025-07-02T14:29:04.445Z"
   },
   {
    "duration": 24,
    "start_time": "2025-07-02T14:29:04.471Z"
   },
   {
    "duration": 3,
    "start_time": "2025-07-02T14:29:04.498Z"
   },
   {
    "duration": 6,
    "start_time": "2025-07-02T14:29:04.503Z"
   },
   {
    "duration": 8,
    "start_time": "2025-07-02T14:29:04.511Z"
   },
   {
    "duration": 8,
    "start_time": "2025-07-02T14:29:04.521Z"
   },
   {
    "duration": 8,
    "start_time": "2025-07-02T14:29:04.530Z"
   },
   {
    "duration": 39,
    "start_time": "2025-07-02T14:29:04.540Z"
   },
   {
    "duration": 14,
    "start_time": "2025-07-02T14:29:04.581Z"
   },
   {
    "duration": 4,
    "start_time": "2025-07-02T14:29:04.597Z"
   },
   {
    "duration": 22,
    "start_time": "2025-07-02T14:29:04.603Z"
   },
   {
    "duration": 33,
    "start_time": "2025-07-02T14:29:04.630Z"
   },
   {
    "duration": 23,
    "start_time": "2025-07-02T14:29:04.665Z"
   },
   {
    "duration": 24,
    "start_time": "2025-07-02T14:29:04.690Z"
   },
   {
    "duration": 53,
    "start_time": "2025-07-02T14:29:04.716Z"
   },
   {
    "duration": 10,
    "start_time": "2025-07-02T14:29:04.772Z"
   },
   {
    "duration": 10,
    "start_time": "2025-07-02T14:29:04.784Z"
   },
   {
    "duration": 85,
    "start_time": "2025-07-02T14:29:04.796Z"
   },
   {
    "duration": 6,
    "start_time": "2025-07-02T14:29:04.883Z"
   },
   {
    "duration": 6,
    "start_time": "2025-07-02T14:29:04.890Z"
   },
   {
    "duration": 19,
    "start_time": "2025-07-02T14:29:04.898Z"
   },
   {
    "duration": 63,
    "start_time": "2025-07-02T14:29:04.919Z"
   },
   {
    "duration": 17,
    "start_time": "2025-07-02T14:29:04.984Z"
   },
   {
    "duration": 220,
    "start_time": "2025-07-02T14:29:05.002Z"
   },
   {
    "duration": 10,
    "start_time": "2025-07-02T14:29:05.224Z"
   },
   {
    "duration": 59,
    "start_time": "2025-07-02T14:29:05.236Z"
   },
   {
    "duration": 189,
    "start_time": "2025-07-02T14:29:05.296Z"
   },
   {
    "duration": 9,
    "start_time": "2025-07-02T14:29:05.487Z"
   },
   {
    "duration": 107,
    "start_time": "2025-07-02T14:29:05.497Z"
   },
   {
    "duration": 81,
    "start_time": "2025-07-02T14:29:05.606Z"
   },
   {
    "duration": 17,
    "start_time": "2025-07-02T14:29:05.689Z"
   },
   {
    "duration": 27,
    "start_time": "2025-07-02T14:29:05.708Z"
   },
   {
    "duration": 17,
    "start_time": "2025-07-02T14:29:05.738Z"
   },
   {
    "duration": 27,
    "start_time": "2025-07-02T14:29:05.757Z"
   },
   {
    "duration": 11,
    "start_time": "2025-07-02T14:29:05.786Z"
   },
   {
    "duration": 9,
    "start_time": "2025-07-02T14:29:05.799Z"
   },
   {
    "duration": 30,
    "start_time": "2025-07-02T14:29:05.810Z"
   },
   {
    "duration": 8,
    "start_time": "2025-07-02T14:29:05.842Z"
   },
   {
    "duration": 16,
    "start_time": "2025-07-02T14:29:05.863Z"
   },
   {
    "duration": 15,
    "start_time": "2025-07-02T14:29:05.881Z"
   },
   {
    "duration": 22,
    "start_time": "2025-07-02T14:29:05.898Z"
   },
   {
    "duration": 107,
    "start_time": "2025-07-02T14:29:05.922Z"
   },
   {
    "duration": 29,
    "start_time": "2025-07-02T14:29:06.031Z"
   },
   {
    "duration": 67,
    "start_time": "2025-07-02T14:29:06.062Z"
   },
   {
    "duration": 15,
    "start_time": "2025-07-02T14:29:06.132Z"
   },
   {
    "duration": 10,
    "start_time": "2025-07-02T14:29:06.149Z"
   },
   {
    "duration": 76,
    "start_time": "2025-07-02T14:29:06.161Z"
   },
   {
    "duration": 0,
    "start_time": "2025-07-02T14:29:06.238Z"
   },
   {
    "duration": 1,
    "start_time": "2025-07-02T14:29:06.239Z"
   },
   {
    "duration": 0,
    "start_time": "2025-07-02T14:29:06.240Z"
   },
   {
    "duration": 15,
    "start_time": "2025-07-02T14:29:42.405Z"
   },
   {
    "duration": 23,
    "start_time": "2025-07-02T14:29:57.878Z"
   },
   {
    "duration": 20,
    "start_time": "2025-07-02T14:30:36.430Z"
   },
   {
    "duration": 14,
    "start_time": "2025-07-02T14:31:02.673Z"
   },
   {
    "duration": 10,
    "start_time": "2025-07-02T14:31:19.208Z"
   },
   {
    "duration": 5,
    "start_time": "2025-07-02T14:32:10.543Z"
   },
   {
    "duration": 14,
    "start_time": "2025-07-02T14:32:25.562Z"
   },
   {
    "duration": 13,
    "start_time": "2025-07-02T14:32:30.980Z"
   },
   {
    "duration": 10,
    "start_time": "2025-07-02T14:33:11.136Z"
   },
   {
    "duration": 9,
    "start_time": "2025-07-02T14:33:19.498Z"
   },
   {
    "duration": 12,
    "start_time": "2025-07-02T14:33:21.886Z"
   },
   {
    "duration": 383,
    "start_time": "2025-07-02T14:33:41.013Z"
   },
   {
    "duration": 48,
    "start_time": "2025-07-02T14:33:41.397Z"
   },
   {
    "duration": 21,
    "start_time": "2025-07-02T14:33:41.448Z"
   },
   {
    "duration": 21,
    "start_time": "2025-07-02T14:33:41.471Z"
   },
   {
    "duration": 3,
    "start_time": "2025-07-02T14:33:41.494Z"
   },
   {
    "duration": 6,
    "start_time": "2025-07-02T14:33:41.498Z"
   },
   {
    "duration": 4,
    "start_time": "2025-07-02T14:33:41.505Z"
   },
   {
    "duration": 6,
    "start_time": "2025-07-02T14:33:41.511Z"
   },
   {
    "duration": 10,
    "start_time": "2025-07-02T14:33:41.518Z"
   },
   {
    "duration": 45,
    "start_time": "2025-07-02T14:33:41.529Z"
   },
   {
    "duration": 14,
    "start_time": "2025-07-02T14:33:41.576Z"
   },
   {
    "duration": 92,
    "start_time": "2025-07-02T14:33:41.591Z"
   },
   {
    "duration": 12,
    "start_time": "2025-07-02T14:33:41.685Z"
   },
   {
    "duration": 11,
    "start_time": "2025-07-02T14:33:41.700Z"
   },
   {
    "duration": 21,
    "start_time": "2025-07-02T14:33:41.713Z"
   },
   {
    "duration": 31,
    "start_time": "2025-07-02T14:33:41.736Z"
   },
   {
    "duration": 21,
    "start_time": "2025-07-02T14:33:41.769Z"
   },
   {
    "duration": 9,
    "start_time": "2025-07-02T14:33:41.792Z"
   },
   {
    "duration": 9,
    "start_time": "2025-07-02T14:33:41.803Z"
   },
   {
    "duration": 8,
    "start_time": "2025-07-02T14:33:41.814Z"
   },
   {
    "duration": 37,
    "start_time": "2025-07-02T14:33:41.824Z"
   },
   {
    "duration": 9,
    "start_time": "2025-07-02T14:33:41.863Z"
   },
   {
    "duration": 17,
    "start_time": "2025-07-02T14:33:41.873Z"
   },
   {
    "duration": 10,
    "start_time": "2025-07-02T14:33:41.891Z"
   },
   {
    "duration": 13,
    "start_time": "2025-07-02T14:33:41.903Z"
   },
   {
    "duration": 44,
    "start_time": "2025-07-02T14:33:41.918Z"
   },
   {
    "duration": 235,
    "start_time": "2025-07-02T14:33:41.963Z"
   },
   {
    "duration": 10,
    "start_time": "2025-07-02T14:33:42.199Z"
   },
   {
    "duration": 14,
    "start_time": "2025-07-02T14:33:42.211Z"
   },
   {
    "duration": 208,
    "start_time": "2025-07-02T14:33:42.228Z"
   },
   {
    "duration": 9,
    "start_time": "2025-07-02T14:33:42.438Z"
   },
   {
    "duration": 23,
    "start_time": "2025-07-02T14:33:42.449Z"
   },
   {
    "duration": 7,
    "start_time": "2025-07-02T14:33:42.474Z"
   },
   {
    "duration": 11,
    "start_time": "2025-07-02T14:33:42.483Z"
   },
   {
    "duration": 9,
    "start_time": "2025-07-02T14:33:42.495Z"
   },
   {
    "duration": 11,
    "start_time": "2025-07-02T14:33:42.506Z"
   },
   {
    "duration": 51,
    "start_time": "2025-07-02T14:33:42.519Z"
   },
   {
    "duration": 7,
    "start_time": "2025-07-02T14:33:42.572Z"
   },
   {
    "duration": 14,
    "start_time": "2025-07-02T14:33:42.581Z"
   },
   {
    "duration": 9,
    "start_time": "2025-07-02T14:33:42.597Z"
   },
   {
    "duration": 8,
    "start_time": "2025-07-02T14:33:42.610Z"
   },
   {
    "duration": 41,
    "start_time": "2025-07-02T14:33:42.620Z"
   },
   {
    "duration": 14,
    "start_time": "2025-07-02T14:33:42.663Z"
   },
   {
    "duration": 22,
    "start_time": "2025-07-02T14:33:42.679Z"
   },
   {
    "duration": 59,
    "start_time": "2025-07-02T14:33:42.702Z"
   },
   {
    "duration": 28,
    "start_time": "2025-07-02T14:33:42.763Z"
   },
   {
    "duration": 26,
    "start_time": "2025-07-02T14:33:42.793Z"
   },
   {
    "duration": 77,
    "start_time": "2025-07-02T14:33:42.821Z"
   },
   {
    "duration": 10,
    "start_time": "2025-07-02T14:33:42.899Z"
   },
   {
    "duration": 78,
    "start_time": "2025-07-02T14:33:42.911Z"
   },
   {
    "duration": 0,
    "start_time": "2025-07-02T14:33:42.991Z"
   },
   {
    "duration": 0,
    "start_time": "2025-07-02T14:33:42.992Z"
   },
   {
    "duration": 0,
    "start_time": "2025-07-02T14:33:42.993Z"
   },
   {
    "duration": 10,
    "start_time": "2025-07-02T14:34:22.185Z"
   },
   {
    "duration": 14,
    "start_time": "2025-07-02T14:34:24.970Z"
   },
   {
    "duration": 10,
    "start_time": "2025-07-02T14:37:37.780Z"
   },
   {
    "duration": 445,
    "start_time": "2025-07-02T14:38:00.748Z"
   },
   {
    "duration": 47,
    "start_time": "2025-07-02T14:38:01.195Z"
   },
   {
    "duration": 26,
    "start_time": "2025-07-02T14:38:01.244Z"
   },
   {
    "duration": 16,
    "start_time": "2025-07-02T14:38:01.272Z"
   },
   {
    "duration": 6,
    "start_time": "2025-07-02T14:38:01.290Z"
   },
   {
    "duration": 25,
    "start_time": "2025-07-02T14:38:01.297Z"
   },
   {
    "duration": 14,
    "start_time": "2025-07-02T14:38:01.324Z"
   },
   {
    "duration": 5,
    "start_time": "2025-07-02T14:38:01.340Z"
   },
   {
    "duration": 19,
    "start_time": "2025-07-02T14:38:01.347Z"
   },
   {
    "duration": 21,
    "start_time": "2025-07-02T14:38:01.369Z"
   },
   {
    "duration": 17,
    "start_time": "2025-07-02T14:38:01.391Z"
   },
   {
    "duration": 10,
    "start_time": "2025-07-02T14:38:01.410Z"
   },
   {
    "duration": 23,
    "start_time": "2025-07-02T14:38:01.422Z"
   },
   {
    "duration": 19,
    "start_time": "2025-07-02T14:38:01.446Z"
   },
   {
    "duration": 21,
    "start_time": "2025-07-02T14:38:01.466Z"
   },
   {
    "duration": 20,
    "start_time": "2025-07-02T14:38:01.488Z"
   },
   {
    "duration": 21,
    "start_time": "2025-07-02T14:38:01.510Z"
   },
   {
    "duration": 12,
    "start_time": "2025-07-02T14:38:01.560Z"
   },
   {
    "duration": 169,
    "start_time": "2025-07-02T14:38:01.574Z"
   },
   {
    "duration": 45,
    "start_time": "2025-07-02T14:38:01.744Z"
   },
   {
    "duration": 6,
    "start_time": "2025-07-02T14:38:01.791Z"
   },
   {
    "duration": 12,
    "start_time": "2025-07-02T14:38:01.799Z"
   },
   {
    "duration": 28,
    "start_time": "2025-07-02T14:38:01.813Z"
   },
   {
    "duration": 11,
    "start_time": "2025-07-02T14:38:01.843Z"
   },
   {
    "duration": 45,
    "start_time": "2025-07-02T14:38:01.856Z"
   },
   {
    "duration": 18,
    "start_time": "2025-07-02T14:38:01.904Z"
   },
   {
    "duration": 196,
    "start_time": "2025-07-02T14:38:01.924Z"
   },
   {
    "duration": 14,
    "start_time": "2025-07-02T14:38:02.124Z"
   },
   {
    "duration": 46,
    "start_time": "2025-07-02T14:38:02.140Z"
   },
   {
    "duration": 177,
    "start_time": "2025-07-02T14:38:02.188Z"
   },
   {
    "duration": 9,
    "start_time": "2025-07-02T14:38:02.367Z"
   },
   {
    "duration": 14,
    "start_time": "2025-07-02T14:38:02.377Z"
   },
   {
    "duration": 10,
    "start_time": "2025-07-02T14:38:02.393Z"
   },
   {
    "duration": 42,
    "start_time": "2025-07-02T14:38:02.405Z"
   },
   {
    "duration": 32,
    "start_time": "2025-07-02T14:38:02.449Z"
   },
   {
    "duration": 7,
    "start_time": "2025-07-02T14:38:02.483Z"
   },
   {
    "duration": 28,
    "start_time": "2025-07-02T14:38:02.492Z"
   },
   {
    "duration": 31,
    "start_time": "2025-07-02T14:38:02.522Z"
   },
   {
    "duration": 29,
    "start_time": "2025-07-02T14:38:02.555Z"
   },
   {
    "duration": 30,
    "start_time": "2025-07-02T14:38:02.586Z"
   },
   {
    "duration": 39,
    "start_time": "2025-07-02T14:38:02.618Z"
   },
   {
    "duration": 35,
    "start_time": "2025-07-02T14:38:02.659Z"
   },
   {
    "duration": 13,
    "start_time": "2025-07-02T14:38:02.696Z"
   },
   {
    "duration": 52,
    "start_time": "2025-07-02T14:38:02.711Z"
   },
   {
    "duration": 44,
    "start_time": "2025-07-02T14:38:02.765Z"
   },
   {
    "duration": 28,
    "start_time": "2025-07-02T14:38:02.811Z"
   },
   {
    "duration": 74,
    "start_time": "2025-07-02T14:38:02.840Z"
   },
   {
    "duration": 33,
    "start_time": "2025-07-02T14:38:02.915Z"
   },
   {
    "duration": 11,
    "start_time": "2025-07-02T14:38:02.949Z"
   },
   {
    "duration": 79,
    "start_time": "2025-07-02T14:38:02.962Z"
   },
   {
    "duration": 0,
    "start_time": "2025-07-02T14:38:03.043Z"
   },
   {
    "duration": 0,
    "start_time": "2025-07-02T14:38:03.044Z"
   },
   {
    "duration": 0,
    "start_time": "2025-07-02T14:38:03.046Z"
   },
   {
    "duration": 9,
    "start_time": "2025-07-02T14:42:15.238Z"
   },
   {
    "duration": 165,
    "start_time": "2025-07-02T14:43:31.913Z"
   },
   {
    "duration": 10,
    "start_time": "2025-07-02T14:44:51.479Z"
   },
   {
    "duration": 160,
    "start_time": "2025-07-02T14:45:25.400Z"
   },
   {
    "duration": 14,
    "start_time": "2025-07-02T14:48:28.312Z"
   },
   {
    "duration": 454,
    "start_time": "2025-07-02T14:49:08.130Z"
   },
   {
    "duration": 47,
    "start_time": "2025-07-02T14:49:08.587Z"
   },
   {
    "duration": 25,
    "start_time": "2025-07-02T14:49:08.636Z"
   },
   {
    "duration": 19,
    "start_time": "2025-07-02T14:49:08.662Z"
   },
   {
    "duration": 3,
    "start_time": "2025-07-02T14:49:08.683Z"
   },
   {
    "duration": 13,
    "start_time": "2025-07-02T14:49:08.688Z"
   },
   {
    "duration": 5,
    "start_time": "2025-07-02T14:49:08.702Z"
   },
   {
    "duration": 6,
    "start_time": "2025-07-02T14:49:08.709Z"
   },
   {
    "duration": 5,
    "start_time": "2025-07-02T14:49:08.717Z"
   },
   {
    "duration": 55,
    "start_time": "2025-07-02T14:49:08.724Z"
   },
   {
    "duration": 15,
    "start_time": "2025-07-02T14:49:08.781Z"
   },
   {
    "duration": 5,
    "start_time": "2025-07-02T14:49:08.798Z"
   },
   {
    "duration": 12,
    "start_time": "2025-07-02T14:49:08.805Z"
   },
   {
    "duration": 48,
    "start_time": "2025-07-02T14:49:08.823Z"
   },
   {
    "duration": 70,
    "start_time": "2025-07-02T14:49:08.873Z"
   },
   {
    "duration": 25,
    "start_time": "2025-07-02T14:49:08.946Z"
   },
   {
    "duration": 26,
    "start_time": "2025-07-02T14:49:08.973Z"
   },
   {
    "duration": 15,
    "start_time": "2025-07-02T14:49:09.001Z"
   },
   {
    "duration": 12,
    "start_time": "2025-07-02T14:49:09.018Z"
   },
   {
    "duration": 36,
    "start_time": "2025-07-02T14:49:09.032Z"
   },
   {
    "duration": 18,
    "start_time": "2025-07-02T14:49:09.070Z"
   },
   {
    "duration": 5,
    "start_time": "2025-07-02T14:49:09.090Z"
   },
   {
    "duration": 23,
    "start_time": "2025-07-02T14:49:09.096Z"
   },
   {
    "duration": 24,
    "start_time": "2025-07-02T14:49:09.120Z"
   },
   {
    "duration": 24,
    "start_time": "2025-07-02T14:49:09.146Z"
   },
   {
    "duration": 22,
    "start_time": "2025-07-02T14:49:09.171Z"
   },
   {
    "duration": 195,
    "start_time": "2025-07-02T14:49:09.194Z"
   },
   {
    "duration": 16,
    "start_time": "2025-07-02T14:49:09.391Z"
   },
   {
    "duration": 190,
    "start_time": "2025-07-02T14:49:09.410Z"
   },
   {
    "duration": 17,
    "start_time": "2025-07-02T14:49:09.602Z"
   },
   {
    "duration": 73,
    "start_time": "2025-07-02T14:49:09.621Z"
   },
   {
    "duration": 78,
    "start_time": "2025-07-02T14:49:09.696Z"
   },
   {
    "duration": 11,
    "start_time": "2025-07-02T14:49:09.776Z"
   },
   {
    "duration": 13,
    "start_time": "2025-07-02T14:49:09.789Z"
   },
   {
    "duration": 31,
    "start_time": "2025-07-02T14:49:09.804Z"
   },
   {
    "duration": 26,
    "start_time": "2025-07-02T14:49:09.837Z"
   },
   {
    "duration": 21,
    "start_time": "2025-07-02T14:49:09.865Z"
   },
   {
    "duration": 15,
    "start_time": "2025-07-02T14:49:09.888Z"
   },
   {
    "duration": 7,
    "start_time": "2025-07-02T14:49:09.906Z"
   },
   {
    "duration": 7,
    "start_time": "2025-07-02T14:49:09.915Z"
   },
   {
    "duration": 7,
    "start_time": "2025-07-02T14:49:09.925Z"
   },
   {
    "duration": 32,
    "start_time": "2025-07-02T14:49:09.934Z"
   },
   {
    "duration": 16,
    "start_time": "2025-07-02T14:49:09.968Z"
   },
   {
    "duration": 15,
    "start_time": "2025-07-02T14:49:09.986Z"
   },
   {
    "duration": 74,
    "start_time": "2025-07-02T14:49:10.003Z"
   },
   {
    "duration": 125,
    "start_time": "2025-07-02T14:49:10.079Z"
   },
   {
    "duration": 28,
    "start_time": "2025-07-02T14:49:10.206Z"
   },
   {
    "duration": 42,
    "start_time": "2025-07-02T14:49:10.236Z"
   },
   {
    "duration": 11,
    "start_time": "2025-07-02T14:49:10.279Z"
   },
   {
    "duration": 10,
    "start_time": "2025-07-02T14:49:10.292Z"
   },
   {
    "duration": 94,
    "start_time": "2025-07-02T14:49:10.304Z"
   },
   {
    "duration": 0,
    "start_time": "2025-07-02T14:49:10.399Z"
   },
   {
    "duration": 0,
    "start_time": "2025-07-02T14:49:10.401Z"
   },
   {
    "duration": 0,
    "start_time": "2025-07-02T14:49:10.401Z"
   },
   {
    "duration": 11,
    "start_time": "2025-07-02T14:50:35.441Z"
   },
   {
    "duration": 391,
    "start_time": "2025-07-02T14:50:55.106Z"
   },
   {
    "duration": 49,
    "start_time": "2025-07-02T14:50:55.500Z"
   },
   {
    "duration": 23,
    "start_time": "2025-07-02T14:50:55.551Z"
   },
   {
    "duration": 70,
    "start_time": "2025-07-02T14:50:55.576Z"
   },
   {
    "duration": 113,
    "start_time": "2025-07-02T14:50:55.648Z"
   },
   {
    "duration": 14,
    "start_time": "2025-07-02T14:50:55.763Z"
   },
   {
    "duration": 4,
    "start_time": "2025-07-02T14:50:55.780Z"
   },
   {
    "duration": 8,
    "start_time": "2025-07-02T14:50:55.786Z"
   },
   {
    "duration": 7,
    "start_time": "2025-07-02T14:50:55.796Z"
   },
   {
    "duration": 29,
    "start_time": "2025-07-02T14:50:55.806Z"
   },
   {
    "duration": 37,
    "start_time": "2025-07-02T14:50:55.837Z"
   },
   {
    "duration": 4,
    "start_time": "2025-07-02T14:50:55.876Z"
   },
   {
    "duration": 13,
    "start_time": "2025-07-02T14:50:55.882Z"
   },
   {
    "duration": 14,
    "start_time": "2025-07-02T14:50:55.899Z"
   },
   {
    "duration": 62,
    "start_time": "2025-07-02T14:50:55.915Z"
   },
   {
    "duration": 21,
    "start_time": "2025-07-02T14:50:55.979Z"
   },
   {
    "duration": 22,
    "start_time": "2025-07-02T14:50:56.002Z"
   },
   {
    "duration": 141,
    "start_time": "2025-07-02T14:50:56.025Z"
   },
   {
    "duration": 10,
    "start_time": "2025-07-02T14:50:56.168Z"
   },
   {
    "duration": 10,
    "start_time": "2025-07-02T14:50:56.180Z"
   },
   {
    "duration": 8,
    "start_time": "2025-07-02T14:50:56.192Z"
   },
   {
    "duration": 8,
    "start_time": "2025-07-02T14:50:56.201Z"
   },
   {
    "duration": 17,
    "start_time": "2025-07-02T14:50:56.211Z"
   },
   {
    "duration": 12,
    "start_time": "2025-07-02T14:50:56.260Z"
   },
   {
    "duration": 23,
    "start_time": "2025-07-02T14:50:56.274Z"
   },
   {
    "duration": 16,
    "start_time": "2025-07-02T14:50:56.298Z"
   },
   {
    "duration": 208,
    "start_time": "2025-07-02T14:50:56.316Z"
   },
   {
    "duration": 16,
    "start_time": "2025-07-02T14:50:56.526Z"
   },
   {
    "duration": 202,
    "start_time": "2025-07-02T14:50:56.544Z"
   },
   {
    "duration": 21,
    "start_time": "2025-07-02T14:50:56.747Z"
   },
   {
    "duration": 7,
    "start_time": "2025-07-02T14:50:56.770Z"
   },
   {
    "duration": 22,
    "start_time": "2025-07-02T14:50:56.779Z"
   },
   {
    "duration": 15,
    "start_time": "2025-07-02T14:50:56.803Z"
   },
   {
    "duration": 11,
    "start_time": "2025-07-02T14:50:56.820Z"
   },
   {
    "duration": 66,
    "start_time": "2025-07-02T14:50:56.861Z"
   },
   {
    "duration": 18,
    "start_time": "2025-07-02T14:50:56.929Z"
   },
   {
    "duration": 28,
    "start_time": "2025-07-02T14:50:56.949Z"
   },
   {
    "duration": 25,
    "start_time": "2025-07-02T14:50:56.980Z"
   },
   {
    "duration": 10,
    "start_time": "2025-07-02T14:50:57.007Z"
   },
   {
    "duration": 23,
    "start_time": "2025-07-02T14:50:57.019Z"
   },
   {
    "duration": 15,
    "start_time": "2025-07-02T14:50:57.046Z"
   },
   {
    "duration": 30,
    "start_time": "2025-07-02T14:50:57.063Z"
   },
   {
    "duration": 40,
    "start_time": "2025-07-02T14:50:57.095Z"
   },
   {
    "duration": 42,
    "start_time": "2025-07-02T14:50:57.137Z"
   },
   {
    "duration": 29,
    "start_time": "2025-07-02T14:50:57.181Z"
   },
   {
    "duration": 18,
    "start_time": "2025-07-02T14:50:57.212Z"
   },
   {
    "duration": 31,
    "start_time": "2025-07-02T14:50:57.232Z"
   },
   {
    "duration": 143,
    "start_time": "2025-07-02T14:50:57.265Z"
   },
   {
    "duration": 0,
    "start_time": "2025-07-02T14:50:57.410Z"
   },
   {
    "duration": 0,
    "start_time": "2025-07-02T14:50:57.411Z"
   },
   {
    "duration": 0,
    "start_time": "2025-07-02T14:50:57.413Z"
   },
   {
    "duration": 142,
    "start_time": "2025-07-02T14:53:16.849Z"
   },
   {
    "duration": 9,
    "start_time": "2025-07-02T14:53:22.061Z"
   },
   {
    "duration": 10,
    "start_time": "2025-07-02T14:53:33.546Z"
   },
   {
    "duration": 11,
    "start_time": "2025-07-02T14:55:12.527Z"
   },
   {
    "duration": 10,
    "start_time": "2025-07-02T14:57:17.625Z"
   },
   {
    "duration": 10,
    "start_time": "2025-07-02T14:57:25.012Z"
   },
   {
    "duration": 404,
    "start_time": "2025-07-03T06:03:52.182Z"
   },
   {
    "duration": 46,
    "start_time": "2025-07-03T06:03:52.588Z"
   },
   {
    "duration": 21,
    "start_time": "2025-07-03T06:03:52.636Z"
   },
   {
    "duration": 20,
    "start_time": "2025-07-03T06:03:52.659Z"
   },
   {
    "duration": 3,
    "start_time": "2025-07-03T06:03:52.680Z"
   },
   {
    "duration": 5,
    "start_time": "2025-07-03T06:03:52.685Z"
   },
   {
    "duration": 15,
    "start_time": "2025-07-03T06:03:52.691Z"
   },
   {
    "duration": 13,
    "start_time": "2025-07-03T06:03:52.708Z"
   },
   {
    "duration": 10,
    "start_time": "2025-07-03T06:03:52.722Z"
   },
   {
    "duration": 40,
    "start_time": "2025-07-03T06:03:52.735Z"
   },
   {
    "duration": 16,
    "start_time": "2025-07-03T06:03:52.777Z"
   },
   {
    "duration": 4,
    "start_time": "2025-07-03T06:03:52.794Z"
   },
   {
    "duration": 18,
    "start_time": "2025-07-03T06:03:52.800Z"
   },
   {
    "duration": 103,
    "start_time": "2025-07-03T06:03:52.820Z"
   },
   {
    "duration": 21,
    "start_time": "2025-07-03T06:03:52.925Z"
   },
   {
    "duration": 19,
    "start_time": "2025-07-03T06:03:52.947Z"
   },
   {
    "duration": 21,
    "start_time": "2025-07-03T06:03:52.968Z"
   },
   {
    "duration": 10,
    "start_time": "2025-07-03T06:03:52.990Z"
   },
   {
    "duration": 10,
    "start_time": "2025-07-03T06:03:53.001Z"
   },
   {
    "duration": 9,
    "start_time": "2025-07-03T06:03:53.013Z"
   },
   {
    "duration": 5,
    "start_time": "2025-07-03T06:03:53.024Z"
   },
   {
    "duration": 4,
    "start_time": "2025-07-03T06:03:53.061Z"
   },
   {
    "duration": 23,
    "start_time": "2025-07-03T06:03:53.067Z"
   },
   {
    "duration": 10,
    "start_time": "2025-07-03T06:03:53.092Z"
   },
   {
    "duration": 13,
    "start_time": "2025-07-03T06:03:53.104Z"
   },
   {
    "duration": 15,
    "start_time": "2025-07-03T06:03:53.119Z"
   },
   {
    "duration": 181,
    "start_time": "2025-07-03T06:03:53.160Z"
   },
   {
    "duration": 19,
    "start_time": "2025-07-03T06:03:53.344Z"
   },
   {
    "duration": 279,
    "start_time": "2025-07-03T06:03:53.364Z"
   },
   {
    "duration": 19,
    "start_time": "2025-07-03T06:03:53.644Z"
   },
   {
    "duration": 8,
    "start_time": "2025-07-03T06:03:53.665Z"
   },
   {
    "duration": 11,
    "start_time": "2025-07-03T06:03:53.675Z"
   },
   {
    "duration": 10,
    "start_time": "2025-07-03T06:03:53.687Z"
   },
   {
    "duration": 13,
    "start_time": "2025-07-03T06:03:53.698Z"
   },
   {
    "duration": 21,
    "start_time": "2025-07-03T06:03:53.713Z"
   },
   {
    "duration": 25,
    "start_time": "2025-07-03T06:03:53.736Z"
   },
   {
    "duration": 6,
    "start_time": "2025-07-03T06:03:53.763Z"
   },
   {
    "duration": 8,
    "start_time": "2025-07-03T06:03:53.771Z"
   },
   {
    "duration": 21,
    "start_time": "2025-07-03T06:03:53.781Z"
   },
   {
    "duration": 15,
    "start_time": "2025-07-03T06:03:53.803Z"
   },
   {
    "duration": 53,
    "start_time": "2025-07-03T06:03:53.819Z"
   },
   {
    "duration": 40,
    "start_time": "2025-07-03T06:03:53.874Z"
   },
   {
    "duration": 52,
    "start_time": "2025-07-03T06:03:53.916Z"
   },
   {
    "duration": 28,
    "start_time": "2025-07-03T06:03:53.969Z"
   },
   {
    "duration": 15,
    "start_time": "2025-07-03T06:03:53.998Z"
   },
   {
    "duration": 10,
    "start_time": "2025-07-03T06:03:54.015Z"
   },
   {
    "duration": 94,
    "start_time": "2025-07-03T06:03:54.027Z"
   },
   {
    "duration": 0,
    "start_time": "2025-07-03T06:03:54.122Z"
   },
   {
    "duration": 0,
    "start_time": "2025-07-03T06:03:54.123Z"
   },
   {
    "duration": 0,
    "start_time": "2025-07-03T06:03:54.124Z"
   },
   {
    "duration": 7,
    "start_time": "2025-07-03T06:10:00.429Z"
   },
   {
    "duration": 7,
    "start_time": "2025-07-03T06:12:34.723Z"
   },
   {
    "duration": 17,
    "start_time": "2025-07-03T06:15:13.271Z"
   },
   {
    "duration": 19,
    "start_time": "2025-07-03T06:15:19.971Z"
   },
   {
    "duration": 22,
    "start_time": "2025-07-03T06:15:23.604Z"
   },
   {
    "duration": 406,
    "start_time": "2025-07-03T06:15:32.717Z"
   },
   {
    "duration": 47,
    "start_time": "2025-07-03T06:15:33.126Z"
   },
   {
    "duration": 22,
    "start_time": "2025-07-03T06:15:33.175Z"
   },
   {
    "duration": 18,
    "start_time": "2025-07-03T06:15:33.199Z"
   },
   {
    "duration": 11,
    "start_time": "2025-07-03T06:15:33.219Z"
   },
   {
    "duration": 7,
    "start_time": "2025-07-03T06:15:33.231Z"
   },
   {
    "duration": 23,
    "start_time": "2025-07-03T06:15:33.239Z"
   },
   {
    "duration": 8,
    "start_time": "2025-07-03T06:15:33.264Z"
   },
   {
    "duration": 16,
    "start_time": "2025-07-03T06:15:33.274Z"
   },
   {
    "duration": 23,
    "start_time": "2025-07-03T06:15:33.291Z"
   },
   {
    "duration": 22,
    "start_time": "2025-07-03T06:15:33.316Z"
   },
   {
    "duration": 100,
    "start_time": "2025-07-03T06:15:33.340Z"
   },
   {
    "duration": 126,
    "start_time": "2025-07-03T06:15:33.441Z"
   },
   {
    "duration": 13,
    "start_time": "2025-07-03T06:15:33.572Z"
   },
   {
    "duration": 21,
    "start_time": "2025-07-03T06:15:33.587Z"
   },
   {
    "duration": 20,
    "start_time": "2025-07-03T06:15:33.610Z"
   },
   {
    "duration": 47,
    "start_time": "2025-07-03T06:15:33.632Z"
   },
   {
    "duration": 11,
    "start_time": "2025-07-03T06:15:33.681Z"
   },
   {
    "duration": 10,
    "start_time": "2025-07-03T06:15:33.694Z"
   },
   {
    "duration": 21,
    "start_time": "2025-07-03T06:15:33.705Z"
   },
   {
    "duration": 19,
    "start_time": "2025-07-03T06:15:33.727Z"
   },
   {
    "duration": 13,
    "start_time": "2025-07-03T06:15:33.748Z"
   },
   {
    "duration": 23,
    "start_time": "2025-07-03T06:15:33.763Z"
   },
   {
    "duration": 11,
    "start_time": "2025-07-03T06:15:33.787Z"
   },
   {
    "duration": 44,
    "start_time": "2025-07-03T06:15:33.800Z"
   },
   {
    "duration": 16,
    "start_time": "2025-07-03T06:15:33.846Z"
   },
   {
    "duration": 193,
    "start_time": "2025-07-03T06:15:33.864Z"
   },
   {
    "duration": 15,
    "start_time": "2025-07-03T06:15:34.060Z"
   },
   {
    "duration": 183,
    "start_time": "2025-07-03T06:15:34.077Z"
   },
   {
    "duration": 16,
    "start_time": "2025-07-03T06:15:34.262Z"
   },
   {
    "duration": 110,
    "start_time": "2025-07-03T06:15:34.280Z"
   },
   {
    "duration": 92,
    "start_time": "2025-07-03T06:15:34.392Z"
   },
   {
    "duration": 11,
    "start_time": "2025-07-03T06:15:34.487Z"
   },
   {
    "duration": 25,
    "start_time": "2025-07-03T06:15:34.500Z"
   },
   {
    "duration": 96,
    "start_time": "2025-07-03T06:15:34.527Z"
   },
   {
    "duration": 32,
    "start_time": "2025-07-03T06:15:34.625Z"
   },
   {
    "duration": 72,
    "start_time": "2025-07-03T06:15:34.658Z"
   },
   {
    "duration": 0,
    "start_time": "2025-07-03T06:15:34.732Z"
   },
   {
    "duration": 0,
    "start_time": "2025-07-03T06:15:34.733Z"
   },
   {
    "duration": 0,
    "start_time": "2025-07-03T06:15:34.734Z"
   },
   {
    "duration": 0,
    "start_time": "2025-07-03T06:15:34.736Z"
   },
   {
    "duration": 0,
    "start_time": "2025-07-03T06:15:34.737Z"
   },
   {
    "duration": 0,
    "start_time": "2025-07-03T06:15:34.739Z"
   },
   {
    "duration": 0,
    "start_time": "2025-07-03T06:15:34.740Z"
   },
   {
    "duration": 0,
    "start_time": "2025-07-03T06:15:34.742Z"
   },
   {
    "duration": 0,
    "start_time": "2025-07-03T06:15:34.743Z"
   },
   {
    "duration": 1,
    "start_time": "2025-07-03T06:15:34.761Z"
   },
   {
    "duration": 0,
    "start_time": "2025-07-03T06:15:34.763Z"
   },
   {
    "duration": 0,
    "start_time": "2025-07-03T06:15:34.765Z"
   },
   {
    "duration": 0,
    "start_time": "2025-07-03T06:15:34.766Z"
   },
   {
    "duration": 0,
    "start_time": "2025-07-03T06:15:34.768Z"
   },
   {
    "duration": 10,
    "start_time": "2025-07-03T06:16:01.157Z"
   },
   {
    "duration": 470,
    "start_time": "2025-07-03T06:16:08.751Z"
   },
   {
    "duration": 46,
    "start_time": "2025-07-03T06:16:09.223Z"
   },
   {
    "duration": 21,
    "start_time": "2025-07-03T06:16:09.270Z"
   },
   {
    "duration": 17,
    "start_time": "2025-07-03T06:16:09.292Z"
   },
   {
    "duration": 3,
    "start_time": "2025-07-03T06:16:09.313Z"
   },
   {
    "duration": 6,
    "start_time": "2025-07-03T06:16:09.318Z"
   },
   {
    "duration": 97,
    "start_time": "2025-07-03T06:16:09.325Z"
   },
   {
    "duration": 6,
    "start_time": "2025-07-03T06:16:09.423Z"
   },
   {
    "duration": 7,
    "start_time": "2025-07-03T06:16:09.430Z"
   },
   {
    "duration": 21,
    "start_time": "2025-07-03T06:16:09.439Z"
   },
   {
    "duration": 116,
    "start_time": "2025-07-03T06:16:09.462Z"
   },
   {
    "duration": 4,
    "start_time": "2025-07-03T06:16:09.580Z"
   },
   {
    "duration": 13,
    "start_time": "2025-07-03T06:16:09.585Z"
   },
   {
    "duration": 10,
    "start_time": "2025-07-03T06:16:09.601Z"
   },
   {
    "duration": 22,
    "start_time": "2025-07-03T06:16:09.613Z"
   },
   {
    "duration": 41,
    "start_time": "2025-07-03T06:16:09.637Z"
   },
   {
    "duration": 22,
    "start_time": "2025-07-03T06:16:09.680Z"
   },
   {
    "duration": 9,
    "start_time": "2025-07-03T06:16:09.704Z"
   },
   {
    "duration": 9,
    "start_time": "2025-07-03T06:16:09.714Z"
   },
   {
    "duration": 39,
    "start_time": "2025-07-03T06:16:09.725Z"
   },
   {
    "duration": 5,
    "start_time": "2025-07-03T06:16:09.766Z"
   },
   {
    "duration": 4,
    "start_time": "2025-07-03T06:16:09.773Z"
   },
   {
    "duration": 25,
    "start_time": "2025-07-03T06:16:09.779Z"
   },
   {
    "duration": 11,
    "start_time": "2025-07-03T06:16:09.806Z"
   },
   {
    "duration": 13,
    "start_time": "2025-07-03T06:16:09.818Z"
   },
   {
    "duration": 15,
    "start_time": "2025-07-03T06:16:09.860Z"
   },
   {
    "duration": 188,
    "start_time": "2025-07-03T06:16:09.877Z"
   },
   {
    "duration": 14,
    "start_time": "2025-07-03T06:16:10.066Z"
   },
   {
    "duration": 188,
    "start_time": "2025-07-03T06:16:10.082Z"
   },
   {
    "duration": 14,
    "start_time": "2025-07-03T06:16:10.271Z"
   },
   {
    "duration": 7,
    "start_time": "2025-07-03T06:16:10.286Z"
   },
   {
    "duration": 10,
    "start_time": "2025-07-03T06:16:10.294Z"
   },
   {
    "duration": 71,
    "start_time": "2025-07-03T06:16:10.306Z"
   },
   {
    "duration": 104,
    "start_time": "2025-07-03T06:16:10.378Z"
   },
   {
    "duration": 11,
    "start_time": "2025-07-03T06:16:10.483Z"
   },
   {
    "duration": 8,
    "start_time": "2025-07-03T06:16:10.496Z"
   },
   {
    "duration": 13,
    "start_time": "2025-07-03T06:16:10.506Z"
   },
   {
    "duration": 12,
    "start_time": "2025-07-03T06:16:10.521Z"
   },
   {
    "duration": 105,
    "start_time": "2025-07-03T06:16:10.534Z"
   },
   {
    "duration": 15,
    "start_time": "2025-07-03T06:16:10.641Z"
   },
   {
    "duration": 22,
    "start_time": "2025-07-03T06:16:10.660Z"
   },
   {
    "duration": 7,
    "start_time": "2025-07-03T06:16:10.684Z"
   },
   {
    "duration": 40,
    "start_time": "2025-07-03T06:16:10.693Z"
   },
   {
    "duration": 46,
    "start_time": "2025-07-03T06:16:10.735Z"
   },
   {
    "duration": 29,
    "start_time": "2025-07-03T06:16:10.782Z"
   },
   {
    "duration": 11,
    "start_time": "2025-07-03T06:16:10.813Z"
   },
   {
    "duration": 39,
    "start_time": "2025-07-03T06:16:10.826Z"
   },
   {
    "duration": 74,
    "start_time": "2025-07-03T06:16:10.867Z"
   },
   {
    "duration": 0,
    "start_time": "2025-07-03T06:16:10.943Z"
   },
   {
    "duration": 0,
    "start_time": "2025-07-03T06:16:10.961Z"
   },
   {
    "duration": 0,
    "start_time": "2025-07-03T06:16:10.962Z"
   },
   {
    "duration": 11,
    "start_time": "2025-07-03T06:20:42.573Z"
   },
   {
    "duration": 75,
    "start_time": "2025-07-03T06:21:00.298Z"
   },
   {
    "duration": 34,
    "start_time": "2025-07-03T06:21:24.539Z"
   },
   {
    "duration": 35,
    "start_time": "2025-07-03T06:21:42.227Z"
   },
   {
    "duration": 29,
    "start_time": "2025-07-03T06:22:49.151Z"
   },
   {
    "duration": 10,
    "start_time": "2025-07-03T06:22:55.043Z"
   },
   {
    "duration": 10,
    "start_time": "2025-07-03T06:25:05.887Z"
   },
   {
    "duration": 407,
    "start_time": "2025-07-03T06:26:27.215Z"
   },
   {
    "duration": 54,
    "start_time": "2025-07-03T06:26:27.624Z"
   },
   {
    "duration": 21,
    "start_time": "2025-07-03T06:26:27.680Z"
   },
   {
    "duration": 17,
    "start_time": "2025-07-03T06:26:27.703Z"
   },
   {
    "duration": 3,
    "start_time": "2025-07-03T06:26:27.723Z"
   },
   {
    "duration": 6,
    "start_time": "2025-07-03T06:26:27.727Z"
   },
   {
    "duration": 33,
    "start_time": "2025-07-03T06:26:27.734Z"
   },
   {
    "duration": 5,
    "start_time": "2025-07-03T06:26:27.776Z"
   },
   {
    "duration": 4,
    "start_time": "2025-07-03T06:26:27.783Z"
   },
   {
    "duration": 19,
    "start_time": "2025-07-03T06:26:27.789Z"
   },
   {
    "duration": 15,
    "start_time": "2025-07-03T06:26:27.812Z"
   },
   {
    "duration": 33,
    "start_time": "2025-07-03T06:26:27.830Z"
   },
   {
    "duration": 17,
    "start_time": "2025-07-03T06:26:27.865Z"
   },
   {
    "duration": 11,
    "start_time": "2025-07-03T06:26:27.885Z"
   },
   {
    "duration": 23,
    "start_time": "2025-07-03T06:26:27.897Z"
   },
   {
    "duration": 62,
    "start_time": "2025-07-03T06:26:27.922Z"
   },
   {
    "duration": 21,
    "start_time": "2025-07-03T06:26:27.986Z"
   },
   {
    "duration": 10,
    "start_time": "2025-07-03T06:26:28.008Z"
   },
   {
    "duration": 8,
    "start_time": "2025-07-03T06:26:28.020Z"
   },
   {
    "duration": 34,
    "start_time": "2025-07-03T06:26:28.030Z"
   },
   {
    "duration": 5,
    "start_time": "2025-07-03T06:26:28.066Z"
   },
   {
    "duration": 6,
    "start_time": "2025-07-03T06:26:28.073Z"
   },
   {
    "duration": 28,
    "start_time": "2025-07-03T06:26:28.081Z"
   },
   {
    "duration": 12,
    "start_time": "2025-07-03T06:26:28.111Z"
   },
   {
    "duration": 37,
    "start_time": "2025-07-03T06:26:28.125Z"
   },
   {
    "duration": 28,
    "start_time": "2025-07-03T06:26:28.165Z"
   },
   {
    "duration": 196,
    "start_time": "2025-07-03T06:26:28.195Z"
   },
   {
    "duration": 15,
    "start_time": "2025-07-03T06:26:28.392Z"
   },
   {
    "duration": 193,
    "start_time": "2025-07-03T06:26:28.409Z"
   },
   {
    "duration": 15,
    "start_time": "2025-07-03T06:26:28.604Z"
   },
   {
    "duration": 38,
    "start_time": "2025-07-03T06:26:28.620Z"
   },
   {
    "duration": 11,
    "start_time": "2025-07-03T06:26:28.660Z"
   },
   {
    "duration": 12,
    "start_time": "2025-07-03T06:26:28.673Z"
   },
   {
    "duration": 22,
    "start_time": "2025-07-03T06:26:28.687Z"
   },
   {
    "duration": 12,
    "start_time": "2025-07-03T06:26:28.710Z"
   },
   {
    "duration": 25,
    "start_time": "2025-07-03T06:26:28.724Z"
   },
   {
    "duration": 16,
    "start_time": "2025-07-03T06:26:28.751Z"
   },
   {
    "duration": 5,
    "start_time": "2025-07-03T06:26:28.769Z"
   },
   {
    "duration": 28,
    "start_time": "2025-07-03T06:26:28.776Z"
   },
   {
    "duration": 15,
    "start_time": "2025-07-03T06:26:28.805Z"
   },
   {
    "duration": 50,
    "start_time": "2025-07-03T06:26:28.824Z"
   },
   {
    "duration": 24,
    "start_time": "2025-07-03T06:26:28.876Z"
   },
   {
    "duration": 63,
    "start_time": "2025-07-03T06:26:28.902Z"
   },
   {
    "duration": 31,
    "start_time": "2025-07-03T06:26:28.968Z"
   },
   {
    "duration": 39,
    "start_time": "2025-07-03T06:26:29.001Z"
   },
   {
    "duration": 15,
    "start_time": "2025-07-03T06:26:29.060Z"
   },
   {
    "duration": 17,
    "start_time": "2025-07-03T06:26:29.077Z"
   },
   {
    "duration": 96,
    "start_time": "2025-07-03T06:26:29.096Z"
   },
   {
    "duration": 0,
    "start_time": "2025-07-03T06:26:29.194Z"
   },
   {
    "duration": 0,
    "start_time": "2025-07-03T06:26:29.195Z"
   },
   {
    "duration": 0,
    "start_time": "2025-07-03T06:26:29.197Z"
   },
   {
    "duration": 8,
    "start_time": "2025-07-03T06:27:28.223Z"
   },
   {
    "duration": 11,
    "start_time": "2025-07-03T06:27:49.344Z"
   },
   {
    "duration": 14,
    "start_time": "2025-07-03T06:27:58.896Z"
   },
   {
    "duration": 15,
    "start_time": "2025-07-03T06:28:17.900Z"
   },
   {
    "duration": 18,
    "start_time": "2025-07-03T06:28:30.740Z"
   },
   {
    "duration": 11,
    "start_time": "2025-07-03T06:29:11.335Z"
   },
   {
    "duration": 16,
    "start_time": "2025-07-03T06:30:06.453Z"
   },
   {
    "duration": 429,
    "start_time": "2025-07-03T06:32:20.071Z"
   },
   {
    "duration": 47,
    "start_time": "2025-07-03T06:32:20.503Z"
   },
   {
    "duration": 31,
    "start_time": "2025-07-03T06:32:20.552Z"
   },
   {
    "duration": 120,
    "start_time": "2025-07-03T06:32:20.584Z"
   },
   {
    "duration": 3,
    "start_time": "2025-07-03T06:32:20.707Z"
   },
   {
    "duration": 23,
    "start_time": "2025-07-03T06:32:20.711Z"
   },
   {
    "duration": 17,
    "start_time": "2025-07-03T06:32:20.735Z"
   },
   {
    "duration": 14,
    "start_time": "2025-07-03T06:32:20.754Z"
   },
   {
    "duration": 27,
    "start_time": "2025-07-03T06:32:20.771Z"
   },
   {
    "duration": 25,
    "start_time": "2025-07-03T06:32:20.799Z"
   },
   {
    "duration": 13,
    "start_time": "2025-07-03T06:32:20.826Z"
   },
   {
    "duration": 7,
    "start_time": "2025-07-03T06:32:20.841Z"
   },
   {
    "duration": 29,
    "start_time": "2025-07-03T06:32:20.850Z"
   },
   {
    "duration": 112,
    "start_time": "2025-07-03T06:32:20.882Z"
   },
   {
    "duration": 28,
    "start_time": "2025-07-03T06:32:20.996Z"
   },
   {
    "duration": 27,
    "start_time": "2025-07-03T06:32:21.026Z"
   },
   {
    "duration": 33,
    "start_time": "2025-07-03T06:32:21.055Z"
   },
   {
    "duration": 10,
    "start_time": "2025-07-03T06:32:21.090Z"
   },
   {
    "duration": 14,
    "start_time": "2025-07-03T06:32:21.101Z"
   },
   {
    "duration": 10,
    "start_time": "2025-07-03T06:32:21.117Z"
   },
   {
    "duration": 39,
    "start_time": "2025-07-03T06:32:21.129Z"
   },
   {
    "duration": 17,
    "start_time": "2025-07-03T06:32:21.174Z"
   },
   {
    "duration": 43,
    "start_time": "2025-07-03T06:32:21.193Z"
   },
   {
    "duration": 11,
    "start_time": "2025-07-03T06:32:21.238Z"
   },
   {
    "duration": 33,
    "start_time": "2025-07-03T06:32:21.251Z"
   },
   {
    "duration": 30,
    "start_time": "2025-07-03T06:32:21.286Z"
   },
   {
    "duration": 215,
    "start_time": "2025-07-03T06:32:21.318Z"
   },
   {
    "duration": 15,
    "start_time": "2025-07-03T06:32:21.535Z"
   },
   {
    "duration": 264,
    "start_time": "2025-07-03T06:32:21.563Z"
   },
   {
    "duration": 15,
    "start_time": "2025-07-03T06:32:21.829Z"
   },
   {
    "duration": 57,
    "start_time": "2025-07-03T06:32:21.846Z"
   },
   {
    "duration": 34,
    "start_time": "2025-07-03T06:32:21.904Z"
   },
   {
    "duration": 41,
    "start_time": "2025-07-03T06:32:21.940Z"
   },
   {
    "duration": 17,
    "start_time": "2025-07-03T06:32:21.983Z"
   },
   {
    "duration": 11,
    "start_time": "2025-07-03T06:32:22.002Z"
   },
   {
    "duration": 26,
    "start_time": "2025-07-03T06:32:22.014Z"
   },
   {
    "duration": 31,
    "start_time": "2025-07-03T06:32:22.041Z"
   },
   {
    "duration": 16,
    "start_time": "2025-07-03T06:32:22.077Z"
   },
   {
    "duration": 7,
    "start_time": "2025-07-03T06:32:22.095Z"
   },
   {
    "duration": 19,
    "start_time": "2025-07-03T06:32:22.103Z"
   },
   {
    "duration": 14,
    "start_time": "2025-07-03T06:32:22.126Z"
   },
   {
    "duration": 44,
    "start_time": "2025-07-03T06:32:22.142Z"
   },
   {
    "duration": 24,
    "start_time": "2025-07-03T06:32:22.188Z"
   },
   {
    "duration": 76,
    "start_time": "2025-07-03T06:32:22.214Z"
   },
   {
    "duration": 29,
    "start_time": "2025-07-03T06:32:22.292Z"
   },
   {
    "duration": 236,
    "start_time": "2025-07-03T06:32:22.322Z"
   },
   {
    "duration": 28,
    "start_time": "2025-07-03T06:32:22.560Z"
   },
   {
    "duration": 95,
    "start_time": "2025-07-03T06:32:22.590Z"
   },
   {
    "duration": 81,
    "start_time": "2025-07-03T06:32:22.687Z"
   },
   {
    "duration": 0,
    "start_time": "2025-07-03T06:32:22.774Z"
   },
   {
    "duration": 0,
    "start_time": "2025-07-03T06:32:22.775Z"
   },
   {
    "duration": 0,
    "start_time": "2025-07-03T06:32:22.777Z"
   },
   {
    "duration": 466,
    "start_time": "2025-07-03T06:39:35.324Z"
   },
   {
    "duration": 91,
    "start_time": "2025-07-03T06:39:35.794Z"
   },
   {
    "duration": 22,
    "start_time": "2025-07-03T06:39:35.886Z"
   },
   {
    "duration": 18,
    "start_time": "2025-07-03T06:39:35.909Z"
   },
   {
    "duration": 3,
    "start_time": "2025-07-03T06:39:35.930Z"
   },
   {
    "duration": 29,
    "start_time": "2025-07-03T06:39:35.935Z"
   },
   {
    "duration": 21,
    "start_time": "2025-07-03T06:39:35.965Z"
   },
   {
    "duration": 4,
    "start_time": "2025-07-03T06:39:35.988Z"
   },
   {
    "duration": 18,
    "start_time": "2025-07-03T06:39:35.994Z"
   },
   {
    "duration": 79,
    "start_time": "2025-07-03T06:39:36.014Z"
   },
   {
    "duration": 15,
    "start_time": "2025-07-03T06:39:36.094Z"
   },
   {
    "duration": 5,
    "start_time": "2025-07-03T06:39:36.110Z"
   },
   {
    "duration": 25,
    "start_time": "2025-07-03T06:39:36.116Z"
   },
   {
    "duration": 29,
    "start_time": "2025-07-03T06:39:36.146Z"
   },
   {
    "duration": 23,
    "start_time": "2025-07-03T06:39:36.177Z"
   },
   {
    "duration": 21,
    "start_time": "2025-07-03T06:39:36.202Z"
   },
   {
    "duration": 54,
    "start_time": "2025-07-03T06:39:36.224Z"
   },
   {
    "duration": 11,
    "start_time": "2025-07-03T06:39:36.280Z"
   },
   {
    "duration": 11,
    "start_time": "2025-07-03T06:39:36.293Z"
   },
   {
    "duration": 9,
    "start_time": "2025-07-03T06:39:36.305Z"
   },
   {
    "duration": 128,
    "start_time": "2025-07-03T06:39:36.316Z"
   },
   {
    "duration": 8,
    "start_time": "2025-07-03T06:39:36.446Z"
   },
   {
    "duration": 22,
    "start_time": "2025-07-03T06:39:36.456Z"
   },
   {
    "duration": 101,
    "start_time": "2025-07-03T06:39:36.479Z"
   },
   {
    "duration": 20,
    "start_time": "2025-07-03T06:39:36.582Z"
   },
   {
    "duration": 105,
    "start_time": "2025-07-03T06:39:36.605Z"
   },
   {
    "duration": 199,
    "start_time": "2025-07-03T06:39:36.712Z"
   },
   {
    "duration": 14,
    "start_time": "2025-07-03T06:39:36.913Z"
   },
   {
    "duration": 251,
    "start_time": "2025-07-03T06:39:36.929Z"
   },
   {
    "duration": 16,
    "start_time": "2025-07-03T06:39:37.181Z"
   },
   {
    "duration": 11,
    "start_time": "2025-07-03T06:39:37.200Z"
   },
   {
    "duration": 15,
    "start_time": "2025-07-03T06:39:37.213Z"
   },
   {
    "duration": 22,
    "start_time": "2025-07-03T06:39:37.260Z"
   },
   {
    "duration": 19,
    "start_time": "2025-07-03T06:39:37.284Z"
   },
   {
    "duration": 14,
    "start_time": "2025-07-03T06:39:37.305Z"
   },
   {
    "duration": 50,
    "start_time": "2025-07-03T06:39:37.320Z"
   },
   {
    "duration": 19,
    "start_time": "2025-07-03T06:39:37.372Z"
   },
   {
    "duration": 12,
    "start_time": "2025-07-03T06:39:37.394Z"
   },
   {
    "duration": 11,
    "start_time": "2025-07-03T06:39:37.408Z"
   },
   {
    "duration": 43,
    "start_time": "2025-07-03T06:39:37.421Z"
   },
   {
    "duration": 60,
    "start_time": "2025-07-03T06:39:37.470Z"
   },
   {
    "duration": 33,
    "start_time": "2025-07-03T06:39:37.533Z"
   },
   {
    "duration": 134,
    "start_time": "2025-07-03T06:39:37.569Z"
   },
   {
    "duration": 50,
    "start_time": "2025-07-03T06:39:37.705Z"
   },
   {
    "duration": 34,
    "start_time": "2025-07-03T06:39:37.765Z"
   },
   {
    "duration": 29,
    "start_time": "2025-07-03T06:39:37.801Z"
   },
   {
    "duration": 36,
    "start_time": "2025-07-03T06:39:37.832Z"
   },
   {
    "duration": 13,
    "start_time": "2025-07-03T06:39:37.871Z"
   },
   {
    "duration": 99,
    "start_time": "2025-07-03T06:39:37.886Z"
   },
   {
    "duration": 0,
    "start_time": "2025-07-03T06:39:37.987Z"
   },
   {
    "duration": 0,
    "start_time": "2025-07-03T06:39:37.988Z"
   },
   {
    "duration": 0,
    "start_time": "2025-07-03T06:39:37.989Z"
   },
   {
    "duration": 6,
    "start_time": "2025-07-03T06:41:52.269Z"
   },
   {
    "duration": 4,
    "start_time": "2025-07-03T06:43:26.890Z"
   },
   {
    "duration": 143,
    "start_time": "2025-07-03T06:43:34.733Z"
   },
   {
    "duration": 4,
    "start_time": "2025-07-03T06:44:25.930Z"
   },
   {
    "duration": 4,
    "start_time": "2025-07-03T06:44:46.084Z"
   },
   {
    "duration": 5,
    "start_time": "2025-07-03T06:46:47.768Z"
   },
   {
    "duration": 145,
    "start_time": "2025-07-03T06:48:00.010Z"
   },
   {
    "duration": 164,
    "start_time": "2025-07-03T06:48:06.741Z"
   },
   {
    "duration": 144,
    "start_time": "2025-07-03T06:48:17.665Z"
   },
   {
    "duration": 119,
    "start_time": "2025-07-03T06:48:37.407Z"
   },
   {
    "duration": 4,
    "start_time": "2025-07-03T06:50:06.477Z"
   },
   {
    "duration": 217,
    "start_time": "2025-07-03T06:51:21.833Z"
   },
   {
    "duration": 185,
    "start_time": "2025-07-03T06:51:37.611Z"
   },
   {
    "duration": 5,
    "start_time": "2025-07-03T06:52:04.477Z"
   },
   {
    "duration": 3,
    "start_time": "2025-07-03T06:55:27.334Z"
   },
   {
    "duration": 4,
    "start_time": "2025-07-03T06:56:02.894Z"
   },
   {
    "duration": 5,
    "start_time": "2025-07-03T06:56:16.019Z"
   },
   {
    "duration": 4,
    "start_time": "2025-07-03T06:56:43.380Z"
   },
   {
    "duration": 4,
    "start_time": "2025-07-03T06:56:51.786Z"
   },
   {
    "duration": 9,
    "start_time": "2025-07-03T07:06:02.510Z"
   },
   {
    "duration": 12,
    "start_time": "2025-07-03T07:06:21.980Z"
   },
   {
    "duration": 126,
    "start_time": "2025-07-03T07:06:43.919Z"
   },
   {
    "duration": 22,
    "start_time": "2025-07-03T07:06:55.164Z"
   },
   {
    "duration": 13,
    "start_time": "2025-07-03T07:08:22.117Z"
   },
   {
    "duration": 409,
    "start_time": "2025-07-03T07:08:34.012Z"
   },
   {
    "duration": 98,
    "start_time": "2025-07-03T07:08:34.423Z"
   },
   {
    "duration": 31,
    "start_time": "2025-07-03T07:08:34.523Z"
   },
   {
    "duration": 30,
    "start_time": "2025-07-03T07:08:34.557Z"
   },
   {
    "duration": 59,
    "start_time": "2025-07-03T07:08:34.590Z"
   },
   {
    "duration": 31,
    "start_time": "2025-07-03T07:08:34.650Z"
   },
   {
    "duration": 4,
    "start_time": "2025-07-03T07:08:34.683Z"
   },
   {
    "duration": 8,
    "start_time": "2025-07-03T07:08:34.689Z"
   },
   {
    "duration": 9,
    "start_time": "2025-07-03T07:08:34.699Z"
   },
   {
    "duration": 124,
    "start_time": "2025-07-03T07:08:34.709Z"
   },
   {
    "duration": 25,
    "start_time": "2025-07-03T07:08:34.836Z"
   },
   {
    "duration": 7,
    "start_time": "2025-07-03T07:08:34.867Z"
   },
   {
    "duration": 14,
    "start_time": "2025-07-03T07:08:34.876Z"
   },
   {
    "duration": 13,
    "start_time": "2025-07-03T07:08:34.895Z"
   },
   {
    "duration": 53,
    "start_time": "2025-07-03T07:08:34.911Z"
   },
   {
    "duration": 35,
    "start_time": "2025-07-03T07:08:34.966Z"
   },
   {
    "duration": 97,
    "start_time": "2025-07-03T07:08:35.003Z"
   },
   {
    "duration": 10,
    "start_time": "2025-07-03T07:08:35.102Z"
   },
   {
    "duration": 28,
    "start_time": "2025-07-03T07:08:35.114Z"
   },
   {
    "duration": 14,
    "start_time": "2025-07-03T07:08:35.145Z"
   },
   {
    "duration": 24,
    "start_time": "2025-07-03T07:08:35.166Z"
   },
   {
    "duration": 44,
    "start_time": "2025-07-03T07:08:35.193Z"
   },
   {
    "duration": 45,
    "start_time": "2025-07-03T07:08:35.240Z"
   },
   {
    "duration": 14,
    "start_time": "2025-07-03T07:08:35.288Z"
   },
   {
    "duration": 13,
    "start_time": "2025-07-03T07:08:35.304Z"
   },
   {
    "duration": 50,
    "start_time": "2025-07-03T07:08:35.319Z"
   },
   {
    "duration": 262,
    "start_time": "2025-07-03T07:08:35.372Z"
   },
   {
    "duration": 33,
    "start_time": "2025-07-03T07:08:35.636Z"
   },
   {
    "duration": 358,
    "start_time": "2025-07-03T07:08:35.674Z"
   },
   {
    "duration": 18,
    "start_time": "2025-07-03T07:08:36.034Z"
   },
   {
    "duration": 25,
    "start_time": "2025-07-03T07:08:36.068Z"
   },
   {
    "duration": 14,
    "start_time": "2025-07-03T07:08:36.095Z"
   },
   {
    "duration": 13,
    "start_time": "2025-07-03T07:08:36.111Z"
   },
   {
    "duration": 46,
    "start_time": "2025-07-03T07:08:36.125Z"
   },
   {
    "duration": 16,
    "start_time": "2025-07-03T07:08:36.181Z"
   },
   {
    "duration": 12,
    "start_time": "2025-07-03T07:08:36.199Z"
   },
   {
    "duration": 25,
    "start_time": "2025-07-03T07:08:36.212Z"
   },
   {
    "duration": 17,
    "start_time": "2025-07-03T07:08:36.239Z"
   },
   {
    "duration": 29,
    "start_time": "2025-07-03T07:08:36.258Z"
   },
   {
    "duration": 20,
    "start_time": "2025-07-03T07:08:36.291Z"
   },
   {
    "duration": 18,
    "start_time": "2025-07-03T07:08:36.316Z"
   },
   {
    "duration": 58,
    "start_time": "2025-07-03T07:08:36.336Z"
   },
   {
    "duration": 33,
    "start_time": "2025-07-03T07:08:36.397Z"
   },
   {
    "duration": 5,
    "start_time": "2025-07-03T07:08:36.432Z"
   },
   {
    "duration": 132,
    "start_time": "2025-07-03T07:08:36.438Z"
   },
   {
    "duration": 34,
    "start_time": "2025-07-03T07:08:36.572Z"
   },
   {
    "duration": 107,
    "start_time": "2025-07-03T07:08:36.608Z"
   },
   {
    "duration": 65,
    "start_time": "2025-07-03T07:08:36.718Z"
   },
   {
    "duration": 37,
    "start_time": "2025-07-03T07:08:36.785Z"
   },
   {
    "duration": 117,
    "start_time": "2025-07-03T07:08:36.824Z"
   },
   {
    "duration": 0,
    "start_time": "2025-07-03T07:08:36.943Z"
   },
   {
    "duration": 0,
    "start_time": "2025-07-03T07:08:36.944Z"
   },
   {
    "duration": 0,
    "start_time": "2025-07-03T07:08:36.947Z"
   },
   {
    "duration": 19,
    "start_time": "2025-07-03T07:09:07.347Z"
   },
   {
    "duration": 422,
    "start_time": "2025-07-04T06:39:43.648Z"
   },
   {
    "duration": 86,
    "start_time": "2025-07-04T06:39:44.072Z"
   },
   {
    "duration": 20,
    "start_time": "2025-07-04T06:39:44.160Z"
   },
   {
    "duration": 16,
    "start_time": "2025-07-04T06:39:44.182Z"
   },
   {
    "duration": 3,
    "start_time": "2025-07-04T06:39:44.200Z"
   },
   {
    "duration": 16,
    "start_time": "2025-07-04T06:39:44.205Z"
   },
   {
    "duration": 3,
    "start_time": "2025-07-04T06:39:44.239Z"
   },
   {
    "duration": 5,
    "start_time": "2025-07-04T06:39:44.244Z"
   },
   {
    "duration": 6,
    "start_time": "2025-07-04T06:39:44.251Z"
   },
   {
    "duration": 18,
    "start_time": "2025-07-04T06:39:44.259Z"
   },
   {
    "duration": 20,
    "start_time": "2025-07-04T06:39:44.279Z"
   },
   {
    "duration": 4,
    "start_time": "2025-07-04T06:39:44.301Z"
   },
   {
    "duration": 36,
    "start_time": "2025-07-04T06:39:44.307Z"
   },
   {
    "duration": 12,
    "start_time": "2025-07-04T06:39:44.345Z"
   },
   {
    "duration": 19,
    "start_time": "2025-07-04T06:39:44.359Z"
   },
   {
    "duration": 20,
    "start_time": "2025-07-04T06:39:44.380Z"
   },
   {
    "duration": 46,
    "start_time": "2025-07-04T06:39:44.402Z"
   },
   {
    "duration": 8,
    "start_time": "2025-07-04T06:39:44.450Z"
   },
   {
    "duration": 8,
    "start_time": "2025-07-04T06:39:44.460Z"
   },
   {
    "duration": 11,
    "start_time": "2025-07-04T06:39:44.470Z"
   },
   {
    "duration": 120,
    "start_time": "2025-07-04T06:39:44.482Z"
   },
   {
    "duration": 22,
    "start_time": "2025-07-04T06:39:44.604Z"
   },
   {
    "duration": 23,
    "start_time": "2025-07-04T06:39:44.628Z"
   },
   {
    "duration": 12,
    "start_time": "2025-07-04T06:39:44.653Z"
   },
   {
    "duration": 11,
    "start_time": "2025-07-04T06:39:44.667Z"
   },
   {
    "duration": 33,
    "start_time": "2025-07-04T06:39:44.680Z"
   },
   {
    "duration": 175,
    "start_time": "2025-07-04T06:39:44.714Z"
   },
   {
    "duration": 14,
    "start_time": "2025-07-04T06:39:44.893Z"
   },
   {
    "duration": 173,
    "start_time": "2025-07-04T06:39:44.909Z"
   },
   {
    "duration": 14,
    "start_time": "2025-07-04T06:39:45.084Z"
   },
   {
    "duration": 203,
    "start_time": "2025-07-04T06:39:45.100Z"
   },
   {
    "duration": 34,
    "start_time": "2025-07-04T06:39:45.305Z"
   },
   {
    "duration": 18,
    "start_time": "2025-07-04T06:39:45.341Z"
   },
   {
    "duration": 32,
    "start_time": "2025-07-04T06:39:45.361Z"
   },
   {
    "duration": 18,
    "start_time": "2025-07-04T06:39:45.396Z"
   },
   {
    "duration": 24,
    "start_time": "2025-07-04T06:39:45.416Z"
   },
   {
    "duration": 25,
    "start_time": "2025-07-04T06:39:45.441Z"
   },
   {
    "duration": 18,
    "start_time": "2025-07-04T06:39:45.467Z"
   },
   {
    "duration": 26,
    "start_time": "2025-07-04T06:39:45.487Z"
   },
   {
    "duration": 17,
    "start_time": "2025-07-04T06:39:45.515Z"
   },
   {
    "duration": 20,
    "start_time": "2025-07-04T06:39:45.534Z"
   },
   {
    "duration": 43,
    "start_time": "2025-07-04T06:39:45.556Z"
   },
   {
    "duration": 25,
    "start_time": "2025-07-04T06:39:45.600Z"
   },
   {
    "duration": 4,
    "start_time": "2025-07-04T06:39:45.627Z"
   },
   {
    "duration": 56,
    "start_time": "2025-07-04T06:39:45.632Z"
   },
   {
    "duration": 25,
    "start_time": "2025-07-04T06:39:45.689Z"
   },
   {
    "duration": 120,
    "start_time": "2025-07-04T06:39:45.716Z"
   },
   {
    "duration": 25,
    "start_time": "2025-07-04T06:39:45.839Z"
   },
   {
    "duration": 14,
    "start_time": "2025-07-04T06:39:45.866Z"
   },
   {
    "duration": 79,
    "start_time": "2025-07-04T06:39:45.882Z"
   },
   {
    "duration": 0,
    "start_time": "2025-07-04T06:39:45.963Z"
   },
   {
    "duration": 0,
    "start_time": "2025-07-04T06:39:45.964Z"
   },
   {
    "duration": 0,
    "start_time": "2025-07-04T06:39:45.966Z"
   },
   {
    "duration": 32,
    "start_time": "2025-07-04T06:58:39.274Z"
   },
   {
    "duration": 34,
    "start_time": "2025-07-04T07:01:44.450Z"
   },
   {
    "duration": 448,
    "start_time": "2025-07-04T07:02:42.529Z"
   },
   {
    "duration": 87,
    "start_time": "2025-07-04T07:02:42.978Z"
   },
   {
    "duration": 21,
    "start_time": "2025-07-04T07:02:43.067Z"
   },
   {
    "duration": 17,
    "start_time": "2025-07-04T07:02:43.090Z"
   },
   {
    "duration": 4,
    "start_time": "2025-07-04T07:02:43.109Z"
   },
   {
    "duration": 5,
    "start_time": "2025-07-04T07:02:43.115Z"
   },
   {
    "duration": 4,
    "start_time": "2025-07-04T07:02:43.141Z"
   },
   {
    "duration": 27,
    "start_time": "2025-07-04T07:02:43.147Z"
   },
   {
    "duration": 4,
    "start_time": "2025-07-04T07:02:43.175Z"
   },
   {
    "duration": 28,
    "start_time": "2025-07-04T07:02:43.181Z"
   },
   {
    "duration": 26,
    "start_time": "2025-07-04T07:02:43.211Z"
   },
   {
    "duration": 15,
    "start_time": "2025-07-04T07:02:43.238Z"
   },
   {
    "duration": 4,
    "start_time": "2025-07-04T07:02:43.255Z"
   },
   {
    "duration": 27,
    "start_time": "2025-07-04T07:02:43.262Z"
   },
   {
    "duration": 11,
    "start_time": "2025-07-04T07:02:43.290Z"
   },
   {
    "duration": 25,
    "start_time": "2025-07-04T07:02:43.303Z"
   },
   {
    "duration": 21,
    "start_time": "2025-07-04T07:02:43.340Z"
   },
   {
    "duration": 20,
    "start_time": "2025-07-04T07:02:43.362Z"
   },
   {
    "duration": 9,
    "start_time": "2025-07-04T07:02:43.383Z"
   },
   {
    "duration": 9,
    "start_time": "2025-07-04T07:02:43.393Z"
   },
   {
    "duration": 41,
    "start_time": "2025-07-04T07:02:43.404Z"
   },
   {
    "duration": 46,
    "start_time": "2025-07-04T07:02:43.446Z"
   },
   {
    "duration": 15,
    "start_time": "2025-07-04T07:02:43.494Z"
   },
   {
    "duration": 50,
    "start_time": "2025-07-04T07:02:43.510Z"
   },
   {
    "duration": 42,
    "start_time": "2025-07-04T07:02:43.562Z"
   },
   {
    "duration": 13,
    "start_time": "2025-07-04T07:02:43.606Z"
   },
   {
    "duration": 20,
    "start_time": "2025-07-04T07:02:43.621Z"
   },
   {
    "duration": 177,
    "start_time": "2025-07-04T07:02:43.643Z"
   },
   {
    "duration": 19,
    "start_time": "2025-07-04T07:02:43.822Z"
   },
   {
    "duration": 178,
    "start_time": "2025-07-04T07:02:43.843Z"
   },
   {
    "duration": 20,
    "start_time": "2025-07-04T07:02:44.022Z"
   },
   {
    "duration": 14,
    "start_time": "2025-07-04T07:02:44.044Z"
   },
   {
    "duration": 13,
    "start_time": "2025-07-04T07:02:44.060Z"
   },
   {
    "duration": 10,
    "start_time": "2025-07-04T07:02:44.075Z"
   },
   {
    "duration": 17,
    "start_time": "2025-07-04T07:02:44.087Z"
   },
   {
    "duration": 39,
    "start_time": "2025-07-04T07:02:44.106Z"
   },
   {
    "duration": 9,
    "start_time": "2025-07-04T07:02:44.147Z"
   },
   {
    "duration": 10,
    "start_time": "2025-07-04T07:02:44.158Z"
   },
   {
    "duration": 15,
    "start_time": "2025-07-04T07:02:44.170Z"
   },
   {
    "duration": 7,
    "start_time": "2025-07-04T07:02:44.187Z"
   },
   {
    "duration": 50,
    "start_time": "2025-07-04T07:02:44.198Z"
   },
   {
    "duration": 16,
    "start_time": "2025-07-04T07:02:44.250Z"
   },
   {
    "duration": 22,
    "start_time": "2025-07-04T07:02:44.268Z"
   },
   {
    "duration": 51,
    "start_time": "2025-07-04T07:02:44.292Z"
   },
   {
    "duration": 4,
    "start_time": "2025-07-04T07:02:44.345Z"
   },
   {
    "duration": 37,
    "start_time": "2025-07-04T07:02:44.351Z"
   },
   {
    "duration": 24,
    "start_time": "2025-07-04T07:02:44.390Z"
   },
   {
    "duration": 26,
    "start_time": "2025-07-04T07:02:44.438Z"
   },
   {
    "duration": 11,
    "start_time": "2025-07-04T07:02:44.465Z"
   },
   {
    "duration": 11,
    "start_time": "2025-07-04T07:02:44.478Z"
   },
   {
    "duration": 99,
    "start_time": "2025-07-04T07:02:44.491Z"
   },
   {
    "duration": 0,
    "start_time": "2025-07-04T07:02:44.591Z"
   },
   {
    "duration": 0,
    "start_time": "2025-07-04T07:02:44.592Z"
   },
   {
    "duration": 0,
    "start_time": "2025-07-04T07:02:44.593Z"
   },
   {
    "duration": 14,
    "start_time": "2025-07-04T07:05:28.982Z"
   },
   {
    "duration": 22,
    "start_time": "2025-07-04T07:05:37.800Z"
   },
   {
    "duration": 20,
    "start_time": "2025-07-04T07:05:45.872Z"
   },
   {
    "duration": 135,
    "start_time": "2025-07-04T07:05:59.352Z"
   },
   {
    "duration": 10,
    "start_time": "2025-07-04T07:07:01.609Z"
   },
   {
    "duration": 89,
    "start_time": "2025-07-04T07:08:19.442Z"
   },
   {
    "duration": 13,
    "start_time": "2025-07-04T07:08:26.174Z"
   },
   {
    "duration": 14,
    "start_time": "2025-07-04T07:08:56.408Z"
   },
   {
    "duration": 11,
    "start_time": "2025-07-04T07:09:23.324Z"
   },
   {
    "duration": 87,
    "start_time": "2025-07-04T07:09:35.214Z"
   },
   {
    "duration": 11,
    "start_time": "2025-07-04T07:09:50.545Z"
   },
   {
    "duration": 10,
    "start_time": "2025-07-04T07:10:28.585Z"
   },
   {
    "duration": 26,
    "start_time": "2025-07-04T07:12:04.956Z"
   },
   {
    "duration": 19,
    "start_time": "2025-07-04T07:12:34.778Z"
   },
   {
    "duration": 35,
    "start_time": "2025-07-04T07:14:31.434Z"
   },
   {
    "duration": 20,
    "start_time": "2025-07-04T07:15:26.640Z"
   },
   {
    "duration": 7,
    "start_time": "2025-07-04T07:15:46.477Z"
   },
   {
    "duration": 11,
    "start_time": "2025-07-04T07:17:21.693Z"
   },
   {
    "duration": 15,
    "start_time": "2025-07-04T07:18:27.500Z"
   },
   {
    "duration": 10,
    "start_time": "2025-07-04T07:18:43.524Z"
   },
   {
    "duration": 12,
    "start_time": "2025-07-04T07:19:35.607Z"
   },
   {
    "duration": 20,
    "start_time": "2025-07-04T07:19:51.840Z"
   },
   {
    "duration": 14,
    "start_time": "2025-07-04T07:20:40.832Z"
   },
   {
    "duration": 12,
    "start_time": "2025-07-04T07:21:20.257Z"
   },
   {
    "duration": 12,
    "start_time": "2025-07-04T07:21:33.425Z"
   },
   {
    "duration": 13,
    "start_time": "2025-07-04T07:22:25.022Z"
   },
   {
    "duration": 6,
    "start_time": "2025-07-04T07:22:51.560Z"
   },
   {
    "duration": 34,
    "start_time": "2025-07-04T07:22:57.526Z"
   },
   {
    "duration": 442,
    "start_time": "2025-07-04T07:37:33.338Z"
   },
   {
    "duration": 76,
    "start_time": "2025-07-04T07:37:33.782Z"
   },
   {
    "duration": 21,
    "start_time": "2025-07-04T07:37:33.860Z"
   },
   {
    "duration": 68,
    "start_time": "2025-07-04T07:37:33.883Z"
   },
   {
    "duration": 28,
    "start_time": "2025-07-04T07:37:33.954Z"
   },
   {
    "duration": 6,
    "start_time": "2025-07-04T07:37:33.984Z"
   },
   {
    "duration": 6,
    "start_time": "2025-07-04T07:37:33.992Z"
   },
   {
    "duration": 45,
    "start_time": "2025-07-04T07:37:34.000Z"
   },
   {
    "duration": 4,
    "start_time": "2025-07-04T07:37:34.046Z"
   },
   {
    "duration": 41,
    "start_time": "2025-07-04T07:37:34.052Z"
   },
   {
    "duration": 20,
    "start_time": "2025-07-04T07:37:34.095Z"
   },
   {
    "duration": 14,
    "start_time": "2025-07-04T07:37:34.117Z"
   },
   {
    "duration": 6,
    "start_time": "2025-07-04T07:37:34.133Z"
   },
   {
    "duration": 17,
    "start_time": "2025-07-04T07:37:34.142Z"
   },
   {
    "duration": 21,
    "start_time": "2025-07-04T07:37:34.160Z"
   },
   {
    "duration": 21,
    "start_time": "2025-07-04T07:37:34.183Z"
   },
   {
    "duration": 20,
    "start_time": "2025-07-04T07:37:34.205Z"
   },
   {
    "duration": 21,
    "start_time": "2025-07-04T07:37:34.239Z"
   },
   {
    "duration": 9,
    "start_time": "2025-07-04T07:37:34.262Z"
   },
   {
    "duration": 24,
    "start_time": "2025-07-04T07:37:34.273Z"
   },
   {
    "duration": 14,
    "start_time": "2025-07-04T07:37:34.298Z"
   },
   {
    "duration": 18,
    "start_time": "2025-07-04T07:37:34.314Z"
   },
   {
    "duration": 8,
    "start_time": "2025-07-04T07:37:34.334Z"
   },
   {
    "duration": 24,
    "start_time": "2025-07-04T07:37:34.344Z"
   },
   {
    "duration": 27,
    "start_time": "2025-07-04T07:37:34.370Z"
   },
   {
    "duration": 18,
    "start_time": "2025-07-04T07:37:34.399Z"
   },
   {
    "duration": 28,
    "start_time": "2025-07-04T07:37:34.419Z"
   },
   {
    "duration": 195,
    "start_time": "2025-07-04T07:37:34.449Z"
   },
   {
    "duration": 14,
    "start_time": "2025-07-04T07:37:34.646Z"
   },
   {
    "duration": 180,
    "start_time": "2025-07-04T07:37:34.662Z"
   },
   {
    "duration": 15,
    "start_time": "2025-07-04T07:37:34.844Z"
   },
   {
    "duration": 69,
    "start_time": "2025-07-04T07:37:34.860Z"
   },
   {
    "duration": 11,
    "start_time": "2025-07-04T07:37:34.931Z"
   },
   {
    "duration": 11,
    "start_time": "2025-07-04T07:37:34.944Z"
   },
   {
    "duration": 54,
    "start_time": "2025-07-04T07:37:34.956Z"
   },
   {
    "duration": 32,
    "start_time": "2025-07-04T07:37:35.011Z"
   },
   {
    "duration": 26,
    "start_time": "2025-07-04T07:37:35.045Z"
   },
   {
    "duration": 24,
    "start_time": "2025-07-04T07:37:35.072Z"
   },
   {
    "duration": 37,
    "start_time": "2025-07-04T07:37:35.098Z"
   },
   {
    "duration": 7,
    "start_time": "2025-07-04T07:37:35.136Z"
   },
   {
    "duration": 15,
    "start_time": "2025-07-04T07:37:35.147Z"
   },
   {
    "duration": 42,
    "start_time": "2025-07-04T07:37:35.163Z"
   },
   {
    "duration": 29,
    "start_time": "2025-07-04T07:37:35.207Z"
   },
   {
    "duration": 29,
    "start_time": "2025-07-04T07:37:35.237Z"
   },
   {
    "duration": 12,
    "start_time": "2025-07-04T07:37:35.268Z"
   },
   {
    "duration": 21,
    "start_time": "2025-07-04T07:37:35.282Z"
   },
   {
    "duration": 33,
    "start_time": "2025-07-04T07:37:35.305Z"
   },
   {
    "duration": 50,
    "start_time": "2025-07-04T07:37:35.340Z"
   },
   {
    "duration": 129,
    "start_time": "2025-07-04T07:37:35.391Z"
   },
   {
    "duration": 35,
    "start_time": "2025-07-04T07:37:35.522Z"
   },
   {
    "duration": 14,
    "start_time": "2025-07-04T07:37:35.559Z"
   },
   {
    "duration": 76,
    "start_time": "2025-07-04T07:39:15.249Z"
   },
   {
    "duration": 12,
    "start_time": "2025-07-04T07:48:55.431Z"
   },
   {
    "duration": 13,
    "start_time": "2025-07-04T07:49:06.645Z"
   },
   {
    "duration": 423,
    "start_time": "2025-07-04T07:49:35.205Z"
   },
   {
    "duration": 86,
    "start_time": "2025-07-04T07:49:35.630Z"
   },
   {
    "duration": 20,
    "start_time": "2025-07-04T07:49:35.725Z"
   },
   {
    "duration": 42,
    "start_time": "2025-07-04T07:49:35.747Z"
   },
   {
    "duration": 23,
    "start_time": "2025-07-04T07:49:35.791Z"
   },
   {
    "duration": 27,
    "start_time": "2025-07-04T07:49:35.815Z"
   },
   {
    "duration": 23,
    "start_time": "2025-07-04T07:49:35.844Z"
   },
   {
    "duration": 60,
    "start_time": "2025-07-04T07:49:35.868Z"
   },
   {
    "duration": 4,
    "start_time": "2025-07-04T07:49:35.930Z"
   },
   {
    "duration": 62,
    "start_time": "2025-07-04T07:49:35.935Z"
   },
   {
    "duration": 23,
    "start_time": "2025-07-04T07:49:35.999Z"
   },
   {
    "duration": 17,
    "start_time": "2025-07-04T07:49:36.024Z"
   },
   {
    "duration": 4,
    "start_time": "2025-07-04T07:49:36.043Z"
   },
   {
    "duration": 44,
    "start_time": "2025-07-04T07:49:36.050Z"
   },
   {
    "duration": 34,
    "start_time": "2025-07-04T07:49:36.095Z"
   },
   {
    "duration": 23,
    "start_time": "2025-07-04T07:49:36.131Z"
   },
   {
    "duration": 51,
    "start_time": "2025-07-04T07:49:36.155Z"
   },
   {
    "duration": 62,
    "start_time": "2025-07-04T07:49:36.207Z"
   },
   {
    "duration": 15,
    "start_time": "2025-07-04T07:49:36.270Z"
   },
   {
    "duration": 49,
    "start_time": "2025-07-04T07:49:36.287Z"
   },
   {
    "duration": 17,
    "start_time": "2025-07-04T07:49:36.337Z"
   },
   {
    "duration": 36,
    "start_time": "2025-07-04T07:49:36.356Z"
   },
   {
    "duration": 48,
    "start_time": "2025-07-04T07:49:36.394Z"
   },
   {
    "duration": 42,
    "start_time": "2025-07-04T07:49:36.443Z"
   },
   {
    "duration": 12,
    "start_time": "2025-07-04T07:49:36.487Z"
   },
   {
    "duration": 38,
    "start_time": "2025-07-04T07:49:36.501Z"
   },
   {
    "duration": 14,
    "start_time": "2025-07-04T07:49:36.541Z"
   },
   {
    "duration": 240,
    "start_time": "2025-07-04T07:49:36.557Z"
   },
   {
    "duration": 14,
    "start_time": "2025-07-04T07:49:36.799Z"
   },
   {
    "duration": 183,
    "start_time": "2025-07-04T07:49:36.815Z"
   },
   {
    "duration": 14,
    "start_time": "2025-07-04T07:49:37.000Z"
   },
   {
    "duration": 68,
    "start_time": "2025-07-04T07:49:37.016Z"
   },
   {
    "duration": 38,
    "start_time": "2025-07-04T07:49:37.086Z"
   },
   {
    "duration": 14,
    "start_time": "2025-07-04T07:49:37.126Z"
   },
   {
    "duration": 50,
    "start_time": "2025-07-04T07:49:37.142Z"
   },
   {
    "duration": 30,
    "start_time": "2025-07-04T07:49:37.194Z"
   },
   {
    "duration": 30,
    "start_time": "2025-07-04T07:49:37.226Z"
   },
   {
    "duration": 34,
    "start_time": "2025-07-04T07:49:37.257Z"
   },
   {
    "duration": 33,
    "start_time": "2025-07-04T07:49:37.293Z"
   },
   {
    "duration": 18,
    "start_time": "2025-07-04T07:49:37.328Z"
   },
   {
    "duration": 15,
    "start_time": "2025-07-04T07:49:37.350Z"
   },
   {
    "duration": 15,
    "start_time": "2025-07-04T07:49:37.367Z"
   },
   {
    "duration": 25,
    "start_time": "2025-07-04T07:49:37.383Z"
   },
   {
    "duration": 112,
    "start_time": "2025-07-04T07:49:37.409Z"
   },
   {
    "duration": 40,
    "start_time": "2025-07-04T07:49:37.523Z"
   },
   {
    "duration": 19,
    "start_time": "2025-07-04T07:49:37.566Z"
   },
   {
    "duration": 11,
    "start_time": "2025-07-04T07:49:37.587Z"
   },
   {
    "duration": 41,
    "start_time": "2025-07-04T07:49:37.600Z"
   },
   {
    "duration": 14,
    "start_time": "2025-07-04T07:49:37.642Z"
   },
   {
    "duration": 12,
    "start_time": "2025-07-04T07:49:37.657Z"
   },
   {
    "duration": 12,
    "start_time": "2025-07-04T07:49:37.671Z"
   },
   {
    "duration": 381,
    "start_time": "2025-07-04T07:54:47.102Z"
   },
   {
    "duration": 89,
    "start_time": "2025-07-04T07:54:47.485Z"
   },
   {
    "duration": 28,
    "start_time": "2025-07-04T07:54:47.576Z"
   },
   {
    "duration": 34,
    "start_time": "2025-07-04T07:54:47.606Z"
   },
   {
    "duration": 3,
    "start_time": "2025-07-04T07:54:47.642Z"
   },
   {
    "duration": 3,
    "start_time": "2025-07-04T07:54:47.647Z"
   },
   {
    "duration": 7,
    "start_time": "2025-07-04T07:54:47.652Z"
   },
   {
    "duration": 39,
    "start_time": "2025-07-04T07:54:47.660Z"
   },
   {
    "duration": 7,
    "start_time": "2025-07-04T07:54:47.700Z"
   },
   {
    "duration": 19,
    "start_time": "2025-07-04T07:54:47.709Z"
   },
   {
    "duration": 26,
    "start_time": "2025-07-04T07:54:47.730Z"
   },
   {
    "duration": 21,
    "start_time": "2025-07-04T07:54:47.757Z"
   },
   {
    "duration": 4,
    "start_time": "2025-07-04T07:54:47.780Z"
   },
   {
    "duration": 21,
    "start_time": "2025-07-04T07:54:47.787Z"
   },
   {
    "duration": 38,
    "start_time": "2025-07-04T07:54:47.810Z"
   },
   {
    "duration": 21,
    "start_time": "2025-07-04T07:54:47.850Z"
   },
   {
    "duration": 21,
    "start_time": "2025-07-04T07:54:47.873Z"
   },
   {
    "duration": 44,
    "start_time": "2025-07-04T07:54:47.895Z"
   },
   {
    "duration": 8,
    "start_time": "2025-07-04T07:54:47.941Z"
   },
   {
    "duration": 113,
    "start_time": "2025-07-04T07:54:47.951Z"
   },
   {
    "duration": 16,
    "start_time": "2025-07-04T07:54:48.065Z"
   },
   {
    "duration": 10,
    "start_time": "2025-07-04T07:54:48.083Z"
   },
   {
    "duration": 24,
    "start_time": "2025-07-04T07:54:48.094Z"
   },
   {
    "duration": 17,
    "start_time": "2025-07-04T07:54:48.120Z"
   },
   {
    "duration": 12,
    "start_time": "2025-07-04T07:54:48.139Z"
   },
   {
    "duration": 11,
    "start_time": "2025-07-04T07:54:48.153Z"
   },
   {
    "duration": 14,
    "start_time": "2025-07-04T07:54:48.165Z"
   },
   {
    "duration": 194,
    "start_time": "2025-07-04T07:54:48.180Z"
   },
   {
    "duration": 13,
    "start_time": "2025-07-04T07:54:48.376Z"
   },
   {
    "duration": 167,
    "start_time": "2025-07-04T07:54:48.391Z"
   },
   {
    "duration": 14,
    "start_time": "2025-07-04T07:54:48.560Z"
   },
   {
    "duration": 12,
    "start_time": "2025-07-04T07:54:48.575Z"
   },
   {
    "duration": 15,
    "start_time": "2025-07-04T07:54:48.589Z"
   },
   {
    "duration": 14,
    "start_time": "2025-07-04T07:54:48.605Z"
   },
   {
    "duration": 40,
    "start_time": "2025-07-04T07:54:48.621Z"
   },
   {
    "duration": 9,
    "start_time": "2025-07-04T07:54:48.663Z"
   },
   {
    "duration": 10,
    "start_time": "2025-07-04T07:54:48.673Z"
   },
   {
    "duration": 14,
    "start_time": "2025-07-04T07:54:48.685Z"
   },
   {
    "duration": 16,
    "start_time": "2025-07-04T07:54:48.701Z"
   },
   {
    "duration": 23,
    "start_time": "2025-07-04T07:54:48.719Z"
   },
   {
    "duration": 15,
    "start_time": "2025-07-04T07:54:48.745Z"
   },
   {
    "duration": 13,
    "start_time": "2025-07-04T07:54:48.762Z"
   },
   {
    "duration": 35,
    "start_time": "2025-07-04T07:54:48.776Z"
   },
   {
    "duration": 35,
    "start_time": "2025-07-04T07:54:48.813Z"
   },
   {
    "duration": 3,
    "start_time": "2025-07-04T07:54:48.850Z"
   },
   {
    "duration": 10,
    "start_time": "2025-07-04T07:54:48.855Z"
   },
   {
    "duration": 8,
    "start_time": "2025-07-04T07:54:48.867Z"
   },
   {
    "duration": 19,
    "start_time": "2025-07-04T07:54:48.876Z"
   },
   {
    "duration": 135,
    "start_time": "2025-07-04T07:54:48.897Z"
   },
   {
    "duration": 11,
    "start_time": "2025-07-04T07:54:49.034Z"
   },
   {
    "duration": 14,
    "start_time": "2025-07-04T07:54:49.047Z"
   },
   {
    "duration": 100,
    "start_time": "2025-07-04T10:58:29.637Z"
   },
   {
    "duration": 444,
    "start_time": "2025-07-04T11:01:47.021Z"
   },
   {
    "duration": 48,
    "start_time": "2025-07-05T08:35:07.118Z"
   },
   {
    "duration": 417,
    "start_time": "2025-07-05T08:35:54.423Z"
   },
   {
    "duration": 278,
    "start_time": "2025-07-05T08:35:54.843Z"
   },
   {
    "duration": 19,
    "start_time": "2025-07-05T08:35:55.122Z"
   },
   {
    "duration": 55,
    "start_time": "2025-07-05T08:35:55.142Z"
   },
   {
    "duration": 2,
    "start_time": "2025-07-05T08:35:55.200Z"
   },
   {
    "duration": 15,
    "start_time": "2025-07-05T08:35:55.204Z"
   },
   {
    "duration": 15,
    "start_time": "2025-07-05T08:35:55.221Z"
   },
   {
    "duration": 23,
    "start_time": "2025-07-05T08:35:55.238Z"
   },
   {
    "duration": 3,
    "start_time": "2025-07-05T08:35:55.263Z"
   },
   {
    "duration": 14,
    "start_time": "2025-07-05T08:35:55.268Z"
   },
   {
    "duration": 21,
    "start_time": "2025-07-05T08:35:55.283Z"
   },
   {
    "duration": 13,
    "start_time": "2025-07-05T08:35:55.305Z"
   },
   {
    "duration": 4,
    "start_time": "2025-07-05T08:35:55.319Z"
   },
   {
    "duration": 10,
    "start_time": "2025-07-05T08:35:55.325Z"
   },
   {
    "duration": 15,
    "start_time": "2025-07-05T08:35:55.337Z"
   },
   {
    "duration": 17,
    "start_time": "2025-07-05T08:35:55.354Z"
   },
   {
    "duration": 45,
    "start_time": "2025-07-05T08:35:55.372Z"
   },
   {
    "duration": 21,
    "start_time": "2025-07-05T08:35:55.418Z"
   },
   {
    "duration": 77,
    "start_time": "2025-07-05T08:35:55.440Z"
   },
   {
    "duration": 7,
    "start_time": "2025-07-05T08:35:55.519Z"
   },
   {
    "duration": 8,
    "start_time": "2025-07-05T08:35:55.528Z"
   },
   {
    "duration": 10,
    "start_time": "2025-07-05T08:35:55.537Z"
   },
   {
    "duration": 4,
    "start_time": "2025-07-05T08:35:55.548Z"
   },
   {
    "duration": 19,
    "start_time": "2025-07-05T08:35:55.553Z"
   },
   {
    "duration": 27,
    "start_time": "2025-07-05T08:35:55.574Z"
   },
   {
    "duration": 11,
    "start_time": "2025-07-05T08:35:55.603Z"
   },
   {
    "duration": 42,
    "start_time": "2025-07-05T08:35:55.616Z"
   },
   {
    "duration": 169,
    "start_time": "2025-07-05T08:35:55.660Z"
   },
   {
    "duration": 14,
    "start_time": "2025-07-05T08:35:55.830Z"
   },
   {
    "duration": 189,
    "start_time": "2025-07-05T08:35:55.846Z"
   },
   {
    "duration": 13,
    "start_time": "2025-07-05T08:35:56.036Z"
   },
   {
    "duration": 9,
    "start_time": "2025-07-05T08:35:56.050Z"
   },
   {
    "duration": 13,
    "start_time": "2025-07-05T08:35:56.061Z"
   },
   {
    "duration": 23,
    "start_time": "2025-07-05T08:35:56.076Z"
   },
   {
    "duration": 32,
    "start_time": "2025-07-05T08:35:56.101Z"
   },
   {
    "duration": 15,
    "start_time": "2025-07-05T08:35:56.135Z"
   },
   {
    "duration": 10,
    "start_time": "2025-07-05T08:35:56.151Z"
   },
   {
    "duration": 39,
    "start_time": "2025-07-05T08:35:56.162Z"
   },
   {
    "duration": 14,
    "start_time": "2025-07-05T08:35:56.202Z"
   },
   {
    "duration": 98,
    "start_time": "2025-07-05T08:35:56.217Z"
   },
   {
    "duration": 20,
    "start_time": "2025-07-05T08:35:56.319Z"
   },
   {
    "duration": 16,
    "start_time": "2025-07-05T08:35:56.341Z"
   },
   {
    "duration": 13,
    "start_time": "2025-07-05T08:35:56.359Z"
   },
   {
    "duration": 20,
    "start_time": "2025-07-05T08:35:56.373Z"
   },
   {
    "duration": 22,
    "start_time": "2025-07-05T08:35:56.394Z"
   },
   {
    "duration": 4,
    "start_time": "2025-07-05T08:35:56.417Z"
   },
   {
    "duration": 9,
    "start_time": "2025-07-05T08:35:56.423Z"
   },
   {
    "duration": 7,
    "start_time": "2025-07-05T08:35:56.433Z"
   },
   {
    "duration": 42,
    "start_time": "2025-07-05T08:35:56.442Z"
   },
   {
    "duration": 25,
    "start_time": "2025-07-05T08:35:56.485Z"
   },
   {
    "duration": 16,
    "start_time": "2025-07-05T08:35:56.512Z"
   },
   {
    "duration": 16,
    "start_time": "2025-07-05T08:35:56.529Z"
   },
   {
    "duration": 9,
    "start_time": "2025-07-05T08:40:46.833Z"
   },
   {
    "duration": 9,
    "start_time": "2025-07-05T08:40:52.942Z"
   },
   {
    "duration": 410,
    "start_time": "2025-07-05T08:44:38.106Z"
   },
   {
    "duration": 71,
    "start_time": "2025-07-05T08:44:38.518Z"
   },
   {
    "duration": 19,
    "start_time": "2025-07-05T08:44:38.591Z"
   },
   {
    "duration": 16,
    "start_time": "2025-07-05T08:44:38.612Z"
   },
   {
    "duration": 6,
    "start_time": "2025-07-05T08:44:38.630Z"
   },
   {
    "duration": 5,
    "start_time": "2025-07-05T08:44:38.637Z"
   },
   {
    "duration": 8,
    "start_time": "2025-07-05T08:44:38.643Z"
   },
   {
    "duration": 50,
    "start_time": "2025-07-05T08:44:38.652Z"
   },
   {
    "duration": 5,
    "start_time": "2025-07-05T08:44:38.704Z"
   },
   {
    "duration": 5,
    "start_time": "2025-07-05T08:44:38.711Z"
   },
   {
    "duration": 22,
    "start_time": "2025-07-05T08:44:38.717Z"
   },
   {
    "duration": 87,
    "start_time": "2025-07-05T08:44:38.740Z"
   },
   {
    "duration": 9,
    "start_time": "2025-07-05T08:44:38.829Z"
   },
   {
    "duration": 24,
    "start_time": "2025-07-05T08:44:38.841Z"
   },
   {
    "duration": 12,
    "start_time": "2025-07-05T08:44:38.867Z"
   },
   {
    "duration": 20,
    "start_time": "2025-07-05T08:44:38.881Z"
   },
   {
    "duration": 19,
    "start_time": "2025-07-05T08:44:38.903Z"
   },
   {
    "duration": 22,
    "start_time": "2025-07-05T08:44:38.923Z"
   },
   {
    "duration": 10,
    "start_time": "2025-07-05T08:44:38.946Z"
   },
   {
    "duration": 8,
    "start_time": "2025-07-05T08:44:38.958Z"
   },
   {
    "duration": 9,
    "start_time": "2025-07-05T08:44:38.998Z"
   },
   {
    "duration": 7,
    "start_time": "2025-07-05T08:44:39.008Z"
   },
   {
    "duration": 21,
    "start_time": "2025-07-05T08:44:39.017Z"
   },
   {
    "duration": 18,
    "start_time": "2025-07-05T08:44:39.040Z"
   },
   {
    "duration": 11,
    "start_time": "2025-07-05T08:44:39.060Z"
   },
   {
    "duration": 29,
    "start_time": "2025-07-05T08:44:39.072Z"
   },
   {
    "duration": 14,
    "start_time": "2025-07-05T08:44:39.102Z"
   },
   {
    "duration": 226,
    "start_time": "2025-07-05T08:44:39.118Z"
   },
   {
    "duration": 14,
    "start_time": "2025-07-05T08:44:39.345Z"
   },
   {
    "duration": 189,
    "start_time": "2025-07-05T08:44:39.361Z"
   },
   {
    "duration": 15,
    "start_time": "2025-07-05T08:44:39.551Z"
   },
   {
    "duration": 32,
    "start_time": "2025-07-05T08:44:39.567Z"
   },
   {
    "duration": 11,
    "start_time": "2025-07-05T08:44:39.601Z"
   },
   {
    "duration": 10,
    "start_time": "2025-07-05T08:44:39.613Z"
   },
   {
    "duration": 22,
    "start_time": "2025-07-05T08:44:39.624Z"
   },
   {
    "duration": 18,
    "start_time": "2025-07-05T08:44:39.647Z"
   },
   {
    "duration": 36,
    "start_time": "2025-07-05T08:44:39.667Z"
   },
   {
    "duration": 10,
    "start_time": "2025-07-05T08:44:39.704Z"
   },
   {
    "duration": 12,
    "start_time": "2025-07-05T08:44:39.715Z"
   },
   {
    "duration": 14,
    "start_time": "2025-07-05T08:44:39.728Z"
   },
   {
    "duration": 20,
    "start_time": "2025-07-05T08:44:39.745Z"
   },
   {
    "duration": 34,
    "start_time": "2025-07-05T08:44:39.767Z"
   },
   {
    "duration": 21,
    "start_time": "2025-07-05T08:44:39.803Z"
   },
   {
    "duration": 23,
    "start_time": "2025-07-05T08:44:39.826Z"
   },
   {
    "duration": 4,
    "start_time": "2025-07-05T08:44:39.850Z"
   },
   {
    "duration": 13,
    "start_time": "2025-07-05T08:44:39.855Z"
   },
   {
    "duration": 34,
    "start_time": "2025-07-05T08:44:39.869Z"
   },
   {
    "duration": 145,
    "start_time": "2025-07-05T08:44:39.905Z"
   },
   {
    "duration": 87,
    "start_time": "2025-07-05T08:44:40.051Z"
   },
   {
    "duration": 17,
    "start_time": "2025-07-05T08:44:40.139Z"
   },
   {
    "duration": 19,
    "start_time": "2025-07-05T08:44:40.158Z"
   }
  ],
  "colab": {
   "provenance": []
  },
  "kernelspec": {
   "display_name": "Python 3 (ipykernel)",
   "language": "python",
   "name": "python3"
  },
  "language_info": {
   "codemirror_mode": {
    "name": "ipython",
    "version": 3
   },
   "file_extension": ".py",
   "mimetype": "text/x-python",
   "name": "python",
   "nbconvert_exporter": "python",
   "pygments_lexer": "ipython3",
   "version": "3.13.5"
  },
  "toc": {
   "base_numbering": 1,
   "nav_menu": {},
   "number_sections": true,
   "sideBar": true,
   "skip_h1_title": true,
   "title_cell": "Table of Contents",
   "title_sidebar": "Contents",
   "toc_cell": false,
   "toc_position": {},
   "toc_section_display": true,
   "toc_window_display": false
  }
 },
 "nbformat": 4,
 "nbformat_minor": 5
}
